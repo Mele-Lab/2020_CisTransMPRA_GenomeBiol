{
 "cells": [
  {
   "cell_type": "markdown",
   "metadata": {},
   "source": [
    "# 01__diff_expr\n",
    "by Winona\n",
    "\n",
    "notebook to run edgeR pipeline to find diff expr genes between hESCs and mESCs. DEseq2 is used to quantify tpms"
   ]
  },
  {
   "cell_type": "code",
   "execution_count": 1,
   "metadata": {},
   "outputs": [],
   "source": [
    "if (!requireNamespace(\"BiocManager\", quietly = TRUE))\n",
    "    install.packages(\"BiocManager\")"
   ]
  },
  {
   "cell_type": "code",
   "execution_count": 2,
   "metadata": {},
   "outputs": [],
   "source": [
    "options(install.packages.compile.from.source=\"interactive\")"
   ]
  },
  {
   "cell_type": "code",
   "execution_count": 3,
   "metadata": {},
   "outputs": [],
   "source": [
    "# BiocManager::install(\"GenomicRanges\")"
   ]
  },
  {
   "cell_type": "code",
   "execution_count": 4,
   "metadata": {},
   "outputs": [],
   "source": [
    "# BiocManager::install(\"DESeq2\")"
   ]
  },
  {
   "cell_type": "code",
   "execution_count": 5,
   "metadata": {},
   "outputs": [],
   "source": [
    "suppressMessages(library(\"DESeq2\"))"
   ]
  },
  {
   "cell_type": "markdown",
   "metadata": {},
   "source": [
    "## 1. load data"
   ]
  },
  {
   "cell_type": "code",
   "execution_count": 6,
   "metadata": {},
   "outputs": [
    {
     "data": {
      "text/html": [
       "<table>\n",
       "<thead><tr><th></th><th scope=col>rep1</th><th scope=col>rep2</th><th scope=col>rep3</th></tr></thead>\n",
       "<tbody>\n",
       "\t<tr><th scope=row>ENSG00000223972</th><td>  0</td><td>  0</td><td>  0</td></tr>\n",
       "\t<tr><th scope=row>ENSG00000227232</th><td>351</td><td>409</td><td>318</td></tr>\n",
       "\t<tr><th scope=row>ENSG00000243485</th><td>  0</td><td>  0</td><td>  1</td></tr>\n",
       "\t<tr><th scope=row>ENSG00000237613</th><td>  0</td><td>  0</td><td>  0</td></tr>\n",
       "\t<tr><th scope=row>ENSG00000268020</th><td>  0</td><td>  0</td><td>  0</td></tr>\n",
       "\t<tr><th scope=row>ENSG00000240361</th><td>  0</td><td>  0</td><td>  0</td></tr>\n",
       "</tbody>\n",
       "</table>\n"
      ],
      "text/latex": [
       "\\begin{tabular}{r|lll}\n",
       "  & rep1 & rep2 & rep3\\\\\n",
       "\\hline\n",
       "\tENSG00000223972 &   0 &   0 &   0\\\\\n",
       "\tENSG00000227232 & 351 & 409 & 318\\\\\n",
       "\tENSG00000243485 &   0 &   0 &   1\\\\\n",
       "\tENSG00000237613 &   0 &   0 &   0\\\\\n",
       "\tENSG00000268020 &   0 &   0 &   0\\\\\n",
       "\tENSG00000240361 &   0 &   0 &   0\\\\\n",
       "\\end{tabular}\n"
      ],
      "text/markdown": [
       "\n",
       "| <!--/--> | rep1 | rep2 | rep3 |\n",
       "|---|---|---|---|\n",
       "| ENSG00000223972 |   0 |   0 |   0 |\n",
       "| ENSG00000227232 | 351 | 409 | 318 |\n",
       "| ENSG00000243485 |   0 |   0 |   1 |\n",
       "| ENSG00000237613 |   0 |   0 |   0 |\n",
       "| ENSG00000268020 |   0 |   0 |   0 |\n",
       "| ENSG00000240361 |   0 |   0 |   0 |\n",
       "\n"
      ],
      "text/plain": [
       "                rep1 rep2 rep3\n",
       "ENSG00000223972   0    0    0 \n",
       "ENSG00000227232 351  409  318 \n",
       "ENSG00000243485   0    0    1 \n",
       "ENSG00000237613   0    0    0 \n",
       "ENSG00000268020   0    0    0 \n",
       "ENSG00000240361   0    0    0 "
      ]
     },
     "metadata": {},
     "output_type": "display_data"
    }
   ],
   "source": [
    "human_cts <- read.csv(\"../../../data/03__rna_seq/00__HUES64/01__featurecounts/hESC_all.counts.txt\", sep=\"\\t\", row.names=\"gene_id\")\n",
    "human_cts <- as.matrix(human_cts)\n",
    "head(human_cts)"
   ]
  },
  {
   "cell_type": "code",
   "execution_count": 7,
   "metadata": {},
   "outputs": [
    {
     "data": {
      "text/html": [
       "<table>\n",
       "<thead><tr><th></th><th scope=col>rep1</th><th scope=col>rep2</th><th scope=col>rep3</th></tr></thead>\n",
       "<tbody>\n",
       "\t<tr><th scope=row>ENSMUSG00000000702</th><td>0</td><td>0</td><td>0</td></tr>\n",
       "\t<tr><th scope=row>ENSMUSG00000078423</th><td>0</td><td>0</td><td>0</td></tr>\n",
       "\t<tr><th scope=row>ENSMUSG00000078424</th><td>0</td><td>0</td><td>0</td></tr>\n",
       "\t<tr><th scope=row>ENSMUSG00000071964</th><td>2</td><td>0</td><td>0</td></tr>\n",
       "\t<tr><th scope=row>ENSMUSG00000093774</th><td>0</td><td>0</td><td>5</td></tr>\n",
       "\t<tr><th scope=row>ENSMUSG00000093444</th><td>0</td><td>0</td><td>0</td></tr>\n",
       "</tbody>\n",
       "</table>\n"
      ],
      "text/latex": [
       "\\begin{tabular}{r|lll}\n",
       "  & rep1 & rep2 & rep3\\\\\n",
       "\\hline\n",
       "\tENSMUSG00000000702 & 0 & 0 & 0\\\\\n",
       "\tENSMUSG00000078423 & 0 & 0 & 0\\\\\n",
       "\tENSMUSG00000078424 & 0 & 0 & 0\\\\\n",
       "\tENSMUSG00000071964 & 2 & 0 & 0\\\\\n",
       "\tENSMUSG00000093774 & 0 & 0 & 5\\\\\n",
       "\tENSMUSG00000093444 & 0 & 0 & 0\\\\\n",
       "\\end{tabular}\n"
      ],
      "text/markdown": [
       "\n",
       "| <!--/--> | rep1 | rep2 | rep3 |\n",
       "|---|---|---|---|\n",
       "| ENSMUSG00000000702 | 0 | 0 | 0 |\n",
       "| ENSMUSG00000078423 | 0 | 0 | 0 |\n",
       "| ENSMUSG00000078424 | 0 | 0 | 0 |\n",
       "| ENSMUSG00000071964 | 2 | 0 | 0 |\n",
       "| ENSMUSG00000093774 | 0 | 0 | 5 |\n",
       "| ENSMUSG00000093444 | 0 | 0 | 0 |\n",
       "\n"
      ],
      "text/plain": [
       "                   rep1 rep2 rep3\n",
       "ENSMUSG00000000702 0    0    0   \n",
       "ENSMUSG00000078423 0    0    0   \n",
       "ENSMUSG00000078424 0    0    0   \n",
       "ENSMUSG00000071964 2    0    0   \n",
       "ENSMUSG00000093774 0    0    5   \n",
       "ENSMUSG00000093444 0    0    0   "
      ]
     },
     "metadata": {},
     "output_type": "display_data"
    }
   ],
   "source": [
    "mouse_cts <- read.csv(\"../../../data/03__rna_seq/01__mESC/01__featurecounts/mESC_all.counts.txt\", sep=\"\\t\", row.names=\"gene_id\")\n",
    "mouse_cts <- as.matrix(mouse_cts)\n",
    "head(mouse_cts)"
   ]
  },
  {
   "cell_type": "code",
   "execution_count": 8,
   "metadata": {},
   "outputs": [
    {
     "data": {
      "text/html": [
       "<table>\n",
       "<thead><tr><th></th><th scope=col>condition</th></tr></thead>\n",
       "<tbody>\n",
       "\t<tr><th scope=row>rep1</th><td>rep1</td></tr>\n",
       "\t<tr><th scope=row>rep2</th><td>rep2</td></tr>\n",
       "\t<tr><th scope=row>rep3</th><td>rep3</td></tr>\n",
       "</tbody>\n",
       "</table>\n"
      ],
      "text/latex": [
       "\\begin{tabular}{r|l}\n",
       "  & condition\\\\\n",
       "\\hline\n",
       "\trep1 & rep1\\\\\n",
       "\trep2 & rep2\\\\\n",
       "\trep3 & rep3\\\\\n",
       "\\end{tabular}\n"
      ],
      "text/markdown": [
       "\n",
       "| <!--/--> | condition |\n",
       "|---|---|\n",
       "| rep1 | rep1 |\n",
       "| rep2 | rep2 |\n",
       "| rep3 | rep3 |\n",
       "\n"
      ],
      "text/plain": [
       "     condition\n",
       "rep1 rep1     \n",
       "rep2 rep2     \n",
       "rep3 rep3     "
      ]
     },
     "metadata": {},
     "output_type": "display_data"
    }
   ],
   "source": [
    "human_cols <- read.csv(\"../../../data/03__rna_seq/00__HUES64/01__featurecounts/hESC_all.cols.txt\", sep=\"\\t\", row.names=\"column\")\n",
    "head(human_cols)"
   ]
  },
  {
   "cell_type": "code",
   "execution_count": 9,
   "metadata": {},
   "outputs": [
    {
     "data": {
      "text/html": [
       "<table>\n",
       "<thead><tr><th></th><th scope=col>condition</th></tr></thead>\n",
       "<tbody>\n",
       "\t<tr><th scope=row>rep1</th><td>rep1</td></tr>\n",
       "\t<tr><th scope=row>rep2</th><td>rep2</td></tr>\n",
       "\t<tr><th scope=row>rep3</th><td>rep3</td></tr>\n",
       "</tbody>\n",
       "</table>\n"
      ],
      "text/latex": [
       "\\begin{tabular}{r|l}\n",
       "  & condition\\\\\n",
       "\\hline\n",
       "\trep1 & rep1\\\\\n",
       "\trep2 & rep2\\\\\n",
       "\trep3 & rep3\\\\\n",
       "\\end{tabular}\n"
      ],
      "text/markdown": [
       "\n",
       "| <!--/--> | condition |\n",
       "|---|---|\n",
       "| rep1 | rep1 |\n",
       "| rep2 | rep2 |\n",
       "| rep3 | rep3 |\n",
       "\n"
      ],
      "text/plain": [
       "     condition\n",
       "rep1 rep1     \n",
       "rep2 rep2     \n",
       "rep3 rep3     "
      ]
     },
     "metadata": {},
     "output_type": "display_data"
    }
   ],
   "source": [
    "mouse_cols <- read.csv(\"../../../data/03__rna_seq/01__mESC/01__featurecounts/mESC_all.cols.txt\", sep=\"\\t\", row.names=\"column\")\n",
    "head(mouse_cols)"
   ]
  },
  {
   "cell_type": "code",
   "execution_count": 10,
   "metadata": {},
   "outputs": [
    {
     "data": {
      "text/html": [
       "<table>\n",
       "<thead><tr><th></th><th scope=col>hESC_rep1</th><th scope=col>hESC_rep2</th><th scope=col>hESC_rep3</th><th scope=col>mESC_rep1</th><th scope=col>mESC_rep2</th><th scope=col>mESC_rep3</th></tr></thead>\n",
       "<tbody>\n",
       "\t<tr><th scope=row>ENSG00000187961__ENSMUSG00000078485</th><td> 660 </td><td>  696</td><td> 463 </td><td>  92 </td><td>  50 </td><td> 100 </td></tr>\n",
       "\t<tr><th scope=row>ENSG00000187642__ENSMUSG00000078486</th><td>   9 </td><td>   19</td><td>  19 </td><td>  10 </td><td>   3 </td><td>  11 </td></tr>\n",
       "\t<tr><th scope=row>ENSG00000187608__ENSMUSG00000035692</th><td>1444 </td><td> 1027</td><td> 749 </td><td> 294 </td><td>  69 </td><td>  65 </td></tr>\n",
       "\t<tr><th scope=row>ENSG00000188157__ENSMUSG00000041936</th><td>8942 </td><td>11535</td><td>9946 </td><td>7173 </td><td>5355 </td><td>6431 </td></tr>\n",
       "\t<tr><th scope=row>ENSG00000131591__ENSMUSG00000059939</th><td> 470 </td><td>  520</td><td> 456 </td><td> 853 </td><td> 703 </td><td>1027 </td></tr>\n",
       "\t<tr><th scope=row>ENSG00000207730__ENSMUSG00000065549</th><td>   0 </td><td>    1</td><td>   0 </td><td>   0 </td><td>   0 </td><td>   0 </td></tr>\n",
       "</tbody>\n",
       "</table>\n"
      ],
      "text/latex": [
       "\\begin{tabular}{r|llllll}\n",
       "  & hESC\\_rep1 & hESC\\_rep2 & hESC\\_rep3 & mESC\\_rep1 & mESC\\_rep2 & mESC\\_rep3\\\\\n",
       "\\hline\n",
       "\tENSG00000187961\\_\\_ENSMUSG00000078485 &  660  &   696 &  463  &   92  &   50  &  100 \\\\\n",
       "\tENSG00000187642\\_\\_ENSMUSG00000078486 &    9  &    19 &   19  &   10  &    3  &   11 \\\\\n",
       "\tENSG00000187608\\_\\_ENSMUSG00000035692 & 1444  &  1027 &  749  &  294  &   69  &   65 \\\\\n",
       "\tENSG00000188157\\_\\_ENSMUSG00000041936 & 8942  & 11535 & 9946  & 7173  & 5355  & 6431 \\\\\n",
       "\tENSG00000131591\\_\\_ENSMUSG00000059939 &  470  &   520 &  456  &  853  &  703  & 1027 \\\\\n",
       "\tENSG00000207730\\_\\_ENSMUSG00000065549 &    0  &     1 &    0  &    0  &    0  &    0 \\\\\n",
       "\\end{tabular}\n"
      ],
      "text/markdown": [
       "\n",
       "| <!--/--> | hESC_rep1 | hESC_rep2 | hESC_rep3 | mESC_rep1 | mESC_rep2 | mESC_rep3 |\n",
       "|---|---|---|---|---|---|---|\n",
       "| ENSG00000187961__ENSMUSG00000078485 |  660  |   696 |  463  |   92  |   50  |  100  |\n",
       "| ENSG00000187642__ENSMUSG00000078486 |    9  |    19 |   19  |   10  |    3  |   11  |\n",
       "| ENSG00000187608__ENSMUSG00000035692 | 1444  |  1027 |  749  |  294  |   69  |   65  |\n",
       "| ENSG00000188157__ENSMUSG00000041936 | 8942  | 11535 | 9946  | 7173  | 5355  | 6431  |\n",
       "| ENSG00000131591__ENSMUSG00000059939 |  470  |   520 |  456  |  853  |  703  | 1027  |\n",
       "| ENSG00000207730__ENSMUSG00000065549 |    0  |     1 |    0  |    0  |    0  |    0  |\n",
       "\n"
      ],
      "text/plain": [
       "                                    hESC_rep1 hESC_rep2 hESC_rep3 mESC_rep1\n",
       "ENSG00000187961__ENSMUSG00000078485  660        696      463        92     \n",
       "ENSG00000187642__ENSMUSG00000078486    9         19       19        10     \n",
       "ENSG00000187608__ENSMUSG00000035692 1444       1027      749       294     \n",
       "ENSG00000188157__ENSMUSG00000041936 8942      11535     9946      7173     \n",
       "ENSG00000131591__ENSMUSG00000059939  470        520      456       853     \n",
       "ENSG00000207730__ENSMUSG00000065549    0          1        0         0     \n",
       "                                    mESC_rep2 mESC_rep3\n",
       "ENSG00000187961__ENSMUSG00000078485   50       100     \n",
       "ENSG00000187642__ENSMUSG00000078486    3        11     \n",
       "ENSG00000187608__ENSMUSG00000035692   69        65     \n",
       "ENSG00000188157__ENSMUSG00000041936 5355      6431     \n",
       "ENSG00000131591__ENSMUSG00000059939  703      1027     \n",
       "ENSG00000207730__ENSMUSG00000065549    0         0     "
      ]
     },
     "metadata": {},
     "output_type": "display_data"
    }
   ],
   "source": [
    "orth_cts <- read.csv(\"../../../data/03__rna_seq/02__orths/01__featurecounts/orths.counts.txt\", sep=\"\\t\", row.names=\"orth_id\")\n",
    "orth_cts <- as.matrix(orth_cts)\n",
    "head(orth_cts)"
   ]
  },
  {
   "cell_type": "code",
   "execution_count": 11,
   "metadata": {},
   "outputs": [
    {
     "data": {
      "text/html": [
       "<table>\n",
       "<thead><tr><th></th><th scope=col>condition</th><th scope=col>sample</th></tr></thead>\n",
       "<tbody>\n",
       "\t<tr><th scope=row>hESC_rep1</th><td>hESC   </td><td>sample1</td></tr>\n",
       "\t<tr><th scope=row>hESC_rep2</th><td>hESC   </td><td>sample2</td></tr>\n",
       "\t<tr><th scope=row>hESC_rep3</th><td>hESC   </td><td>sample3</td></tr>\n",
       "\t<tr><th scope=row>mESC_rep1</th><td>mESC   </td><td>sample1</td></tr>\n",
       "\t<tr><th scope=row>mESC_rep2</th><td>mESC   </td><td>sample2</td></tr>\n",
       "\t<tr><th scope=row>mESC_rep3</th><td>mESC   </td><td>sample3</td></tr>\n",
       "</tbody>\n",
       "</table>\n"
      ],
      "text/latex": [
       "\\begin{tabular}{r|ll}\n",
       "  & condition & sample\\\\\n",
       "\\hline\n",
       "\thESC\\_rep1 & hESC    & sample1\\\\\n",
       "\thESC\\_rep2 & hESC    & sample2\\\\\n",
       "\thESC\\_rep3 & hESC    & sample3\\\\\n",
       "\tmESC\\_rep1 & mESC    & sample1\\\\\n",
       "\tmESC\\_rep2 & mESC    & sample2\\\\\n",
       "\tmESC\\_rep3 & mESC    & sample3\\\\\n",
       "\\end{tabular}\n"
      ],
      "text/markdown": [
       "\n",
       "| <!--/--> | condition | sample |\n",
       "|---|---|---|\n",
       "| hESC_rep1 | hESC    | sample1 |\n",
       "| hESC_rep2 | hESC    | sample2 |\n",
       "| hESC_rep3 | hESC    | sample3 |\n",
       "| mESC_rep1 | mESC    | sample1 |\n",
       "| mESC_rep2 | mESC    | sample2 |\n",
       "| mESC_rep3 | mESC    | sample3 |\n",
       "\n"
      ],
      "text/plain": [
       "          condition sample \n",
       "hESC_rep1 hESC      sample1\n",
       "hESC_rep2 hESC      sample2\n",
       "hESC_rep3 hESC      sample3\n",
       "mESC_rep1 mESC      sample1\n",
       "mESC_rep2 mESC      sample2\n",
       "mESC_rep3 mESC      sample3"
      ]
     },
     "metadata": {},
     "output_type": "display_data"
    }
   ],
   "source": [
    "orth_cols <- read.csv(\"../../../data/03__rna_seq/02__orths/01__featurecounts/orths.cols.txt\", sep=\"\\t\", row.names=\"column\")\n",
    "head(orth_cols)"
   ]
  },
  {
   "cell_type": "code",
   "execution_count": 12,
   "metadata": {},
   "outputs": [
    {
     "data": {
      "text/html": [
       "<table>\n",
       "<thead><tr><th></th><th scope=col>condition</th><th scope=col>sample</th><th scope=col>treatment</th></tr></thead>\n",
       "<tbody>\n",
       "\t<tr><th scope=row>hESC_rep1</th><td>hESC</td><td>h1  </td><td>T   </td></tr>\n",
       "\t<tr><th scope=row>hESC_rep1.UT</th><td>hESC</td><td>h1  </td><td>UT  </td></tr>\n",
       "\t<tr><th scope=row>hESC_rep2</th><td>hESC</td><td>h2  </td><td>T   </td></tr>\n",
       "\t<tr><th scope=row>hESC_rep2.UT</th><td>hESC</td><td>h2  </td><td>UT  </td></tr>\n",
       "\t<tr><th scope=row>hESC_rep3</th><td>hESC</td><td>h3  </td><td>T   </td></tr>\n",
       "\t<tr><th scope=row>hESC_rep3.UT</th><td>hESC</td><td>h3  </td><td>UT  </td></tr>\n",
       "</tbody>\n",
       "</table>\n"
      ],
      "text/latex": [
       "\\begin{tabular}{r|lll}\n",
       "  & condition & sample & treatment\\\\\n",
       "\\hline\n",
       "\thESC\\_rep1 & hESC & h1   & T   \\\\\n",
       "\thESC\\_rep1.UT & hESC & h1   & UT  \\\\\n",
       "\thESC\\_rep2 & hESC & h2   & T   \\\\\n",
       "\thESC\\_rep2.UT & hESC & h2   & UT  \\\\\n",
       "\thESC\\_rep3 & hESC & h3   & T   \\\\\n",
       "\thESC\\_rep3.UT & hESC & h3   & UT  \\\\\n",
       "\\end{tabular}\n"
      ],
      "text/markdown": [
       "\n",
       "| <!--/--> | condition | sample | treatment |\n",
       "|---|---|---|---|\n",
       "| hESC_rep1 | hESC | h1   | T    |\n",
       "| hESC_rep1.UT | hESC | h1   | UT   |\n",
       "| hESC_rep2 | hESC | h2   | T    |\n",
       "| hESC_rep2.UT | hESC | h2   | UT   |\n",
       "| hESC_rep3 | hESC | h3   | T    |\n",
       "| hESC_rep3.UT | hESC | h3   | UT   |\n",
       "\n"
      ],
      "text/plain": [
       "             condition sample treatment\n",
       "hESC_rep1    hESC      h1     T        \n",
       "hESC_rep1.UT hESC      h1     UT       \n",
       "hESC_rep2    hESC      h2     T        \n",
       "hESC_rep2.UT hESC      h2     UT       \n",
       "hESC_rep3    hESC      h3     T        \n",
       "hESC_rep3.UT hESC      h3     UT       "
      ]
     },
     "metadata": {},
     "output_type": "display_data"
    }
   ],
   "source": [
    "orth_cols_new <- read.csv(\"../../../data/03__rna_seq/02__orths/01__featurecounts/orths.cols.voom.samples.txt\", sep=\"\\t\", row.names=\"column\")\n",
    "head(orth_cols_new)"
   ]
  },
  {
   "cell_type": "markdown",
   "metadata": {},
   "source": [
    "## 1. first approach -- only use transfected samples, simple DE analysis"
   ]
  },
  {
   "cell_type": "code",
   "execution_count": 13,
   "metadata": {},
   "outputs": [],
   "source": [
    "dds <- DESeqDataSetFromMatrix(countData = human_cts,\n",
    "                              colData = human_cols,\n",
    "                              design = ~ condition)"
   ]
  },
  {
   "cell_type": "code",
   "execution_count": 14,
   "metadata": {},
   "outputs": [],
   "source": [
    "dds <- estimateSizeFactors(dds)"
   ]
  },
  {
   "cell_type": "code",
   "execution_count": 15,
   "metadata": {},
   "outputs": [
    {
     "data": {
      "text/html": [
       "<table>\n",
       "<thead><tr><th></th><th scope=col>rep1</th><th scope=col>rep2</th><th scope=col>rep3</th></tr></thead>\n",
       "<tbody>\n",
       "\t<tr><th scope=row>ENSG00000223972</th><td>  0.0000   </td><td>  0.0000   </td><td>  0.0000000</td></tr>\n",
       "\t<tr><th scope=row>ENSG00000227232</th><td>353.5704   </td><td>427.6608   </td><td>297.0468699</td></tr>\n",
       "\t<tr><th scope=row>ENSG00000243485</th><td>  0.0000   </td><td>  0.0000   </td><td>  0.9341097</td></tr>\n",
       "\t<tr><th scope=row>ENSG00000237613</th><td>  0.0000   </td><td>  0.0000   </td><td>  0.0000000</td></tr>\n",
       "\t<tr><th scope=row>ENSG00000268020</th><td>  0.0000   </td><td>  0.0000   </td><td>  0.0000000</td></tr>\n",
       "\t<tr><th scope=row>ENSG00000240361</th><td>  0.0000   </td><td>  0.0000   </td><td>  0.0000000</td></tr>\n",
       "</tbody>\n",
       "</table>\n"
      ],
      "text/latex": [
       "\\begin{tabular}{r|lll}\n",
       "  & rep1 & rep2 & rep3\\\\\n",
       "\\hline\n",
       "\tENSG00000223972 &   0.0000    &   0.0000    &   0.0000000\\\\\n",
       "\tENSG00000227232 & 353.5704    & 427.6608    & 297.0468699\\\\\n",
       "\tENSG00000243485 &   0.0000    &   0.0000    &   0.9341097\\\\\n",
       "\tENSG00000237613 &   0.0000    &   0.0000    &   0.0000000\\\\\n",
       "\tENSG00000268020 &   0.0000    &   0.0000    &   0.0000000\\\\\n",
       "\tENSG00000240361 &   0.0000    &   0.0000    &   0.0000000\\\\\n",
       "\\end{tabular}\n"
      ],
      "text/markdown": [
       "\n",
       "| <!--/--> | rep1 | rep2 | rep3 |\n",
       "|---|---|---|---|\n",
       "| ENSG00000223972 |   0.0000    |   0.0000    |   0.0000000 |\n",
       "| ENSG00000227232 | 353.5704    | 427.6608    | 297.0468699 |\n",
       "| ENSG00000243485 |   0.0000    |   0.0000    |   0.9341097 |\n",
       "| ENSG00000237613 |   0.0000    |   0.0000    |   0.0000000 |\n",
       "| ENSG00000268020 |   0.0000    |   0.0000    |   0.0000000 |\n",
       "| ENSG00000240361 |   0.0000    |   0.0000    |   0.0000000 |\n",
       "\n"
      ],
      "text/plain": [
       "                rep1     rep2     rep3       \n",
       "ENSG00000223972   0.0000   0.0000   0.0000000\n",
       "ENSG00000227232 353.5704 427.6608 297.0468699\n",
       "ENSG00000243485   0.0000   0.0000   0.9341097\n",
       "ENSG00000237613   0.0000   0.0000   0.0000000\n",
       "ENSG00000268020   0.0000   0.0000   0.0000000\n",
       "ENSG00000240361   0.0000   0.0000   0.0000000"
      ]
     },
     "metadata": {},
     "output_type": "display_data"
    }
   ],
   "source": [
    "human_counts <- counts(dds, normalized=TRUE)\n",
    "head(human_counts)"
   ]
  },
  {
   "cell_type": "code",
   "execution_count": 16,
   "metadata": {},
   "outputs": [],
   "source": [
    "dds <- DESeqDataSetFromMatrix(countData = mouse_cts,\n",
    "                              colData = mouse_cols,\n",
    "                              design = ~ condition )"
   ]
  },
  {
   "cell_type": "code",
   "execution_count": 17,
   "metadata": {},
   "outputs": [],
   "source": [
    "dds <- estimateSizeFactors(dds)"
   ]
  },
  {
   "cell_type": "code",
   "execution_count": 18,
   "metadata": {},
   "outputs": [
    {
     "data": {
      "text/html": [
       "<table>\n",
       "<thead><tr><th></th><th scope=col>rep1</th><th scope=col>rep2</th><th scope=col>rep3</th></tr></thead>\n",
       "<tbody>\n",
       "\t<tr><th scope=row>ENSMUSG00000000702</th><td>0.000000</td><td>0       </td><td>0.000000</td></tr>\n",
       "\t<tr><th scope=row>ENSMUSG00000078423</th><td>0.000000</td><td>0       </td><td>0.000000</td></tr>\n",
       "\t<tr><th scope=row>ENSMUSG00000078424</th><td>0.000000</td><td>0       </td><td>0.000000</td></tr>\n",
       "\t<tr><th scope=row>ENSMUSG00000071964</th><td>2.119803</td><td>0       </td><td>0.000000</td></tr>\n",
       "\t<tr><th scope=row>ENSMUSG00000093774</th><td>0.000000</td><td>0       </td><td>4.487581</td></tr>\n",
       "\t<tr><th scope=row>ENSMUSG00000093444</th><td>0.000000</td><td>0       </td><td>0.000000</td></tr>\n",
       "</tbody>\n",
       "</table>\n"
      ],
      "text/latex": [
       "\\begin{tabular}{r|lll}\n",
       "  & rep1 & rep2 & rep3\\\\\n",
       "\\hline\n",
       "\tENSMUSG00000000702 & 0.000000 & 0        & 0.000000\\\\\n",
       "\tENSMUSG00000078423 & 0.000000 & 0        & 0.000000\\\\\n",
       "\tENSMUSG00000078424 & 0.000000 & 0        & 0.000000\\\\\n",
       "\tENSMUSG00000071964 & 2.119803 & 0        & 0.000000\\\\\n",
       "\tENSMUSG00000093774 & 0.000000 & 0        & 4.487581\\\\\n",
       "\tENSMUSG00000093444 & 0.000000 & 0        & 0.000000\\\\\n",
       "\\end{tabular}\n"
      ],
      "text/markdown": [
       "\n",
       "| <!--/--> | rep1 | rep2 | rep3 |\n",
       "|---|---|---|---|\n",
       "| ENSMUSG00000000702 | 0.000000 | 0        | 0.000000 |\n",
       "| ENSMUSG00000078423 | 0.000000 | 0        | 0.000000 |\n",
       "| ENSMUSG00000078424 | 0.000000 | 0        | 0.000000 |\n",
       "| ENSMUSG00000071964 | 2.119803 | 0        | 0.000000 |\n",
       "| ENSMUSG00000093774 | 0.000000 | 0        | 4.487581 |\n",
       "| ENSMUSG00000093444 | 0.000000 | 0        | 0.000000 |\n",
       "\n"
      ],
      "text/plain": [
       "                   rep1     rep2 rep3    \n",
       "ENSMUSG00000000702 0.000000 0    0.000000\n",
       "ENSMUSG00000078423 0.000000 0    0.000000\n",
       "ENSMUSG00000078424 0.000000 0    0.000000\n",
       "ENSMUSG00000071964 2.119803 0    0.000000\n",
       "ENSMUSG00000093774 0.000000 0    4.487581\n",
       "ENSMUSG00000093444 0.000000 0    0.000000"
      ]
     },
     "metadata": {},
     "output_type": "display_data"
    }
   ],
   "source": [
    "mouse_counts <- counts(dds, normalized=TRUE)\n",
    "head(mouse_counts)"
   ]
  },
  {
   "cell_type": "code",
   "execution_count": 19,
   "metadata": {},
   "outputs": [
    {
     "data": {
      "text/plain": [
       "class: DESeqDataSet \n",
       "dim: 18898 6 \n",
       "metadata(1): version\n",
       "assays(1): counts\n",
       "rownames(18898): ENSG00000187961__ENSMUSG00000078485\n",
       "  ENSG00000187642__ENSMUSG00000078486 ...\n",
       "  ENSG00000198695__ENSMUSG00000064368\n",
       "  ENSG00000198727__ENSMUSG00000064370\n",
       "rowData names(0):\n",
       "colnames(6): hESC_rep1 hESC_rep2 ... mESC_rep2 mESC_rep3\n",
       "colData names(2): condition sample"
      ]
     },
     "metadata": {},
     "output_type": "display_data"
    }
   ],
   "source": [
    "dds <- DESeqDataSetFromMatrix(countData = orth_cts,\n",
    "                              colData = orth_cols,\n",
    "                              design = ~ condition)\n",
    "dds$condition <- factor(dds$condition, levels = c(\"mESC\",\"hESC\"))\n",
    "dds"
   ]
  },
  {
   "cell_type": "code",
   "execution_count": 20,
   "metadata": {},
   "outputs": [
    {
     "name": "stderr",
     "output_type": "stream",
     "text": [
      "estimating size factors\n",
      "estimating dispersions\n",
      "gene-wise dispersion estimates\n",
      "mean-dispersion relationship\n",
      "final dispersion estimates\n",
      "fitting model and testing\n"
     ]
    }
   ],
   "source": [
    "dds <- DESeq(dds)"
   ]
  },
  {
   "cell_type": "code",
   "execution_count": 21,
   "metadata": {},
   "outputs": [
    {
     "data": {
      "text/plain": [
       "log2 fold change (MLE): condition hESC vs mESC \n",
       "Wald test p-value: condition hESC vs mESC \n",
       "DataFrame with 6 rows and 6 columns\n",
       "                                             baseMean     log2FoldChange\n",
       "                                            <numeric>          <numeric>\n",
       "ENSG00000187961__ENSMUSG00000078485  248.865916977641   1.44788989205641\n",
       "ENSG00000187642__ENSMUSG00000078486  11.1885272071858 -0.519509815036311\n",
       "ENSG00000187608__ENSMUSG00000035692  445.084705291018   1.38544039223913\n",
       "ENSG00000188157__ENSMUSG00000041936   8291.9583179643 -0.809395067656551\n",
       "ENSG00000131591__ENSMUSG00000059939  855.740893299457    -2.315953843017\n",
       "ENSG00000207730__ENSMUSG00000065549 0.109121183700762 -0.539572243296155\n",
       "                                                lfcSE               stat\n",
       "                                            <numeric>          <numeric>\n",
       "ENSG00000187961__ENSMUSG00000078485 0.333795947359398   4.33764970339039\n",
       "ENSG00000187642__ENSMUSG00000078486 0.711960312458307   -0.7296892901832\n",
       "ENSG00000187608__ENSMUSG00000035692 0.813843203987705   1.70234313618482\n",
       "ENSG00000188157__ENSMUSG00000041936 0.254148533819239  -3.18473239051706\n",
       "ENSG00000131591__ENSMUSG00000059939 0.250448969751953  -9.24720850443404\n",
       "ENSG00000207730__ENSMUSG00000065549   4.0804728567969 -0.132232773561373\n",
       "                                                  pvalue                 padj\n",
       "                                               <numeric>            <numeric>\n",
       "ENSG00000187961__ENSMUSG00000078485 1.44014440357442e-05 3.32833819557089e-05\n",
       "ENSG00000187642__ENSMUSG00000078486    0.465580129012505    0.526873299974343\n",
       "ENSG00000187608__ENSMUSG00000035692   0.0886910629680633    0.120669648351508\n",
       "ENSG00000188157__ENSMUSG00000041936  0.00144887925384856  0.00263119393754462\n",
       "ENSG00000131591__ENSMUSG00000059939 2.30431964526465e-20 1.47792141954222e-19\n",
       "ENSG00000207730__ENSMUSG00000065549    0.894800179169102                   NA"
      ]
     },
     "metadata": {},
     "output_type": "display_data"
    }
   ],
   "source": [
    "res <- results(dds)\n",
    "head(res)"
   ]
  },
  {
   "cell_type": "code",
   "execution_count": 22,
   "metadata": {},
   "outputs": [
    {
     "data": {
      "text/html": [
       "<table>\n",
       "<thead><tr><th></th><th scope=col>hESC_rep1</th><th scope=col>hESC_rep2</th><th scope=col>hESC_rep3</th><th scope=col>mESC_rep1</th><th scope=col>mESC_rep2</th><th scope=col>mESC_rep3</th></tr></thead>\n",
       "<tbody>\n",
       "\t<tr><th scope=row>ENSG00000187961__ENSMUSG00000078485</th><td> 399.234542 </td><td> 455.6900631</td><td> 238.068316 </td><td>  163.46752 </td><td>  86.62733  </td><td> 150.10773  </td></tr>\n",
       "\t<tr><th scope=row>ENSG00000187642__ENSMUSG00000078486</th><td>   5.444107 </td><td>  12.4398149</td><td>   9.769542 </td><td>   17.76821 </td><td>   5.19764  </td><td>  16.51185  </td></tr>\n",
       "\t<tr><th scope=row>ENSG00000187608__ENSMUSG00000035692</th><td> 873.476786 </td><td> 672.4047340</td><td> 385.125634 </td><td>  522.38534 </td><td> 119.54572  </td><td>  97.57002  </td></tr>\n",
       "\t<tr><th scope=row>ENSG00000188157__ENSMUSG00000041936</th><td>5409.023143 </td><td>7552.2771239</td><td>5114.098201 </td><td>12745.13611 </td><td>9277.78731  </td><td>9653.42803  </td></tr>\n",
       "\t<tr><th scope=row>ENSG00000131591__ENSMUSG00000059939</th><td> 284.303386 </td><td> 340.4580931</td><td> 234.469011 </td><td> 1515.62820 </td><td>1217.98029  </td><td>1541.60637  </td></tr>\n",
       "\t<tr><th scope=row>ENSG00000207730__ENSMUSG00000065549</th><td>   0.000000 </td><td>   0.6547271</td><td>   0.000000 </td><td>    0.00000 </td><td>   0.00000  </td><td>   0.00000  </td></tr>\n",
       "</tbody>\n",
       "</table>\n"
      ],
      "text/latex": [
       "\\begin{tabular}{r|llllll}\n",
       "  & hESC\\_rep1 & hESC\\_rep2 & hESC\\_rep3 & mESC\\_rep1 & mESC\\_rep2 & mESC\\_rep3\\\\\n",
       "\\hline\n",
       "\tENSG00000187961\\_\\_ENSMUSG00000078485 &  399.234542  &  455.6900631 &  238.068316  &   163.46752  &   86.62733   &  150.10773  \\\\\n",
       "\tENSG00000187642\\_\\_ENSMUSG00000078486 &    5.444107  &   12.4398149 &    9.769542  &    17.76821  &    5.19764   &   16.51185  \\\\\n",
       "\tENSG00000187608\\_\\_ENSMUSG00000035692 &  873.476786  &  672.4047340 &  385.125634  &   522.38534  &  119.54572   &   97.57002  \\\\\n",
       "\tENSG00000188157\\_\\_ENSMUSG00000041936 & 5409.023143  & 7552.2771239 & 5114.098201  & 12745.13611  & 9277.78731   & 9653.42803  \\\\\n",
       "\tENSG00000131591\\_\\_ENSMUSG00000059939 &  284.303386  &  340.4580931 &  234.469011  &  1515.62820  & 1217.98029   & 1541.60637  \\\\\n",
       "\tENSG00000207730\\_\\_ENSMUSG00000065549 &    0.000000  &    0.6547271 &    0.000000  &     0.00000  &    0.00000   &    0.00000  \\\\\n",
       "\\end{tabular}\n"
      ],
      "text/markdown": [
       "\n",
       "| <!--/--> | hESC_rep1 | hESC_rep2 | hESC_rep3 | mESC_rep1 | mESC_rep2 | mESC_rep3 |\n",
       "|---|---|---|---|---|---|---|\n",
       "| ENSG00000187961__ENSMUSG00000078485 |  399.234542  |  455.6900631 |  238.068316  |   163.46752  |   86.62733   |  150.10773   |\n",
       "| ENSG00000187642__ENSMUSG00000078486 |    5.444107  |   12.4398149 |    9.769542  |    17.76821  |    5.19764   |   16.51185   |\n",
       "| ENSG00000187608__ENSMUSG00000035692 |  873.476786  |  672.4047340 |  385.125634  |   522.38534  |  119.54572   |   97.57002   |\n",
       "| ENSG00000188157__ENSMUSG00000041936 | 5409.023143  | 7552.2771239 | 5114.098201  | 12745.13611  | 9277.78731   | 9653.42803   |\n",
       "| ENSG00000131591__ENSMUSG00000059939 |  284.303386  |  340.4580931 |  234.469011  |  1515.62820  | 1217.98029   | 1541.60637   |\n",
       "| ENSG00000207730__ENSMUSG00000065549 |    0.000000  |    0.6547271 |    0.000000  |     0.00000  |    0.00000   |    0.00000   |\n",
       "\n"
      ],
      "text/plain": [
       "                                    hESC_rep1   hESC_rep2    hESC_rep3  \n",
       "ENSG00000187961__ENSMUSG00000078485  399.234542  455.6900631  238.068316\n",
       "ENSG00000187642__ENSMUSG00000078486    5.444107   12.4398149    9.769542\n",
       "ENSG00000187608__ENSMUSG00000035692  873.476786  672.4047340  385.125634\n",
       "ENSG00000188157__ENSMUSG00000041936 5409.023143 7552.2771239 5114.098201\n",
       "ENSG00000131591__ENSMUSG00000059939  284.303386  340.4580931  234.469011\n",
       "ENSG00000207730__ENSMUSG00000065549    0.000000    0.6547271    0.000000\n",
       "                                    mESC_rep1   mESC_rep2  mESC_rep3 \n",
       "ENSG00000187961__ENSMUSG00000078485   163.46752   86.62733  150.10773\n",
       "ENSG00000187642__ENSMUSG00000078486    17.76821    5.19764   16.51185\n",
       "ENSG00000187608__ENSMUSG00000035692   522.38534  119.54572   97.57002\n",
       "ENSG00000188157__ENSMUSG00000041936 12745.13611 9277.78731 9653.42803\n",
       "ENSG00000131591__ENSMUSG00000059939  1515.62820 1217.98029 1541.60637\n",
       "ENSG00000207730__ENSMUSG00000065549     0.00000    0.00000    0.00000"
      ]
     },
     "metadata": {},
     "output_type": "display_data"
    }
   ],
   "source": [
    "counts <- counts(dds, normalized=TRUE)\n",
    "head(counts)"
   ]
  },
  {
   "cell_type": "code",
   "execution_count": 23,
   "metadata": {
    "scrolled": true
   },
   "outputs": [
    {
     "data": {
      "text/html": [
       "<table>\n",
       "<thead><tr><th></th><th scope=col>hESC_rep1</th><th scope=col>hESC_rep2</th><th scope=col>hESC_rep3</th><th scope=col>mESC_rep1</th><th scope=col>mESC_rep2</th><th scope=col>mESC_rep3</th></tr></thead>\n",
       "<tbody>\n",
       "\t<tr><th scope=row>ENSG00000187961__ENSMUSG00000078485</th><td> 399.234542 </td><td> 455.6900631</td><td> 238.068316 </td><td>  163.46752 </td><td>  86.62733  </td><td> 150.10773  </td></tr>\n",
       "\t<tr><th scope=row>ENSG00000187642__ENSMUSG00000078486</th><td>   5.444107 </td><td>  12.4398149</td><td>   9.769542 </td><td>   17.76821 </td><td>   5.19764  </td><td>  16.51185  </td></tr>\n",
       "\t<tr><th scope=row>ENSG00000187608__ENSMUSG00000035692</th><td> 873.476786 </td><td> 672.4047340</td><td> 385.125634 </td><td>  522.38534 </td><td> 119.54572  </td><td>  97.57002  </td></tr>\n",
       "\t<tr><th scope=row>ENSG00000188157__ENSMUSG00000041936</th><td>5409.023143 </td><td>7552.2771239</td><td>5114.098201 </td><td>12745.13611 </td><td>9277.78731  </td><td>9653.42803  </td></tr>\n",
       "\t<tr><th scope=row>ENSG00000131591__ENSMUSG00000059939</th><td> 284.303386 </td><td> 340.4580931</td><td> 234.469011 </td><td> 1515.62820 </td><td>1217.98029  </td><td>1541.60637  </td></tr>\n",
       "\t<tr><th scope=row>ENSG00000207730__ENSMUSG00000065549</th><td>   0.000000 </td><td>   0.6547271</td><td>   0.000000 </td><td>    0.00000 </td><td>   0.00000  </td><td>   0.00000  </td></tr>\n",
       "</tbody>\n",
       "</table>\n"
      ],
      "text/latex": [
       "\\begin{tabular}{r|llllll}\n",
       "  & hESC\\_rep1 & hESC\\_rep2 & hESC\\_rep3 & mESC\\_rep1 & mESC\\_rep2 & mESC\\_rep3\\\\\n",
       "\\hline\n",
       "\tENSG00000187961\\_\\_ENSMUSG00000078485 &  399.234542  &  455.6900631 &  238.068316  &   163.46752  &   86.62733   &  150.10773  \\\\\n",
       "\tENSG00000187642\\_\\_ENSMUSG00000078486 &    5.444107  &   12.4398149 &    9.769542  &    17.76821  &    5.19764   &   16.51185  \\\\\n",
       "\tENSG00000187608\\_\\_ENSMUSG00000035692 &  873.476786  &  672.4047340 &  385.125634  &   522.38534  &  119.54572   &   97.57002  \\\\\n",
       "\tENSG00000188157\\_\\_ENSMUSG00000041936 & 5409.023143  & 7552.2771239 & 5114.098201  & 12745.13611  & 9277.78731   & 9653.42803  \\\\\n",
       "\tENSG00000131591\\_\\_ENSMUSG00000059939 &  284.303386  &  340.4580931 &  234.469011  &  1515.62820  & 1217.98029   & 1541.60637  \\\\\n",
       "\tENSG00000207730\\_\\_ENSMUSG00000065549 &    0.000000  &    0.6547271 &    0.000000  &     0.00000  &    0.00000   &    0.00000  \\\\\n",
       "\\end{tabular}\n"
      ],
      "text/markdown": [
       "\n",
       "| <!--/--> | hESC_rep1 | hESC_rep2 | hESC_rep3 | mESC_rep1 | mESC_rep2 | mESC_rep3 |\n",
       "|---|---|---|---|---|---|---|\n",
       "| ENSG00000187961__ENSMUSG00000078485 |  399.234542  |  455.6900631 |  238.068316  |   163.46752  |   86.62733   |  150.10773   |\n",
       "| ENSG00000187642__ENSMUSG00000078486 |    5.444107  |   12.4398149 |    9.769542  |    17.76821  |    5.19764   |   16.51185   |\n",
       "| ENSG00000187608__ENSMUSG00000035692 |  873.476786  |  672.4047340 |  385.125634  |   522.38534  |  119.54572   |   97.57002   |\n",
       "| ENSG00000188157__ENSMUSG00000041936 | 5409.023143  | 7552.2771239 | 5114.098201  | 12745.13611  | 9277.78731   | 9653.42803   |\n",
       "| ENSG00000131591__ENSMUSG00000059939 |  284.303386  |  340.4580931 |  234.469011  |  1515.62820  | 1217.98029   | 1541.60637   |\n",
       "| ENSG00000207730__ENSMUSG00000065549 |    0.000000  |    0.6547271 |    0.000000  |     0.00000  |    0.00000   |    0.00000   |\n",
       "\n"
      ],
      "text/plain": [
       "                                    hESC_rep1   hESC_rep2    hESC_rep3  \n",
       "ENSG00000187961__ENSMUSG00000078485  399.234542  455.6900631  238.068316\n",
       "ENSG00000187642__ENSMUSG00000078486    5.444107   12.4398149    9.769542\n",
       "ENSG00000187608__ENSMUSG00000035692  873.476786  672.4047340  385.125634\n",
       "ENSG00000188157__ENSMUSG00000041936 5409.023143 7552.2771239 5114.098201\n",
       "ENSG00000131591__ENSMUSG00000059939  284.303386  340.4580931  234.469011\n",
       "ENSG00000207730__ENSMUSG00000065549    0.000000    0.6547271    0.000000\n",
       "                                    mESC_rep1   mESC_rep2  mESC_rep3 \n",
       "ENSG00000187961__ENSMUSG00000078485   163.46752   86.62733  150.10773\n",
       "ENSG00000187642__ENSMUSG00000078486    17.76821    5.19764   16.51185\n",
       "ENSG00000187608__ENSMUSG00000035692   522.38534  119.54572   97.57002\n",
       "ENSG00000188157__ENSMUSG00000041936 12745.13611 9277.78731 9653.42803\n",
       "ENSG00000131591__ENSMUSG00000059939  1515.62820 1217.98029 1541.60637\n",
       "ENSG00000207730__ENSMUSG00000065549     0.00000    0.00000    0.00000"
      ]
     },
     "metadata": {},
     "output_type": "display_data"
    }
   ],
   "source": [
    "counts <- counts(dds, normalized=TRUE)\n",
    "head(counts)"
   ]
  },
  {
   "cell_type": "code",
   "execution_count": 24,
   "metadata": {},
   "outputs": [],
   "source": [
    "write.table(human_counts, file = \"../../../data/03__rna_seq/00__HUES64/02__tpms/hESC.tpm.txt\", sep = \"\\t\",\n",
    "            quote = FALSE)\n",
    "\n",
    "write.table(mouse_counts, file = \"../../../data/03__rna_seq/01__mESC/02__tpms/mESC.tpm.txt\", sep = \"\\t\",\n",
    "            quote = FALSE)\n",
    "\n",
    "write.table(counts, file = \"../../../data/03__rna_seq/02__orths/02__tpms/orth.tpm.txt\", sep = \"\\t\",\n",
    "            quote = FALSE)"
   ]
  },
  {
   "cell_type": "markdown",
   "metadata": {},
   "source": [
    "## 2. second approach -- regress out variance due to tfxn"
   ]
  },
  {
   "cell_type": "code",
   "execution_count": 25,
   "metadata": {},
   "outputs": [
    {
     "data": {
      "text/html": [
       "<table>\n",
       "<thead><tr><th></th><th scope=col>hESC_rep1</th><th scope=col>hESC_rep1.UT</th><th scope=col>hESC_rep2</th><th scope=col>hESC_rep2.UT</th><th scope=col>hESC_rep3</th><th scope=col>hESC_rep3.UT</th><th scope=col>mESC_rep1</th><th scope=col>mESC_rep1.UT</th><th scope=col>mESC_rep2</th><th scope=col>mESC_rep2.UT</th><th scope=col>mESC_rep3</th><th scope=col>mESC_rep3.UT</th></tr></thead>\n",
       "<tbody>\n",
       "\t<tr><th scope=row>ENSG00000187961__ENSMUSG00000078485</th><td> 660 </td><td> 248 </td><td>  696</td><td> 147 </td><td> 463 </td><td> 186 </td><td>  92 </td><td>  95 </td><td>  50 </td><td>  59 </td><td> 100 </td><td>  96 </td></tr>\n",
       "\t<tr><th scope=row>ENSG00000187642__ENSMUSG00000078486</th><td>   9 </td><td>   8 </td><td>   19</td><td>   4 </td><td>  19 </td><td>   2 </td><td>  10 </td><td>   7 </td><td>   3 </td><td>   8 </td><td>  11 </td><td>  13 </td></tr>\n",
       "\t<tr><th scope=row>ENSG00000187608__ENSMUSG00000035692</th><td>1444 </td><td> 195 </td><td> 1027</td><td> 175 </td><td> 749 </td><td> 217 </td><td> 294 </td><td>   0 </td><td>  69 </td><td>   0 </td><td>  65 </td><td>   0 </td></tr>\n",
       "\t<tr><th scope=row>ENSG00000188157__ENSMUSG00000041936</th><td>8942 </td><td>3175 </td><td>11535</td><td>3470 </td><td>9946 </td><td>4203 </td><td>7173 </td><td>5970 </td><td>5355 </td><td>5382 </td><td>6431 </td><td>5628 </td></tr>\n",
       "\t<tr><th scope=row>ENSG00000131591__ENSMUSG00000059939</th><td> 470 </td><td> 181 </td><td>  520</td><td> 147 </td><td> 456 </td><td> 191 </td><td> 853 </td><td>1048 </td><td> 703 </td><td> 980 </td><td>1027 </td><td>1276 </td></tr>\n",
       "\t<tr><th scope=row>ENSG00000207730__ENSMUSG00000065549</th><td>   0 </td><td>   0 </td><td>    1</td><td>   0 </td><td>   0 </td><td>   0 </td><td>   0 </td><td>   1 </td><td>   0 </td><td>   0 </td><td>   0 </td><td>   0 </td></tr>\n",
       "</tbody>\n",
       "</table>\n"
      ],
      "text/latex": [
       "\\begin{tabular}{r|llllllllllll}\n",
       "  & hESC\\_rep1 & hESC\\_rep1.UT & hESC\\_rep2 & hESC\\_rep2.UT & hESC\\_rep3 & hESC\\_rep3.UT & mESC\\_rep1 & mESC\\_rep1.UT & mESC\\_rep2 & mESC\\_rep2.UT & mESC\\_rep3 & mESC\\_rep3.UT\\\\\n",
       "\\hline\n",
       "\tENSG00000187961\\_\\_ENSMUSG00000078485 &  660  &  248  &   696 &  147  &  463  &  186  &   92  &   95  &   50  &   59  &  100  &   96 \\\\\n",
       "\tENSG00000187642\\_\\_ENSMUSG00000078486 &    9  &    8  &    19 &    4  &   19  &    2  &   10  &    7  &    3  &    8  &   11  &   13 \\\\\n",
       "\tENSG00000187608\\_\\_ENSMUSG00000035692 & 1444  &  195  &  1027 &  175  &  749  &  217  &  294  &    0  &   69  &    0  &   65  &    0 \\\\\n",
       "\tENSG00000188157\\_\\_ENSMUSG00000041936 & 8942  & 3175  & 11535 & 3470  & 9946  & 4203  & 7173  & 5970  & 5355  & 5382  & 6431  & 5628 \\\\\n",
       "\tENSG00000131591\\_\\_ENSMUSG00000059939 &  470  &  181  &   520 &  147  &  456  &  191  &  853  & 1048  &  703  &  980  & 1027  & 1276 \\\\\n",
       "\tENSG00000207730\\_\\_ENSMUSG00000065549 &    0  &    0  &     1 &    0  &    0  &    0  &    0  &    1  &    0  &    0  &    0  &    0 \\\\\n",
       "\\end{tabular}\n"
      ],
      "text/markdown": [
       "\n",
       "| <!--/--> | hESC_rep1 | hESC_rep1.UT | hESC_rep2 | hESC_rep2.UT | hESC_rep3 | hESC_rep3.UT | mESC_rep1 | mESC_rep1.UT | mESC_rep2 | mESC_rep2.UT | mESC_rep3 | mESC_rep3.UT |\n",
       "|---|---|---|---|---|---|---|---|---|---|---|---|---|\n",
       "| ENSG00000187961__ENSMUSG00000078485 |  660  |  248  |   696 |  147  |  463  |  186  |   92  |   95  |   50  |   59  |  100  |   96  |\n",
       "| ENSG00000187642__ENSMUSG00000078486 |    9  |    8  |    19 |    4  |   19  |    2  |   10  |    7  |    3  |    8  |   11  |   13  |\n",
       "| ENSG00000187608__ENSMUSG00000035692 | 1444  |  195  |  1027 |  175  |  749  |  217  |  294  |    0  |   69  |    0  |   65  |    0  |\n",
       "| ENSG00000188157__ENSMUSG00000041936 | 8942  | 3175  | 11535 | 3470  | 9946  | 4203  | 7173  | 5970  | 5355  | 5382  | 6431  | 5628  |\n",
       "| ENSG00000131591__ENSMUSG00000059939 |  470  |  181  |   520 |  147  |  456  |  191  |  853  | 1048  |  703  |  980  | 1027  | 1276  |\n",
       "| ENSG00000207730__ENSMUSG00000065549 |    0  |    0  |     1 |    0  |    0  |    0  |    0  |    1  |    0  |    0  |    0  |    0  |\n",
       "\n"
      ],
      "text/plain": [
       "                                    hESC_rep1 hESC_rep1.UT hESC_rep2\n",
       "ENSG00000187961__ENSMUSG00000078485  660       248           696    \n",
       "ENSG00000187642__ENSMUSG00000078486    9         8            19    \n",
       "ENSG00000187608__ENSMUSG00000035692 1444       195          1027    \n",
       "ENSG00000188157__ENSMUSG00000041936 8942      3175         11535    \n",
       "ENSG00000131591__ENSMUSG00000059939  470       181           520    \n",
       "ENSG00000207730__ENSMUSG00000065549    0         0             1    \n",
       "                                    hESC_rep2.UT hESC_rep3 hESC_rep3.UT\n",
       "ENSG00000187961__ENSMUSG00000078485  147          463       186        \n",
       "ENSG00000187642__ENSMUSG00000078486    4           19         2        \n",
       "ENSG00000187608__ENSMUSG00000035692  175          749       217        \n",
       "ENSG00000188157__ENSMUSG00000041936 3470         9946      4203        \n",
       "ENSG00000131591__ENSMUSG00000059939  147          456       191        \n",
       "ENSG00000207730__ENSMUSG00000065549    0            0         0        \n",
       "                                    mESC_rep1 mESC_rep1.UT mESC_rep2\n",
       "ENSG00000187961__ENSMUSG00000078485   92        95           50     \n",
       "ENSG00000187642__ENSMUSG00000078486   10         7            3     \n",
       "ENSG00000187608__ENSMUSG00000035692  294         0           69     \n",
       "ENSG00000188157__ENSMUSG00000041936 7173      5970         5355     \n",
       "ENSG00000131591__ENSMUSG00000059939  853      1048          703     \n",
       "ENSG00000207730__ENSMUSG00000065549    0         1            0     \n",
       "                                    mESC_rep2.UT mESC_rep3 mESC_rep3.UT\n",
       "ENSG00000187961__ENSMUSG00000078485   59          100        96        \n",
       "ENSG00000187642__ENSMUSG00000078486    8           11        13        \n",
       "ENSG00000187608__ENSMUSG00000035692    0           65         0        \n",
       "ENSG00000188157__ENSMUSG00000041936 5382         6431      5628        \n",
       "ENSG00000131591__ENSMUSG00000059939  980         1027      1276        \n",
       "ENSG00000207730__ENSMUSG00000065549    0            0         0        "
      ]
     },
     "metadata": {},
     "output_type": "display_data"
    }
   ],
   "source": [
    "orth_cts_all <- read.csv(\"../../../data/03__rna_seq/02__orths/01__featurecounts/orths.counts.voom.txt\", sep=\"\\t\", row.names=\"orth_id\")\n",
    "orth_cts_all <- as.matrix(orth_cts_all)\n",
    "head(orth_cts_all)"
   ]
  },
  {
   "cell_type": "code",
   "execution_count": 26,
   "metadata": {},
   "outputs": [],
   "source": [
    "# BiocManager::install(\"edgeR\")"
   ]
  },
  {
   "cell_type": "code",
   "execution_count": 27,
   "metadata": {},
   "outputs": [],
   "source": [
    "suppressMessages(library(edgeR))\n",
    "suppressMessages(library(limma))"
   ]
  },
  {
   "cell_type": "code",
   "execution_count": 28,
   "metadata": {},
   "outputs": [],
   "source": [
    "# install.packages(\"statmod\")"
   ]
  },
  {
   "cell_type": "code",
   "execution_count": 29,
   "metadata": {},
   "outputs": [],
   "source": [
    "suppressMessages(library(statmod))"
   ]
  },
  {
   "cell_type": "code",
   "execution_count": 30,
   "metadata": {},
   "outputs": [],
   "source": [
    "options(stringsAsFactors = F)\n",
    "set.seed(123)"
   ]
  },
  {
   "cell_type": "code",
   "execution_count": 31,
   "metadata": {},
   "outputs": [],
   "source": [
    "## 1st do the analysis correcting for individual, using Transfected and Untransfected samples - Complex model\n",
    "dge <- DGEList(counts = orth_cts_all)"
   ]
  },
  {
   "cell_type": "code",
   "execution_count": 32,
   "metadata": {},
   "outputs": [
    {
     "data": {
      "text/html": [
       "<ol class=list-inline>\n",
       "\t<li>18898</li>\n",
       "\t<li>12</li>\n",
       "</ol>\n"
      ],
      "text/latex": [
       "\\begin{enumerate*}\n",
       "\\item 18898\n",
       "\\item 12\n",
       "\\end{enumerate*}\n"
      ],
      "text/markdown": [
       "1. 18898\n",
       "2. 12\n",
       "\n",
       "\n"
      ],
      "text/plain": [
       "[1] 18898    12"
      ]
     },
     "metadata": {},
     "output_type": "display_data"
    }
   ],
   "source": [
    "dge <- calcNormFactors(dge)\n",
    "dim(dge)"
   ]
  },
  {
   "cell_type": "code",
   "execution_count": 33,
   "metadata": {},
   "outputs": [
    {
     "data": {
      "text/html": [
       "<ol class=list-inline>\n",
       "\t<li>14068</li>\n",
       "\t<li>12</li>\n",
       "</ol>\n"
      ],
      "text/latex": [
       "\\begin{enumerate*}\n",
       "\\item 14068\n",
       "\\item 12\n",
       "\\end{enumerate*}\n"
      ],
      "text/markdown": [
       "1. 14068\n",
       "2. 12\n",
       "\n",
       "\n"
      ],
      "text/plain": [
       "[1] 14068    12"
      ]
     },
     "metadata": {},
     "output_type": "display_data"
    }
   ],
   "source": [
    "cutoff <- 1\n",
    "drop <- which(apply(cpm(dge), 1, max) < cutoff)\n",
    "d <- dge[-drop,] \n",
    "dim(d) # number of genes left"
   ]
  },
  {
   "cell_type": "code",
   "execution_count": 34,
   "metadata": {},
   "outputs": [],
   "source": [
    "sample <- as.factor(orth_cols_new$sample)\n",
    "treatment <- as.factor(orth_cols_new$treatment)\n",
    "condition <- as.factor(orth_cols_new$condition)"
   ]
  },
  {
   "cell_type": "code",
   "execution_count": 35,
   "metadata": {},
   "outputs": [
    {
     "data": {
      "image/png": "[encoded data removed]",
      "text/plain": [
       "Plot with title “voom: Mean-variance trend”"
      ]
     },
     "metadata": {},
     "output_type": "display_data"
    }
   ],
   "source": [
    "design <- model.matrix(~treatment + treatment:condition + condition)\n",
    "par(mfrow = c(1, 1))\n",
    "v <- voom(d, design, plot=TRUE)"
   ]
  },
  {
   "cell_type": "code",
   "execution_count": 36,
   "metadata": {},
   "outputs": [
    {
     "data": {
      "image/png": "[encoded data removed]",
      "text/plain": [
       "plot without title"
      ]
     },
     "metadata": {},
     "output_type": "display_data"
    }
   ],
   "source": [
    "plotMDS(v)"
   ]
  },
  {
   "cell_type": "code",
   "execution_count": 37,
   "metadata": {},
   "outputs": [
    {
     "data": {
      "image/png": "[encoded data removed]",
      "text/plain": [
       "Plot with title “voom: Mean-variance trend”"
      ]
     },
     "metadata": {},
     "output_type": "display_data"
    }
   ],
   "source": [
    "cor <- duplicateCorrelation(v, design, block = orth_cols_new$sample)\n",
    "vobj = voom( d, design, plot=TRUE, block=orth_cols_new$sample, correlation=cor$consensus.correlation)   "
   ]
  },
  {
   "cell_type": "code",
   "execution_count": 38,
   "metadata": {},
   "outputs": [
    {
     "data": {
      "image/png": "[encoded data removed]",
      "text/plain": [
       "plot without title"
      ]
     },
     "metadata": {},
     "output_type": "display_data"
    }
   ],
   "source": [
    "plotMDS(vobj)"
   ]
  },
  {
   "cell_type": "code",
   "execution_count": 39,
   "metadata": {},
   "outputs": [],
   "source": [
    "fitDupCor <- lmFit(vobj, design, block=orth_cols_new$sample, correlation=cor$consensus.correlation)"
   ]
  },
  {
   "cell_type": "code",
   "execution_count": 40,
   "metadata": {},
   "outputs": [],
   "source": [
    "fit <- eBayes(fitDupCor)"
   ]
  },
  {
   "cell_type": "code",
   "execution_count": 41,
   "metadata": {},
   "outputs": [
    {
     "data": {
      "text/plain": [
       "       (Intercept) treatmentUT conditionmESC treatmentUT:conditionmESC\n",
       "Down          1415        3344          5873                        50\n",
       "NotSig         742        8972          2854                     13872\n",
       "Up           11911        1752          5341                       146"
      ]
     },
     "metadata": {},
     "output_type": "display_data"
    }
   ],
   "source": [
    "res <- decideTests(fit)\n",
    "summary(res)"
   ]
  },
  {
   "cell_type": "code",
   "execution_count": 42,
   "metadata": {},
   "outputs": [],
   "source": [
    "tt <- topTable(fit, coef = 2, n = Inf) "
   ]
  },
  {
   "cell_type": "code",
   "execution_count": 43,
   "metadata": {},
   "outputs": [],
   "source": [
    "DEgenes <- rownames(tt)[tt$adj.P.Val < 0.01]"
   ]
  },
  {
   "cell_type": "code",
   "execution_count": 44,
   "metadata": {},
   "outputs": [],
   "source": [
    "tt <- topTable(fit, coef = \"conditionmESC\", n = Inf)"
   ]
  },
  {
   "cell_type": "code",
   "execution_count": 45,
   "metadata": {},
   "outputs": [],
   "source": [
    "write.table(tt, file = \"../../../data/03__rna_seq/03__DE/orth.voom.tt_table.with_interaction.txt\", sep = \"\\t\",\n",
    "            quote = FALSE)\n",
    "\n",
    "write.table(DEgenes, file = \"../../../data/03__rna_seq/03__DE/DEgenes_treatment.voom.txt\", sep = \"\\t\",\n",
    "            quote = FALSE)"
   ]
  }
 ],
 "metadata": {
  "kernelspec": {
   "display_name": "R [conda env:r-env36]",
   "language": "R",
   "name": "conda-env-r-env36-r"
  },
  "language_info": {
   "codemirror_mode": "r",
   "file_extension": ".r",
   "mimetype": "text/x-r-source",
   "name": "R",
   "pygments_lexer": "r",
   "version": "3.6.1"
  }
 },
 "nbformat": 4,
 "nbformat_minor": 2
}
