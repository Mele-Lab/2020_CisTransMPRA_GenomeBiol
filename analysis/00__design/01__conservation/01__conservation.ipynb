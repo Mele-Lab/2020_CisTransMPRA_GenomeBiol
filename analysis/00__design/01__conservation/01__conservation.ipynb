{
 "cells": [
  {
   "cell_type": "markdown",
   "metadata": {},
   "source": [
    "# 01__conservation"
   ]
  },
  {
   "cell_type": "code",
   "execution_count": 1,
   "metadata": {},
   "outputs": [],
   "source": [
    "import warnings\n",
    "warnings.filterwarnings('ignore')\n",
    "\n",
    "import pandas as pd\n",
    "import math\n",
    "import matplotlib.pyplot as plt\n",
    "import numpy as np\n",
    "import re\n",
    "import seaborn as sns\n",
    "import sys\n",
    "\n",
    "from scipy.stats import spearmanr\n",
    "\n",
    "# import utils\n",
    "sys.path.append(\"../../../utils\")\n",
    "from plotting_utils import *\n",
    "\n",
    "%matplotlib inline\n",
    "%config InlineBackend.figure_format = 'svg'\n",
    "mpl.rcParams['figure.autolayout'] = False"
   ]
  },
  {
   "cell_type": "code",
   "execution_count": 2,
   "metadata": {},
   "outputs": [],
   "source": [
    "sns.set(**PAPER_PRESET)\n",
    "fontsize = PAPER_FONTSIZE"
   ]
  },
  {
   "cell_type": "code",
   "execution_count": 3,
   "metadata": {},
   "outputs": [],
   "source": [
    "np.random.seed(2019)"
   ]
  },
  {
   "cell_type": "markdown",
   "metadata": {},
   "source": [
    "## functions"
   ]
  },
  {
   "cell_type": "code",
   "execution_count": 4,
   "metadata": {},
   "outputs": [],
   "source": [
    "def cleaner_biotype(row, biotype_col):\n",
    "    if row[biotype_col] in [\"protein_coding\", \"div_pc\"]:\n",
    "        return \"mRNA\"\n",
    "    elif row[biotype_col] == \"intergenic\":\n",
    "        return \"lncRNA\"\n",
    "    elif row[biotype_col] in [\"antisense\", \"div_lnc\"]:\n",
    "        return \"lncRNA\"\n",
    "    elif row[biotype_col] == \"enhancer\":\n",
    "        return \"eRNA\"\n",
    "    elif row[biotype_col] == \"no cage activity\":\n",
    "        return \"no CAGE activity\"\n",
    "    else:\n",
    "        return \"other\""
   ]
  },
  {
   "cell_type": "code",
   "execution_count": 5,
   "metadata": {},
   "outputs": [],
   "source": [
    "def get_perc(row):\n",
    "    if not pd.isnull(row[\"cage_id\"]):\n",
    "        return (row[\"cage_id\"]/row[\"cage_id_x\"])*100\n",
    "    else:\n",
    "        return (row[\"cage_id_y\"]/row[\"cage_id_x\"])*100"
   ]
  },
  {
   "cell_type": "markdown",
   "metadata": {},
   "source": [
    "## variables"
   ]
  },
  {
   "cell_type": "code",
   "execution_count": 6,
   "metadata": {},
   "outputs": [],
   "source": [
    "human_list_f = \"../../../data/01__design/00__genome_list/hg19.PEAK_STATUS.txt.gz\"\n",
    "mouse_list_f = \"../../../data/01__design/00__genome_list/mm9.PEAK_STATUS.txt.gz\""
   ]
  },
  {
   "cell_type": "markdown",
   "metadata": {},
   "source": [
    "## 1. import data"
   ]
  },
  {
   "cell_type": "code",
   "execution_count": 7,
   "metadata": {},
   "outputs": [
    {
     "data": {
      "text/html": [
       "<div>\n",
       "<style>\n",
       "    .dataframe thead tr:only-child th {\n",
       "        text-align: right;\n",
       "    }\n",
       "\n",
       "    .dataframe thead th {\n",
       "        text-align: left;\n",
       "    }\n",
       "\n",
       "    .dataframe tbody tr th {\n",
       "        vertical-align: top;\n",
       "    }\n",
       "</style>\n",
       "<table border=\"1\" class=\"dataframe\">\n",
       "  <thead>\n",
       "    <tr style=\"text-align: right;\">\n",
       "      <th></th>\n",
       "      <th>cage_id</th>\n",
       "      <th>biotype</th>\n",
       "      <th>seq_ortholog</th>\n",
       "      <th>cage_ortholog</th>\n",
       "      <th>other_sp_biotype</th>\n",
       "    </tr>\n",
       "  </thead>\n",
       "  <tbody>\n",
       "    <tr>\n",
       "      <th>0</th>\n",
       "      <td>chr10:100013403..100013414,-</td>\n",
       "      <td>other</td>\n",
       "      <td>1</td>\n",
       "      <td>1</td>\n",
       "      <td>other</td>\n",
       "    </tr>\n",
       "    <tr>\n",
       "      <th>1</th>\n",
       "      <td>chr10:100019738-100019959</td>\n",
       "      <td>eRNA</td>\n",
       "      <td>2</td>\n",
       "      <td>0</td>\n",
       "      <td>no CAGE activity</td>\n",
       "    </tr>\n",
       "    <tr>\n",
       "      <th>2</th>\n",
       "      <td>chr10:100019738-100019959</td>\n",
       "      <td>eRNA</td>\n",
       "      <td>2</td>\n",
       "      <td>0</td>\n",
       "      <td>no CAGE activity</td>\n",
       "    </tr>\n",
       "    <tr>\n",
       "      <th>3</th>\n",
       "      <td>chr10:100020230-100020246</td>\n",
       "      <td>eRNA</td>\n",
       "      <td>0</td>\n",
       "      <td>0</td>\n",
       "      <td>no CAGE activity</td>\n",
       "    </tr>\n",
       "    <tr>\n",
       "      <th>4</th>\n",
       "      <td>chr10:100020230-100020246</td>\n",
       "      <td>eRNA</td>\n",
       "      <td>0</td>\n",
       "      <td>0</td>\n",
       "      <td>no CAGE activity</td>\n",
       "    </tr>\n",
       "  </tbody>\n",
       "</table>\n",
       "</div>"
      ],
      "text/plain": [
       "                        cage_id biotype  seq_ortholog  cage_ortholog  \\\n",
       "0  chr10:100013403..100013414,-   other             1              1   \n",
       "1     chr10:100019738-100019959    eRNA             2              0   \n",
       "2     chr10:100019738-100019959    eRNA             2              0   \n",
       "3     chr10:100020230-100020246    eRNA             0              0   \n",
       "4     chr10:100020230-100020246    eRNA             0              0   \n",
       "\n",
       "   other_sp_biotype  \n",
       "0             other  \n",
       "1  no CAGE activity  \n",
       "2  no CAGE activity  \n",
       "3  no CAGE activity  \n",
       "4  no CAGE activity  "
      ]
     },
     "execution_count": 7,
     "metadata": {},
     "output_type": "execute_result"
    }
   ],
   "source": [
    "human_list = pd.read_table(human_list_f)\n",
    "human_list.head()"
   ]
  },
  {
   "cell_type": "code",
   "execution_count": 8,
   "metadata": {},
   "outputs": [
    {
     "data": {
      "text/html": [
       "<div>\n",
       "<style>\n",
       "    .dataframe thead tr:only-child th {\n",
       "        text-align: right;\n",
       "    }\n",
       "\n",
       "    .dataframe thead th {\n",
       "        text-align: left;\n",
       "    }\n",
       "\n",
       "    .dataframe tbody tr th {\n",
       "        vertical-align: top;\n",
       "    }\n",
       "</style>\n",
       "<table border=\"1\" class=\"dataframe\">\n",
       "  <thead>\n",
       "    <tr style=\"text-align: right;\">\n",
       "      <th></th>\n",
       "      <th>cage_id</th>\n",
       "      <th>biotype</th>\n",
       "      <th>seq_ortholog</th>\n",
       "      <th>cage_ortholog</th>\n",
       "      <th>other_sp_biotype</th>\n",
       "    </tr>\n",
       "  </thead>\n",
       "  <tbody>\n",
       "    <tr>\n",
       "      <th>0</th>\n",
       "      <td>chr10:100007025..100007067,+</td>\n",
       "      <td>other</td>\n",
       "      <td>1</td>\n",
       "      <td>0</td>\n",
       "      <td>no CAGE activity</td>\n",
       "    </tr>\n",
       "    <tr>\n",
       "      <th>1</th>\n",
       "      <td>chr10:100051744..100051765,+</td>\n",
       "      <td>other</td>\n",
       "      <td>1</td>\n",
       "      <td>0</td>\n",
       "      <td>no CAGE activity</td>\n",
       "    </tr>\n",
       "    <tr>\n",
       "      <th>2</th>\n",
       "      <td>chr10:100051839..100051903,-</td>\n",
       "      <td>other</td>\n",
       "      <td>1</td>\n",
       "      <td>1</td>\n",
       "      <td>other</td>\n",
       "    </tr>\n",
       "    <tr>\n",
       "      <th>3</th>\n",
       "      <td>chr10:100053047..100053060,-</td>\n",
       "      <td>mRNA</td>\n",
       "      <td>0</td>\n",
       "      <td>0</td>\n",
       "      <td>no CAGE activity</td>\n",
       "    </tr>\n",
       "    <tr>\n",
       "      <th>4</th>\n",
       "      <td>chr10:100053061..100053066,-</td>\n",
       "      <td>mRNA</td>\n",
       "      <td>1</td>\n",
       "      <td>0</td>\n",
       "      <td>no CAGE activity</td>\n",
       "    </tr>\n",
       "  </tbody>\n",
       "</table>\n",
       "</div>"
      ],
      "text/plain": [
       "                        cage_id biotype  seq_ortholog  cage_ortholog  \\\n",
       "0  chr10:100007025..100007067,+   other             1              0   \n",
       "1  chr10:100051744..100051765,+   other             1              0   \n",
       "2  chr10:100051839..100051903,-   other             1              1   \n",
       "3  chr10:100053047..100053060,-    mRNA             0              0   \n",
       "4  chr10:100053061..100053066,-    mRNA             1              0   \n",
       "\n",
       "   other_sp_biotype  \n",
       "0  no CAGE activity  \n",
       "1  no CAGE activity  \n",
       "2             other  \n",
       "3  no CAGE activity  \n",
       "4  no CAGE activity  "
      ]
     },
     "execution_count": 8,
     "metadata": {},
     "output_type": "execute_result"
    }
   ],
   "source": [
    "mouse_list = pd.read_table(mouse_list_f)\n",
    "mouse_list.head()"
   ]
  },
  {
   "cell_type": "markdown",
   "metadata": {},
   "source": [
    "## 2. clean biotype counts"
   ]
  },
  {
   "cell_type": "code",
   "execution_count": 9,
   "metadata": {},
   "outputs": [
    {
     "data": {
      "text/plain": [
       "other     140996\n",
       "eRNA      130814\n",
       "mRNA       53595\n",
       "lncRNA      6048\n",
       "Name: biotype, dtype: int64"
      ]
     },
     "execution_count": 9,
     "metadata": {},
     "output_type": "execute_result"
    }
   ],
   "source": [
    "human_list.biotype.value_counts()"
   ]
  },
  {
   "cell_type": "code",
   "execution_count": 10,
   "metadata": {},
   "outputs": [
    {
     "data": {
      "text/plain": [
       "other     102302\n",
       "eRNA       88886\n",
       "mRNA       52547\n",
       "lncRNA      3468\n",
       "Name: biotype, dtype: int64"
      ]
     },
     "execution_count": 10,
     "metadata": {},
     "output_type": "execute_result"
    }
   ],
   "source": [
    "mouse_list.biotype.value_counts()"
   ]
  },
  {
   "cell_type": "code",
   "execution_count": 11,
   "metadata": {},
   "outputs": [
    {
     "data": {
      "text/html": [
       "<div>\n",
       "<style>\n",
       "    .dataframe thead tr:only-child th {\n",
       "        text-align: right;\n",
       "    }\n",
       "\n",
       "    .dataframe thead th {\n",
       "        text-align: left;\n",
       "    }\n",
       "\n",
       "    .dataframe tbody tr th {\n",
       "        vertical-align: top;\n",
       "    }\n",
       "</style>\n",
       "<table border=\"1\" class=\"dataframe\">\n",
       "  <thead>\n",
       "    <tr style=\"text-align: right;\">\n",
       "      <th></th>\n",
       "      <th>cage_id</th>\n",
       "      <th>biotype</th>\n",
       "      <th>seq_ortholog</th>\n",
       "      <th>cage_ortholog</th>\n",
       "      <th>other_sp_biotype</th>\n",
       "    </tr>\n",
       "  </thead>\n",
       "  <tbody>\n",
       "    <tr>\n",
       "      <th>270462</th>\n",
       "      <td>chr6:3386855-3386871</td>\n",
       "      <td>eRNA</td>\n",
       "      <td>0</td>\n",
       "      <td>0</td>\n",
       "      <td>no CAGE activity</td>\n",
       "    </tr>\n",
       "    <tr>\n",
       "      <th>125363</th>\n",
       "      <td>chr19:55954631..55954676,-</td>\n",
       "      <td>mRNA</td>\n",
       "      <td>0</td>\n",
       "      <td>0</td>\n",
       "      <td>no CAGE activity</td>\n",
       "    </tr>\n",
       "    <tr>\n",
       "      <th>35713</th>\n",
       "      <td>chr12:121716436..121716441,+</td>\n",
       "      <td>other</td>\n",
       "      <td>0</td>\n",
       "      <td>0</td>\n",
       "      <td>no CAGE activity</td>\n",
       "    </tr>\n",
       "    <tr>\n",
       "      <th>179520</th>\n",
       "      <td>chr2:113380153-113380493</td>\n",
       "      <td>eRNA</td>\n",
       "      <td>0</td>\n",
       "      <td>0</td>\n",
       "      <td>no CAGE activity</td>\n",
       "    </tr>\n",
       "    <tr>\n",
       "      <th>185286</th>\n",
       "      <td>chr2:168858571-168859104</td>\n",
       "      <td>eRNA</td>\n",
       "      <td>0</td>\n",
       "      <td>0</td>\n",
       "      <td>no CAGE activity</td>\n",
       "    </tr>\n",
       "  </tbody>\n",
       "</table>\n",
       "</div>"
      ],
      "text/plain": [
       "                             cage_id biotype  seq_ortholog  cage_ortholog  \\\n",
       "270462          chr6:3386855-3386871    eRNA             0              0   \n",
       "125363    chr19:55954631..55954676,-    mRNA             0              0   \n",
       "35713   chr12:121716436..121716441,+   other             0              0   \n",
       "179520      chr2:113380153-113380493    eRNA             0              0   \n",
       "185286      chr2:168858571-168859104    eRNA             0              0   \n",
       "\n",
       "        other_sp_biotype  \n",
       "270462  no CAGE activity  \n",
       "125363  no CAGE activity  \n",
       "35713   no CAGE activity  \n",
       "179520  no CAGE activity  \n",
       "185286  no CAGE activity  "
      ]
     },
     "execution_count": 11,
     "metadata": {},
     "output_type": "execute_result"
    }
   ],
   "source": [
    "human_list[human_list[\"seq_ortholog\"] == 0].sample(5)"
   ]
  },
  {
   "cell_type": "markdown",
   "metadata": {},
   "source": [
    "## 3. find % sequence conservation"
   ]
  },
  {
   "cell_type": "code",
   "execution_count": 12,
   "metadata": {},
   "outputs": [
    {
     "data": {
      "text/html": [
       "<div>\n",
       "<style>\n",
       "    .dataframe thead tr:only-child th {\n",
       "        text-align: right;\n",
       "    }\n",
       "\n",
       "    .dataframe thead th {\n",
       "        text-align: left;\n",
       "    }\n",
       "\n",
       "    .dataframe tbody tr th {\n",
       "        vertical-align: top;\n",
       "    }\n",
       "</style>\n",
       "<table border=\"1\" class=\"dataframe\">\n",
       "  <thead>\n",
       "    <tr style=\"text-align: right;\">\n",
       "      <th></th>\n",
       "      <th>biotype</th>\n",
       "      <th>cage_id_x</th>\n",
       "      <th>cage_id_y</th>\n",
       "      <th>cage_id</th>\n",
       "      <th>perc</th>\n",
       "    </tr>\n",
       "  </thead>\n",
       "  <tbody>\n",
       "    <tr>\n",
       "      <th>0</th>\n",
       "      <td>eRNA</td>\n",
       "      <td>130814</td>\n",
       "      <td>NaN</td>\n",
       "      <td>54178.0</td>\n",
       "      <td>41.416056</td>\n",
       "    </tr>\n",
       "    <tr>\n",
       "      <th>1</th>\n",
       "      <td>lncRNA</td>\n",
       "      <td>6048</td>\n",
       "      <td>3552.0</td>\n",
       "      <td>NaN</td>\n",
       "      <td>58.730159</td>\n",
       "    </tr>\n",
       "    <tr>\n",
       "      <th>2</th>\n",
       "      <td>mRNA</td>\n",
       "      <td>53595</td>\n",
       "      <td>43942.0</td>\n",
       "      <td>NaN</td>\n",
       "      <td>81.988992</td>\n",
       "    </tr>\n",
       "    <tr>\n",
       "      <th>3</th>\n",
       "      <td>other</td>\n",
       "      <td>140996</td>\n",
       "      <td>92130.0</td>\n",
       "      <td>NaN</td>\n",
       "      <td>65.342279</td>\n",
       "    </tr>\n",
       "  </tbody>\n",
       "</table>\n",
       "</div>"
      ],
      "text/plain": [
       "  biotype  cage_id_x  cage_id_y  cage_id       perc\n",
       "0    eRNA     130814        NaN  54178.0  41.416056\n",
       "1  lncRNA       6048     3552.0      NaN  58.730159\n",
       "2    mRNA      53595    43942.0      NaN  81.988992\n",
       "3   other     140996    92130.0      NaN  65.342279"
      ]
     },
     "execution_count": 12,
     "metadata": {},
     "output_type": "execute_result"
    }
   ],
   "source": [
    "human_tots = human_list.groupby(\"biotype\")[\"cage_id\"].agg(\"count\").reset_index()\n",
    "\n",
    "human_tsss = human_list[(human_list[\"biotype\"] != \"eRNA\") & (human_list[\"seq_ortholog\"] == 1)]\n",
    "human_tss_seqs = human_tsss.groupby(\"biotype\")[\"cage_id\"].agg(\"count\").reset_index()\n",
    "\n",
    "# make sure we pick enhancers that have both TSSs map\n",
    "human_enhs = human_list[(human_list[\"biotype\"] == \"eRNA\") & (human_list[\"seq_ortholog\"] >= 2)]\n",
    "human_enh_seqs = human_enhs.groupby(\"biotype\")[\"cage_id\"].agg(\"count\").reset_index()\n",
    "\n",
    "# merge\n",
    "human_seq_perc = human_tots.merge(human_tss_seqs, \n",
    "                                  on=\"biotype\", \n",
    "                                  how=\"left\").merge(human_enh_seqs, \n",
    "                                                    on=\"biotype\", \n",
    "                                                    how=\"left\")\n",
    "human_seq_perc[\"perc\"] = human_seq_perc.apply(get_perc, axis=1)\n",
    "human_seq_perc.head()"
   ]
  },
  {
   "cell_type": "code",
   "execution_count": 13,
   "metadata": {},
   "outputs": [
    {
     "data": {
      "text/html": [
       "<div>\n",
       "<style>\n",
       "    .dataframe thead tr:only-child th {\n",
       "        text-align: right;\n",
       "    }\n",
       "\n",
       "    .dataframe thead th {\n",
       "        text-align: left;\n",
       "    }\n",
       "\n",
       "    .dataframe tbody tr th {\n",
       "        vertical-align: top;\n",
       "    }\n",
       "</style>\n",
       "<table border=\"1\" class=\"dataframe\">\n",
       "  <thead>\n",
       "    <tr style=\"text-align: right;\">\n",
       "      <th></th>\n",
       "      <th>biotype</th>\n",
       "      <th>cage_id_x</th>\n",
       "      <th>cage_id_y</th>\n",
       "      <th>cage_id</th>\n",
       "      <th>perc</th>\n",
       "    </tr>\n",
       "  </thead>\n",
       "  <tbody>\n",
       "    <tr>\n",
       "      <th>0</th>\n",
       "      <td>eRNA</td>\n",
       "      <td>88886</td>\n",
       "      <td>NaN</td>\n",
       "      <td>43004.0</td>\n",
       "      <td>48.381072</td>\n",
       "    </tr>\n",
       "    <tr>\n",
       "      <th>1</th>\n",
       "      <td>lncRNA</td>\n",
       "      <td>3468</td>\n",
       "      <td>2382.0</td>\n",
       "      <td>NaN</td>\n",
       "      <td>68.685121</td>\n",
       "    </tr>\n",
       "    <tr>\n",
       "      <th>2</th>\n",
       "      <td>mRNA</td>\n",
       "      <td>52547</td>\n",
       "      <td>45695.0</td>\n",
       "      <td>NaN</td>\n",
       "      <td>86.960245</td>\n",
       "    </tr>\n",
       "    <tr>\n",
       "      <th>3</th>\n",
       "      <td>other</td>\n",
       "      <td>102302</td>\n",
       "      <td>70936.0</td>\n",
       "      <td>NaN</td>\n",
       "      <td>69.339798</td>\n",
       "    </tr>\n",
       "  </tbody>\n",
       "</table>\n",
       "</div>"
      ],
      "text/plain": [
       "  biotype  cage_id_x  cage_id_y  cage_id       perc\n",
       "0    eRNA      88886        NaN  43004.0  48.381072\n",
       "1  lncRNA       3468     2382.0      NaN  68.685121\n",
       "2    mRNA      52547    45695.0      NaN  86.960245\n",
       "3   other     102302    70936.0      NaN  69.339798"
      ]
     },
     "execution_count": 13,
     "metadata": {},
     "output_type": "execute_result"
    }
   ],
   "source": [
    "mouse_tots = mouse_list.groupby(\"biotype\")[\"cage_id\"].agg(\"count\").reset_index()\n",
    "\n",
    "mouse_tsss = mouse_list[(mouse_list[\"biotype\"] != \"eRNA\") & (mouse_list[\"seq_ortholog\"] == 1)]\n",
    "mouse_tss_seqs = mouse_tsss.groupby(\"biotype\")[\"cage_id\"].agg(\"count\").reset_index()\n",
    "\n",
    "# make sure we pick enhancers that have both TSSs map\n",
    "mouse_enhs = mouse_list[(mouse_list[\"biotype\"] == \"eRNA\") & (mouse_list[\"seq_ortholog\"] >= 2)]\n",
    "mouse_enh_seqs = mouse_enhs.groupby(\"biotype\")[\"cage_id\"].agg(\"count\").reset_index()\n",
    "\n",
    "# merge\n",
    "mouse_seq_perc = mouse_tots.merge(mouse_tss_seqs, \n",
    "                                  on=\"biotype\", \n",
    "                                  how=\"left\").merge(mouse_enh_seqs, \n",
    "                                                    on=\"biotype\", \n",
    "                                                    how=\"left\")\n",
    "mouse_seq_perc[\"perc\"] = mouse_seq_perc.apply(get_perc, axis=1)\n",
    "mouse_seq_perc.head()"
   ]
  },
  {
   "cell_type": "markdown",
   "metadata": {},
   "source": [
    "## 4. find % CAGE conservation"
   ]
  },
  {
   "cell_type": "code",
   "execution_count": 14,
   "metadata": {},
   "outputs": [
    {
     "data": {
      "text/html": [
       "<div>\n",
       "<style>\n",
       "    .dataframe thead tr:only-child th {\n",
       "        text-align: right;\n",
       "    }\n",
       "\n",
       "    .dataframe thead th {\n",
       "        text-align: left;\n",
       "    }\n",
       "\n",
       "    .dataframe tbody tr th {\n",
       "        vertical-align: top;\n",
       "    }\n",
       "</style>\n",
       "<table border=\"1\" class=\"dataframe\">\n",
       "  <thead>\n",
       "    <tr style=\"text-align: right;\">\n",
       "      <th></th>\n",
       "      <th>biotype</th>\n",
       "      <th>cage_id_x</th>\n",
       "      <th>cage_id_y</th>\n",
       "      <th>cage_id</th>\n",
       "      <th>perc</th>\n",
       "    </tr>\n",
       "  </thead>\n",
       "  <tbody>\n",
       "    <tr>\n",
       "      <th>0</th>\n",
       "      <td>eRNA</td>\n",
       "      <td>130814</td>\n",
       "      <td>NaN</td>\n",
       "      <td>9368.0</td>\n",
       "      <td>7.161313</td>\n",
       "    </tr>\n",
       "    <tr>\n",
       "      <th>1</th>\n",
       "      <td>lncRNA</td>\n",
       "      <td>6048</td>\n",
       "      <td>1905.0</td>\n",
       "      <td>NaN</td>\n",
       "      <td>31.498016</td>\n",
       "    </tr>\n",
       "    <tr>\n",
       "      <th>2</th>\n",
       "      <td>mRNA</td>\n",
       "      <td>53595</td>\n",
       "      <td>40492.0</td>\n",
       "      <td>NaN</td>\n",
       "      <td>75.551824</td>\n",
       "    </tr>\n",
       "    <tr>\n",
       "      <th>3</th>\n",
       "      <td>other</td>\n",
       "      <td>140996</td>\n",
       "      <td>61341.0</td>\n",
       "      <td>NaN</td>\n",
       "      <td>43.505490</td>\n",
       "    </tr>\n",
       "  </tbody>\n",
       "</table>\n",
       "</div>"
      ],
      "text/plain": [
       "  biotype  cage_id_x  cage_id_y  cage_id       perc\n",
       "0    eRNA     130814        NaN   9368.0   7.161313\n",
       "1  lncRNA       6048     1905.0      NaN  31.498016\n",
       "2    mRNA      53595    40492.0      NaN  75.551824\n",
       "3   other     140996    61341.0      NaN  43.505490"
      ]
     },
     "execution_count": 14,
     "metadata": {},
     "output_type": "execute_result"
    }
   ],
   "source": [
    "human_tots = human_list.groupby(\"biotype\")[\"cage_id\"].agg(\"count\").reset_index()\n",
    "\n",
    "human_tsss = human_list[(human_list[\"biotype\"] != \"eRNA\") & (human_list[\"cage_ortholog\"] == 1)]\n",
    "human_tss_seqs = human_tsss.groupby(\"biotype\")[\"cage_id\"].agg(\"count\").reset_index()\n",
    "\n",
    "# make sure we pick enhancers that have both TSSs map\n",
    "human_enhs = human_list[(human_list[\"biotype\"] == \"eRNA\") & (human_list[\"cage_ortholog\"] >= 2)]\n",
    "human_enh_seqs = human_enhs.groupby(\"biotype\")[\"cage_id\"].agg(\"count\").reset_index()\n",
    "\n",
    "# merge\n",
    "human_cage_perc = human_tots.merge(human_tss_seqs, \n",
    "                                  on=\"biotype\", \n",
    "                                  how=\"left\").merge(human_enh_seqs, \n",
    "                                                    on=\"biotype\", \n",
    "                                                    how=\"left\")\n",
    "human_cage_perc[\"perc\"] = human_cage_perc.apply(get_perc, axis=1)\n",
    "human_cage_perc.head()"
   ]
  },
  {
   "cell_type": "code",
   "execution_count": 15,
   "metadata": {},
   "outputs": [
    {
     "data": {
      "text/html": [
       "<div>\n",
       "<style>\n",
       "    .dataframe thead tr:only-child th {\n",
       "        text-align: right;\n",
       "    }\n",
       "\n",
       "    .dataframe thead th {\n",
       "        text-align: left;\n",
       "    }\n",
       "\n",
       "    .dataframe tbody tr th {\n",
       "        vertical-align: top;\n",
       "    }\n",
       "</style>\n",
       "<table border=\"1\" class=\"dataframe\">\n",
       "  <thead>\n",
       "    <tr style=\"text-align: right;\">\n",
       "      <th></th>\n",
       "      <th>biotype</th>\n",
       "      <th>cage_id_x</th>\n",
       "      <th>cage_id_y</th>\n",
       "      <th>cage_id</th>\n",
       "      <th>perc</th>\n",
       "    </tr>\n",
       "  </thead>\n",
       "  <tbody>\n",
       "    <tr>\n",
       "      <th>0</th>\n",
       "      <td>eRNA</td>\n",
       "      <td>88886</td>\n",
       "      <td>NaN</td>\n",
       "      <td>10428.0</td>\n",
       "      <td>11.731881</td>\n",
       "    </tr>\n",
       "    <tr>\n",
       "      <th>1</th>\n",
       "      <td>lncRNA</td>\n",
       "      <td>3468</td>\n",
       "      <td>1261.0</td>\n",
       "      <td>NaN</td>\n",
       "      <td>36.361015</td>\n",
       "    </tr>\n",
       "    <tr>\n",
       "      <th>2</th>\n",
       "      <td>mRNA</td>\n",
       "      <td>52547</td>\n",
       "      <td>42670.0</td>\n",
       "      <td>NaN</td>\n",
       "      <td>81.203494</td>\n",
       "    </tr>\n",
       "    <tr>\n",
       "      <th>3</th>\n",
       "      <td>other</td>\n",
       "      <td>102302</td>\n",
       "      <td>47951.0</td>\n",
       "      <td>NaN</td>\n",
       "      <td>46.872006</td>\n",
       "    </tr>\n",
       "  </tbody>\n",
       "</table>\n",
       "</div>"
      ],
      "text/plain": [
       "  biotype  cage_id_x  cage_id_y  cage_id       perc\n",
       "0    eRNA      88886        NaN  10428.0  11.731881\n",
       "1  lncRNA       3468     1261.0      NaN  36.361015\n",
       "2    mRNA      52547    42670.0      NaN  81.203494\n",
       "3   other     102302    47951.0      NaN  46.872006"
      ]
     },
     "execution_count": 15,
     "metadata": {},
     "output_type": "execute_result"
    }
   ],
   "source": [
    "mouse_tots = mouse_list.groupby(\"biotype\")[\"cage_id\"].agg(\"count\").reset_index()\n",
    "\n",
    "mouse_tsss = mouse_list[(mouse_list[\"biotype\"] != \"eRNA\") & (mouse_list[\"cage_ortholog\"] == 1)]\n",
    "mouse_tss_seqs = mouse_tsss.groupby(\"biotype\")[\"cage_id\"].agg(\"count\").reset_index()\n",
    "\n",
    "# make sure we pick enhancers that have both TSSs map\n",
    "mouse_enhs = mouse_list[(mouse_list[\"biotype\"] == \"eRNA\") & (mouse_list[\"cage_ortholog\"] >= 2)]\n",
    "mouse_enh_seqs = mouse_enhs.groupby(\"biotype\")[\"cage_id\"].agg(\"count\").reset_index()\n",
    "\n",
    "# merge\n",
    "mouse_cage_perc = mouse_tots.merge(mouse_tss_seqs, \n",
    "                                  on=\"biotype\", \n",
    "                                  how=\"left\").merge(mouse_enh_seqs, \n",
    "                                                    on=\"biotype\", \n",
    "                                                    how=\"left\")\n",
    "mouse_cage_perc[\"perc\"] = mouse_cage_perc.apply(get_perc, axis=1)\n",
    "mouse_cage_perc.head()"
   ]
  },
  {
   "cell_type": "markdown",
   "metadata": {},
   "source": [
    "## 5. make plots"
   ]
  },
  {
   "cell_type": "code",
   "execution_count": null,
   "metadata": {},
   "outputs": [],
   "source": [
    "order = [\"eRNA\", \"lncRNA\", \"mRNA\"]"
   ]
  },
  {
   "cell_type": "code",
   "execution_count": null,
   "metadata": {},
   "outputs": [],
   "source": [
    "fig, axarr = plt.subplots(figsize=(1.4, 2), ncols=1, nrows=2, sharex=True, sharey=True)\n",
    "\n",
    "ax = axarr[0]\n",
    "sns.barplot(data=human_seq_perc, x=\"biotype\", y=\"perc\",\n",
    "            order=order, color=sns.color_palette(\"Set2\")[1], ax=ax)\n",
    "ax.set_xlabel(\"\")\n",
    "ax.set_ylabel(\"% sequence\\northologs\")\n",
    "ax.set_ylim((0, 100))\n",
    "\n",
    "ax = axarr[1]\n",
    "sns.barplot(data=human_cage_perc, x=\"biotype\", y=\"perc\",\n",
    "            order=order, color=sns.color_palette(\"Set2\")[1], ax=ax)\n",
    "ax.set_xlabel(\"\")\n",
    "ax.set_ylabel(\"% conserved\")\n",
    "ax.set_xticklabels(order, rotation=50, ha='right', va='top')\n",
    "ax.set_ylim((0, 100))\n",
    "fig.savefig(\"human_orth_percents.pdf\", dpi=\"figure\", bbox_inches=\"tight\")"
   ]
  },
  {
   "cell_type": "code",
   "execution_count": null,
   "metadata": {},
   "outputs": [],
   "source": [
    "fig, axarr = plt.subplots(figsize=(1.4, 2), ncols=1, nrows=2, sharex=True, sharey=True)\n",
    "\n",
    "ax = axarr[0]\n",
    "sns.barplot(data=mouse_seq_perc, x=\"biotype\", y=\"perc\",\n",
    "            order=order, color=sns.color_palette(\"Set2\")[0], ax=ax)\n",
    "ax.set_xlabel(\"\")\n",
    "ax.set_ylabel(\"% sequence\\northologs\")\n",
    "ax.set_ylim((0, 100))\n",
    "\n",
    "ax = axarr[1]\n",
    "sns.barplot(data=mouse_cage_perc, x=\"biotype\", y=\"perc\",\n",
    "            order=order, color=sns.color_palette(\"Set2\")[0], ax=ax)\n",
    "ax.set_xlabel(\"\")\n",
    "ax.set_ylabel(\"% conserved\")\n",
    "ax.set_xticklabels(order, rotation=50, ha='right', va='top')\n",
    "ax.set_ylim((0, 100))\n",
    "fig.savefig(\"mouse_orth_percents.pdf\", dpi=\"figure\", bbox_inches=\"tight\")"
   ]
  },
  {
   "cell_type": "code",
   "execution_count": null,
   "metadata": {},
   "outputs": [],
   "source": []
  }
 ],
 "metadata": {
  "kernelspec": {
   "display_name": "Python [conda env:py3]",
   "language": "python",
   "name": "conda-env-py3-py"
  },
  "language_info": {
   "codemirror_mode": {
    "name": "ipython",
    "version": 3
   },
   "file_extension": ".py",
   "mimetype": "text/x-python",
   "name": "python",
   "nbconvert_exporter": "python",
   "pygments_lexer": "ipython3",
   "version": "3.6.3"
  }
 },
 "nbformat": 4,
 "nbformat_minor": 2
}
