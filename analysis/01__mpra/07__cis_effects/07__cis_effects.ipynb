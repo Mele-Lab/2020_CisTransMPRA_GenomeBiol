{
 "cells": [
  {
   "cell_type": "code",
   "execution_count": null,
   "metadata": {},
   "outputs": [],
   "source": [
    "import warnings\n",
    "warnings.filterwarnings('ignore')\n",
    "\n",
    "import itertools\n",
    "import pandas as pd\n",
    "import numpy as np\n",
    "import matplotlib as mpl\n",
    "import matplotlib.pyplot as plt\n",
    "import seaborn as sns\n",
    "import sys\n",
    "\n",
    "from itertools import combinations \n",
    "from scipy.integrate import cumtrapz\n",
    "from scipy.stats import linregress\n",
    "from scipy.stats import spearmanr\n",
    "from scipy.stats import pearsonr\n",
    "\n",
    "from sklearn.preprocessing import StandardScaler\n",
    "from sklearn.neighbors import NearestNeighbors\n",
    "\n",
    "# import utils\n",
    "sys.path.append(\"../../../utils\")\n",
    "from plotting_utils import *\n",
    "\n",
    "%matplotlib inline\n",
    "%config InlineBackend.figure_format = 'svg'\n",
    "mpl.rcParams['figure.autolayout'] = False"
   ]
  },
  {
   "cell_type": "code",
   "execution_count": null,
   "metadata": {},
   "outputs": [],
   "source": [
    "sns.set(**PAPER_PRESET)\n",
    "fontsize = PAPER_FONTSIZE"
   ]
  },
  {
   "cell_type": "code",
   "execution_count": null,
   "metadata": {},
   "outputs": [],
   "source": [
    "np.random.seed(2019)"
   ]
  },
  {
   "cell_type": "code",
   "execution_count": null,
   "metadata": {},
   "outputs": [],
   "source": [
    "QUANT_ALPHA = 0.05"
   ]
  },
  {
   "cell_type": "markdown",
   "metadata": {},
   "source": [
    "## functions"
   ]
  },
  {
   "cell_type": "code",
   "execution_count": null,
   "metadata": {},
   "outputs": [],
   "source": [
    "def cis_sig_status(row):\n",
    "    if row.cis_HUES64_status == \"significant cis effect\" and row.cis_mESC_status == \"significant cis effect\":\n",
    "        return \"sig_both\"\n",
    "    elif row.cis_HUES64_status == \"significant cis effect\" and row.cis_mESC_status == \"no cis effect\":\n",
    "        return \"sig_human\"\n",
    "    elif row.cis_HUES64_status == \"no cis effect\" and row.cis_mESC_status == \"significant cis effect\":\n",
    "        return \"sig_mouse\"\n",
    "    else:\n",
    "        return \"not_sig_both\""
   ]
  },
  {
   "cell_type": "markdown",
   "metadata": {},
   "source": [
    "## variables"
   ]
  },
  {
   "cell_type": "code",
   "execution_count": null,
   "metadata": {},
   "outputs": [],
   "source": [
    "data_f = \"../../../data/02__mpra/03__results/all_processed_results.txt\""
   ]
  },
  {
   "cell_type": "markdown",
   "metadata": {},
   "source": [
    "## 1. import data"
   ]
  },
  {
   "cell_type": "code",
   "execution_count": null,
   "metadata": {},
   "outputs": [],
   "source": [
    "data = pd.read_table(data_f, sep=\"\\t\")\n",
    "data.head()"
   ]
  },
  {
   "cell_type": "markdown",
   "metadata": {},
   "source": [
    "## 2. filter data"
   ]
  },
  {
   "cell_type": "code",
   "execution_count": null,
   "metadata": {},
   "outputs": [],
   "source": [
    "len(data)"
   ]
  },
  {
   "cell_type": "code",
   "execution_count": null,
   "metadata": {},
   "outputs": [],
   "source": [
    "data = data[~pd.isnull(data[\"minimal_biotype_hg19\"])]\n",
    "len(data)"
   ]
  },
  {
   "cell_type": "code",
   "execution_count": null,
   "metadata": {},
   "outputs": [],
   "source": [
    "data.cis_HUES64_status.value_counts()"
   ]
  },
  {
   "cell_type": "code",
   "execution_count": null,
   "metadata": {},
   "outputs": [],
   "source": [
    "data_filt = data[((data[\"HUES64_padj_hg19\"] < QUANT_ALPHA) | (data[\"mESC_padj_mm9\"] < QUANT_ALPHA))]\n",
    "len(data_filt)"
   ]
  },
  {
   "cell_type": "code",
   "execution_count": null,
   "metadata": {},
   "outputs": [],
   "source": [
    "data_filt_sp = data_filt.drop(\"orig_species\", axis=1)\n",
    "data_filt_sp.drop_duplicates(inplace=True)\n",
    "len(data_filt_sp)"
   ]
  },
  {
   "cell_type": "code",
   "execution_count": null,
   "metadata": {},
   "outputs": [],
   "source": [
    "# data_filt_tile1 = data_filt[data_filt[\"tss_tile_num\"] == \"tile1\"]\n",
    "# len(data_filt_tile1)"
   ]
  },
  {
   "cell_type": "code",
   "execution_count": null,
   "metadata": {},
   "outputs": [],
   "source": [
    "# data_filt_tile1_sp = data_filt_sp[data_filt_sp[\"tss_tile_num\"] == \"tile1\"]\n",
    "# len(data_filt_tile1_sp)"
   ]
  },
  {
   "cell_type": "code",
   "execution_count": null,
   "metadata": {},
   "outputs": [],
   "source": [
    "# data_filt_tile2 = data_filt[data_filt[\"tss_tile_num\"] == \"tile2\"]\n",
    "# len(data_filt_tile2)"
   ]
  },
  {
   "cell_type": "code",
   "execution_count": null,
   "metadata": {},
   "outputs": [],
   "source": [
    "# data_filt_tile2_sp = data_filt_sp[data_filt_sp[\"tss_tile_num\"] == \"tile2\"]\n",
    "# len(data_filt_tile2_sp)"
   ]
  },
  {
   "cell_type": "markdown",
   "metadata": {},
   "source": [
    "## 3. counts of cis effects"
   ]
  },
  {
   "cell_type": "code",
   "execution_count": null,
   "metadata": {},
   "outputs": [],
   "source": [
    "# dfs = [data_filt_sp, data_filt_tile1_sp, data_filt_tile2_sp]\n",
    "# titles = [\"both tiles\", \"tile1 only\", \"tile2 only\"]\n",
    "# labels = [\"both_tiles\", \"tile1_only\", \"tile2_only\"]"
   ]
  },
  {
   "cell_type": "code",
   "execution_count": null,
   "metadata": {},
   "outputs": [],
   "source": [
    "cis_order = [\"no cis effect\", \"significant cis effect\"]\n",
    "cis_pal = {\"no cis effect\": \"gray\", \"significant cis effect\": \"black\"}\n",
    "\n",
    "det_order = [\"cis effect\\n(higher in human)\", \"cis effect\\n(higher in mouse)\"]\n",
    "complete_pal = {\"cis effect\\n(higher in human)\": sns.color_palette(\"Set2\")[1],\n",
    "                \"cis effect\\n(higher in mouse)\": sns.color_palette(\"Set2\")[0]}\n",
    "det_pal = {\"cis effect\\n(higher in human)\": sns.light_palette(sns.color_palette(\"Set2\")[1])[2],\n",
    "           \"cis effect\\n(higher in mouse)\": sns.light_palette(sns.color_palette(\"Set2\")[0])[2]}"
   ]
  },
  {
   "cell_type": "code",
   "execution_count": null,
   "metadata": {},
   "outputs": [],
   "source": [
    "# for df, title, label in zip(dfs, titles, labels):\n",
    "    \n",
    "#     fig, ax = plt.subplots(figsize=(0.75, 1.75), nrows=1, ncols=1)\n",
    "\n",
    "#     sns.countplot(data=df, x=\"cis_status_one\", palette=cis_pal, order=cis_order, linewidth=2, \n",
    "#                   edgecolor=cis_pal.values(), ax=ax)\n",
    "#     ax.set_xticklabels([\"no cis effect\", \"cis effect\"], va=\"top\", ha=\"right\", rotation=50)\n",
    "#     ax.set_xlabel(\"\")\n",
    "#     ax.set_title(title)\n",
    "    \n",
    "#     tot = 0\n",
    "#     for i, l in enumerate(cis_order):\n",
    "#         n = len(df[df[\"cis_status_one\"] == l])\n",
    "#         tot += n\n",
    "#         ax.annotate(str(n), xy=(i, 2), xycoords=\"data\", xytext=(0, 0), \n",
    "#                     textcoords=\"offset pixels\", ha='center', va='bottom', \n",
    "#                     color=\"white\", size=fontsize)\n",
    "#     print(\"percent cis sig: %s\" % (n/tot))\n",
    "\n",
    "#     plt.show()\n",
    "#     fig.savefig(\"count_cis_status.%s.pdf\" % label, dpi=\"figure\", bbox_inches=\"tight\")\n",
    "#     plt.close()"
   ]
  },
  {
   "cell_type": "code",
   "execution_count": null,
   "metadata": {},
   "outputs": [],
   "source": [
    "fig, ax = plt.subplots(figsize=(0.75, 1.75), nrows=1, ncols=1)\n",
    "\n",
    "sns.countplot(data=data_filt_sp, x=\"cis_status_one\", palette=cis_pal, order=cis_order, linewidth=2, \n",
    "              edgecolor=cis_pal.values(), ax=ax)\n",
    "ax.set_xticklabels([\"no cis effect\", \"cis effect\"], va=\"top\", ha=\"right\", rotation=50)\n",
    "ax.set_xlabel(\"\")\n",
    "\n",
    "tot = 0\n",
    "for i, l in enumerate(cis_order):\n",
    "    n = len(data_filt_sp[data_filt_sp[\"cis_status_one\"] == l])\n",
    "    tot += n\n",
    "    ax.annotate(str(n), xy=(i, 2), xycoords=\"data\", xytext=(0, 0), \n",
    "                textcoords=\"offset pixels\", ha='center', va='bottom', \n",
    "                color=\"white\", size=fontsize)\n",
    "print(\"percent cis sig: %s\" % (n/tot))\n",
    "\n",
    "plt.show()\n",
    "fig.savefig(\"count_cis_status.pdf\", dpi=\"figure\", bbox_inches=\"tight\")\n",
    "plt.close()"
   ]
  },
  {
   "cell_type": "markdown",
   "metadata": {},
   "source": [
    "## 4. plot cis effect sizes between HUES64 and mESC"
   ]
  },
  {
   "cell_type": "code",
   "execution_count": null,
   "metadata": {},
   "outputs": [],
   "source": [
    "# for df, title, label in zip(dfs, titles, labels):\n",
    "    \n",
    "#     df[\"cis_sig_status\"] = df.apply(cis_sig_status, axis=1)\n",
    "    \n",
    "#     # plot effect size agreement b/w the two cells\n",
    "#     fig, ax = plt.subplots(figsize=(1.75, 1.75), nrows=1, ncols=1)\n",
    "\n",
    "#     sig_human = df[df[\"cis_sig_status\"] == \"sig_human\"]\n",
    "#     sig_mouse = df[df[\"cis_sig_status\"] == \"sig_mouse\"]\n",
    "#     sig_both = df[df[\"cis_sig_status\"] == \"sig_both\"]\n",
    "#     not_sig = df[df[\"cis_sig_status\"] == \"not_sig_both\"]\n",
    "\n",
    "#     ax.scatter(sig_both[\"logFC_cis_HUES64\"], sig_both[\"logFC_cis_mESC\"], s=12, alpha=1, \n",
    "#                color=\"black\", linewidths=0.5, edgecolors=\"white\")\n",
    "#     ax.scatter(sig_human[\"logFC_cis_HUES64\"], sig_human[\"logFC_cis_mESC\"], s=10, alpha=0.75, \n",
    "#                color=sns.color_palette(\"Set2\")[1], linewidths=0.5, edgecolors=\"white\")\n",
    "#     ax.scatter(not_sig[\"logFC_cis_HUES64\"], not_sig[\"logFC_cis_mESC\"], s=10, alpha=0.75, \n",
    "#                color=\"gray\", linewidths=0.5, edgecolors=\"white\")\n",
    "#     ax.scatter(sig_mouse[\"logFC_cis_HUES64\"], sig_mouse[\"logFC_cis_mESC\"], s=10, alpha=0.75, \n",
    "#                color=sns.color_palette(\"Set2\")[0], linewidths=0.5, edgecolors=\"white\")\n",
    "\n",
    "#     plt.xlabel(\"cis effect size in hESCs\")\n",
    "#     plt.ylabel(\"cis effect size in mESCs\")\n",
    "\n",
    "#     ax.axhline(y=0, color=\"black\", linestyle=\"dashed\")\n",
    "#     ax.axvline(x=0, color=\"black\", linestyle=\"dashed\")\n",
    "#     ax.set_xlim((-6, 6))\n",
    "#     ax.set_ylim((-6, 6))\n",
    "\n",
    "#     # annotate corr\n",
    "#     no_nan = df[(~pd.isnull(df[\"logFC_cis_HUES64\"])) & (~pd.isnull(df[\"logFC_cis_mESC\"]))]\n",
    "#     r, p = spearmanr(no_nan[\"logFC_cis_HUES64\"], no_nan[\"logFC_cis_mESC\"])\n",
    "#     ax.text(0.05, 0.97, \"r = {:.2f}\".format(r), ha=\"left\", va=\"top\", fontsize=fontsize,\n",
    "#             transform=ax.transAxes)\n",
    "#     ax.text(0.05, 0.90, \"n = %s\" % (len(no_nan)), ha=\"left\", va=\"top\", fontsize=fontsize,\n",
    "#             transform=ax.transAxes)\n",
    "#     plt.show()\n",
    "#     fig.savefig(\"cis_effect_bw_cells_scatter.sig_status_color.%s.pdf\" % label, dpi=\"figure\", bbox_inches=\"tight\")\n",
    "#     plt.close()"
   ]
  },
  {
   "cell_type": "code",
   "execution_count": null,
   "metadata": {},
   "outputs": [],
   "source": [
    "df = data_filt_sp"
   ]
  },
  {
   "cell_type": "code",
   "execution_count": null,
   "metadata": {},
   "outputs": [],
   "source": [
    "df[\"cis_sig_status\"] = df.apply(cis_sig_status, axis=1)\n",
    "\n",
    "# plot effect size agreement b/w the two cells\n",
    "fig, ax = plt.subplots(figsize=(1.75, 1.75), nrows=1, ncols=1)\n",
    "\n",
    "sig_human = df[df[\"cis_sig_status\"] == \"sig_human\"]\n",
    "sig_mouse = df[df[\"cis_sig_status\"] == \"sig_mouse\"]\n",
    "sig_both = df[df[\"cis_sig_status\"] == \"sig_both\"]\n",
    "not_sig = df[df[\"cis_sig_status\"] == \"not_sig_both\"]\n",
    "\n",
    "ax.scatter(sig_both[\"logFC_cis_HUES64\"], sig_both[\"logFC_cis_mESC\"], s=12, alpha=1, \n",
    "           color=\"black\", linewidths=0.5, edgecolors=\"white\")\n",
    "ax.scatter(sig_human[\"logFC_cis_HUES64\"], sig_human[\"logFC_cis_mESC\"], s=10, alpha=0.75, \n",
    "           color=sns.color_palette(\"Set2\")[1], linewidths=0.5, edgecolors=\"white\")\n",
    "ax.scatter(not_sig[\"logFC_cis_HUES64\"], not_sig[\"logFC_cis_mESC\"], s=10, alpha=0.75, \n",
    "           color=\"gray\", linewidths=0.5, edgecolors=\"white\")\n",
    "ax.scatter(sig_mouse[\"logFC_cis_HUES64\"], sig_mouse[\"logFC_cis_mESC\"], s=10, alpha=0.75, \n",
    "           color=sns.color_palette(\"Set2\")[0], linewidths=0.5, edgecolors=\"white\")\n",
    "\n",
    "plt.xlabel(\"cis effect size in hESCs\")\n",
    "plt.ylabel(\"cis effect size in mESCs\")\n",
    "\n",
    "ax.axhline(y=0, color=\"black\", linestyle=\"dashed\")\n",
    "ax.axvline(x=0, color=\"black\", linestyle=\"dashed\")\n",
    "ax.set_xlim((-6, 6))\n",
    "ax.set_ylim((-6, 6))\n",
    "\n",
    "# annotate corr\n",
    "no_nan = df[(~pd.isnull(df[\"logFC_cis_HUES64\"])) & (~pd.isnull(df[\"logFC_cis_mESC\"]))]\n",
    "r, p = spearmanr(no_nan[\"logFC_cis_HUES64\"], no_nan[\"logFC_cis_mESC\"])\n",
    "ax.text(0.05, 0.97, \"r = {:.2f}\".format(r), ha=\"left\", va=\"top\", fontsize=fontsize,\n",
    "        transform=ax.transAxes)\n",
    "ax.text(0.05, 0.90, \"n = %s\" % (len(no_nan)), ha=\"left\", va=\"top\", fontsize=fontsize,\n",
    "        transform=ax.transAxes)\n",
    "plt.show()\n",
    "fig.savefig(\"cis_effect_bw_cells_scatter.sig_status_color.pdf\", dpi=\"figure\", bbox_inches=\"tight\")\n",
    "plt.close()"
   ]
  },
  {
   "cell_type": "markdown",
   "metadata": {},
   "source": [
    "## 5. effect size differences across biotypes"
   ]
  },
  {
   "cell_type": "code",
   "execution_count": null,
   "metadata": {},
   "outputs": [],
   "source": [
    "min_switch_order = [\"CAGE turnover - eRNA\", \"CAGE turnover - lncRNA\", \"CAGE turnover - mRNA\", \n",
    "                    \"eRNA\", \"lncRNA\", \"mRNA\"]\n",
    "min_switch_pal = {\"CAGE turnover - eRNA\": sns.color_palette(\"Set2\")[2], \n",
    "                  \"CAGE turnover - lncRNA\": sns.color_palette(\"Set2\")[2],\n",
    "                  \"CAGE turnover - mRNA\": sns.color_palette(\"Set2\")[2],\n",
    "                  \"eRNA\": sns.color_palette(\"Set2\")[7], \n",
    "                  \"lncRNA\": sns.color_palette(\"Set2\")[7], \n",
    "                  \"mRNA\": sns.color_palette(\"Set2\")[7]}"
   ]
  },
  {
   "cell_type": "code",
   "execution_count": null,
   "metadata": {},
   "outputs": [],
   "source": [
    "# for df, title, label in zip(dfs, titles, labels):\n",
    "#     df[\"abs_logFC_cis\"] = np.abs(df[\"logFC_cis_one\"])\n",
    "#     #df = df[df[\"native_status\"] == \"significant native effect\"]\n",
    "\n",
    "#     fig = plt.figure(figsize=(2.5, 1.5))\n",
    "#     ax = sns.boxplot(data=df, x=\"biotype_switch_minimal\", y=\"abs_logFC_cis\", \n",
    "#                      flierprops = dict(marker='o', markersize=5), \n",
    "#                      order=min_switch_order, palette=min_switch_pal)\n",
    "#     mimic_r_boxplot(ax)\n",
    "\n",
    "#     ax.set_xticklabels([\"eRNA\", \"lncRNA\", \"mRNA\", \"eRNA\", \"lncRNA\", \"mRNA\"], rotation=50, ha='right', va='top')\n",
    "#     ax.set_xlabel(\"\")\n",
    "#     ax.set_ylabel(\"cis effect size\")\n",
    "#     ax.set_title(title)\n",
    "\n",
    "#     for i, l in enumerate(min_switch_order):\n",
    "#         sub = df[df[\"biotype_switch_minimal\"] == l]\n",
    "#         n = len(sub)\n",
    "#         print(\"%s median eff size: %s\" % (l, sub[\"abs_logFC_cis\"].median()))\n",
    "#         color = min_switch_pal[l]\n",
    "#         ax.annotate(str(n), xy=(i, -0.8), xycoords=\"data\", xytext=(0, 0), \n",
    "#                     textcoords=\"offset pixels\", ha='center', va='bottom', \n",
    "#                     color=color, size=fontsize)\n",
    "        \n",
    "#     ### pvals ###\n",
    "#     vals1 = np.asarray(df[df[\"biotype_switch_minimal\"] == \"CAGE turnover - eRNA\"][\"abs_logFC_cis\"])\n",
    "#     vals2 = np.asarray(df[df[\"biotype_switch_minimal\"] == \"CAGE turnover - lncRNA\"][\"abs_logFC_cis\"])\n",
    "#     vals3 = np.asarray(df[df[\"biotype_switch_minimal\"] == \"CAGE turnover - mRNA\"][\"abs_logFC_cis\"])\n",
    "#     vals4 = np.asarray(df[df[\"biotype_switch_minimal\"] == \"eRNA\"][\"abs_logFC_cis\"])\n",
    "#     vals5 = np.asarray(df[df[\"biotype_switch_minimal\"] == \"lncRNA\"][\"abs_logFC_cis\"])\n",
    "#     vals6 = np.asarray(df[df[\"biotype_switch_minimal\"] == \"mRNA\"][\"abs_logFC_cis\"])\n",
    "    \n",
    "#     vals1 = vals1[~np.isnan(vals1)]\n",
    "#     vals2 = vals2[~np.isnan(vals2)]\n",
    "#     vals3 = vals3[~np.isnan(vals3)]\n",
    "#     vals4 = vals4[~np.isnan(vals4)]\n",
    "#     vals5 = vals5[~np.isnan(vals5)]\n",
    "#     vals6 = vals6[~np.isnan(vals6)]\n",
    "    \n",
    "#     _, pval12 = stats.mannwhitneyu(vals1, vals2, alternative=\"two-sided\", use_continuity=False)\n",
    "#     _, pval13 = stats.mannwhitneyu(vals1, vals3, alternative=\"two-sided\", use_continuity=False)\n",
    "#     _, pval23 = stats.mannwhitneyu(vals2, vals3, alternative=\"two-sided\", use_continuity=False)\n",
    "#     _, pval45 = stats.mannwhitneyu(vals4, vals5, alternative=\"two-sided\", use_continuity=False)\n",
    "#     _, pval46 = stats.mannwhitneyu(vals4, vals6, alternative=\"two-sided\", use_continuity=False)\n",
    "#     _, pval56 = stats.mannwhitneyu(vals5, vals6, alternative=\"two-sided\", use_continuity=False)\n",
    "    \n",
    "#     annotate_pval(ax, 0.2, 0.8, 5, 0, 5, pval12, fontsize-1)\n",
    "#     annotate_pval(ax, 1.2, 1.8, 5, 0, 5, pval13, fontsize-1)\n",
    "#     annotate_pval(ax, 0, 2, 6, 0, 6, pval23, fontsize-1)\n",
    "#     annotate_pval(ax, 3.2, 3.8, 5, 0, 5, pval45, fontsize-1)\n",
    "#     annotate_pval(ax, 4.2, 4.8, 5, 0, 5, pval56, fontsize-1)\n",
    "#     annotate_pval(ax, 3, 5, 6, 0, 6, pval46, fontsize-1)\n",
    "\n",
    "#     ax.set_ylim((-0.9, 7))\n",
    "#     ax.axvline(x=2.5, linestyle=\"dashed\", color=\"black\")\n",
    "\n",
    "#     plt.show()\n",
    "#     fig.savefig(\"cis_minimal_biotype_switch_effectsize_boxplot.%s.pdf\" % label, dpi=\"figure\", bbox_inches=\"tight\")\n",
    "#     plt.close()"
   ]
  },
  {
   "cell_type": "code",
   "execution_count": null,
   "metadata": {},
   "outputs": [],
   "source": [
    "df[\"abs_logFC_cis\"] = np.abs(df[\"logFC_cis_one\"])\n",
    "#df = df[df[\"native_status\"] == \"significant native effect\"]\n",
    "\n",
    "fig = plt.figure(figsize=(2.5, 1.75))\n",
    "ax = sns.boxplot(data=df, x=\"biotype_switch_minimal\", y=\"abs_logFC_cis\", \n",
    "                 flierprops = dict(marker='o', markersize=5), \n",
    "                 order=min_switch_order, palette=min_switch_pal)\n",
    "mimic_r_boxplot(ax)\n",
    "\n",
    "ax.set_xticklabels([\"eRNA\", \"lncRNA\", \"mRNA\", \"eRNA\", \"lncRNA\", \"mRNA\"], rotation=50, ha='right', va='top')\n",
    "ax.set_xlabel(\"\")\n",
    "ax.set_ylabel(\"cis effect size\")\n",
    "\n",
    "for i, l in enumerate(min_switch_order):\n",
    "    sub = df[df[\"biotype_switch_minimal\"] == l]\n",
    "    n = len(sub)\n",
    "    print(\"%s median eff size: %s\" % (l, sub[\"abs_logFC_cis\"].median()))\n",
    "    color = min_switch_pal[l]\n",
    "    ax.annotate(str(n), xy=(i, -0.8), xycoords=\"data\", xytext=(0, 0), \n",
    "                textcoords=\"offset pixels\", ha='center', va='bottom', \n",
    "                color=color, size=fontsize)\n",
    "\n",
    "### pvals ###\n",
    "vals1 = np.asarray(df[df[\"biotype_switch_minimal\"] == \"CAGE turnover - eRNA\"][\"abs_logFC_cis\"])\n",
    "vals2 = np.asarray(df[df[\"biotype_switch_minimal\"] == \"CAGE turnover - lncRNA\"][\"abs_logFC_cis\"])\n",
    "vals3 = np.asarray(df[df[\"biotype_switch_minimal\"] == \"CAGE turnover - mRNA\"][\"abs_logFC_cis\"])\n",
    "vals4 = np.asarray(df[df[\"biotype_switch_minimal\"] == \"eRNA\"][\"abs_logFC_cis\"])\n",
    "vals5 = np.asarray(df[df[\"biotype_switch_minimal\"] == \"lncRNA\"][\"abs_logFC_cis\"])\n",
    "vals6 = np.asarray(df[df[\"biotype_switch_minimal\"] == \"mRNA\"][\"abs_logFC_cis\"])\n",
    "\n",
    "vals1 = vals1[~np.isnan(vals1)]\n",
    "vals2 = vals2[~np.isnan(vals2)]\n",
    "vals3 = vals3[~np.isnan(vals3)]\n",
    "vals4 = vals4[~np.isnan(vals4)]\n",
    "vals5 = vals5[~np.isnan(vals5)]\n",
    "vals6 = vals6[~np.isnan(vals6)]\n",
    "\n",
    "_, pval12 = stats.mannwhitneyu(vals1, vals2, alternative=\"two-sided\", use_continuity=False)\n",
    "_, pval13 = stats.mannwhitneyu(vals1, vals3, alternative=\"two-sided\", use_continuity=False)\n",
    "_, pval23 = stats.mannwhitneyu(vals2, vals3, alternative=\"two-sided\", use_continuity=False)\n",
    "_, pval45 = stats.mannwhitneyu(vals4, vals5, alternative=\"two-sided\", use_continuity=False)\n",
    "_, pval46 = stats.mannwhitneyu(vals4, vals6, alternative=\"two-sided\", use_continuity=False)\n",
    "_, pval56 = stats.mannwhitneyu(vals5, vals6, alternative=\"two-sided\", use_continuity=False)\n",
    "\n",
    "annotate_pval(ax, 0.2, 0.8, 5, 0, 5, pval12, fontsize-1)\n",
    "annotate_pval(ax, 1.2, 1.8, 5, 0, 5, pval13, fontsize-1)\n",
    "annotate_pval(ax, 0, 2, 6, 0, 6, pval23, fontsize-1)\n",
    "annotate_pval(ax, 3.2, 3.8, 5, 0, 5, pval45, fontsize-1)\n",
    "annotate_pval(ax, 4.2, 4.8, 5, 0, 5, pval56, fontsize-1)\n",
    "annotate_pval(ax, 3, 5, 6, 0, 6, pval46, fontsize-1)\n",
    "\n",
    "ax.set_ylim((-0.9, 7))\n",
    "ax.axvline(x=2.5, linestyle=\"dashed\", color=\"black\")\n",
    "\n",
    "plt.show()\n",
    "fig.savefig(\"cis_minimal_biotype_switch_effectsize_boxplot.pdf\", dpi=\"figure\", bbox_inches=\"tight\")\n",
    "plt.close()"
   ]
  },
  {
   "cell_type": "code",
   "execution_count": null,
   "metadata": {},
   "outputs": [],
   "source": [
    "def cage_status(row):\n",
    "    if \"CAGE turnover\" in row.biotype_switch_minimal:\n",
    "        return \"turnover\"\n",
    "    else:\n",
    "        return \"conserved\""
   ]
  },
  {
   "cell_type": "code",
   "execution_count": null,
   "metadata": {},
   "outputs": [],
   "source": [
    "def one_biotype(row):\n",
    "    if row.minimal_biotype_hg19 == \"no CAGE activity\":\n",
    "        return row.minimal_biotype_mm9\n",
    "    else:\n",
    "        return row.minimal_biotype_hg19"
   ]
  },
  {
   "cell_type": "code",
   "execution_count": null,
   "metadata": {},
   "outputs": [],
   "source": [
    "pal = {\"conserved\": sns.color_palette(\"Set2\")[7], \"turnover\": sns.color_palette(\"Set2\")[2]}"
   ]
  },
  {
   "cell_type": "code",
   "execution_count": null,
   "metadata": {},
   "outputs": [],
   "source": [
    "# for df, title, pltname in zip(dfs, titles, labels):\n",
    "#     df[\"abs_logFC_cis\"] = np.abs(df[\"logFC_cis_one\"])\n",
    "#     df[\"cage_status\"] = df.apply(cage_status, axis=1)\n",
    "#     df[\"one_biotype\"] = df.apply(one_biotype, axis=1)\n",
    "    \n",
    "#     fig = plt.figure(figsize=(2.75, 1.5))\n",
    "\n",
    "#     ax = sns.boxplot(data=df, x=\"one_biotype\", y=\"abs_logFC_cis\", hue=\"cage_status\",\n",
    "#                      flierprops = dict(marker='o', markersize=5),\n",
    "#                      order=[\"eRNA\", \"lncRNA\", \"mRNA\"], hue_order=[\"turnover\", \"conserved\"], palette=pal)\n",
    "#     mimic_r_boxplot(ax)\n",
    "\n",
    "#     ax.set_xticklabels([\"eRNA\", \"lncRNA\", \"mRNA\"], rotation=50, ha='right', va='top')\n",
    "#     ax.set_xlabel(\"\")\n",
    "#     ax.set_ylabel(\"cis effect size\")\n",
    "#     plt.legend(loc=2, bbox_to_anchor=(1.05, 1))\n",
    "\n",
    "#     ys = [2, 2, 2.5]\n",
    "#     for i, label in enumerate([\"eRNA\", \"lncRNA\", \"mRNA\"]):\n",
    "#         sub = df[df[\"one_biotype\"] == label]\n",
    "#         sub1 = sub[sub[\"cage_status\"] == \"turnover\"]\n",
    "#         sub2 = sub[sub[\"cage_status\"] == \"conserved\"]\n",
    "\n",
    "#         vals1 = np.asarray(sub1[\"abs_logFC_cis\"])\n",
    "#         vals2 = np.asarray(sub2[\"abs_logFC_cis\"])\n",
    "\n",
    "#         vals1 = vals1[~np.isnan(vals1)]\n",
    "#         vals2 = vals2[~np.isnan(vals2)]\n",
    "\n",
    "#         u, pval = stats.mannwhitneyu(vals1, vals2, alternative=\"two-sided\", use_continuity=False)\n",
    "#         print(pval)\n",
    "\n",
    "#         if pval >= 0.05:\n",
    "#             annotate_pval(ax, i-0.1, i+0.1, ys[i], 0, ys[i], pval, fontsize-1)\n",
    "#         else:\n",
    "#             annotate_pval(ax, i-0.1, i+0.1, ys[i], 0, ys[i], pval, fontsize-1)\n",
    "\n",
    "#         n1 = len(vals1)\n",
    "#         n2 = len(vals2)\n",
    "\n",
    "#         ax.annotate(str(n1), xy=(i-0.2, -0.8), xycoords=\"data\", xytext=(0, 0), \n",
    "#                     textcoords=\"offset pixels\", ha='center', va='bottom', \n",
    "#                     color=pal[\"turnover\"], size=fontsize)\n",
    "#         ax.annotate(str(n2), xy=(i+0.2, -0.8), xycoords=\"data\", xytext=(0, 0), \n",
    "#                     textcoords=\"offset pixels\", ha='center', va='bottom', \n",
    "#                     color=pal[\"conserved\"], size=fontsize)\n",
    "\n",
    "#     ax.set_ylim((-1, 6))\n",
    "#     ax.set_title(title)\n",
    "#     fig.savefig(\"cis_effect_biotype_sep_cage.%s.pdf\" % pltname, dpi=\"figure\", bbox_inches=\"tight\")"
   ]
  },
  {
   "cell_type": "code",
   "execution_count": null,
   "metadata": {},
   "outputs": [],
   "source": [
    "df[\"abs_logFC_cis\"] = np.abs(df[\"logFC_cis_one\"])\n",
    "df[\"cage_status\"] = df.apply(cage_status, axis=1)\n",
    "df[\"one_biotype\"] = df.apply(one_biotype, axis=1)\n",
    "\n",
    "fig = plt.figure(figsize=(2.75, 1.75))\n",
    "\n",
    "ax = sns.boxplot(data=df, x=\"one_biotype\", y=\"abs_logFC_cis\", hue=\"cage_status\",\n",
    "                 flierprops = dict(marker='o', markersize=5),\n",
    "                 order=[\"eRNA\", \"lncRNA\", \"mRNA\"], hue_order=[\"turnover\", \"conserved\"], palette=pal)\n",
    "mimic_r_boxplot(ax)\n",
    "\n",
    "ax.set_xticklabels([\"eRNA\", \"lncRNA\", \"mRNA\"], rotation=50, ha='right', va='top')\n",
    "ax.set_xlabel(\"\")\n",
    "ax.set_ylabel(\"cis effect size\")\n",
    "plt.legend(loc=2, bbox_to_anchor=(1.05, 1))\n",
    "\n",
    "ys = [2, 2, 2.5]\n",
    "for i, label in enumerate([\"eRNA\", \"lncRNA\", \"mRNA\"]):\n",
    "    sub = df[df[\"one_biotype\"] == label]\n",
    "    sub1 = sub[sub[\"cage_status\"] == \"turnover\"]\n",
    "    sub2 = sub[sub[\"cage_status\"] == \"conserved\"]\n",
    "\n",
    "    vals1 = np.asarray(sub1[\"abs_logFC_cis\"])\n",
    "    vals2 = np.asarray(sub2[\"abs_logFC_cis\"])\n",
    "\n",
    "    vals1 = vals1[~np.isnan(vals1)]\n",
    "    vals2 = vals2[~np.isnan(vals2)]\n",
    "\n",
    "    u, pval = stats.mannwhitneyu(vals1, vals2, alternative=\"two-sided\", use_continuity=False)\n",
    "    print(pval)\n",
    "\n",
    "    if pval >= 0.05:\n",
    "        annotate_pval(ax, i-0.1, i+0.1, ys[i], 0, ys[i], pval, fontsize-1)\n",
    "    else:\n",
    "        annotate_pval(ax, i-0.1, i+0.1, ys[i], 0, ys[i], pval, fontsize-1)\n",
    "\n",
    "    n1 = len(vals1)\n",
    "    n2 = len(vals2)\n",
    "\n",
    "    ax.annotate(str(n1), xy=(i-0.2, -0.8), xycoords=\"data\", xytext=(0, 0), \n",
    "                textcoords=\"offset pixels\", ha='center', va='bottom', \n",
    "                color=pal[\"turnover\"], size=fontsize)\n",
    "    ax.annotate(str(n2), xy=(i+0.2, -0.8), xycoords=\"data\", xytext=(0, 0), \n",
    "                textcoords=\"offset pixels\", ha='center', va='bottom', \n",
    "                color=pal[\"conserved\"], size=fontsize)\n",
    "\n",
    "ax.set_ylim((-1, 6))\n",
    "fig.savefig(\"cis_effect_biotype_sep_cage.pdf\", dpi=\"figure\", bbox_inches=\"tight\")"
   ]
  },
  {
   "cell_type": "markdown",
   "metadata": {},
   "source": [
    "## 6. percent sig across biotypes"
   ]
  },
  {
   "cell_type": "code",
   "execution_count": null,
   "metadata": {},
   "outputs": [],
   "source": [
    "# for df, title, label in zip(dfs, titles, labels):\n",
    "\n",
    "#     tots = df.groupby(\"biotype_switch_minimal\")[\"hg19_id\"].agg(\"count\").reset_index()\n",
    "#     sig = df[df[\"cis_status_one\"] != \"no cis effect\"].groupby(\"biotype_switch_minimal\")[\"hg19_id\"].agg(\"count\").reset_index()\n",
    "#     clean_sig = tots.merge(sig, on=\"biotype_switch_minimal\", how=\"left\").fillna(0)\n",
    "#     clean_sig[\"percent_sig\"] = (clean_sig[\"hg19_id_y\"]/clean_sig[\"hg19_id_x\"])*100\n",
    "    \n",
    "#     fig = plt.figure(figsize=(2.5, 1.5))\n",
    "#     ax = sns.barplot(data=clean_sig, x=\"biotype_switch_minimal\", y=\"percent_sig\", \n",
    "#                      order=min_switch_order, color=sns.color_palette(\"Set2\")[2])\n",
    "\n",
    "#     ax.set_xticklabels([\"eRNA\", \"lncRNA\", \"mRNA\", \"eRNA\", \"lncRNA\", \"mRNA\"], rotation=50, ha='right', va='top')\n",
    "#     ax.set_xlabel(\"\")\n",
    "#     ax.set_ylabel(\"% of seq. pairs with\\ncis effects\")\n",
    "#     ax.set_title(title)\n",
    "#     ax.axvline(x=2.5, linestyle=\"dashed\", color=\"black\")\n",
    "    \n",
    "#     for i, l in enumerate(min_switch_order):\n",
    "#         sub = clean_sig[clean_sig[\"biotype_switch_minimal\"] == l]\n",
    "#         print(\"%s perc sig: %s\" % (l, sub[\"percent_sig\"].iloc[0]))\n",
    "#         n = sub[\"hg19_id_x\"].iloc[0]\n",
    "#         ax.annotate(str(n), xy=(i, 2), xycoords=\"data\", xytext=(0, 0), \n",
    "#                     textcoords=\"offset pixels\", ha='center', va='bottom', \n",
    "#                     color=\"white\", size=fontsize)\n",
    "    \n",
    "#     plt.show()\n",
    "#     fig.savefig(\"perc_sig_cis_minimal_biotype_switch.%s.pdf\" % label, dpi=\"figure\", bbox_inches=\"tight\")\n",
    "#     plt.close()"
   ]
  },
  {
   "cell_type": "code",
   "execution_count": null,
   "metadata": {},
   "outputs": [],
   "source": [
    "tots = df.groupby(\"biotype_switch_minimal\")[\"hg19_id\"].agg(\"count\").reset_index()\n",
    "sig = df[df[\"cis_status_one\"] != \"no cis effect\"].groupby(\"biotype_switch_minimal\")[\"hg19_id\"].agg(\"count\").reset_index()\n",
    "clean_sig = tots.merge(sig, on=\"biotype_switch_minimal\", how=\"left\").fillna(0)\n",
    "clean_sig[\"percent_sig\"] = (clean_sig[\"hg19_id_y\"]/clean_sig[\"hg19_id_x\"])*100\n",
    "\n",
    "fig = plt.figure(figsize=(2.5, 1.75))\n",
    "ax = sns.barplot(data=clean_sig, x=\"biotype_switch_minimal\", y=\"percent_sig\", \n",
    "                 order=min_switch_order, color=sns.color_palette(\"Set2\")[2])\n",
    "\n",
    "ax.set_xticklabels([\"eRNA\", \"lncRNA\", \"mRNA\", \"eRNA\", \"lncRNA\", \"mRNA\"], rotation=50, ha='right', va='top')\n",
    "ax.set_xlabel(\"\")\n",
    "ax.set_ylabel(\"% of seq. pairs with\\ncis effects\")\n",
    "ax.axvline(x=2.5, linestyle=\"dashed\", color=\"black\")\n",
    "\n",
    "for i, l in enumerate(min_switch_order):\n",
    "    sub = clean_sig[clean_sig[\"biotype_switch_minimal\"] == l]\n",
    "    print(\"%s perc sig: %s\" % (l, sub[\"percent_sig\"].iloc[0]))\n",
    "    n = sub[\"hg19_id_x\"].iloc[0]\n",
    "    ax.annotate(str(n), xy=(i, 2), xycoords=\"data\", xytext=(0, 0), \n",
    "                textcoords=\"offset pixels\", ha='center', va='bottom', \n",
    "                color=\"white\", size=fontsize)\n",
    "\n",
    "plt.show()\n",
    "fig.savefig(\"perc_sig_cis_minimal_biotype_switch.pdf\", dpi=\"figure\", bbox_inches=\"tight\")\n",
    "plt.close()"
   ]
  },
  {
   "cell_type": "markdown",
   "metadata": {},
   "source": [
    "## 7. plot example"
   ]
  },
  {
   "cell_type": "code",
   "execution_count": null,
   "metadata": {},
   "outputs": [],
   "source": [
    "ex = df[df[\"hg19_id\"] == \"h.1096\"]\n",
    "ex = ex[[\"hg19_id\", \"mm9_id\", \"minimal_biotype_hg19\", \"minimal_biotype_mm9\", \"HUES64_hg19\", \"HUES64_mm9\",\n",
    "         \"mESC_hg19\", \"mESC_mm9\", \"cis_HUES64_status_det\", \"fdr_cis_HUES64\", \"cis_mESC_status_det\", \"fdr_cis_mESC\"]]\n",
    "ex"
   ]
  },
  {
   "cell_type": "code",
   "execution_count": null,
   "metadata": {},
   "outputs": [],
   "source": [
    "ex = pd.melt(ex, id_vars=[\"hg19_id\", \"mm9_id\", \"minimal_biotype_hg19\", \"minimal_biotype_mm9\"])\n",
    "ex = ex[ex[\"variable\"].isin([\"HUES64_hg19\", \"HUES64_mm9\", \"mESC_hg19\", \"mESC_mm9\", \"fdr_cis_HUES64\", \"fdr_cis_mESC\"])]"
   ]
  },
  {
   "cell_type": "code",
   "execution_count": null,
   "metadata": {},
   "outputs": [],
   "source": [
    "ex[\"cell\"] = ex[\"variable\"].str.split(\"_\", expand=True)[0]\n",
    "ex[\"seq\"] = ex[\"variable\"].str.split(\"_\", expand=True)[1]\n",
    "ex.head()"
   ]
  },
  {
   "cell_type": "code",
   "execution_count": null,
   "metadata": {},
   "outputs": [],
   "source": [
    "order = [\"HUES64\", \"mESC\"]\n",
    "hue_order = [\"hg19\", \"mm9\"]\n",
    "pal = {\"hg19\": sns.color_palette(\"Set2\")[1], \"mm9\": sns.color_palette(\"Set2\")[0]}"
   ]
  },
  {
   "cell_type": "code",
   "execution_count": null,
   "metadata": {},
   "outputs": [],
   "source": [
    "fig = plt.figure(figsize=(1.5, 1.75))\n",
    "\n",
    "sub = ex[ex[\"cell\"].isin([\"HUES64\", \"mESC\"])]\n",
    "ax = sns.barplot(data=sub, x=\"cell\", y=\"value\", hue=\"seq\", order=order, hue_order=hue_order, palette=pal)\n",
    "ax.set_xticklabels([\"hESCs\", \"mESCs\"], rotation=50, va=\"top\", ha=\"right\")\n",
    "ax.set_ylabel(\"MPRA activity\")\n",
    "ax.set_xlabel(\"\")\n",
    "ax.get_legend().remove()\n",
    "\n",
    "ax.set_ylim((0, 4.25))\n",
    "annotate_pval(ax, -0.25, 0.25, 3.75, 0, 3.75, ex[ex[\"variable\"] == \"fdr_cis_HUES64\"][\"value\"].iloc[0], fontsize-1)\n",
    "annotate_pval(ax, 0.75, 1.25, 2.25, 0, 2.25, ex[ex[\"variable\"] == \"fdr_cis_mESC\"][\"value\"].iloc[0], fontsize-1)\n",
    "\n",
    "fig.savefig(\"cis_example_barplot.pdf\", dpi=\"figure\", bbox_inches=\"tight\")"
   ]
  },
  {
   "cell_type": "code",
   "execution_count": null,
   "metadata": {},
   "outputs": [],
   "source": []
  }
 ],
 "metadata": {
  "kernelspec": {
   "display_name": "Python [conda env:py3]",
   "language": "python",
   "name": "conda-env-py3-py"
  },
  "language_info": {
   "codemirror_mode": {
    "name": "ipython",
    "version": 3
   },
   "file_extension": ".py",
   "mimetype": "text/x-python",
   "name": "python",
   "nbconvert_exporter": "python",
   "pygments_lexer": "ipython3",
   "version": "3.6.3"
  }
 },
 "nbformat": 4,
 "nbformat_minor": 2
}
