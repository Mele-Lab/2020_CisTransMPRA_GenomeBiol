{
 "cells": [
  {
   "cell_type": "code",
   "execution_count": null,
   "metadata": {},
   "outputs": [],
   "source": [
    "import warnings\n",
    "warnings.filterwarnings('ignore')\n",
    "\n",
    "import pandas as pd\n",
    "import numpy as np\n",
    "import matplotlib as mpl\n",
    "import matplotlib.pyplot as plt\n",
    "import seaborn as sns\n",
    "import sys\n",
    "\n",
    "from scipy.stats import spearmanr\n",
    "\n",
    "# import utils\n",
    "sys.path.append(\"../../../utils\")\n",
    "from plotting_utils import *\n",
    "from classify_utils import *\n",
    "\n",
    "%matplotlib inline\n",
    "# %config InlineBackend.figure_format = 'svg'\n",
    "# mpl.rcParams['figure.autolayout'] = False"
   ]
  },
  {
   "cell_type": "code",
   "execution_count": null,
   "metadata": {},
   "outputs": [],
   "source": [
    "sns.set(**PAPER_PRESET)\n",
    "fontsize = PAPER_FONTSIZE"
   ]
  },
  {
   "cell_type": "code",
   "execution_count": null,
   "metadata": {},
   "outputs": [],
   "source": [
    "np.random.seed(2019)"
   ]
  },
  {
   "cell_type": "code",
   "execution_count": null,
   "metadata": {},
   "outputs": [],
   "source": [
    "QUANT_ALPHA = 0.05"
   ]
  },
  {
   "cell_type": "markdown",
   "metadata": {},
   "source": [
    "## functions"
   ]
  },
  {
   "cell_type": "markdown",
   "metadata": {},
   "source": [
    "## variables"
   ]
  },
  {
   "cell_type": "code",
   "execution_count": null,
   "metadata": {},
   "outputs": [],
   "source": [
    "data_dir = \"../../../data/02__mpra/02__activs\"\n",
    "alpha_f = \"%s/alpha_per_elem.quantification.txt\" % data_dir\n",
    "human_vals_f = \"%s/human_TSS_vals.both_tiles.txt\" % data_dir\n",
    "mouse_vals_f= \"%s/mouse_TSS_vals.both_tiles.txt\" % data_dir"
   ]
  },
  {
   "cell_type": "code",
   "execution_count": null,
   "metadata": {},
   "outputs": [],
   "source": [
    "native_f = \"%s/native_results.txt\" % data_dir\n",
    "HUES64_cis_f = \"%s/HUES64_cis_results.txt\" % data_dir\n",
    "mESC_cis_f = \"%s/mESC_cis_results.txt\" % data_dir\n",
    "human_trans_f = \"%s/human_trans_results.txt\" % data_dir\n",
    "mouse_trans_f = \"%s/mouse_trans_results.txt\" % data_dir\n",
    "cis_trans_int_f = \"%s/cis_trans_interaction_results.txt\" % data_dir"
   ]
  },
  {
   "cell_type": "code",
   "execution_count": null,
   "metadata": {},
   "outputs": [],
   "source": [
    "tss_map_f = \"../../../data/01__design/01__mpra_list/mpra_tss.with_ids.RECLASSIFIED_WITH_MAX.txt\""
   ]
  },
  {
   "cell_type": "code",
   "execution_count": null,
   "metadata": {},
   "outputs": [],
   "source": [
    "#align_f = \"../../../misc/00__tss_metadata/tss_map.seq_alignment.txt\""
   ]
  },
  {
   "cell_type": "code",
   "execution_count": null,
   "metadata": {},
   "outputs": [],
   "source": [
    "#cage_data_f = \"../../../misc/00__tss_metadata/All_TSS_and_enh.CAGE_grouped_exp.tissue_sp.txt.gz\""
   ]
  },
  {
   "cell_type": "markdown",
   "metadata": {},
   "source": [
    "## 1. import data"
   ]
  },
  {
   "cell_type": "code",
   "execution_count": null,
   "metadata": {},
   "outputs": [],
   "source": [
    "alpha = pd.read_table(alpha_f, sep=\"\\t\").reset_index()\n",
    "alpha.head()"
   ]
  },
  {
   "cell_type": "code",
   "execution_count": null,
   "metadata": {},
   "outputs": [],
   "source": [
    "len(alpha)"
   ]
  },
  {
   "cell_type": "code",
   "execution_count": null,
   "metadata": {},
   "outputs": [],
   "source": [
    "human_vals = pd.read_table(human_vals_f)\n",
    "mouse_vals = pd.read_table(mouse_vals_f)\n",
    "human_vals.head()"
   ]
  },
  {
   "cell_type": "code",
   "execution_count": null,
   "metadata": {},
   "outputs": [],
   "source": [
    "native = pd.read_table(native_f).reset_index()\n",
    "native.columns = [\"index\", \"stat_native\", \"pval_native\", \"fdr_native\", \"df.test_native\", \"df.dna_native\", \n",
    "                  \"df.rna.full_native\", \"df.rna.red_native\", \"logFC_native\"]\n",
    "native[\"index\"] = native.apply(fix_ctrl_id, axis=1)\n",
    "native.sample(5)"
   ]
  },
  {
   "cell_type": "code",
   "execution_count": null,
   "metadata": {},
   "outputs": [],
   "source": [
    "HUES64_cis = pd.read_table(HUES64_cis_f).reset_index()\n",
    "HUES64_cis.columns = [\"index\", \"stat_cis_HUES64\", \"pval_cis_HUES64\", \"fdr_cis_HUES64\", \"df.test_cis_HUES64\", \n",
    "                      \"df.dna_cis_HUES64\", \"df.rna.full_cis_HUES64\", \"df.rna.red_cis_HUES64\", \"logFC_cis_HUES64\"]\n",
    "HUES64_cis[\"index\"] = HUES64_cis.apply(fix_ctrl_id, axis=1)\n",
    "\n",
    "mESC_cis = pd.read_table(mESC_cis_f).reset_index()\n",
    "mESC_cis.columns = [\"index\", \"stat_cis_mESC\", \"pval_cis_mESC\", \"fdr_cis_mESC\", \"df.test_cis_mESC\", \n",
    "                    \"df.dna_cis_mESC\", \"df.rna.full_cis_mESC\", \"df.rna.red_cis_mESC\", \"logFC_cis_mESC\"]\n",
    "mESC_cis[\"index\"] = mESC_cis.apply(fix_ctrl_id, axis=1)"
   ]
  },
  {
   "cell_type": "code",
   "execution_count": null,
   "metadata": {},
   "outputs": [],
   "source": [
    "human_trans = pd.read_table(human_trans_f).reset_index()\n",
    "human_trans.columns = [\"index\", \"stat_trans_human\", \"pval_trans_human\", \"fdr_trans_human\", \"df.test_trans_human\", \n",
    "                       \"df.dna_trans_human\", \"df.rna.full_trans_human\", \"df.rna.red_trans_human\", \"logFC_trans_human\"]\n",
    "human_trans[\"index\"] = human_trans.apply(fix_ctrl_id, axis=1)\n",
    "\n",
    "mouse_trans = pd.read_table(mouse_trans_f).reset_index()\n",
    "mouse_trans.columns = [\"index\", \"stat_trans_mouse\", \"pval_trans_mouse\", \"fdr_trans_mouse\", \"df.test_trans_mouse\", \n",
    "                       \"df.dna_trans_mouse\", \"df.rna.full_trans_mouse\", \"df.rna.red_trans_mouse\", \"logFC_trans_mouse\"]\n",
    "mouse_trans[\"index\"] = mouse_trans.apply(fix_ctrl_id, axis=1)"
   ]
  },
  {
   "cell_type": "code",
   "execution_count": null,
   "metadata": {},
   "outputs": [],
   "source": [
    "cis_trans_int = pd.read_table(cis_trans_int_f).reset_index()\n",
    "cis_trans_int.columns = [\"index\", \"stat_int\", \"pval_int\", \"fdr_int\", \"df.test_int\", \n",
    "                         \"df.dna_int\", \"df.rna.full_int\", \"df.rna.red_int\", \"logFC_int\"]\n",
    "cis_trans_int[\"index\"] = cis_trans_int.apply(fix_ctrl_id, axis=1)"
   ]
  },
  {
   "cell_type": "code",
   "execution_count": null,
   "metadata": {},
   "outputs": [],
   "source": [
    "tss_map = pd.read_table(tss_map_f)\n",
    "tss_map.head()"
   ]
  },
  {
   "cell_type": "code",
   "execution_count": null,
   "metadata": {},
   "outputs": [],
   "source": [
    "tss_map.minimal_biotype_hg19.value_counts()"
   ]
  },
  {
   "cell_type": "code",
   "execution_count": null,
   "metadata": {},
   "outputs": [],
   "source": [
    "# align = pd.read_table(align_f, sep=\",\", index_col=0)\n",
    "# align.head()"
   ]
  },
  {
   "cell_type": "code",
   "execution_count": null,
   "metadata": {},
   "outputs": [],
   "source": [
    "# cage_data = pd.read_table(cage_data_f, sep=\"\\t\")\n",
    "# cage_data.drop([\"tissue_sp_3\", \"n_expr\"], axis=1, inplace=True)\n",
    "# cage_data.columns = [\"cage_id_hg19\", \"av_cage_exp_hg19\", \"cage_tissue_sp_hg19\", \"cage_tss_type_hg19\"]\n",
    "# cage_data.head()"
   ]
  },
  {
   "cell_type": "markdown",
   "metadata": {},
   "source": [
    "## 2. add biotype switch to TSS map"
   ]
  },
  {
   "cell_type": "code",
   "execution_count": null,
   "metadata": {},
   "outputs": [],
   "source": [
    "tss_map[tss_map[\"hg19_id\"] == \"h.14\"]"
   ]
  },
  {
   "cell_type": "code",
   "execution_count": null,
   "metadata": {},
   "outputs": [],
   "source": [
    "tss_map.minimal_biotype_hg19.value_counts()"
   ]
  },
  {
   "cell_type": "code",
   "execution_count": null,
   "metadata": {},
   "outputs": [],
   "source": [
    "# tss_map[\"biotype_switch_clean\"] = tss_map.apply(biotype_switch_clean, axis=1)\n",
    "# tss_map.biotype_switch_clean.value_counts()"
   ]
  },
  {
   "cell_type": "code",
   "execution_count": null,
   "metadata": {},
   "outputs": [],
   "source": [
    "len(tss_map)"
   ]
  },
  {
   "cell_type": "code",
   "execution_count": null,
   "metadata": {},
   "outputs": [],
   "source": [
    "tss_map[\"biotype_switch_minimal\"] = tss_map.apply(biotype_switch_minimal, axis=1)\n",
    "tss_map.biotype_switch_minimal.value_counts()"
   ]
  },
  {
   "cell_type": "markdown",
   "metadata": {},
   "source": [
    "## 3. merge alphas with TSS map"
   ]
  },
  {
   "cell_type": "markdown",
   "metadata": {},
   "source": [
    "split up into tile1 and tile2"
   ]
  },
  {
   "cell_type": "code",
   "execution_count": null,
   "metadata": {},
   "outputs": [],
   "source": [
    "human_vals_sub = human_vals[[\"element\", \"tss_id\", \"tss_tile_num\"]]\n",
    "human_vals_sub.columns = [\"hg19_element\", \"hg19_id\", \"hg19_tile_num\"]\n",
    "\n",
    "mouse_vals_sub = mouse_vals[[\"element\", \"tss_id\", \"tss_tile_num\"]]\n",
    "mouse_vals_sub.columns = [\"mm9_element\", \"mm9_id\", \"mm9_tile_num\"]\n",
    "mouse_vals_sub.sample(5)"
   ]
  },
  {
   "cell_type": "code",
   "execution_count": null,
   "metadata": {},
   "outputs": [],
   "source": [
    "human_vals_tile1 = human_vals_sub[human_vals_sub[\"hg19_tile_num\"] == \"tile1\"].drop_duplicates()\n",
    "human_vals_tile2 = human_vals_sub[human_vals_sub[\"hg19_tile_num\"] == \"tile2\"].drop_duplicates()\n",
    "mouse_vals_tile1 = mouse_vals_sub[mouse_vals_sub[\"mm9_tile_num\"] == \"tile1\"].drop_duplicates()\n",
    "mouse_vals_tile2 = mouse_vals_sub[mouse_vals_sub[\"mm9_tile_num\"] == \"tile2\"].drop_duplicates()\n",
    "\n",
    "print(len(human_vals_tile1))\n",
    "print(len(human_vals_tile2))\n",
    "print(len(mouse_vals_tile1))\n",
    "print(len(mouse_vals_tile2))"
   ]
  },
  {
   "cell_type": "code",
   "execution_count": null,
   "metadata": {},
   "outputs": [],
   "source": [
    "# both_tile_ids = tss_map[(tss_map[\"n_tiles_hg19\"] >= 2) & (tss_map[\"n_tiles_mm9\"] >= 2)]\n",
    "both_tile_ids = tss_map[(~pd.isnull(tss_map[\"n_tiles_hg19\"]) & ~(pd.isnull(tss_map[\"n_tiles_mm9\"])))]\n",
    "len(both_tile_ids)"
   ]
  },
  {
   "cell_type": "code",
   "execution_count": null,
   "metadata": {},
   "outputs": [],
   "source": [
    "tile1_ids = both_tile_ids[(both_tile_ids[\"tile_match\"] == \"tile1:tile1\") | \n",
    "                          (both_tile_ids[\"tile_match\"] == \"tile1:tile2\")][[\"hg19_id\", \"mm9_id\"]].drop_duplicates()\n",
    "len(tile1_ids)"
   ]
  },
  {
   "cell_type": "code",
   "execution_count": null,
   "metadata": {},
   "outputs": [],
   "source": [
    "tile2_ids = both_tile_ids[(both_tile_ids[\"tile_match\"] == \"tile2:tile2\")][[\"hg19_id\", \"mm9_id\"]].drop_duplicates()\n",
    "len(tile2_ids)"
   ]
  },
  {
   "cell_type": "code",
   "execution_count": null,
   "metadata": {},
   "outputs": [],
   "source": [
    "tss_map_tile1 = tile1_ids.merge(tss_map, on=[\"hg19_id\", \"mm9_id\"], how=\"left\")\n",
    "tss_map_tile1 = tss_map_tile1.merge(human_vals_tile1, on=\"hg19_id\").merge(mouse_vals_tile1, on=\"mm9_id\")\n",
    "print(len(tss_map_tile1))"
   ]
  },
  {
   "cell_type": "code",
   "execution_count": null,
   "metadata": {},
   "outputs": [],
   "source": [
    "tss_map_tile2 = tile2_ids.merge(tss_map, on=[\"hg19_id\", \"mm9_id\"], how=\"left\")\n",
    "tss_map_tile2 = tss_map_tile2.merge(human_vals_tile2, on=\"hg19_id\").merge(mouse_vals_tile2, on=\"mm9_id\")\n",
    "print(len(tss_map_tile2))"
   ]
  },
  {
   "cell_type": "code",
   "execution_count": null,
   "metadata": {},
   "outputs": [],
   "source": [
    "tss_map_tile1 = tss_map_tile1.merge(alpha, \n",
    "                                    left_on=\"hg19_element\", \n",
    "                                    right_on=\"index\").merge(alpha,\n",
    "                                                            left_on=\"mm9_element\",\n",
    "                                                            right_on=\"index\",\n",
    "                                                            suffixes=(\"_hg19\", \"_mm9\"))\n",
    "tss_map_tile1[\"tss_tile_num\"] = \"tile1\"\n",
    "tss_map_tile1.head()"
   ]
  },
  {
   "cell_type": "code",
   "execution_count": null,
   "metadata": {},
   "outputs": [],
   "source": [
    "tss_map_tile2 = tss_map_tile2.merge(alpha, \n",
    "                                    left_on=\"hg19_element\", \n",
    "                                    right_on=\"index\").merge(alpha,\n",
    "                                                            left_on=\"mm9_element\",\n",
    "                                                            right_on=\"index\",\n",
    "                                                            suffixes=(\"_hg19\", \"_mm9\"))\n",
    "tss_map_tile2[\"tss_tile_num\"] = \"tile2\"\n",
    "tss_map_tile2.head()"
   ]
  },
  {
   "cell_type": "code",
   "execution_count": null,
   "metadata": {},
   "outputs": [],
   "source": [
    "tss_map = tss_map_tile1.append(tss_map_tile2)\n",
    "tss_map.biotype_hg19.value_counts()"
   ]
  },
  {
   "cell_type": "code",
   "execution_count": null,
   "metadata": {},
   "outputs": [],
   "source": [
    "data = tss_map[[\"hg19_id\", \"chr_tss_hg19\", \"start_tss_hg19\", \"biotype_hg19\", \n",
    "                \"minimal_biotype_hg19\", \"cage_id_hg19\", \"name_peak_hg19\", \"stem_exp_hg19\", \"max_cage_hg19\", \n",
    "                \"mm9_id\", \"chr_tss_mm9\", \n",
    "                \"start_tss_mm9\", \"biotype_mm9\", \"minimal_biotype_mm9\", \"cage_id_mm9\", \n",
    "                \"name_peak_mm9\", \"stem_exp_mm9\", \"max_cage_mm9\", \"tss_tile_num\", \"orig_species\", \n",
    "                \"biotype_switch_minimal\", \"HUES64_hg19\", \"mESC_hg19\", \"HUES64_mm9\", \"mESC_mm9\", \"HUES64_padj_hg19\", \n",
    "                \"mESC_padj_hg19\", \"HUES64_padj_mm9\", \"mESC_padj_mm9\"]].drop_duplicates()\n",
    "data.sample(5)"
   ]
  },
  {
   "cell_type": "code",
   "execution_count": null,
   "metadata": {},
   "outputs": [],
   "source": [
    "len(data)"
   ]
  },
  {
   "cell_type": "markdown",
   "metadata": {},
   "source": [
    "## 4. find appropriate FDR cutoffs for each model\n",
    "choose FDR cutoff as the one that calls < 10% of controls as significant"
   ]
  },
  {
   "cell_type": "code",
   "execution_count": null,
   "metadata": {},
   "outputs": [],
   "source": [
    "native_ctrls = native[native[\"index\"].str.contains(\"CONTROL\")]\n",
    "cis_HUES64_ctrls = HUES64_cis[HUES64_cis[\"index\"].str.contains(\"CONTROL\")]\n",
    "cis_mESC_ctrls = mESC_cis[mESC_cis[\"index\"].str.contains(\"CONTROL\")]\n",
    "trans_human_ctrls = human_trans[human_trans[\"index\"].str.contains(\"CONTROL\")]\n",
    "trans_mouse_ctrls = mouse_trans[mouse_trans[\"index\"].str.contains(\"CONTROL\")]\n",
    "cis_trans_int_ctrls = cis_trans_int[cis_trans_int[\"index\"].str.contains(\"CONTROL\")]"
   ]
  },
  {
   "cell_type": "code",
   "execution_count": null,
   "metadata": {},
   "outputs": [],
   "source": [
    "print(len(native_ctrls))\n",
    "print(len(cis_HUES64_ctrls))\n",
    "print(len(cis_mESC_ctrls))\n",
    "print(len(trans_human_ctrls))\n",
    "print(len(trans_mouse_ctrls))\n",
    "print(len(cis_trans_int_ctrls))"
   ]
  },
  {
   "cell_type": "markdown",
   "metadata": {},
   "source": [
    "make plots to show different #s of controls called as \"significant\" at alpha < 0.05 in each model"
   ]
  },
  {
   "cell_type": "code",
   "execution_count": null,
   "metadata": {},
   "outputs": [],
   "source": [
    "n_sig_models = {}\n",
    "for model, df, fdr in zip([\"native effects\", \"HUES64 cis effects\", \"mESC cis effects\", \"human trans effects\",\n",
    "                           \"mouse trans effects\", \"cis/trans interaction effects\"],\n",
    "                          [native_ctrls, cis_HUES64_ctrls, cis_mESC_ctrls, trans_human_ctrls, trans_mouse_ctrls,\n",
    "                           cis_trans_int_ctrls],\n",
    "                          [\"fdr_native\", \"fdr_cis_HUES64\", \"fdr_cis_mESC\", \"fdr_trans_human\", \"fdr_trans_mouse\",\n",
    "                           \"fdr_int\"]):\n",
    "    n_sig = len(df[df[fdr] < 0.05])\n",
    "    n_sig_models[model] = [n_sig]\n",
    "n_sig_models = pd.DataFrame.from_dict(n_sig_models, orient=\"index\").reset_index()\n",
    "n_sig_models.columns = [\"model\", \"n_sig\"]\n",
    "n_sig_models"
   ]
  },
  {
   "cell_type": "code",
   "execution_count": null,
   "metadata": {},
   "outputs": [],
   "source": [
    "order = [\"native effects\", \"HUES64 cis effects\", \"mESC cis effects\", \"human trans effects\", \"mouse trans effects\"]"
   ]
  },
  {
   "cell_type": "code",
   "execution_count": null,
   "metadata": {},
   "outputs": [],
   "source": [
    "fig, ax = plt.subplots(figsize=(2.2, 1.5), nrows=1, ncols=1)\n",
    "\n",
    "sns.barplot(data=n_sig_models, x=\"model\", y=\"n_sig\", color=\"darkgray\", ax=ax, order=order)\n",
    "ax.set_xlabel(\"\")\n",
    "ax.set_ylabel(\"number of controls significant\\nat MPRAnalyze q-value < 0.05\")\n",
    "_ = ax.set_xticklabels(n_sig_models[\"model\"], rotation=50, ha=\"right\", va=\"top\")\n",
    "\n",
    "ax.set_title(\"MPRAnalyze q-value cut-off\")\n",
    "ax.set_ylim((0, 200))\n",
    "fig.savefig(\"perc_ctrls_sig.05.pdf\", dpi=\"figure\", bbox_inches=\"tight\")"
   ]
  },
  {
   "cell_type": "markdown",
   "metadata": {},
   "source": [
    "now always cut off at the 10th percentile of FDRs of controls within a given model"
   ]
  },
  {
   "cell_type": "code",
   "execution_count": null,
   "metadata": {},
   "outputs": [],
   "source": [
    "NATIVE_THRESH = np.percentile(native_ctrls[\"fdr_native\"], 5)\n",
    "NATIVE_THRESH"
   ]
  },
  {
   "cell_type": "code",
   "execution_count": null,
   "metadata": {
    "scrolled": true
   },
   "outputs": [],
   "source": [
    "CIS_HUES64_THRESH = np.percentile(cis_HUES64_ctrls[\"fdr_cis_HUES64\"], 5)\n",
    "CIS_HUES64_THRESH"
   ]
  },
  {
   "cell_type": "code",
   "execution_count": null,
   "metadata": {},
   "outputs": [],
   "source": [
    "CIS_MESC_THRESH = np.percentile(cis_mESC_ctrls[\"fdr_cis_mESC\"], 5)\n",
    "CIS_MESC_THRESH"
   ]
  },
  {
   "cell_type": "code",
   "execution_count": null,
   "metadata": {},
   "outputs": [],
   "source": [
    "TRANS_HUMAN_THRESH = np.percentile(trans_human_ctrls[\"fdr_trans_human\"], 5)\n",
    "TRANS_HUMAN_THRESH"
   ]
  },
  {
   "cell_type": "code",
   "execution_count": null,
   "metadata": {},
   "outputs": [],
   "source": [
    "TRANS_MOUSE_THRESH = np.percentile(trans_mouse_ctrls[\"fdr_trans_mouse\"], 5)\n",
    "TRANS_MOUSE_THRESH"
   ]
  },
  {
   "cell_type": "code",
   "execution_count": null,
   "metadata": {},
   "outputs": [],
   "source": [
    "INT_THRESH = np.percentile(cis_trans_int_ctrls[\"fdr_int\"], 5)\n",
    "INT_THRESH"
   ]
  },
  {
   "cell_type": "markdown",
   "metadata": {},
   "source": [
    "now re-plot with threshold"
   ]
  },
  {
   "cell_type": "code",
   "execution_count": null,
   "metadata": {},
   "outputs": [],
   "source": [
    "n_sig_models = {}\n",
    "for model, df, fdr, thresh in zip([\"native effects\", \"HUES64 cis effects\", \"mESC cis effects\", \"human trans effects\",\n",
    "                                   \"mouse trans effects\", \"cis/trans interaction effects\"],\n",
    "                                  [native_ctrls, cis_HUES64_ctrls, cis_mESC_ctrls, trans_human_ctrls, \n",
    "                                   trans_mouse_ctrls, cis_trans_int_ctrls],\n",
    "                                  [\"fdr_native\", \"fdr_cis_HUES64\", \"fdr_cis_mESC\", \"fdr_trans_human\", \n",
    "                                   \"fdr_trans_mouse\", \"fdr_int\"],\n",
    "                                  [NATIVE_THRESH, CIS_HUES64_THRESH, CIS_MESC_THRESH, TRANS_HUMAN_THRESH,\n",
    "                                   TRANS_MOUSE_THRESH, 0.05]):\n",
    "    n_sig = len(df[df[fdr] < thresh])\n",
    "    n_sig_models[model] = [n_sig]\n",
    "n_sig_models = pd.DataFrame.from_dict(n_sig_models, orient=\"index\").reset_index()\n",
    "n_sig_models.columns = [\"model\", \"n_sig\"]\n",
    "n_sig_models"
   ]
  },
  {
   "cell_type": "code",
   "execution_count": null,
   "metadata": {},
   "outputs": [],
   "source": [
    "fig, ax = plt.subplots(figsize=(2.2, 1.5), nrows=1, ncols=1)\n",
    "\n",
    "sns.barplot(data=n_sig_models, x=\"model\", y=\"n_sig\", color=\"darkgray\", ax=ax, order=order)\n",
    "ax.set_xlabel(\"\")\n",
    "ax.set_ylabel(\"number of controls significant\\nat empirical FDR < 0.1\")\n",
    "_ = ax.set_xticklabels(n_sig_models[\"model\"], rotation=50, ha=\"right\", va=\"top\")\n",
    "\n",
    "ax.set_title(\"empirical FDR cut-off\")\n",
    "ax.set_ylim((0, 200))\n",
    "fig.savefig(\"perc_ctrls_sig.thresh.pdf\", dpi=\"figure\", bbox_inches=\"tight\")"
   ]
  },
  {
   "cell_type": "markdown",
   "metadata": {},
   "source": [
    "## 5. plot controls vs. TSSs for each model"
   ]
  },
  {
   "cell_type": "markdown",
   "metadata": {},
   "source": [
    "control boxplots"
   ]
  },
  {
   "cell_type": "code",
   "execution_count": null,
   "metadata": {
    "scrolled": true
   },
   "outputs": [],
   "source": [
    "order = [\"control\", \"TSS\"]\n",
    "pal = {\"control\": \"gray\", \"TSS\": \"black\"}\n",
    "\n",
    "models = [\"native\", \"HUES64 cis\", \"mESC cis\", \"human trans\", \"mouse trans\", \"cis/trans interaction\"]\n",
    "dfs = [native, HUES64_cis, mESC_cis, human_trans, mouse_trans, cis_trans_int]\n",
    "logFCs = [\"logFC_native\", \"logFC_cis_HUES64\", \"logFC_cis_mESC\", \"logFC_trans_human\", \"logFC_trans_mouse\", \"logFC_int\"]\n",
    "labels = [\"native\", \"cis_HUES64\", \"cis_mESC\", \"trans_human\", \"trans_mouse\", \"cis_trans_int\"]\n",
    "ylims = [(-0.8, 6), (-0.8, 6), (-0.8, 6), (-0.8, 2.2), (-0.8, 2.2), (-0.8, 2.5)]\n",
    "pxs = [(1.5, 1.4), (1.5, 1.4), (1.5, 1.4), (0.7, 0.7), (0.7, 0.7), (0.6, 0.5)]\n",
    "\n",
    "\n",
    "for model, df, logFC, label, ylim, px in zip(models, dfs, logFCs, labels, ylims, pxs):\n",
    "    df[\"is_ctrl\"] = df.apply(is_ctrl, axis=1)\n",
    "    df[\"abs_logFC\"] = np.abs(df[logFC])\n",
    "    \n",
    "    fig = plt.figure(figsize=(1, 1.75))\n",
    "    ax = sns.boxplot(data=df, x=\"is_ctrl\", y=\"abs_logFC\", flierprops = dict(marker='o', markersize=5), \n",
    "                     order=order, palette=pal)\n",
    "    mimic_r_boxplot(ax)\n",
    "\n",
    "    ax.set_xticklabels([\"negative\\ncontrols\", \"seqs\"], rotation=50, ha='right', va='top')\n",
    "    ax.set_xlabel(\"\")\n",
    "    ax.set_ylabel(r'$\\vert$ %s effect size $\\vert$' % model)\n",
    "\n",
    "    for i, l in enumerate(order):\n",
    "        n = len(df[df[\"is_ctrl\"] == l])\n",
    "        color = pal[l]\n",
    "        ax.annotate(str(n), xy=(i, -0.7), xycoords=\"data\", xytext=(0, 0), \n",
    "                    textcoords=\"offset pixels\", ha='center', va='bottom', \n",
    "                    color=color, size=fontsize)\n",
    "\n",
    "    ax.set_ylim(ylim)\n",
    "\n",
    "    # calc p-vals b/w dists\n",
    "    dist1 = np.asarray(df[df[\"is_ctrl\"] == \"control\"][\"abs_logFC\"])\n",
    "    dist2 = np.asarray(df[df[\"is_ctrl\"] != \"control\"][\"abs_logFC\"])\n",
    "\n",
    "    dist1 = dist1[~np.isnan(dist1)]\n",
    "    dist2 = dist2[~np.isnan(dist2)]\n",
    "\n",
    "    u, pval = stats.mannwhitneyu(dist1, dist2, alternative=\"two-sided\", use_continuity=False)\n",
    "    print(pval)\n",
    "\n",
    "    annotate_pval(ax, 0.2, 0.8, px[0], 0, px[1], pval, fontsize)\n",
    "    plt.show()\n",
    "    fig.savefig(\"%s_ctrl_effectsize_boxplot.pdf\" % label, dpi=\"figure\", bbox_inches=\"tight\")\n",
    "    plt.close()"
   ]
  },
  {
   "cell_type": "markdown",
   "metadata": {},
   "source": [
    "volcano plots"
   ]
  },
  {
   "cell_type": "code",
   "execution_count": null,
   "metadata": {},
   "outputs": [],
   "source": [
    "threshs = [NATIVE_THRESH, CIS_HUES64_THRESH, CIS_MESC_THRESH, TRANS_HUMAN_THRESH, TRANS_MOUSE_THRESH, 0.05]\n",
    "fdrs = [\"fdr_native\", \"fdr_cis_HUES64\", \"fdr_cis_mESC\", \"fdr_trans_human\", \"fdr_trans_mouse\", \"fdr_int\"]\n",
    "\n",
    "for model, df, logFC, fdr, label, thresh in zip(models, dfs, logFCs, fdrs, labels, threshs):\n",
    "    df[\"is_ctrl\"] = df.apply(is_ctrl, axis=1)\n",
    "    \n",
    "    neg_ctrls = df[df[\"is_ctrl\"] == \"control\"]\n",
    "    tss = df[df[\"is_ctrl\"] != \"control\"]\n",
    "    \n",
    "    fig, ax = plt.subplots(figsize=(1.75, 1.75), nrows=1, ncols=1)\n",
    "\n",
    "    ax.scatter(tss[logFC], -np.log10(tss[fdr]), s=10, alpha=0.75, \n",
    "               color=\"black\", linewidths=0.5, edgecolors=\"white\")\n",
    "    ax.scatter(neg_ctrls[logFC], -np.log10(neg_ctrls[fdr]), s=8, alpha=0.5, \n",
    "               color=\"gray\", linewidths=0.5, edgecolors=\"white\")\n",
    "\n",
    "    plt.xlabel(\"%s effect size\" % model)\n",
    "    if model == \"HUES64 cis\":\n",
    "        plt.xlabel(\"hESC cis effect size\")\n",
    "    plt.ylabel(\"-log10(MPRAnalyze q-value)\")\n",
    "    ax.axhline(y=-np.log10(thresh), color=\"black\", linestyle=\"dashed\")\n",
    "\n",
    "    plt.show()\n",
    "    fig.savefig(\"%s_volcano.ctrls_highlighted.pdf\" % label, dpi=\"figure\", bbox_inches=\"tight\")\n",
    "    plt.close()"
   ]
  },
  {
   "cell_type": "markdown",
   "metadata": {},
   "source": [
    "## 6. split result file indeces"
   ]
  },
  {
   "cell_type": "code",
   "execution_count": null,
   "metadata": {},
   "outputs": [],
   "source": [
    "native[\"hg19_id\"] = native[\"index\"].str.split(\"__\", expand=True)[0]\n",
    "native[\"biotype_hg19\"] = native[\"index\"].str.split(\"__\", expand=True)[1]\n",
    "native[\"mm9_id\"] = native[\"index\"].str.split(\"__\", expand=True)[2]\n",
    "native[\"biotype_mm9\"] = native[\"index\"].str.split(\"__\", expand=True)[3]\n",
    "native[\"tss_tile_num\"] = native[\"index\"].str.split(\"__\", expand=True)[4]"
   ]
  },
  {
   "cell_type": "code",
   "execution_count": null,
   "metadata": {},
   "outputs": [],
   "source": [
    "HUES64_cis[\"hg19_id\"] = HUES64_cis[\"index\"].str.split(\"__\", expand=True)[0]\n",
    "HUES64_cis[\"biotype_hg19\"] = HUES64_cis[\"index\"].str.split(\"__\", expand=True)[1]\n",
    "HUES64_cis[\"mm9_id\"] = HUES64_cis[\"index\"].str.split(\"__\", expand=True)[2]\n",
    "HUES64_cis[\"biotype_mm9\"] = HUES64_cis[\"index\"].str.split(\"__\", expand=True)[3]\n",
    "HUES64_cis[\"tss_tile_num\"] = HUES64_cis[\"index\"].str.split(\"__\", expand=True)[4]"
   ]
  },
  {
   "cell_type": "code",
   "execution_count": null,
   "metadata": {},
   "outputs": [],
   "source": [
    "mESC_cis[\"hg19_id\"] = mESC_cis[\"index\"].str.split(\"__\", expand=True)[0]\n",
    "mESC_cis[\"biotype_hg19\"] = mESC_cis[\"index\"].str.split(\"__\", expand=True)[1]\n",
    "mESC_cis[\"mm9_id\"] = mESC_cis[\"index\"].str.split(\"__\", expand=True)[2]\n",
    "mESC_cis[\"biotype_mm9\"] = mESC_cis[\"index\"].str.split(\"__\", expand=True)[3]\n",
    "mESC_cis[\"tss_tile_num\"] = mESC_cis[\"index\"].str.split(\"__\", expand=True)[4]"
   ]
  },
  {
   "cell_type": "code",
   "execution_count": null,
   "metadata": {},
   "outputs": [],
   "source": [
    "human_trans[\"hg19_id\"] = human_trans[\"index\"].str.split(\"__\", expand=True)[0]\n",
    "human_trans[\"biotype_hg19\"] = human_trans[\"index\"].str.split(\"__\", expand=True)[1]\n",
    "human_trans[\"mm9_id\"] = human_trans[\"index\"].str.split(\"__\", expand=True)[2]\n",
    "human_trans[\"biotype_mm9\"] = human_trans[\"index\"].str.split(\"__\", expand=True)[3]\n",
    "human_trans[\"tss_tile_num\"] = human_trans[\"index\"].str.split(\"__\", expand=True)[4]"
   ]
  },
  {
   "cell_type": "code",
   "execution_count": null,
   "metadata": {},
   "outputs": [],
   "source": [
    "mouse_trans[\"hg19_id\"] = mouse_trans[\"index\"].str.split(\"__\", expand=True)[0]\n",
    "mouse_trans[\"biotype_hg19\"] = mouse_trans[\"index\"].str.split(\"__\", expand=True)[1]\n",
    "mouse_trans[\"mm9_id\"] = mouse_trans[\"index\"].str.split(\"__\", expand=True)[2]\n",
    "mouse_trans[\"biotype_mm9\"] = mouse_trans[\"index\"].str.split(\"__\", expand=True)[3]\n",
    "mouse_trans[\"tss_tile_num\"] = mouse_trans[\"index\"].str.split(\"__\", expand=True)[4]"
   ]
  },
  {
   "cell_type": "code",
   "execution_count": null,
   "metadata": {},
   "outputs": [],
   "source": [
    "cis_trans_int[\"hg19_id\"] = cis_trans_int[\"index\"].str.split(\"__\", expand=True)[0]\n",
    "cis_trans_int[\"biotype_hg19\"] = cis_trans_int[\"index\"].str.split(\"__\", expand=True)[1]\n",
    "cis_trans_int[\"mm9_id\"] = cis_trans_int[\"index\"].str.split(\"__\", expand=True)[2]\n",
    "cis_trans_int[\"biotype_mm9\"] = cis_trans_int[\"index\"].str.split(\"__\", expand=True)[3]\n",
    "cis_trans_int[\"tss_tile_num\"] = cis_trans_int[\"index\"].str.split(\"__\", expand=True)[4]"
   ]
  },
  {
   "cell_type": "markdown",
   "metadata": {},
   "source": [
    "## 7. merge result files w/ activity data"
   ]
  },
  {
   "cell_type": "code",
   "execution_count": null,
   "metadata": {},
   "outputs": [],
   "source": [
    "len(data)"
   ]
  },
  {
   "cell_type": "code",
   "execution_count": null,
   "metadata": {},
   "outputs": [],
   "source": [
    "tmp = data.merge(native[[\"hg19_id\", \"mm9_id\", \"tss_tile_num\", \"logFC_native\", \"fdr_native\"]], \n",
    "                 on=[\"hg19_id\", \"mm9_id\", \"tss_tile_num\"], how=\"right\")\n",
    "len(tmp)"
   ]
  },
  {
   "cell_type": "code",
   "execution_count": null,
   "metadata": {},
   "outputs": [],
   "source": [
    "tmp = tmp.merge(HUES64_cis[[\"hg19_id\", \"mm9_id\", \"tss_tile_num\", \"logFC_cis_HUES64\", \"fdr_cis_HUES64\"]], \n",
    "                on=[\"hg19_id\", \"mm9_id\", \"tss_tile_num\"], how=\"right\")\n",
    "len(tmp)"
   ]
  },
  {
   "cell_type": "code",
   "execution_count": null,
   "metadata": {},
   "outputs": [],
   "source": [
    "tmp = tmp.merge(mESC_cis[[\"hg19_id\", \"mm9_id\", \"tss_tile_num\", \"logFC_cis_mESC\", \"fdr_cis_mESC\"]], \n",
    "                on=[\"hg19_id\", \"mm9_id\", \"tss_tile_num\"], how=\"right\")\n",
    "len(tmp)"
   ]
  },
  {
   "cell_type": "code",
   "execution_count": null,
   "metadata": {},
   "outputs": [],
   "source": [
    "tmp = tmp.merge(human_trans[[\"hg19_id\", \"mm9_id\", \"tss_tile_num\", \"logFC_trans_human\", \"fdr_trans_human\"]], \n",
    "                on=[\"hg19_id\", \"mm9_id\", \"tss_tile_num\"], how=\"right\")\n",
    "len(tmp)"
   ]
  },
  {
   "cell_type": "code",
   "execution_count": null,
   "metadata": {},
   "outputs": [],
   "source": [
    "tmp = tmp.merge(mouse_trans[[\"hg19_id\", \"mm9_id\", \"tss_tile_num\", \"logFC_trans_mouse\", \"fdr_trans_mouse\"]], \n",
    "                on=[\"hg19_id\", \"mm9_id\", \"tss_tile_num\"], how=\"right\")\n",
    "len(tmp)"
   ]
  },
  {
   "cell_type": "code",
   "execution_count": null,
   "metadata": {},
   "outputs": [],
   "source": [
    "tmp = tmp.merge(cis_trans_int[[\"hg19_id\", \"mm9_id\", \"tss_tile_num\", \"logFC_int\", \"fdr_int\"]], \n",
    "                on=[\"hg19_id\", \"mm9_id\", \"tss_tile_num\"], how=\"right\")\n",
    "print(len(tmp))\n",
    "tmp.sample(5)"
   ]
  },
  {
   "cell_type": "code",
   "execution_count": null,
   "metadata": {},
   "outputs": [],
   "source": [
    "data = tmp.copy()"
   ]
  },
  {
   "cell_type": "code",
   "execution_count": null,
   "metadata": {},
   "outputs": [],
   "source": [
    "data.columns"
   ]
  },
  {
   "cell_type": "markdown",
   "metadata": {},
   "source": [
    "## 8. classify comparison effects as sig vs. not sig"
   ]
  },
  {
   "cell_type": "code",
   "execution_count": null,
   "metadata": {},
   "outputs": [],
   "source": [
    "data[\"native_status\"] = data.apply(comp_status, fdr_col=\"fdr_native\", thresh=NATIVE_THRESH, txt=\"native\", axis=1)\n",
    "data[\"cis_HUES64_status\"] = data.apply(comp_status, fdr_col=\"fdr_cis_HUES64\", thresh=CIS_HUES64_THRESH, \n",
    "                                       txt=\"cis\", axis=1)\n",
    "data[\"cis_mESC_status\"] = data.apply(comp_status, fdr_col=\"fdr_cis_mESC\", thresh=CIS_MESC_THRESH, txt=\"cis\", axis=1)\n",
    "data[\"trans_human_status\"] = data.apply(comp_status, fdr_col=\"fdr_trans_human\", thresh=TRANS_HUMAN_THRESH,\n",
    "                                        txt=\"trans\", axis=1)\n",
    "data[\"trans_mouse_status\"] = data.apply(comp_status, fdr_col=\"fdr_trans_mouse\", thresh=TRANS_MOUSE_THRESH,\n",
    "                                        txt=\"trans\", axis=1)\n",
    "data[\"cis_trans_int_status\"] = data.apply(comp_status, fdr_col=\"fdr_int\", thresh=0.05, txt=\"cis/trans int.\", axis=1)"
   ]
  },
  {
   "cell_type": "code",
   "execution_count": null,
   "metadata": {},
   "outputs": [],
   "source": [
    "# data[\"native_status\"] = data.apply(comp_status, fdr_col=\"fdr_native\", thresh=0.05, txt=\"native\", axis=1)\n",
    "# data[\"cis_HUES64_status\"] = data.apply(comp_status, fdr_col=\"fdr_cis_HUES64\", thresh=0.05, \n",
    "#                                        txt=\"cis\", axis=1)\n",
    "# data[\"cis_mESC_status\"] = data.apply(comp_status, fdr_col=\"fdr_cis_mESC\", thresh=0.05, txt=\"cis\", axis=1)\n",
    "# data[\"trans_human_status\"] = data.apply(comp_status, fdr_col=\"fdr_trans_human\", thresh=0.05,\n",
    "#                                         txt=\"trans\", axis=1)\n",
    "# data[\"trans_mouse_status\"] = data.apply(comp_status, fdr_col=\"fdr_trans_mouse\", thresh=0.05,\n",
    "#                                         txt=\"trans\", axis=1)\n",
    "# data[\"cis_trans_int_status\"] = data.apply(comp_status, fdr_col=\"fdr_int\", thresh=0.05, txt=\"cis/trans int.\", axis=1)"
   ]
  },
  {
   "cell_type": "code",
   "execution_count": null,
   "metadata": {},
   "outputs": [],
   "source": [
    "data.sample(5)"
   ]
  },
  {
   "cell_type": "markdown",
   "metadata": {},
   "source": [
    "## 9. compare l2fcs for elements called significant for each biotype & re-classify"
   ]
  },
  {
   "cell_type": "code",
   "execution_count": null,
   "metadata": {},
   "outputs": [],
   "source": [
    "min_order = [\"no CAGE activity\", \"eRNA\", \"lncRNA\", \"mRNA\", \"other\"]\n",
    "palette = sns.husl_palette(n_colors=len(min_order))"
   ]
  },
  {
   "cell_type": "code",
   "execution_count": null,
   "metadata": {},
   "outputs": [],
   "source": [
    "l2fc_cols = [\"logFC_native\", \"logFC_cis_HUES64\", \"logFC_cis_mESC\", \"logFC_trans_human\", \"logFC_trans_mouse\", \n",
    "             \"logFC_int\"]\n",
    "sig_cols = [\"native_status\", \"cis_HUES64_status\", \"cis_mESC_status\", \"trans_human_status\", \"trans_mouse_status\",\n",
    "            \"cis_trans_int_status\"]\n",
    "xlabels = [\"native effect size\", \"cis effect size (HUES64)\", \"cis effect size (mESC)\", \"trans effect size (human)\",\n",
    "           \"trans effect size (mouse)\", \"cis/trans interaction effect size\"]\n",
    "xs = [1, 0.9, 0.8, 0.4, 0.4, 0]\n",
    "min_vals = []\n",
    "\n",
    "for l2fc_col, sig_col, xlabel, x in zip(l2fc_cols, sig_cols, xlabels, xs):\n",
    "    \n",
    "    fig, ax = plt.subplots(figsize=(2, 1.5), nrows=1, ncols=1)\n",
    "    filt = data[((data[\"HUES64_padj_hg19\"] < QUANT_ALPHA) | (data[\"mESC_padj_mm9\"] < QUANT_ALPHA))]\n",
    "    ctrls = np.abs(data[data[\"hg19_id\"].str.contains(\"ctrl.\")][l2fc_col])\n",
    "    \n",
    "    sig_ctrls = data[(data[\"hg19_id\"].str.contains(\"ctrl.\")) & (data[sig_col].str.contains(\"significant\"))][l2fc_col]\n",
    "    min_val = np.min(np.abs(sig_ctrls))\n",
    "    print(min_val)\n",
    "    min_vals.append(min_val)\n",
    "    \n",
    "    sns.distplot(ctrls, hist=False, color=\"gray\", label=\"neg. ctrls (n=%s)\" % len(ctrls), ax=ax)\n",
    "    \n",
    "    sub = filt[~filt[sig_col].str.contains(\"no \")]\n",
    "    for i, label in enumerate(min_order):\n",
    "        \n",
    "        vals = np.abs(sub[sub[\"minimal_biotype_hg19\"] == label][l2fc_col])\n",
    "        sns.distplot(vals, hist=False, color=palette[i], label=\"%s (n=%s)\" % (label, len(vals)), ax=ax)\n",
    "    \n",
    "    ax.set_xlabel(xlabel)\n",
    "    ax.set_ylabel(\"density\")\n",
    "    ax.axvline(x=x, linestyle=\"dashed\", color=\"black\")\n",
    "    plt.legend(loc=2, bbox_to_anchor=(1.05, 1))\n",
    "    plt.show()\n",
    "    plt.close()"
   ]
  },
  {
   "cell_type": "code",
   "execution_count": null,
   "metadata": {},
   "outputs": [],
   "source": [
    "data.native_status.value_counts()"
   ]
  },
  {
   "cell_type": "code",
   "execution_count": null,
   "metadata": {},
   "outputs": [],
   "source": [
    "data[\"native_status\"] = data.apply(comp_status_stringent, status_col=\"native_status\", \n",
    "                                   l2fc_col=\"logFC_native\", l2fc_thresh=min_vals[0], txt=\"native\", axis=1)\n",
    "data[\"cis_HUES64_status\"] = data.apply(comp_status_stringent, status_col=\"cis_HUES64_status\",  \n",
    "                                       l2fc_col=\"logFC_cis_HUES64\", l2fc_thresh=min_vals[1], txt=\"cis\", axis=1)\n",
    "data[\"cis_mESC_status\"] = data.apply(comp_status_stringent, status_col=\"cis_mESC_status\", \n",
    "                                     l2fc_col=\"logFC_cis_mESC\", l2fc_thresh=min_vals[2], txt=\"cis\", axis=1)\n",
    "data[\"trans_human_status\"] = data.apply(comp_status_stringent, status_col=\"trans_human_status\", \n",
    "                                        l2fc_col=\"logFC_trans_human\", l2fc_thresh=min_vals[3], txt=\"trans\", axis=1)\n",
    "data[\"trans_mouse_status\"] = data.apply(comp_status_stringent, status_col=\"trans_mouse_status\", \n",
    "                                        l2fc_col=\"logFC_trans_mouse\", l2fc_thresh=min_vals[4], txt=\"trans\", axis=1)\n",
    "data[\"cis_trans_int_status\"] = data.apply(comp_status_stringent, status_col=\"cis_trans_int_status\", \n",
    "                                          l2fc_col=\"logFC_int\", l2fc_thresh=0, txt=\"cis/trans int.\", axis=1)"
   ]
  },
  {
   "cell_type": "code",
   "execution_count": null,
   "metadata": {},
   "outputs": [],
   "source": [
    "data.native_status.value_counts()"
   ]
  },
  {
   "cell_type": "markdown",
   "metadata": {},
   "source": [
    "## 9. classify effects as higher in mouse or human"
   ]
  },
  {
   "cell_type": "code",
   "execution_count": null,
   "metadata": {},
   "outputs": [],
   "source": [
    "data[\"native_status_det\"] = data.apply(comp_status_detail, status_col=\"native_status\",\n",
    "                                       logFC_col=\"logFC_native\", txt=\"native\", axis=1)\n",
    "data[\"cis_HUES64_status_det\"] = data.apply(comp_status_detail, status_col=\"cis_HUES64_status\",\n",
    "                                           logFC_col=\"logFC_cis_HUES64\", txt=\"cis\", axis=1)\n",
    "data[\"cis_mESC_status_det\"] = data.apply(comp_status_detail, status_col=\"cis_mESC_status\",\n",
    "                                         logFC_col=\"logFC_cis_mESC\", txt=\"cis\", axis=1)\n",
    "data[\"trans_human_status_det\"] = data.apply(comp_status_detail, status_col=\"trans_human_status\",\n",
    "                                            logFC_col=\"logFC_trans_human\", txt=\"trans\", axis=1)\n",
    "data[\"trans_mouse_status_det\"] = data.apply(comp_status_detail, status_col=\"trans_mouse_status\",\n",
    "                                            logFC_col=\"logFC_trans_mouse\", txt=\"trans\", axis=1)\n",
    "data[\"cis_trans_int_status_det\"] = data.apply(comp_status_detail, status_col=\"cis_trans_int_status\", \n",
    "                                              logFC_col=\"logFC_int\", txt=\"cis/trans int.\", axis=1)"
   ]
  },
  {
   "cell_type": "code",
   "execution_count": null,
   "metadata": {},
   "outputs": [],
   "source": [
    "data.sample(5)"
   ]
  },
  {
   "cell_type": "markdown",
   "metadata": {},
   "source": [
    "## 10. classify cis & trans effects into one effect (since we measured in 2 contexts)"
   ]
  },
  {
   "cell_type": "code",
   "execution_count": null,
   "metadata": {},
   "outputs": [],
   "source": [
    "data[\"cis_status_one\"] = data.apply(comp_status_one, status_col1=\"cis_HUES64_status\", \n",
    "                                    status_col2=\"cis_mESC_status\", txt=\"cis\", axis=1)\n",
    "data[\"trans_status_one\"] = data.apply(comp_status_one, status_col1=\"trans_human_status\", \n",
    "                                      status_col2=\"trans_mouse_status\", txt=\"trans\", axis=1)"
   ]
  },
  {
   "cell_type": "code",
   "execution_count": null,
   "metadata": {},
   "outputs": [],
   "source": [
    "data[\"cis_status_det_one\"] = data.apply(comp_status_detail_one, status_col1=\"cis_HUES64_status\", \n",
    "                                        status_col2=\"cis_mESC_status\", logFC_col1=\"logFC_cis_HUES64\", \n",
    "                                        logFC_col2=\"logFC_cis_mESC\", txt=\"cis\", axis=1)\n",
    "data[\"trans_status_det_one\"] = data.apply(comp_status_detail_one, status_col1=\"trans_human_status\", \n",
    "                                          status_col2=\"trans_mouse_status\", logFC_col1=\"logFC_trans_human\", \n",
    "                                          logFC_col2=\"logFC_trans_mouse\", txt=\"trans\", axis=1)"
   ]
  },
  {
   "cell_type": "code",
   "execution_count": null,
   "metadata": {},
   "outputs": [],
   "source": [
    "data[\"logFC_cis_one\"] = data.apply(comp_logFC_one, status_col1=\"cis_HUES64_status\", status_col2=\"cis_mESC_status\",\n",
    "                                   logFC_col1=\"logFC_cis_HUES64\", logFC_col2=\"logFC_cis_mESC\", axis=1)\n",
    "data[\"logFC_trans_one\"] = data.apply(comp_logFC_one, status_col1=\"trans_human_status\", status_col2=\"trans_mouse_status\",\n",
    "                                     logFC_col1=\"logFC_trans_human\", logFC_col2=\"logFC_trans_mouse\", axis=1)"
   ]
  },
  {
   "cell_type": "markdown",
   "metadata": {},
   "source": [
    "## 11. print numbers with each effect"
   ]
  },
  {
   "cell_type": "code",
   "execution_count": null,
   "metadata": {},
   "outputs": [],
   "source": [
    "# remove ctrls\n",
    "data = data[~data[\"hg19_id\"].str.contains(\"ctrl\")]\n",
    "len(data)"
   ]
  },
  {
   "cell_type": "markdown",
   "metadata": {},
   "source": [
    "## native"
   ]
  },
  {
   "cell_type": "code",
   "execution_count": null,
   "metadata": {},
   "outputs": [],
   "source": [
    "data.native_status.value_counts()"
   ]
  },
  {
   "cell_type": "markdown",
   "metadata": {},
   "source": [
    "## cis - HUES64"
   ]
  },
  {
   "cell_type": "code",
   "execution_count": null,
   "metadata": {},
   "outputs": [],
   "source": [
    "data.cis_HUES64_status.value_counts()"
   ]
  },
  {
   "cell_type": "markdown",
   "metadata": {},
   "source": [
    "## cis - mESC"
   ]
  },
  {
   "cell_type": "code",
   "execution_count": null,
   "metadata": {},
   "outputs": [],
   "source": [
    "data.cis_mESC_status.value_counts()"
   ]
  },
  {
   "cell_type": "markdown",
   "metadata": {},
   "source": [
    "## trans - human"
   ]
  },
  {
   "cell_type": "code",
   "execution_count": null,
   "metadata": {},
   "outputs": [],
   "source": [
    "data.trans_human_status.value_counts()"
   ]
  },
  {
   "cell_type": "markdown",
   "metadata": {},
   "source": [
    "## trans - mouse"
   ]
  },
  {
   "cell_type": "code",
   "execution_count": null,
   "metadata": {},
   "outputs": [],
   "source": [
    "data.trans_mouse_status.value_counts()"
   ]
  },
  {
   "cell_type": "markdown",
   "metadata": {},
   "source": [
    "## cis/trans interactions"
   ]
  },
  {
   "cell_type": "code",
   "execution_count": null,
   "metadata": {},
   "outputs": [],
   "source": [
    "data.cis_trans_int_status.value_counts()"
   ]
  },
  {
   "cell_type": "code",
   "execution_count": null,
   "metadata": {},
   "outputs": [],
   "source": [
    "np.max(np.abs(data[data[\"trans_mouse_status\"].str.contains(\"significant\")][\"fdr_trans_mouse\"]))"
   ]
  },
  {
   "cell_type": "markdown",
   "metadata": {},
   "source": [
    "## 12. write files"
   ]
  },
  {
   "cell_type": "code",
   "execution_count": null,
   "metadata": {},
   "outputs": [],
   "source": [
    "# rearrange columns for readability\n",
    "data = data[['hg19_id', 'chr_tss_hg19', 'start_tss_hg19', 'biotype_hg19', 'cage_id_hg19', 'name_peak_hg19', \n",
    "             'minimal_biotype_hg19', 'stem_exp_hg19', 'mm9_id', 'chr_tss_mm9', \n",
    "             'start_tss_mm9', 'biotype_mm9', 'cage_id_mm9', 'name_peak_mm9', \n",
    "             'minimal_biotype_mm9', 'stem_exp_mm9', 'tss_tile_num', 'orig_species',  \n",
    "             'biotype_switch_minimal', 'HUES64_hg19', 'mESC_hg19', 'HUES64_mm9', 'mESC_mm9', 'HUES64_padj_hg19', \n",
    "             'mESC_padj_hg19', 'HUES64_padj_mm9', 'mESC_padj_mm9', 'logFC_native', 'fdr_native', 'native_status', \n",
    "             'native_status_det', 'logFC_cis_HUES64', 'fdr_cis_HUES64', 'logFC_cis_mESC', 'fdr_cis_mESC',  \n",
    "             'cis_HUES64_status', 'cis_mESC_status', 'cis_HUES64_status_det', 'cis_mESC_status_det', 'cis_status_one', \n",
    "             'cis_status_det_one', 'logFC_cis_one', 'logFC_trans_human', 'fdr_trans_human', 'logFC_trans_mouse', \n",
    "             'fdr_trans_mouse', 'trans_human_status', 'trans_mouse_status', 'trans_human_status_det', \n",
    "             'trans_mouse_status_det',  'trans_status_one', 'trans_status_det_one', 'logFC_trans_one',  'logFC_int', \n",
    "             'fdr_int', 'cis_trans_int_status', 'cis_trans_int_status_det']]"
   ]
  },
  {
   "cell_type": "code",
   "execution_count": null,
   "metadata": {},
   "outputs": [],
   "source": [
    "len(data)"
   ]
  },
  {
   "cell_type": "code",
   "execution_count": null,
   "metadata": {},
   "outputs": [],
   "source": [
    "data.head()"
   ]
  },
  {
   "cell_type": "code",
   "execution_count": null,
   "metadata": {},
   "outputs": [],
   "source": [
    "data.to_csv(\"../../../data/02__mpra/03__results/all_processed_results.txt\", sep=\"\\t\", index=False)"
   ]
  },
  {
   "cell_type": "code",
   "execution_count": null,
   "metadata": {},
   "outputs": [],
   "source": []
  },
  {
   "cell_type": "code",
   "execution_count": null,
   "metadata": {},
   "outputs": [],
   "source": []
  }
 ],
 "metadata": {
  "kernelspec": {
   "display_name": "Python [conda env:py3]",
   "language": "python",
   "name": "conda-env-py3-py"
  },
  "language_info": {
   "codemirror_mode": {
    "name": "ipython",
    "version": 3
   },
   "file_extension": ".py",
   "mimetype": "text/x-python",
   "name": "python",
   "nbconvert_exporter": "python",
   "pygments_lexer": "ipython3",
   "version": "3.6.3"
  }
 },
 "nbformat": 4,
 "nbformat_minor": 2
}
