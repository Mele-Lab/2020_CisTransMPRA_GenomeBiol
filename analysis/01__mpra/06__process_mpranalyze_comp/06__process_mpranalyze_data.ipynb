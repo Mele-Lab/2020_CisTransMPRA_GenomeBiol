{
 "cells": [
  {
   "cell_type": "code",
   "execution_count": 1,
   "metadata": {},
   "outputs": [],
   "source": [
    "import warnings\n",
    "warnings.filterwarnings('ignore')\n",
    "\n",
    "import pandas as pd\n",
    "import numpy as np\n",
    "import matplotlib as mpl\n",
    "import matplotlib.pyplot as plt\n",
    "import seaborn as sns\n",
    "import sys\n",
    "\n",
    "from scipy.stats import spearmanr\n",
    "\n",
    "# import utils\n",
    "sys.path.append(\"../../../utils\")\n",
    "from plotting_utils import *\n",
    "from classify_utils import *\n",
    "\n",
    "%matplotlib inline\n",
    "# %config InlineBackend.figure_format = 'svg'\n",
    "# mpl.rcParams['figure.autolayout'] = False"
   ]
  },
  {
   "cell_type": "code",
   "execution_count": 2,
   "metadata": {},
   "outputs": [],
   "source": [
    "sns.set(**PAPER_PRESET)\n",
    "fontsize = PAPER_FONTSIZE"
   ]
  },
  {
   "cell_type": "code",
   "execution_count": 3,
   "metadata": {},
   "outputs": [],
   "source": [
    "np.random.seed(2019)"
   ]
  },
  {
   "cell_type": "code",
   "execution_count": 4,
   "metadata": {},
   "outputs": [],
   "source": [
    "QUANT_ALPHA = 0.05"
   ]
  },
  {
   "cell_type": "markdown",
   "metadata": {},
   "source": [
    "## functions"
   ]
  },
  {
   "cell_type": "markdown",
   "metadata": {},
   "source": [
    "## variables"
   ]
  },
  {
   "cell_type": "code",
   "execution_count": 5,
   "metadata": {},
   "outputs": [],
   "source": [
    "data_dir = \"../../../data/02__mpra/02__activs\"\n",
    "alpha_f = \"%s/alpha_per_elem.quantification.txt\" % data_dir\n",
    "human_vals_f = \"%s/human_TSS_vals.both_tiles.txt\" % data_dir\n",
    "mouse_vals_f= \"%s/mouse_TSS_vals.both_tiles.txt\" % data_dir"
   ]
  },
  {
   "cell_type": "code",
   "execution_count": 6,
   "metadata": {},
   "outputs": [],
   "source": [
    "native_f = \"%s/native_results.txt\" % data_dir\n",
    "HUES64_cis_f = \"%s/HUES64_cis_results.txt\" % data_dir\n",
    "mESC_cis_f = \"%s/mESC_cis_results.txt\" % data_dir\n",
    "human_trans_f = \"%s/human_trans_results.txt\" % data_dir\n",
    "mouse_trans_f = \"%s/mouse_trans_results.txt\" % data_dir\n",
    "cis_trans_int_f = \"%s/cis_trans_interaction_results.txt\" % data_dir"
   ]
  },
  {
   "cell_type": "code",
   "execution_count": 7,
   "metadata": {},
   "outputs": [],
   "source": [
    "tss_map_f = \"../../../data/01__design/01__mpra_list/mpra_tss.with_ids.UPDATED_WITH_DIV.txt\""
   ]
  },
  {
   "cell_type": "code",
   "execution_count": 8,
   "metadata": {},
   "outputs": [],
   "source": [
    "#align_f = \"../../../misc/00__tss_metadata/tss_map.seq_alignment.txt\""
   ]
  },
  {
   "cell_type": "code",
   "execution_count": 9,
   "metadata": {},
   "outputs": [],
   "source": [
    "#cage_data_f = \"../../../misc/00__tss_metadata/All_TSS_and_enh.CAGE_grouped_exp.tissue_sp.txt.gz\""
   ]
  },
  {
   "cell_type": "markdown",
   "metadata": {},
   "source": [
    "## 1. import data"
   ]
  },
  {
   "cell_type": "code",
   "execution_count": 10,
   "metadata": {},
   "outputs": [
    {
     "data": {
      "text/html": [
       "<div>\n",
       "<style>\n",
       "    .dataframe thead tr:only-child th {\n",
       "        text-align: right;\n",
       "    }\n",
       "\n",
       "    .dataframe thead th {\n",
       "        text-align: left;\n",
       "    }\n",
       "\n",
       "    .dataframe tbody tr th {\n",
       "        vertical-align: top;\n",
       "    }\n",
       "</style>\n",
       "<table border=\"1\" class=\"dataframe\">\n",
       "  <thead>\n",
       "    <tr style=\"text-align: right;\">\n",
       "      <th></th>\n",
       "      <th>index</th>\n",
       "      <th>HUES64</th>\n",
       "      <th>mESC</th>\n",
       "      <th>HUES64_pval</th>\n",
       "      <th>mESC_pval</th>\n",
       "      <th>HUES64_padj</th>\n",
       "      <th>mESC_padj</th>\n",
       "    </tr>\n",
       "  </thead>\n",
       "  <tbody>\n",
       "    <tr>\n",
       "      <th>0</th>\n",
       "      <td>AAAAAAAAAAAAAAAAACCCTGCAGAGAGCCTGCAAAGTCACTGCC...</td>\n",
       "      <td>7.295239</td>\n",
       "      <td>6.315911</td>\n",
       "      <td>2.825214e-75</td>\n",
       "      <td>1.383066e-42</td>\n",
       "      <td>4.596852e-74</td>\n",
       "      <td>1.878236e-41</td>\n",
       "    </tr>\n",
       "    <tr>\n",
       "      <th>1</th>\n",
       "      <td>AAAAAAAAAAAAAAAGAAAAGAAAAGAAAAAAAAGAAAGGATTGAG...</td>\n",
       "      <td>1.326796</td>\n",
       "      <td>1.348824</td>\n",
       "      <td>1.451021e-01</td>\n",
       "      <td>2.326515e-01</td>\n",
       "      <td>3.319934e-01</td>\n",
       "      <td>5.455262e-01</td>\n",
       "    </tr>\n",
       "    <tr>\n",
       "      <th>2</th>\n",
       "      <td>AAAAAAAAAAAAGAGGAGAAATAGATTGTTACCTTATATTATTTAA...</td>\n",
       "      <td>0.977164</td>\n",
       "      <td>1.548916</td>\n",
       "      <td>4.814953e-01</td>\n",
       "      <td>1.057092e-01</td>\n",
       "      <td>7.164347e-01</td>\n",
       "      <td>3.127558e-01</td>\n",
       "    </tr>\n",
       "    <tr>\n",
       "      <th>3</th>\n",
       "      <td>AAAAAAAAAACCGGCAAAATGTCCTTTTCCTTGTTTTGAAAAGACT...</td>\n",
       "      <td>0.976127</td>\n",
       "      <td>0.818171</td>\n",
       "      <td>4.826910e-01</td>\n",
       "      <td>7.414048e-01</td>\n",
       "      <td>7.167637e-01</td>\n",
       "      <td>8.145300e-01</td>\n",
       "    </tr>\n",
       "    <tr>\n",
       "      <th>4</th>\n",
       "      <td>AAAAAAAAAGGCCACGCTCAAAACCCCAGACTAGTTTTCCTCACCA...</td>\n",
       "      <td>1.323999</td>\n",
       "      <td>1.457128</td>\n",
       "      <td>1.469545e-01</td>\n",
       "      <td>1.559242e-01</td>\n",
       "      <td>3.356231e-01</td>\n",
       "      <td>4.172106e-01</td>\n",
       "    </tr>\n",
       "  </tbody>\n",
       "</table>\n",
       "</div>"
      ],
      "text/plain": [
       "                                               index    HUES64      mESC  \\\n",
       "0  AAAAAAAAAAAAAAAAACCCTGCAGAGAGCCTGCAAAGTCACTGCC...  7.295239  6.315911   \n",
       "1  AAAAAAAAAAAAAAAGAAAAGAAAAGAAAAAAAAGAAAGGATTGAG...  1.326796  1.348824   \n",
       "2  AAAAAAAAAAAAGAGGAGAAATAGATTGTTACCTTATATTATTTAA...  0.977164  1.548916   \n",
       "3  AAAAAAAAAACCGGCAAAATGTCCTTTTCCTTGTTTTGAAAAGACT...  0.976127  0.818171   \n",
       "4  AAAAAAAAAGGCCACGCTCAAAACCCCAGACTAGTTTTCCTCACCA...  1.323999  1.457128   \n",
       "\n",
       "    HUES64_pval     mESC_pval   HUES64_padj     mESC_padj  \n",
       "0  2.825214e-75  1.383066e-42  4.596852e-74  1.878236e-41  \n",
       "1  1.451021e-01  2.326515e-01  3.319934e-01  5.455262e-01  \n",
       "2  4.814953e-01  1.057092e-01  7.164347e-01  3.127558e-01  \n",
       "3  4.826910e-01  7.414048e-01  7.167637e-01  8.145300e-01  \n",
       "4  1.469545e-01  1.559242e-01  3.356231e-01  4.172106e-01  "
      ]
     },
     "execution_count": 10,
     "metadata": {},
     "output_type": "execute_result"
    }
   ],
   "source": [
    "alpha = pd.read_table(alpha_f, sep=\"\\t\").reset_index()\n",
    "alpha.head()"
   ]
  },
  {
   "cell_type": "code",
   "execution_count": 11,
   "metadata": {},
   "outputs": [
    {
     "data": {
      "text/plain": [
       "13879"
      ]
     },
     "execution_count": 11,
     "metadata": {},
     "output_type": "execute_result"
    }
   ],
   "source": [
    "len(alpha)"
   ]
  },
  {
   "cell_type": "code",
   "execution_count": 12,
   "metadata": {},
   "outputs": [
    {
     "data": {
      "text/html": [
       "<div>\n",
       "<style>\n",
       "    .dataframe thead tr:only-child th {\n",
       "        text-align: right;\n",
       "    }\n",
       "\n",
       "    .dataframe thead th {\n",
       "        text-align: left;\n",
       "    }\n",
       "\n",
       "    .dataframe tbody tr th {\n",
       "        vertical-align: top;\n",
       "    }\n",
       "</style>\n",
       "<table border=\"1\" class=\"dataframe\">\n",
       "  <thead>\n",
       "    <tr style=\"text-align: right;\">\n",
       "      <th></th>\n",
       "      <th>HUES64</th>\n",
       "      <th>mESC</th>\n",
       "      <th>HUES64_pval</th>\n",
       "      <th>mESC_pval</th>\n",
       "      <th>HUES64_padj</th>\n",
       "      <th>mESC_padj</th>\n",
       "      <th>element</th>\n",
       "      <th>tile_type</th>\n",
       "      <th>element_id</th>\n",
       "      <th>name</th>\n",
       "      <th>...</th>\n",
       "      <th>dupe_info</th>\n",
       "      <th>HUES64_log</th>\n",
       "      <th>mESC_log</th>\n",
       "      <th>tss_id</th>\n",
       "      <th>species</th>\n",
       "      <th>tss_tile_num</th>\n",
       "      <th>hg19_id</th>\n",
       "      <th>biotype_hg19</th>\n",
       "      <th>stem_exp_hg19</th>\n",
       "      <th>orig_species</th>\n",
       "    </tr>\n",
       "  </thead>\n",
       "  <tbody>\n",
       "    <tr>\n",
       "      <th>0</th>\n",
       "      <td>1.326796</td>\n",
       "      <td>1.348824</td>\n",
       "      <td>0.145102</td>\n",
       "      <td>0.232651</td>\n",
       "      <td>0.331993</td>\n",
       "      <td>0.545526</td>\n",
       "      <td>AAAAAAAAAAAAAAAGAAAAGAAAAGAAAAAAAAGAAAGGATTGAG...</td>\n",
       "      <td>WILDTYPE</td>\n",
       "      <td>HUMAN_EVO_TSS__h.1133__tile1:129255098-1292552...</td>\n",
       "      <td>HUMAN_EVO_TSS__h.1133__tile1</td>\n",
       "      <td>...</td>\n",
       "      <td>7281.1.0.0</td>\n",
       "      <td>0.122804</td>\n",
       "      <td>0.129955</td>\n",
       "      <td>h.1133</td>\n",
       "      <td>HUMAN</td>\n",
       "      <td>tile1</td>\n",
       "      <td>h.1133</td>\n",
       "      <td>enhancer</td>\n",
       "      <td>0.20306</td>\n",
       "      <td>human</td>\n",
       "    </tr>\n",
       "    <tr>\n",
       "      <th>1</th>\n",
       "      <td>1.202075</td>\n",
       "      <td>1.503351</td>\n",
       "      <td>0.242922</td>\n",
       "      <td>0.128950</td>\n",
       "      <td>0.488166</td>\n",
       "      <td>0.364500</td>\n",
       "      <td>CTACTCCGGAGGCTGAGGCAGGAGAATCGCTTGAACCCGGGGGTGG...</td>\n",
       "      <td>WILDTYPE</td>\n",
       "      <td>HUMAN_EVO_TSS__h.1133__tile2:129255212-1292553...</td>\n",
       "      <td>HUMAN_EVO_TSS__h.1133__tile2</td>\n",
       "      <td>...</td>\n",
       "      <td>7282.1.0.0</td>\n",
       "      <td>0.079932</td>\n",
       "      <td>0.177061</td>\n",
       "      <td>h.1133</td>\n",
       "      <td>HUMAN</td>\n",
       "      <td>tile2</td>\n",
       "      <td>h.1133</td>\n",
       "      <td>enhancer</td>\n",
       "      <td>0.20306</td>\n",
       "      <td>human</td>\n",
       "    </tr>\n",
       "    <tr>\n",
       "      <th>2</th>\n",
       "      <td>1.326796</td>\n",
       "      <td>1.348824</td>\n",
       "      <td>0.145102</td>\n",
       "      <td>0.232651</td>\n",
       "      <td>0.331993</td>\n",
       "      <td>0.545526</td>\n",
       "      <td>AAAAAAAAAAAAAAAGAAAAGAAAAGAAAAAAAAGAAAGGATTGAG...</td>\n",
       "      <td>WILDTYPE</td>\n",
       "      <td>HUMAN_EVO_TSS__h.1133__tile1:129255098-1292552...</td>\n",
       "      <td>HUMAN_EVO_TSS__h.1133__tile1</td>\n",
       "      <td>...</td>\n",
       "      <td>7281.1.0.0</td>\n",
       "      <td>0.122804</td>\n",
       "      <td>0.129955</td>\n",
       "      <td>h.1133</td>\n",
       "      <td>HUMAN</td>\n",
       "      <td>tile1</td>\n",
       "      <td>h.1133</td>\n",
       "      <td>enhancer</td>\n",
       "      <td>0.20306</td>\n",
       "      <td>human</td>\n",
       "    </tr>\n",
       "    <tr>\n",
       "      <th>3</th>\n",
       "      <td>1.202075</td>\n",
       "      <td>1.503351</td>\n",
       "      <td>0.242922</td>\n",
       "      <td>0.128950</td>\n",
       "      <td>0.488166</td>\n",
       "      <td>0.364500</td>\n",
       "      <td>CTACTCCGGAGGCTGAGGCAGGAGAATCGCTTGAACCCGGGGGTGG...</td>\n",
       "      <td>WILDTYPE</td>\n",
       "      <td>HUMAN_EVO_TSS__h.1133__tile2:129255212-1292553...</td>\n",
       "      <td>HUMAN_EVO_TSS__h.1133__tile2</td>\n",
       "      <td>...</td>\n",
       "      <td>7282.1.0.0</td>\n",
       "      <td>0.079932</td>\n",
       "      <td>0.177061</td>\n",
       "      <td>h.1133</td>\n",
       "      <td>HUMAN</td>\n",
       "      <td>tile2</td>\n",
       "      <td>h.1133</td>\n",
       "      <td>enhancer</td>\n",
       "      <td>0.20306</td>\n",
       "      <td>human</td>\n",
       "    </tr>\n",
       "    <tr>\n",
       "      <th>4</th>\n",
       "      <td>1.323999</td>\n",
       "      <td>1.457128</td>\n",
       "      <td>0.146955</td>\n",
       "      <td>0.155924</td>\n",
       "      <td>0.335623</td>\n",
       "      <td>0.417211</td>\n",
       "      <td>AAAAAAAAAGGCCACGCTCAAAACCCCAGACTAGTTTTCCTCACCA...</td>\n",
       "      <td>WILDTYPE</td>\n",
       "      <td>HUMAN_EVO_TSS__h.1436__tile1:157192113-1571922...</td>\n",
       "      <td>HUMAN_EVO_TSS__h.1436__tile1</td>\n",
       "      <td>...</td>\n",
       "      <td>4134.1.0.0</td>\n",
       "      <td>0.121888</td>\n",
       "      <td>0.163498</td>\n",
       "      <td>h.1436</td>\n",
       "      <td>HUMAN</td>\n",
       "      <td>tile1</td>\n",
       "      <td>h.1436</td>\n",
       "      <td>enhancer</td>\n",
       "      <td>0.039043800000000004</td>\n",
       "      <td>human</td>\n",
       "    </tr>\n",
       "  </tbody>\n",
       "</table>\n",
       "<p>5 rows × 25 columns</p>\n",
       "</div>"
      ],
      "text/plain": [
       "     HUES64      mESC  HUES64_pval  mESC_pval  HUES64_padj  mESC_padj  \\\n",
       "0  1.326796  1.348824     0.145102   0.232651     0.331993   0.545526   \n",
       "1  1.202075  1.503351     0.242922   0.128950     0.488166   0.364500   \n",
       "2  1.326796  1.348824     0.145102   0.232651     0.331993   0.545526   \n",
       "3  1.202075  1.503351     0.242922   0.128950     0.488166   0.364500   \n",
       "4  1.323999  1.457128     0.146955   0.155924     0.335623   0.417211   \n",
       "\n",
       "                                             element tile_type  \\\n",
       "0  AAAAAAAAAAAAAAAGAAAAGAAAAGAAAAAAAAGAAAGGATTGAG...  WILDTYPE   \n",
       "1  CTACTCCGGAGGCTGAGGCAGGAGAATCGCTTGAACCCGGGGGTGG...  WILDTYPE   \n",
       "2  AAAAAAAAAAAAAAAGAAAAGAAAAGAAAAAAAAGAAAGGATTGAG...  WILDTYPE   \n",
       "3  CTACTCCGGAGGCTGAGGCAGGAGAATCGCTTGAACCCGGGGGTGG...  WILDTYPE   \n",
       "4  AAAAAAAAAGGCCACGCTCAAAACCCCAGACTAGTTTTCCTCACCA...  WILDTYPE   \n",
       "\n",
       "                                          element_id  \\\n",
       "0  HUMAN_EVO_TSS__h.1133__tile1:129255098-1292552...   \n",
       "1  HUMAN_EVO_TSS__h.1133__tile2:129255212-1292553...   \n",
       "2  HUMAN_EVO_TSS__h.1133__tile1:129255098-1292552...   \n",
       "3  HUMAN_EVO_TSS__h.1133__tile2:129255212-1292553...   \n",
       "4  HUMAN_EVO_TSS__h.1436__tile1:157192113-1571922...   \n",
       "\n",
       "                           name     ...        dupe_info HUES64_log  mESC_log  \\\n",
       "0  HUMAN_EVO_TSS__h.1133__tile1     ...       7281.1.0.0   0.122804  0.129955   \n",
       "1  HUMAN_EVO_TSS__h.1133__tile2     ...       7282.1.0.0   0.079932  0.177061   \n",
       "2  HUMAN_EVO_TSS__h.1133__tile1     ...       7281.1.0.0   0.122804  0.129955   \n",
       "3  HUMAN_EVO_TSS__h.1133__tile2     ...       7282.1.0.0   0.079932  0.177061   \n",
       "4  HUMAN_EVO_TSS__h.1436__tile1     ...       4134.1.0.0   0.121888  0.163498   \n",
       "\n",
       "   tss_id  species tss_tile_num  hg19_id  biotype_hg19         stem_exp_hg19  \\\n",
       "0  h.1133    HUMAN        tile1   h.1133      enhancer               0.20306   \n",
       "1  h.1133    HUMAN        tile2   h.1133      enhancer               0.20306   \n",
       "2  h.1133    HUMAN        tile1   h.1133      enhancer               0.20306   \n",
       "3  h.1133    HUMAN        tile2   h.1133      enhancer               0.20306   \n",
       "4  h.1436    HUMAN        tile1   h.1436      enhancer  0.039043800000000004   \n",
       "\n",
       "  orig_species  \n",
       "0        human  \n",
       "1        human  \n",
       "2        human  \n",
       "3        human  \n",
       "4        human  \n",
       "\n",
       "[5 rows x 25 columns]"
      ]
     },
     "execution_count": 12,
     "metadata": {},
     "output_type": "execute_result"
    }
   ],
   "source": [
    "human_vals = pd.read_table(human_vals_f)\n",
    "mouse_vals = pd.read_table(mouse_vals_f)\n",
    "human_vals.head()"
   ]
  },
  {
   "cell_type": "code",
   "execution_count": 13,
   "metadata": {},
   "outputs": [
    {
     "data": {
      "text/html": [
       "<div>\n",
       "<style>\n",
       "    .dataframe thead tr:only-child th {\n",
       "        text-align: right;\n",
       "    }\n",
       "\n",
       "    .dataframe thead th {\n",
       "        text-align: left;\n",
       "    }\n",
       "\n",
       "    .dataframe tbody tr th {\n",
       "        vertical-align: top;\n",
       "    }\n",
       "</style>\n",
       "<table border=\"1\" class=\"dataframe\">\n",
       "  <thead>\n",
       "    <tr style=\"text-align: right;\">\n",
       "      <th></th>\n",
       "      <th>index</th>\n",
       "      <th>stat_native</th>\n",
       "      <th>pval_native</th>\n",
       "      <th>fdr_native</th>\n",
       "      <th>df.test_native</th>\n",
       "      <th>df.dna_native</th>\n",
       "      <th>df.rna.full_native</th>\n",
       "      <th>df.rna.red_native</th>\n",
       "      <th>logFC_native</th>\n",
       "    </tr>\n",
       "  </thead>\n",
       "  <tbody>\n",
       "    <tr>\n",
       "      <th>4898</th>\n",
       "      <td>h.2900__no cage activity__m.2711__div_lnc__tile2</td>\n",
       "      <td>22.302956</td>\n",
       "      <td>2.328479e-06</td>\n",
       "      <td>1.137978e-05</td>\n",
       "      <td>1</td>\n",
       "      <td>14</td>\n",
       "      <td>5</td>\n",
       "      <td>4</td>\n",
       "      <td>-1.233448</td>\n",
       "    </tr>\n",
       "    <tr>\n",
       "      <th>3861</th>\n",
       "      <td>h.1548__antisense__m.1360__no cage activity__t...</td>\n",
       "      <td>10.390287</td>\n",
       "      <td>1.266799e-03</td>\n",
       "      <td>3.269587e-03</td>\n",
       "      <td>1</td>\n",
       "      <td>14</td>\n",
       "      <td>5</td>\n",
       "      <td>4</td>\n",
       "      <td>0.772078</td>\n",
       "    </tr>\n",
       "    <tr>\n",
       "      <th>4268</th>\n",
       "      <td>h.2103__other_lnc__m.1915__no cage activity__t...</td>\n",
       "      <td>4.916243</td>\n",
       "      <td>2.660531e-02</td>\n",
       "      <td>4.787483e-02</td>\n",
       "      <td>1</td>\n",
       "      <td>14</td>\n",
       "      <td>5</td>\n",
       "      <td>4</td>\n",
       "      <td>0.643995</td>\n",
       "    </tr>\n",
       "    <tr>\n",
       "      <th>637</th>\n",
       "      <td>h.944__div_pc__m.827__unassigned__tile1</td>\n",
       "      <td>46.426138</td>\n",
       "      <td>9.513791e-12</td>\n",
       "      <td>1.520647e-10</td>\n",
       "      <td>1</td>\n",
       "      <td>14</td>\n",
       "      <td>5</td>\n",
       "      <td>4</td>\n",
       "      <td>1.657177</td>\n",
       "    </tr>\n",
       "    <tr>\n",
       "      <th>5514</th>\n",
       "      <td>ctrl.1__CONTROL__samp.65__CONTROL</td>\n",
       "      <td>4.050311</td>\n",
       "      <td>4.416321e-02</td>\n",
       "      <td>7.443987e-02</td>\n",
       "      <td>1</td>\n",
       "      <td>14</td>\n",
       "      <td>5</td>\n",
       "      <td>4</td>\n",
       "      <td>0.315304</td>\n",
       "    </tr>\n",
       "  </tbody>\n",
       "</table>\n",
       "</div>"
      ],
      "text/plain": [
       "                                                  index  stat_native  \\\n",
       "4898   h.2900__no cage activity__m.2711__div_lnc__tile2    22.302956   \n",
       "3861  h.1548__antisense__m.1360__no cage activity__t...    10.390287   \n",
       "4268  h.2103__other_lnc__m.1915__no cage activity__t...     4.916243   \n",
       "637             h.944__div_pc__m.827__unassigned__tile1    46.426138   \n",
       "5514                  ctrl.1__CONTROL__samp.65__CONTROL     4.050311   \n",
       "\n",
       "       pval_native    fdr_native  df.test_native  df.dna_native  \\\n",
       "4898  2.328479e-06  1.137978e-05               1             14   \n",
       "3861  1.266799e-03  3.269587e-03               1             14   \n",
       "4268  2.660531e-02  4.787483e-02               1             14   \n",
       "637   9.513791e-12  1.520647e-10               1             14   \n",
       "5514  4.416321e-02  7.443987e-02               1             14   \n",
       "\n",
       "      df.rna.full_native  df.rna.red_native  logFC_native  \n",
       "4898                   5                  4     -1.233448  \n",
       "3861                   5                  4      0.772078  \n",
       "4268                   5                  4      0.643995  \n",
       "637                    5                  4      1.657177  \n",
       "5514                   5                  4      0.315304  "
      ]
     },
     "execution_count": 13,
     "metadata": {},
     "output_type": "execute_result"
    }
   ],
   "source": [
    "native = pd.read_table(native_f).reset_index()\n",
    "native.columns = [\"index\", \"stat_native\", \"pval_native\", \"fdr_native\", \"df.test_native\", \"df.dna_native\", \n",
    "                  \"df.rna.full_native\", \"df.rna.red_native\", \"logFC_native\"]\n",
    "native[\"index\"] = native.apply(fix_ctrl_id, axis=1)\n",
    "native.sample(5)"
   ]
  },
  {
   "cell_type": "code",
   "execution_count": 14,
   "metadata": {},
   "outputs": [],
   "source": [
    "HUES64_cis = pd.read_table(HUES64_cis_f).reset_index()\n",
    "HUES64_cis.columns = [\"index\", \"stat_cis_HUES64\", \"pval_cis_HUES64\", \"fdr_cis_HUES64\", \"df.test_cis_HUES64\", \n",
    "                      \"df.dna_cis_HUES64\", \"df.rna.full_cis_HUES64\", \"df.rna.red_cis_HUES64\", \"logFC_cis_HUES64\"]\n",
    "HUES64_cis[\"index\"] = HUES64_cis.apply(fix_ctrl_id, axis=1)\n",
    "\n",
    "mESC_cis = pd.read_table(mESC_cis_f).reset_index()\n",
    "mESC_cis.columns = [\"index\", \"stat_cis_mESC\", \"pval_cis_mESC\", \"fdr_cis_mESC\", \"df.test_cis_mESC\", \n",
    "                    \"df.dna_cis_mESC\", \"df.rna.full_cis_mESC\", \"df.rna.red_cis_mESC\", \"logFC_cis_mESC\"]\n",
    "mESC_cis[\"index\"] = mESC_cis.apply(fix_ctrl_id, axis=1)"
   ]
  },
  {
   "cell_type": "code",
   "execution_count": 15,
   "metadata": {},
   "outputs": [],
   "source": [
    "human_trans = pd.read_table(human_trans_f).reset_index()\n",
    "human_trans.columns = [\"index\", \"stat_trans_human\", \"pval_trans_human\", \"fdr_trans_human\", \"df.test_trans_human\", \n",
    "                       \"df.dna_trans_human\", \"df.rna.full_trans_human\", \"df.rna.red_trans_human\", \"logFC_trans_human\"]\n",
    "human_trans[\"index\"] = human_trans.apply(fix_ctrl_id, axis=1)\n",
    "\n",
    "mouse_trans = pd.read_table(mouse_trans_f).reset_index()\n",
    "mouse_trans.columns = [\"index\", \"stat_trans_mouse\", \"pval_trans_mouse\", \"fdr_trans_mouse\", \"df.test_trans_mouse\", \n",
    "                       \"df.dna_trans_mouse\", \"df.rna.full_trans_mouse\", \"df.rna.red_trans_mouse\", \"logFC_trans_mouse\"]\n",
    "mouse_trans[\"index\"] = mouse_trans.apply(fix_ctrl_id, axis=1)"
   ]
  },
  {
   "cell_type": "code",
   "execution_count": 16,
   "metadata": {},
   "outputs": [],
   "source": [
    "cis_trans_int = pd.read_table(cis_trans_int_f).reset_index()\n",
    "cis_trans_int.columns = [\"index\", \"stat_int\", \"pval_int\", \"fdr_int\", \"df.test_int\", \n",
    "                         \"df.dna_int\", \"df.rna.full_int\", \"df.rna.red_int\", \"logFC_int\"]\n",
    "cis_trans_int[\"index\"] = cis_trans_int.apply(fix_ctrl_id, axis=1)"
   ]
  },
  {
   "cell_type": "code",
   "execution_count": 17,
   "metadata": {},
   "outputs": [
    {
     "data": {
      "text/html": [
       "<div>\n",
       "<style>\n",
       "    .dataframe thead tr:only-child th {\n",
       "        text-align: right;\n",
       "    }\n",
       "\n",
       "    .dataframe thead th {\n",
       "        text-align: left;\n",
       "    }\n",
       "\n",
       "    .dataframe tbody tr th {\n",
       "        vertical-align: top;\n",
       "    }\n",
       "</style>\n",
       "<table border=\"1\" class=\"dataframe\">\n",
       "  <thead>\n",
       "    <tr style=\"text-align: right;\">\n",
       "      <th></th>\n",
       "      <th>chr_tss_hg19</th>\n",
       "      <th>start_tss_hg19</th>\n",
       "      <th>end_tss_hg19</th>\n",
       "      <th>strand_tss_hg19</th>\n",
       "      <th>cage_id_hg19</th>\n",
       "      <th>biotype_hg19</th>\n",
       "      <th>name_peak_hg19</th>\n",
       "      <th>seq_orth</th>\n",
       "      <th>cage_orth</th>\n",
       "      <th>chr_tss_mm9</th>\n",
       "      <th>...</th>\n",
       "      <th>har</th>\n",
       "      <th>orig_species</th>\n",
       "      <th>lift_species</th>\n",
       "      <th>oligo_type</th>\n",
       "      <th>hg19_id</th>\n",
       "      <th>mm9_id</th>\n",
       "      <th>cleaner_biotype_hg19</th>\n",
       "      <th>cleaner_biotype_mm9</th>\n",
       "      <th>minimal_biotype_hg19</th>\n",
       "      <th>minimal_biotype_mm9</th>\n",
       "    </tr>\n",
       "  </thead>\n",
       "  <tbody>\n",
       "    <tr>\n",
       "      <th>0</th>\n",
       "      <td>chr1</td>\n",
       "      <td>2985430</td>\n",
       "      <td>2985431</td>\n",
       "      <td>-</td>\n",
       "      <td>chr1:2985420..2985438,-</td>\n",
       "      <td>div_lnc</td>\n",
       "      <td>ENSG00000177133.6</td>\n",
       "      <td>True</td>\n",
       "      <td>True</td>\n",
       "      <td>chr4</td>\n",
       "      <td>...</td>\n",
       "      <td>False</td>\n",
       "      <td>human</td>\n",
       "      <td>mouse</td>\n",
       "      <td>human__divergent:mouse__divergent</td>\n",
       "      <td>h.2</td>\n",
       "      <td>m.1</td>\n",
       "      <td>div. lncRNA</td>\n",
       "      <td>div. lncRNA</td>\n",
       "      <td>lncRNA</td>\n",
       "      <td>lncRNA</td>\n",
       "    </tr>\n",
       "    <tr>\n",
       "      <th>1</th>\n",
       "      <td>chr1</td>\n",
       "      <td>8086552</td>\n",
       "      <td>8086553</td>\n",
       "      <td>+</td>\n",
       "      <td>chr1:8086546..8086571,+</td>\n",
       "      <td>div_lnc</td>\n",
       "      <td>ENSG00000238290.1</td>\n",
       "      <td>True</td>\n",
       "      <td>True</td>\n",
       "      <td>chr4</td>\n",
       "      <td>...</td>\n",
       "      <td>False</td>\n",
       "      <td>human</td>\n",
       "      <td>mouse</td>\n",
       "      <td>human__divergent:mouse__antisense</td>\n",
       "      <td>h.3</td>\n",
       "      <td>m.2</td>\n",
       "      <td>div. lncRNA</td>\n",
       "      <td>other lncRNA</td>\n",
       "      <td>lncRNA</td>\n",
       "      <td>lncRNA</td>\n",
       "    </tr>\n",
       "    <tr>\n",
       "      <th>2</th>\n",
       "      <td>chr1</td>\n",
       "      <td>26498322</td>\n",
       "      <td>26498323</td>\n",
       "      <td>-</td>\n",
       "      <td>chr1:26498321..26498327,-</td>\n",
       "      <td>antisense_upep</td>\n",
       "      <td>ENSG00000236782.1</td>\n",
       "      <td>True</td>\n",
       "      <td>True</td>\n",
       "      <td>chr4</td>\n",
       "      <td>...</td>\n",
       "      <td>False</td>\n",
       "      <td>human</td>\n",
       "      <td>mouse</td>\n",
       "      <td>human__antisense:mouse__protein_coding</td>\n",
       "      <td>h.4</td>\n",
       "      <td>m.3</td>\n",
       "      <td>other lncRNA</td>\n",
       "      <td>mRNA</td>\n",
       "      <td>lncRNA</td>\n",
       "      <td>mRNA</td>\n",
       "    </tr>\n",
       "    <tr>\n",
       "      <th>3</th>\n",
       "      <td>chr1</td>\n",
       "      <td>65533428</td>\n",
       "      <td>65533429</td>\n",
       "      <td>-</td>\n",
       "      <td>chr1:65533390..65533443,-</td>\n",
       "      <td>intergenic</td>\n",
       "      <td>ENSG00000231485.1</td>\n",
       "      <td>True</td>\n",
       "      <td>True</td>\n",
       "      <td>chr4</td>\n",
       "      <td>...</td>\n",
       "      <td>False</td>\n",
       "      <td>human</td>\n",
       "      <td>mouse</td>\n",
       "      <td>human__intergenic:mouse__intergenic</td>\n",
       "      <td>h.5</td>\n",
       "      <td>m.4</td>\n",
       "      <td>lincRNA</td>\n",
       "      <td>other lncRNA</td>\n",
       "      <td>lncRNA</td>\n",
       "      <td>lncRNA</td>\n",
       "    </tr>\n",
       "    <tr>\n",
       "      <th>4</th>\n",
       "      <td>chr1</td>\n",
       "      <td>65533462</td>\n",
       "      <td>65533463</td>\n",
       "      <td>-</td>\n",
       "      <td>chr1:65533457..65533465,-</td>\n",
       "      <td>intergenic</td>\n",
       "      <td>ENSG00000231485.1</td>\n",
       "      <td>True</td>\n",
       "      <td>True</td>\n",
       "      <td>chr4</td>\n",
       "      <td>...</td>\n",
       "      <td>False</td>\n",
       "      <td>human</td>\n",
       "      <td>mouse</td>\n",
       "      <td>human__intergenic:mouse__intergenic</td>\n",
       "      <td>h.6</td>\n",
       "      <td>m.4</td>\n",
       "      <td>lincRNA</td>\n",
       "      <td>other lncRNA</td>\n",
       "      <td>lncRNA</td>\n",
       "      <td>lncRNA</td>\n",
       "    </tr>\n",
       "  </tbody>\n",
       "</table>\n",
       "<p>5 rows × 30 columns</p>\n",
       "</div>"
      ],
      "text/plain": [
       "  chr_tss_hg19  start_tss_hg19  end_tss_hg19 strand_tss_hg19  \\\n",
       "0         chr1         2985430       2985431               -   \n",
       "1         chr1         8086552       8086553               +   \n",
       "2         chr1        26498322      26498323               -   \n",
       "3         chr1        65533428      65533429               -   \n",
       "4         chr1        65533462      65533463               -   \n",
       "\n",
       "                cage_id_hg19    biotype_hg19     name_peak_hg19  seq_orth  \\\n",
       "0    chr1:2985420..2985438,-         div_lnc  ENSG00000177133.6      True   \n",
       "1    chr1:8086546..8086571,+         div_lnc  ENSG00000238290.1      True   \n",
       "2  chr1:26498321..26498327,-  antisense_upep  ENSG00000236782.1      True   \n",
       "3  chr1:65533390..65533443,-      intergenic  ENSG00000231485.1      True   \n",
       "4  chr1:65533457..65533465,-      intergenic  ENSG00000231485.1      True   \n",
       "\n",
       "   cage_orth chr_tss_mm9         ...            har  orig_species  \\\n",
       "0       True        chr4         ...          False         human   \n",
       "1       True        chr4         ...          False         human   \n",
       "2       True        chr4         ...          False         human   \n",
       "3       True        chr4         ...          False         human   \n",
       "4       True        chr4         ...          False         human   \n",
       "\n",
       "  lift_species                              oligo_type hg19_id mm9_id  \\\n",
       "0        mouse       human__divergent:mouse__divergent     h.2    m.1   \n",
       "1        mouse       human__divergent:mouse__antisense     h.3    m.2   \n",
       "2        mouse  human__antisense:mouse__protein_coding     h.4    m.3   \n",
       "3        mouse     human__intergenic:mouse__intergenic     h.5    m.4   \n",
       "4        mouse     human__intergenic:mouse__intergenic     h.6    m.4   \n",
       "\n",
       "  cleaner_biotype_hg19 cleaner_biotype_mm9 minimal_biotype_hg19  \\\n",
       "0          div. lncRNA         div. lncRNA               lncRNA   \n",
       "1          div. lncRNA        other lncRNA               lncRNA   \n",
       "2         other lncRNA                mRNA               lncRNA   \n",
       "3              lincRNA        other lncRNA               lncRNA   \n",
       "4              lincRNA        other lncRNA               lncRNA   \n",
       "\n",
       "  minimal_biotype_mm9  \n",
       "0              lncRNA  \n",
       "1              lncRNA  \n",
       "2                mRNA  \n",
       "3              lncRNA  \n",
       "4              lncRNA  \n",
       "\n",
       "[5 rows x 30 columns]"
      ]
     },
     "execution_count": 17,
     "metadata": {},
     "output_type": "execute_result"
    }
   ],
   "source": [
    "tss_map = pd.read_table(tss_map_f)\n",
    "tss_map.head()"
   ]
  },
  {
   "cell_type": "code",
   "execution_count": 18,
   "metadata": {},
   "outputs": [
    {
     "data": {
      "text/plain": [
       "enhancer            1093\n",
       "no cage activity     872\n",
       "protein_coding       311\n",
       "intergenic           270\n",
       "div_lnc              262\n",
       "div_pc               253\n",
       "antisense            156\n",
       "intergenic_upep       74\n",
       "antisense_upep        67\n",
       "unassigned            51\n",
       "other_lnc             28\n",
       "other_pc              25\n",
       "other_upep             3\n",
       "multi-mapped           2\n",
       "Name: biotype_hg19, dtype: int64"
      ]
     },
     "execution_count": 18,
     "metadata": {},
     "output_type": "execute_result"
    }
   ],
   "source": [
    "tss_map.biotype_hg19.value_counts()"
   ]
  },
  {
   "cell_type": "code",
   "execution_count": 19,
   "metadata": {},
   "outputs": [],
   "source": [
    "# align = pd.read_table(align_f, sep=\",\", index_col=0)\n",
    "# align.head()"
   ]
  },
  {
   "cell_type": "code",
   "execution_count": 20,
   "metadata": {},
   "outputs": [],
   "source": [
    "# cage_data = pd.read_table(cage_data_f, sep=\"\\t\")\n",
    "# cage_data.drop([\"tissue_sp_3\", \"n_expr\"], axis=1, inplace=True)\n",
    "# cage_data.columns = [\"cage_id_hg19\", \"av_cage_exp_hg19\", \"cage_tissue_sp_hg19\", \"cage_tss_type_hg19\"]\n",
    "# cage_data.head()"
   ]
  },
  {
   "cell_type": "markdown",
   "metadata": {},
   "source": [
    "## 2. add clean biotypes / biotype switch to TSS map"
   ]
  },
  {
   "cell_type": "code",
   "execution_count": 21,
   "metadata": {},
   "outputs": [
    {
     "data": {
      "text/plain": [
       "eRNA                        1093\n",
       "lncRNA                       860\n",
       "mRNA                         589\n",
       "reclassified - CAGE peak     529\n",
       "no CAGE activity             343\n",
       "other                         53\n",
       "Name: minimal_biotype_hg19, dtype: int64"
      ]
     },
     "execution_count": 21,
     "metadata": {},
     "output_type": "execute_result"
    }
   ],
   "source": [
    "tss_map.minimal_biotype_hg19.value_counts()"
   ]
  },
  {
   "cell_type": "code",
   "execution_count": 22,
   "metadata": {},
   "outputs": [
    {
     "data": {
      "text/plain": [
       "reclassified                    1067\n",
       "eRNA                             700\n",
       "biotype switch                   505\n",
       "CAGE turnover - eRNA             468\n",
       "mRNA                             158\n",
       "CAGE turnover - lincRNA          147\n",
       "CAGE turnover - other lncRNA      98\n",
       "div. mRNA                         86\n",
       "div. lncRNA                       67\n",
       "other lncRNA                      38\n",
       "CAGE turnover - div. lncRNA       37\n",
       "other                             32\n",
       "CAGE turnover - mRNA              23\n",
       "lincRNA                           22\n",
       "CAGE turnover - div. mRNA         15\n",
       "CAGE turnover - other mRNA         2\n",
       "other mRNA                         2\n",
       "Name: biotype_switch_clean, dtype: int64"
      ]
     },
     "execution_count": 22,
     "metadata": {},
     "output_type": "execute_result"
    }
   ],
   "source": [
    "tss_map[\"biotype_switch_clean\"] = tss_map.apply(biotype_switch_clean, axis=1)\n",
    "tss_map.biotype_switch_clean.value_counts()"
   ]
  },
  {
   "cell_type": "code",
   "execution_count": 23,
   "metadata": {},
   "outputs": [
    {
     "data": {
      "text/plain": [
       "3467"
      ]
     },
     "execution_count": 23,
     "metadata": {},
     "output_type": "execute_result"
    }
   ],
   "source": [
    "len(tss_map)"
   ]
  },
  {
   "cell_type": "code",
   "execution_count": 24,
   "metadata": {},
   "outputs": [
    {
     "data": {
      "text/plain": [
       "reclassified              1067\n",
       "eRNA                       700\n",
       "CAGE turnover - eRNA       468\n",
       "mRNA                       415\n",
       "biotype switch             297\n",
       "CAGE turnover - lncRNA     282\n",
       "lncRNA                     166\n",
       "CAGE turnover - mRNA        40\n",
       "other                       32\n",
       "Name: biotype_switch_minimal, dtype: int64"
      ]
     },
     "execution_count": 24,
     "metadata": {},
     "output_type": "execute_result"
    }
   ],
   "source": [
    "tss_map[\"biotype_switch_minimal\"] = tss_map.apply(biotype_switch_minimal, axis=1)\n",
    "tss_map.biotype_switch_minimal.value_counts()"
   ]
  },
  {
   "cell_type": "markdown",
   "metadata": {},
   "source": [
    "## 3. merge alphas with TSS map"
   ]
  },
  {
   "cell_type": "markdown",
   "metadata": {},
   "source": [
    "split up into tile1 and tile2"
   ]
  },
  {
   "cell_type": "code",
   "execution_count": 25,
   "metadata": {},
   "outputs": [
    {
     "data": {
      "text/html": [
       "<div>\n",
       "<style>\n",
       "    .dataframe thead tr:only-child th {\n",
       "        text-align: right;\n",
       "    }\n",
       "\n",
       "    .dataframe thead th {\n",
       "        text-align: left;\n",
       "    }\n",
       "\n",
       "    .dataframe tbody tr th {\n",
       "        vertical-align: top;\n",
       "    }\n",
       "</style>\n",
       "<table border=\"1\" class=\"dataframe\">\n",
       "  <thead>\n",
       "    <tr style=\"text-align: right;\">\n",
       "      <th></th>\n",
       "      <th>mm9_element</th>\n",
       "      <th>mm9_id</th>\n",
       "      <th>mm9_tile_num</th>\n",
       "    </tr>\n",
       "  </thead>\n",
       "  <tbody>\n",
       "    <tr>\n",
       "      <th>3793</th>\n",
       "      <td>CCGCCCGCGCAGATGACTGGCGAGCTGGCCGGCATGGGCTGGTACG...</td>\n",
       "      <td>m.122</td>\n",
       "      <td>tile1</td>\n",
       "    </tr>\n",
       "    <tr>\n",
       "      <th>2160</th>\n",
       "      <td>TTGTCTTTTTTTTTTTTTTTCCTAATCATGTGGACATCTCTGAGAA...</td>\n",
       "      <td>m.2927</td>\n",
       "      <td>tile1</td>\n",
       "    </tr>\n",
       "    <tr>\n",
       "      <th>3283</th>\n",
       "      <td>TGCAGCCGTGCTCTGCGTCCGCGAGACACATTAACTTCGTGGTGAC...</td>\n",
       "      <td>m.272</td>\n",
       "      <td>tile2</td>\n",
       "    </tr>\n",
       "    <tr>\n",
       "      <th>2267</th>\n",
       "      <td>GGCCTGTGAGGTGGGAGCGGTTGGCCTGCTGGCCTCGCTGCTTGGC...</td>\n",
       "      <td>m.2608</td>\n",
       "      <td>tile1</td>\n",
       "    </tr>\n",
       "    <tr>\n",
       "      <th>3890</th>\n",
       "      <td>CTCGAAGGCCACTCCAGAGGAGATCCAGGCTCTGATGTTTCTAAAA...</td>\n",
       "      <td>m.2177</td>\n",
       "      <td>tile2</td>\n",
       "    </tr>\n",
       "  </tbody>\n",
       "</table>\n",
       "</div>"
      ],
      "text/plain": [
       "                                            mm9_element  mm9_id mm9_tile_num\n",
       "3793  CCGCCCGCGCAGATGACTGGCGAGCTGGCCGGCATGGGCTGGTACG...   m.122        tile1\n",
       "2160  TTGTCTTTTTTTTTTTTTTTCCTAATCATGTGGACATCTCTGAGAA...  m.2927        tile1\n",
       "3283  TGCAGCCGTGCTCTGCGTCCGCGAGACACATTAACTTCGTGGTGAC...   m.272        tile2\n",
       "2267  GGCCTGTGAGGTGGGAGCGGTTGGCCTGCTGGCCTCGCTGCTTGGC...  m.2608        tile1\n",
       "3890  CTCGAAGGCCACTCCAGAGGAGATCCAGGCTCTGATGTTTCTAAAA...  m.2177        tile2"
      ]
     },
     "execution_count": 25,
     "metadata": {},
     "output_type": "execute_result"
    }
   ],
   "source": [
    "human_vals_sub = human_vals[[\"element\", \"tss_id\", \"tss_tile_num\"]]\n",
    "human_vals_sub.columns = [\"hg19_element\", \"hg19_id\", \"hg19_tile_num\"]\n",
    "\n",
    "mouse_vals_sub = mouse_vals[[\"element\", \"tss_id\", \"tss_tile_num\"]]\n",
    "mouse_vals_sub.columns = [\"mm9_element\", \"mm9_id\", \"mm9_tile_num\"]\n",
    "mouse_vals_sub.sample(5)"
   ]
  },
  {
   "cell_type": "code",
   "execution_count": 26,
   "metadata": {},
   "outputs": [
    {
     "name": "stdout",
     "output_type": "stream",
     "text": [
      "2629\n",
      "2361\n",
      "2518\n",
      "2285\n"
     ]
    }
   ],
   "source": [
    "human_vals_tile1 = human_vals_sub[human_vals_sub[\"hg19_tile_num\"] == \"tile1\"].drop_duplicates()\n",
    "human_vals_tile2 = human_vals_sub[human_vals_sub[\"hg19_tile_num\"] == \"tile2\"].drop_duplicates()\n",
    "mouse_vals_tile1 = mouse_vals_sub[mouse_vals_sub[\"mm9_tile_num\"] == \"tile1\"].drop_duplicates()\n",
    "mouse_vals_tile2 = mouse_vals_sub[mouse_vals_sub[\"mm9_tile_num\"] == \"tile2\"].drop_duplicates()\n",
    "\n",
    "print(len(human_vals_tile1))\n",
    "print(len(human_vals_tile2))\n",
    "print(len(mouse_vals_tile1))\n",
    "print(len(mouse_vals_tile2))"
   ]
  },
  {
   "cell_type": "code",
   "execution_count": 27,
   "metadata": {},
   "outputs": [
    {
     "name": "stdout",
     "output_type": "stream",
     "text": [
      "3467\n"
     ]
    }
   ],
   "source": [
    "tss_map_tile1 = tss_map.merge(human_vals_tile1, on=\"hg19_id\").merge(mouse_vals_tile1, on=\"mm9_id\")\n",
    "print(len(tss_map_tile1))"
   ]
  },
  {
   "cell_type": "code",
   "execution_count": 28,
   "metadata": {},
   "outputs": [
    {
     "name": "stdout",
     "output_type": "stream",
     "text": [
      "2917\n"
     ]
    }
   ],
   "source": [
    "tss_map_tile2 = tss_map.merge(human_vals_tile2, on=\"hg19_id\").merge(mouse_vals_tile2, on=\"mm9_id\")\n",
    "print(len(tss_map_tile2))"
   ]
  },
  {
   "cell_type": "code",
   "execution_count": 29,
   "metadata": {},
   "outputs": [
    {
     "data": {
      "text/html": [
       "<div>\n",
       "<style>\n",
       "    .dataframe thead tr:only-child th {\n",
       "        text-align: right;\n",
       "    }\n",
       "\n",
       "    .dataframe thead th {\n",
       "        text-align: left;\n",
       "    }\n",
       "\n",
       "    .dataframe tbody tr th {\n",
       "        vertical-align: top;\n",
       "    }\n",
       "</style>\n",
       "<table border=\"1\" class=\"dataframe\">\n",
       "  <thead>\n",
       "    <tr style=\"text-align: right;\">\n",
       "      <th></th>\n",
       "      <th>chr_tss_hg19</th>\n",
       "      <th>start_tss_hg19</th>\n",
       "      <th>end_tss_hg19</th>\n",
       "      <th>strand_tss_hg19</th>\n",
       "      <th>cage_id_hg19</th>\n",
       "      <th>biotype_hg19</th>\n",
       "      <th>name_peak_hg19</th>\n",
       "      <th>seq_orth</th>\n",
       "      <th>cage_orth</th>\n",
       "      <th>chr_tss_mm9</th>\n",
       "      <th>...</th>\n",
       "      <th>HUES64_padj_hg19</th>\n",
       "      <th>mESC_padj_hg19</th>\n",
       "      <th>index_mm9</th>\n",
       "      <th>HUES64_mm9</th>\n",
       "      <th>mESC_mm9</th>\n",
       "      <th>HUES64_pval_mm9</th>\n",
       "      <th>mESC_pval_mm9</th>\n",
       "      <th>HUES64_padj_mm9</th>\n",
       "      <th>mESC_padj_mm9</th>\n",
       "      <th>tss_tile_num</th>\n",
       "    </tr>\n",
       "  </thead>\n",
       "  <tbody>\n",
       "    <tr>\n",
       "      <th>0</th>\n",
       "      <td>chr1</td>\n",
       "      <td>2985430</td>\n",
       "      <td>2985431</td>\n",
       "      <td>-</td>\n",
       "      <td>chr1:2985420..2985438,-</td>\n",
       "      <td>div_lnc</td>\n",
       "      <td>ENSG00000177133.6</td>\n",
       "      <td>True</td>\n",
       "      <td>True</td>\n",
       "      <td>chr4</td>\n",
       "      <td>...</td>\n",
       "      <td>1.812116e-03</td>\n",
       "      <td>6.958630e-01</td>\n",
       "      <td>CCCTTTTCAGCGCAGCTCGGAACTGGCCCTTTAAGAAAACATTCCT...</td>\n",
       "      <td>1.929367</td>\n",
       "      <td>1.179409</td>\n",
       "      <td>2.550782e-03</td>\n",
       "      <td>0.385808</td>\n",
       "      <td>8.819708e-03</td>\n",
       "      <td>0.692688</td>\n",
       "      <td>tile1</td>\n",
       "    </tr>\n",
       "    <tr>\n",
       "      <th>1</th>\n",
       "      <td>chr1</td>\n",
       "      <td>8086552</td>\n",
       "      <td>8086553</td>\n",
       "      <td>+</td>\n",
       "      <td>chr1:8086546..8086571,+</td>\n",
       "      <td>div_lnc</td>\n",
       "      <td>ENSG00000238290.1</td>\n",
       "      <td>True</td>\n",
       "      <td>True</td>\n",
       "      <td>chr4</td>\n",
       "      <td>...</td>\n",
       "      <td>4.883017e-01</td>\n",
       "      <td>6.945105e-01</td>\n",
       "      <td>TATTTATACGGTGAGCGACAACGTGACGTCAACGCCCGCAGCCCCG...</td>\n",
       "      <td>1.312270</td>\n",
       "      <td>1.914743</td>\n",
       "      <td>1.548958e-01</td>\n",
       "      <td>0.013920</td>\n",
       "      <td>3.497883e-01</td>\n",
       "      <td>0.055405</td>\n",
       "      <td>tile1</td>\n",
       "    </tr>\n",
       "    <tr>\n",
       "      <th>2</th>\n",
       "      <td>chr1</td>\n",
       "      <td>26498322</td>\n",
       "      <td>26498323</td>\n",
       "      <td>-</td>\n",
       "      <td>chr1:26498321..26498327,-</td>\n",
       "      <td>antisense_upep</td>\n",
       "      <td>ENSG00000236782.1</td>\n",
       "      <td>True</td>\n",
       "      <td>True</td>\n",
       "      <td>chr4</td>\n",
       "      <td>...</td>\n",
       "      <td>2.428031e-01</td>\n",
       "      <td>4.505074e-01</td>\n",
       "      <td>GATATTCAGGCCTGATGCTGATCCCTCCTGACAGCTGCTCCTAAGG...</td>\n",
       "      <td>1.653914</td>\n",
       "      <td>1.499628</td>\n",
       "      <td>2.254412e-02</td>\n",
       "      <td>0.130995</td>\n",
       "      <td>6.724474e-02</td>\n",
       "      <td>0.368915</td>\n",
       "      <td>tile1</td>\n",
       "    </tr>\n",
       "    <tr>\n",
       "      <th>3</th>\n",
       "      <td>chr1</td>\n",
       "      <td>65533428</td>\n",
       "      <td>65533429</td>\n",
       "      <td>-</td>\n",
       "      <td>chr1:65533390..65533443,-</td>\n",
       "      <td>intergenic</td>\n",
       "      <td>ENSG00000231485.1</td>\n",
       "      <td>True</td>\n",
       "      <td>True</td>\n",
       "      <td>chr4</td>\n",
       "      <td>...</td>\n",
       "      <td>1.368040e-14</td>\n",
       "      <td>1.753169e-23</td>\n",
       "      <td>TGAGACCCGGAAGTTTTTTTTTTTTTTTTTTTTCCTTCAATCCTGT...</td>\n",
       "      <td>3.223137</td>\n",
       "      <td>2.285388</td>\n",
       "      <td>3.022069e-11</td>\n",
       "      <td>0.000784</td>\n",
       "      <td>1.727483e-10</td>\n",
       "      <td>0.003826</td>\n",
       "      <td>tile1</td>\n",
       "    </tr>\n",
       "    <tr>\n",
       "      <th>4</th>\n",
       "      <td>chr1</td>\n",
       "      <td>65533462</td>\n",
       "      <td>65533463</td>\n",
       "      <td>-</td>\n",
       "      <td>chr1:65533457..65533465,-</td>\n",
       "      <td>intergenic</td>\n",
       "      <td>ENSG00000231485.1</td>\n",
       "      <td>True</td>\n",
       "      <td>True</td>\n",
       "      <td>chr4</td>\n",
       "      <td>...</td>\n",
       "      <td>3.003835e-10</td>\n",
       "      <td>2.655447e-09</td>\n",
       "      <td>TGAGACCCGGAAGTTTTTTTTTTTTTTTTTTTTCCTTCAATCCTGT...</td>\n",
       "      <td>3.223137</td>\n",
       "      <td>2.285388</td>\n",
       "      <td>3.022069e-11</td>\n",
       "      <td>0.000784</td>\n",
       "      <td>1.727483e-10</td>\n",
       "      <td>0.003826</td>\n",
       "      <td>tile1</td>\n",
       "    </tr>\n",
       "  </tbody>\n",
       "</table>\n",
       "<p>5 rows × 51 columns</p>\n",
       "</div>"
      ],
      "text/plain": [
       "  chr_tss_hg19  start_tss_hg19  end_tss_hg19 strand_tss_hg19  \\\n",
       "0         chr1         2985430       2985431               -   \n",
       "1         chr1         8086552       8086553               +   \n",
       "2         chr1        26498322      26498323               -   \n",
       "3         chr1        65533428      65533429               -   \n",
       "4         chr1        65533462      65533463               -   \n",
       "\n",
       "                cage_id_hg19    biotype_hg19     name_peak_hg19  seq_orth  \\\n",
       "0    chr1:2985420..2985438,-         div_lnc  ENSG00000177133.6      True   \n",
       "1    chr1:8086546..8086571,+         div_lnc  ENSG00000238290.1      True   \n",
       "2  chr1:26498321..26498327,-  antisense_upep  ENSG00000236782.1      True   \n",
       "3  chr1:65533390..65533443,-      intergenic  ENSG00000231485.1      True   \n",
       "4  chr1:65533457..65533465,-      intergenic  ENSG00000231485.1      True   \n",
       "\n",
       "   cage_orth chr_tss_mm9     ...       HUES64_padj_hg19  mESC_padj_hg19  \\\n",
       "0       True        chr4     ...           1.812116e-03    6.958630e-01   \n",
       "1       True        chr4     ...           4.883017e-01    6.945105e-01   \n",
       "2       True        chr4     ...           2.428031e-01    4.505074e-01   \n",
       "3       True        chr4     ...           1.368040e-14    1.753169e-23   \n",
       "4       True        chr4     ...           3.003835e-10    2.655447e-09   \n",
       "\n",
       "                                           index_mm9 HUES64_mm9  mESC_mm9  \\\n",
       "0  CCCTTTTCAGCGCAGCTCGGAACTGGCCCTTTAAGAAAACATTCCT...   1.929367  1.179409   \n",
       "1  TATTTATACGGTGAGCGACAACGTGACGTCAACGCCCGCAGCCCCG...   1.312270  1.914743   \n",
       "2  GATATTCAGGCCTGATGCTGATCCCTCCTGACAGCTGCTCCTAAGG...   1.653914  1.499628   \n",
       "3  TGAGACCCGGAAGTTTTTTTTTTTTTTTTTTTTCCTTCAATCCTGT...   3.223137  2.285388   \n",
       "4  TGAGACCCGGAAGTTTTTTTTTTTTTTTTTTTTCCTTCAATCCTGT...   3.223137  2.285388   \n",
       "\n",
       "  HUES64_pval_mm9 mESC_pval_mm9 HUES64_padj_mm9 mESC_padj_mm9 tss_tile_num  \n",
       "0    2.550782e-03      0.385808    8.819708e-03      0.692688        tile1  \n",
       "1    1.548958e-01      0.013920    3.497883e-01      0.055405        tile1  \n",
       "2    2.254412e-02      0.130995    6.724474e-02      0.368915        tile1  \n",
       "3    3.022069e-11      0.000784    1.727483e-10      0.003826        tile1  \n",
       "4    3.022069e-11      0.000784    1.727483e-10      0.003826        tile1  \n",
       "\n",
       "[5 rows x 51 columns]"
      ]
     },
     "execution_count": 29,
     "metadata": {},
     "output_type": "execute_result"
    }
   ],
   "source": [
    "tss_map_tile1 = tss_map_tile1.merge(alpha, \n",
    "                                    left_on=\"hg19_element\", \n",
    "                                    right_on=\"index\").merge(alpha,\n",
    "                                                            left_on=\"mm9_element\",\n",
    "                                                            right_on=\"index\",\n",
    "                                                            suffixes=(\"_hg19\", \"_mm9\"))\n",
    "tss_map_tile1[\"tss_tile_num\"] = \"tile1\"\n",
    "tss_map_tile1.head()"
   ]
  },
  {
   "cell_type": "code",
   "execution_count": 30,
   "metadata": {},
   "outputs": [
    {
     "data": {
      "text/html": [
       "<div>\n",
       "<style>\n",
       "    .dataframe thead tr:only-child th {\n",
       "        text-align: right;\n",
       "    }\n",
       "\n",
       "    .dataframe thead th {\n",
       "        text-align: left;\n",
       "    }\n",
       "\n",
       "    .dataframe tbody tr th {\n",
       "        vertical-align: top;\n",
       "    }\n",
       "</style>\n",
       "<table border=\"1\" class=\"dataframe\">\n",
       "  <thead>\n",
       "    <tr style=\"text-align: right;\">\n",
       "      <th></th>\n",
       "      <th>chr_tss_hg19</th>\n",
       "      <th>start_tss_hg19</th>\n",
       "      <th>end_tss_hg19</th>\n",
       "      <th>strand_tss_hg19</th>\n",
       "      <th>cage_id_hg19</th>\n",
       "      <th>biotype_hg19</th>\n",
       "      <th>name_peak_hg19</th>\n",
       "      <th>seq_orth</th>\n",
       "      <th>cage_orth</th>\n",
       "      <th>chr_tss_mm9</th>\n",
       "      <th>...</th>\n",
       "      <th>HUES64_padj_hg19</th>\n",
       "      <th>mESC_padj_hg19</th>\n",
       "      <th>index_mm9</th>\n",
       "      <th>HUES64_mm9</th>\n",
       "      <th>mESC_mm9</th>\n",
       "      <th>HUES64_pval_mm9</th>\n",
       "      <th>mESC_pval_mm9</th>\n",
       "      <th>HUES64_padj_mm9</th>\n",
       "      <th>mESC_padj_mm9</th>\n",
       "      <th>tss_tile_num</th>\n",
       "    </tr>\n",
       "  </thead>\n",
       "  <tbody>\n",
       "    <tr>\n",
       "      <th>0</th>\n",
       "      <td>chr1</td>\n",
       "      <td>2985430</td>\n",
       "      <td>2985431</td>\n",
       "      <td>-</td>\n",
       "      <td>chr1:2985420..2985438,-</td>\n",
       "      <td>div_lnc</td>\n",
       "      <td>ENSG00000177133.6</td>\n",
       "      <td>True</td>\n",
       "      <td>True</td>\n",
       "      <td>chr4</td>\n",
       "      <td>...</td>\n",
       "      <td>0.751141</td>\n",
       "      <td>0.765749</td>\n",
       "      <td>GTGTTCATCATCCTCTTCGTCGCGCCGCCGCCGCCGCCGCCTCGGC...</td>\n",
       "      <td>1.080031</td>\n",
       "      <td>1.014725</td>\n",
       "      <td>3.654486e-01</td>\n",
       "      <td>5.546171e-01</td>\n",
       "      <td>6.244843e-01</td>\n",
       "      <td>7.603340e-01</td>\n",
       "      <td>tile2</td>\n",
       "    </tr>\n",
       "    <tr>\n",
       "      <th>1</th>\n",
       "      <td>chr1</td>\n",
       "      <td>26498322</td>\n",
       "      <td>26498323</td>\n",
       "      <td>-</td>\n",
       "      <td>chr1:26498321..26498327,-</td>\n",
       "      <td>antisense_upep</td>\n",
       "      <td>ENSG00000236782.1</td>\n",
       "      <td>True</td>\n",
       "      <td>True</td>\n",
       "      <td>chr4</td>\n",
       "      <td>...</td>\n",
       "      <td>0.494085</td>\n",
       "      <td>0.337003</td>\n",
       "      <td>CAGGGCCGAGGGAGGCTGCCTAGTACCTGATGGATGCGGGGACTCC...</td>\n",
       "      <td>1.201008</td>\n",
       "      <td>1.281535</td>\n",
       "      <td>2.438893e-01</td>\n",
       "      <td>2.893006e-01</td>\n",
       "      <td>4.892946e-01</td>\n",
       "      <td>6.171539e-01</td>\n",
       "      <td>tile2</td>\n",
       "    </tr>\n",
       "    <tr>\n",
       "      <th>2</th>\n",
       "      <td>chr1</td>\n",
       "      <td>65533428</td>\n",
       "      <td>65533429</td>\n",
       "      <td>-</td>\n",
       "      <td>chr1:65533390..65533443,-</td>\n",
       "      <td>intergenic</td>\n",
       "      <td>ENSG00000231485.1</td>\n",
       "      <td>True</td>\n",
       "      <td>True</td>\n",
       "      <td>chr4</td>\n",
       "      <td>...</td>\n",
       "      <td>0.018955</td>\n",
       "      <td>0.347638</td>\n",
       "      <td>CCCAGCCTCCGGCTCCTGGGCACGGAGAGACCGGCGCGCACGCGCG...</td>\n",
       "      <td>3.340951</td>\n",
       "      <td>5.184600</td>\n",
       "      <td>2.921851e-12</td>\n",
       "      <td>5.691976e-27</td>\n",
       "      <td>1.725633e-11</td>\n",
       "      <td>6.309819e-26</td>\n",
       "      <td>tile2</td>\n",
       "    </tr>\n",
       "    <tr>\n",
       "      <th>3</th>\n",
       "      <td>chr1</td>\n",
       "      <td>65533462</td>\n",
       "      <td>65533463</td>\n",
       "      <td>-</td>\n",
       "      <td>chr1:65533457..65533465,-</td>\n",
       "      <td>intergenic</td>\n",
       "      <td>ENSG00000231485.1</td>\n",
       "      <td>True</td>\n",
       "      <td>True</td>\n",
       "      <td>chr4</td>\n",
       "      <td>...</td>\n",
       "      <td>0.009365</td>\n",
       "      <td>0.030918</td>\n",
       "      <td>CCCAGCCTCCGGCTCCTGGGCACGGAGAGACCGGCGCGCACGCGCG...</td>\n",
       "      <td>3.340951</td>\n",
       "      <td>5.184600</td>\n",
       "      <td>2.921851e-12</td>\n",
       "      <td>5.691976e-27</td>\n",
       "      <td>1.725633e-11</td>\n",
       "      <td>6.309819e-26</td>\n",
       "      <td>tile2</td>\n",
       "    </tr>\n",
       "    <tr>\n",
       "      <th>4</th>\n",
       "      <td>chr1</td>\n",
       "      <td>95975698</td>\n",
       "      <td>95975699</td>\n",
       "      <td>+</td>\n",
       "      <td>chr1:95975684..95975731,+</td>\n",
       "      <td>intergenic_upep</td>\n",
       "      <td>ENSG00000228971.2</td>\n",
       "      <td>True</td>\n",
       "      <td>True</td>\n",
       "      <td>chr3</td>\n",
       "      <td>...</td>\n",
       "      <td>0.801925</td>\n",
       "      <td>0.773335</td>\n",
       "      <td>AGTTAGATATCATCTATGTTCGCACTAAGTTTCCAGAAAGTCTTAT...</td>\n",
       "      <td>0.647859</td>\n",
       "      <td>1.015126</td>\n",
       "      <td>8.175529e-01</td>\n",
       "      <td>5.542059e-01</td>\n",
       "      <td>8.607159e-01</td>\n",
       "      <td>7.602509e-01</td>\n",
       "      <td>tile2</td>\n",
       "    </tr>\n",
       "  </tbody>\n",
       "</table>\n",
       "<p>5 rows × 51 columns</p>\n",
       "</div>"
      ],
      "text/plain": [
       "  chr_tss_hg19  start_tss_hg19  end_tss_hg19 strand_tss_hg19  \\\n",
       "0         chr1         2985430       2985431               -   \n",
       "1         chr1        26498322      26498323               -   \n",
       "2         chr1        65533428      65533429               -   \n",
       "3         chr1        65533462      65533463               -   \n",
       "4         chr1        95975698      95975699               +   \n",
       "\n",
       "                cage_id_hg19     biotype_hg19     name_peak_hg19  seq_orth  \\\n",
       "0    chr1:2985420..2985438,-          div_lnc  ENSG00000177133.6      True   \n",
       "1  chr1:26498321..26498327,-   antisense_upep  ENSG00000236782.1      True   \n",
       "2  chr1:65533390..65533443,-       intergenic  ENSG00000231485.1      True   \n",
       "3  chr1:65533457..65533465,-       intergenic  ENSG00000231485.1      True   \n",
       "4  chr1:95975684..95975731,+  intergenic_upep  ENSG00000228971.2      True   \n",
       "\n",
       "   cage_orth chr_tss_mm9     ...       HUES64_padj_hg19  mESC_padj_hg19  \\\n",
       "0       True        chr4     ...               0.751141        0.765749   \n",
       "1       True        chr4     ...               0.494085        0.337003   \n",
       "2       True        chr4     ...               0.018955        0.347638   \n",
       "3       True        chr4     ...               0.009365        0.030918   \n",
       "4       True        chr3     ...               0.801925        0.773335   \n",
       "\n",
       "                                           index_mm9 HUES64_mm9  mESC_mm9  \\\n",
       "0  GTGTTCATCATCCTCTTCGTCGCGCCGCCGCCGCCGCCGCCTCGGC...   1.080031  1.014725   \n",
       "1  CAGGGCCGAGGGAGGCTGCCTAGTACCTGATGGATGCGGGGACTCC...   1.201008  1.281535   \n",
       "2  CCCAGCCTCCGGCTCCTGGGCACGGAGAGACCGGCGCGCACGCGCG...   3.340951  5.184600   \n",
       "3  CCCAGCCTCCGGCTCCTGGGCACGGAGAGACCGGCGCGCACGCGCG...   3.340951  5.184600   \n",
       "4  AGTTAGATATCATCTATGTTCGCACTAAGTTTCCAGAAAGTCTTAT...   0.647859  1.015126   \n",
       "\n",
       "  HUES64_pval_mm9 mESC_pval_mm9 HUES64_padj_mm9 mESC_padj_mm9 tss_tile_num  \n",
       "0    3.654486e-01  5.546171e-01    6.244843e-01  7.603340e-01        tile2  \n",
       "1    2.438893e-01  2.893006e-01    4.892946e-01  6.171539e-01        tile2  \n",
       "2    2.921851e-12  5.691976e-27    1.725633e-11  6.309819e-26        tile2  \n",
       "3    2.921851e-12  5.691976e-27    1.725633e-11  6.309819e-26        tile2  \n",
       "4    8.175529e-01  5.542059e-01    8.607159e-01  7.602509e-01        tile2  \n",
       "\n",
       "[5 rows x 51 columns]"
      ]
     },
     "execution_count": 30,
     "metadata": {},
     "output_type": "execute_result"
    }
   ],
   "source": [
    "tss_map_tile2 = tss_map_tile2.merge(alpha, \n",
    "                                    left_on=\"hg19_element\", \n",
    "                                    right_on=\"index\").merge(alpha,\n",
    "                                                            left_on=\"mm9_element\",\n",
    "                                                            right_on=\"index\",\n",
    "                                                            suffixes=(\"_hg19\", \"_mm9\"))\n",
    "tss_map_tile2[\"tss_tile_num\"] = \"tile2\"\n",
    "tss_map_tile2.head()"
   ]
  },
  {
   "cell_type": "code",
   "execution_count": 31,
   "metadata": {},
   "outputs": [
    {
     "data": {
      "text/plain": [
       "enhancer            2059\n",
       "no cage activity    1599\n",
       "protein_coding       569\n",
       "intergenic           505\n",
       "div_lnc              462\n",
       "div_pc               453\n",
       "antisense            294\n",
       "intergenic_upep      131\n",
       "antisense_upep       126\n",
       "unassigned            84\n",
       "other_pc              47\n",
       "other_lnc             45\n",
       "other_upep             6\n",
       "multi-mapped           4\n",
       "Name: biotype_hg19, dtype: int64"
      ]
     },
     "execution_count": 31,
     "metadata": {},
     "output_type": "execute_result"
    }
   ],
   "source": [
    "tss_map = tss_map_tile1.append(tss_map_tile2)\n",
    "tss_map.biotype_hg19.value_counts()"
   ]
  },
  {
   "cell_type": "code",
   "execution_count": 32,
   "metadata": {},
   "outputs": [
    {
     "data": {
      "text/html": [
       "<div>\n",
       "<style>\n",
       "    .dataframe thead tr:only-child th {\n",
       "        text-align: right;\n",
       "    }\n",
       "\n",
       "    .dataframe thead th {\n",
       "        text-align: left;\n",
       "    }\n",
       "\n",
       "    .dataframe tbody tr th {\n",
       "        vertical-align: top;\n",
       "    }\n",
       "</style>\n",
       "<table border=\"1\" class=\"dataframe\">\n",
       "  <thead>\n",
       "    <tr style=\"text-align: right;\">\n",
       "      <th></th>\n",
       "      <th>hg19_id</th>\n",
       "      <th>chr_tss_hg19</th>\n",
       "      <th>start_tss_hg19</th>\n",
       "      <th>biotype_hg19</th>\n",
       "      <th>cleaner_biotype_hg19</th>\n",
       "      <th>minimal_biotype_hg19</th>\n",
       "      <th>cage_id_hg19</th>\n",
       "      <th>name_peak_hg19</th>\n",
       "      <th>stem_exp_hg19</th>\n",
       "      <th>mm9_id</th>\n",
       "      <th>...</th>\n",
       "      <th>biotype_switch_clean</th>\n",
       "      <th>biotype_switch_minimal</th>\n",
       "      <th>HUES64_hg19</th>\n",
       "      <th>mESC_hg19</th>\n",
       "      <th>HUES64_mm9</th>\n",
       "      <th>mESC_mm9</th>\n",
       "      <th>HUES64_padj_hg19</th>\n",
       "      <th>mESC_padj_hg19</th>\n",
       "      <th>HUES64_padj_mm9</th>\n",
       "      <th>mESC_padj_mm9</th>\n",
       "    </tr>\n",
       "  </thead>\n",
       "  <tbody>\n",
       "    <tr>\n",
       "      <th>1582</th>\n",
       "      <td>h.1647</td>\n",
       "      <td>chr5</td>\n",
       "      <td>59784004</td>\n",
       "      <td>antisense</td>\n",
       "      <td>other lncRNA</td>\n",
       "      <td>lncRNA</td>\n",
       "      <td>chr5:59783941..59784066,+</td>\n",
       "      <td>ENSG00000152931.7</td>\n",
       "      <td>0.04</td>\n",
       "      <td>m.1459</td>\n",
       "      <td>...</td>\n",
       "      <td>reclassified</td>\n",
       "      <td>reclassified</td>\n",
       "      <td>1.014174</td>\n",
       "      <td>1.115342</td>\n",
       "      <td>1.133908</td>\n",
       "      <td>1.080751</td>\n",
       "      <td>6.877185e-01</td>\n",
       "      <td>0.724029</td>\n",
       "      <td>0.568760</td>\n",
       "      <td>7.395630e-01</td>\n",
       "    </tr>\n",
       "    <tr>\n",
       "      <th>547</th>\n",
       "      <td>h.931</td>\n",
       "      <td>chr12</td>\n",
       "      <td>130646537</td>\n",
       "      <td>div_pc</td>\n",
       "      <td>div. mRNA</td>\n",
       "      <td>mRNA</td>\n",
       "      <td>chr12:130646534..130646542,+</td>\n",
       "      <td>ENSG00000111432.4</td>\n",
       "      <td>0.0744444</td>\n",
       "      <td>m.815</td>\n",
       "      <td>...</td>\n",
       "      <td>reclassified</td>\n",
       "      <td>reclassified</td>\n",
       "      <td>1.520860</td>\n",
       "      <td>1.227038</td>\n",
       "      <td>1.461208</td>\n",
       "      <td>1.039633</td>\n",
       "      <td>1.436264e-01</td>\n",
       "      <td>0.660913</td>\n",
       "      <td>0.192038</td>\n",
       "      <td>7.546073e-01</td>\n",
       "    </tr>\n",
       "    <tr>\n",
       "      <th>457</th>\n",
       "      <td>h.593</td>\n",
       "      <td>chr2</td>\n",
       "      <td>200820515</td>\n",
       "      <td>div_pc</td>\n",
       "      <td>div. mRNA</td>\n",
       "      <td>mRNA</td>\n",
       "      <td>chr2:200820494..200820550,+</td>\n",
       "      <td>ENSG00000162972.6</td>\n",
       "      <td>32.8889</td>\n",
       "      <td>m.479</td>\n",
       "      <td>...</td>\n",
       "      <td>div. mRNA</td>\n",
       "      <td>mRNA</td>\n",
       "      <td>1.810710</td>\n",
       "      <td>1.164865</td>\n",
       "      <td>18.478136</td>\n",
       "      <td>4.804685</td>\n",
       "      <td>2.268349e-02</td>\n",
       "      <td>0.701977</td>\n",
       "      <td>0.000000</td>\n",
       "      <td>1.462190e-21</td>\n",
       "    </tr>\n",
       "    <tr>\n",
       "      <th>2604</th>\n",
       "      <td>h.3405</td>\n",
       "      <td>chr2</td>\n",
       "      <td>100105553</td>\n",
       "      <td>no cage activity</td>\n",
       "      <td>reclassified - CAGE peak</td>\n",
       "      <td>reclassified - CAGE peak</td>\n",
       "      <td>no cage activity</td>\n",
       "      <td>no cage activity</td>\n",
       "      <td>no cage activity</td>\n",
       "      <td>m.3215</td>\n",
       "      <td>...</td>\n",
       "      <td>reclassified</td>\n",
       "      <td>reclassified</td>\n",
       "      <td>1.159030</td>\n",
       "      <td>1.239455</td>\n",
       "      <td>0.989848</td>\n",
       "      <td>1.039521</td>\n",
       "      <td>5.394721e-01</td>\n",
       "      <td>0.652123</td>\n",
       "      <td>0.708117</td>\n",
       "      <td>7.546314e-01</td>\n",
       "    </tr>\n",
       "    <tr>\n",
       "      <th>2610</th>\n",
       "      <td>h.2714</td>\n",
       "      <td>chr10</td>\n",
       "      <td>76995361</td>\n",
       "      <td>no cage activity</td>\n",
       "      <td>reclassified - CAGE peak</td>\n",
       "      <td>reclassified - CAGE peak</td>\n",
       "      <td>no cage activity</td>\n",
       "      <td>no cage activity</td>\n",
       "      <td>no cage activity</td>\n",
       "      <td>m.2526</td>\n",
       "      <td>...</td>\n",
       "      <td>reclassified</td>\n",
       "      <td>reclassified</td>\n",
       "      <td>2.783258</td>\n",
       "      <td>2.547983</td>\n",
       "      <td>1.248359</td>\n",
       "      <td>1.898480</td>\n",
       "      <td>3.326154e-07</td>\n",
       "      <td>0.000328</td>\n",
       "      <td>0.430394</td>\n",
       "      <td>6.094048e-02</td>\n",
       "    </tr>\n",
       "  </tbody>\n",
       "</table>\n",
       "<p>5 rows × 30 columns</p>\n",
       "</div>"
      ],
      "text/plain": [
       "     hg19_id chr_tss_hg19  start_tss_hg19      biotype_hg19  \\\n",
       "1582  h.1647         chr5        59784004         antisense   \n",
       "547    h.931        chr12       130646537            div_pc   \n",
       "457    h.593         chr2       200820515            div_pc   \n",
       "2604  h.3405         chr2       100105553  no cage activity   \n",
       "2610  h.2714        chr10        76995361  no cage activity   \n",
       "\n",
       "          cleaner_biotype_hg19      minimal_biotype_hg19  \\\n",
       "1582              other lncRNA                    lncRNA   \n",
       "547                  div. mRNA                      mRNA   \n",
       "457                  div. mRNA                      mRNA   \n",
       "2604  reclassified - CAGE peak  reclassified - CAGE peak   \n",
       "2610  reclassified - CAGE peak  reclassified - CAGE peak   \n",
       "\n",
       "                      cage_id_hg19     name_peak_hg19     stem_exp_hg19  \\\n",
       "1582     chr5:59783941..59784066,+  ENSG00000152931.7              0.04   \n",
       "547   chr12:130646534..130646542,+  ENSG00000111432.4         0.0744444   \n",
       "457    chr2:200820494..200820550,+  ENSG00000162972.6           32.8889   \n",
       "2604              no cage activity   no cage activity  no cage activity   \n",
       "2610              no cage activity   no cage activity  no cage activity   \n",
       "\n",
       "      mm9_id      ...      biotype_switch_clean  biotype_switch_minimal  \\\n",
       "1582  m.1459      ...              reclassified            reclassified   \n",
       "547    m.815      ...              reclassified            reclassified   \n",
       "457    m.479      ...                 div. mRNA                    mRNA   \n",
       "2604  m.3215      ...              reclassified            reclassified   \n",
       "2610  m.2526      ...              reclassified            reclassified   \n",
       "\n",
       "     HUES64_hg19 mESC_hg19 HUES64_mm9  mESC_mm9 HUES64_padj_hg19  \\\n",
       "1582    1.014174  1.115342   1.133908  1.080751     6.877185e-01   \n",
       "547     1.520860  1.227038   1.461208  1.039633     1.436264e-01   \n",
       "457     1.810710  1.164865  18.478136  4.804685     2.268349e-02   \n",
       "2604    1.159030  1.239455   0.989848  1.039521     5.394721e-01   \n",
       "2610    2.783258  2.547983   1.248359  1.898480     3.326154e-07   \n",
       "\n",
       "     mESC_padj_hg19 HUES64_padj_mm9 mESC_padj_mm9  \n",
       "1582       0.724029        0.568760  7.395630e-01  \n",
       "547        0.660913        0.192038  7.546073e-01  \n",
       "457        0.701977        0.000000  1.462190e-21  \n",
       "2604       0.652123        0.708117  7.546314e-01  \n",
       "2610       0.000328        0.430394  6.094048e-02  \n",
       "\n",
       "[5 rows x 30 columns]"
      ]
     },
     "execution_count": 32,
     "metadata": {},
     "output_type": "execute_result"
    }
   ],
   "source": [
    "data = tss_map[[\"hg19_id\", \"chr_tss_hg19\", \"start_tss_hg19\", \"biotype_hg19\", \"cleaner_biotype_hg19\", \n",
    "                \"minimal_biotype_hg19\", \"cage_id_hg19\", \"name_peak_hg19\", \"stem_exp_hg19\", \"mm9_id\", \"chr_tss_mm9\", \n",
    "                \"start_tss_mm9\", \"biotype_mm9\", \"cleaner_biotype_mm9\", \"minimal_biotype_mm9\", \"cage_id_mm9\", \n",
    "                \"name_peak_mm9\", \"stem_exp_mm9\", \"tss_tile_num\", \"orig_species\", \"biotype_switch_clean\", \n",
    "                \"biotype_switch_minimal\", \"HUES64_hg19\", \"mESC_hg19\", \"HUES64_mm9\", \"mESC_mm9\", \"HUES64_padj_hg19\", \n",
    "                \"mESC_padj_hg19\", \"HUES64_padj_mm9\", \"mESC_padj_mm9\"]].drop_duplicates()\n",
    "data.sample(5)"
   ]
  },
  {
   "cell_type": "code",
   "execution_count": 34,
   "metadata": {},
   "outputs": [
    {
     "data": {
      "text/plain": [
       "4944"
      ]
     },
     "execution_count": 34,
     "metadata": {},
     "output_type": "execute_result"
    }
   ],
   "source": [
    "len(data)"
   ]
  },
  {
   "cell_type": "markdown",
   "metadata": {},
   "source": [
    "## 4. find appropriate FDR cutoffs for each model\n",
    "choose FDR cutoff as the one that calls < 10% of controls as significant"
   ]
  },
  {
   "cell_type": "code",
   "execution_count": 35,
   "metadata": {},
   "outputs": [],
   "source": [
    "native_ctrls = native[native[\"index\"].str.contains(\"CONTROL\")]\n",
    "cis_HUES64_ctrls = HUES64_cis[HUES64_cis[\"index\"].str.contains(\"CONTROL\")]\n",
    "cis_mESC_ctrls = mESC_cis[mESC_cis[\"index\"].str.contains(\"CONTROL\")]\n",
    "trans_human_ctrls = human_trans[human_trans[\"index\"].str.contains(\"CONTROL\")]\n",
    "trans_mouse_ctrls = mouse_trans[mouse_trans[\"index\"].str.contains(\"CONTROL\")]\n",
    "cis_trans_int_ctrls = cis_trans_int[cis_trans_int[\"index\"].str.contains(\"CONTROL\")]"
   ]
  },
  {
   "cell_type": "code",
   "execution_count": 36,
   "metadata": {},
   "outputs": [
    {
     "name": "stdout",
     "output_type": "stream",
     "text": [
      "400\n",
      "400\n",
      "400\n",
      "400\n",
      "400\n",
      "400\n"
     ]
    }
   ],
   "source": [
    "print(len(native_ctrls))\n",
    "print(len(cis_HUES64_ctrls))\n",
    "print(len(cis_mESC_ctrls))\n",
    "print(len(trans_human_ctrls))\n",
    "print(len(trans_mouse_ctrls))\n",
    "print(len(cis_trans_int_ctrls))"
   ]
  },
  {
   "cell_type": "markdown",
   "metadata": {},
   "source": [
    "make plots to show different #s of controls called as \"significant\" at alpha < 0.05 in each model"
   ]
  },
  {
   "cell_type": "code",
   "execution_count": 37,
   "metadata": {},
   "outputs": [
    {
     "data": {
      "text/html": [
       "<div>\n",
       "<style>\n",
       "    .dataframe thead tr:only-child th {\n",
       "        text-align: right;\n",
       "    }\n",
       "\n",
       "    .dataframe thead th {\n",
       "        text-align: left;\n",
       "    }\n",
       "\n",
       "    .dataframe tbody tr th {\n",
       "        vertical-align: top;\n",
       "    }\n",
       "</style>\n",
       "<table border=\"1\" class=\"dataframe\">\n",
       "  <thead>\n",
       "    <tr style=\"text-align: right;\">\n",
       "      <th></th>\n",
       "      <th>model</th>\n",
       "      <th>n_sig</th>\n",
       "    </tr>\n",
       "  </thead>\n",
       "  <tbody>\n",
       "    <tr>\n",
       "      <th>0</th>\n",
       "      <td>native effects</td>\n",
       "      <td>164</td>\n",
       "    </tr>\n",
       "    <tr>\n",
       "      <th>1</th>\n",
       "      <td>HUES64 cis effects</td>\n",
       "      <td>138</td>\n",
       "    </tr>\n",
       "    <tr>\n",
       "      <th>2</th>\n",
       "      <td>mESC cis effects</td>\n",
       "      <td>110</td>\n",
       "    </tr>\n",
       "    <tr>\n",
       "      <th>3</th>\n",
       "      <td>human trans effects</td>\n",
       "      <td>78</td>\n",
       "    </tr>\n",
       "    <tr>\n",
       "      <th>4</th>\n",
       "      <td>mouse trans effects</td>\n",
       "      <td>71</td>\n",
       "    </tr>\n",
       "    <tr>\n",
       "      <th>5</th>\n",
       "      <td>cis/trans interaction effects</td>\n",
       "      <td>0</td>\n",
       "    </tr>\n",
       "  </tbody>\n",
       "</table>\n",
       "</div>"
      ],
      "text/plain": [
       "                           model  n_sig\n",
       "0                 native effects    164\n",
       "1             HUES64 cis effects    138\n",
       "2               mESC cis effects    110\n",
       "3            human trans effects     78\n",
       "4            mouse trans effects     71\n",
       "5  cis/trans interaction effects      0"
      ]
     },
     "execution_count": 37,
     "metadata": {},
     "output_type": "execute_result"
    }
   ],
   "source": [
    "n_sig_models = {}\n",
    "for model, df, fdr in zip([\"native effects\", \"HUES64 cis effects\", \"mESC cis effects\", \"human trans effects\",\n",
    "                           \"mouse trans effects\", \"cis/trans interaction effects\"],\n",
    "                          [native_ctrls, cis_HUES64_ctrls, cis_mESC_ctrls, trans_human_ctrls, trans_mouse_ctrls,\n",
    "                           cis_trans_int_ctrls],\n",
    "                          [\"fdr_native\", \"fdr_cis_HUES64\", \"fdr_cis_mESC\", \"fdr_trans_human\", \"fdr_trans_mouse\",\n",
    "                           \"fdr_int\"]):\n",
    "    n_sig = len(df[df[fdr] < 0.05])\n",
    "    n_sig_models[model] = [n_sig]\n",
    "n_sig_models = pd.DataFrame.from_dict(n_sig_models, orient=\"index\").reset_index()\n",
    "n_sig_models.columns = [\"model\", \"n_sig\"]\n",
    "n_sig_models"
   ]
  },
  {
   "cell_type": "code",
   "execution_count": 38,
   "metadata": {},
   "outputs": [
    {
     "data": {
      "image/png": "[encoded data removed]",
      "text/plain": [
       "<matplotlib.figure.Figure at 0x2b2fe02fa5c0>"
      ]
     },
     "metadata": {},
     "output_type": "display_data"
    }
   ],
   "source": [
    "fig, ax = plt.subplots(figsize=(2.2, 1.5), nrows=1, ncols=1)\n",
    "\n",
    "sns.barplot(data=n_sig_models, x=\"model\", y=\"n_sig\", color=\"darkgray\", ax=ax)\n",
    "ax.set_xlabel(\"\")\n",
    "ax.set_ylabel(\"% controls significant\")\n",
    "_ = ax.set_xticklabels(n_sig_models[\"model\"], rotation=50, ha=\"right\", va=\"top\")\n",
    "\n",
    "ax.set_title(\"FDR < 0.05 cut-off\")\n",
    "fig.savefig(\"perc_ctrls_sig.05.pdf\", dpi=\"figure\", bbox_inches=\"tight\")"
   ]
  },
  {
   "cell_type": "markdown",
   "metadata": {},
   "source": [
    "now always cut off at the 10th percentile of FDRs of controls within a given model"
   ]
  },
  {
   "cell_type": "code",
   "execution_count": 39,
   "metadata": {},
   "outputs": [
    {
     "data": {
      "text/plain": [
       "4.785743473333633e-06"
      ]
     },
     "execution_count": 39,
     "metadata": {},
     "output_type": "execute_result"
    }
   ],
   "source": [
    "NATIVE_THRESH = np.percentile(native_ctrls[\"fdr_native\"], 5)\n",
    "NATIVE_THRESH"
   ]
  },
  {
   "cell_type": "code",
   "execution_count": 40,
   "metadata": {
    "scrolled": true
   },
   "outputs": [
    {
     "data": {
      "text/plain": [
       "1.1036823366939007e-05"
      ]
     },
     "execution_count": 40,
     "metadata": {},
     "output_type": "execute_result"
    }
   ],
   "source": [
    "CIS_HUES64_THRESH = np.percentile(cis_HUES64_ctrls[\"fdr_cis_HUES64\"], 5)\n",
    "CIS_HUES64_THRESH"
   ]
  },
  {
   "cell_type": "code",
   "execution_count": 41,
   "metadata": {},
   "outputs": [
    {
     "data": {
      "text/plain": [
       "0.00012795164004255174"
      ]
     },
     "execution_count": 41,
     "metadata": {},
     "output_type": "execute_result"
    }
   ],
   "source": [
    "CIS_MESC_THRESH = np.percentile(cis_mESC_ctrls[\"fdr_cis_mESC\"], 5)\n",
    "CIS_MESC_THRESH"
   ]
  },
  {
   "cell_type": "code",
   "execution_count": 42,
   "metadata": {},
   "outputs": [
    {
     "data": {
      "text/plain": [
       "0.0030214066230191106"
      ]
     },
     "execution_count": 42,
     "metadata": {},
     "output_type": "execute_result"
    }
   ],
   "source": [
    "TRANS_HUMAN_THRESH = np.percentile(trans_human_ctrls[\"fdr_trans_human\"], 5)\n",
    "TRANS_HUMAN_THRESH"
   ]
  },
  {
   "cell_type": "code",
   "execution_count": 43,
   "metadata": {},
   "outputs": [
    {
     "data": {
      "text/plain": [
       "0.0055831050920595038"
      ]
     },
     "execution_count": 43,
     "metadata": {},
     "output_type": "execute_result"
    }
   ],
   "source": [
    "TRANS_MOUSE_THRESH = np.percentile(trans_mouse_ctrls[\"fdr_trans_mouse\"], 5)\n",
    "TRANS_MOUSE_THRESH"
   ]
  },
  {
   "cell_type": "code",
   "execution_count": 44,
   "metadata": {},
   "outputs": [
    {
     "data": {
      "text/plain": [
       "0.83616147958108622"
      ]
     },
     "execution_count": 44,
     "metadata": {},
     "output_type": "execute_result"
    }
   ],
   "source": [
    "INT_THRESH = np.percentile(cis_trans_int_ctrls[\"fdr_int\"], 5)\n",
    "INT_THRESH"
   ]
  },
  {
   "cell_type": "markdown",
   "metadata": {},
   "source": [
    "now re-plot with threshold"
   ]
  },
  {
   "cell_type": "code",
   "execution_count": 45,
   "metadata": {},
   "outputs": [
    {
     "data": {
      "text/html": [
       "<div>\n",
       "<style>\n",
       "    .dataframe thead tr:only-child th {\n",
       "        text-align: right;\n",
       "    }\n",
       "\n",
       "    .dataframe thead th {\n",
       "        text-align: left;\n",
       "    }\n",
       "\n",
       "    .dataframe tbody tr th {\n",
       "        vertical-align: top;\n",
       "    }\n",
       "</style>\n",
       "<table border=\"1\" class=\"dataframe\">\n",
       "  <thead>\n",
       "    <tr style=\"text-align: right;\">\n",
       "      <th></th>\n",
       "      <th>model</th>\n",
       "      <th>n_sig</th>\n",
       "    </tr>\n",
       "  </thead>\n",
       "  <tbody>\n",
       "    <tr>\n",
       "      <th>0</th>\n",
       "      <td>native effects</td>\n",
       "      <td>20</td>\n",
       "    </tr>\n",
       "    <tr>\n",
       "      <th>1</th>\n",
       "      <td>HUES64 cis effects</td>\n",
       "      <td>20</td>\n",
       "    </tr>\n",
       "    <tr>\n",
       "      <th>2</th>\n",
       "      <td>mESC cis effects</td>\n",
       "      <td>20</td>\n",
       "    </tr>\n",
       "    <tr>\n",
       "      <th>3</th>\n",
       "      <td>human trans effects</td>\n",
       "      <td>20</td>\n",
       "    </tr>\n",
       "    <tr>\n",
       "      <th>4</th>\n",
       "      <td>mouse trans effects</td>\n",
       "      <td>20</td>\n",
       "    </tr>\n",
       "    <tr>\n",
       "      <th>5</th>\n",
       "      <td>cis/trans interaction effects</td>\n",
       "      <td>0</td>\n",
       "    </tr>\n",
       "  </tbody>\n",
       "</table>\n",
       "</div>"
      ],
      "text/plain": [
       "                           model  n_sig\n",
       "0                 native effects     20\n",
       "1             HUES64 cis effects     20\n",
       "2               mESC cis effects     20\n",
       "3            human trans effects     20\n",
       "4            mouse trans effects     20\n",
       "5  cis/trans interaction effects      0"
      ]
     },
     "execution_count": 45,
     "metadata": {},
     "output_type": "execute_result"
    }
   ],
   "source": [
    "n_sig_models = {}\n",
    "for model, df, fdr, thresh in zip([\"native effects\", \"HUES64 cis effects\", \"mESC cis effects\", \"human trans effects\",\n",
    "                                   \"mouse trans effects\", \"cis/trans interaction effects\"],\n",
    "                                  [native_ctrls, cis_HUES64_ctrls, cis_mESC_ctrls, trans_human_ctrls, \n",
    "                                   trans_mouse_ctrls, cis_trans_int_ctrls],\n",
    "                                  [\"fdr_native\", \"fdr_cis_HUES64\", \"fdr_cis_mESC\", \"fdr_trans_human\", \n",
    "                                   \"fdr_trans_mouse\", \"fdr_int\"],\n",
    "                                  [NATIVE_THRESH, CIS_HUES64_THRESH, CIS_MESC_THRESH, TRANS_HUMAN_THRESH,\n",
    "                                   TRANS_MOUSE_THRESH, 0.05]):\n",
    "    n_sig = len(df[df[fdr] < thresh])\n",
    "    n_sig_models[model] = [n_sig]\n",
    "n_sig_models = pd.DataFrame.from_dict(n_sig_models, orient=\"index\").reset_index()\n",
    "n_sig_models.columns = [\"model\", \"n_sig\"]\n",
    "n_sig_models"
   ]
  },
  {
   "cell_type": "code",
   "execution_count": 46,
   "metadata": {},
   "outputs": [
    {
     "data": {
      "image/png": "[encoded data removed]",
      "text/plain": [
       "<matplotlib.figure.Figure at 0x2b2fe08edfd0>"
      ]
     },
     "metadata": {},
     "output_type": "display_data"
    }
   ],
   "source": [
    "fig, ax = plt.subplots(figsize=(2.2, 1.5), nrows=1, ncols=1)\n",
    "\n",
    "sns.barplot(data=n_sig_models, x=\"model\", y=\"n_sig\", color=\"darkgray\", ax=ax)\n",
    "ax.set_xlabel(\"\")\n",
    "ax.set_ylabel(\"% controls significant at threshold\")\n",
    "_ = ax.set_xticklabels(n_sig_models[\"model\"], rotation=50, ha=\"right\", va=\"top\")\n",
    "\n",
    "ax.set_title(\"FDR < 10th percentile cut-off\")\n",
    "fig.savefig(\"perc_ctrls_sig.thresh.pdf\", dpi=\"figure\", bbox_inches=\"tight\")"
   ]
  },
  {
   "cell_type": "markdown",
   "metadata": {},
   "source": [
    "## 5. plot controls vs. TSSs for each model"
   ]
  },
  {
   "cell_type": "markdown",
   "metadata": {},
   "source": [
    "control boxplots"
   ]
  },
  {
   "cell_type": "code",
   "execution_count": 47,
   "metadata": {
    "scrolled": true
   },
   "outputs": [
    {
     "name": "stdout",
     "output_type": "stream",
     "text": [
      "5.68524376294e-40\n"
     ]
    },
    {
     "data": {
      "image/png": "[encoded data removed]",
      "text/plain": [
       "<matplotlib.figure.Figure at 0x2b2fe0161c18>"
      ]
     },
     "metadata": {},
     "output_type": "display_data"
    },
    {
     "name": "stdout",
     "output_type": "stream",
     "text": [
      "1.09333981908e-50\n"
     ]
    },
    {
     "data": {
      "image/png": "[encoded data removed]",
      "text/plain": [
       "<matplotlib.figure.Figure at 0x2b2fe0161a20>"
      ]
     },
     "metadata": {},
     "output_type": "display_data"
    },
    {
     "name": "stdout",
     "output_type": "stream",
     "text": [
      "2.17909633261e-46\n"
     ]
    },
    {
     "data": {
      "image/png": "[encoded data removed]",
      "text/plain": [
       "<matplotlib.figure.Figure at 0x2b2fe02fa048>"
      ]
     },
     "metadata": {},
     "output_type": "display_data"
    },
    {
     "name": "stdout",
     "output_type": "stream",
     "text": [
      "0.000663274721485\n"
     ]
    },
    {
     "data": {
      "image/png": "[encoded data removed]",
      "text/plain": [
       "<matplotlib.figure.Figure at 0x2b2fe0a43908>"
      ]
     },
     "metadata": {},
     "output_type": "display_data"
    },
    {
     "name": "stdout",
     "output_type": "stream",
     "text": [
      "0.00117913773291\n"
     ]
    },
    {
     "data": {
      "image/png": "[encoded data removed]",
      "text/plain": [
       "<matplotlib.figure.Figure at 0x2b2fe02fa240>"
      ]
     },
     "metadata": {},
     "output_type": "display_data"
    },
    {
     "name": "stdout",
     "output_type": "stream",
     "text": [
      "3.94444071884e-85\n"
     ]
    },
    {
     "data": {
      "image/png": "[encoded data removed]",
      "text/plain": [
       "<matplotlib.figure.Figure at 0x2b2fe02fa320>"
      ]
     },
     "metadata": {},
     "output_type": "display_data"
    }
   ],
   "source": [
    "order = [\"control\", \"TSS\"]\n",
    "pal = {\"control\": \"gray\", \"TSS\": \"black\"}\n",
    "\n",
    "models = [\"native\", \"HUES64 cis\", \"mESC cis\", \"human trans\", \"mouse trans\", \"cis/trans interaction\"]\n",
    "dfs = [native, HUES64_cis, mESC_cis, human_trans, mouse_trans, cis_trans_int]\n",
    "logFCs = [\"logFC_native\", \"logFC_cis_HUES64\", \"logFC_cis_mESC\", \"logFC_trans_human\", \"logFC_trans_mouse\", \"logFC_int\"]\n",
    "labels = [\"native\", \"cis_HUES64\", \"cis_mESC\", \"trans_human\", \"trans_mouse\", \"cis_trans_int\"]\n",
    "ylims = [(-0.8, 6), (-0.8, 6), (-0.8, 6), (-0.8, 2.2), (-0.8, 2.2), (-0.8, 2.5)]\n",
    "pxs = [(1.5, 1.4), (1.5, 1.4), (1.5, 1.4), (0.7, 0.7), (0.7, 0.7), (0.6, 0.5)]\n",
    "\n",
    "\n",
    "for model, df, logFC, label, ylim, px in zip(models, dfs, logFCs, labels, ylims, pxs):\n",
    "    df[\"is_ctrl\"] = df.apply(is_ctrl, axis=1)\n",
    "    df[\"abs_logFC\"] = np.abs(df[logFC])\n",
    "    \n",
    "    fig = plt.figure(figsize=(1, 1.75))\n",
    "    ax = sns.boxplot(data=df, x=\"is_ctrl\", y=\"abs_logFC\", flierprops = dict(marker='o', markersize=5), \n",
    "                     order=order, palette=pal)\n",
    "    mimic_r_boxplot(ax)\n",
    "\n",
    "    ax.set_xticklabels([\"negative\\ncontrols\", \"seqs\"], rotation=50, ha='right', va='top')\n",
    "    ax.set_xlabel(\"\")\n",
    "    ax.set_ylabel(r'$\\vert$ %s effect size $\\vert$' % model)\n",
    "\n",
    "    for i, l in enumerate(order):\n",
    "        n = len(df[df[\"is_ctrl\"] == l])\n",
    "        color = pal[l]\n",
    "        ax.annotate(str(n), xy=(i, -0.7), xycoords=\"data\", xytext=(0, 0), \n",
    "                    textcoords=\"offset pixels\", ha='center', va='bottom', \n",
    "                    color=color, size=fontsize)\n",
    "\n",
    "    ax.set_ylim(ylim)\n",
    "\n",
    "    # calc p-vals b/w dists\n",
    "    dist1 = np.asarray(df[df[\"is_ctrl\"] == \"control\"][\"abs_logFC\"])\n",
    "    dist2 = np.asarray(df[df[\"is_ctrl\"] != \"control\"][\"abs_logFC\"])\n",
    "\n",
    "    dist1 = dist1[~np.isnan(dist1)]\n",
    "    dist2 = dist2[~np.isnan(dist2)]\n",
    "\n",
    "    u, pval = stats.mannwhitneyu(dist1, dist2, alternative=\"two-sided\", use_continuity=False)\n",
    "    print(pval)\n",
    "\n",
    "    annotate_pval(ax, 0.2, 0.8, px[0], 0, px[1], pval, fontsize)\n",
    "    plt.show()\n",
    "    fig.savefig(\"%s_ctrl_effectsize_boxplot.pdf\" % label, dpi=\"figure\", bbox_inches=\"tight\")\n",
    "    plt.close()"
   ]
  },
  {
   "cell_type": "markdown",
   "metadata": {},
   "source": [
    "volcano plots"
   ]
  },
  {
   "cell_type": "code",
   "execution_count": 48,
   "metadata": {},
   "outputs": [
    {
     "data": {
      "image/png": "[encoded data removed]",
      "text/plain": [
       "<matplotlib.figure.Figure at 0x2b2fe44172b0>"
      ]
     },
     "metadata": {},
     "output_type": "display_data"
    },
    {
     "data": {
      "image/png": "[encoded data removed]",
      "text/plain": [
       "<matplotlib.figure.Figure at 0x2b2fe09321d0>"
      ]
     },
     "metadata": {},
     "output_type": "display_data"
    },
    {
     "data": {
      "image/png": "[encoded data removed]",
      "text/plain": [
       "<matplotlib.figure.Figure at 0x2b2fe0932080>"
      ]
     },
     "metadata": {},
     "output_type": "display_data"
    },
    {
     "data": {
      "image/png": "[encoded data removed]",
      "text/plain": [
       "<matplotlib.figure.Figure at 0x2b2fe44a35c0>"
      ]
     },
     "metadata": {},
     "output_type": "display_data"
    },
    {
     "data": {
      "image/png": "[encoded data removed]",
      "text/plain": [
       "<matplotlib.figure.Figure at 0x2b2fe4497320>"
      ]
     },
     "metadata": {},
     "output_type": "display_data"
    },
    {
     "data": {
      "image/png": "[encoded data removed]",
      "text/plain": [
       "<matplotlib.figure.Figure at 0x2b2fe44e14a8>"
      ]
     },
     "metadata": {},
     "output_type": "display_data"
    }
   ],
   "source": [
    "threshs = [NATIVE_THRESH, CIS_HUES64_THRESH, CIS_MESC_THRESH, TRANS_HUMAN_THRESH, TRANS_MOUSE_THRESH, 0.05]\n",
    "fdrs = [\"fdr_native\", \"fdr_cis_HUES64\", \"fdr_cis_mESC\", \"fdr_trans_human\", \"fdr_trans_mouse\", \"fdr_int\"]\n",
    "\n",
    "for model, df, logFC, fdr, label, thresh in zip(models, dfs, logFCs, fdrs, labels, threshs):\n",
    "    df[\"is_ctrl\"] = df.apply(is_ctrl, axis=1)\n",
    "    \n",
    "    neg_ctrls = df[df[\"is_ctrl\"] == \"control\"]\n",
    "    tss = df[df[\"is_ctrl\"] != \"control\"]\n",
    "    \n",
    "    fig, ax = plt.subplots(figsize=(1.75, 1.75), nrows=1, ncols=1)\n",
    "\n",
    "    ax.scatter(tss[logFC], -np.log10(tss[fdr]), s=10, alpha=0.75, \n",
    "               color=\"black\", linewidths=0.5, edgecolors=\"white\")\n",
    "    ax.scatter(neg_ctrls[logFC], -np.log10(neg_ctrls[fdr]), s=8, alpha=0.5, \n",
    "               color=\"gray\", linewidths=0.5, edgecolors=\"white\")\n",
    "\n",
    "    plt.xlabel(\"%s effect size\" % model)\n",
    "    plt.ylabel(\"-log10(FDR)\")\n",
    "    ax.axhline(y=-np.log10(thresh), color=\"black\", linestyle=\"dashed\")\n",
    "\n",
    "    plt.show()\n",
    "    fig.savefig(\"%s_volcano.ctrls_highlighted.pdf\" % label, dpi=\"figure\", bbox_inches=\"tight\")\n",
    "    plt.close()"
   ]
  },
  {
   "cell_type": "code",
   "execution_count": 49,
   "metadata": {},
   "outputs": [
    {
     "name": "stdout",
     "output_type": "stream",
     "text": [
      "# controls > 0: 222, < 0: 178\n",
      "# TSSs > 0: 3373, < 0: 2077\n"
     ]
    },
    {
     "data": {
      "image/png": "[encoded data removed]",
      "text/plain": [
       "<matplotlib.figure.Figure at 0x2b2fe07f6630>"
      ]
     },
     "metadata": {},
     "output_type": "display_data"
    },
    {
     "name": "stdout",
     "output_type": "stream",
     "text": [
      "# controls > 0: 202, < 0: 198\n",
      "# TSSs > 0: 2888, < 0: 2562\n"
     ]
    },
    {
     "data": {
      "image/png": "[encoded data removed]",
      "text/plain": [
       "<matplotlib.figure.Figure at 0x2b2fe07f6358>"
      ]
     },
     "metadata": {},
     "output_type": "display_data"
    },
    {
     "name": "stdout",
     "output_type": "stream",
     "text": [
      "# controls > 0: 205, < 0: 195\n",
      "# TSSs > 0: 2846, < 0: 2604\n"
     ]
    },
    {
     "data": {
      "image/png": "[encoded data removed]",
      "text/plain": [
       "<matplotlib.figure.Figure at 0x2b2fe42c2160>"
      ]
     },
     "metadata": {},
     "output_type": "display_data"
    },
    {
     "name": "stdout",
     "output_type": "stream",
     "text": [
      "# controls > 0: 297, < 0: 103\n",
      "# TSSs > 0: 4041, < 0: 1409\n"
     ]
    },
    {
     "data": {
      "image/png": "[encoded data removed]",
      "text/plain": [
       "<matplotlib.figure.Figure at 0x2b2fe07f6400>"
      ]
     },
     "metadata": {},
     "output_type": "display_data"
    },
    {
     "name": "stdout",
     "output_type": "stream",
     "text": [
      "# controls > 0: 282, < 0: 118\n",
      "# TSSs > 0: 4003, < 0: 1447\n"
     ]
    },
    {
     "data": {
      "image/png": "[encoded data removed]",
      "text/plain": [
       "<matplotlib.figure.Figure at 0x2b2fe4443320>"
      ]
     },
     "metadata": {},
     "output_type": "display_data"
    },
    {
     "name": "stdout",
     "output_type": "stream",
     "text": [
      "# controls > 0: 196, < 0: 204\n",
      "# TSSs > 0: 2752, < 0: 2698\n"
     ]
    },
    {
     "data": {
      "image/png": "[encoded data removed]",
      "text/plain": [
       "<matplotlib.figure.Figure at 0x2b2fe0a57128>"
      ]
     },
     "metadata": {},
     "output_type": "display_data"
    }
   ],
   "source": [
    "for model, df, logFC, fdr, label, thresh in zip(models, dfs, logFCs, fdrs, labels, threshs):\n",
    "    df[\"is_ctrl\"] = df.apply(is_ctrl, axis=1)\n",
    "    \n",
    "    neg_ctrls = df[df[\"is_ctrl\"] == \"control\"]\n",
    "    tss = df[df[\"is_ctrl\"] != \"control\"]\n",
    "    \n",
    "    print(\"# controls > 0: %s, < 0: %s\" % (len(neg_ctrls[neg_ctrls[logFC] > 0]), len(neg_ctrls[neg_ctrls[logFC] < 0])))\n",
    "    print(\"# TSSs > 0: %s, < 0: %s\" % (len(tss[tss[logFC] > 0]), len(tss[tss[logFC] < 0])))\n",
    "    \n",
    "    fig, ax = plt.subplots(figsize=(2, 1), nrows=1, ncols=1)\n",
    "    \n",
    "    sns.distplot(neg_ctrls[logFC], color=\"gray\", label=\"negative controls (n=%s)\" % len(neg_ctrls), hist=False, ax=ax)\n",
    "    sns.distplot(tss[logFC], color=\"black\", label=\"TSSs (n=%s)\" % len(tss), hist=False, ax=ax) \n",
    "    \n",
    "    ax.set_xlabel(\"logFC\")\n",
    "    ax.set_ylabel(\"density\")\n",
    "    ax.set_title(model)\n",
    "    \n",
    "    plt.legend(loc=2, bbox_to_anchor=(1.1, 1))\n",
    "    \n",
    "    plt.show()\n",
    "    #fig.savefig(\"%s_ctrl_logFC.pdf\" % label, dpi=\"figure\", bbox_inches=\"tight\")\n",
    "    plt.close()"
   ]
  },
  {
   "cell_type": "markdown",
   "metadata": {},
   "source": [
    "## 6. split result file indeces"
   ]
  },
  {
   "cell_type": "code",
   "execution_count": 50,
   "metadata": {},
   "outputs": [],
   "source": [
    "native[\"hg19_id\"] = native[\"index\"].str.split(\"__\", expand=True)[0]\n",
    "native[\"biotype_hg19\"] = native[\"index\"].str.split(\"__\", expand=True)[1]\n",
    "native[\"mm9_id\"] = native[\"index\"].str.split(\"__\", expand=True)[2]\n",
    "native[\"biotype_mm9\"] = native[\"index\"].str.split(\"__\", expand=True)[3]\n",
    "native[\"tss_tile_num\"] = native[\"index\"].str.split(\"__\", expand=True)[4]"
   ]
  },
  {
   "cell_type": "code",
   "execution_count": 51,
   "metadata": {},
   "outputs": [],
   "source": [
    "HUES64_cis[\"hg19_id\"] = HUES64_cis[\"index\"].str.split(\"__\", expand=True)[0]\n",
    "HUES64_cis[\"biotype_hg19\"] = HUES64_cis[\"index\"].str.split(\"__\", expand=True)[1]\n",
    "HUES64_cis[\"mm9_id\"] = HUES64_cis[\"index\"].str.split(\"__\", expand=True)[2]\n",
    "HUES64_cis[\"biotype_mm9\"] = HUES64_cis[\"index\"].str.split(\"__\", expand=True)[3]\n",
    "HUES64_cis[\"tss_tile_num\"] = HUES64_cis[\"index\"].str.split(\"__\", expand=True)[4]"
   ]
  },
  {
   "cell_type": "code",
   "execution_count": 52,
   "metadata": {},
   "outputs": [],
   "source": [
    "mESC_cis[\"hg19_id\"] = mESC_cis[\"index\"].str.split(\"__\", expand=True)[0]\n",
    "mESC_cis[\"biotype_hg19\"] = mESC_cis[\"index\"].str.split(\"__\", expand=True)[1]\n",
    "mESC_cis[\"mm9_id\"] = mESC_cis[\"index\"].str.split(\"__\", expand=True)[2]\n",
    "mESC_cis[\"biotype_mm9\"] = mESC_cis[\"index\"].str.split(\"__\", expand=True)[3]\n",
    "mESC_cis[\"tss_tile_num\"] = mESC_cis[\"index\"].str.split(\"__\", expand=True)[4]"
   ]
  },
  {
   "cell_type": "code",
   "execution_count": 53,
   "metadata": {},
   "outputs": [],
   "source": [
    "human_trans[\"hg19_id\"] = human_trans[\"index\"].str.split(\"__\", expand=True)[0]\n",
    "human_trans[\"biotype_hg19\"] = human_trans[\"index\"].str.split(\"__\", expand=True)[1]\n",
    "human_trans[\"mm9_id\"] = human_trans[\"index\"].str.split(\"__\", expand=True)[2]\n",
    "human_trans[\"biotype_mm9\"] = human_trans[\"index\"].str.split(\"__\", expand=True)[3]\n",
    "human_trans[\"tss_tile_num\"] = human_trans[\"index\"].str.split(\"__\", expand=True)[4]"
   ]
  },
  {
   "cell_type": "code",
   "execution_count": 54,
   "metadata": {},
   "outputs": [],
   "source": [
    "mouse_trans[\"hg19_id\"] = mouse_trans[\"index\"].str.split(\"__\", expand=True)[0]\n",
    "mouse_trans[\"biotype_hg19\"] = mouse_trans[\"index\"].str.split(\"__\", expand=True)[1]\n",
    "mouse_trans[\"mm9_id\"] = mouse_trans[\"index\"].str.split(\"__\", expand=True)[2]\n",
    "mouse_trans[\"biotype_mm9\"] = mouse_trans[\"index\"].str.split(\"__\", expand=True)[3]\n",
    "mouse_trans[\"tss_tile_num\"] = mouse_trans[\"index\"].str.split(\"__\", expand=True)[4]"
   ]
  },
  {
   "cell_type": "code",
   "execution_count": 55,
   "metadata": {},
   "outputs": [],
   "source": [
    "cis_trans_int[\"hg19_id\"] = cis_trans_int[\"index\"].str.split(\"__\", expand=True)[0]\n",
    "cis_trans_int[\"biotype_hg19\"] = cis_trans_int[\"index\"].str.split(\"__\", expand=True)[1]\n",
    "cis_trans_int[\"mm9_id\"] = cis_trans_int[\"index\"].str.split(\"__\", expand=True)[2]\n",
    "cis_trans_int[\"biotype_mm9\"] = cis_trans_int[\"index\"].str.split(\"__\", expand=True)[3]\n",
    "cis_trans_int[\"tss_tile_num\"] = cis_trans_int[\"index\"].str.split(\"__\", expand=True)[4]"
   ]
  },
  {
   "cell_type": "markdown",
   "metadata": {},
   "source": [
    "## 7. merge result files w/ activity data"
   ]
  },
  {
   "cell_type": "code",
   "execution_count": 56,
   "metadata": {},
   "outputs": [
    {
     "data": {
      "text/plain": [
       "4944"
      ]
     },
     "execution_count": 56,
     "metadata": {},
     "output_type": "execute_result"
    }
   ],
   "source": [
    "len(data)"
   ]
  },
  {
   "cell_type": "code",
   "execution_count": 57,
   "metadata": {},
   "outputs": [
    {
     "data": {
      "text/plain": [
       "5878"
      ]
     },
     "execution_count": 57,
     "metadata": {},
     "output_type": "execute_result"
    }
   ],
   "source": [
    "tmp = data.merge(native[[\"hg19_id\", \"mm9_id\", \"tss_tile_num\", \"logFC_native\", \"fdr_native\"]], \n",
    "                 on=[\"hg19_id\", \"mm9_id\", \"tss_tile_num\"], how=\"right\")\n",
    "len(tmp)"
   ]
  },
  {
   "cell_type": "code",
   "execution_count": 58,
   "metadata": {},
   "outputs": [
    {
     "data": {
      "text/plain": [
       "5878"
      ]
     },
     "execution_count": 58,
     "metadata": {},
     "output_type": "execute_result"
    }
   ],
   "source": [
    "tmp = tmp.merge(HUES64_cis[[\"hg19_id\", \"mm9_id\", \"tss_tile_num\", \"logFC_cis_HUES64\", \"fdr_cis_HUES64\"]], \n",
    "                on=[\"hg19_id\", \"mm9_id\", \"tss_tile_num\"], how=\"right\")\n",
    "len(tmp)"
   ]
  },
  {
   "cell_type": "code",
   "execution_count": 59,
   "metadata": {},
   "outputs": [
    {
     "data": {
      "text/plain": [
       "5878"
      ]
     },
     "execution_count": 59,
     "metadata": {},
     "output_type": "execute_result"
    }
   ],
   "source": [
    "tmp = tmp.merge(mESC_cis[[\"hg19_id\", \"mm9_id\", \"tss_tile_num\", \"logFC_cis_mESC\", \"fdr_cis_mESC\"]], \n",
    "                on=[\"hg19_id\", \"mm9_id\", \"tss_tile_num\"], how=\"right\")\n",
    "len(tmp)"
   ]
  },
  {
   "cell_type": "code",
   "execution_count": 60,
   "metadata": {},
   "outputs": [
    {
     "data": {
      "text/plain": [
       "5878"
      ]
     },
     "execution_count": 60,
     "metadata": {},
     "output_type": "execute_result"
    }
   ],
   "source": [
    "tmp = tmp.merge(human_trans[[\"hg19_id\", \"mm9_id\", \"tss_tile_num\", \"logFC_trans_human\", \"fdr_trans_human\"]], \n",
    "                on=[\"hg19_id\", \"mm9_id\", \"tss_tile_num\"], how=\"right\")\n",
    "len(tmp)"
   ]
  },
  {
   "cell_type": "code",
   "execution_count": 61,
   "metadata": {},
   "outputs": [
    {
     "data": {
      "text/plain": [
       "5878"
      ]
     },
     "execution_count": 61,
     "metadata": {},
     "output_type": "execute_result"
    }
   ],
   "source": [
    "tmp = tmp.merge(mouse_trans[[\"hg19_id\", \"mm9_id\", \"tss_tile_num\", \"logFC_trans_mouse\", \"fdr_trans_mouse\"]], \n",
    "                on=[\"hg19_id\", \"mm9_id\", \"tss_tile_num\"], how=\"right\")\n",
    "len(tmp)"
   ]
  },
  {
   "cell_type": "code",
   "execution_count": 62,
   "metadata": {},
   "outputs": [
    {
     "name": "stdout",
     "output_type": "stream",
     "text": [
      "5878\n"
     ]
    },
    {
     "data": {
      "text/html": [
       "<div>\n",
       "<style>\n",
       "    .dataframe thead tr:only-child th {\n",
       "        text-align: right;\n",
       "    }\n",
       "\n",
       "    .dataframe thead th {\n",
       "        text-align: left;\n",
       "    }\n",
       "\n",
       "    .dataframe tbody tr th {\n",
       "        vertical-align: top;\n",
       "    }\n",
       "</style>\n",
       "<table border=\"1\" class=\"dataframe\">\n",
       "  <thead>\n",
       "    <tr style=\"text-align: right;\">\n",
       "      <th></th>\n",
       "      <th>hg19_id</th>\n",
       "      <th>chr_tss_hg19</th>\n",
       "      <th>start_tss_hg19</th>\n",
       "      <th>biotype_hg19</th>\n",
       "      <th>cleaner_biotype_hg19</th>\n",
       "      <th>minimal_biotype_hg19</th>\n",
       "      <th>cage_id_hg19</th>\n",
       "      <th>name_peak_hg19</th>\n",
       "      <th>stem_exp_hg19</th>\n",
       "      <th>mm9_id</th>\n",
       "      <th>...</th>\n",
       "      <th>logFC_cis_HUES64</th>\n",
       "      <th>fdr_cis_HUES64</th>\n",
       "      <th>logFC_cis_mESC</th>\n",
       "      <th>fdr_cis_mESC</th>\n",
       "      <th>logFC_trans_human</th>\n",
       "      <th>fdr_trans_human</th>\n",
       "      <th>logFC_trans_mouse</th>\n",
       "      <th>fdr_trans_mouse</th>\n",
       "      <th>logFC_int</th>\n",
       "      <th>fdr_int</th>\n",
       "    </tr>\n",
       "  </thead>\n",
       "  <tbody>\n",
       "    <tr>\n",
       "      <th>3203</th>\n",
       "      <td>h.910</td>\n",
       "      <td>chr10</td>\n",
       "      <td>93558136.0</td>\n",
       "      <td>div_pc</td>\n",
       "      <td>div. mRNA</td>\n",
       "      <td>mRNA</td>\n",
       "      <td>chr10:93558113..93558154,+</td>\n",
       "      <td>ENSG00000107854.5</td>\n",
       "      <td>6.21333</td>\n",
       "      <td>m.794</td>\n",
       "      <td>...</td>\n",
       "      <td>-0.160389</td>\n",
       "      <td>6.008244e-01</td>\n",
       "      <td>-0.065689</td>\n",
       "      <td>0.829383</td>\n",
       "      <td>-0.015055</td>\n",
       "      <td>0.961407</td>\n",
       "      <td>0.114289</td>\n",
       "      <td>0.690889</td>\n",
       "      <td>0.203731</td>\n",
       "      <td>0.951585</td>\n",
       "    </tr>\n",
       "    <tr>\n",
       "      <th>4683</th>\n",
       "      <td>h.3226</td>\n",
       "      <td>chr1</td>\n",
       "      <td>41386172.0</td>\n",
       "      <td>no cage activity</td>\n",
       "      <td>no CAGE activity</td>\n",
       "      <td>no CAGE activity</td>\n",
       "      <td>no cage activity</td>\n",
       "      <td>no cage activity</td>\n",
       "      <td>no cage activity</td>\n",
       "      <td>m.3037</td>\n",
       "      <td>...</td>\n",
       "      <td>1.440692</td>\n",
       "      <td>1.045391e-05</td>\n",
       "      <td>0.735895</td>\n",
       "      <td>0.029930</td>\n",
       "      <td>0.482458</td>\n",
       "      <td>0.100566</td>\n",
       "      <td>-0.392476</td>\n",
       "      <td>0.110535</td>\n",
       "      <td>-0.880272</td>\n",
       "      <td>0.202321</td>\n",
       "    </tr>\n",
       "    <tr>\n",
       "      <th>4991</th>\n",
       "      <td>h.244</td>\n",
       "      <td>NaN</td>\n",
       "      <td>NaN</td>\n",
       "      <td>NaN</td>\n",
       "      <td>NaN</td>\n",
       "      <td>NaN</td>\n",
       "      <td>NaN</td>\n",
       "      <td>NaN</td>\n",
       "      <td>NaN</td>\n",
       "      <td>m.157</td>\n",
       "      <td>...</td>\n",
       "      <td>1.115080</td>\n",
       "      <td>4.355119e-05</td>\n",
       "      <td>0.826733</td>\n",
       "      <td>0.030879</td>\n",
       "      <td>0.292856</td>\n",
       "      <td>0.495698</td>\n",
       "      <td>0.145913</td>\n",
       "      <td>0.581138</td>\n",
       "      <td>-0.069449</td>\n",
       "      <td>0.987564</td>\n",
       "    </tr>\n",
       "    <tr>\n",
       "      <th>2475</th>\n",
       "      <td>h.3348</td>\n",
       "      <td>chr12</td>\n",
       "      <td>120876266.0</td>\n",
       "      <td>no cage activity</td>\n",
       "      <td>reclassified - CAGE peak</td>\n",
       "      <td>reclassified - CAGE peak</td>\n",
       "      <td>no cage activity</td>\n",
       "      <td>no cage activity</td>\n",
       "      <td>no cage activity</td>\n",
       "      <td>m.3158</td>\n",
       "      <td>...</td>\n",
       "      <td>0.116636</td>\n",
       "      <td>6.712372e-01</td>\n",
       "      <td>-0.260718</td>\n",
       "      <td>0.321138</td>\n",
       "      <td>0.239460</td>\n",
       "      <td>0.314977</td>\n",
       "      <td>-0.051933</td>\n",
       "      <td>0.873213</td>\n",
       "      <td>-0.193233</td>\n",
       "      <td>0.951585</td>\n",
       "    </tr>\n",
       "    <tr>\n",
       "      <th>3328</th>\n",
       "      <td>h.1338</td>\n",
       "      <td>chr1</td>\n",
       "      <td>205267902.0</td>\n",
       "      <td>enhancer</td>\n",
       "      <td>eRNA</td>\n",
       "      <td>eRNA</td>\n",
       "      <td>chr1:205267691-205267999</td>\n",
       "      <td>chr1:205267691-205267999__POSITIVE</td>\n",
       "      <td>0.11973099999999999</td>\n",
       "      <td>m.1020</td>\n",
       "      <td>...</td>\n",
       "      <td>-1.461224</td>\n",
       "      <td>7.993183e-07</td>\n",
       "      <td>-0.815343</td>\n",
       "      <td>0.003094</td>\n",
       "      <td>-0.172288</td>\n",
       "      <td>0.504651</td>\n",
       "      <td>0.414234</td>\n",
       "      <td>0.145922</td>\n",
       "      <td>0.536600</td>\n",
       "      <td>0.568832</td>\n",
       "    </tr>\n",
       "  </tbody>\n",
       "</table>\n",
       "<p>5 rows × 42 columns</p>\n",
       "</div>"
      ],
      "text/plain": [
       "     hg19_id chr_tss_hg19  start_tss_hg19      biotype_hg19  \\\n",
       "3203   h.910        chr10      93558136.0            div_pc   \n",
       "4683  h.3226         chr1      41386172.0  no cage activity   \n",
       "4991   h.244          NaN             NaN               NaN   \n",
       "2475  h.3348        chr12     120876266.0  no cage activity   \n",
       "3328  h.1338         chr1     205267902.0          enhancer   \n",
       "\n",
       "          cleaner_biotype_hg19      minimal_biotype_hg19  \\\n",
       "3203                 div. mRNA                      mRNA   \n",
       "4683          no CAGE activity          no CAGE activity   \n",
       "4991                       NaN                       NaN   \n",
       "2475  reclassified - CAGE peak  reclassified - CAGE peak   \n",
       "3328                      eRNA                      eRNA   \n",
       "\n",
       "                    cage_id_hg19                      name_peak_hg19  \\\n",
       "3203  chr10:93558113..93558154,+                   ENSG00000107854.5   \n",
       "4683            no cage activity                    no cage activity   \n",
       "4991                         NaN                                 NaN   \n",
       "2475            no cage activity                    no cage activity   \n",
       "3328    chr1:205267691-205267999  chr1:205267691-205267999__POSITIVE   \n",
       "\n",
       "            stem_exp_hg19  mm9_id    ...    logFC_cis_HUES64  fdr_cis_HUES64  \\\n",
       "3203              6.21333   m.794    ...           -0.160389    6.008244e-01   \n",
       "4683     no cage activity  m.3037    ...            1.440692    1.045391e-05   \n",
       "4991                  NaN   m.157    ...            1.115080    4.355119e-05   \n",
       "2475     no cage activity  m.3158    ...            0.116636    6.712372e-01   \n",
       "3328  0.11973099999999999  m.1020    ...           -1.461224    7.993183e-07   \n",
       "\n",
       "     logFC_cis_mESC fdr_cis_mESC logFC_trans_human fdr_trans_human  \\\n",
       "3203      -0.065689     0.829383         -0.015055        0.961407   \n",
       "4683       0.735895     0.029930          0.482458        0.100566   \n",
       "4991       0.826733     0.030879          0.292856        0.495698   \n",
       "2475      -0.260718     0.321138          0.239460        0.314977   \n",
       "3328      -0.815343     0.003094         -0.172288        0.504651   \n",
       "\n",
       "     logFC_trans_mouse fdr_trans_mouse logFC_int   fdr_int  \n",
       "3203          0.114289        0.690889  0.203731  0.951585  \n",
       "4683         -0.392476        0.110535 -0.880272  0.202321  \n",
       "4991          0.145913        0.581138 -0.069449  0.987564  \n",
       "2475         -0.051933        0.873213 -0.193233  0.951585  \n",
       "3328          0.414234        0.145922  0.536600  0.568832  \n",
       "\n",
       "[5 rows x 42 columns]"
      ]
     },
     "execution_count": 62,
     "metadata": {},
     "output_type": "execute_result"
    }
   ],
   "source": [
    "tmp = tmp.merge(cis_trans_int[[\"hg19_id\", \"mm9_id\", \"tss_tile_num\", \"logFC_int\", \"fdr_int\"]], \n",
    "                on=[\"hg19_id\", \"mm9_id\", \"tss_tile_num\"], how=\"right\")\n",
    "print(len(tmp))\n",
    "tmp.sample(5)"
   ]
  },
  {
   "cell_type": "code",
   "execution_count": 63,
   "metadata": {},
   "outputs": [],
   "source": [
    "data = tmp.copy()"
   ]
  },
  {
   "cell_type": "code",
   "execution_count": 64,
   "metadata": {},
   "outputs": [
    {
     "data": {
      "text/plain": [
       "Index(['hg19_id', 'chr_tss_hg19', 'start_tss_hg19', 'biotype_hg19',\n",
       "       'cleaner_biotype_hg19', 'minimal_biotype_hg19', 'cage_id_hg19',\n",
       "       'name_peak_hg19', 'stem_exp_hg19', 'mm9_id', 'chr_tss_mm9',\n",
       "       'start_tss_mm9', 'biotype_mm9', 'cleaner_biotype_mm9',\n",
       "       'minimal_biotype_mm9', 'cage_id_mm9', 'name_peak_mm9', 'stem_exp_mm9',\n",
       "       'tss_tile_num', 'orig_species', 'biotype_switch_clean',\n",
       "       'biotype_switch_minimal', 'HUES64_hg19', 'mESC_hg19', 'HUES64_mm9',\n",
       "       'mESC_mm9', 'HUES64_padj_hg19', 'mESC_padj_hg19', 'HUES64_padj_mm9',\n",
       "       'mESC_padj_mm9', 'logFC_native', 'fdr_native', 'logFC_cis_HUES64',\n",
       "       'fdr_cis_HUES64', 'logFC_cis_mESC', 'fdr_cis_mESC', 'logFC_trans_human',\n",
       "       'fdr_trans_human', 'logFC_trans_mouse', 'fdr_trans_mouse', 'logFC_int',\n",
       "       'fdr_int'],\n",
       "      dtype='object')"
      ]
     },
     "execution_count": 64,
     "metadata": {},
     "output_type": "execute_result"
    }
   ],
   "source": [
    "data.columns"
   ]
  },
  {
   "cell_type": "markdown",
   "metadata": {},
   "source": [
    "## 8. classify comparison effects as sig vs. not sig"
   ]
  },
  {
   "cell_type": "code",
   "execution_count": 65,
   "metadata": {},
   "outputs": [],
   "source": [
    "data[\"native_status\"] = data.apply(comp_status, fdr_col=\"fdr_native\", thresh=NATIVE_THRESH, txt=\"native\", axis=1)\n",
    "data[\"cis_HUES64_status\"] = data.apply(comp_status, fdr_col=\"fdr_cis_HUES64\", thresh=CIS_HUES64_THRESH, \n",
    "                                       txt=\"cis\", axis=1)\n",
    "data[\"cis_mESC_status\"] = data.apply(comp_status, fdr_col=\"fdr_cis_mESC\", thresh=CIS_MESC_THRESH, txt=\"cis\", axis=1)\n",
    "data[\"trans_human_status\"] = data.apply(comp_status, fdr_col=\"fdr_trans_human\", thresh=TRANS_HUMAN_THRESH,\n",
    "                                        txt=\"trans\", axis=1)\n",
    "data[\"trans_mouse_status\"] = data.apply(comp_status, fdr_col=\"fdr_trans_mouse\", thresh=TRANS_MOUSE_THRESH,\n",
    "                                        txt=\"trans\", axis=1)\n",
    "data[\"cis_trans_int_status\"] = data.apply(comp_status, fdr_col=\"fdr_int\", thresh=0.05, txt=\"cis/trans int.\", axis=1)"
   ]
  },
  {
   "cell_type": "code",
   "execution_count": 66,
   "metadata": {},
   "outputs": [
    {
     "data": {
      "text/html": [
       "<div>\n",
       "<style>\n",
       "    .dataframe thead tr:only-child th {\n",
       "        text-align: right;\n",
       "    }\n",
       "\n",
       "    .dataframe thead th {\n",
       "        text-align: left;\n",
       "    }\n",
       "\n",
       "    .dataframe tbody tr th {\n",
       "        vertical-align: top;\n",
       "    }\n",
       "</style>\n",
       "<table border=\"1\" class=\"dataframe\">\n",
       "  <thead>\n",
       "    <tr style=\"text-align: right;\">\n",
       "      <th></th>\n",
       "      <th>hg19_id</th>\n",
       "      <th>chr_tss_hg19</th>\n",
       "      <th>start_tss_hg19</th>\n",
       "      <th>biotype_hg19</th>\n",
       "      <th>cleaner_biotype_hg19</th>\n",
       "      <th>minimal_biotype_hg19</th>\n",
       "      <th>cage_id_hg19</th>\n",
       "      <th>name_peak_hg19</th>\n",
       "      <th>stem_exp_hg19</th>\n",
       "      <th>mm9_id</th>\n",
       "      <th>...</th>\n",
       "      <th>logFC_trans_mouse</th>\n",
       "      <th>fdr_trans_mouse</th>\n",
       "      <th>logFC_int</th>\n",
       "      <th>fdr_int</th>\n",
       "      <th>native_status</th>\n",
       "      <th>cis_HUES64_status</th>\n",
       "      <th>cis_mESC_status</th>\n",
       "      <th>trans_human_status</th>\n",
       "      <th>trans_mouse_status</th>\n",
       "      <th>cis_trans_int_status</th>\n",
       "    </tr>\n",
       "  </thead>\n",
       "  <tbody>\n",
       "    <tr>\n",
       "      <th>5439</th>\n",
       "      <td>h.3180</td>\n",
       "      <td>NaN</td>\n",
       "      <td>NaN</td>\n",
       "      <td>NaN</td>\n",
       "      <td>NaN</td>\n",
       "      <td>NaN</td>\n",
       "      <td>NaN</td>\n",
       "      <td>NaN</td>\n",
       "      <td>NaN</td>\n",
       "      <td>m.2991</td>\n",
       "      <td>...</td>\n",
       "      <td>0.169509</td>\n",
       "      <td>0.506366</td>\n",
       "      <td>-0.216789</td>\n",
       "      <td>0.923788</td>\n",
       "      <td>no native effect</td>\n",
       "      <td>no cis effect</td>\n",
       "      <td>no cis effect</td>\n",
       "      <td>no trans effect</td>\n",
       "      <td>no trans effect</td>\n",
       "      <td>no cis/trans int. effect</td>\n",
       "    </tr>\n",
       "    <tr>\n",
       "      <th>2588</th>\n",
       "      <td>h.3447</td>\n",
       "      <td>chr2</td>\n",
       "      <td>42274092.0</td>\n",
       "      <td>no cage activity</td>\n",
       "      <td>no CAGE activity</td>\n",
       "      <td>no CAGE activity</td>\n",
       "      <td>no cage activity</td>\n",
       "      <td>no cage activity</td>\n",
       "      <td>no cage activity</td>\n",
       "      <td>m.3257</td>\n",
       "      <td>...</td>\n",
       "      <td>-0.849076</td>\n",
       "      <td>0.000001</td>\n",
       "      <td>-0.302211</td>\n",
       "      <td>0.634118</td>\n",
       "      <td>significant native effect</td>\n",
       "      <td>no cis effect</td>\n",
       "      <td>significant cis effect</td>\n",
       "      <td>significant trans effect</td>\n",
       "      <td>significant trans effect</td>\n",
       "      <td>no cis/trans int. effect</td>\n",
       "    </tr>\n",
       "    <tr>\n",
       "      <th>400</th>\n",
       "      <td>h.549</td>\n",
       "      <td>chr11</td>\n",
       "      <td>60691945.0</td>\n",
       "      <td>div_pc</td>\n",
       "      <td>div. mRNA</td>\n",
       "      <td>mRNA</td>\n",
       "      <td>chr11:60691924..60691966,+</td>\n",
       "      <td>ENSG00000006118.10</td>\n",
       "      <td>16.7378</td>\n",
       "      <td>m.435</td>\n",
       "      <td>...</td>\n",
       "      <td>-0.546316</td>\n",
       "      <td>0.019300</td>\n",
       "      <td>-0.250673</td>\n",
       "      <td>0.921933</td>\n",
       "      <td>no native effect</td>\n",
       "      <td>no cis effect</td>\n",
       "      <td>no cis effect</td>\n",
       "      <td>no trans effect</td>\n",
       "      <td>no trans effect</td>\n",
       "      <td>no cis/trans int. effect</td>\n",
       "    </tr>\n",
       "    <tr>\n",
       "      <th>1660</th>\n",
       "      <td>h.2329</td>\n",
       "      <td>chr14</td>\n",
       "      <td>67878950.0</td>\n",
       "      <td>protein_coding</td>\n",
       "      <td>mRNA</td>\n",
       "      <td>mRNA</td>\n",
       "      <td>chr14:67878948..67878953,-</td>\n",
       "      <td>ENSG00000100558.4</td>\n",
       "      <td>0.10888900000000001</td>\n",
       "      <td>m.2141</td>\n",
       "      <td>...</td>\n",
       "      <td>0.528138</td>\n",
       "      <td>0.100329</td>\n",
       "      <td>0.219771</td>\n",
       "      <td>0.933031</td>\n",
       "      <td>significant native effect</td>\n",
       "      <td>significant cis effect</td>\n",
       "      <td>significant cis effect</td>\n",
       "      <td>significant trans effect</td>\n",
       "      <td>no trans effect</td>\n",
       "      <td>no cis/trans int. effect</td>\n",
       "    </tr>\n",
       "    <tr>\n",
       "      <th>5593</th>\n",
       "      <td>ctrl.2</td>\n",
       "      <td>NaN</td>\n",
       "      <td>NaN</td>\n",
       "      <td>NaN</td>\n",
       "      <td>NaN</td>\n",
       "      <td>NaN</td>\n",
       "      <td>NaN</td>\n",
       "      <td>NaN</td>\n",
       "      <td>NaN</td>\n",
       "      <td>samp.16</td>\n",
       "      <td>...</td>\n",
       "      <td>0.284013</td>\n",
       "      <td>0.313634</td>\n",
       "      <td>0.079607</td>\n",
       "      <td>0.987564</td>\n",
       "      <td>no native effect</td>\n",
       "      <td>no cis effect</td>\n",
       "      <td>no cis effect</td>\n",
       "      <td>no trans effect</td>\n",
       "      <td>no trans effect</td>\n",
       "      <td>no cis/trans int. effect</td>\n",
       "    </tr>\n",
       "  </tbody>\n",
       "</table>\n",
       "<p>5 rows × 48 columns</p>\n",
       "</div>"
      ],
      "text/plain": [
       "     hg19_id chr_tss_hg19  start_tss_hg19      biotype_hg19  \\\n",
       "5439  h.3180          NaN             NaN               NaN   \n",
       "2588  h.3447         chr2      42274092.0  no cage activity   \n",
       "400    h.549        chr11      60691945.0            div_pc   \n",
       "1660  h.2329        chr14      67878950.0    protein_coding   \n",
       "5593  ctrl.2          NaN             NaN               NaN   \n",
       "\n",
       "     cleaner_biotype_hg19 minimal_biotype_hg19                cage_id_hg19  \\\n",
       "5439                  NaN                  NaN                         NaN   \n",
       "2588     no CAGE activity     no CAGE activity            no cage activity   \n",
       "400             div. mRNA                 mRNA  chr11:60691924..60691966,+   \n",
       "1660                 mRNA                 mRNA  chr14:67878948..67878953,-   \n",
       "5593                  NaN                  NaN                         NaN   \n",
       "\n",
       "          name_peak_hg19        stem_exp_hg19   mm9_id  \\\n",
       "5439                 NaN                  NaN   m.2991   \n",
       "2588    no cage activity     no cage activity   m.3257   \n",
       "400   ENSG00000006118.10              16.7378    m.435   \n",
       "1660   ENSG00000100558.4  0.10888900000000001   m.2141   \n",
       "5593                 NaN                  NaN  samp.16   \n",
       "\n",
       "                ...            logFC_trans_mouse  fdr_trans_mouse logFC_int  \\\n",
       "5439            ...                     0.169509         0.506366 -0.216789   \n",
       "2588            ...                    -0.849076         0.000001 -0.302211   \n",
       "400             ...                    -0.546316         0.019300 -0.250673   \n",
       "1660            ...                     0.528138         0.100329  0.219771   \n",
       "5593            ...                     0.284013         0.313634  0.079607   \n",
       "\n",
       "       fdr_int              native_status       cis_HUES64_status  \\\n",
       "5439  0.923788           no native effect           no cis effect   \n",
       "2588  0.634118  significant native effect           no cis effect   \n",
       "400   0.921933           no native effect           no cis effect   \n",
       "1660  0.933031  significant native effect  significant cis effect   \n",
       "5593  0.987564           no native effect           no cis effect   \n",
       "\n",
       "             cis_mESC_status        trans_human_status  \\\n",
       "5439           no cis effect           no trans effect   \n",
       "2588  significant cis effect  significant trans effect   \n",
       "400            no cis effect           no trans effect   \n",
       "1660  significant cis effect  significant trans effect   \n",
       "5593           no cis effect           no trans effect   \n",
       "\n",
       "            trans_mouse_status      cis_trans_int_status  \n",
       "5439           no trans effect  no cis/trans int. effect  \n",
       "2588  significant trans effect  no cis/trans int. effect  \n",
       "400            no trans effect  no cis/trans int. effect  \n",
       "1660           no trans effect  no cis/trans int. effect  \n",
       "5593           no trans effect  no cis/trans int. effect  \n",
       "\n",
       "[5 rows x 48 columns]"
      ]
     },
     "execution_count": 66,
     "metadata": {},
     "output_type": "execute_result"
    }
   ],
   "source": [
    "data.sample(5)"
   ]
  },
  {
   "cell_type": "markdown",
   "metadata": {},
   "source": [
    "## 9. compare l2fcs for elements called significant for each biotype & re-classify"
   ]
  },
  {
   "cell_type": "code",
   "execution_count": 67,
   "metadata": {},
   "outputs": [],
   "source": [
    "min_order = [\"no CAGE activity\", \"eRNA\", \"lncRNA\", \"mRNA\", \"other\"]\n",
    "palette = sns.husl_palette(n_colors=len(min_order))"
   ]
  },
  {
   "cell_type": "code",
   "execution_count": 68,
   "metadata": {},
   "outputs": [
    {
     "name": "stdout",
     "output_type": "stream",
     "text": [
      "0.716255932823\n"
     ]
    },
    {
     "data": {
      "image/png": "[encoded data removed]",
      "text/plain": [
       "<matplotlib.figure.Figure at 0x2b2fe4e0a438>"
      ]
     },
     "metadata": {},
     "output_type": "display_data"
    },
    {
     "name": "stdout",
     "output_type": "stream",
     "text": [
      "0.602908692744\n"
     ]
    },
    {
     "data": {
      "image/png": "[encoded data removed]",
      "text/plain": [
       "<matplotlib.figure.Figure at 0x2b2fe4d3d940>"
      ]
     },
     "metadata": {},
     "output_type": "display_data"
    },
    {
     "name": "stdout",
     "output_type": "stream",
     "text": [
      "0.62366287214\n"
     ]
    },
    {
     "data": {
      "image/png": "[encoded data removed]",
      "text/plain": [
       "<matplotlib.figure.Figure at 0x2b2fe4a1e400>"
      ]
     },
     "metadata": {},
     "output_type": "display_data"
    },
    {
     "name": "stdout",
     "output_type": "stream",
     "text": [
      "0.307736218191\n"
     ]
    },
    {
     "data": {
      "image/png": "[encoded data removed]",
      "text/plain": [
       "<matplotlib.figure.Figure at 0x2b2fe4bff6a0>"
      ]
     },
     "metadata": {},
     "output_type": "display_data"
    },
    {
     "name": "stdout",
     "output_type": "stream",
     "text": [
      "0.359630749904\n"
     ]
    },
    {
     "data": {
      "image/png": "[encoded data removed]",
      "text/plain": [
       "<matplotlib.figure.Figure at 0x2b2fe4c75668>"
      ]
     },
     "metadata": {},
     "output_type": "display_data"
    },
    {
     "name": "stdout",
     "output_type": "stream",
     "text": [
      "nan\n"
     ]
    },
    {
     "data": {
      "image/png": "[encoded data removed]",
      "text/plain": [
       "<matplotlib.figure.Figure at 0x2b2fe4c11128>"
      ]
     },
     "metadata": {},
     "output_type": "display_data"
    }
   ],
   "source": [
    "l2fc_cols = [\"logFC_native\", \"logFC_cis_HUES64\", \"logFC_cis_mESC\", \"logFC_trans_human\", \"logFC_trans_mouse\", \n",
    "             \"logFC_int\"]\n",
    "sig_cols = [\"native_status\", \"cis_HUES64_status\", \"cis_mESC_status\", \"trans_human_status\", \"trans_mouse_status\",\n",
    "            \"cis_trans_int_status\"]\n",
    "xlabels = [\"native effect size\", \"cis effect size (HUES64)\", \"cis effect size (mESC)\", \"trans effect size (human)\",\n",
    "           \"trans effect size (mouse)\", \"cis/trans interaction effect size\"]\n",
    "xs = [1, 0.9, 0.8, 0.4, 0.4, 0]\n",
    "min_vals = []\n",
    "\n",
    "for l2fc_col, sig_col, xlabel, x in zip(l2fc_cols, sig_cols, xlabels, xs):\n",
    "    \n",
    "    fig, ax = plt.subplots(figsize=(2, 1.5), nrows=1, ncols=1)\n",
    "    filt = data[((data[\"HUES64_padj_hg19\"] < QUANT_ALPHA) | (data[\"mESC_padj_mm9\"] < QUANT_ALPHA))]\n",
    "    ctrls = np.abs(data[data[\"hg19_id\"].str.contains(\"ctrl.\")][l2fc_col])\n",
    "    \n",
    "    sig_ctrls = data[(data[\"hg19_id\"].str.contains(\"ctrl.\")) & (data[sig_col].str.contains(\"significant\"))][l2fc_col]\n",
    "    min_val = np.min(np.abs(sig_ctrls))\n",
    "    print(min_val)\n",
    "    min_vals.append(min_val)\n",
    "    \n",
    "    sns.distplot(ctrls, hist=False, color=\"gray\", label=\"neg. ctrls (n=%s)\" % len(ctrls), ax=ax)\n",
    "    \n",
    "    sub = filt[~filt[sig_col].str.contains(\"no \")]\n",
    "    for i, label in enumerate(min_order):\n",
    "        \n",
    "        vals = np.abs(sub[sub[\"minimal_biotype_hg19\"] == label][l2fc_col])\n",
    "        sns.distplot(vals, hist=False, color=palette[i], label=\"%s (n=%s)\" % (label, len(vals)), ax=ax)\n",
    "    \n",
    "    ax.set_xlabel(xlabel)\n",
    "    ax.set_ylabel(\"density\")\n",
    "    ax.axvline(x=x, linestyle=\"dashed\", color=\"black\")\n",
    "    plt.legend(loc=2, bbox_to_anchor=(1.05, 1))\n",
    "    plt.show()\n",
    "    plt.close()"
   ]
  },
  {
   "cell_type": "code",
   "execution_count": 69,
   "metadata": {},
   "outputs": [
    {
     "data": {
      "text/plain": [
       "no native effect             4779\n",
       "significant native effect    1099\n",
       "Name: native_status, dtype: int64"
      ]
     },
     "execution_count": 69,
     "metadata": {},
     "output_type": "execute_result"
    }
   ],
   "source": [
    "data.native_status.value_counts()"
   ]
  },
  {
   "cell_type": "code",
   "execution_count": 70,
   "metadata": {},
   "outputs": [],
   "source": [
    "data[\"native_status\"] = data.apply(comp_status_stringent, status_col=\"native_status\", \n",
    "                                   l2fc_col=\"logFC_native\", l2fc_thresh=min_vals[0], txt=\"native\", axis=1)\n",
    "data[\"cis_HUES64_status\"] = data.apply(comp_status_stringent, status_col=\"cis_HUES64_status\",  \n",
    "                                       l2fc_col=\"logFC_cis_HUES64\", l2fc_thresh=min_vals[1], txt=\"cis\", axis=1)\n",
    "data[\"cis_mESC_status\"] = data.apply(comp_status_stringent, status_col=\"cis_mESC_status\", \n",
    "                                     l2fc_col=\"logFC_cis_mESC\", l2fc_thresh=min_vals[2], txt=\"cis\", axis=1)\n",
    "data[\"trans_human_status\"] = data.apply(comp_status_stringent, status_col=\"trans_human_status\", \n",
    "                                        l2fc_col=\"logFC_trans_human\", l2fc_thresh=min_vals[3], txt=\"trans\", axis=1)\n",
    "data[\"trans_mouse_status\"] = data.apply(comp_status_stringent, status_col=\"trans_mouse_status\", \n",
    "                                        l2fc_col=\"logFC_trans_mouse\", l2fc_thresh=min_vals[4], txt=\"trans\", axis=1)\n",
    "data[\"cis_trans_int_status\"] = data.apply(comp_status_stringent, status_col=\"cis_trans_int_status\", \n",
    "                                          l2fc_col=\"logFC_int\", l2fc_thresh=0, txt=\"cis/trans int.\", axis=1)"
   ]
  },
  {
   "cell_type": "code",
   "execution_count": 71,
   "metadata": {},
   "outputs": [
    {
     "data": {
      "text/plain": [
       "no native effect             4782\n",
       "significant native effect    1096\n",
       "Name: native_status, dtype: int64"
      ]
     },
     "execution_count": 71,
     "metadata": {},
     "output_type": "execute_result"
    }
   ],
   "source": [
    "data.native_status.value_counts()"
   ]
  },
  {
   "cell_type": "markdown",
   "metadata": {},
   "source": [
    "## 9. classify effects as higher in mouse or human"
   ]
  },
  {
   "cell_type": "code",
   "execution_count": 72,
   "metadata": {},
   "outputs": [],
   "source": [
    "data[\"native_status_det\"] = data.apply(comp_status_detail, status_col=\"native_status\",\n",
    "                                       logFC_col=\"logFC_native\", txt=\"native\", axis=1)\n",
    "data[\"cis_HUES64_status_det\"] = data.apply(comp_status_detail, status_col=\"cis_HUES64_status\",\n",
    "                                           logFC_col=\"logFC_cis_HUES64\", txt=\"cis\", axis=1)\n",
    "data[\"cis_mESC_status_det\"] = data.apply(comp_status_detail, status_col=\"cis_mESC_status\",\n",
    "                                         logFC_col=\"logFC_cis_mESC\", txt=\"cis\", axis=1)\n",
    "data[\"trans_human_status_det\"] = data.apply(comp_status_detail, status_col=\"trans_human_status\",\n",
    "                                            logFC_col=\"logFC_trans_human\", txt=\"trans\", axis=1)\n",
    "data[\"trans_mouse_status_det\"] = data.apply(comp_status_detail, status_col=\"trans_mouse_status\",\n",
    "                                            logFC_col=\"logFC_trans_mouse\", txt=\"trans\", axis=1)\n",
    "data[\"cis_trans_int_status_det\"] = data.apply(comp_status_detail, status_col=\"cis_trans_int_status\", \n",
    "                                              logFC_col=\"logFC_int\", txt=\"cis/trans int.\", axis=1)"
   ]
  },
  {
   "cell_type": "code",
   "execution_count": 73,
   "metadata": {},
   "outputs": [
    {
     "data": {
      "text/html": [
       "<div>\n",
       "<style>\n",
       "    .dataframe thead tr:only-child th {\n",
       "        text-align: right;\n",
       "    }\n",
       "\n",
       "    .dataframe thead th {\n",
       "        text-align: left;\n",
       "    }\n",
       "\n",
       "    .dataframe tbody tr th {\n",
       "        vertical-align: top;\n",
       "    }\n",
       "</style>\n",
       "<table border=\"1\" class=\"dataframe\">\n",
       "  <thead>\n",
       "    <tr style=\"text-align: right;\">\n",
       "      <th></th>\n",
       "      <th>hg19_id</th>\n",
       "      <th>chr_tss_hg19</th>\n",
       "      <th>start_tss_hg19</th>\n",
       "      <th>biotype_hg19</th>\n",
       "      <th>cleaner_biotype_hg19</th>\n",
       "      <th>minimal_biotype_hg19</th>\n",
       "      <th>cage_id_hg19</th>\n",
       "      <th>name_peak_hg19</th>\n",
       "      <th>stem_exp_hg19</th>\n",
       "      <th>mm9_id</th>\n",
       "      <th>...</th>\n",
       "      <th>cis_mESC_status</th>\n",
       "      <th>trans_human_status</th>\n",
       "      <th>trans_mouse_status</th>\n",
       "      <th>cis_trans_int_status</th>\n",
       "      <th>native_status_det</th>\n",
       "      <th>cis_HUES64_status_det</th>\n",
       "      <th>cis_mESC_status_det</th>\n",
       "      <th>trans_human_status_det</th>\n",
       "      <th>trans_mouse_status_det</th>\n",
       "      <th>cis_trans_int_status_det</th>\n",
       "    </tr>\n",
       "  </thead>\n",
       "  <tbody>\n",
       "    <tr>\n",
       "      <th>2968</th>\n",
       "      <td>h.463</td>\n",
       "      <td>chr3</td>\n",
       "      <td>31745461.0</td>\n",
       "      <td>antisense_upep</td>\n",
       "      <td>other lncRNA</td>\n",
       "      <td>lncRNA</td>\n",
       "      <td>chr3:31745457..31745467,+</td>\n",
       "      <td>ENSG00000232490.2</td>\n",
       "      <td>0.0</td>\n",
       "      <td>m.3488</td>\n",
       "      <td>...</td>\n",
       "      <td>no cis effect</td>\n",
       "      <td>no trans effect</td>\n",
       "      <td>no trans effect</td>\n",
       "      <td>no cis/trans int. effect</td>\n",
       "      <td>no native effect</td>\n",
       "      <td>no cis effect</td>\n",
       "      <td>no cis effect</td>\n",
       "      <td>no trans effect</td>\n",
       "      <td>no trans effect</td>\n",
       "      <td>no cis/trans int. effect</td>\n",
       "    </tr>\n",
       "    <tr>\n",
       "      <th>1763</th>\n",
       "      <td>h.2418</td>\n",
       "      <td>chr17</td>\n",
       "      <td>59532466.0</td>\n",
       "      <td>enhancer</td>\n",
       "      <td>eRNA</td>\n",
       "      <td>eRNA</td>\n",
       "      <td>chr17:59532462-59532698</td>\n",
       "      <td>chr17:59532462-59532698__NEGATIVE</td>\n",
       "      <td>0.0558899</td>\n",
       "      <td>m.2230</td>\n",
       "      <td>...</td>\n",
       "      <td>no cis effect</td>\n",
       "      <td>no trans effect</td>\n",
       "      <td>no trans effect</td>\n",
       "      <td>no cis/trans int. effect</td>\n",
       "      <td>no native effect</td>\n",
       "      <td>no cis effect</td>\n",
       "      <td>no cis effect</td>\n",
       "      <td>no trans effect</td>\n",
       "      <td>no trans effect</td>\n",
       "      <td>no cis/trans int. effect</td>\n",
       "    </tr>\n",
       "    <tr>\n",
       "      <th>365</th>\n",
       "      <td>h.492</td>\n",
       "      <td>chr6</td>\n",
       "      <td>13615570.0</td>\n",
       "      <td>div_pc</td>\n",
       "      <td>div. mRNA</td>\n",
       "      <td>mRNA</td>\n",
       "      <td>chr6:13615554..13615601,+</td>\n",
       "      <td>ENSG00000225921.2</td>\n",
       "      <td>148.999</td>\n",
       "      <td>m.378</td>\n",
       "      <td>...</td>\n",
       "      <td>no cis effect</td>\n",
       "      <td>no trans effect</td>\n",
       "      <td>no trans effect</td>\n",
       "      <td>no cis/trans int. effect</td>\n",
       "      <td>no native effect</td>\n",
       "      <td>no cis effect</td>\n",
       "      <td>no cis effect</td>\n",
       "      <td>no trans effect</td>\n",
       "      <td>no trans effect</td>\n",
       "      <td>no cis/trans int. effect</td>\n",
       "    </tr>\n",
       "    <tr>\n",
       "      <th>4464</th>\n",
       "      <td>h.2858</td>\n",
       "      <td>chr6</td>\n",
       "      <td>82956800.0</td>\n",
       "      <td>no cage activity</td>\n",
       "      <td>no CAGE activity</td>\n",
       "      <td>no CAGE activity</td>\n",
       "      <td>no cage activity</td>\n",
       "      <td>no cage activity</td>\n",
       "      <td>no cage activity</td>\n",
       "      <td>m.2669</td>\n",
       "      <td>...</td>\n",
       "      <td>no cis effect</td>\n",
       "      <td>no trans effect</td>\n",
       "      <td>no trans effect</td>\n",
       "      <td>no cis/trans int. effect</td>\n",
       "      <td>no native effect</td>\n",
       "      <td>no cis effect</td>\n",
       "      <td>no cis effect</td>\n",
       "      <td>no trans effect</td>\n",
       "      <td>no trans effect</td>\n",
       "      <td>no cis/trans int. effect</td>\n",
       "    </tr>\n",
       "    <tr>\n",
       "      <th>4615</th>\n",
       "      <td>h.3128</td>\n",
       "      <td>chr15</td>\n",
       "      <td>93362113.0</td>\n",
       "      <td>no cage activity</td>\n",
       "      <td>no CAGE activity</td>\n",
       "      <td>no CAGE activity</td>\n",
       "      <td>no cage activity</td>\n",
       "      <td>no cage activity</td>\n",
       "      <td>no cage activity</td>\n",
       "      <td>m.2939</td>\n",
       "      <td>...</td>\n",
       "      <td>no cis effect</td>\n",
       "      <td>no trans effect</td>\n",
       "      <td>no trans effect</td>\n",
       "      <td>no cis/trans int. effect</td>\n",
       "      <td>no native effect</td>\n",
       "      <td>no cis effect</td>\n",
       "      <td>no cis effect</td>\n",
       "      <td>no trans effect</td>\n",
       "      <td>no trans effect</td>\n",
       "      <td>no cis/trans int. effect</td>\n",
       "    </tr>\n",
       "  </tbody>\n",
       "</table>\n",
       "<p>5 rows × 54 columns</p>\n",
       "</div>"
      ],
      "text/plain": [
       "     hg19_id chr_tss_hg19  start_tss_hg19      biotype_hg19  \\\n",
       "2968   h.463         chr3      31745461.0    antisense_upep   \n",
       "1763  h.2418        chr17      59532466.0          enhancer   \n",
       "365    h.492         chr6      13615570.0            div_pc   \n",
       "4464  h.2858         chr6      82956800.0  no cage activity   \n",
       "4615  h.3128        chr15      93362113.0  no cage activity   \n",
       "\n",
       "     cleaner_biotype_hg19 minimal_biotype_hg19               cage_id_hg19  \\\n",
       "2968         other lncRNA               lncRNA  chr3:31745457..31745467,+   \n",
       "1763                 eRNA                 eRNA    chr17:59532462-59532698   \n",
       "365             div. mRNA                 mRNA  chr6:13615554..13615601,+   \n",
       "4464     no CAGE activity     no CAGE activity           no cage activity   \n",
       "4615     no CAGE activity     no CAGE activity           no cage activity   \n",
       "\n",
       "                         name_peak_hg19     stem_exp_hg19  mm9_id  \\\n",
       "2968                  ENSG00000232490.2               0.0  m.3488   \n",
       "1763  chr17:59532462-59532698__NEGATIVE         0.0558899  m.2230   \n",
       "365                   ENSG00000225921.2           148.999   m.378   \n",
       "4464                   no cage activity  no cage activity  m.2669   \n",
       "4615                   no cage activity  no cage activity  m.2939   \n",
       "\n",
       "                ...            cis_mESC_status  trans_human_status  \\\n",
       "2968            ...              no cis effect     no trans effect   \n",
       "1763            ...              no cis effect     no trans effect   \n",
       "365             ...              no cis effect     no trans effect   \n",
       "4464            ...              no cis effect     no trans effect   \n",
       "4615            ...              no cis effect     no trans effect   \n",
       "\n",
       "     trans_mouse_status      cis_trans_int_status native_status_det  \\\n",
       "2968    no trans effect  no cis/trans int. effect  no native effect   \n",
       "1763    no trans effect  no cis/trans int. effect  no native effect   \n",
       "365     no trans effect  no cis/trans int. effect  no native effect   \n",
       "4464    no trans effect  no cis/trans int. effect  no native effect   \n",
       "4615    no trans effect  no cis/trans int. effect  no native effect   \n",
       "\n",
       "     cis_HUES64_status_det cis_mESC_status_det trans_human_status_det  \\\n",
       "2968         no cis effect       no cis effect        no trans effect   \n",
       "1763         no cis effect       no cis effect        no trans effect   \n",
       "365          no cis effect       no cis effect        no trans effect   \n",
       "4464         no cis effect       no cis effect        no trans effect   \n",
       "4615         no cis effect       no cis effect        no trans effect   \n",
       "\n",
       "     trans_mouse_status_det  cis_trans_int_status_det  \n",
       "2968        no trans effect  no cis/trans int. effect  \n",
       "1763        no trans effect  no cis/trans int. effect  \n",
       "365         no trans effect  no cis/trans int. effect  \n",
       "4464        no trans effect  no cis/trans int. effect  \n",
       "4615        no trans effect  no cis/trans int. effect  \n",
       "\n",
       "[5 rows x 54 columns]"
      ]
     },
     "execution_count": 73,
     "metadata": {},
     "output_type": "execute_result"
    }
   ],
   "source": [
    "data.sample(5)"
   ]
  },
  {
   "cell_type": "markdown",
   "metadata": {},
   "source": [
    "## 10. classify cis & trans effects into one effect (since we measured in 2 contexts)"
   ]
  },
  {
   "cell_type": "code",
   "execution_count": 74,
   "metadata": {},
   "outputs": [],
   "source": [
    "data[\"cis_status_one\"] = data.apply(comp_status_one, status_col1=\"cis_HUES64_status\", \n",
    "                                    status_col2=\"cis_mESC_status\", txt=\"cis\", axis=1)\n",
    "data[\"trans_status_one\"] = data.apply(comp_status_one, status_col1=\"trans_human_status\", \n",
    "                                      status_col2=\"trans_mouse_status\", txt=\"trans\", axis=1)"
   ]
  },
  {
   "cell_type": "code",
   "execution_count": 75,
   "metadata": {},
   "outputs": [],
   "source": [
    "data[\"cis_status_det_one\"] = data.apply(comp_status_detail_one, status_col1=\"cis_HUES64_status\", \n",
    "                                        status_col2=\"cis_mESC_status\", logFC_col1=\"logFC_cis_HUES64\", \n",
    "                                        logFC_col2=\"logFC_cis_mESC\", txt=\"cis\", axis=1)\n",
    "data[\"trans_status_det_one\"] = data.apply(comp_status_detail_one, status_col1=\"trans_human_status\", \n",
    "                                          status_col2=\"trans_mouse_status\", logFC_col1=\"logFC_trans_human\", \n",
    "                                          logFC_col2=\"logFC_trans_mouse\", txt=\"trans\", axis=1)"
   ]
  },
  {
   "cell_type": "code",
   "execution_count": 76,
   "metadata": {},
   "outputs": [],
   "source": [
    "data[\"logFC_cis_one\"] = data.apply(comp_logFC_one, status_col1=\"cis_HUES64_status\", status_col2=\"cis_mESC_status\",\n",
    "                                   logFC_col1=\"logFC_cis_HUES64\", logFC_col2=\"logFC_cis_mESC\", axis=1)\n",
    "data[\"logFC_trans_one\"] = data.apply(comp_logFC_one, status_col1=\"trans_human_status\", status_col2=\"trans_mouse_status\",\n",
    "                                     logFC_col1=\"logFC_trans_human\", logFC_col2=\"logFC_trans_mouse\", axis=1)"
   ]
  },
  {
   "cell_type": "markdown",
   "metadata": {},
   "source": [
    "## 11. print numbers with each effect"
   ]
  },
  {
   "cell_type": "code",
   "execution_count": 77,
   "metadata": {},
   "outputs": [
    {
     "data": {
      "text/plain": [
       "5478"
      ]
     },
     "execution_count": 77,
     "metadata": {},
     "output_type": "execute_result"
    }
   ],
   "source": [
    "# remove ctrls\n",
    "data = data[~data[\"hg19_id\"].str.contains(\"ctrl\")]\n",
    "len(data)"
   ]
  },
  {
   "cell_type": "markdown",
   "metadata": {},
   "source": [
    "## native"
   ]
  },
  {
   "cell_type": "code",
   "execution_count": 78,
   "metadata": {},
   "outputs": [
    {
     "data": {
      "text/plain": [
       "no native effect             4401\n",
       "significant native effect    1077\n",
       "Name: native_status, dtype: int64"
      ]
     },
     "execution_count": 78,
     "metadata": {},
     "output_type": "execute_result"
    }
   ],
   "source": [
    "data.native_status.value_counts()"
   ]
  },
  {
   "cell_type": "markdown",
   "metadata": {},
   "source": [
    "## cis - HUES64"
   ]
  },
  {
   "cell_type": "code",
   "execution_count": 79,
   "metadata": {},
   "outputs": [
    {
     "data": {
      "text/plain": [
       "no cis effect             4299\n",
       "significant cis effect    1179\n",
       "Name: cis_HUES64_status, dtype: int64"
      ]
     },
     "execution_count": 79,
     "metadata": {},
     "output_type": "execute_result"
    }
   ],
   "source": [
    "data.cis_HUES64_status.value_counts()"
   ]
  },
  {
   "cell_type": "markdown",
   "metadata": {},
   "source": [
    "## cis - mESC"
   ]
  },
  {
   "cell_type": "code",
   "execution_count": 80,
   "metadata": {},
   "outputs": [
    {
     "data": {
      "text/plain": [
       "no cis effect             4344\n",
       "significant cis effect    1134\n",
       "Name: cis_mESC_status, dtype: int64"
      ]
     },
     "execution_count": 80,
     "metadata": {},
     "output_type": "execute_result"
    }
   ],
   "source": [
    "data.cis_mESC_status.value_counts()"
   ]
  },
  {
   "cell_type": "markdown",
   "metadata": {},
   "source": [
    "## trans - human"
   ]
  },
  {
   "cell_type": "code",
   "execution_count": 81,
   "metadata": {},
   "outputs": [
    {
     "data": {
      "text/plain": [
       "no trans effect             5242\n",
       "significant trans effect     236\n",
       "Name: trans_human_status, dtype: int64"
      ]
     },
     "execution_count": 81,
     "metadata": {},
     "output_type": "execute_result"
    }
   ],
   "source": [
    "data.trans_human_status.value_counts()"
   ]
  },
  {
   "cell_type": "markdown",
   "metadata": {},
   "source": [
    "## trans - mouse"
   ]
  },
  {
   "cell_type": "code",
   "execution_count": 82,
   "metadata": {},
   "outputs": [
    {
     "data": {
      "text/plain": [
       "no trans effect             5153\n",
       "significant trans effect     325\n",
       "Name: trans_mouse_status, dtype: int64"
      ]
     },
     "execution_count": 82,
     "metadata": {},
     "output_type": "execute_result"
    }
   ],
   "source": [
    "data.trans_mouse_status.value_counts()"
   ]
  },
  {
   "cell_type": "markdown",
   "metadata": {},
   "source": [
    "## cis/trans interactions"
   ]
  },
  {
   "cell_type": "code",
   "execution_count": 83,
   "metadata": {},
   "outputs": [
    {
     "data": {
      "text/plain": [
       "no cis/trans int. effect             5388\n",
       "significant cis/trans int. effect      90\n",
       "Name: cis_trans_int_status, dtype: int64"
      ]
     },
     "execution_count": 83,
     "metadata": {},
     "output_type": "execute_result"
    }
   ],
   "source": [
    "data.cis_trans_int_status.value_counts()"
   ]
  },
  {
   "cell_type": "code",
   "execution_count": 84,
   "metadata": {},
   "outputs": [
    {
     "data": {
      "text/plain": [
       "0.0055205927634228704"
      ]
     },
     "execution_count": 84,
     "metadata": {},
     "output_type": "execute_result"
    }
   ],
   "source": [
    "np.max(np.abs(data[data[\"trans_mouse_status\"].str.contains(\"significant\")][\"fdr_trans_mouse\"]))"
   ]
  },
  {
   "cell_type": "markdown",
   "metadata": {},
   "source": [
    "## 12. write files"
   ]
  },
  {
   "cell_type": "code",
   "execution_count": 85,
   "metadata": {},
   "outputs": [],
   "source": [
    "# rearrange columns for readability\n",
    "data = data[['hg19_id', 'chr_tss_hg19', 'start_tss_hg19', 'biotype_hg19', 'cage_id_hg19', 'name_peak_hg19', \n",
    "             'cleaner_biotype_hg19', 'minimal_biotype_hg19', 'stem_exp_hg19', 'mm9_id', 'chr_tss_mm9', \n",
    "             'start_tss_mm9', 'biotype_mm9', 'cage_id_mm9', 'name_peak_mm9', 'cleaner_biotype_mm9', \n",
    "             'minimal_biotype_mm9', 'stem_exp_mm9', 'tss_tile_num', 'orig_species', 'biotype_switch_clean', \n",
    "             'biotype_switch_minimal', 'HUES64_hg19', 'mESC_hg19', 'HUES64_mm9', 'mESC_mm9', 'HUES64_padj_hg19', \n",
    "             'mESC_padj_hg19', 'HUES64_padj_mm9', 'mESC_padj_mm9', 'logFC_native', 'fdr_native', 'native_status', \n",
    "             'native_status_det', 'logFC_cis_HUES64', 'fdr_cis_HUES64', 'logFC_cis_mESC', 'fdr_cis_mESC',  \n",
    "             'cis_HUES64_status', 'cis_mESC_status', 'cis_HUES64_status_det', 'cis_mESC_status_det', 'cis_status_one', \n",
    "             'cis_status_det_one', 'logFC_cis_one', 'logFC_trans_human', 'fdr_trans_human', 'logFC_trans_mouse', \n",
    "             'fdr_trans_mouse', 'trans_human_status', 'trans_mouse_status', 'trans_human_status_det', \n",
    "             'trans_mouse_status_det',  'trans_status_one', 'trans_status_det_one', 'logFC_trans_one',  'logFC_int', \n",
    "             'fdr_int', 'cis_trans_int_status', 'cis_trans_int_status_det']]"
   ]
  },
  {
   "cell_type": "code",
   "execution_count": 86,
   "metadata": {},
   "outputs": [
    {
     "data": {
      "text/plain": [
       "5478"
      ]
     },
     "execution_count": 86,
     "metadata": {},
     "output_type": "execute_result"
    }
   ],
   "source": [
    "len(data)"
   ]
  },
  {
   "cell_type": "code",
   "execution_count": 87,
   "metadata": {},
   "outputs": [
    {
     "data": {
      "text/html": [
       "<div>\n",
       "<style>\n",
       "    .dataframe thead tr:only-child th {\n",
       "        text-align: right;\n",
       "    }\n",
       "\n",
       "    .dataframe thead th {\n",
       "        text-align: left;\n",
       "    }\n",
       "\n",
       "    .dataframe tbody tr th {\n",
       "        vertical-align: top;\n",
       "    }\n",
       "</style>\n",
       "<table border=\"1\" class=\"dataframe\">\n",
       "  <thead>\n",
       "    <tr style=\"text-align: right;\">\n",
       "      <th></th>\n",
       "      <th>hg19_id</th>\n",
       "      <th>chr_tss_hg19</th>\n",
       "      <th>start_tss_hg19</th>\n",
       "      <th>biotype_hg19</th>\n",
       "      <th>cage_id_hg19</th>\n",
       "      <th>name_peak_hg19</th>\n",
       "      <th>cleaner_biotype_hg19</th>\n",
       "      <th>minimal_biotype_hg19</th>\n",
       "      <th>stem_exp_hg19</th>\n",
       "      <th>mm9_id</th>\n",
       "      <th>...</th>\n",
       "      <th>trans_mouse_status</th>\n",
       "      <th>trans_human_status_det</th>\n",
       "      <th>trans_mouse_status_det</th>\n",
       "      <th>trans_status_one</th>\n",
       "      <th>trans_status_det_one</th>\n",
       "      <th>logFC_trans_one</th>\n",
       "      <th>logFC_int</th>\n",
       "      <th>fdr_int</th>\n",
       "      <th>cis_trans_int_status</th>\n",
       "      <th>cis_trans_int_status_det</th>\n",
       "    </tr>\n",
       "  </thead>\n",
       "  <tbody>\n",
       "    <tr>\n",
       "      <th>0</th>\n",
       "      <td>h.2</td>\n",
       "      <td>chr1</td>\n",
       "      <td>2985430.0</td>\n",
       "      <td>div_lnc</td>\n",
       "      <td>chr1:2985420..2985438,-</td>\n",
       "      <td>ENSG00000177133.6</td>\n",
       "      <td>div. lncRNA</td>\n",
       "      <td>lncRNA</td>\n",
       "      <td>0.07111110000000001</td>\n",
       "      <td>m.1</td>\n",
       "      <td>...</td>\n",
       "      <td>no trans effect</td>\n",
       "      <td>no trans effect</td>\n",
       "      <td>no trans effect</td>\n",
       "      <td>no trans effect</td>\n",
       "      <td>no trans effect</td>\n",
       "      <td>-0.333118</td>\n",
       "      <td>-0.035380</td>\n",
       "      <td>0.988785</td>\n",
       "      <td>no cis/trans int. effect</td>\n",
       "      <td>no cis/trans int. effect</td>\n",
       "    </tr>\n",
       "    <tr>\n",
       "      <th>1</th>\n",
       "      <td>h.3</td>\n",
       "      <td>chr1</td>\n",
       "      <td>8086552.0</td>\n",
       "      <td>div_lnc</td>\n",
       "      <td>chr1:8086546..8086571,+</td>\n",
       "      <td>ENSG00000238290.1</td>\n",
       "      <td>div. lncRNA</td>\n",
       "      <td>lncRNA</td>\n",
       "      <td>0.10444400000000001</td>\n",
       "      <td>m.2</td>\n",
       "      <td>...</td>\n",
       "      <td>no trans effect</td>\n",
       "      <td>no trans effect</td>\n",
       "      <td>no trans effect</td>\n",
       "      <td>no trans effect</td>\n",
       "      <td>no trans effect</td>\n",
       "      <td>0.536610</td>\n",
       "      <td>-0.387857</td>\n",
       "      <td>0.921562</td>\n",
       "      <td>no cis/trans int. effect</td>\n",
       "      <td>no cis/trans int. effect</td>\n",
       "    </tr>\n",
       "    <tr>\n",
       "      <th>2</th>\n",
       "      <td>h.4</td>\n",
       "      <td>chr1</td>\n",
       "      <td>26498322.0</td>\n",
       "      <td>antisense_upep</td>\n",
       "      <td>chr1:26498321..26498327,-</td>\n",
       "      <td>ENSG00000236782.1</td>\n",
       "      <td>other lncRNA</td>\n",
       "      <td>lncRNA</td>\n",
       "      <td>0.03</td>\n",
       "      <td>m.3</td>\n",
       "      <td>...</td>\n",
       "      <td>no trans effect</td>\n",
       "      <td>no trans effect</td>\n",
       "      <td>no trans effect</td>\n",
       "      <td>no trans effect</td>\n",
       "      <td>no trans effect</td>\n",
       "      <td>0.260673</td>\n",
       "      <td>-0.192854</td>\n",
       "      <td>0.959265</td>\n",
       "      <td>no cis/trans int. effect</td>\n",
       "      <td>no cis/trans int. effect</td>\n",
       "    </tr>\n",
       "    <tr>\n",
       "      <th>3</th>\n",
       "      <td>h.5</td>\n",
       "      <td>chr1</td>\n",
       "      <td>65533428.0</td>\n",
       "      <td>intergenic</td>\n",
       "      <td>chr1:65533390..65533443,-</td>\n",
       "      <td>ENSG00000231485.1</td>\n",
       "      <td>lincRNA</td>\n",
       "      <td>lncRNA</td>\n",
       "      <td>0.841111</td>\n",
       "      <td>m.4</td>\n",
       "      <td>...</td>\n",
       "      <td>no trans effect</td>\n",
       "      <td>no trans effect</td>\n",
       "      <td>no trans effect</td>\n",
       "      <td>no trans effect</td>\n",
       "      <td>no trans effect</td>\n",
       "      <td>0.439975</td>\n",
       "      <td>-0.723633</td>\n",
       "      <td>0.197618</td>\n",
       "      <td>no cis/trans int. effect</td>\n",
       "      <td>no cis/trans int. effect</td>\n",
       "    </tr>\n",
       "    <tr>\n",
       "      <th>4</th>\n",
       "      <td>h.6</td>\n",
       "      <td>chr1</td>\n",
       "      <td>65533462.0</td>\n",
       "      <td>intergenic</td>\n",
       "      <td>chr1:65533457..65533465,-</td>\n",
       "      <td>ENSG00000231485.1</td>\n",
       "      <td>lincRNA</td>\n",
       "      <td>lncRNA</td>\n",
       "      <td>0.116667</td>\n",
       "      <td>m.4</td>\n",
       "      <td>...</td>\n",
       "      <td>no trans effect</td>\n",
       "      <td>no trans effect</td>\n",
       "      <td>no trans effect</td>\n",
       "      <td>no trans effect</td>\n",
       "      <td>no trans effect</td>\n",
       "      <td>-0.267503</td>\n",
       "      <td>-0.511763</td>\n",
       "      <td>0.453490</td>\n",
       "      <td>no cis/trans int. effect</td>\n",
       "      <td>no cis/trans int. effect</td>\n",
       "    </tr>\n",
       "  </tbody>\n",
       "</table>\n",
       "<p>5 rows × 60 columns</p>\n",
       "</div>"
      ],
      "text/plain": [
       "  hg19_id chr_tss_hg19  start_tss_hg19    biotype_hg19  \\\n",
       "0     h.2         chr1       2985430.0         div_lnc   \n",
       "1     h.3         chr1       8086552.0         div_lnc   \n",
       "2     h.4         chr1      26498322.0  antisense_upep   \n",
       "3     h.5         chr1      65533428.0      intergenic   \n",
       "4     h.6         chr1      65533462.0      intergenic   \n",
       "\n",
       "                cage_id_hg19     name_peak_hg19 cleaner_biotype_hg19  \\\n",
       "0    chr1:2985420..2985438,-  ENSG00000177133.6          div. lncRNA   \n",
       "1    chr1:8086546..8086571,+  ENSG00000238290.1          div. lncRNA   \n",
       "2  chr1:26498321..26498327,-  ENSG00000236782.1         other lncRNA   \n",
       "3  chr1:65533390..65533443,-  ENSG00000231485.1              lincRNA   \n",
       "4  chr1:65533457..65533465,-  ENSG00000231485.1              lincRNA   \n",
       "\n",
       "  minimal_biotype_hg19        stem_exp_hg19 mm9_id            ...             \\\n",
       "0               lncRNA  0.07111110000000001    m.1            ...              \n",
       "1               lncRNA  0.10444400000000001    m.2            ...              \n",
       "2               lncRNA                 0.03    m.3            ...              \n",
       "3               lncRNA             0.841111    m.4            ...              \n",
       "4               lncRNA             0.116667    m.4            ...              \n",
       "\n",
       "  trans_mouse_status  trans_human_status_det trans_mouse_status_det  \\\n",
       "0    no trans effect         no trans effect        no trans effect   \n",
       "1    no trans effect         no trans effect        no trans effect   \n",
       "2    no trans effect         no trans effect        no trans effect   \n",
       "3    no trans effect         no trans effect        no trans effect   \n",
       "4    no trans effect         no trans effect        no trans effect   \n",
       "\n",
       "  trans_status_one trans_status_det_one logFC_trans_one logFC_int   fdr_int  \\\n",
       "0  no trans effect      no trans effect       -0.333118 -0.035380  0.988785   \n",
       "1  no trans effect      no trans effect        0.536610 -0.387857  0.921562   \n",
       "2  no trans effect      no trans effect        0.260673 -0.192854  0.959265   \n",
       "3  no trans effect      no trans effect        0.439975 -0.723633  0.197618   \n",
       "4  no trans effect      no trans effect       -0.267503 -0.511763  0.453490   \n",
       "\n",
       "       cis_trans_int_status  cis_trans_int_status_det  \n",
       "0  no cis/trans int. effect  no cis/trans int. effect  \n",
       "1  no cis/trans int. effect  no cis/trans int. effect  \n",
       "2  no cis/trans int. effect  no cis/trans int. effect  \n",
       "3  no cis/trans int. effect  no cis/trans int. effect  \n",
       "4  no cis/trans int. effect  no cis/trans int. effect  \n",
       "\n",
       "[5 rows x 60 columns]"
      ]
     },
     "execution_count": 87,
     "metadata": {},
     "output_type": "execute_result"
    }
   ],
   "source": [
    "data.head()"
   ]
  },
  {
   "cell_type": "code",
   "execution_count": 88,
   "metadata": {},
   "outputs": [],
   "source": [
    "data.to_csv(\"../../../data/02__mpra/03__results/all_processed_results.txt\", sep=\"\\t\", index=False)"
   ]
  },
  {
   "cell_type": "code",
   "execution_count": null,
   "metadata": {},
   "outputs": [],
   "source": []
  },
  {
   "cell_type": "code",
   "execution_count": null,
   "metadata": {},
   "outputs": [],
   "source": []
  }
 ],
 "metadata": {
  "kernelspec": {
   "display_name": "Python [conda env:py3]",
   "language": "python",
   "name": "conda-env-py3-py"
  },
  "language_info": {
   "codemirror_mode": {
    "name": "ipython",
    "version": 3
   },
   "file_extension": ".py",
   "mimetype": "text/x-python",
   "name": "python",
   "nbconvert_exporter": "python",
   "pygments_lexer": "ipython3",
   "version": "3.6.3"
  }
 },
 "nbformat": 4,
 "nbformat_minor": 2
}
