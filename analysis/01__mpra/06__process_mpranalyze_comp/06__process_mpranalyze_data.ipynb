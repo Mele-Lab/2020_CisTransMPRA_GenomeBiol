{
 "cells": [
  {
   "cell_type": "code",
   "execution_count": 1,
   "metadata": {},
   "outputs": [],
   "source": [
    "import warnings\n",
    "warnings.filterwarnings('ignore')\n",
    "\n",
    "import pandas as pd\n",
    "import numpy as np\n",
    "import matplotlib as mpl\n",
    "import matplotlib.pyplot as plt\n",
    "import seaborn as sns\n",
    "import sys\n",
    "\n",
    "from scipy.stats import spearmanr\n",
    "\n",
    "# import utils\n",
    "sys.path.append(\"../../../utils\")\n",
    "from plotting_utils import *\n",
    "from classify_utils import *\n",
    "\n",
    "%matplotlib inline\n",
    "# %config InlineBackend.figure_format = 'svg'\n",
    "# mpl.rcParams['figure.autolayout'] = False"
   ]
  },
  {
   "cell_type": "code",
   "execution_count": 2,
   "metadata": {},
   "outputs": [],
   "source": [
    "sns.set(**PAPER_PRESET)\n",
    "fontsize = PAPER_FONTSIZE"
   ]
  },
  {
   "cell_type": "code",
   "execution_count": 3,
   "metadata": {},
   "outputs": [],
   "source": [
    "np.random.seed(2019)"
   ]
  },
  {
   "cell_type": "code",
   "execution_count": 4,
   "metadata": {},
   "outputs": [],
   "source": [
    "QUANT_ALPHA = 0.05"
   ]
  },
  {
   "cell_type": "markdown",
   "metadata": {},
   "source": [
    "## functions"
   ]
  },
  {
   "cell_type": "markdown",
   "metadata": {},
   "source": [
    "## variables"
   ]
  },
  {
   "cell_type": "code",
   "execution_count": 5,
   "metadata": {},
   "outputs": [],
   "source": [
    "data_dir = \"../../../data/02__mpra/02__activs\"\n",
    "alpha_f = \"%s/alpha_per_elem.quantification.txt\" % data_dir\n",
    "human_vals_f = \"%s/human_TSS_vals.both_tiles.txt\" % data_dir\n",
    "mouse_vals_f= \"%s/mouse_TSS_vals.both_tiles.txt\" % data_dir"
   ]
  },
  {
   "cell_type": "code",
   "execution_count": 6,
   "metadata": {},
   "outputs": [],
   "source": [
    "native_f = \"%s/native_results.txt\" % data_dir\n",
    "HUES64_cis_f = \"%s/HUES64_cis_results.txt\" % data_dir\n",
    "mESC_cis_f = \"%s/mESC_cis_results.txt\" % data_dir\n",
    "human_trans_f = \"%s/human_trans_results.txt\" % data_dir\n",
    "mouse_trans_f = \"%s/mouse_trans_results.txt\" % data_dir\n",
    "cis_trans_int_f = \"%s/cis_trans_interaction_results.txt\" % data_dir"
   ]
  },
  {
   "cell_type": "code",
   "execution_count": 7,
   "metadata": {},
   "outputs": [],
   "source": [
    "tss_map_f = \"../../../data/01__design/01__mpra_list/mpra_tss.with_ids.RECLASSIFIED_WITH_MAX.txt\""
   ]
  },
  {
   "cell_type": "code",
   "execution_count": 8,
   "metadata": {},
   "outputs": [],
   "source": [
    "#align_f = \"../../../misc/00__tss_metadata/tss_map.seq_alignment.txt\""
   ]
  },
  {
   "cell_type": "code",
   "execution_count": 9,
   "metadata": {},
   "outputs": [],
   "source": [
    "#cage_data_f = \"../../../misc/00__tss_metadata/All_TSS_and_enh.CAGE_grouped_exp.tissue_sp.txt.gz\""
   ]
  },
  {
   "cell_type": "markdown",
   "metadata": {},
   "source": [
    "## 1. import data"
   ]
  },
  {
   "cell_type": "code",
   "execution_count": 10,
   "metadata": {},
   "outputs": [
    {
     "data": {
      "text/html": [
       "<div>\n",
       "<style>\n",
       "    .dataframe thead tr:only-child th {\n",
       "        text-align: right;\n",
       "    }\n",
       "\n",
       "    .dataframe thead th {\n",
       "        text-align: left;\n",
       "    }\n",
       "\n",
       "    .dataframe tbody tr th {\n",
       "        vertical-align: top;\n",
       "    }\n",
       "</style>\n",
       "<table border=\"1\" class=\"dataframe\">\n",
       "  <thead>\n",
       "    <tr style=\"text-align: right;\">\n",
       "      <th></th>\n",
       "      <th>index</th>\n",
       "      <th>HUES64</th>\n",
       "      <th>mESC</th>\n",
       "      <th>HUES64_pval</th>\n",
       "      <th>mESC_pval</th>\n",
       "      <th>HUES64_padj</th>\n",
       "      <th>mESC_padj</th>\n",
       "    </tr>\n",
       "  </thead>\n",
       "  <tbody>\n",
       "    <tr>\n",
       "      <th>0</th>\n",
       "      <td>AAAAAAAAAAAAAAAAACCCTGCAGAGAGCCTGCAAAGTCACTGCC...</td>\n",
       "      <td>7.295239</td>\n",
       "      <td>6.315911</td>\n",
       "      <td>2.825214e-75</td>\n",
       "      <td>1.383066e-42</td>\n",
       "      <td>4.596852e-74</td>\n",
       "      <td>1.878236e-41</td>\n",
       "    </tr>\n",
       "    <tr>\n",
       "      <th>1</th>\n",
       "      <td>AAAAAAAAAAAAAAAGAAAAGAAAAGAAAAAAAAGAAAGGATTGAG...</td>\n",
       "      <td>1.326796</td>\n",
       "      <td>1.348824</td>\n",
       "      <td>1.451021e-01</td>\n",
       "      <td>2.326515e-01</td>\n",
       "      <td>3.319934e-01</td>\n",
       "      <td>5.455262e-01</td>\n",
       "    </tr>\n",
       "    <tr>\n",
       "      <th>2</th>\n",
       "      <td>AAAAAAAAAAAAGAGGAGAAATAGATTGTTACCTTATATTATTTAA...</td>\n",
       "      <td>0.977164</td>\n",
       "      <td>1.548916</td>\n",
       "      <td>4.814953e-01</td>\n",
       "      <td>1.057092e-01</td>\n",
       "      <td>7.164347e-01</td>\n",
       "      <td>3.127558e-01</td>\n",
       "    </tr>\n",
       "    <tr>\n",
       "      <th>3</th>\n",
       "      <td>AAAAAAAAAACCGGCAAAATGTCCTTTTCCTTGTTTTGAAAAGACT...</td>\n",
       "      <td>0.976127</td>\n",
       "      <td>0.818171</td>\n",
       "      <td>4.826910e-01</td>\n",
       "      <td>7.414048e-01</td>\n",
       "      <td>7.167637e-01</td>\n",
       "      <td>8.145300e-01</td>\n",
       "    </tr>\n",
       "    <tr>\n",
       "      <th>4</th>\n",
       "      <td>AAAAAAAAAGGCCACGCTCAAAACCCCAGACTAGTTTTCCTCACCA...</td>\n",
       "      <td>1.323999</td>\n",
       "      <td>1.457128</td>\n",
       "      <td>1.469545e-01</td>\n",
       "      <td>1.559242e-01</td>\n",
       "      <td>3.356231e-01</td>\n",
       "      <td>4.172106e-01</td>\n",
       "    </tr>\n",
       "  </tbody>\n",
       "</table>\n",
       "</div>"
      ],
      "text/plain": [
       "                                               index    HUES64      mESC  \\\n",
       "0  AAAAAAAAAAAAAAAAACCCTGCAGAGAGCCTGCAAAGTCACTGCC...  7.295239  6.315911   \n",
       "1  AAAAAAAAAAAAAAAGAAAAGAAAAGAAAAAAAAGAAAGGATTGAG...  1.326796  1.348824   \n",
       "2  AAAAAAAAAAAAGAGGAGAAATAGATTGTTACCTTATATTATTTAA...  0.977164  1.548916   \n",
       "3  AAAAAAAAAACCGGCAAAATGTCCTTTTCCTTGTTTTGAAAAGACT...  0.976127  0.818171   \n",
       "4  AAAAAAAAAGGCCACGCTCAAAACCCCAGACTAGTTTTCCTCACCA...  1.323999  1.457128   \n",
       "\n",
       "    HUES64_pval     mESC_pval   HUES64_padj     mESC_padj  \n",
       "0  2.825214e-75  1.383066e-42  4.596852e-74  1.878236e-41  \n",
       "1  1.451021e-01  2.326515e-01  3.319934e-01  5.455262e-01  \n",
       "2  4.814953e-01  1.057092e-01  7.164347e-01  3.127558e-01  \n",
       "3  4.826910e-01  7.414048e-01  7.167637e-01  8.145300e-01  \n",
       "4  1.469545e-01  1.559242e-01  3.356231e-01  4.172106e-01  "
      ]
     },
     "execution_count": 10,
     "metadata": {},
     "output_type": "execute_result"
    }
   ],
   "source": [
    "alpha = pd.read_table(alpha_f, sep=\"\\t\").reset_index()\n",
    "alpha.head()"
   ]
  },
  {
   "cell_type": "code",
   "execution_count": 11,
   "metadata": {},
   "outputs": [
    {
     "data": {
      "text/plain": [
       "13879"
      ]
     },
     "execution_count": 11,
     "metadata": {},
     "output_type": "execute_result"
    }
   ],
   "source": [
    "len(alpha)"
   ]
  },
  {
   "cell_type": "code",
   "execution_count": 12,
   "metadata": {},
   "outputs": [
    {
     "data": {
      "text/html": [
       "<div>\n",
       "<style>\n",
       "    .dataframe thead tr:only-child th {\n",
       "        text-align: right;\n",
       "    }\n",
       "\n",
       "    .dataframe thead th {\n",
       "        text-align: left;\n",
       "    }\n",
       "\n",
       "    .dataframe tbody tr th {\n",
       "        vertical-align: top;\n",
       "    }\n",
       "</style>\n",
       "<table border=\"1\" class=\"dataframe\">\n",
       "  <thead>\n",
       "    <tr style=\"text-align: right;\">\n",
       "      <th></th>\n",
       "      <th>HUES64</th>\n",
       "      <th>mESC</th>\n",
       "      <th>HUES64_pval</th>\n",
       "      <th>mESC_pval</th>\n",
       "      <th>HUES64_padj</th>\n",
       "      <th>mESC_padj</th>\n",
       "      <th>element</th>\n",
       "      <th>tile_type</th>\n",
       "      <th>element_id</th>\n",
       "      <th>name</th>\n",
       "      <th>...</th>\n",
       "      <th>dupe_info</th>\n",
       "      <th>HUES64_log</th>\n",
       "      <th>mESC_log</th>\n",
       "      <th>tss_id</th>\n",
       "      <th>species</th>\n",
       "      <th>tss_tile_num</th>\n",
       "      <th>hg19_id</th>\n",
       "      <th>minimal_biotype_hg19</th>\n",
       "      <th>stem_exp_hg19</th>\n",
       "      <th>orig_species</th>\n",
       "    </tr>\n",
       "  </thead>\n",
       "  <tbody>\n",
       "    <tr>\n",
       "      <th>0</th>\n",
       "      <td>1.326796</td>\n",
       "      <td>1.348824</td>\n",
       "      <td>0.145102</td>\n",
       "      <td>0.232651</td>\n",
       "      <td>0.331993</td>\n",
       "      <td>0.545526</td>\n",
       "      <td>AAAAAAAAAAAAAAAGAAAAGAAAAGAAAAAAAAGAAAGGATTGAG...</td>\n",
       "      <td>WILDTYPE</td>\n",
       "      <td>HUMAN_EVO_TSS__h.1133__tile1:129255098-1292552...</td>\n",
       "      <td>HUMAN_EVO_TSS__h.1133__tile1</td>\n",
       "      <td>...</td>\n",
       "      <td>7281.1.0.0</td>\n",
       "      <td>0.122804</td>\n",
       "      <td>0.129955</td>\n",
       "      <td>h.1133</td>\n",
       "      <td>HUMAN</td>\n",
       "      <td>tile1</td>\n",
       "      <td>h.1133</td>\n",
       "      <td>eRNA</td>\n",
       "      <td>0.20306</td>\n",
       "      <td>human</td>\n",
       "    </tr>\n",
       "    <tr>\n",
       "      <th>1</th>\n",
       "      <td>1.202075</td>\n",
       "      <td>1.503351</td>\n",
       "      <td>0.242922</td>\n",
       "      <td>0.128950</td>\n",
       "      <td>0.488166</td>\n",
       "      <td>0.364500</td>\n",
       "      <td>CTACTCCGGAGGCTGAGGCAGGAGAATCGCTTGAACCCGGGGGTGG...</td>\n",
       "      <td>WILDTYPE</td>\n",
       "      <td>HUMAN_EVO_TSS__h.1133__tile2:129255212-1292553...</td>\n",
       "      <td>HUMAN_EVO_TSS__h.1133__tile2</td>\n",
       "      <td>...</td>\n",
       "      <td>7282.1.0.0</td>\n",
       "      <td>0.079932</td>\n",
       "      <td>0.177061</td>\n",
       "      <td>h.1133</td>\n",
       "      <td>HUMAN</td>\n",
       "      <td>tile2</td>\n",
       "      <td>h.1133</td>\n",
       "      <td>eRNA</td>\n",
       "      <td>0.20306</td>\n",
       "      <td>human</td>\n",
       "    </tr>\n",
       "    <tr>\n",
       "      <th>2</th>\n",
       "      <td>1.323999</td>\n",
       "      <td>1.457128</td>\n",
       "      <td>0.146955</td>\n",
       "      <td>0.155924</td>\n",
       "      <td>0.335623</td>\n",
       "      <td>0.417211</td>\n",
       "      <td>AAAAAAAAAGGCCACGCTCAAAACCCCAGACTAGTTTTCCTCACCA...</td>\n",
       "      <td>WILDTYPE</td>\n",
       "      <td>HUMAN_EVO_TSS__h.1436__tile1:157192113-1571922...</td>\n",
       "      <td>HUMAN_EVO_TSS__h.1436__tile1</td>\n",
       "      <td>...</td>\n",
       "      <td>4134.1.0.0</td>\n",
       "      <td>0.121888</td>\n",
       "      <td>0.163498</td>\n",
       "      <td>h.1436</td>\n",
       "      <td>HUMAN</td>\n",
       "      <td>tile1</td>\n",
       "      <td>h.1436</td>\n",
       "      <td>eRNA</td>\n",
       "      <td>0.039043800000000004</td>\n",
       "      <td>human</td>\n",
       "    </tr>\n",
       "    <tr>\n",
       "      <th>3</th>\n",
       "      <td>0.899162</td>\n",
       "      <td>0.755892</td>\n",
       "      <td>0.571115</td>\n",
       "      <td>0.790854</td>\n",
       "      <td>0.763290</td>\n",
       "      <td>0.837563</td>\n",
       "      <td>TTAAACTCGTTTAAACCAATTTTGAATAAGCTACTTCTTAGGCTAG...</td>\n",
       "      <td>WILDTYPE</td>\n",
       "      <td>HUMAN_EVO_TSS__h.1436__tile2:157191999-1571921...</td>\n",
       "      <td>HUMAN_EVO_TSS__h.1436__tile2</td>\n",
       "      <td>...</td>\n",
       "      <td>4133.1.0.0</td>\n",
       "      <td>-0.046162</td>\n",
       "      <td>-0.121540</td>\n",
       "      <td>h.1436</td>\n",
       "      <td>HUMAN</td>\n",
       "      <td>tile2</td>\n",
       "      <td>h.1436</td>\n",
       "      <td>eRNA</td>\n",
       "      <td>0.039043800000000004</td>\n",
       "      <td>human</td>\n",
       "    </tr>\n",
       "    <tr>\n",
       "      <th>4</th>\n",
       "      <td>1.137333</td>\n",
       "      <td>1.305637</td>\n",
       "      <td>0.305141</td>\n",
       "      <td>0.268285</td>\n",
       "      <td>0.564281</td>\n",
       "      <td>0.591663</td>\n",
       "      <td>AAAAAAAAGAAGAAGTGGGGCTTTCCAGAGGTGATTAAGTCATGAG...</td>\n",
       "      <td>WILDTYPE</td>\n",
       "      <td>HUMAN_EVO_TSS__h.1951__tile1:208526987-2085271...</td>\n",
       "      <td>HUMAN_EVO_TSS__h.1951__tile1</td>\n",
       "      <td>...</td>\n",
       "      <td>4272.1.0.0</td>\n",
       "      <td>0.055888</td>\n",
       "      <td>0.115822</td>\n",
       "      <td>h.1951</td>\n",
       "      <td>HUMAN</td>\n",
       "      <td>tile1</td>\n",
       "      <td>h.1951</td>\n",
       "      <td>lncRNA</td>\n",
       "      <td>0.028888900000000002</td>\n",
       "      <td>human</td>\n",
       "    </tr>\n",
       "  </tbody>\n",
       "</table>\n",
       "<p>5 rows × 25 columns</p>\n",
       "</div>"
      ],
      "text/plain": [
       "     HUES64      mESC  HUES64_pval  mESC_pval  HUES64_padj  mESC_padj  \\\n",
       "0  1.326796  1.348824     0.145102   0.232651     0.331993   0.545526   \n",
       "1  1.202075  1.503351     0.242922   0.128950     0.488166   0.364500   \n",
       "2  1.323999  1.457128     0.146955   0.155924     0.335623   0.417211   \n",
       "3  0.899162  0.755892     0.571115   0.790854     0.763290   0.837563   \n",
       "4  1.137333  1.305637     0.305141   0.268285     0.564281   0.591663   \n",
       "\n",
       "                                             element tile_type  \\\n",
       "0  AAAAAAAAAAAAAAAGAAAAGAAAAGAAAAAAAAGAAAGGATTGAG...  WILDTYPE   \n",
       "1  CTACTCCGGAGGCTGAGGCAGGAGAATCGCTTGAACCCGGGGGTGG...  WILDTYPE   \n",
       "2  AAAAAAAAAGGCCACGCTCAAAACCCCAGACTAGTTTTCCTCACCA...  WILDTYPE   \n",
       "3  TTAAACTCGTTTAAACCAATTTTGAATAAGCTACTTCTTAGGCTAG...  WILDTYPE   \n",
       "4  AAAAAAAAGAAGAAGTGGGGCTTTCCAGAGGTGATTAAGTCATGAG...  WILDTYPE   \n",
       "\n",
       "                                          element_id  \\\n",
       "0  HUMAN_EVO_TSS__h.1133__tile1:129255098-1292552...   \n",
       "1  HUMAN_EVO_TSS__h.1133__tile2:129255212-1292553...   \n",
       "2  HUMAN_EVO_TSS__h.1436__tile1:157192113-1571922...   \n",
       "3  HUMAN_EVO_TSS__h.1436__tile2:157191999-1571921...   \n",
       "4  HUMAN_EVO_TSS__h.1951__tile1:208526987-2085271...   \n",
       "\n",
       "                           name     ...        dupe_info HUES64_log  mESC_log  \\\n",
       "0  HUMAN_EVO_TSS__h.1133__tile1     ...       7281.1.0.0   0.122804  0.129955   \n",
       "1  HUMAN_EVO_TSS__h.1133__tile2     ...       7282.1.0.0   0.079932  0.177061   \n",
       "2  HUMAN_EVO_TSS__h.1436__tile1     ...       4134.1.0.0   0.121888  0.163498   \n",
       "3  HUMAN_EVO_TSS__h.1436__tile2     ...       4133.1.0.0  -0.046162 -0.121540   \n",
       "4  HUMAN_EVO_TSS__h.1951__tile1     ...       4272.1.0.0   0.055888  0.115822   \n",
       "\n",
       "   tss_id  species tss_tile_num  hg19_id  minimal_biotype_hg19  \\\n",
       "0  h.1133    HUMAN        tile1   h.1133                  eRNA   \n",
       "1  h.1133    HUMAN        tile2   h.1133                  eRNA   \n",
       "2  h.1436    HUMAN        tile1   h.1436                  eRNA   \n",
       "3  h.1436    HUMAN        tile2   h.1436                  eRNA   \n",
       "4  h.1951    HUMAN        tile1   h.1951                lncRNA   \n",
       "\n",
       "          stem_exp_hg19 orig_species  \n",
       "0               0.20306        human  \n",
       "1               0.20306        human  \n",
       "2  0.039043800000000004        human  \n",
       "3  0.039043800000000004        human  \n",
       "4  0.028888900000000002        human  \n",
       "\n",
       "[5 rows x 25 columns]"
      ]
     },
     "execution_count": 12,
     "metadata": {},
     "output_type": "execute_result"
    }
   ],
   "source": [
    "human_vals = pd.read_table(human_vals_f)\n",
    "mouse_vals = pd.read_table(mouse_vals_f)\n",
    "human_vals.head()"
   ]
  },
  {
   "cell_type": "code",
   "execution_count": 13,
   "metadata": {},
   "outputs": [
    {
     "data": {
      "text/html": [
       "<div>\n",
       "<style>\n",
       "    .dataframe thead tr:only-child th {\n",
       "        text-align: right;\n",
       "    }\n",
       "\n",
       "    .dataframe thead th {\n",
       "        text-align: left;\n",
       "    }\n",
       "\n",
       "    .dataframe tbody tr th {\n",
       "        vertical-align: top;\n",
       "    }\n",
       "</style>\n",
       "<table border=\"1\" class=\"dataframe\">\n",
       "  <thead>\n",
       "    <tr style=\"text-align: right;\">\n",
       "      <th></th>\n",
       "      <th>index</th>\n",
       "      <th>stat_native</th>\n",
       "      <th>pval_native</th>\n",
       "      <th>fdr_native</th>\n",
       "      <th>df.test_native</th>\n",
       "      <th>df.dna_native</th>\n",
       "      <th>df.rna.full_native</th>\n",
       "      <th>df.rna.red_native</th>\n",
       "      <th>logFC_native</th>\n",
       "    </tr>\n",
       "  </thead>\n",
       "  <tbody>\n",
       "    <tr>\n",
       "      <th>1566</th>\n",
       "      <td>h.2511__enhancer__m.2323__no cage activity__tile1</td>\n",
       "      <td>4.583442</td>\n",
       "      <td>3.228231e-02</td>\n",
       "      <td>5.536483e-02</td>\n",
       "      <td>1</td>\n",
       "      <td>14</td>\n",
       "      <td>5</td>\n",
       "      <td>4</td>\n",
       "      <td>-0.606228</td>\n",
       "    </tr>\n",
       "    <tr>\n",
       "      <th>1541</th>\n",
       "      <td>h.2473__enhancer__m.2285__no cage activity__tile1</td>\n",
       "      <td>4.166335</td>\n",
       "      <td>4.123490e-02</td>\n",
       "      <td>6.815090e-02</td>\n",
       "      <td>1</td>\n",
       "      <td>14</td>\n",
       "      <td>5</td>\n",
       "      <td>4</td>\n",
       "      <td>-0.479406</td>\n",
       "    </tr>\n",
       "    <tr>\n",
       "      <th>2057</th>\n",
       "      <td>h.3218__no cage activity__m.3029__intergenic__...</td>\n",
       "      <td>0.073405</td>\n",
       "      <td>7.864426e-01</td>\n",
       "      <td>8.258267e-01</td>\n",
       "      <td>1</td>\n",
       "      <td>14</td>\n",
       "      <td>5</td>\n",
       "      <td>4</td>\n",
       "      <td>0.093589</td>\n",
       "    </tr>\n",
       "    <tr>\n",
       "      <th>440</th>\n",
       "      <td>h.708__protein_coding__m.594__protein_coding__...</td>\n",
       "      <td>37.567920</td>\n",
       "      <td>8.828461e-10</td>\n",
       "      <td>8.086288e-09</td>\n",
       "      <td>1</td>\n",
       "      <td>14</td>\n",
       "      <td>5</td>\n",
       "      <td>4</td>\n",
       "      <td>-1.692500</td>\n",
       "    </tr>\n",
       "    <tr>\n",
       "      <th>1442</th>\n",
       "      <td>h.2325__protein_coding__m.2137__no cage activi...</td>\n",
       "      <td>28.088753</td>\n",
       "      <td>1.158773e-07</td>\n",
       "      <td>6.801672e-07</td>\n",
       "      <td>1</td>\n",
       "      <td>14</td>\n",
       "      <td>5</td>\n",
       "      <td>4</td>\n",
       "      <td>1.603676</td>\n",
       "    </tr>\n",
       "  </tbody>\n",
       "</table>\n",
       "</div>"
      ],
      "text/plain": [
       "                                                  index  stat_native  \\\n",
       "1566  h.2511__enhancer__m.2323__no cage activity__tile1     4.583442   \n",
       "1541  h.2473__enhancer__m.2285__no cage activity__tile1     4.166335   \n",
       "2057  h.3218__no cage activity__m.3029__intergenic__...     0.073405   \n",
       "440   h.708__protein_coding__m.594__protein_coding__...    37.567920   \n",
       "1442  h.2325__protein_coding__m.2137__no cage activi...    28.088753   \n",
       "\n",
       "       pval_native    fdr_native  df.test_native  df.dna_native  \\\n",
       "1566  3.228231e-02  5.536483e-02               1             14   \n",
       "1541  4.123490e-02  6.815090e-02               1             14   \n",
       "2057  7.864426e-01  8.258267e-01               1             14   \n",
       "440   8.828461e-10  8.086288e-09               1             14   \n",
       "1442  1.158773e-07  6.801672e-07               1             14   \n",
       "\n",
       "      df.rna.full_native  df.rna.red_native  logFC_native  \n",
       "1566                   5                  4     -0.606228  \n",
       "1541                   5                  4     -0.479406  \n",
       "2057                   5                  4      0.093589  \n",
       "440                    5                  4     -1.692500  \n",
       "1442                   5                  4      1.603676  "
      ]
     },
     "execution_count": 13,
     "metadata": {},
     "output_type": "execute_result"
    }
   ],
   "source": [
    "native = pd.read_table(native_f).reset_index()\n",
    "native.columns = [\"index\", \"stat_native\", \"pval_native\", \"fdr_native\", \"df.test_native\", \"df.dna_native\", \n",
    "                  \"df.rna.full_native\", \"df.rna.red_native\", \"logFC_native\"]\n",
    "native[\"index\"] = native.apply(fix_ctrl_id, axis=1)\n",
    "native.sample(5)"
   ]
  },
  {
   "cell_type": "code",
   "execution_count": 14,
   "metadata": {},
   "outputs": [],
   "source": [
    "HUES64_cis = pd.read_table(HUES64_cis_f).reset_index()\n",
    "HUES64_cis.columns = [\"index\", \"stat_cis_HUES64\", \"pval_cis_HUES64\", \"fdr_cis_HUES64\", \"df.test_cis_HUES64\", \n",
    "                      \"df.dna_cis_HUES64\", \"df.rna.full_cis_HUES64\", \"df.rna.red_cis_HUES64\", \"logFC_cis_HUES64\"]\n",
    "HUES64_cis[\"index\"] = HUES64_cis.apply(fix_ctrl_id, axis=1)\n",
    "\n",
    "mESC_cis = pd.read_table(mESC_cis_f).reset_index()\n",
    "mESC_cis.columns = [\"index\", \"stat_cis_mESC\", \"pval_cis_mESC\", \"fdr_cis_mESC\", \"df.test_cis_mESC\", \n",
    "                    \"df.dna_cis_mESC\", \"df.rna.full_cis_mESC\", \"df.rna.red_cis_mESC\", \"logFC_cis_mESC\"]\n",
    "mESC_cis[\"index\"] = mESC_cis.apply(fix_ctrl_id, axis=1)"
   ]
  },
  {
   "cell_type": "code",
   "execution_count": 15,
   "metadata": {},
   "outputs": [],
   "source": [
    "human_trans = pd.read_table(human_trans_f).reset_index()\n",
    "human_trans.columns = [\"index\", \"stat_trans_human\", \"pval_trans_human\", \"fdr_trans_human\", \"df.test_trans_human\", \n",
    "                       \"df.dna_trans_human\", \"df.rna.full_trans_human\", \"df.rna.red_trans_human\", \"logFC_trans_human\"]\n",
    "human_trans[\"index\"] = human_trans.apply(fix_ctrl_id, axis=1)\n",
    "\n",
    "mouse_trans = pd.read_table(mouse_trans_f).reset_index()\n",
    "mouse_trans.columns = [\"index\", \"stat_trans_mouse\", \"pval_trans_mouse\", \"fdr_trans_mouse\", \"df.test_trans_mouse\", \n",
    "                       \"df.dna_trans_mouse\", \"df.rna.full_trans_mouse\", \"df.rna.red_trans_mouse\", \"logFC_trans_mouse\"]\n",
    "mouse_trans[\"index\"] = mouse_trans.apply(fix_ctrl_id, axis=1)"
   ]
  },
  {
   "cell_type": "code",
   "execution_count": 16,
   "metadata": {},
   "outputs": [],
   "source": [
    "cis_trans_int = pd.read_table(cis_trans_int_f).reset_index()\n",
    "cis_trans_int.columns = [\"index\", \"stat_int\", \"pval_int\", \"fdr_int\", \"df.test_int\", \n",
    "                         \"df.dna_int\", \"df.rna.full_int\", \"df.rna.red_int\", \"logFC_int\"]\n",
    "cis_trans_int[\"index\"] = cis_trans_int.apply(fix_ctrl_id, axis=1)"
   ]
  },
  {
   "cell_type": "code",
   "execution_count": 17,
   "metadata": {},
   "outputs": [
    {
     "data": {
      "text/html": [
       "<div>\n",
       "<style>\n",
       "    .dataframe thead tr:only-child th {\n",
       "        text-align: right;\n",
       "    }\n",
       "\n",
       "    .dataframe thead th {\n",
       "        text-align: left;\n",
       "    }\n",
       "\n",
       "    .dataframe tbody tr th {\n",
       "        vertical-align: top;\n",
       "    }\n",
       "</style>\n",
       "<table border=\"1\" class=\"dataframe\">\n",
       "  <thead>\n",
       "    <tr style=\"text-align: right;\">\n",
       "      <th></th>\n",
       "      <th>hg19_id</th>\n",
       "      <th>mm9_id</th>\n",
       "      <th>cage_id_hg19</th>\n",
       "      <th>cage_id_mm9</th>\n",
       "      <th>name_peak_hg19</th>\n",
       "      <th>name_peak_mm9</th>\n",
       "      <th>biotype_hg19</th>\n",
       "      <th>biotype_mm9</th>\n",
       "      <th>minimal_biotype_hg19</th>\n",
       "      <th>minimal_biotype_mm9</th>\n",
       "      <th>...</th>\n",
       "      <th>stem_exp_mm9</th>\n",
       "      <th>max_cage_hg19</th>\n",
       "      <th>max_cage_mm9</th>\n",
       "      <th>orig_species</th>\n",
       "      <th>har</th>\n",
       "      <th>tss_tile_num_max_hg19</th>\n",
       "      <th>tss_tile_num_max_mm9</th>\n",
       "      <th>n_tiles_hg19</th>\n",
       "      <th>n_tiles_mm9</th>\n",
       "      <th>tile_match</th>\n",
       "    </tr>\n",
       "  </thead>\n",
       "  <tbody>\n",
       "    <tr>\n",
       "      <th>0</th>\n",
       "      <td>h.0</td>\n",
       "      <td>m.0</td>\n",
       "      <td>chr1:2984976..2984989,-</td>\n",
       "      <td>chr4:154011655..154011673,+</td>\n",
       "      <td>ENSG00000177133.6</td>\n",
       "      <td>ENSMUSG00000085069.2</td>\n",
       "      <td>divergent</td>\n",
       "      <td>divergent</td>\n",
       "      <td>lncRNA</td>\n",
       "      <td>lncRNA</td>\n",
       "      <td>...</td>\n",
       "      <td>0.0175</td>\n",
       "      <td>367.0</td>\n",
       "      <td>2286.0</td>\n",
       "      <td>human</td>\n",
       "      <td>False</td>\n",
       "      <td>NaN</td>\n",
       "      <td>NaN</td>\n",
       "      <td>NaN</td>\n",
       "      <td>NaN</td>\n",
       "      <td>NaN</td>\n",
       "    </tr>\n",
       "    <tr>\n",
       "      <th>1</th>\n",
       "      <td>h.1</td>\n",
       "      <td>m.0</td>\n",
       "      <td>chr1:2984997..2985037,-</td>\n",
       "      <td>chr4:154011655..154011673,+</td>\n",
       "      <td>ENSG00000177133.6</td>\n",
       "      <td>ENSMUSG00000085069.2</td>\n",
       "      <td>divergent</td>\n",
       "      <td>divergent</td>\n",
       "      <td>lncRNA</td>\n",
       "      <td>lncRNA</td>\n",
       "      <td>...</td>\n",
       "      <td>0.0175</td>\n",
       "      <td>367.0</td>\n",
       "      <td>2286.0</td>\n",
       "      <td>human</td>\n",
       "      <td>False</td>\n",
       "      <td>NaN</td>\n",
       "      <td>NaN</td>\n",
       "      <td>NaN</td>\n",
       "      <td>NaN</td>\n",
       "      <td>NaN</td>\n",
       "    </tr>\n",
       "    <tr>\n",
       "      <th>2</th>\n",
       "      <td>h.2</td>\n",
       "      <td>m.1</td>\n",
       "      <td>chr1:2985420..2985438,-</td>\n",
       "      <td>chr4:154011250..154011257,+</td>\n",
       "      <td>ENSG00000177133.6</td>\n",
       "      <td>ENSMUSG00000085069.2</td>\n",
       "      <td>divergent</td>\n",
       "      <td>divergent</td>\n",
       "      <td>lncRNA</td>\n",
       "      <td>lncRNA</td>\n",
       "      <td>...</td>\n",
       "      <td>0.0</td>\n",
       "      <td>6966.0</td>\n",
       "      <td>1361.0</td>\n",
       "      <td>human</td>\n",
       "      <td>False</td>\n",
       "      <td>tile1</td>\n",
       "      <td>tile1</td>\n",
       "      <td>2.0</td>\n",
       "      <td>2.0</td>\n",
       "      <td>tile1:tile1</td>\n",
       "    </tr>\n",
       "    <tr>\n",
       "      <th>3</th>\n",
       "      <td>h.3</td>\n",
       "      <td>m.2</td>\n",
       "      <td>chr1:8086546..8086571,+</td>\n",
       "      <td>chr4:150229039..150229050,-</td>\n",
       "      <td>ENSG00000238290.1</td>\n",
       "      <td>ENSMUSG00000078492.3</td>\n",
       "      <td>divergent</td>\n",
       "      <td>antisense</td>\n",
       "      <td>lncRNA</td>\n",
       "      <td>lncRNA</td>\n",
       "      <td>...</td>\n",
       "      <td>0.0</td>\n",
       "      <td>960.0</td>\n",
       "      <td>123.0</td>\n",
       "      <td>human</td>\n",
       "      <td>False</td>\n",
       "      <td>tile1</td>\n",
       "      <td>tile1</td>\n",
       "      <td>1.0</td>\n",
       "      <td>1.0</td>\n",
       "      <td>tile1:tile1</td>\n",
       "    </tr>\n",
       "    <tr>\n",
       "      <th>4</th>\n",
       "      <td>h.4</td>\n",
       "      <td>m.3</td>\n",
       "      <td>chr1:26498321..26498327,-</td>\n",
       "      <td>chr4:133799669..133799683,+</td>\n",
       "      <td>ENSG00000236782.1</td>\n",
       "      <td>ENSMUSG00000086322.7</td>\n",
       "      <td>antisense</td>\n",
       "      <td>protein_coding</td>\n",
       "      <td>other</td>\n",
       "      <td>mRNA</td>\n",
       "      <td>...</td>\n",
       "      <td>0.0</td>\n",
       "      <td>753.0</td>\n",
       "      <td>770.0</td>\n",
       "      <td>human</td>\n",
       "      <td>False</td>\n",
       "      <td>tile1</td>\n",
       "      <td>tile1</td>\n",
       "      <td>2.0</td>\n",
       "      <td>2.0</td>\n",
       "      <td>tile1:tile1</td>\n",
       "    </tr>\n",
       "  </tbody>\n",
       "</table>\n",
       "<p>5 rows × 31 columns</p>\n",
       "</div>"
      ],
      "text/plain": [
       "  hg19_id mm9_id               cage_id_hg19                  cage_id_mm9  \\\n",
       "0     h.0    m.0    chr1:2984976..2984989,-  chr4:154011655..154011673,+   \n",
       "1     h.1    m.0    chr1:2984997..2985037,-  chr4:154011655..154011673,+   \n",
       "2     h.2    m.1    chr1:2985420..2985438,-  chr4:154011250..154011257,+   \n",
       "3     h.3    m.2    chr1:8086546..8086571,+  chr4:150229039..150229050,-   \n",
       "4     h.4    m.3  chr1:26498321..26498327,-  chr4:133799669..133799683,+   \n",
       "\n",
       "      name_peak_hg19         name_peak_mm9 biotype_hg19     biotype_mm9  \\\n",
       "0  ENSG00000177133.6  ENSMUSG00000085069.2    divergent       divergent   \n",
       "1  ENSG00000177133.6  ENSMUSG00000085069.2    divergent       divergent   \n",
       "2  ENSG00000177133.6  ENSMUSG00000085069.2    divergent       divergent   \n",
       "3  ENSG00000238290.1  ENSMUSG00000078492.3    divergent       antisense   \n",
       "4  ENSG00000236782.1  ENSMUSG00000086322.7    antisense  protein_coding   \n",
       "\n",
       "  minimal_biotype_hg19 minimal_biotype_mm9     ...      stem_exp_mm9  \\\n",
       "0               lncRNA              lncRNA     ...            0.0175   \n",
       "1               lncRNA              lncRNA     ...            0.0175   \n",
       "2               lncRNA              lncRNA     ...               0.0   \n",
       "3               lncRNA              lncRNA     ...               0.0   \n",
       "4                other                mRNA     ...               0.0   \n",
       "\n",
       "   max_cage_hg19  max_cage_mm9 orig_species    har  tss_tile_num_max_hg19  \\\n",
       "0          367.0        2286.0        human  False                    NaN   \n",
       "1          367.0        2286.0        human  False                    NaN   \n",
       "2         6966.0        1361.0        human  False                  tile1   \n",
       "3          960.0         123.0        human  False                  tile1   \n",
       "4          753.0         770.0        human  False                  tile1   \n",
       "\n",
       "   tss_tile_num_max_mm9 n_tiles_hg19 n_tiles_mm9   tile_match  \n",
       "0                   NaN          NaN         NaN          NaN  \n",
       "1                   NaN          NaN         NaN          NaN  \n",
       "2                 tile1          2.0         2.0  tile1:tile1  \n",
       "3                 tile1          1.0         1.0  tile1:tile1  \n",
       "4                 tile1          2.0         2.0  tile1:tile1  \n",
       "\n",
       "[5 rows x 31 columns]"
      ]
     },
     "execution_count": 17,
     "metadata": {},
     "output_type": "execute_result"
    }
   ],
   "source": [
    "tss_map = pd.read_table(tss_map_f)\n",
    "tss_map.head()"
   ]
  },
  {
   "cell_type": "code",
   "execution_count": 18,
   "metadata": {},
   "outputs": [
    {
     "data": {
      "text/plain": [
       "lncRNA              1142\n",
       "mRNA                1089\n",
       "eRNA                 701\n",
       "other                486\n",
       "no CAGE activity     371\n",
       "Name: minimal_biotype_hg19, dtype: int64"
      ]
     },
     "execution_count": 18,
     "metadata": {},
     "output_type": "execute_result"
    }
   ],
   "source": [
    "tss_map.minimal_biotype_hg19.value_counts()"
   ]
  },
  {
   "cell_type": "code",
   "execution_count": 19,
   "metadata": {},
   "outputs": [],
   "source": [
    "# align = pd.read_table(align_f, sep=\",\", index_col=0)\n",
    "# align.head()"
   ]
  },
  {
   "cell_type": "code",
   "execution_count": 20,
   "metadata": {},
   "outputs": [],
   "source": [
    "# cage_data = pd.read_table(cage_data_f, sep=\"\\t\")\n",
    "# cage_data.drop([\"tissue_sp_3\", \"n_expr\"], axis=1, inplace=True)\n",
    "# cage_data.columns = [\"cage_id_hg19\", \"av_cage_exp_hg19\", \"cage_tissue_sp_hg19\", \"cage_tss_type_hg19\"]\n",
    "# cage_data.head()"
   ]
  },
  {
   "cell_type": "markdown",
   "metadata": {},
   "source": [
    "## 2. add biotype switch to TSS map"
   ]
  },
  {
   "cell_type": "code",
   "execution_count": 21,
   "metadata": {},
   "outputs": [
    {
     "data": {
      "text/html": [
       "<div>\n",
       "<style>\n",
       "    .dataframe thead tr:only-child th {\n",
       "        text-align: right;\n",
       "    }\n",
       "\n",
       "    .dataframe thead th {\n",
       "        text-align: left;\n",
       "    }\n",
       "\n",
       "    .dataframe tbody tr th {\n",
       "        vertical-align: top;\n",
       "    }\n",
       "</style>\n",
       "<table border=\"1\" class=\"dataframe\">\n",
       "  <thead>\n",
       "    <tr style=\"text-align: right;\">\n",
       "      <th></th>\n",
       "      <th>hg19_id</th>\n",
       "      <th>mm9_id</th>\n",
       "      <th>cage_id_hg19</th>\n",
       "      <th>cage_id_mm9</th>\n",
       "      <th>name_peak_hg19</th>\n",
       "      <th>name_peak_mm9</th>\n",
       "      <th>biotype_hg19</th>\n",
       "      <th>biotype_mm9</th>\n",
       "      <th>minimal_biotype_hg19</th>\n",
       "      <th>minimal_biotype_mm9</th>\n",
       "      <th>...</th>\n",
       "      <th>stem_exp_mm9</th>\n",
       "      <th>max_cage_hg19</th>\n",
       "      <th>max_cage_mm9</th>\n",
       "      <th>orig_species</th>\n",
       "      <th>har</th>\n",
       "      <th>tss_tile_num_max_hg19</th>\n",
       "      <th>tss_tile_num_max_mm9</th>\n",
       "      <th>n_tiles_hg19</th>\n",
       "      <th>n_tiles_mm9</th>\n",
       "      <th>tile_match</th>\n",
       "    </tr>\n",
       "  </thead>\n",
       "  <tbody>\n",
       "    <tr>\n",
       "      <th>14</th>\n",
       "      <td>h.14</td>\n",
       "      <td>m.10</td>\n",
       "      <td>chr1:145096480..145096513,+</td>\n",
       "      <td>chr3:97705122..97705173,+</td>\n",
       "      <td>ENSG00000223380.3</td>\n",
       "      <td>ENSMUSG00000027879.9</td>\n",
       "      <td>intergenic</td>\n",
       "      <td>protein_coding</td>\n",
       "      <td>mRNA</td>\n",
       "      <td>mRNA</td>\n",
       "      <td>...</td>\n",
       "      <td>25.7075</td>\n",
       "      <td>53131.0</td>\n",
       "      <td>44332.0</td>\n",
       "      <td>human</td>\n",
       "      <td>False</td>\n",
       "      <td>tile2</td>\n",
       "      <td>tile1</td>\n",
       "      <td>1.0</td>\n",
       "      <td>4.0</td>\n",
       "      <td>tile1:tile2</td>\n",
       "    </tr>\n",
       "  </tbody>\n",
       "</table>\n",
       "<p>1 rows × 31 columns</p>\n",
       "</div>"
      ],
      "text/plain": [
       "   hg19_id mm9_id                 cage_id_hg19                cage_id_mm9  \\\n",
       "14    h.14   m.10  chr1:145096480..145096513,+  chr3:97705122..97705173,+   \n",
       "\n",
       "       name_peak_hg19         name_peak_mm9 biotype_hg19     biotype_mm9  \\\n",
       "14  ENSG00000223380.3  ENSMUSG00000027879.9   intergenic  protein_coding   \n",
       "\n",
       "   minimal_biotype_hg19 minimal_biotype_mm9     ...      stem_exp_mm9  \\\n",
       "14                 mRNA                mRNA     ...           25.7075   \n",
       "\n",
       "    max_cage_hg19  max_cage_mm9 orig_species    har  tss_tile_num_max_hg19  \\\n",
       "14        53131.0       44332.0        human  False                  tile2   \n",
       "\n",
       "    tss_tile_num_max_mm9 n_tiles_hg19 n_tiles_mm9   tile_match  \n",
       "14                 tile1          1.0         4.0  tile1:tile2  \n",
       "\n",
       "[1 rows x 31 columns]"
      ]
     },
     "execution_count": 21,
     "metadata": {},
     "output_type": "execute_result"
    }
   ],
   "source": [
    "tss_map[tss_map[\"hg19_id\"] == \"h.14\"]"
   ]
  },
  {
   "cell_type": "code",
   "execution_count": 22,
   "metadata": {},
   "outputs": [
    {
     "data": {
      "text/plain": [
       "lncRNA              1142\n",
       "mRNA                1089\n",
       "eRNA                 701\n",
       "other                486\n",
       "no CAGE activity     371\n",
       "Name: minimal_biotype_hg19, dtype: int64"
      ]
     },
     "execution_count": 22,
     "metadata": {},
     "output_type": "execute_result"
    }
   ],
   "source": [
    "tss_map.minimal_biotype_hg19.value_counts()"
   ]
  },
  {
   "cell_type": "code",
   "execution_count": 23,
   "metadata": {},
   "outputs": [],
   "source": [
    "# tss_map[\"biotype_switch_clean\"] = tss_map.apply(biotype_switch_clean, axis=1)\n",
    "# tss_map.biotype_switch_clean.value_counts()"
   ]
  },
  {
   "cell_type": "code",
   "execution_count": 24,
   "metadata": {},
   "outputs": [
    {
     "data": {
      "text/plain": [
       "3789"
      ]
     },
     "execution_count": 24,
     "metadata": {},
     "output_type": "execute_result"
    }
   ],
   "source": [
    "len(tss_map)"
   ]
  },
  {
   "cell_type": "code",
   "execution_count": 25,
   "metadata": {},
   "outputs": [
    {
     "data": {
      "text/plain": [
       "mRNA                      1006\n",
       "lncRNA                     657\n",
       "eRNA                       501\n",
       "biotype switch             432\n",
       "CAGE turnover - lncRNA     384\n",
       "CAGE turnover - eRNA       327\n",
       "other                      289\n",
       "CAGE turnover - other      101\n",
       "CAGE turnover - mRNA        92\n",
       "Name: biotype_switch_minimal, dtype: int64"
      ]
     },
     "execution_count": 25,
     "metadata": {},
     "output_type": "execute_result"
    }
   ],
   "source": [
    "tss_map[\"biotype_switch_minimal\"] = tss_map.apply(biotype_switch_minimal, axis=1)\n",
    "tss_map.biotype_switch_minimal.value_counts()"
   ]
  },
  {
   "cell_type": "markdown",
   "metadata": {},
   "source": [
    "## 3. merge alphas with TSS map"
   ]
  },
  {
   "cell_type": "markdown",
   "metadata": {},
   "source": [
    "split up into tile1 and tile2"
   ]
  },
  {
   "cell_type": "code",
   "execution_count": 26,
   "metadata": {},
   "outputs": [
    {
     "data": {
      "text/html": [
       "<div>\n",
       "<style>\n",
       "    .dataframe thead tr:only-child th {\n",
       "        text-align: right;\n",
       "    }\n",
       "\n",
       "    .dataframe thead th {\n",
       "        text-align: left;\n",
       "    }\n",
       "\n",
       "    .dataframe tbody tr th {\n",
       "        vertical-align: top;\n",
       "    }\n",
       "</style>\n",
       "<table border=\"1\" class=\"dataframe\">\n",
       "  <thead>\n",
       "    <tr style=\"text-align: right;\">\n",
       "      <th></th>\n",
       "      <th>mm9_element</th>\n",
       "      <th>mm9_id</th>\n",
       "      <th>mm9_tile_num</th>\n",
       "    </tr>\n",
       "  </thead>\n",
       "  <tbody>\n",
       "    <tr>\n",
       "      <th>590</th>\n",
       "      <td>AAGTGGCAGGGACGGGAAGGAAGGGCTGAGTCAGTCTGTGTGGTCA...</td>\n",
       "      <td>m.1109</td>\n",
       "      <td>tile1</td>\n",
       "    </tr>\n",
       "    <tr>\n",
       "      <th>1751</th>\n",
       "      <td>AGGCCAGACCCCGCCCAAAGAGGCCGGCCCAGCCCTAAGCAGCGAG...</td>\n",
       "      <td>m.293</td>\n",
       "      <td>tile1</td>\n",
       "    </tr>\n",
       "    <tr>\n",
       "      <th>568</th>\n",
       "      <td>TCCGTGCGGAATGTTTTTCCTCAAGTGAATTACAACAACCCTTTTC...</td>\n",
       "      <td>m.69</td>\n",
       "      <td>tile2</td>\n",
       "    </tr>\n",
       "    <tr>\n",
       "      <th>5356</th>\n",
       "      <td>TTGCAAGCTTGACAAGGTGCGGAGCTGAGCGCCGGGCTCTCGCTCG...</td>\n",
       "      <td>m.539</td>\n",
       "      <td>tile1</td>\n",
       "    </tr>\n",
       "    <tr>\n",
       "      <th>820</th>\n",
       "      <td>ACAGCCACAGAGTGGAGCTGCTGGCTCCCACTGGCTCTGGGAGCTG...</td>\n",
       "      <td>m.2052</td>\n",
       "      <td>tile1</td>\n",
       "    </tr>\n",
       "  </tbody>\n",
       "</table>\n",
       "</div>"
      ],
      "text/plain": [
       "                                            mm9_element  mm9_id mm9_tile_num\n",
       "590   AAGTGGCAGGGACGGGAAGGAAGGGCTGAGTCAGTCTGTGTGGTCA...  m.1109        tile1\n",
       "1751  AGGCCAGACCCCGCCCAAAGAGGCCGGCCCAGCCCTAAGCAGCGAG...   m.293        tile1\n",
       "568   TCCGTGCGGAATGTTTTTCCTCAAGTGAATTACAACAACCCTTTTC...    m.69        tile2\n",
       "5356  TTGCAAGCTTGACAAGGTGCGGAGCTGAGCGCCGGGCTCTCGCTCG...   m.539        tile1\n",
       "820   ACAGCCACAGAGTGGAGCTGCTGGCTCCCACTGGCTCTGGGAGCTG...  m.2052        tile1"
      ]
     },
     "execution_count": 26,
     "metadata": {},
     "output_type": "execute_result"
    }
   ],
   "source": [
    "human_vals_sub = human_vals[[\"element\", \"tss_id\", \"tss_tile_num\"]]\n",
    "human_vals_sub.columns = [\"hg19_element\", \"hg19_id\", \"hg19_tile_num\"]\n",
    "\n",
    "mouse_vals_sub = mouse_vals[[\"element\", \"tss_id\", \"tss_tile_num\"]]\n",
    "mouse_vals_sub.columns = [\"mm9_element\", \"mm9_id\", \"mm9_tile_num\"]\n",
    "mouse_vals_sub.sample(5)"
   ]
  },
  {
   "cell_type": "code",
   "execution_count": 27,
   "metadata": {},
   "outputs": [
    {
     "name": "stdout",
     "output_type": "stream",
     "text": [
      "2943\n",
      "3021\n",
      "2917\n",
      "2980\n"
     ]
    }
   ],
   "source": [
    "human_vals_tile1 = human_vals_sub[human_vals_sub[\"hg19_tile_num\"] == \"tile1\"].drop_duplicates()\n",
    "human_vals_tile2 = human_vals_sub[human_vals_sub[\"hg19_tile_num\"] == \"tile2\"].drop_duplicates()\n",
    "mouse_vals_tile1 = mouse_vals_sub[mouse_vals_sub[\"mm9_tile_num\"] == \"tile1\"].drop_duplicates()\n",
    "mouse_vals_tile2 = mouse_vals_sub[mouse_vals_sub[\"mm9_tile_num\"] == \"tile2\"].drop_duplicates()\n",
    "\n",
    "print(len(human_vals_tile1))\n",
    "print(len(human_vals_tile2))\n",
    "print(len(mouse_vals_tile1))\n",
    "print(len(mouse_vals_tile2))"
   ]
  },
  {
   "cell_type": "code",
   "execution_count": 28,
   "metadata": {},
   "outputs": [
    {
     "data": {
      "text/plain": [
       "3312"
      ]
     },
     "execution_count": 28,
     "metadata": {},
     "output_type": "execute_result"
    }
   ],
   "source": [
    "# both_tile_ids = tss_map[(tss_map[\"n_tiles_hg19\"] >= 2) & (tss_map[\"n_tiles_mm9\"] >= 2)]\n",
    "both_tile_ids = tss_map[(~pd.isnull(tss_map[\"n_tiles_hg19\"]) & ~(pd.isnull(tss_map[\"n_tiles_mm9\"])))]\n",
    "len(both_tile_ids)"
   ]
  },
  {
   "cell_type": "code",
   "execution_count": 29,
   "metadata": {},
   "outputs": [
    {
     "data": {
      "text/plain": [
       "2693"
      ]
     },
     "execution_count": 29,
     "metadata": {},
     "output_type": "execute_result"
    }
   ],
   "source": [
    "tile1_ids = both_tile_ids[(both_tile_ids[\"tile_match\"] == \"tile1:tile1\") | \n",
    "                          (both_tile_ids[\"tile_match\"] == \"tile1:tile2\")][[\"hg19_id\", \"mm9_id\"]].drop_duplicates()\n",
    "len(tile1_ids)"
   ]
  },
  {
   "cell_type": "code",
   "execution_count": 30,
   "metadata": {},
   "outputs": [
    {
     "data": {
      "text/plain": [
       "598"
      ]
     },
     "execution_count": 30,
     "metadata": {},
     "output_type": "execute_result"
    }
   ],
   "source": [
    "tile2_ids = both_tile_ids[(both_tile_ids[\"tile_match\"] == \"tile2:tile2\")][[\"hg19_id\", \"mm9_id\"]].drop_duplicates()\n",
    "len(tile2_ids)"
   ]
  },
  {
   "cell_type": "code",
   "execution_count": 31,
   "metadata": {},
   "outputs": [
    {
     "name": "stdout",
     "output_type": "stream",
     "text": [
      "2352\n"
     ]
    }
   ],
   "source": [
    "tss_map_tile1 = tile1_ids.merge(tss_map, on=[\"hg19_id\", \"mm9_id\"], how=\"left\")\n",
    "tss_map_tile1 = tss_map_tile1.merge(human_vals_tile1, on=\"hg19_id\").merge(mouse_vals_tile1, on=\"mm9_id\")\n",
    "print(len(tss_map_tile1))"
   ]
  },
  {
   "cell_type": "code",
   "execution_count": 32,
   "metadata": {},
   "outputs": [
    {
     "name": "stdout",
     "output_type": "stream",
     "text": [
      "600\n"
     ]
    }
   ],
   "source": [
    "tss_map_tile2 = tile2_ids.merge(tss_map, on=[\"hg19_id\", \"mm9_id\"], how=\"left\")\n",
    "tss_map_tile2 = tss_map_tile2.merge(human_vals_tile2, on=\"hg19_id\").merge(mouse_vals_tile2, on=\"mm9_id\")\n",
    "print(len(tss_map_tile2))"
   ]
  },
  {
   "cell_type": "code",
   "execution_count": 33,
   "metadata": {},
   "outputs": [
    {
     "data": {
      "text/html": [
       "<div>\n",
       "<style>\n",
       "    .dataframe thead tr:only-child th {\n",
       "        text-align: right;\n",
       "    }\n",
       "\n",
       "    .dataframe thead th {\n",
       "        text-align: left;\n",
       "    }\n",
       "\n",
       "    .dataframe tbody tr th {\n",
       "        vertical-align: top;\n",
       "    }\n",
       "</style>\n",
       "<table border=\"1\" class=\"dataframe\">\n",
       "  <thead>\n",
       "    <tr style=\"text-align: right;\">\n",
       "      <th></th>\n",
       "      <th>hg19_id</th>\n",
       "      <th>mm9_id</th>\n",
       "      <th>cage_id_hg19</th>\n",
       "      <th>cage_id_mm9</th>\n",
       "      <th>name_peak_hg19</th>\n",
       "      <th>name_peak_mm9</th>\n",
       "      <th>biotype_hg19</th>\n",
       "      <th>biotype_mm9</th>\n",
       "      <th>minimal_biotype_hg19</th>\n",
       "      <th>minimal_biotype_mm9</th>\n",
       "      <th>...</th>\n",
       "      <th>HUES64_padj_hg19</th>\n",
       "      <th>mESC_padj_hg19</th>\n",
       "      <th>index_mm9</th>\n",
       "      <th>HUES64_mm9</th>\n",
       "      <th>mESC_mm9</th>\n",
       "      <th>HUES64_pval_mm9</th>\n",
       "      <th>mESC_pval_mm9</th>\n",
       "      <th>HUES64_padj_mm9</th>\n",
       "      <th>mESC_padj_mm9</th>\n",
       "      <th>tss_tile_num</th>\n",
       "    </tr>\n",
       "  </thead>\n",
       "  <tbody>\n",
       "    <tr>\n",
       "      <th>0</th>\n",
       "      <td>h.2</td>\n",
       "      <td>m.1</td>\n",
       "      <td>chr1:2985420..2985438,-</td>\n",
       "      <td>chr4:154011250..154011257,+</td>\n",
       "      <td>ENSG00000177133.6</td>\n",
       "      <td>ENSMUSG00000085069.2</td>\n",
       "      <td>divergent</td>\n",
       "      <td>divergent</td>\n",
       "      <td>lncRNA</td>\n",
       "      <td>lncRNA</td>\n",
       "      <td>...</td>\n",
       "      <td>1.812116e-03</td>\n",
       "      <td>6.958630e-01</td>\n",
       "      <td>CCCTTTTCAGCGCAGCTCGGAACTGGCCCTTTAAGAAAACATTCCT...</td>\n",
       "      <td>1.929367</td>\n",
       "      <td>1.179409</td>\n",
       "      <td>2.550782e-03</td>\n",
       "      <td>0.385808</td>\n",
       "      <td>8.819708e-03</td>\n",
       "      <td>0.692688</td>\n",
       "      <td>tile1</td>\n",
       "    </tr>\n",
       "    <tr>\n",
       "      <th>1</th>\n",
       "      <td>h.3</td>\n",
       "      <td>m.2</td>\n",
       "      <td>chr1:8086546..8086571,+</td>\n",
       "      <td>chr4:150229039..150229050,-</td>\n",
       "      <td>ENSG00000238290.1</td>\n",
       "      <td>ENSMUSG00000078492.3</td>\n",
       "      <td>divergent</td>\n",
       "      <td>antisense</td>\n",
       "      <td>lncRNA</td>\n",
       "      <td>lncRNA</td>\n",
       "      <td>...</td>\n",
       "      <td>4.883017e-01</td>\n",
       "      <td>6.945105e-01</td>\n",
       "      <td>TATTTATACGGTGAGCGACAACGTGACGTCAACGCCCGCAGCCCCG...</td>\n",
       "      <td>1.312270</td>\n",
       "      <td>1.914743</td>\n",
       "      <td>1.548958e-01</td>\n",
       "      <td>0.013920</td>\n",
       "      <td>3.497883e-01</td>\n",
       "      <td>0.055405</td>\n",
       "      <td>tile1</td>\n",
       "    </tr>\n",
       "    <tr>\n",
       "      <th>2</th>\n",
       "      <td>h.4</td>\n",
       "      <td>m.3</td>\n",
       "      <td>chr1:26498321..26498327,-</td>\n",
       "      <td>chr4:133799669..133799683,+</td>\n",
       "      <td>ENSG00000236782.1</td>\n",
       "      <td>ENSMUSG00000086322.7</td>\n",
       "      <td>antisense</td>\n",
       "      <td>protein_coding</td>\n",
       "      <td>other</td>\n",
       "      <td>mRNA</td>\n",
       "      <td>...</td>\n",
       "      <td>2.428031e-01</td>\n",
       "      <td>4.505074e-01</td>\n",
       "      <td>GATATTCAGGCCTGATGCTGATCCCTCCTGACAGCTGCTCCTAAGG...</td>\n",
       "      <td>1.653914</td>\n",
       "      <td>1.499628</td>\n",
       "      <td>2.254412e-02</td>\n",
       "      <td>0.130995</td>\n",
       "      <td>6.724474e-02</td>\n",
       "      <td>0.368915</td>\n",
       "      <td>tile1</td>\n",
       "    </tr>\n",
       "    <tr>\n",
       "      <th>3</th>\n",
       "      <td>h.5</td>\n",
       "      <td>m.4</td>\n",
       "      <td>chr1:65533390..65533443,-</td>\n",
       "      <td>chr4:101029310..101029334,-</td>\n",
       "      <td>ENSG00000231485.1</td>\n",
       "      <td>ENSMUSG00000086782.2</td>\n",
       "      <td>intergenic</td>\n",
       "      <td>intergenic</td>\n",
       "      <td>lncRNA</td>\n",
       "      <td>other</td>\n",
       "      <td>...</td>\n",
       "      <td>1.368040e-14</td>\n",
       "      <td>1.753169e-23</td>\n",
       "      <td>TGAGACCCGGAAGTTTTTTTTTTTTTTTTTTTTCCTTCAATCCTGT...</td>\n",
       "      <td>3.223137</td>\n",
       "      <td>2.285388</td>\n",
       "      <td>3.022069e-11</td>\n",
       "      <td>0.000784</td>\n",
       "      <td>1.727483e-10</td>\n",
       "      <td>0.003826</td>\n",
       "      <td>tile1</td>\n",
       "    </tr>\n",
       "    <tr>\n",
       "      <th>4</th>\n",
       "      <td>h.6</td>\n",
       "      <td>m.4</td>\n",
       "      <td>chr1:65533457..65533465,-</td>\n",
       "      <td>chr4:101029310..101029334,-</td>\n",
       "      <td>ENSG00000231485.1</td>\n",
       "      <td>ENSMUSG00000086782.2</td>\n",
       "      <td>intergenic</td>\n",
       "      <td>intergenic</td>\n",
       "      <td>lncRNA</td>\n",
       "      <td>other</td>\n",
       "      <td>...</td>\n",
       "      <td>3.003835e-10</td>\n",
       "      <td>2.655447e-09</td>\n",
       "      <td>TGAGACCCGGAAGTTTTTTTTTTTTTTTTTTTTCCTTCAATCCTGT...</td>\n",
       "      <td>3.223137</td>\n",
       "      <td>2.285388</td>\n",
       "      <td>3.022069e-11</td>\n",
       "      <td>0.000784</td>\n",
       "      <td>1.727483e-10</td>\n",
       "      <td>0.003826</td>\n",
       "      <td>tile1</td>\n",
       "    </tr>\n",
       "  </tbody>\n",
       "</table>\n",
       "<p>5 rows × 51 columns</p>\n",
       "</div>"
      ],
      "text/plain": [
       "  hg19_id mm9_id               cage_id_hg19                  cage_id_mm9  \\\n",
       "0     h.2    m.1    chr1:2985420..2985438,-  chr4:154011250..154011257,+   \n",
       "1     h.3    m.2    chr1:8086546..8086571,+  chr4:150229039..150229050,-   \n",
       "2     h.4    m.3  chr1:26498321..26498327,-  chr4:133799669..133799683,+   \n",
       "3     h.5    m.4  chr1:65533390..65533443,-  chr4:101029310..101029334,-   \n",
       "4     h.6    m.4  chr1:65533457..65533465,-  chr4:101029310..101029334,-   \n",
       "\n",
       "      name_peak_hg19         name_peak_mm9 biotype_hg19     biotype_mm9  \\\n",
       "0  ENSG00000177133.6  ENSMUSG00000085069.2    divergent       divergent   \n",
       "1  ENSG00000238290.1  ENSMUSG00000078492.3    divergent       antisense   \n",
       "2  ENSG00000236782.1  ENSMUSG00000086322.7    antisense  protein_coding   \n",
       "3  ENSG00000231485.1  ENSMUSG00000086782.2   intergenic      intergenic   \n",
       "4  ENSG00000231485.1  ENSMUSG00000086782.2   intergenic      intergenic   \n",
       "\n",
       "  minimal_biotype_hg19 minimal_biotype_mm9     ...      HUES64_padj_hg19  \\\n",
       "0               lncRNA              lncRNA     ...          1.812116e-03   \n",
       "1               lncRNA              lncRNA     ...          4.883017e-01   \n",
       "2                other                mRNA     ...          2.428031e-01   \n",
       "3               lncRNA               other     ...          1.368040e-14   \n",
       "4               lncRNA               other     ...          3.003835e-10   \n",
       "\n",
       "   mESC_padj_hg19                                          index_mm9  \\\n",
       "0    6.958630e-01  CCCTTTTCAGCGCAGCTCGGAACTGGCCCTTTAAGAAAACATTCCT...   \n",
       "1    6.945105e-01  TATTTATACGGTGAGCGACAACGTGACGTCAACGCCCGCAGCCCCG...   \n",
       "2    4.505074e-01  GATATTCAGGCCTGATGCTGATCCCTCCTGACAGCTGCTCCTAAGG...   \n",
       "3    1.753169e-23  TGAGACCCGGAAGTTTTTTTTTTTTTTTTTTTTCCTTCAATCCTGT...   \n",
       "4    2.655447e-09  TGAGACCCGGAAGTTTTTTTTTTTTTTTTTTTTCCTTCAATCCTGT...   \n",
       "\n",
       "  HUES64_mm9  mESC_mm9  HUES64_pval_mm9  mESC_pval_mm9 HUES64_padj_mm9  \\\n",
       "0   1.929367  1.179409     2.550782e-03       0.385808    8.819708e-03   \n",
       "1   1.312270  1.914743     1.548958e-01       0.013920    3.497883e-01   \n",
       "2   1.653914  1.499628     2.254412e-02       0.130995    6.724474e-02   \n",
       "3   3.223137  2.285388     3.022069e-11       0.000784    1.727483e-10   \n",
       "4   3.223137  2.285388     3.022069e-11       0.000784    1.727483e-10   \n",
       "\n",
       "  mESC_padj_mm9 tss_tile_num  \n",
       "0      0.692688        tile1  \n",
       "1      0.055405        tile1  \n",
       "2      0.368915        tile1  \n",
       "3      0.003826        tile1  \n",
       "4      0.003826        tile1  \n",
       "\n",
       "[5 rows x 51 columns]"
      ]
     },
     "execution_count": 33,
     "metadata": {},
     "output_type": "execute_result"
    }
   ],
   "source": [
    "tss_map_tile1 = tss_map_tile1.merge(alpha, \n",
    "                                    left_on=\"hg19_element\", \n",
    "                                    right_on=\"index\").merge(alpha,\n",
    "                                                            left_on=\"mm9_element\",\n",
    "                                                            right_on=\"index\",\n",
    "                                                            suffixes=(\"_hg19\", \"_mm9\"))\n",
    "tss_map_tile1[\"tss_tile_num\"] = \"tile1\"\n",
    "tss_map_tile1.head()"
   ]
  },
  {
   "cell_type": "code",
   "execution_count": 34,
   "metadata": {},
   "outputs": [
    {
     "data": {
      "text/html": [
       "<div>\n",
       "<style>\n",
       "    .dataframe thead tr:only-child th {\n",
       "        text-align: right;\n",
       "    }\n",
       "\n",
       "    .dataframe thead th {\n",
       "        text-align: left;\n",
       "    }\n",
       "\n",
       "    .dataframe tbody tr th {\n",
       "        vertical-align: top;\n",
       "    }\n",
       "</style>\n",
       "<table border=\"1\" class=\"dataframe\">\n",
       "  <thead>\n",
       "    <tr style=\"text-align: right;\">\n",
       "      <th></th>\n",
       "      <th>hg19_id</th>\n",
       "      <th>mm9_id</th>\n",
       "      <th>cage_id_hg19</th>\n",
       "      <th>cage_id_mm9</th>\n",
       "      <th>name_peak_hg19</th>\n",
       "      <th>name_peak_mm9</th>\n",
       "      <th>biotype_hg19</th>\n",
       "      <th>biotype_mm9</th>\n",
       "      <th>minimal_biotype_hg19</th>\n",
       "      <th>minimal_biotype_mm9</th>\n",
       "      <th>...</th>\n",
       "      <th>HUES64_padj_hg19</th>\n",
       "      <th>mESC_padj_hg19</th>\n",
       "      <th>index_mm9</th>\n",
       "      <th>HUES64_mm9</th>\n",
       "      <th>mESC_mm9</th>\n",
       "      <th>HUES64_pval_mm9</th>\n",
       "      <th>mESC_pval_mm9</th>\n",
       "      <th>HUES64_padj_mm9</th>\n",
       "      <th>mESC_padj_mm9</th>\n",
       "      <th>tss_tile_num</th>\n",
       "    </tr>\n",
       "  </thead>\n",
       "  <tbody>\n",
       "    <tr>\n",
       "      <th>0</th>\n",
       "      <td>h.15</td>\n",
       "      <td>m.11</td>\n",
       "      <td>chr1:151763294..151763320,+</td>\n",
       "      <td>chr3:94216809..94216812,-</td>\n",
       "      <td>ENSG00000203288.3</td>\n",
       "      <td>ENSMUSG00000097515.2</td>\n",
       "      <td>divergent</td>\n",
       "      <td>divergent</td>\n",
       "      <td>lncRNA</td>\n",
       "      <td>lncRNA</td>\n",
       "      <td>...</td>\n",
       "      <td>5.137919e-06</td>\n",
       "      <td>1.235504e-02</td>\n",
       "      <td>CCCGGATGAAAATCCAAGCCCGCCCACGTCCACAGCCAGTTAGAGC...</td>\n",
       "      <td>0.994039</td>\n",
       "      <td>1.569460</td>\n",
       "      <td>4.620743e-01</td>\n",
       "      <td>9.628427e-02</td>\n",
       "      <td>7.051269e-01</td>\n",
       "      <td>2.917750e-01</td>\n",
       "      <td>tile2</td>\n",
       "    </tr>\n",
       "    <tr>\n",
       "      <th>1</th>\n",
       "      <td>h.16</td>\n",
       "      <td>m.11</td>\n",
       "      <td>chr1:151763321..151763339,+</td>\n",
       "      <td>chr3:94216809..94216812,-</td>\n",
       "      <td>ENSG00000203288.3</td>\n",
       "      <td>ENSMUSG00000097515.2</td>\n",
       "      <td>divergent</td>\n",
       "      <td>divergent</td>\n",
       "      <td>lncRNA</td>\n",
       "      <td>lncRNA</td>\n",
       "      <td>...</td>\n",
       "      <td>3.968783e-29</td>\n",
       "      <td>1.654646e-08</td>\n",
       "      <td>CCCGGATGAAAATCCAAGCCCGCCCACGTCCACAGCCAGTTAGAGC...</td>\n",
       "      <td>0.994039</td>\n",
       "      <td>1.569460</td>\n",
       "      <td>4.620743e-01</td>\n",
       "      <td>9.628427e-02</td>\n",
       "      <td>7.051269e-01</td>\n",
       "      <td>2.917750e-01</td>\n",
       "      <td>tile2</td>\n",
       "    </tr>\n",
       "    <tr>\n",
       "      <th>2</th>\n",
       "      <td>h.19</td>\n",
       "      <td>m.14</td>\n",
       "      <td>chr1:179851611..179851688,-</td>\n",
       "      <td>chr1:157883318..157883388,+</td>\n",
       "      <td>ENSG00000272906.1</td>\n",
       "      <td>ENSMUSG00000050565.16</td>\n",
       "      <td>divergent</td>\n",
       "      <td>protein_coding</td>\n",
       "      <td>lncRNA</td>\n",
       "      <td>mRNA</td>\n",
       "      <td>...</td>\n",
       "      <td>3.053028e-194</td>\n",
       "      <td>1.646213e-102</td>\n",
       "      <td>TTTGGCCGCCCGGGGCTCGAAGTCGCCGTACACTTCTGCCGGCTCC...</td>\n",
       "      <td>11.784031</td>\n",
       "      <td>6.543975</td>\n",
       "      <td>2.049327e-215</td>\n",
       "      <td>3.482717e-46</td>\n",
       "      <td>9.740620e-214</td>\n",
       "      <td>4.917256e-45</td>\n",
       "      <td>tile2</td>\n",
       "    </tr>\n",
       "    <tr>\n",
       "      <th>3</th>\n",
       "      <td>h.25</td>\n",
       "      <td>m.20</td>\n",
       "      <td>chr1:208042503..208042527,-</td>\n",
       "      <td>chr1:196802536..196802585,+</td>\n",
       "      <td>ENSG00000203709.5</td>\n",
       "      <td>ENSMUSG00000096929.7</td>\n",
       "      <td>intergenic</td>\n",
       "      <td>intergenic</td>\n",
       "      <td>other</td>\n",
       "      <td>other</td>\n",
       "      <td>...</td>\n",
       "      <td>8.534530e-01</td>\n",
       "      <td>7.093100e-01</td>\n",
       "      <td>CAGAGGAACCAGGACCAGTGAGGATCTGGACAGCTCTGAAGAAGCA...</td>\n",
       "      <td>0.658347</td>\n",
       "      <td>0.878549</td>\n",
       "      <td>8.094159e-01</td>\n",
       "      <td>6.882557e-01</td>\n",
       "      <td>8.572866e-01</td>\n",
       "      <td>7.922095e-01</td>\n",
       "      <td>tile2</td>\n",
       "    </tr>\n",
       "    <tr>\n",
       "      <th>4</th>\n",
       "      <td>h.27</td>\n",
       "      <td>m.22</td>\n",
       "      <td>chr1:209602671..209602695,+</td>\n",
       "      <td>chr1:195336318..195336327,-</td>\n",
       "      <td>ENSG00000230937.5</td>\n",
       "      <td>ENSMUSG00000097850.2</td>\n",
       "      <td>intergenic</td>\n",
       "      <td>intergenic</td>\n",
       "      <td>other</td>\n",
       "      <td>other</td>\n",
       "      <td>...</td>\n",
       "      <td>3.645676e-01</td>\n",
       "      <td>7.892178e-01</td>\n",
       "      <td>CCTCTGCAAGCACGTCCCACCCCCAGAGGTGTGGTTCTTGGAGGCG...</td>\n",
       "      <td>4.684714</td>\n",
       "      <td>3.533410</td>\n",
       "      <td>2.382336e-27</td>\n",
       "      <td>7.649995e-11</td>\n",
       "      <td>2.028493e-26</td>\n",
       "      <td>5.623638e-10</td>\n",
       "      <td>tile2</td>\n",
       "    </tr>\n",
       "  </tbody>\n",
       "</table>\n",
       "<p>5 rows × 51 columns</p>\n",
       "</div>"
      ],
      "text/plain": [
       "  hg19_id mm9_id                 cage_id_hg19                  cage_id_mm9  \\\n",
       "0    h.15   m.11  chr1:151763294..151763320,+    chr3:94216809..94216812,-   \n",
       "1    h.16   m.11  chr1:151763321..151763339,+    chr3:94216809..94216812,-   \n",
       "2    h.19   m.14  chr1:179851611..179851688,-  chr1:157883318..157883388,+   \n",
       "3    h.25   m.20  chr1:208042503..208042527,-  chr1:196802536..196802585,+   \n",
       "4    h.27   m.22  chr1:209602671..209602695,+  chr1:195336318..195336327,-   \n",
       "\n",
       "      name_peak_hg19          name_peak_mm9 biotype_hg19     biotype_mm9  \\\n",
       "0  ENSG00000203288.3   ENSMUSG00000097515.2    divergent       divergent   \n",
       "1  ENSG00000203288.3   ENSMUSG00000097515.2    divergent       divergent   \n",
       "2  ENSG00000272906.1  ENSMUSG00000050565.16    divergent  protein_coding   \n",
       "3  ENSG00000203709.5   ENSMUSG00000096929.7   intergenic      intergenic   \n",
       "4  ENSG00000230937.5   ENSMUSG00000097850.2   intergenic      intergenic   \n",
       "\n",
       "  minimal_biotype_hg19 minimal_biotype_mm9     ...      HUES64_padj_hg19  \\\n",
       "0               lncRNA              lncRNA     ...          5.137919e-06   \n",
       "1               lncRNA              lncRNA     ...          3.968783e-29   \n",
       "2               lncRNA                mRNA     ...         3.053028e-194   \n",
       "3                other               other     ...          8.534530e-01   \n",
       "4                other               other     ...          3.645676e-01   \n",
       "\n",
       "   mESC_padj_hg19                                          index_mm9  \\\n",
       "0    1.235504e-02  CCCGGATGAAAATCCAAGCCCGCCCACGTCCACAGCCAGTTAGAGC...   \n",
       "1    1.654646e-08  CCCGGATGAAAATCCAAGCCCGCCCACGTCCACAGCCAGTTAGAGC...   \n",
       "2   1.646213e-102  TTTGGCCGCCCGGGGCTCGAAGTCGCCGTACACTTCTGCCGGCTCC...   \n",
       "3    7.093100e-01  CAGAGGAACCAGGACCAGTGAGGATCTGGACAGCTCTGAAGAAGCA...   \n",
       "4    7.892178e-01  CCTCTGCAAGCACGTCCCACCCCCAGAGGTGTGGTTCTTGGAGGCG...   \n",
       "\n",
       "  HUES64_mm9  mESC_mm9  HUES64_pval_mm9  mESC_pval_mm9 HUES64_padj_mm9  \\\n",
       "0   0.994039  1.569460     4.620743e-01   9.628427e-02    7.051269e-01   \n",
       "1   0.994039  1.569460     4.620743e-01   9.628427e-02    7.051269e-01   \n",
       "2  11.784031  6.543975    2.049327e-215   3.482717e-46   9.740620e-214   \n",
       "3   0.658347  0.878549     8.094159e-01   6.882557e-01    8.572866e-01   \n",
       "4   4.684714  3.533410     2.382336e-27   7.649995e-11    2.028493e-26   \n",
       "\n",
       "  mESC_padj_mm9 tss_tile_num  \n",
       "0  2.917750e-01        tile2  \n",
       "1  2.917750e-01        tile2  \n",
       "2  4.917256e-45        tile2  \n",
       "3  7.922095e-01        tile2  \n",
       "4  5.623638e-10        tile2  \n",
       "\n",
       "[5 rows x 51 columns]"
      ]
     },
     "execution_count": 34,
     "metadata": {},
     "output_type": "execute_result"
    }
   ],
   "source": [
    "tss_map_tile2 = tss_map_tile2.merge(alpha, \n",
    "                                    left_on=\"hg19_element\", \n",
    "                                    right_on=\"index\").merge(alpha,\n",
    "                                                            left_on=\"mm9_element\",\n",
    "                                                            right_on=\"index\",\n",
    "                                                            suffixes=(\"_hg19\", \"_mm9\"))\n",
    "tss_map_tile2[\"tss_tile_num\"] = \"tile2\"\n",
    "tss_map_tile2.head()"
   ]
  },
  {
   "cell_type": "code",
   "execution_count": 35,
   "metadata": {},
   "outputs": [
    {
     "data": {
      "text/plain": [
       "no cage activity    747\n",
       "protein_coding      645\n",
       "enhancer            567\n",
       "intergenic          436\n",
       "divergent           264\n",
       "antisense           236\n",
       "unassigned           54\n",
       "multi-mapped          3\n",
       "Name: biotype_hg19, dtype: int64"
      ]
     },
     "execution_count": 35,
     "metadata": {},
     "output_type": "execute_result"
    }
   ],
   "source": [
    "tss_map = tss_map_tile1.append(tss_map_tile2)\n",
    "tss_map.biotype_hg19.value_counts()"
   ]
  },
  {
   "cell_type": "code",
   "execution_count": 36,
   "metadata": {},
   "outputs": [
    {
     "data": {
      "text/html": [
       "<div>\n",
       "<style>\n",
       "    .dataframe thead tr:only-child th {\n",
       "        text-align: right;\n",
       "    }\n",
       "\n",
       "    .dataframe thead th {\n",
       "        text-align: left;\n",
       "    }\n",
       "\n",
       "    .dataframe tbody tr th {\n",
       "        vertical-align: top;\n",
       "    }\n",
       "</style>\n",
       "<table border=\"1\" class=\"dataframe\">\n",
       "  <thead>\n",
       "    <tr style=\"text-align: right;\">\n",
       "      <th></th>\n",
       "      <th>hg19_id</th>\n",
       "      <th>chr_tss_hg19</th>\n",
       "      <th>start_tss_hg19</th>\n",
       "      <th>biotype_hg19</th>\n",
       "      <th>minimal_biotype_hg19</th>\n",
       "      <th>cage_id_hg19</th>\n",
       "      <th>name_peak_hg19</th>\n",
       "      <th>stem_exp_hg19</th>\n",
       "      <th>max_cage_hg19</th>\n",
       "      <th>mm9_id</th>\n",
       "      <th>...</th>\n",
       "      <th>orig_species</th>\n",
       "      <th>biotype_switch_minimal</th>\n",
       "      <th>HUES64_hg19</th>\n",
       "      <th>mESC_hg19</th>\n",
       "      <th>HUES64_mm9</th>\n",
       "      <th>mESC_mm9</th>\n",
       "      <th>HUES64_padj_hg19</th>\n",
       "      <th>mESC_padj_hg19</th>\n",
       "      <th>HUES64_padj_mm9</th>\n",
       "      <th>mESC_padj_mm9</th>\n",
       "    </tr>\n",
       "  </thead>\n",
       "  <tbody>\n",
       "    <tr>\n",
       "      <th>351</th>\n",
       "      <td>h.520</td>\n",
       "      <td>chrX</td>\n",
       "      <td>68835958</td>\n",
       "      <td>protein_coding</td>\n",
       "      <td>mRNA</td>\n",
       "      <td>chrX:68835947..68835972,+</td>\n",
       "      <td>ENSG00000158813.13</td>\n",
       "      <td>3.7222199999999996</td>\n",
       "      <td>1494.0</td>\n",
       "      <td>m.406</td>\n",
       "      <td>...</td>\n",
       "      <td>human</td>\n",
       "      <td>mRNA</td>\n",
       "      <td>2.714975</td>\n",
       "      <td>2.049482</td>\n",
       "      <td>3.408960</td>\n",
       "      <td>3.606433</td>\n",
       "      <td>9.336717e-07</td>\n",
       "      <td>2.322811e-02</td>\n",
       "      <td>4.359007e-12</td>\n",
       "      <td>1.627370e-10</td>\n",
       "    </tr>\n",
       "    <tr>\n",
       "      <th>112</th>\n",
       "      <td>h.755</td>\n",
       "      <td>chr11</td>\n",
       "      <td>107799173</td>\n",
       "      <td>protein_coding</td>\n",
       "      <td>mRNA</td>\n",
       "      <td>chr11:107799118..107799197,+</td>\n",
       "      <td>ENSG00000179331.2</td>\n",
       "      <td>3.6911099999999997</td>\n",
       "      <td>5047.0</td>\n",
       "      <td>m.640</td>\n",
       "      <td>...</td>\n",
       "      <td>human</td>\n",
       "      <td>mRNA</td>\n",
       "      <td>4.731065</td>\n",
       "      <td>4.429451</td>\n",
       "      <td>2.578455</td>\n",
       "      <td>2.105939</td>\n",
       "      <td>4.742507e-27</td>\n",
       "      <td>1.173327e-17</td>\n",
       "      <td>6.564093e-06</td>\n",
       "      <td>1.564548e-02</td>\n",
       "    </tr>\n",
       "    <tr>\n",
       "      <th>711</th>\n",
       "      <td>h.1162</td>\n",
       "      <td>chr12</td>\n",
       "      <td>90150618</td>\n",
       "      <td>enhancer</td>\n",
       "      <td>eRNA</td>\n",
       "      <td>chr12:90150470-90150910</td>\n",
       "      <td>chr12:90150470-90150910__NEGATIVE</td>\n",
       "      <td>0.039043800000000004</td>\n",
       "      <td>39.0</td>\n",
       "      <td>m.1034</td>\n",
       "      <td>...</td>\n",
       "      <td>human</td>\n",
       "      <td>eRNA</td>\n",
       "      <td>3.506085</td>\n",
       "      <td>1.301418</td>\n",
       "      <td>0.778622</td>\n",
       "      <td>0.917884</td>\n",
       "      <td>5.678572e-13</td>\n",
       "      <td>5.958002e-01</td>\n",
       "      <td>8.073815e-01</td>\n",
       "      <td>7.812596e-01</td>\n",
       "    </tr>\n",
       "    <tr>\n",
       "      <th>430</th>\n",
       "      <td>h.2602</td>\n",
       "      <td>chr1</td>\n",
       "      <td>38396816</td>\n",
       "      <td>no cage activity</td>\n",
       "      <td>no CAGE activity</td>\n",
       "      <td>no cage activity</td>\n",
       "      <td>no cage activity</td>\n",
       "      <td>no cage activity</td>\n",
       "      <td>2.0</td>\n",
       "      <td>m.2414</td>\n",
       "      <td>...</td>\n",
       "      <td>mouse</td>\n",
       "      <td>CAGE turnover - lncRNA</td>\n",
       "      <td>1.025389</td>\n",
       "      <td>0.849578</td>\n",
       "      <td>0.883969</td>\n",
       "      <td>1.046906</td>\n",
       "      <td>6.783798e-01</td>\n",
       "      <td>8.008871e-01</td>\n",
       "      <td>7.699846e-01</td>\n",
       "      <td>7.536709e-01</td>\n",
       "    </tr>\n",
       "    <tr>\n",
       "      <th>404</th>\n",
       "      <td>h.634</td>\n",
       "      <td>chr22</td>\n",
       "      <td>18632884</td>\n",
       "      <td>protein_coding</td>\n",
       "      <td>mRNA</td>\n",
       "      <td>chr22:18632879..18632890,+</td>\n",
       "      <td>ENSG00000184979.9</td>\n",
       "      <td>0.0</td>\n",
       "      <td>3705.0</td>\n",
       "      <td>m.520</td>\n",
       "      <td>...</td>\n",
       "      <td>human</td>\n",
       "      <td>mRNA</td>\n",
       "      <td>1.625724</td>\n",
       "      <td>1.631587</td>\n",
       "      <td>1.996094</td>\n",
       "      <td>0.894646</td>\n",
       "      <td>8.002572e-02</td>\n",
       "      <td>2.303038e-01</td>\n",
       "      <td>4.923029e-03</td>\n",
       "      <td>7.893411e-01</td>\n",
       "    </tr>\n",
       "  </tbody>\n",
       "</table>\n",
       "<p>5 rows × 29 columns</p>\n",
       "</div>"
      ],
      "text/plain": [
       "    hg19_id chr_tss_hg19  start_tss_hg19      biotype_hg19  \\\n",
       "351   h.520         chrX        68835958    protein_coding   \n",
       "112   h.755        chr11       107799173    protein_coding   \n",
       "711  h.1162        chr12        90150618          enhancer   \n",
       "430  h.2602         chr1        38396816  no cage activity   \n",
       "404   h.634        chr22        18632884    protein_coding   \n",
       "\n",
       "    minimal_biotype_hg19                  cage_id_hg19  \\\n",
       "351                 mRNA     chrX:68835947..68835972,+   \n",
       "112                 mRNA  chr11:107799118..107799197,+   \n",
       "711                 eRNA       chr12:90150470-90150910   \n",
       "430     no CAGE activity              no cage activity   \n",
       "404                 mRNA    chr22:18632879..18632890,+   \n",
       "\n",
       "                        name_peak_hg19         stem_exp_hg19  max_cage_hg19  \\\n",
       "351                 ENSG00000158813.13    3.7222199999999996         1494.0   \n",
       "112                  ENSG00000179331.2    3.6911099999999997         5047.0   \n",
       "711  chr12:90150470-90150910__NEGATIVE  0.039043800000000004           39.0   \n",
       "430                   no cage activity      no cage activity            2.0   \n",
       "404                  ENSG00000184979.9                   0.0         3705.0   \n",
       "\n",
       "     mm9_id      ...      orig_species  biotype_switch_minimal HUES64_hg19  \\\n",
       "351   m.406      ...             human                    mRNA    2.714975   \n",
       "112   m.640      ...             human                    mRNA    4.731065   \n",
       "711  m.1034      ...             human                    eRNA    3.506085   \n",
       "430  m.2414      ...             mouse  CAGE turnover - lncRNA    1.025389   \n",
       "404   m.520      ...             human                    mRNA    1.625724   \n",
       "\n",
       "    mESC_hg19 HUES64_mm9  mESC_mm9 HUES64_padj_hg19  mESC_padj_hg19  \\\n",
       "351  2.049482   3.408960  3.606433     9.336717e-07    2.322811e-02   \n",
       "112  4.429451   2.578455  2.105939     4.742507e-27    1.173327e-17   \n",
       "711  1.301418   0.778622  0.917884     5.678572e-13    5.958002e-01   \n",
       "430  0.849578   0.883969  1.046906     6.783798e-01    8.008871e-01   \n",
       "404  1.631587   1.996094  0.894646     8.002572e-02    2.303038e-01   \n",
       "\n",
       "    HUES64_padj_mm9 mESC_padj_mm9  \n",
       "351    4.359007e-12  1.627370e-10  \n",
       "112    6.564093e-06  1.564548e-02  \n",
       "711    8.073815e-01  7.812596e-01  \n",
       "430    7.699846e-01  7.536709e-01  \n",
       "404    4.923029e-03  7.893411e-01  \n",
       "\n",
       "[5 rows x 29 columns]"
      ]
     },
     "execution_count": 36,
     "metadata": {},
     "output_type": "execute_result"
    }
   ],
   "source": [
    "data = tss_map[[\"hg19_id\", \"chr_tss_hg19\", \"start_tss_hg19\", \"biotype_hg19\", \n",
    "                \"minimal_biotype_hg19\", \"cage_id_hg19\", \"name_peak_hg19\", \"stem_exp_hg19\", \"max_cage_hg19\", \n",
    "                \"mm9_id\", \"chr_tss_mm9\", \n",
    "                \"start_tss_mm9\", \"biotype_mm9\", \"minimal_biotype_mm9\", \"cage_id_mm9\", \n",
    "                \"name_peak_mm9\", \"stem_exp_mm9\", \"max_cage_mm9\", \"tss_tile_num\", \"orig_species\", \n",
    "                \"biotype_switch_minimal\", \"HUES64_hg19\", \"mESC_hg19\", \"HUES64_mm9\", \"mESC_mm9\", \"HUES64_padj_hg19\", \n",
    "                \"mESC_padj_hg19\", \"HUES64_padj_mm9\", \"mESC_padj_mm9\"]].drop_duplicates()\n",
    "data.sample(5)"
   ]
  },
  {
   "cell_type": "code",
   "execution_count": 37,
   "metadata": {},
   "outputs": [
    {
     "data": {
      "text/plain": [
       "2952"
      ]
     },
     "execution_count": 37,
     "metadata": {},
     "output_type": "execute_result"
    }
   ],
   "source": [
    "len(data)"
   ]
  },
  {
   "cell_type": "markdown",
   "metadata": {},
   "source": [
    "## 4. find appropriate FDR cutoffs for each model\n",
    "choose FDR cutoff as the one that calls < 10% of controls as significant"
   ]
  },
  {
   "cell_type": "code",
   "execution_count": 38,
   "metadata": {},
   "outputs": [],
   "source": [
    "native_ctrls = native[native[\"index\"].str.contains(\"CONTROL\")]\n",
    "cis_HUES64_ctrls = HUES64_cis[HUES64_cis[\"index\"].str.contains(\"CONTROL\")]\n",
    "cis_mESC_ctrls = mESC_cis[mESC_cis[\"index\"].str.contains(\"CONTROL\")]\n",
    "trans_human_ctrls = human_trans[human_trans[\"index\"].str.contains(\"CONTROL\")]\n",
    "trans_mouse_ctrls = mouse_trans[mouse_trans[\"index\"].str.contains(\"CONTROL\")]\n",
    "cis_trans_int_ctrls = cis_trans_int[cis_trans_int[\"index\"].str.contains(\"CONTROL\")]"
   ]
  },
  {
   "cell_type": "code",
   "execution_count": 39,
   "metadata": {},
   "outputs": [
    {
     "name": "stdout",
     "output_type": "stream",
     "text": [
      "400\n",
      "400\n",
      "400\n",
      "400\n",
      "400\n",
      "400\n"
     ]
    }
   ],
   "source": [
    "print(len(native_ctrls))\n",
    "print(len(cis_HUES64_ctrls))\n",
    "print(len(cis_mESC_ctrls))\n",
    "print(len(trans_human_ctrls))\n",
    "print(len(trans_mouse_ctrls))\n",
    "print(len(cis_trans_int_ctrls))"
   ]
  },
  {
   "cell_type": "markdown",
   "metadata": {},
   "source": [
    "make plots to show different #s of controls called as \"significant\" at alpha < 0.05 in each model"
   ]
  },
  {
   "cell_type": "code",
   "execution_count": 40,
   "metadata": {},
   "outputs": [
    {
     "data": {
      "text/html": [
       "<div>\n",
       "<style>\n",
       "    .dataframe thead tr:only-child th {\n",
       "        text-align: right;\n",
       "    }\n",
       "\n",
       "    .dataframe thead th {\n",
       "        text-align: left;\n",
       "    }\n",
       "\n",
       "    .dataframe tbody tr th {\n",
       "        vertical-align: top;\n",
       "    }\n",
       "</style>\n",
       "<table border=\"1\" class=\"dataframe\">\n",
       "  <thead>\n",
       "    <tr style=\"text-align: right;\">\n",
       "      <th></th>\n",
       "      <th>model</th>\n",
       "      <th>n_sig</th>\n",
       "    </tr>\n",
       "  </thead>\n",
       "  <tbody>\n",
       "    <tr>\n",
       "      <th>0</th>\n",
       "      <td>native effects</td>\n",
       "      <td>181</td>\n",
       "    </tr>\n",
       "    <tr>\n",
       "      <th>1</th>\n",
       "      <td>HUES64 cis effects</td>\n",
       "      <td>137</td>\n",
       "    </tr>\n",
       "    <tr>\n",
       "      <th>2</th>\n",
       "      <td>mESC cis effects</td>\n",
       "      <td>125</td>\n",
       "    </tr>\n",
       "    <tr>\n",
       "      <th>3</th>\n",
       "      <td>human trans effects</td>\n",
       "      <td>78</td>\n",
       "    </tr>\n",
       "    <tr>\n",
       "      <th>4</th>\n",
       "      <td>mouse trans effects</td>\n",
       "      <td>76</td>\n",
       "    </tr>\n",
       "    <tr>\n",
       "      <th>5</th>\n",
       "      <td>cis/trans interaction effects</td>\n",
       "      <td>0</td>\n",
       "    </tr>\n",
       "  </tbody>\n",
       "</table>\n",
       "</div>"
      ],
      "text/plain": [
       "                           model  n_sig\n",
       "0                 native effects    181\n",
       "1             HUES64 cis effects    137\n",
       "2               mESC cis effects    125\n",
       "3            human trans effects     78\n",
       "4            mouse trans effects     76\n",
       "5  cis/trans interaction effects      0"
      ]
     },
     "execution_count": 40,
     "metadata": {},
     "output_type": "execute_result"
    }
   ],
   "source": [
    "n_sig_models = {}\n",
    "for model, df, fdr in zip([\"native effects\", \"HUES64 cis effects\", \"mESC cis effects\", \"human trans effects\",\n",
    "                           \"mouse trans effects\", \"cis/trans interaction effects\"],\n",
    "                          [native_ctrls, cis_HUES64_ctrls, cis_mESC_ctrls, trans_human_ctrls, trans_mouse_ctrls,\n",
    "                           cis_trans_int_ctrls],\n",
    "                          [\"fdr_native\", \"fdr_cis_HUES64\", \"fdr_cis_mESC\", \"fdr_trans_human\", \"fdr_trans_mouse\",\n",
    "                           \"fdr_int\"]):\n",
    "    n_sig = len(df[df[fdr] < 0.05])\n",
    "    n_sig_models[model] = [n_sig]\n",
    "n_sig_models = pd.DataFrame.from_dict(n_sig_models, orient=\"index\").reset_index()\n",
    "n_sig_models.columns = [\"model\", \"n_sig\"]\n",
    "n_sig_models"
   ]
  },
  {
   "cell_type": "code",
   "execution_count": 41,
   "metadata": {},
   "outputs": [],
   "source": [
    "order = [\"native effects\", \"HUES64 cis effects\", \"mESC cis effects\", \"human trans effects\", \"mouse trans effects\"]"
   ]
  },
  {
   "cell_type": "code",
   "execution_count": 42,
   "metadata": {},
   "outputs": [
    {
     "data": {
      "image/png": "[encoded data removed]",
      "text/plain": [
       "<matplotlib.figure.Figure at 0x2ba1376865f8>"
      ]
     },
     "metadata": {},
     "output_type": "display_data"
    }
   ],
   "source": [
    "fig, ax = plt.subplots(figsize=(2.2, 1.5), nrows=1, ncols=1)\n",
    "\n",
    "sns.barplot(data=n_sig_models, x=\"model\", y=\"n_sig\", color=\"darkgray\", ax=ax, order=order)\n",
    "ax.set_xlabel(\"\")\n",
    "ax.set_ylabel(\"number of controls significant\\nat MPRAnalyze q-value < 0.05\")\n",
    "_ = ax.set_xticklabels(n_sig_models[\"model\"], rotation=50, ha=\"right\", va=\"top\")\n",
    "\n",
    "ax.set_title(\"MPRAnalyze q-value cut-off\")\n",
    "ax.set_ylim((0, 200))\n",
    "fig.savefig(\"perc_ctrls_sig.05.pdf\", dpi=\"figure\", bbox_inches=\"tight\")"
   ]
  },
  {
   "cell_type": "markdown",
   "metadata": {},
   "source": [
    "now always cut off at the 10th percentile of FDRs of controls within a given model"
   ]
  },
  {
   "cell_type": "code",
   "execution_count": 43,
   "metadata": {},
   "outputs": [
    {
     "data": {
      "text/plain": [
       "1.0898206312680145e-06"
      ]
     },
     "execution_count": 43,
     "metadata": {},
     "output_type": "execute_result"
    }
   ],
   "source": [
    "NATIVE_THRESH = np.percentile(native_ctrls[\"fdr_native\"], 5)\n",
    "NATIVE_THRESH"
   ]
  },
  {
   "cell_type": "code",
   "execution_count": 44,
   "metadata": {
    "scrolled": true
   },
   "outputs": [
    {
     "data": {
      "text/plain": [
       "1.8999985664019451e-05"
      ]
     },
     "execution_count": 44,
     "metadata": {},
     "output_type": "execute_result"
    }
   ],
   "source": [
    "CIS_HUES64_THRESH = np.percentile(cis_HUES64_ctrls[\"fdr_cis_HUES64\"], 5)\n",
    "CIS_HUES64_THRESH"
   ]
  },
  {
   "cell_type": "code",
   "execution_count": 45,
   "metadata": {},
   "outputs": [
    {
     "data": {
      "text/plain": [
       "0.00014680699049394292"
      ]
     },
     "execution_count": 45,
     "metadata": {},
     "output_type": "execute_result"
    }
   ],
   "source": [
    "CIS_MESC_THRESH = np.percentile(cis_mESC_ctrls[\"fdr_cis_mESC\"], 5)\n",
    "CIS_MESC_THRESH"
   ]
  },
  {
   "cell_type": "code",
   "execution_count": 46,
   "metadata": {},
   "outputs": [
    {
     "data": {
      "text/plain": [
       "0.0043537916079706166"
      ]
     },
     "execution_count": 46,
     "metadata": {},
     "output_type": "execute_result"
    }
   ],
   "source": [
    "TRANS_HUMAN_THRESH = np.percentile(trans_human_ctrls[\"fdr_trans_human\"], 5)\n",
    "TRANS_HUMAN_THRESH"
   ]
  },
  {
   "cell_type": "code",
   "execution_count": 47,
   "metadata": {},
   "outputs": [
    {
     "data": {
      "text/plain": [
       "0.0021730207540922755"
      ]
     },
     "execution_count": 47,
     "metadata": {},
     "output_type": "execute_result"
    }
   ],
   "source": [
    "TRANS_MOUSE_THRESH = np.percentile(trans_mouse_ctrls[\"fdr_trans_mouse\"], 5)\n",
    "TRANS_MOUSE_THRESH"
   ]
  },
  {
   "cell_type": "code",
   "execution_count": 48,
   "metadata": {},
   "outputs": [
    {
     "data": {
      "text/plain": [
       "0.83542370624282325"
      ]
     },
     "execution_count": 48,
     "metadata": {},
     "output_type": "execute_result"
    }
   ],
   "source": [
    "INT_THRESH = np.percentile(cis_trans_int_ctrls[\"fdr_int\"], 5)\n",
    "INT_THRESH"
   ]
  },
  {
   "cell_type": "markdown",
   "metadata": {},
   "source": [
    "now re-plot with threshold"
   ]
  },
  {
   "cell_type": "code",
   "execution_count": 49,
   "metadata": {},
   "outputs": [
    {
     "data": {
      "text/html": [
       "<div>\n",
       "<style>\n",
       "    .dataframe thead tr:only-child th {\n",
       "        text-align: right;\n",
       "    }\n",
       "\n",
       "    .dataframe thead th {\n",
       "        text-align: left;\n",
       "    }\n",
       "\n",
       "    .dataframe tbody tr th {\n",
       "        vertical-align: top;\n",
       "    }\n",
       "</style>\n",
       "<table border=\"1\" class=\"dataframe\">\n",
       "  <thead>\n",
       "    <tr style=\"text-align: right;\">\n",
       "      <th></th>\n",
       "      <th>model</th>\n",
       "      <th>n_sig</th>\n",
       "    </tr>\n",
       "  </thead>\n",
       "  <tbody>\n",
       "    <tr>\n",
       "      <th>0</th>\n",
       "      <td>native effects</td>\n",
       "      <td>20</td>\n",
       "    </tr>\n",
       "    <tr>\n",
       "      <th>1</th>\n",
       "      <td>HUES64 cis effects</td>\n",
       "      <td>20</td>\n",
       "    </tr>\n",
       "    <tr>\n",
       "      <th>2</th>\n",
       "      <td>mESC cis effects</td>\n",
       "      <td>20</td>\n",
       "    </tr>\n",
       "    <tr>\n",
       "      <th>3</th>\n",
       "      <td>human trans effects</td>\n",
       "      <td>20</td>\n",
       "    </tr>\n",
       "    <tr>\n",
       "      <th>4</th>\n",
       "      <td>mouse trans effects</td>\n",
       "      <td>20</td>\n",
       "    </tr>\n",
       "    <tr>\n",
       "      <th>5</th>\n",
       "      <td>cis/trans interaction effects</td>\n",
       "      <td>0</td>\n",
       "    </tr>\n",
       "  </tbody>\n",
       "</table>\n",
       "</div>"
      ],
      "text/plain": [
       "                           model  n_sig\n",
       "0                 native effects     20\n",
       "1             HUES64 cis effects     20\n",
       "2               mESC cis effects     20\n",
       "3            human trans effects     20\n",
       "4            mouse trans effects     20\n",
       "5  cis/trans interaction effects      0"
      ]
     },
     "execution_count": 49,
     "metadata": {},
     "output_type": "execute_result"
    }
   ],
   "source": [
    "n_sig_models = {}\n",
    "for model, df, fdr, thresh in zip([\"native effects\", \"HUES64 cis effects\", \"mESC cis effects\", \"human trans effects\",\n",
    "                                   \"mouse trans effects\", \"cis/trans interaction effects\"],\n",
    "                                  [native_ctrls, cis_HUES64_ctrls, cis_mESC_ctrls, trans_human_ctrls, \n",
    "                                   trans_mouse_ctrls, cis_trans_int_ctrls],\n",
    "                                  [\"fdr_native\", \"fdr_cis_HUES64\", \"fdr_cis_mESC\", \"fdr_trans_human\", \n",
    "                                   \"fdr_trans_mouse\", \"fdr_int\"],\n",
    "                                  [NATIVE_THRESH, CIS_HUES64_THRESH, CIS_MESC_THRESH, TRANS_HUMAN_THRESH,\n",
    "                                   TRANS_MOUSE_THRESH, 0.05]):\n",
    "    n_sig = len(df[df[fdr] < thresh])\n",
    "    n_sig_models[model] = [n_sig]\n",
    "n_sig_models = pd.DataFrame.from_dict(n_sig_models, orient=\"index\").reset_index()\n",
    "n_sig_models.columns = [\"model\", \"n_sig\"]\n",
    "n_sig_models"
   ]
  },
  {
   "cell_type": "code",
   "execution_count": 50,
   "metadata": {},
   "outputs": [
    {
     "data": {
      "image/png": "[encoded data removed]",
      "text/plain": [
       "<matplotlib.figure.Figure at 0x2ba137a26198>"
      ]
     },
     "metadata": {},
     "output_type": "display_data"
    }
   ],
   "source": [
    "fig, ax = plt.subplots(figsize=(2.2, 1.5), nrows=1, ncols=1)\n",
    "\n",
    "sns.barplot(data=n_sig_models, x=\"model\", y=\"n_sig\", color=\"darkgray\", ax=ax, order=order)\n",
    "ax.set_xlabel(\"\")\n",
    "ax.set_ylabel(\"number of controls significant\\nat empirical FDR < 0.1\")\n",
    "_ = ax.set_xticklabels(n_sig_models[\"model\"], rotation=50, ha=\"right\", va=\"top\")\n",
    "\n",
    "ax.set_title(\"empirical FDR cut-off\")\n",
    "ax.set_ylim((0, 200))\n",
    "fig.savefig(\"perc_ctrls_sig.thresh.pdf\", dpi=\"figure\", bbox_inches=\"tight\")"
   ]
  },
  {
   "cell_type": "markdown",
   "metadata": {},
   "source": [
    "## 5. plot controls vs. TSSs for each model"
   ]
  },
  {
   "cell_type": "markdown",
   "metadata": {},
   "source": [
    "control boxplots"
   ]
  },
  {
   "cell_type": "code",
   "execution_count": 51,
   "metadata": {
    "scrolled": true
   },
   "outputs": [
    {
     "name": "stdout",
     "output_type": "stream",
     "text": [
      "2.42257755144e-34\n"
     ]
    },
    {
     "data": {
      "image/png": "[encoded data removed]",
      "text/plain": [
       "<matplotlib.figure.Figure at 0x2ba1376865c0>"
      ]
     },
     "metadata": {},
     "output_type": "display_data"
    },
    {
     "name": "stdout",
     "output_type": "stream",
     "text": [
      "9.47205852332e-55\n"
     ]
    },
    {
     "data": {
      "image/png": "[encoded data removed]",
      "text/plain": [
       "<matplotlib.figure.Figure at 0x2ba137686208>"
      ]
     },
     "metadata": {},
     "output_type": "display_data"
    },
    {
     "name": "stdout",
     "output_type": "stream",
     "text": [
      "2.13742891334e-47\n"
     ]
    },
    {
     "data": {
      "image/png": "[encoded data removed]",
      "text/plain": [
       "<matplotlib.figure.Figure at 0x2ba13842ac50>"
      ]
     },
     "metadata": {},
     "output_type": "display_data"
    },
    {
     "name": "stdout",
     "output_type": "stream",
     "text": [
      "0.017860569207\n"
     ]
    },
    {
     "data": {
      "image/png": "[encoded data removed]",
      "text/plain": [
       "<matplotlib.figure.Figure at 0x2ba10bfbeac8>"
      ]
     },
     "metadata": {},
     "output_type": "display_data"
    },
    {
     "name": "stdout",
     "output_type": "stream",
     "text": [
      "0.000507535765034\n"
     ]
    },
    {
     "data": {
      "image/png": "[encoded data removed]",
      "text/plain": [
       "<matplotlib.figure.Figure at 0x2ba1376866d8>"
      ]
     },
     "metadata": {},
     "output_type": "display_data"
    },
    {
     "name": "stdout",
     "output_type": "stream",
     "text": [
      "2.28590122864e-83\n"
     ]
    },
    {
     "data": {
      "image/png": "[encoded data removed]",
      "text/plain": [
       "<matplotlib.figure.Figure at 0x2ba1376820f0>"
      ]
     },
     "metadata": {},
     "output_type": "display_data"
    }
   ],
   "source": [
    "order = [\"control\", \"TSS\"]\n",
    "pal = {\"control\": \"gray\", \"TSS\": \"black\"}\n",
    "\n",
    "models = [\"native\", \"HUES64 cis\", \"mESC cis\", \"human trans\", \"mouse trans\", \"cis/trans interaction\"]\n",
    "dfs = [native, HUES64_cis, mESC_cis, human_trans, mouse_trans, cis_trans_int]\n",
    "logFCs = [\"logFC_native\", \"logFC_cis_HUES64\", \"logFC_cis_mESC\", \"logFC_trans_human\", \"logFC_trans_mouse\", \"logFC_int\"]\n",
    "labels = [\"native\", \"cis_HUES64\", \"cis_mESC\", \"trans_human\", \"trans_mouse\", \"cis_trans_int\"]\n",
    "ylims = [(-0.8, 6), (-0.8, 6), (-0.8, 6), (-0.8, 2.2), (-0.8, 2.2), (-0.8, 2.5)]\n",
    "pxs = [(1.5, 1.4), (1.5, 1.4), (1.5, 1.4), (0.7, 0.7), (0.7, 0.7), (0.6, 0.5)]\n",
    "\n",
    "\n",
    "for model, df, logFC, label, ylim, px in zip(models, dfs, logFCs, labels, ylims, pxs):\n",
    "    df[\"is_ctrl\"] = df.apply(is_ctrl, axis=1)\n",
    "    df[\"abs_logFC\"] = np.abs(df[logFC])\n",
    "    \n",
    "    fig = plt.figure(figsize=(1, 1.75))\n",
    "    ax = sns.boxplot(data=df, x=\"is_ctrl\", y=\"abs_logFC\", flierprops = dict(marker='o', markersize=5), \n",
    "                     order=order, palette=pal)\n",
    "    mimic_r_boxplot(ax)\n",
    "\n",
    "    ax.set_xticklabels([\"negative\\ncontrols\", \"seqs\"], rotation=50, ha='right', va='top')\n",
    "    ax.set_xlabel(\"\")\n",
    "    ax.set_ylabel(r'$\\vert$ %s effect size $\\vert$' % model)\n",
    "\n",
    "    for i, l in enumerate(order):\n",
    "        n = len(df[df[\"is_ctrl\"] == l])\n",
    "        color = pal[l]\n",
    "        ax.annotate(str(n), xy=(i, -0.7), xycoords=\"data\", xytext=(0, 0), \n",
    "                    textcoords=\"offset pixels\", ha='center', va='bottom', \n",
    "                    color=color, size=fontsize)\n",
    "\n",
    "    ax.set_ylim(ylim)\n",
    "\n",
    "    # calc p-vals b/w dists\n",
    "    dist1 = np.asarray(df[df[\"is_ctrl\"] == \"control\"][\"abs_logFC\"])\n",
    "    dist2 = np.asarray(df[df[\"is_ctrl\"] != \"control\"][\"abs_logFC\"])\n",
    "\n",
    "    dist1 = dist1[~np.isnan(dist1)]\n",
    "    dist2 = dist2[~np.isnan(dist2)]\n",
    "\n",
    "    u, pval = stats.mannwhitneyu(dist1, dist2, alternative=\"two-sided\", use_continuity=False)\n",
    "    print(pval)\n",
    "\n",
    "    annotate_pval(ax, 0.2, 0.8, px[0], 0, px[1], pval, fontsize)\n",
    "    plt.show()\n",
    "    fig.savefig(\"%s_ctrl_effectsize_boxplot.pdf\" % label, dpi=\"figure\", bbox_inches=\"tight\")\n",
    "    plt.close()"
   ]
  },
  {
   "cell_type": "markdown",
   "metadata": {},
   "source": [
    "volcano plots"
   ]
  },
  {
   "cell_type": "code",
   "execution_count": 52,
   "metadata": {},
   "outputs": [
    {
     "data": {
      "image/png": "[encoded data removed]",
      "text/plain": [
       "<matplotlib.figure.Figure at 0x2ba1386ec400>"
      ]
     },
     "metadata": {},
     "output_type": "display_data"
    },
    {
     "data": {
      "image/png": "[encoded data removed]",
      "text/plain": [
       "<matplotlib.figure.Figure at 0x2ba137adc3c8>"
      ]
     },
     "metadata": {},
     "output_type": "display_data"
    },
    {
     "data": {
      "image/png": "[encoded data removed]",
      "text/plain": [
       "<matplotlib.figure.Figure at 0x2ba138782f60>"
      ]
     },
     "metadata": {},
     "output_type": "display_data"
    },
    {
     "data": {
      "image/png": "[encoded data removed]",
      "text/plain": [
       "<matplotlib.figure.Figure at 0x2ba13bcc6b00>"
      ]
     },
     "metadata": {},
     "output_type": "display_data"
    },
    {
     "data": {
      "image/png": "[encoded data removed]",
      "text/plain": [
       "<matplotlib.figure.Figure at 0x2ba1386aa8d0>"
      ]
     },
     "metadata": {},
     "output_type": "display_data"
    },
    {
     "data": {
      "image/png": "[encoded data removed]",
      "text/plain": [
       "<matplotlib.figure.Figure at 0x2ba1376cf908>"
      ]
     },
     "metadata": {},
     "output_type": "display_data"
    }
   ],
   "source": [
    "threshs = [NATIVE_THRESH, CIS_HUES64_THRESH, CIS_MESC_THRESH, TRANS_HUMAN_THRESH, TRANS_MOUSE_THRESH, 0.05]\n",
    "fdrs = [\"fdr_native\", \"fdr_cis_HUES64\", \"fdr_cis_mESC\", \"fdr_trans_human\", \"fdr_trans_mouse\", \"fdr_int\"]\n",
    "\n",
    "for model, df, logFC, fdr, label, thresh in zip(models, dfs, logFCs, fdrs, labels, threshs):\n",
    "    df[\"is_ctrl\"] = df.apply(is_ctrl, axis=1)\n",
    "    \n",
    "    neg_ctrls = df[df[\"is_ctrl\"] == \"control\"]\n",
    "    tss = df[df[\"is_ctrl\"] != \"control\"]\n",
    "    \n",
    "    fig, ax = plt.subplots(figsize=(1.75, 1), nrows=1, ncols=1)\n",
    "\n",
    "    ax.scatter(tss[logFC], -np.log10(tss[fdr]), s=10, alpha=0.75, \n",
    "               color=\"black\", linewidths=0.5, edgecolors=\"white\")\n",
    "    ax.scatter(neg_ctrls[logFC], -np.log10(neg_ctrls[fdr]), s=8, alpha=0.5, \n",
    "               color=\"gray\", linewidths=0.5, edgecolors=\"white\")\n",
    "\n",
    "    plt.xlabel(\"%s effect size\" % model)\n",
    "    if model == \"HUES64 cis\":\n",
    "        plt.xlabel(\"hESC cis effect size\")\n",
    "    plt.ylabel(\"-log10(q-value)\")\n",
    "    ax.axhline(y=-np.log10(thresh), color=\"black\", linestyle=\"dashed\")\n",
    "\n",
    "    plt.show()\n",
    "    fig.savefig(\"%s_volcano.ctrls_highlighted.pdf\" % label, dpi=\"figure\", bbox_inches=\"tight\")\n",
    "    plt.close()"
   ]
  },
  {
   "cell_type": "markdown",
   "metadata": {},
   "source": [
    "## 6. split result file indeces"
   ]
  },
  {
   "cell_type": "code",
   "execution_count": 53,
   "metadata": {},
   "outputs": [],
   "source": [
    "native[\"hg19_id\"] = native[\"index\"].str.split(\"__\", expand=True)[0]\n",
    "native[\"biotype_hg19\"] = native[\"index\"].str.split(\"__\", expand=True)[1]\n",
    "native[\"mm9_id\"] = native[\"index\"].str.split(\"__\", expand=True)[2]\n",
    "native[\"biotype_mm9\"] = native[\"index\"].str.split(\"__\", expand=True)[3]\n",
    "native[\"tss_tile_num\"] = native[\"index\"].str.split(\"__\", expand=True)[4]"
   ]
  },
  {
   "cell_type": "code",
   "execution_count": 54,
   "metadata": {},
   "outputs": [],
   "source": [
    "HUES64_cis[\"hg19_id\"] = HUES64_cis[\"index\"].str.split(\"__\", expand=True)[0]\n",
    "HUES64_cis[\"biotype_hg19\"] = HUES64_cis[\"index\"].str.split(\"__\", expand=True)[1]\n",
    "HUES64_cis[\"mm9_id\"] = HUES64_cis[\"index\"].str.split(\"__\", expand=True)[2]\n",
    "HUES64_cis[\"biotype_mm9\"] = HUES64_cis[\"index\"].str.split(\"__\", expand=True)[3]\n",
    "HUES64_cis[\"tss_tile_num\"] = HUES64_cis[\"index\"].str.split(\"__\", expand=True)[4]"
   ]
  },
  {
   "cell_type": "code",
   "execution_count": 55,
   "metadata": {},
   "outputs": [],
   "source": [
    "mESC_cis[\"hg19_id\"] = mESC_cis[\"index\"].str.split(\"__\", expand=True)[0]\n",
    "mESC_cis[\"biotype_hg19\"] = mESC_cis[\"index\"].str.split(\"__\", expand=True)[1]\n",
    "mESC_cis[\"mm9_id\"] = mESC_cis[\"index\"].str.split(\"__\", expand=True)[2]\n",
    "mESC_cis[\"biotype_mm9\"] = mESC_cis[\"index\"].str.split(\"__\", expand=True)[3]\n",
    "mESC_cis[\"tss_tile_num\"] = mESC_cis[\"index\"].str.split(\"__\", expand=True)[4]"
   ]
  },
  {
   "cell_type": "code",
   "execution_count": 56,
   "metadata": {},
   "outputs": [],
   "source": [
    "human_trans[\"hg19_id\"] = human_trans[\"index\"].str.split(\"__\", expand=True)[0]\n",
    "human_trans[\"biotype_hg19\"] = human_trans[\"index\"].str.split(\"__\", expand=True)[1]\n",
    "human_trans[\"mm9_id\"] = human_trans[\"index\"].str.split(\"__\", expand=True)[2]\n",
    "human_trans[\"biotype_mm9\"] = human_trans[\"index\"].str.split(\"__\", expand=True)[3]\n",
    "human_trans[\"tss_tile_num\"] = human_trans[\"index\"].str.split(\"__\", expand=True)[4]"
   ]
  },
  {
   "cell_type": "code",
   "execution_count": 57,
   "metadata": {},
   "outputs": [],
   "source": [
    "mouse_trans[\"hg19_id\"] = mouse_trans[\"index\"].str.split(\"__\", expand=True)[0]\n",
    "mouse_trans[\"biotype_hg19\"] = mouse_trans[\"index\"].str.split(\"__\", expand=True)[1]\n",
    "mouse_trans[\"mm9_id\"] = mouse_trans[\"index\"].str.split(\"__\", expand=True)[2]\n",
    "mouse_trans[\"biotype_mm9\"] = mouse_trans[\"index\"].str.split(\"__\", expand=True)[3]\n",
    "mouse_trans[\"tss_tile_num\"] = mouse_trans[\"index\"].str.split(\"__\", expand=True)[4]"
   ]
  },
  {
   "cell_type": "code",
   "execution_count": 58,
   "metadata": {},
   "outputs": [],
   "source": [
    "cis_trans_int[\"hg19_id\"] = cis_trans_int[\"index\"].str.split(\"__\", expand=True)[0]\n",
    "cis_trans_int[\"biotype_hg19\"] = cis_trans_int[\"index\"].str.split(\"__\", expand=True)[1]\n",
    "cis_trans_int[\"mm9_id\"] = cis_trans_int[\"index\"].str.split(\"__\", expand=True)[2]\n",
    "cis_trans_int[\"biotype_mm9\"] = cis_trans_int[\"index\"].str.split(\"__\", expand=True)[3]\n",
    "cis_trans_int[\"tss_tile_num\"] = cis_trans_int[\"index\"].str.split(\"__\", expand=True)[4]"
   ]
  },
  {
   "cell_type": "markdown",
   "metadata": {},
   "source": [
    "## 7. merge result files w/ activity data"
   ]
  },
  {
   "cell_type": "code",
   "execution_count": 59,
   "metadata": {},
   "outputs": [
    {
     "data": {
      "text/plain": [
       "2952"
      ]
     },
     "execution_count": 59,
     "metadata": {},
     "output_type": "execute_result"
    }
   ],
   "source": [
    "len(data)"
   ]
  },
  {
   "cell_type": "code",
   "execution_count": 60,
   "metadata": {},
   "outputs": [
    {
     "data": {
      "text/plain": [
       "3352"
      ]
     },
     "execution_count": 60,
     "metadata": {},
     "output_type": "execute_result"
    }
   ],
   "source": [
    "tmp = data.merge(native[[\"hg19_id\", \"mm9_id\", \"tss_tile_num\", \"logFC_native\", \"fdr_native\"]], \n",
    "                 on=[\"hg19_id\", \"mm9_id\", \"tss_tile_num\"], how=\"right\")\n",
    "len(tmp)"
   ]
  },
  {
   "cell_type": "code",
   "execution_count": 61,
   "metadata": {},
   "outputs": [
    {
     "data": {
      "text/plain": [
       "3352"
      ]
     },
     "execution_count": 61,
     "metadata": {},
     "output_type": "execute_result"
    }
   ],
   "source": [
    "tmp = tmp.merge(HUES64_cis[[\"hg19_id\", \"mm9_id\", \"tss_tile_num\", \"logFC_cis_HUES64\", \"fdr_cis_HUES64\"]], \n",
    "                on=[\"hg19_id\", \"mm9_id\", \"tss_tile_num\"], how=\"right\")\n",
    "len(tmp)"
   ]
  },
  {
   "cell_type": "code",
   "execution_count": 62,
   "metadata": {},
   "outputs": [
    {
     "data": {
      "text/plain": [
       "3352"
      ]
     },
     "execution_count": 62,
     "metadata": {},
     "output_type": "execute_result"
    }
   ],
   "source": [
    "tmp = tmp.merge(mESC_cis[[\"hg19_id\", \"mm9_id\", \"tss_tile_num\", \"logFC_cis_mESC\", \"fdr_cis_mESC\"]], \n",
    "                on=[\"hg19_id\", \"mm9_id\", \"tss_tile_num\"], how=\"right\")\n",
    "len(tmp)"
   ]
  },
  {
   "cell_type": "code",
   "execution_count": 63,
   "metadata": {},
   "outputs": [
    {
     "data": {
      "text/plain": [
       "3352"
      ]
     },
     "execution_count": 63,
     "metadata": {},
     "output_type": "execute_result"
    }
   ],
   "source": [
    "tmp = tmp.merge(human_trans[[\"hg19_id\", \"mm9_id\", \"tss_tile_num\", \"logFC_trans_human\", \"fdr_trans_human\"]], \n",
    "                on=[\"hg19_id\", \"mm9_id\", \"tss_tile_num\"], how=\"right\")\n",
    "len(tmp)"
   ]
  },
  {
   "cell_type": "code",
   "execution_count": 64,
   "metadata": {},
   "outputs": [
    {
     "data": {
      "text/plain": [
       "3352"
      ]
     },
     "execution_count": 64,
     "metadata": {},
     "output_type": "execute_result"
    }
   ],
   "source": [
    "tmp = tmp.merge(mouse_trans[[\"hg19_id\", \"mm9_id\", \"tss_tile_num\", \"logFC_trans_mouse\", \"fdr_trans_mouse\"]], \n",
    "                on=[\"hg19_id\", \"mm9_id\", \"tss_tile_num\"], how=\"right\")\n",
    "len(tmp)"
   ]
  },
  {
   "cell_type": "code",
   "execution_count": 65,
   "metadata": {},
   "outputs": [
    {
     "name": "stdout",
     "output_type": "stream",
     "text": [
      "3352\n"
     ]
    },
    {
     "data": {
      "text/html": [
       "<div>\n",
       "<style>\n",
       "    .dataframe thead tr:only-child th {\n",
       "        text-align: right;\n",
       "    }\n",
       "\n",
       "    .dataframe thead th {\n",
       "        text-align: left;\n",
       "    }\n",
       "\n",
       "    .dataframe tbody tr th {\n",
       "        vertical-align: top;\n",
       "    }\n",
       "</style>\n",
       "<table border=\"1\" class=\"dataframe\">\n",
       "  <thead>\n",
       "    <tr style=\"text-align: right;\">\n",
       "      <th></th>\n",
       "      <th>hg19_id</th>\n",
       "      <th>chr_tss_hg19</th>\n",
       "      <th>start_tss_hg19</th>\n",
       "      <th>biotype_hg19</th>\n",
       "      <th>minimal_biotype_hg19</th>\n",
       "      <th>cage_id_hg19</th>\n",
       "      <th>name_peak_hg19</th>\n",
       "      <th>stem_exp_hg19</th>\n",
       "      <th>max_cage_hg19</th>\n",
       "      <th>mm9_id</th>\n",
       "      <th>...</th>\n",
       "      <th>logFC_cis_HUES64</th>\n",
       "      <th>fdr_cis_HUES64</th>\n",
       "      <th>logFC_cis_mESC</th>\n",
       "      <th>fdr_cis_mESC</th>\n",
       "      <th>logFC_trans_human</th>\n",
       "      <th>fdr_trans_human</th>\n",
       "      <th>logFC_trans_mouse</th>\n",
       "      <th>fdr_trans_mouse</th>\n",
       "      <th>logFC_int</th>\n",
       "      <th>fdr_int</th>\n",
       "    </tr>\n",
       "  </thead>\n",
       "  <tbody>\n",
       "    <tr>\n",
       "      <th>2942</th>\n",
       "      <td>h.3568</td>\n",
       "      <td>chr4</td>\n",
       "      <td>151102841.0</td>\n",
       "      <td>no cage activity</td>\n",
       "      <td>no CAGE activity</td>\n",
       "      <td>no cage activity</td>\n",
       "      <td>no cage activity</td>\n",
       "      <td>no cage activity</td>\n",
       "      <td>1.0</td>\n",
       "      <td>m.3378</td>\n",
       "      <td>...</td>\n",
       "      <td>1.724931</td>\n",
       "      <td>2.010247e-09</td>\n",
       "      <td>1.776946</td>\n",
       "      <td>7.576245e-10</td>\n",
       "      <td>0.579945</td>\n",
       "      <td>0.060932</td>\n",
       "      <td>0.640718</td>\n",
       "      <td>0.000094</td>\n",
       "      <td>0.099626</td>\n",
       "      <td>0.991115</td>\n",
       "    </tr>\n",
       "    <tr>\n",
       "      <th>1570</th>\n",
       "      <td>h.2511</td>\n",
       "      <td>chr16</td>\n",
       "      <td>53124972.0</td>\n",
       "      <td>enhancer</td>\n",
       "      <td>eRNA</td>\n",
       "      <td>chr16:53124874-53125001</td>\n",
       "      <td>chr16:53124874-53125001__POSITIVE</td>\n",
       "      <td>0.0287066</td>\n",
       "      <td>177.0</td>\n",
       "      <td>m.2323</td>\n",
       "      <td>...</td>\n",
       "      <td>-0.723110</td>\n",
       "      <td>1.781123e-02</td>\n",
       "      <td>-0.218478</td>\n",
       "      <td>5.215866e-01</td>\n",
       "      <td>-0.401297</td>\n",
       "      <td>0.082221</td>\n",
       "      <td>0.139765</td>\n",
       "      <td>0.609758</td>\n",
       "      <td>0.585777</td>\n",
       "      <td>0.482010</td>\n",
       "    </tr>\n",
       "    <tr>\n",
       "      <th>2858</th>\n",
       "      <td>h.3092</td>\n",
       "      <td>chr17</td>\n",
       "      <td>47964814.0</td>\n",
       "      <td>no cage activity</td>\n",
       "      <td>no CAGE activity</td>\n",
       "      <td>no cage activity</td>\n",
       "      <td>no cage activity</td>\n",
       "      <td>no cage activity</td>\n",
       "      <td>5.0</td>\n",
       "      <td>m.2903</td>\n",
       "      <td>...</td>\n",
       "      <td>-0.876929</td>\n",
       "      <td>8.523096e-05</td>\n",
       "      <td>-0.997746</td>\n",
       "      <td>1.237634e-05</td>\n",
       "      <td>0.344922</td>\n",
       "      <td>0.087566</td>\n",
       "      <td>0.161653</td>\n",
       "      <td>0.578726</td>\n",
       "      <td>-0.066833</td>\n",
       "      <td>0.991115</td>\n",
       "    </tr>\n",
       "    <tr>\n",
       "      <th>999</th>\n",
       "      <td>h.1550</td>\n",
       "      <td>chr12</td>\n",
       "      <td>76425020.0</td>\n",
       "      <td>antisense</td>\n",
       "      <td>other</td>\n",
       "      <td>chr12:76425003..76425035,+</td>\n",
       "      <td>ENSG00000257453.1</td>\n",
       "      <td>0.154444</td>\n",
       "      <td>755.0</td>\n",
       "      <td>m.1362</td>\n",
       "      <td>...</td>\n",
       "      <td>-0.456065</td>\n",
       "      <td>5.831487e-02</td>\n",
       "      <td>-0.252783</td>\n",
       "      <td>2.977530e-01</td>\n",
       "      <td>0.026434</td>\n",
       "      <td>0.894621</td>\n",
       "      <td>0.140834</td>\n",
       "      <td>0.610544</td>\n",
       "      <td>0.168460</td>\n",
       "      <td>0.963892</td>\n",
       "    </tr>\n",
       "    <tr>\n",
       "      <th>1820</th>\n",
       "      <td>h.2786</td>\n",
       "      <td>chr18</td>\n",
       "      <td>3448180.0</td>\n",
       "      <td>no cage activity</td>\n",
       "      <td>lncRNA</td>\n",
       "      <td>no cage activity</td>\n",
       "      <td>no cage activity</td>\n",
       "      <td>no cage activity</td>\n",
       "      <td>274.0</td>\n",
       "      <td>m.2597</td>\n",
       "      <td>...</td>\n",
       "      <td>0.314288</td>\n",
       "      <td>3.774923e-01</td>\n",
       "      <td>0.526971</td>\n",
       "      <td>1.553810e-01</td>\n",
       "      <td>-0.265220</td>\n",
       "      <td>0.409422</td>\n",
       "      <td>-0.159394</td>\n",
       "      <td>0.577851</td>\n",
       "      <td>0.120291</td>\n",
       "      <td>0.991115</td>\n",
       "    </tr>\n",
       "  </tbody>\n",
       "</table>\n",
       "<p>5 rows × 41 columns</p>\n",
       "</div>"
      ],
      "text/plain": [
       "     hg19_id chr_tss_hg19  start_tss_hg19      biotype_hg19  \\\n",
       "2942  h.3568         chr4     151102841.0  no cage activity   \n",
       "1570  h.2511        chr16      53124972.0          enhancer   \n",
       "2858  h.3092        chr17      47964814.0  no cage activity   \n",
       "999   h.1550        chr12      76425020.0         antisense   \n",
       "1820  h.2786        chr18       3448180.0  no cage activity   \n",
       "\n",
       "     minimal_biotype_hg19                cage_id_hg19  \\\n",
       "2942     no CAGE activity            no cage activity   \n",
       "1570                 eRNA     chr16:53124874-53125001   \n",
       "2858     no CAGE activity            no cage activity   \n",
       "999                 other  chr12:76425003..76425035,+   \n",
       "1820               lncRNA            no cage activity   \n",
       "\n",
       "                         name_peak_hg19     stem_exp_hg19  max_cage_hg19  \\\n",
       "2942                   no cage activity  no cage activity            1.0   \n",
       "1570  chr16:53124874-53125001__POSITIVE         0.0287066          177.0   \n",
       "2858                   no cage activity  no cage activity            5.0   \n",
       "999                   ENSG00000257453.1          0.154444          755.0   \n",
       "1820                   no cage activity  no cage activity          274.0   \n",
       "\n",
       "      mm9_id    ...    logFC_cis_HUES64  fdr_cis_HUES64 logFC_cis_mESC  \\\n",
       "2942  m.3378    ...            1.724931    2.010247e-09       1.776946   \n",
       "1570  m.2323    ...           -0.723110    1.781123e-02      -0.218478   \n",
       "2858  m.2903    ...           -0.876929    8.523096e-05      -0.997746   \n",
       "999   m.1362    ...           -0.456065    5.831487e-02      -0.252783   \n",
       "1820  m.2597    ...            0.314288    3.774923e-01       0.526971   \n",
       "\n",
       "      fdr_cis_mESC logFC_trans_human fdr_trans_human logFC_trans_mouse  \\\n",
       "2942  7.576245e-10          0.579945        0.060932          0.640718   \n",
       "1570  5.215866e-01         -0.401297        0.082221          0.139765   \n",
       "2858  1.237634e-05          0.344922        0.087566          0.161653   \n",
       "999   2.977530e-01          0.026434        0.894621          0.140834   \n",
       "1820  1.553810e-01         -0.265220        0.409422         -0.159394   \n",
       "\n",
       "      fdr_trans_mouse logFC_int   fdr_int  \n",
       "2942         0.000094  0.099626  0.991115  \n",
       "1570         0.609758  0.585777  0.482010  \n",
       "2858         0.578726 -0.066833  0.991115  \n",
       "999          0.610544  0.168460  0.963892  \n",
       "1820         0.577851  0.120291  0.991115  \n",
       "\n",
       "[5 rows x 41 columns]"
      ]
     },
     "execution_count": 65,
     "metadata": {},
     "output_type": "execute_result"
    }
   ],
   "source": [
    "tmp = tmp.merge(cis_trans_int[[\"hg19_id\", \"mm9_id\", \"tss_tile_num\", \"logFC_int\", \"fdr_int\"]], \n",
    "                on=[\"hg19_id\", \"mm9_id\", \"tss_tile_num\"], how=\"right\")\n",
    "print(len(tmp))\n",
    "tmp.sample(5)"
   ]
  },
  {
   "cell_type": "code",
   "execution_count": 66,
   "metadata": {},
   "outputs": [],
   "source": [
    "data = tmp.copy()"
   ]
  },
  {
   "cell_type": "code",
   "execution_count": 67,
   "metadata": {},
   "outputs": [
    {
     "data": {
      "text/plain": [
       "Index(['hg19_id', 'chr_tss_hg19', 'start_tss_hg19', 'biotype_hg19',\n",
       "       'minimal_biotype_hg19', 'cage_id_hg19', 'name_peak_hg19',\n",
       "       'stem_exp_hg19', 'max_cage_hg19', 'mm9_id', 'chr_tss_mm9',\n",
       "       'start_tss_mm9', 'biotype_mm9', 'minimal_biotype_mm9', 'cage_id_mm9',\n",
       "       'name_peak_mm9', 'stem_exp_mm9', 'max_cage_mm9', 'tss_tile_num',\n",
       "       'orig_species', 'biotype_switch_minimal', 'HUES64_hg19', 'mESC_hg19',\n",
       "       'HUES64_mm9', 'mESC_mm9', 'HUES64_padj_hg19', 'mESC_padj_hg19',\n",
       "       'HUES64_padj_mm9', 'mESC_padj_mm9', 'logFC_native', 'fdr_native',\n",
       "       'logFC_cis_HUES64', 'fdr_cis_HUES64', 'logFC_cis_mESC', 'fdr_cis_mESC',\n",
       "       'logFC_trans_human', 'fdr_trans_human', 'logFC_trans_mouse',\n",
       "       'fdr_trans_mouse', 'logFC_int', 'fdr_int'],\n",
       "      dtype='object')"
      ]
     },
     "execution_count": 67,
     "metadata": {},
     "output_type": "execute_result"
    }
   ],
   "source": [
    "data.columns"
   ]
  },
  {
   "cell_type": "markdown",
   "metadata": {},
   "source": [
    "## 8. classify comparison effects as sig vs. not sig"
   ]
  },
  {
   "cell_type": "code",
   "execution_count": 68,
   "metadata": {},
   "outputs": [],
   "source": [
    "data[\"native_status\"] = data.apply(comp_status, fdr_col=\"fdr_native\", thresh=NATIVE_THRESH, txt=\"native\", axis=1)\n",
    "data[\"cis_HUES64_status\"] = data.apply(comp_status, fdr_col=\"fdr_cis_HUES64\", thresh=CIS_HUES64_THRESH, \n",
    "                                       txt=\"cis\", axis=1)\n",
    "data[\"cis_mESC_status\"] = data.apply(comp_status, fdr_col=\"fdr_cis_mESC\", thresh=CIS_MESC_THRESH, txt=\"cis\", axis=1)\n",
    "data[\"trans_human_status\"] = data.apply(comp_status, fdr_col=\"fdr_trans_human\", thresh=TRANS_HUMAN_THRESH,\n",
    "                                        txt=\"trans\", axis=1)\n",
    "data[\"trans_mouse_status\"] = data.apply(comp_status, fdr_col=\"fdr_trans_mouse\", thresh=TRANS_MOUSE_THRESH,\n",
    "                                        txt=\"trans\", axis=1)\n",
    "data[\"cis_trans_int_status\"] = data.apply(comp_status, fdr_col=\"fdr_int\", thresh=0.05, txt=\"cis/trans int.\", axis=1)"
   ]
  },
  {
   "cell_type": "code",
   "execution_count": 69,
   "metadata": {},
   "outputs": [],
   "source": [
    "# data[\"native_status\"] = data.apply(comp_status, fdr_col=\"fdr_native\", thresh=0.05, txt=\"native\", axis=1)\n",
    "# data[\"cis_HUES64_status\"] = data.apply(comp_status, fdr_col=\"fdr_cis_HUES64\", thresh=0.05, \n",
    "#                                        txt=\"cis\", axis=1)\n",
    "# data[\"cis_mESC_status\"] = data.apply(comp_status, fdr_col=\"fdr_cis_mESC\", thresh=0.05, txt=\"cis\", axis=1)\n",
    "# data[\"trans_human_status\"] = data.apply(comp_status, fdr_col=\"fdr_trans_human\", thresh=0.05,\n",
    "#                                         txt=\"trans\", axis=1)\n",
    "# data[\"trans_mouse_status\"] = data.apply(comp_status, fdr_col=\"fdr_trans_mouse\", thresh=0.05,\n",
    "#                                         txt=\"trans\", axis=1)\n",
    "# data[\"cis_trans_int_status\"] = data.apply(comp_status, fdr_col=\"fdr_int\", thresh=0.05, txt=\"cis/trans int.\", axis=1)"
   ]
  },
  {
   "cell_type": "code",
   "execution_count": 70,
   "metadata": {},
   "outputs": [
    {
     "data": {
      "text/html": [
       "<div>\n",
       "<style>\n",
       "    .dataframe thead tr:only-child th {\n",
       "        text-align: right;\n",
       "    }\n",
       "\n",
       "    .dataframe thead th {\n",
       "        text-align: left;\n",
       "    }\n",
       "\n",
       "    .dataframe tbody tr th {\n",
       "        vertical-align: top;\n",
       "    }\n",
       "</style>\n",
       "<table border=\"1\" class=\"dataframe\">\n",
       "  <thead>\n",
       "    <tr style=\"text-align: right;\">\n",
       "      <th></th>\n",
       "      <th>hg19_id</th>\n",
       "      <th>chr_tss_hg19</th>\n",
       "      <th>start_tss_hg19</th>\n",
       "      <th>biotype_hg19</th>\n",
       "      <th>minimal_biotype_hg19</th>\n",
       "      <th>cage_id_hg19</th>\n",
       "      <th>name_peak_hg19</th>\n",
       "      <th>stem_exp_hg19</th>\n",
       "      <th>max_cage_hg19</th>\n",
       "      <th>mm9_id</th>\n",
       "      <th>...</th>\n",
       "      <th>logFC_trans_mouse</th>\n",
       "      <th>fdr_trans_mouse</th>\n",
       "      <th>logFC_int</th>\n",
       "      <th>fdr_int</th>\n",
       "      <th>native_status</th>\n",
       "      <th>cis_HUES64_status</th>\n",
       "      <th>cis_mESC_status</th>\n",
       "      <th>trans_human_status</th>\n",
       "      <th>trans_mouse_status</th>\n",
       "      <th>cis_trans_int_status</th>\n",
       "    </tr>\n",
       "  </thead>\n",
       "  <tbody>\n",
       "    <tr>\n",
       "      <th>1873</th>\n",
       "      <td>h.2883</td>\n",
       "      <td>chr2</td>\n",
       "      <td>26100437.0</td>\n",
       "      <td>no cage activity</td>\n",
       "      <td>other</td>\n",
       "      <td>no cage activity</td>\n",
       "      <td>no cage activity</td>\n",
       "      <td>no cage activity</td>\n",
       "      <td>162.0</td>\n",
       "      <td>m.2694</td>\n",
       "      <td>...</td>\n",
       "      <td>-0.727366</td>\n",
       "      <td>0.000057</td>\n",
       "      <td>-0.443259</td>\n",
       "      <td>0.440107</td>\n",
       "      <td>significant native effect</td>\n",
       "      <td>no cis effect</td>\n",
       "      <td>significant cis effect</td>\n",
       "      <td>no trans effect</td>\n",
       "      <td>significant trans effect</td>\n",
       "      <td>no cis/trans int. effect</td>\n",
       "    </tr>\n",
       "    <tr>\n",
       "      <th>2644</th>\n",
       "      <td>h.1857</td>\n",
       "      <td>chr21</td>\n",
       "      <td>46221794.0</td>\n",
       "      <td>divergent</td>\n",
       "      <td>lncRNA</td>\n",
       "      <td>chr21:46221779..46221809,+</td>\n",
       "      <td>ENSG00000236519.1</td>\n",
       "      <td>0.946667</td>\n",
       "      <td>1198.0</td>\n",
       "      <td>m.1669</td>\n",
       "      <td>...</td>\n",
       "      <td>-0.434697</td>\n",
       "      <td>0.035701</td>\n",
       "      <td>-0.964024</td>\n",
       "      <td>0.146544</td>\n",
       "      <td>significant native effect</td>\n",
       "      <td>significant cis effect</td>\n",
       "      <td>no cis effect</td>\n",
       "      <td>no trans effect</td>\n",
       "      <td>no trans effect</td>\n",
       "      <td>no cis/trans int. effect</td>\n",
       "    </tr>\n",
       "    <tr>\n",
       "      <th>2016</th>\n",
       "      <td>h.3121</td>\n",
       "      <td>chr1</td>\n",
       "      <td>22352413.0</td>\n",
       "      <td>no cage activity</td>\n",
       "      <td>lncRNA</td>\n",
       "      <td>no cage activity</td>\n",
       "      <td>no cage activity</td>\n",
       "      <td>no cage activity</td>\n",
       "      <td>39.0</td>\n",
       "      <td>m.2932</td>\n",
       "      <td>...</td>\n",
       "      <td>0.060077</td>\n",
       "      <td>0.808415</td>\n",
       "      <td>0.091591</td>\n",
       "      <td>0.991115</td>\n",
       "      <td>no native effect</td>\n",
       "      <td>no cis effect</td>\n",
       "      <td>no cis effect</td>\n",
       "      <td>no trans effect</td>\n",
       "      <td>no trans effect</td>\n",
       "      <td>no cis/trans int. effect</td>\n",
       "    </tr>\n",
       "    <tr>\n",
       "      <th>1581</th>\n",
       "      <td>h.2531</td>\n",
       "      <td>chr2</td>\n",
       "      <td>151719496.0</td>\n",
       "      <td>enhancer</td>\n",
       "      <td>eRNA</td>\n",
       "      <td>chr2:151719468-151719497</td>\n",
       "      <td>chr2:151719468-151719497__POSITIVE</td>\n",
       "      <td>0.039043800000000004</td>\n",
       "      <td>6.0</td>\n",
       "      <td>m.2343</td>\n",
       "      <td>...</td>\n",
       "      <td>0.377546</td>\n",
       "      <td>0.263144</td>\n",
       "      <td>-0.310770</td>\n",
       "      <td>0.900129</td>\n",
       "      <td>no native effect</td>\n",
       "      <td>no cis effect</td>\n",
       "      <td>no cis effect</td>\n",
       "      <td>no trans effect</td>\n",
       "      <td>no trans effect</td>\n",
       "      <td>no cis/trans int. effect</td>\n",
       "    </tr>\n",
       "    <tr>\n",
       "      <th>1312</th>\n",
       "      <td>h.2087</td>\n",
       "      <td>chr11</td>\n",
       "      <td>65266063.0</td>\n",
       "      <td>intergenic</td>\n",
       "      <td>lncRNA</td>\n",
       "      <td>chr11:65266057..65266080,+</td>\n",
       "      <td>ENSG00000251562.3</td>\n",
       "      <td>0.028888900000000002</td>\n",
       "      <td>297.0</td>\n",
       "      <td>m.1899</td>\n",
       "      <td>...</td>\n",
       "      <td>-0.004035</td>\n",
       "      <td>0.983580</td>\n",
       "      <td>0.239466</td>\n",
       "      <td>0.905592</td>\n",
       "      <td>no native effect</td>\n",
       "      <td>no cis effect</td>\n",
       "      <td>no cis effect</td>\n",
       "      <td>no trans effect</td>\n",
       "      <td>no trans effect</td>\n",
       "      <td>no cis/trans int. effect</td>\n",
       "    </tr>\n",
       "  </tbody>\n",
       "</table>\n",
       "<p>5 rows × 47 columns</p>\n",
       "</div>"
      ],
      "text/plain": [
       "     hg19_id chr_tss_hg19  start_tss_hg19      biotype_hg19  \\\n",
       "1873  h.2883         chr2      26100437.0  no cage activity   \n",
       "2644  h.1857        chr21      46221794.0         divergent   \n",
       "2016  h.3121         chr1      22352413.0  no cage activity   \n",
       "1581  h.2531         chr2     151719496.0          enhancer   \n",
       "1312  h.2087        chr11      65266063.0        intergenic   \n",
       "\n",
       "     minimal_biotype_hg19                cage_id_hg19  \\\n",
       "1873                other            no cage activity   \n",
       "2644               lncRNA  chr21:46221779..46221809,+   \n",
       "2016               lncRNA            no cage activity   \n",
       "1581                 eRNA    chr2:151719468-151719497   \n",
       "1312               lncRNA  chr11:65266057..65266080,+   \n",
       "\n",
       "                          name_peak_hg19         stem_exp_hg19  max_cage_hg19  \\\n",
       "1873                    no cage activity      no cage activity          162.0   \n",
       "2644                   ENSG00000236519.1              0.946667         1198.0   \n",
       "2016                    no cage activity      no cage activity           39.0   \n",
       "1581  chr2:151719468-151719497__POSITIVE  0.039043800000000004            6.0   \n",
       "1312                   ENSG00000251562.3  0.028888900000000002          297.0   \n",
       "\n",
       "      mm9_id            ...            logFC_trans_mouse  fdr_trans_mouse  \\\n",
       "1873  m.2694            ...                    -0.727366         0.000057   \n",
       "2644  m.1669            ...                    -0.434697         0.035701   \n",
       "2016  m.2932            ...                     0.060077         0.808415   \n",
       "1581  m.2343            ...                     0.377546         0.263144   \n",
       "1312  m.1899            ...                    -0.004035         0.983580   \n",
       "\n",
       "     logFC_int   fdr_int              native_status       cis_HUES64_status  \\\n",
       "1873 -0.443259  0.440107  significant native effect           no cis effect   \n",
       "2644 -0.964024  0.146544  significant native effect  significant cis effect   \n",
       "2016  0.091591  0.991115           no native effect           no cis effect   \n",
       "1581 -0.310770  0.900129           no native effect           no cis effect   \n",
       "1312  0.239466  0.905592           no native effect           no cis effect   \n",
       "\n",
       "             cis_mESC_status  trans_human_status        trans_mouse_status  \\\n",
       "1873  significant cis effect     no trans effect  significant trans effect   \n",
       "2644           no cis effect     no trans effect           no trans effect   \n",
       "2016           no cis effect     no trans effect           no trans effect   \n",
       "1581           no cis effect     no trans effect           no trans effect   \n",
       "1312           no cis effect     no trans effect           no trans effect   \n",
       "\n",
       "          cis_trans_int_status  \n",
       "1873  no cis/trans int. effect  \n",
       "2644  no cis/trans int. effect  \n",
       "2016  no cis/trans int. effect  \n",
       "1581  no cis/trans int. effect  \n",
       "1312  no cis/trans int. effect  \n",
       "\n",
       "[5 rows x 47 columns]"
      ]
     },
     "execution_count": 70,
     "metadata": {},
     "output_type": "execute_result"
    }
   ],
   "source": [
    "data.sample(5)"
   ]
  },
  {
   "cell_type": "markdown",
   "metadata": {},
   "source": [
    "## 9. compare l2fcs for elements called significant for each biotype & re-classify"
   ]
  },
  {
   "cell_type": "code",
   "execution_count": 71,
   "metadata": {},
   "outputs": [],
   "source": [
    "min_order = [\"no CAGE activity\", \"eRNA\", \"lncRNA\", \"mRNA\", \"other\"]\n",
    "palette = sns.husl_palette(n_colors=len(min_order))"
   ]
  },
  {
   "cell_type": "code",
   "execution_count": 72,
   "metadata": {},
   "outputs": [
    {
     "name": "stdout",
     "output_type": "stream",
     "text": [
      "0.634655810316\n"
     ]
    },
    {
     "data": {
      "image/png": "[encoded data removed]",
      "text/plain": [
       "<matplotlib.figure.Figure at 0x2ba13c010a90>"
      ]
     },
     "metadata": {},
     "output_type": "display_data"
    },
    {
     "name": "stdout",
     "output_type": "stream",
     "text": [
      "0.618433199293\n"
     ]
    },
    {
     "data": {
      "image/png": "[encoded data removed]",
      "text/plain": [
       "<matplotlib.figure.Figure at 0x2ba13bf965c0>"
      ]
     },
     "metadata": {},
     "output_type": "display_data"
    },
    {
     "name": "stdout",
     "output_type": "stream",
     "text": [
      "0.440755598097\n"
     ]
    },
    {
     "data": {
      "image/png": "[encoded data removed]",
      "text/plain": [
       "<matplotlib.figure.Figure at 0x2ba13be81da0>"
      ]
     },
     "metadata": {},
     "output_type": "display_data"
    },
    {
     "name": "stdout",
     "output_type": "stream",
     "text": [
      "0.292565645359\n"
     ]
    },
    {
     "data": {
      "image/png": "[encoded data removed]",
      "text/plain": [
       "<matplotlib.figure.Figure at 0x2ba13bd7ccc0>"
      ]
     },
     "metadata": {},
     "output_type": "display_data"
    },
    {
     "name": "stdout",
     "output_type": "stream",
     "text": [
      "0.341798075047\n"
     ]
    },
    {
     "data": {
      "image/png": "[encoded data removed]",
      "text/plain": [
       "<matplotlib.figure.Figure at 0x2ba13bcfd9e8>"
      ]
     },
     "metadata": {},
     "output_type": "display_data"
    },
    {
     "name": "stdout",
     "output_type": "stream",
     "text": [
      "nan\n"
     ]
    },
    {
     "data": {
      "image/png": "[encoded data removed]",
      "text/plain": [
       "<matplotlib.figure.Figure at 0x2ba13c3bd240>"
      ]
     },
     "metadata": {},
     "output_type": "display_data"
    }
   ],
   "source": [
    "l2fc_cols = [\"logFC_native\", \"logFC_cis_HUES64\", \"logFC_cis_mESC\", \"logFC_trans_human\", \"logFC_trans_mouse\", \n",
    "             \"logFC_int\"]\n",
    "sig_cols = [\"native_status\", \"cis_HUES64_status\", \"cis_mESC_status\", \"trans_human_status\", \"trans_mouse_status\",\n",
    "            \"cis_trans_int_status\"]\n",
    "xlabels = [\"native effect size\", \"cis effect size (HUES64)\", \"cis effect size (mESC)\", \"trans effect size (human)\",\n",
    "           \"trans effect size (mouse)\", \"cis/trans interaction effect size\"]\n",
    "xs = [1, 0.9, 0.8, 0.4, 0.4, 0]\n",
    "min_vals = []\n",
    "\n",
    "for l2fc_col, sig_col, xlabel, x in zip(l2fc_cols, sig_cols, xlabels, xs):\n",
    "    \n",
    "    fig, ax = plt.subplots(figsize=(2, 1.5), nrows=1, ncols=1)\n",
    "    filt = data[((data[\"HUES64_padj_hg19\"] < QUANT_ALPHA) | (data[\"mESC_padj_mm9\"] < QUANT_ALPHA))]\n",
    "    ctrls = np.abs(data[data[\"hg19_id\"].str.contains(\"ctrl.\")][l2fc_col])\n",
    "    \n",
    "    sig_ctrls = data[(data[\"hg19_id\"].str.contains(\"ctrl.\")) & (data[sig_col].str.contains(\"significant\"))][l2fc_col]\n",
    "    min_val = np.min(np.abs(sig_ctrls))\n",
    "    print(min_val)\n",
    "    min_vals.append(min_val)\n",
    "    \n",
    "    sns.distplot(ctrls, hist=False, color=\"gray\", label=\"neg. ctrls (n=%s)\" % len(ctrls), ax=ax)\n",
    "    \n",
    "    sub = filt[~filt[sig_col].str.contains(\"no \")]\n",
    "    for i, label in enumerate(min_order):\n",
    "        \n",
    "        vals = np.abs(sub[sub[\"minimal_biotype_hg19\"] == label][l2fc_col])\n",
    "        sns.distplot(vals, hist=False, color=palette[i], label=\"%s (n=%s)\" % (label, len(vals)), ax=ax)\n",
    "    \n",
    "    ax.set_xlabel(xlabel)\n",
    "    ax.set_ylabel(\"density\")\n",
    "    ax.axvline(x=x, linestyle=\"dashed\", color=\"black\")\n",
    "    plt.legend(loc=2, bbox_to_anchor=(1.05, 1))\n",
    "    plt.show()\n",
    "    fig.savefig(\"%s_effect_size_dist.pdf\" % l2fc_col, dpi=\"figure\", bbox_inches=\"tight\")\n",
    "    plt.close()"
   ]
  },
  {
   "cell_type": "code",
   "execution_count": 73,
   "metadata": {},
   "outputs": [
    {
     "data": {
      "text/plain": [
       "no native effect             2757\n",
       "significant native effect     595\n",
       "Name: native_status, dtype: int64"
      ]
     },
     "execution_count": 73,
     "metadata": {},
     "output_type": "execute_result"
    }
   ],
   "source": [
    "data.native_status.value_counts()"
   ]
  },
  {
   "cell_type": "code",
   "execution_count": 74,
   "metadata": {},
   "outputs": [],
   "source": [
    "data[\"native_status\"] = data.apply(comp_status_stringent, status_col=\"native_status\", \n",
    "                                   l2fc_col=\"logFC_native\", l2fc_thresh=min_vals[0], txt=\"native\", axis=1)\n",
    "data[\"cis_HUES64_status\"] = data.apply(comp_status_stringent, status_col=\"cis_HUES64_status\",  \n",
    "                                       l2fc_col=\"logFC_cis_HUES64\", l2fc_thresh=min_vals[1], txt=\"cis\", axis=1)\n",
    "data[\"cis_mESC_status\"] = data.apply(comp_status_stringent, status_col=\"cis_mESC_status\", \n",
    "                                     l2fc_col=\"logFC_cis_mESC\", l2fc_thresh=min_vals[2], txt=\"cis\", axis=1)\n",
    "data[\"trans_human_status\"] = data.apply(comp_status_stringent, status_col=\"trans_human_status\", \n",
    "                                        l2fc_col=\"logFC_trans_human\", l2fc_thresh=min_vals[3], txt=\"trans\", axis=1)\n",
    "data[\"trans_mouse_status\"] = data.apply(comp_status_stringent, status_col=\"trans_mouse_status\", \n",
    "                                        l2fc_col=\"logFC_trans_mouse\", l2fc_thresh=min_vals[4], txt=\"trans\", axis=1)\n",
    "data[\"cis_trans_int_status\"] = data.apply(comp_status_stringent, status_col=\"cis_trans_int_status\", \n",
    "                                          l2fc_col=\"logFC_int\", l2fc_thresh=0, txt=\"cis/trans int.\", axis=1)"
   ]
  },
  {
   "cell_type": "code",
   "execution_count": 75,
   "metadata": {},
   "outputs": [
    {
     "data": {
      "text/plain": [
       "no native effect             2759\n",
       "significant native effect     593\n",
       "Name: native_status, dtype: int64"
      ]
     },
     "execution_count": 75,
     "metadata": {},
     "output_type": "execute_result"
    }
   ],
   "source": [
    "data.native_status.value_counts()"
   ]
  },
  {
   "cell_type": "markdown",
   "metadata": {},
   "source": [
    "## 9. classify effects as higher in mouse or human"
   ]
  },
  {
   "cell_type": "code",
   "execution_count": 76,
   "metadata": {},
   "outputs": [],
   "source": [
    "data[\"native_status_det\"] = data.apply(comp_status_detail, status_col=\"native_status\",\n",
    "                                       logFC_col=\"logFC_native\", txt=\"native\", axis=1)\n",
    "data[\"cis_HUES64_status_det\"] = data.apply(comp_status_detail, status_col=\"cis_HUES64_status\",\n",
    "                                           logFC_col=\"logFC_cis_HUES64\", txt=\"cis\", axis=1)\n",
    "data[\"cis_mESC_status_det\"] = data.apply(comp_status_detail, status_col=\"cis_mESC_status\",\n",
    "                                         logFC_col=\"logFC_cis_mESC\", txt=\"cis\", axis=1)\n",
    "data[\"trans_human_status_det\"] = data.apply(comp_status_detail, status_col=\"trans_human_status\",\n",
    "                                            logFC_col=\"logFC_trans_human\", txt=\"trans\", axis=1)\n",
    "data[\"trans_mouse_status_det\"] = data.apply(comp_status_detail, status_col=\"trans_mouse_status\",\n",
    "                                            logFC_col=\"logFC_trans_mouse\", txt=\"trans\", axis=1)\n",
    "data[\"cis_trans_int_status_det\"] = data.apply(comp_status_detail, status_col=\"cis_trans_int_status\", \n",
    "                                              logFC_col=\"logFC_int\", txt=\"cis/trans int.\", axis=1)"
   ]
  },
  {
   "cell_type": "code",
   "execution_count": 77,
   "metadata": {},
   "outputs": [
    {
     "data": {
      "text/html": [
       "<div>\n",
       "<style>\n",
       "    .dataframe thead tr:only-child th {\n",
       "        text-align: right;\n",
       "    }\n",
       "\n",
       "    .dataframe thead th {\n",
       "        text-align: left;\n",
       "    }\n",
       "\n",
       "    .dataframe tbody tr th {\n",
       "        vertical-align: top;\n",
       "    }\n",
       "</style>\n",
       "<table border=\"1\" class=\"dataframe\">\n",
       "  <thead>\n",
       "    <tr style=\"text-align: right;\">\n",
       "      <th></th>\n",
       "      <th>hg19_id</th>\n",
       "      <th>chr_tss_hg19</th>\n",
       "      <th>start_tss_hg19</th>\n",
       "      <th>biotype_hg19</th>\n",
       "      <th>minimal_biotype_hg19</th>\n",
       "      <th>cage_id_hg19</th>\n",
       "      <th>name_peak_hg19</th>\n",
       "      <th>stem_exp_hg19</th>\n",
       "      <th>max_cage_hg19</th>\n",
       "      <th>mm9_id</th>\n",
       "      <th>...</th>\n",
       "      <th>cis_mESC_status</th>\n",
       "      <th>trans_human_status</th>\n",
       "      <th>trans_mouse_status</th>\n",
       "      <th>cis_trans_int_status</th>\n",
       "      <th>native_status_det</th>\n",
       "      <th>cis_HUES64_status_det</th>\n",
       "      <th>cis_mESC_status_det</th>\n",
       "      <th>trans_human_status_det</th>\n",
       "      <th>trans_mouse_status_det</th>\n",
       "      <th>cis_trans_int_status_det</th>\n",
       "    </tr>\n",
       "  </thead>\n",
       "  <tbody>\n",
       "    <tr>\n",
       "      <th>862</th>\n",
       "      <td>h.1508</td>\n",
       "      <td>chr11</td>\n",
       "      <td>119562947.0</td>\n",
       "      <td>enhancer</td>\n",
       "      <td>eRNA</td>\n",
       "      <td>chr11:119562613-119562997</td>\n",
       "      <td>chr11:119562613-119562997__POSITIVE</td>\n",
       "      <td>0.0</td>\n",
       "      <td>12.0</td>\n",
       "      <td>m.1190</td>\n",
       "      <td>...</td>\n",
       "      <td>significant cis effect</td>\n",
       "      <td>no trans effect</td>\n",
       "      <td>significant trans effect</td>\n",
       "      <td>no cis/trans int. effect</td>\n",
       "      <td>native effect\\n(higher in mouse)</td>\n",
       "      <td>cis effect\\n(higher in mouse)</td>\n",
       "      <td>cis effect\\n(higher in mouse)</td>\n",
       "      <td>no trans effect</td>\n",
       "      <td>trans effect\\n(higher in mouse)</td>\n",
       "      <td>no cis/trans int. effect</td>\n",
       "    </tr>\n",
       "    <tr>\n",
       "      <th>1619</th>\n",
       "      <td>h.3606</td>\n",
       "      <td>chr11</td>\n",
       "      <td>124617024.0</td>\n",
       "      <td>unassigned</td>\n",
       "      <td>other</td>\n",
       "      <td>chr11:124617020..124617061,+</td>\n",
       "      <td>unassigned</td>\n",
       "      <td>0.0422222</td>\n",
       "      <td>216.0</td>\n",
       "      <td>m.3415</td>\n",
       "      <td>...</td>\n",
       "      <td>no cis effect</td>\n",
       "      <td>no trans effect</td>\n",
       "      <td>significant trans effect</td>\n",
       "      <td>no cis/trans int. effect</td>\n",
       "      <td>no native effect</td>\n",
       "      <td>no cis effect</td>\n",
       "      <td>no cis effect</td>\n",
       "      <td>no trans effect</td>\n",
       "      <td>trans effect\\n(higher in mouse)</td>\n",
       "      <td>no cis/trans int. effect</td>\n",
       "    </tr>\n",
       "    <tr>\n",
       "      <th>89</th>\n",
       "      <td>h.151</td>\n",
       "      <td>chr17</td>\n",
       "      <td>37081824.0</td>\n",
       "      <td>intergenic</td>\n",
       "      <td>other</td>\n",
       "      <td>chr17:37081817..37081833,+</td>\n",
       "      <td>ENSG00000263874.1</td>\n",
       "      <td>0.245556</td>\n",
       "      <td>2118.0</td>\n",
       "      <td>m.95</td>\n",
       "      <td>...</td>\n",
       "      <td>no cis effect</td>\n",
       "      <td>no trans effect</td>\n",
       "      <td>significant trans effect</td>\n",
       "      <td>no cis/trans int. effect</td>\n",
       "      <td>no native effect</td>\n",
       "      <td>cis effect\\n(higher in mouse)</td>\n",
       "      <td>no cis effect</td>\n",
       "      <td>no trans effect</td>\n",
       "      <td>trans effect\\n(higher in human)</td>\n",
       "      <td>no cis/trans int. effect</td>\n",
       "    </tr>\n",
       "    <tr>\n",
       "      <th>917</th>\n",
       "      <td>h.1415</td>\n",
       "      <td>chr6</td>\n",
       "      <td>32076157.0</td>\n",
       "      <td>enhancer</td>\n",
       "      <td>eRNA</td>\n",
       "      <td>chr6:32075999-32076179</td>\n",
       "      <td>chr6:32075999-32076179__POSITIVE</td>\n",
       "      <td>0.0</td>\n",
       "      <td>37.0</td>\n",
       "      <td>m.1262</td>\n",
       "      <td>...</td>\n",
       "      <td>no cis effect</td>\n",
       "      <td>no trans effect</td>\n",
       "      <td>no trans effect</td>\n",
       "      <td>no cis/trans int. effect</td>\n",
       "      <td>no native effect</td>\n",
       "      <td>no cis effect</td>\n",
       "      <td>no cis effect</td>\n",
       "      <td>no trans effect</td>\n",
       "      <td>no trans effect</td>\n",
       "      <td>no cis/trans int. effect</td>\n",
       "    </tr>\n",
       "    <tr>\n",
       "      <th>846</th>\n",
       "      <td>h.1304</td>\n",
       "      <td>chr11</td>\n",
       "      <td>19737103.0</td>\n",
       "      <td>enhancer</td>\n",
       "      <td>eRNA</td>\n",
       "      <td>chr11:19736892-19737150</td>\n",
       "      <td>chr11:19736892-19737150__NEGATIVE</td>\n",
       "      <td>0.0</td>\n",
       "      <td>23.0</td>\n",
       "      <td>m.1176</td>\n",
       "      <td>...</td>\n",
       "      <td>no cis effect</td>\n",
       "      <td>no trans effect</td>\n",
       "      <td>no trans effect</td>\n",
       "      <td>no cis/trans int. effect</td>\n",
       "      <td>no native effect</td>\n",
       "      <td>no cis effect</td>\n",
       "      <td>no cis effect</td>\n",
       "      <td>no trans effect</td>\n",
       "      <td>no trans effect</td>\n",
       "      <td>no cis/trans int. effect</td>\n",
       "    </tr>\n",
       "  </tbody>\n",
       "</table>\n",
       "<p>5 rows × 53 columns</p>\n",
       "</div>"
      ],
      "text/plain": [
       "     hg19_id chr_tss_hg19  start_tss_hg19 biotype_hg19 minimal_biotype_hg19  \\\n",
       "862   h.1508        chr11     119562947.0     enhancer                 eRNA   \n",
       "1619  h.3606        chr11     124617024.0   unassigned                other   \n",
       "89     h.151        chr17      37081824.0   intergenic                other   \n",
       "917   h.1415         chr6      32076157.0     enhancer                 eRNA   \n",
       "846   h.1304        chr11      19737103.0     enhancer                 eRNA   \n",
       "\n",
       "                      cage_id_hg19                       name_peak_hg19  \\\n",
       "862      chr11:119562613-119562997  chr11:119562613-119562997__POSITIVE   \n",
       "1619  chr11:124617020..124617061,+                           unassigned   \n",
       "89      chr17:37081817..37081833,+                    ENSG00000263874.1   \n",
       "917         chr6:32075999-32076179     chr6:32075999-32076179__POSITIVE   \n",
       "846        chr11:19736892-19737150    chr11:19736892-19737150__NEGATIVE   \n",
       "\n",
       "     stem_exp_hg19  max_cage_hg19  mm9_id            ...             \\\n",
       "862            0.0           12.0  m.1190            ...              \n",
       "1619     0.0422222          216.0  m.3415            ...              \n",
       "89        0.245556         2118.0    m.95            ...              \n",
       "917            0.0           37.0  m.1262            ...              \n",
       "846            0.0           23.0  m.1176            ...              \n",
       "\n",
       "             cis_mESC_status  trans_human_status        trans_mouse_status  \\\n",
       "862   significant cis effect     no trans effect  significant trans effect   \n",
       "1619           no cis effect     no trans effect  significant trans effect   \n",
       "89             no cis effect     no trans effect  significant trans effect   \n",
       "917            no cis effect     no trans effect           no trans effect   \n",
       "846            no cis effect     no trans effect           no trans effect   \n",
       "\n",
       "          cis_trans_int_status                 native_status_det  \\\n",
       "862   no cis/trans int. effect  native effect\\n(higher in mouse)   \n",
       "1619  no cis/trans int. effect                  no native effect   \n",
       "89    no cis/trans int. effect                  no native effect   \n",
       "917   no cis/trans int. effect                  no native effect   \n",
       "846   no cis/trans int. effect                  no native effect   \n",
       "\n",
       "              cis_HUES64_status_det            cis_mESC_status_det  \\\n",
       "862   cis effect\\n(higher in mouse)  cis effect\\n(higher in mouse)   \n",
       "1619                  no cis effect                  no cis effect   \n",
       "89    cis effect\\n(higher in mouse)                  no cis effect   \n",
       "917                   no cis effect                  no cis effect   \n",
       "846                   no cis effect                  no cis effect   \n",
       "\n",
       "      trans_human_status_det           trans_mouse_status_det  \\\n",
       "862          no trans effect  trans effect\\n(higher in mouse)   \n",
       "1619         no trans effect  trans effect\\n(higher in mouse)   \n",
       "89           no trans effect  trans effect\\n(higher in human)   \n",
       "917          no trans effect                  no trans effect   \n",
       "846          no trans effect                  no trans effect   \n",
       "\n",
       "      cis_trans_int_status_det  \n",
       "862   no cis/trans int. effect  \n",
       "1619  no cis/trans int. effect  \n",
       "89    no cis/trans int. effect  \n",
       "917   no cis/trans int. effect  \n",
       "846   no cis/trans int. effect  \n",
       "\n",
       "[5 rows x 53 columns]"
      ]
     },
     "execution_count": 77,
     "metadata": {},
     "output_type": "execute_result"
    }
   ],
   "source": [
    "data.sample(5)"
   ]
  },
  {
   "cell_type": "markdown",
   "metadata": {},
   "source": [
    "## 10. classify cis & trans effects into one effect (since we measured in 2 contexts)"
   ]
  },
  {
   "cell_type": "code",
   "execution_count": 78,
   "metadata": {},
   "outputs": [],
   "source": [
    "data[\"cis_status_one\"] = data.apply(comp_status_one, status_col1=\"cis_HUES64_status\", \n",
    "                                    status_col2=\"cis_mESC_status\", txt=\"cis\", axis=1)\n",
    "data[\"trans_status_one\"] = data.apply(comp_status_one, status_col1=\"trans_human_status\", \n",
    "                                      status_col2=\"trans_mouse_status\", txt=\"trans\", axis=1)"
   ]
  },
  {
   "cell_type": "code",
   "execution_count": 79,
   "metadata": {},
   "outputs": [],
   "source": [
    "data[\"cis_status_det_one\"] = data.apply(comp_status_detail_one, status_col1=\"cis_HUES64_status\", \n",
    "                                        status_col2=\"cis_mESC_status\", logFC_col1=\"logFC_cis_HUES64\", \n",
    "                                        logFC_col2=\"logFC_cis_mESC\", txt=\"cis\", axis=1)\n",
    "data[\"trans_status_det_one\"] = data.apply(comp_status_detail_one, status_col1=\"trans_human_status\", \n",
    "                                          status_col2=\"trans_mouse_status\", logFC_col1=\"logFC_trans_human\", \n",
    "                                          logFC_col2=\"logFC_trans_mouse\", txt=\"trans\", axis=1)"
   ]
  },
  {
   "cell_type": "code",
   "execution_count": 80,
   "metadata": {},
   "outputs": [],
   "source": [
    "data[\"logFC_cis_one\"] = data.apply(comp_logFC_one, status_col1=\"cis_HUES64_status\", status_col2=\"cis_mESC_status\",\n",
    "                                   logFC_col1=\"logFC_cis_HUES64\", logFC_col2=\"logFC_cis_mESC\", axis=1)\n",
    "data[\"logFC_trans_one\"] = data.apply(comp_logFC_one, status_col1=\"trans_human_status\", status_col2=\"trans_mouse_status\",\n",
    "                                     logFC_col1=\"logFC_trans_human\", logFC_col2=\"logFC_trans_mouse\", axis=1)"
   ]
  },
  {
   "cell_type": "markdown",
   "metadata": {},
   "source": [
    "## 11. print numbers with each effect"
   ]
  },
  {
   "cell_type": "code",
   "execution_count": 81,
   "metadata": {},
   "outputs": [
    {
     "data": {
      "text/plain": [
       "2952"
      ]
     },
     "execution_count": 81,
     "metadata": {},
     "output_type": "execute_result"
    }
   ],
   "source": [
    "# remove ctrls\n",
    "data = data[~data[\"hg19_id\"].str.contains(\"ctrl\")]\n",
    "len(data)"
   ]
  },
  {
   "cell_type": "markdown",
   "metadata": {},
   "source": [
    "## native"
   ]
  },
  {
   "cell_type": "code",
   "execution_count": 82,
   "metadata": {},
   "outputs": [
    {
     "data": {
      "text/plain": [
       "no native effect             2378\n",
       "significant native effect     574\n",
       "Name: native_status, dtype: int64"
      ]
     },
     "execution_count": 82,
     "metadata": {},
     "output_type": "execute_result"
    }
   ],
   "source": [
    "data.native_status.value_counts()"
   ]
  },
  {
   "cell_type": "markdown",
   "metadata": {},
   "source": [
    "## cis - HUES64"
   ]
  },
  {
   "cell_type": "code",
   "execution_count": 83,
   "metadata": {},
   "outputs": [
    {
     "data": {
      "text/plain": [
       "no cis effect             2207\n",
       "significant cis effect     745\n",
       "Name: cis_HUES64_status, dtype: int64"
      ]
     },
     "execution_count": 83,
     "metadata": {},
     "output_type": "execute_result"
    }
   ],
   "source": [
    "data.cis_HUES64_status.value_counts()"
   ]
  },
  {
   "cell_type": "markdown",
   "metadata": {},
   "source": [
    "## cis - mESC"
   ]
  },
  {
   "cell_type": "code",
   "execution_count": 84,
   "metadata": {},
   "outputs": [
    {
     "data": {
      "text/plain": [
       "no cis effect             2227\n",
       "significant cis effect     725\n",
       "Name: cis_mESC_status, dtype: int64"
      ]
     },
     "execution_count": 84,
     "metadata": {},
     "output_type": "execute_result"
    }
   ],
   "source": [
    "data.cis_mESC_status.value_counts()"
   ]
  },
  {
   "cell_type": "markdown",
   "metadata": {},
   "source": [
    "## trans - human"
   ]
  },
  {
   "cell_type": "code",
   "execution_count": 85,
   "metadata": {},
   "outputs": [
    {
     "data": {
      "text/plain": [
       "no trans effect             2745\n",
       "significant trans effect     207\n",
       "Name: trans_human_status, dtype: int64"
      ]
     },
     "execution_count": 85,
     "metadata": {},
     "output_type": "execute_result"
    }
   ],
   "source": [
    "data.trans_human_status.value_counts()"
   ]
  },
  {
   "cell_type": "markdown",
   "metadata": {},
   "source": [
    "## trans - mouse"
   ]
  },
  {
   "cell_type": "code",
   "execution_count": 86,
   "metadata": {},
   "outputs": [
    {
     "data": {
      "text/plain": [
       "no trans effect             2755\n",
       "significant trans effect     197\n",
       "Name: trans_mouse_status, dtype: int64"
      ]
     },
     "execution_count": 86,
     "metadata": {},
     "output_type": "execute_result"
    }
   ],
   "source": [
    "data.trans_mouse_status.value_counts()"
   ]
  },
  {
   "cell_type": "markdown",
   "metadata": {},
   "source": [
    "## cis/trans interactions"
   ]
  },
  {
   "cell_type": "code",
   "execution_count": 87,
   "metadata": {},
   "outputs": [
    {
     "data": {
      "text/plain": [
       "no cis/trans int. effect             2887\n",
       "significant cis/trans int. effect      65\n",
       "Name: cis_trans_int_status, dtype: int64"
      ]
     },
     "execution_count": 87,
     "metadata": {},
     "output_type": "execute_result"
    }
   ],
   "source": [
    "data.cis_trans_int_status.value_counts()"
   ]
  },
  {
   "cell_type": "code",
   "execution_count": 88,
   "metadata": {},
   "outputs": [
    {
     "data": {
      "text/plain": [
       "0.00217233026378945"
      ]
     },
     "execution_count": 88,
     "metadata": {},
     "output_type": "execute_result"
    }
   ],
   "source": [
    "np.max(np.abs(data[data[\"trans_mouse_status\"].str.contains(\"significant\")][\"fdr_trans_mouse\"]))"
   ]
  },
  {
   "cell_type": "markdown",
   "metadata": {},
   "source": [
    "## 12. write files"
   ]
  },
  {
   "cell_type": "code",
   "execution_count": 89,
   "metadata": {},
   "outputs": [],
   "source": [
    "# rearrange columns for readability\n",
    "data = data[['hg19_id', 'chr_tss_hg19', 'start_tss_hg19', 'biotype_hg19', 'cage_id_hg19', 'name_peak_hg19', \n",
    "             'minimal_biotype_hg19', 'stem_exp_hg19', 'mm9_id', 'chr_tss_mm9', \n",
    "             'start_tss_mm9', 'biotype_mm9', 'cage_id_mm9', 'name_peak_mm9', \n",
    "             'minimal_biotype_mm9', 'stem_exp_mm9', 'tss_tile_num', 'orig_species',  \n",
    "             'biotype_switch_minimal', 'HUES64_hg19', 'mESC_hg19', 'HUES64_mm9', 'mESC_mm9', 'HUES64_padj_hg19', \n",
    "             'mESC_padj_hg19', 'HUES64_padj_mm9', 'mESC_padj_mm9', 'logFC_native', 'fdr_native', 'native_status', \n",
    "             'native_status_det', 'logFC_cis_HUES64', 'fdr_cis_HUES64', 'logFC_cis_mESC', 'fdr_cis_mESC',  \n",
    "             'cis_HUES64_status', 'cis_mESC_status', 'cis_HUES64_status_det', 'cis_mESC_status_det', 'cis_status_one', \n",
    "             'cis_status_det_one', 'logFC_cis_one', 'logFC_trans_human', 'fdr_trans_human', 'logFC_trans_mouse', \n",
    "             'fdr_trans_mouse', 'trans_human_status', 'trans_mouse_status', 'trans_human_status_det', \n",
    "             'trans_mouse_status_det',  'trans_status_one', 'trans_status_det_one', 'logFC_trans_one',  'logFC_int', \n",
    "             'fdr_int', 'cis_trans_int_status', 'cis_trans_int_status_det']]"
   ]
  },
  {
   "cell_type": "code",
   "execution_count": 90,
   "metadata": {},
   "outputs": [
    {
     "data": {
      "text/plain": [
       "2952"
      ]
     },
     "execution_count": 90,
     "metadata": {},
     "output_type": "execute_result"
    }
   ],
   "source": [
    "len(data)"
   ]
  },
  {
   "cell_type": "code",
   "execution_count": 91,
   "metadata": {},
   "outputs": [
    {
     "data": {
      "text/html": [
       "<div>\n",
       "<style>\n",
       "    .dataframe thead tr:only-child th {\n",
       "        text-align: right;\n",
       "    }\n",
       "\n",
       "    .dataframe thead th {\n",
       "        text-align: left;\n",
       "    }\n",
       "\n",
       "    .dataframe tbody tr th {\n",
       "        vertical-align: top;\n",
       "    }\n",
       "</style>\n",
       "<table border=\"1\" class=\"dataframe\">\n",
       "  <thead>\n",
       "    <tr style=\"text-align: right;\">\n",
       "      <th></th>\n",
       "      <th>hg19_id</th>\n",
       "      <th>chr_tss_hg19</th>\n",
       "      <th>start_tss_hg19</th>\n",
       "      <th>biotype_hg19</th>\n",
       "      <th>cage_id_hg19</th>\n",
       "      <th>name_peak_hg19</th>\n",
       "      <th>minimal_biotype_hg19</th>\n",
       "      <th>stem_exp_hg19</th>\n",
       "      <th>mm9_id</th>\n",
       "      <th>chr_tss_mm9</th>\n",
       "      <th>...</th>\n",
       "      <th>trans_mouse_status</th>\n",
       "      <th>trans_human_status_det</th>\n",
       "      <th>trans_mouse_status_det</th>\n",
       "      <th>trans_status_one</th>\n",
       "      <th>trans_status_det_one</th>\n",
       "      <th>logFC_trans_one</th>\n",
       "      <th>logFC_int</th>\n",
       "      <th>fdr_int</th>\n",
       "      <th>cis_trans_int_status</th>\n",
       "      <th>cis_trans_int_status_det</th>\n",
       "    </tr>\n",
       "  </thead>\n",
       "  <tbody>\n",
       "    <tr>\n",
       "      <th>0</th>\n",
       "      <td>h.2</td>\n",
       "      <td>chr1</td>\n",
       "      <td>2985430.0</td>\n",
       "      <td>divergent</td>\n",
       "      <td>chr1:2985420..2985438,-</td>\n",
       "      <td>ENSG00000177133.6</td>\n",
       "      <td>lncRNA</td>\n",
       "      <td>0.07111110000000001</td>\n",
       "      <td>m.1</td>\n",
       "      <td>chr4</td>\n",
       "      <td>...</td>\n",
       "      <td>no trans effect</td>\n",
       "      <td>no trans effect</td>\n",
       "      <td>no trans effect</td>\n",
       "      <td>no trans effect</td>\n",
       "      <td>no trans effect</td>\n",
       "      <td>-0.325920</td>\n",
       "      <td>-0.050780</td>\n",
       "      <td>0.991115</td>\n",
       "      <td>no cis/trans int. effect</td>\n",
       "      <td>no cis/trans int. effect</td>\n",
       "    </tr>\n",
       "    <tr>\n",
       "      <th>1</th>\n",
       "      <td>h.3</td>\n",
       "      <td>chr1</td>\n",
       "      <td>8086552.0</td>\n",
       "      <td>divergent</td>\n",
       "      <td>chr1:8086546..8086571,+</td>\n",
       "      <td>ENSG00000238290.1</td>\n",
       "      <td>lncRNA</td>\n",
       "      <td>0.10444400000000001</td>\n",
       "      <td>m.2</td>\n",
       "      <td>chr4</td>\n",
       "      <td>...</td>\n",
       "      <td>no trans effect</td>\n",
       "      <td>no trans effect</td>\n",
       "      <td>no trans effect</td>\n",
       "      <td>no trans effect</td>\n",
       "      <td>no trans effect</td>\n",
       "      <td>0.533476</td>\n",
       "      <td>-0.405629</td>\n",
       "      <td>0.908445</td>\n",
       "      <td>no cis/trans int. effect</td>\n",
       "      <td>no cis/trans int. effect</td>\n",
       "    </tr>\n",
       "    <tr>\n",
       "      <th>2</th>\n",
       "      <td>h.4</td>\n",
       "      <td>chr1</td>\n",
       "      <td>26498322.0</td>\n",
       "      <td>antisense</td>\n",
       "      <td>chr1:26498321..26498327,-</td>\n",
       "      <td>ENSG00000236782.1</td>\n",
       "      <td>other</td>\n",
       "      <td>0.03</td>\n",
       "      <td>m.3</td>\n",
       "      <td>chr4</td>\n",
       "      <td>...</td>\n",
       "      <td>no trans effect</td>\n",
       "      <td>no trans effect</td>\n",
       "      <td>no trans effect</td>\n",
       "      <td>no trans effect</td>\n",
       "      <td>no trans effect</td>\n",
       "      <td>0.270223</td>\n",
       "      <td>-0.210732</td>\n",
       "      <td>0.960813</td>\n",
       "      <td>no cis/trans int. effect</td>\n",
       "      <td>no cis/trans int. effect</td>\n",
       "    </tr>\n",
       "    <tr>\n",
       "      <th>3</th>\n",
       "      <td>h.5</td>\n",
       "      <td>chr1</td>\n",
       "      <td>65533428.0</td>\n",
       "      <td>intergenic</td>\n",
       "      <td>chr1:65533390..65533443,-</td>\n",
       "      <td>ENSG00000231485.1</td>\n",
       "      <td>lncRNA</td>\n",
       "      <td>0.841111</td>\n",
       "      <td>m.4</td>\n",
       "      <td>chr4</td>\n",
       "      <td>...</td>\n",
       "      <td>no trans effect</td>\n",
       "      <td>trans effect\\n(higher in mouse)</td>\n",
       "      <td>no trans effect</td>\n",
       "      <td>significant trans effect</td>\n",
       "      <td>trans effect\\n(higher in mouse)</td>\n",
       "      <td>0.449668</td>\n",
       "      <td>-0.740913</td>\n",
       "      <td>0.152051</td>\n",
       "      <td>no cis/trans int. effect</td>\n",
       "      <td>no cis/trans int. effect</td>\n",
       "    </tr>\n",
       "    <tr>\n",
       "      <th>4</th>\n",
       "      <td>h.6</td>\n",
       "      <td>chr1</td>\n",
       "      <td>65533462.0</td>\n",
       "      <td>intergenic</td>\n",
       "      <td>chr1:65533457..65533465,-</td>\n",
       "      <td>ENSG00000231485.1</td>\n",
       "      <td>lncRNA</td>\n",
       "      <td>0.116667</td>\n",
       "      <td>m.4</td>\n",
       "      <td>chr4</td>\n",
       "      <td>...</td>\n",
       "      <td>no trans effect</td>\n",
       "      <td>no trans effect</td>\n",
       "      <td>no trans effect</td>\n",
       "      <td>no trans effect</td>\n",
       "      <td>no trans effect</td>\n",
       "      <td>-0.270646</td>\n",
       "      <td>-0.528464</td>\n",
       "      <td>0.379849</td>\n",
       "      <td>no cis/trans int. effect</td>\n",
       "      <td>no cis/trans int. effect</td>\n",
       "    </tr>\n",
       "  </tbody>\n",
       "</table>\n",
       "<p>5 rows × 57 columns</p>\n",
       "</div>"
      ],
      "text/plain": [
       "  hg19_id chr_tss_hg19  start_tss_hg19 biotype_hg19  \\\n",
       "0     h.2         chr1       2985430.0    divergent   \n",
       "1     h.3         chr1       8086552.0    divergent   \n",
       "2     h.4         chr1      26498322.0    antisense   \n",
       "3     h.5         chr1      65533428.0   intergenic   \n",
       "4     h.6         chr1      65533462.0   intergenic   \n",
       "\n",
       "                cage_id_hg19     name_peak_hg19 minimal_biotype_hg19  \\\n",
       "0    chr1:2985420..2985438,-  ENSG00000177133.6               lncRNA   \n",
       "1    chr1:8086546..8086571,+  ENSG00000238290.1               lncRNA   \n",
       "2  chr1:26498321..26498327,-  ENSG00000236782.1                other   \n",
       "3  chr1:65533390..65533443,-  ENSG00000231485.1               lncRNA   \n",
       "4  chr1:65533457..65533465,-  ENSG00000231485.1               lncRNA   \n",
       "\n",
       "         stem_exp_hg19 mm9_id chr_tss_mm9            ...             \\\n",
       "0  0.07111110000000001    m.1        chr4            ...              \n",
       "1  0.10444400000000001    m.2        chr4            ...              \n",
       "2                 0.03    m.3        chr4            ...              \n",
       "3             0.841111    m.4        chr4            ...              \n",
       "4             0.116667    m.4        chr4            ...              \n",
       "\n",
       "   trans_mouse_status           trans_human_status_det trans_mouse_status_det  \\\n",
       "0     no trans effect                  no trans effect        no trans effect   \n",
       "1     no trans effect                  no trans effect        no trans effect   \n",
       "2     no trans effect                  no trans effect        no trans effect   \n",
       "3     no trans effect  trans effect\\n(higher in mouse)        no trans effect   \n",
       "4     no trans effect                  no trans effect        no trans effect   \n",
       "\n",
       "           trans_status_one             trans_status_det_one logFC_trans_one  \\\n",
       "0           no trans effect                  no trans effect       -0.325920   \n",
       "1           no trans effect                  no trans effect        0.533476   \n",
       "2           no trans effect                  no trans effect        0.270223   \n",
       "3  significant trans effect  trans effect\\n(higher in mouse)        0.449668   \n",
       "4           no trans effect                  no trans effect       -0.270646   \n",
       "\n",
       "  logFC_int   fdr_int      cis_trans_int_status  cis_trans_int_status_det  \n",
       "0 -0.050780  0.991115  no cis/trans int. effect  no cis/trans int. effect  \n",
       "1 -0.405629  0.908445  no cis/trans int. effect  no cis/trans int. effect  \n",
       "2 -0.210732  0.960813  no cis/trans int. effect  no cis/trans int. effect  \n",
       "3 -0.740913  0.152051  no cis/trans int. effect  no cis/trans int. effect  \n",
       "4 -0.528464  0.379849  no cis/trans int. effect  no cis/trans int. effect  \n",
       "\n",
       "[5 rows x 57 columns]"
      ]
     },
     "execution_count": 91,
     "metadata": {},
     "output_type": "execute_result"
    }
   ],
   "source": [
    "data.head()"
   ]
  },
  {
   "cell_type": "code",
   "execution_count": 92,
   "metadata": {},
   "outputs": [],
   "source": [
    "data.to_csv(\"../../../data/02__mpra/03__results/all_processed_results.txt\", sep=\"\\t\", index=False)"
   ]
  },
  {
   "cell_type": "code",
   "execution_count": null,
   "metadata": {},
   "outputs": [],
   "source": []
  },
  {
   "cell_type": "code",
   "execution_count": null,
   "metadata": {},
   "outputs": [],
   "source": []
  }
 ],
 "metadata": {
  "kernelspec": {
   "display_name": "Python [conda env:py3]",
   "language": "python",
   "name": "conda-env-py3-py"
  },
  "language_info": {
   "codemirror_mode": {
    "name": "ipython",
    "version": 3
   },
   "file_extension": ".py",
   "mimetype": "text/x-python",
   "name": "python",
   "nbconvert_exporter": "python",
   "pygments_lexer": "ipython3",
   "version": "3.6.3"
  }
 },
 "nbformat": 4,
 "nbformat_minor": 2
}
