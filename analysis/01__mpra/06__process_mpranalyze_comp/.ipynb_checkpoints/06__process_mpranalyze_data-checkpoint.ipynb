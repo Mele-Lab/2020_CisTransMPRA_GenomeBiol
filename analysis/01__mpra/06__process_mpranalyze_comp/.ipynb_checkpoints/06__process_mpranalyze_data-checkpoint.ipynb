{
 "cells": [
  {
   "cell_type": "code",
   "execution_count": 1,
   "metadata": {},
   "outputs": [],
   "source": [
    "import warnings\n",
    "warnings.filterwarnings('ignore')\n",
    "\n",
    "import pandas as pd\n",
    "import numpy as np\n",
    "import matplotlib as mpl\n",
    "import matplotlib.pyplot as plt\n",
    "import seaborn as sns\n",
    "import sys\n",
    "\n",
    "from scipy.stats import spearmanr\n",
    "\n",
    "# import utils\n",
    "sys.path.append(\"../../../utils\")\n",
    "from plotting_utils import *\n",
    "from classify_utils import *\n",
    "\n",
    "%matplotlib inline\n",
    "# %config InlineBackend.figure_format = 'svg'\n",
    "# mpl.rcParams['figure.autolayout'] = False"
   ]
  },
  {
   "cell_type": "code",
   "execution_count": 2,
   "metadata": {},
   "outputs": [],
   "source": [
    "sns.set(**PAPER_PRESET)\n",
    "fontsize = PAPER_FONTSIZE"
   ]
  },
  {
   "cell_type": "code",
   "execution_count": 3,
   "metadata": {},
   "outputs": [],
   "source": [
    "np.random.seed(2019)"
   ]
  },
  {
   "cell_type": "code",
   "execution_count": 4,
   "metadata": {},
   "outputs": [],
   "source": [
    "QUANT_ALPHA = 0.05"
   ]
  },
  {
   "cell_type": "markdown",
   "metadata": {},
   "source": [
    "## functions"
   ]
  },
  {
   "cell_type": "markdown",
   "metadata": {},
   "source": [
    "## variables"
   ]
  },
  {
   "cell_type": "code",
   "execution_count": 5,
   "metadata": {},
   "outputs": [],
   "source": [
    "data_dir = \"../../../data/02__mpra/02__activs\"\n",
    "alpha_f = \"%s/alpha_per_elem.quantification.txt\" % data_dir\n",
    "human_vals_f = \"%s/human_TSS_vals.both_tiles.txt\" % data_dir\n",
    "mouse_vals_f= \"%s/mouse_TSS_vals.both_tiles.txt\" % data_dir"
   ]
  },
  {
   "cell_type": "code",
   "execution_count": 6,
   "metadata": {},
   "outputs": [],
   "source": [
    "native_f = \"%s/native_results.txt\" % data_dir\n",
    "HUES64_cis_f = \"%s/HUES64_cis_results.txt\" % data_dir\n",
    "mESC_cis_f = \"%s/mESC_cis_results.txt\" % data_dir\n",
    "human_trans_f = \"%s/human_trans_results.txt\" % data_dir\n",
    "mouse_trans_f = \"%s/mouse_trans_results.txt\" % data_dir\n",
    "cis_trans_int_f = \"%s/cis_trans_interaction_results.txt\" % data_dir"
   ]
  },
  {
   "cell_type": "code",
   "execution_count": 7,
   "metadata": {},
   "outputs": [],
   "source": [
    "tss_map_f = \"../../../data/01__design/01__mpra_list/mpra_tss.with_ids.RECLASSIFIED.txt\""
   ]
  },
  {
   "cell_type": "code",
   "execution_count": 8,
   "metadata": {},
   "outputs": [],
   "source": [
    "#align_f = \"../../../misc/00__tss_metadata/tss_map.seq_alignment.txt\""
   ]
  },
  {
   "cell_type": "code",
   "execution_count": 9,
   "metadata": {},
   "outputs": [],
   "source": [
    "#cage_data_f = \"../../../misc/00__tss_metadata/All_TSS_and_enh.CAGE_grouped_exp.tissue_sp.txt.gz\""
   ]
  },
  {
   "cell_type": "markdown",
   "metadata": {},
   "source": [
    "## 1. import data"
   ]
  },
  {
   "cell_type": "code",
   "execution_count": 10,
   "metadata": {},
   "outputs": [
    {
     "data": {
      "text/html": [
       "<div>\n",
       "<style>\n",
       "    .dataframe thead tr:only-child th {\n",
       "        text-align: right;\n",
       "    }\n",
       "\n",
       "    .dataframe thead th {\n",
       "        text-align: left;\n",
       "    }\n",
       "\n",
       "    .dataframe tbody tr th {\n",
       "        vertical-align: top;\n",
       "    }\n",
       "</style>\n",
       "<table border=\"1\" class=\"dataframe\">\n",
       "  <thead>\n",
       "    <tr style=\"text-align: right;\">\n",
       "      <th></th>\n",
       "      <th>index</th>\n",
       "      <th>HUES64</th>\n",
       "      <th>mESC</th>\n",
       "      <th>HUES64_pval</th>\n",
       "      <th>mESC_pval</th>\n",
       "      <th>HUES64_padj</th>\n",
       "      <th>mESC_padj</th>\n",
       "    </tr>\n",
       "  </thead>\n",
       "  <tbody>\n",
       "    <tr>\n",
       "      <th>0</th>\n",
       "      <td>AAAAAAAAAAAAAAAAACCCTGCAGAGAGCCTGCAAAGTCACTGCC...</td>\n",
       "      <td>7.295239</td>\n",
       "      <td>6.315911</td>\n",
       "      <td>2.825214e-75</td>\n",
       "      <td>1.383066e-42</td>\n",
       "      <td>4.596852e-74</td>\n",
       "      <td>1.878236e-41</td>\n",
       "    </tr>\n",
       "    <tr>\n",
       "      <th>1</th>\n",
       "      <td>AAAAAAAAAAAAAAAGAAAAGAAAAGAAAAAAAAGAAAGGATTGAG...</td>\n",
       "      <td>1.326796</td>\n",
       "      <td>1.348824</td>\n",
       "      <td>1.451021e-01</td>\n",
       "      <td>2.326515e-01</td>\n",
       "      <td>3.319934e-01</td>\n",
       "      <td>5.455262e-01</td>\n",
       "    </tr>\n",
       "    <tr>\n",
       "      <th>2</th>\n",
       "      <td>AAAAAAAAAAAAGAGGAGAAATAGATTGTTACCTTATATTATTTAA...</td>\n",
       "      <td>0.977164</td>\n",
       "      <td>1.548916</td>\n",
       "      <td>4.814953e-01</td>\n",
       "      <td>1.057092e-01</td>\n",
       "      <td>7.164347e-01</td>\n",
       "      <td>3.127558e-01</td>\n",
       "    </tr>\n",
       "    <tr>\n",
       "      <th>3</th>\n",
       "      <td>AAAAAAAAAACCGGCAAAATGTCCTTTTCCTTGTTTTGAAAAGACT...</td>\n",
       "      <td>0.976127</td>\n",
       "      <td>0.818171</td>\n",
       "      <td>4.826910e-01</td>\n",
       "      <td>7.414048e-01</td>\n",
       "      <td>7.167637e-01</td>\n",
       "      <td>8.145300e-01</td>\n",
       "    </tr>\n",
       "    <tr>\n",
       "      <th>4</th>\n",
       "      <td>AAAAAAAAAGGCCACGCTCAAAACCCCAGACTAGTTTTCCTCACCA...</td>\n",
       "      <td>1.323999</td>\n",
       "      <td>1.457128</td>\n",
       "      <td>1.469545e-01</td>\n",
       "      <td>1.559242e-01</td>\n",
       "      <td>3.356231e-01</td>\n",
       "      <td>4.172106e-01</td>\n",
       "    </tr>\n",
       "  </tbody>\n",
       "</table>\n",
       "</div>"
      ],
      "text/plain": [
       "                                               index    HUES64      mESC  \\\n",
       "0  AAAAAAAAAAAAAAAAACCCTGCAGAGAGCCTGCAAAGTCACTGCC...  7.295239  6.315911   \n",
       "1  AAAAAAAAAAAAAAAGAAAAGAAAAGAAAAAAAAGAAAGGATTGAG...  1.326796  1.348824   \n",
       "2  AAAAAAAAAAAAGAGGAGAAATAGATTGTTACCTTATATTATTTAA...  0.977164  1.548916   \n",
       "3  AAAAAAAAAACCGGCAAAATGTCCTTTTCCTTGTTTTGAAAAGACT...  0.976127  0.818171   \n",
       "4  AAAAAAAAAGGCCACGCTCAAAACCCCAGACTAGTTTTCCTCACCA...  1.323999  1.457128   \n",
       "\n",
       "    HUES64_pval     mESC_pval   HUES64_padj     mESC_padj  \n",
       "0  2.825214e-75  1.383066e-42  4.596852e-74  1.878236e-41  \n",
       "1  1.451021e-01  2.326515e-01  3.319934e-01  5.455262e-01  \n",
       "2  4.814953e-01  1.057092e-01  7.164347e-01  3.127558e-01  \n",
       "3  4.826910e-01  7.414048e-01  7.167637e-01  8.145300e-01  \n",
       "4  1.469545e-01  1.559242e-01  3.356231e-01  4.172106e-01  "
      ]
     },
     "execution_count": 10,
     "metadata": {},
     "output_type": "execute_result"
    }
   ],
   "source": [
    "alpha = pd.read_table(alpha_f, sep=\"\\t\").reset_index()\n",
    "alpha.head()"
   ]
  },
  {
   "cell_type": "code",
   "execution_count": 11,
   "metadata": {},
   "outputs": [
    {
     "data": {
      "text/plain": [
       "13879"
      ]
     },
     "execution_count": 11,
     "metadata": {},
     "output_type": "execute_result"
    }
   ],
   "source": [
    "len(alpha)"
   ]
  },
  {
   "cell_type": "code",
   "execution_count": 12,
   "metadata": {},
   "outputs": [
    {
     "data": {
      "text/html": [
       "<div>\n",
       "<style>\n",
       "    .dataframe thead tr:only-child th {\n",
       "        text-align: right;\n",
       "    }\n",
       "\n",
       "    .dataframe thead th {\n",
       "        text-align: left;\n",
       "    }\n",
       "\n",
       "    .dataframe tbody tr th {\n",
       "        vertical-align: top;\n",
       "    }\n",
       "</style>\n",
       "<table border=\"1\" class=\"dataframe\">\n",
       "  <thead>\n",
       "    <tr style=\"text-align: right;\">\n",
       "      <th></th>\n",
       "      <th>HUES64</th>\n",
       "      <th>mESC</th>\n",
       "      <th>HUES64_pval</th>\n",
       "      <th>mESC_pval</th>\n",
       "      <th>HUES64_padj</th>\n",
       "      <th>mESC_padj</th>\n",
       "      <th>element</th>\n",
       "      <th>tile_type</th>\n",
       "      <th>element_id</th>\n",
       "      <th>name</th>\n",
       "      <th>...</th>\n",
       "      <th>dupe_info</th>\n",
       "      <th>HUES64_log</th>\n",
       "      <th>mESC_log</th>\n",
       "      <th>tss_id</th>\n",
       "      <th>species</th>\n",
       "      <th>tss_tile_num</th>\n",
       "      <th>hg19_id</th>\n",
       "      <th>biotype_hg19</th>\n",
       "      <th>stem_exp_hg19</th>\n",
       "      <th>orig_species</th>\n",
       "    </tr>\n",
       "  </thead>\n",
       "  <tbody>\n",
       "    <tr>\n",
       "      <th>0</th>\n",
       "      <td>1.326796</td>\n",
       "      <td>1.348824</td>\n",
       "      <td>0.145102</td>\n",
       "      <td>0.232651</td>\n",
       "      <td>0.331993</td>\n",
       "      <td>0.545526</td>\n",
       "      <td>AAAAAAAAAAAAAAAGAAAAGAAAAGAAAAAAAAGAAAGGATTGAG...</td>\n",
       "      <td>WILDTYPE</td>\n",
       "      <td>HUMAN_EVO_TSS__h.1133__tile1:129255098-1292552...</td>\n",
       "      <td>HUMAN_EVO_TSS__h.1133__tile1</td>\n",
       "      <td>...</td>\n",
       "      <td>7281.1.0.0</td>\n",
       "      <td>0.122804</td>\n",
       "      <td>0.129955</td>\n",
       "      <td>h.1133</td>\n",
       "      <td>HUMAN</td>\n",
       "      <td>tile1</td>\n",
       "      <td>h.1133</td>\n",
       "      <td>enhancer</td>\n",
       "      <td>0.20306</td>\n",
       "      <td>human</td>\n",
       "    </tr>\n",
       "    <tr>\n",
       "      <th>1</th>\n",
       "      <td>1.202075</td>\n",
       "      <td>1.503351</td>\n",
       "      <td>0.242922</td>\n",
       "      <td>0.128950</td>\n",
       "      <td>0.488166</td>\n",
       "      <td>0.364500</td>\n",
       "      <td>CTACTCCGGAGGCTGAGGCAGGAGAATCGCTTGAACCCGGGGGTGG...</td>\n",
       "      <td>WILDTYPE</td>\n",
       "      <td>HUMAN_EVO_TSS__h.1133__tile2:129255212-1292553...</td>\n",
       "      <td>HUMAN_EVO_TSS__h.1133__tile2</td>\n",
       "      <td>...</td>\n",
       "      <td>7282.1.0.0</td>\n",
       "      <td>0.079932</td>\n",
       "      <td>0.177061</td>\n",
       "      <td>h.1133</td>\n",
       "      <td>HUMAN</td>\n",
       "      <td>tile2</td>\n",
       "      <td>h.1133</td>\n",
       "      <td>enhancer</td>\n",
       "      <td>0.20306</td>\n",
       "      <td>human</td>\n",
       "    </tr>\n",
       "    <tr>\n",
       "      <th>2</th>\n",
       "      <td>1.323999</td>\n",
       "      <td>1.457128</td>\n",
       "      <td>0.146955</td>\n",
       "      <td>0.155924</td>\n",
       "      <td>0.335623</td>\n",
       "      <td>0.417211</td>\n",
       "      <td>AAAAAAAAAGGCCACGCTCAAAACCCCAGACTAGTTTTCCTCACCA...</td>\n",
       "      <td>WILDTYPE</td>\n",
       "      <td>HUMAN_EVO_TSS__h.1436__tile1:157192113-1571922...</td>\n",
       "      <td>HUMAN_EVO_TSS__h.1436__tile1</td>\n",
       "      <td>...</td>\n",
       "      <td>4134.1.0.0</td>\n",
       "      <td>0.121888</td>\n",
       "      <td>0.163498</td>\n",
       "      <td>h.1436</td>\n",
       "      <td>HUMAN</td>\n",
       "      <td>tile1</td>\n",
       "      <td>h.1436</td>\n",
       "      <td>enhancer</td>\n",
       "      <td>0.039043800000000004</td>\n",
       "      <td>human</td>\n",
       "    </tr>\n",
       "    <tr>\n",
       "      <th>3</th>\n",
       "      <td>0.899162</td>\n",
       "      <td>0.755892</td>\n",
       "      <td>0.571115</td>\n",
       "      <td>0.790854</td>\n",
       "      <td>0.763290</td>\n",
       "      <td>0.837563</td>\n",
       "      <td>TTAAACTCGTTTAAACCAATTTTGAATAAGCTACTTCTTAGGCTAG...</td>\n",
       "      <td>WILDTYPE</td>\n",
       "      <td>HUMAN_EVO_TSS__h.1436__tile2:157191999-1571921...</td>\n",
       "      <td>HUMAN_EVO_TSS__h.1436__tile2</td>\n",
       "      <td>...</td>\n",
       "      <td>4133.1.0.0</td>\n",
       "      <td>-0.046162</td>\n",
       "      <td>-0.121540</td>\n",
       "      <td>h.1436</td>\n",
       "      <td>HUMAN</td>\n",
       "      <td>tile2</td>\n",
       "      <td>h.1436</td>\n",
       "      <td>enhancer</td>\n",
       "      <td>0.039043800000000004</td>\n",
       "      <td>human</td>\n",
       "    </tr>\n",
       "    <tr>\n",
       "      <th>4</th>\n",
       "      <td>1.137333</td>\n",
       "      <td>1.305637</td>\n",
       "      <td>0.305141</td>\n",
       "      <td>0.268285</td>\n",
       "      <td>0.564281</td>\n",
       "      <td>0.591663</td>\n",
       "      <td>AAAAAAAAGAAGAAGTGGGGCTTTCCAGAGGTGATTAAGTCATGAG...</td>\n",
       "      <td>WILDTYPE</td>\n",
       "      <td>HUMAN_EVO_TSS__h.1951__tile1:208526987-2085271...</td>\n",
       "      <td>HUMAN_EVO_TSS__h.1951__tile1</td>\n",
       "      <td>...</td>\n",
       "      <td>4272.1.0.0</td>\n",
       "      <td>0.055888</td>\n",
       "      <td>0.115822</td>\n",
       "      <td>h.1951</td>\n",
       "      <td>HUMAN</td>\n",
       "      <td>tile1</td>\n",
       "      <td>h.1951</td>\n",
       "      <td>intergenic</td>\n",
       "      <td>0.028888900000000002</td>\n",
       "      <td>human</td>\n",
       "    </tr>\n",
       "  </tbody>\n",
       "</table>\n",
       "<p>5 rows × 25 columns</p>\n",
       "</div>"
      ],
      "text/plain": [
       "     HUES64      mESC  HUES64_pval  mESC_pval  HUES64_padj  mESC_padj  \\\n",
       "0  1.326796  1.348824     0.145102   0.232651     0.331993   0.545526   \n",
       "1  1.202075  1.503351     0.242922   0.128950     0.488166   0.364500   \n",
       "2  1.323999  1.457128     0.146955   0.155924     0.335623   0.417211   \n",
       "3  0.899162  0.755892     0.571115   0.790854     0.763290   0.837563   \n",
       "4  1.137333  1.305637     0.305141   0.268285     0.564281   0.591663   \n",
       "\n",
       "                                             element tile_type  \\\n",
       "0  AAAAAAAAAAAAAAAGAAAAGAAAAGAAAAAAAAGAAAGGATTGAG...  WILDTYPE   \n",
       "1  CTACTCCGGAGGCTGAGGCAGGAGAATCGCTTGAACCCGGGGGTGG...  WILDTYPE   \n",
       "2  AAAAAAAAAGGCCACGCTCAAAACCCCAGACTAGTTTTCCTCACCA...  WILDTYPE   \n",
       "3  TTAAACTCGTTTAAACCAATTTTGAATAAGCTACTTCTTAGGCTAG...  WILDTYPE   \n",
       "4  AAAAAAAAGAAGAAGTGGGGCTTTCCAGAGGTGATTAAGTCATGAG...  WILDTYPE   \n",
       "\n",
       "                                          element_id  \\\n",
       "0  HUMAN_EVO_TSS__h.1133__tile1:129255098-1292552...   \n",
       "1  HUMAN_EVO_TSS__h.1133__tile2:129255212-1292553...   \n",
       "2  HUMAN_EVO_TSS__h.1436__tile1:157192113-1571922...   \n",
       "3  HUMAN_EVO_TSS__h.1436__tile2:157191999-1571921...   \n",
       "4  HUMAN_EVO_TSS__h.1951__tile1:208526987-2085271...   \n",
       "\n",
       "                           name     ...        dupe_info HUES64_log  mESC_log  \\\n",
       "0  HUMAN_EVO_TSS__h.1133__tile1     ...       7281.1.0.0   0.122804  0.129955   \n",
       "1  HUMAN_EVO_TSS__h.1133__tile2     ...       7282.1.0.0   0.079932  0.177061   \n",
       "2  HUMAN_EVO_TSS__h.1436__tile1     ...       4134.1.0.0   0.121888  0.163498   \n",
       "3  HUMAN_EVO_TSS__h.1436__tile2     ...       4133.1.0.0  -0.046162 -0.121540   \n",
       "4  HUMAN_EVO_TSS__h.1951__tile1     ...       4272.1.0.0   0.055888  0.115822   \n",
       "\n",
       "   tss_id  species tss_tile_num  hg19_id  biotype_hg19         stem_exp_hg19  \\\n",
       "0  h.1133    HUMAN        tile1   h.1133      enhancer               0.20306   \n",
       "1  h.1133    HUMAN        tile2   h.1133      enhancer               0.20306   \n",
       "2  h.1436    HUMAN        tile1   h.1436      enhancer  0.039043800000000004   \n",
       "3  h.1436    HUMAN        tile2   h.1436      enhancer  0.039043800000000004   \n",
       "4  h.1951    HUMAN        tile1   h.1951    intergenic  0.028888900000000002   \n",
       "\n",
       "  orig_species  \n",
       "0        human  \n",
       "1        human  \n",
       "2        human  \n",
       "3        human  \n",
       "4        human  \n",
       "\n",
       "[5 rows x 25 columns]"
      ]
     },
     "execution_count": 12,
     "metadata": {},
     "output_type": "execute_result"
    }
   ],
   "source": [
    "human_vals = pd.read_table(human_vals_f)\n",
    "mouse_vals = pd.read_table(mouse_vals_f)\n",
    "human_vals.head()"
   ]
  },
  {
   "cell_type": "code",
   "execution_count": 13,
   "metadata": {},
   "outputs": [
    {
     "data": {
      "text/html": [
       "<div>\n",
       "<style>\n",
       "    .dataframe thead tr:only-child th {\n",
       "        text-align: right;\n",
       "    }\n",
       "\n",
       "    .dataframe thead th {\n",
       "        text-align: left;\n",
       "    }\n",
       "\n",
       "    .dataframe tbody tr th {\n",
       "        vertical-align: top;\n",
       "    }\n",
       "</style>\n",
       "<table border=\"1\" class=\"dataframe\">\n",
       "  <thead>\n",
       "    <tr style=\"text-align: right;\">\n",
       "      <th></th>\n",
       "      <th>index</th>\n",
       "      <th>stat_native</th>\n",
       "      <th>pval_native</th>\n",
       "      <th>fdr_native</th>\n",
       "      <th>df.test_native</th>\n",
       "      <th>df.dna_native</th>\n",
       "      <th>df.rna.full_native</th>\n",
       "      <th>df.rna.red_native</th>\n",
       "      <th>logFC_native</th>\n",
       "    </tr>\n",
       "  </thead>\n",
       "  <tbody>\n",
       "    <tr>\n",
       "      <th>4898</th>\n",
       "      <td>h.2900__no cage activity__m.2711__div_lnc__tile2</td>\n",
       "      <td>22.302956</td>\n",
       "      <td>2.328479e-06</td>\n",
       "      <td>1.137978e-05</td>\n",
       "      <td>1</td>\n",
       "      <td>14</td>\n",
       "      <td>5</td>\n",
       "      <td>4</td>\n",
       "      <td>-1.233448</td>\n",
       "    </tr>\n",
       "    <tr>\n",
       "      <th>3861</th>\n",
       "      <td>h.1548__antisense__m.1360__no cage activity__t...</td>\n",
       "      <td>10.390287</td>\n",
       "      <td>1.266799e-03</td>\n",
       "      <td>3.269587e-03</td>\n",
       "      <td>1</td>\n",
       "      <td>14</td>\n",
       "      <td>5</td>\n",
       "      <td>4</td>\n",
       "      <td>0.772078</td>\n",
       "    </tr>\n",
       "    <tr>\n",
       "      <th>4268</th>\n",
       "      <td>h.2103__other_lnc__m.1915__no cage activity__t...</td>\n",
       "      <td>4.916243</td>\n",
       "      <td>2.660531e-02</td>\n",
       "      <td>4.787483e-02</td>\n",
       "      <td>1</td>\n",
       "      <td>14</td>\n",
       "      <td>5</td>\n",
       "      <td>4</td>\n",
       "      <td>0.643995</td>\n",
       "    </tr>\n",
       "    <tr>\n",
       "      <th>637</th>\n",
       "      <td>h.944__div_pc__m.827__unassigned__tile1</td>\n",
       "      <td>46.426138</td>\n",
       "      <td>9.513791e-12</td>\n",
       "      <td>1.520647e-10</td>\n",
       "      <td>1</td>\n",
       "      <td>14</td>\n",
       "      <td>5</td>\n",
       "      <td>4</td>\n",
       "      <td>1.657177</td>\n",
       "    </tr>\n",
       "    <tr>\n",
       "      <th>5514</th>\n",
       "      <td>ctrl.1__CONTROL__samp.65__CONTROL</td>\n",
       "      <td>4.050311</td>\n",
       "      <td>4.416321e-02</td>\n",
       "      <td>7.443987e-02</td>\n",
       "      <td>1</td>\n",
       "      <td>14</td>\n",
       "      <td>5</td>\n",
       "      <td>4</td>\n",
       "      <td>0.315304</td>\n",
       "    </tr>\n",
       "  </tbody>\n",
       "</table>\n",
       "</div>"
      ],
      "text/plain": [
       "                                                  index  stat_native  \\\n",
       "4898   h.2900__no cage activity__m.2711__div_lnc__tile2    22.302956   \n",
       "3861  h.1548__antisense__m.1360__no cage activity__t...    10.390287   \n",
       "4268  h.2103__other_lnc__m.1915__no cage activity__t...     4.916243   \n",
       "637             h.944__div_pc__m.827__unassigned__tile1    46.426138   \n",
       "5514                  ctrl.1__CONTROL__samp.65__CONTROL     4.050311   \n",
       "\n",
       "       pval_native    fdr_native  df.test_native  df.dna_native  \\\n",
       "4898  2.328479e-06  1.137978e-05               1             14   \n",
       "3861  1.266799e-03  3.269587e-03               1             14   \n",
       "4268  2.660531e-02  4.787483e-02               1             14   \n",
       "637   9.513791e-12  1.520647e-10               1             14   \n",
       "5514  4.416321e-02  7.443987e-02               1             14   \n",
       "\n",
       "      df.rna.full_native  df.rna.red_native  logFC_native  \n",
       "4898                   5                  4     -1.233448  \n",
       "3861                   5                  4      0.772078  \n",
       "4268                   5                  4      0.643995  \n",
       "637                    5                  4      1.657177  \n",
       "5514                   5                  4      0.315304  "
      ]
     },
     "execution_count": 13,
     "metadata": {},
     "output_type": "execute_result"
    }
   ],
   "source": [
    "native = pd.read_table(native_f).reset_index()\n",
    "native.columns = [\"index\", \"stat_native\", \"pval_native\", \"fdr_native\", \"df.test_native\", \"df.dna_native\", \n",
    "                  \"df.rna.full_native\", \"df.rna.red_native\", \"logFC_native\"]\n",
    "native[\"index\"] = native.apply(fix_ctrl_id, axis=1)\n",
    "native.sample(5)"
   ]
  },
  {
   "cell_type": "code",
   "execution_count": 14,
   "metadata": {},
   "outputs": [],
   "source": [
    "HUES64_cis = pd.read_table(HUES64_cis_f).reset_index()\n",
    "HUES64_cis.columns = [\"index\", \"stat_cis_HUES64\", \"pval_cis_HUES64\", \"fdr_cis_HUES64\", \"df.test_cis_HUES64\", \n",
    "                      \"df.dna_cis_HUES64\", \"df.rna.full_cis_HUES64\", \"df.rna.red_cis_HUES64\", \"logFC_cis_HUES64\"]\n",
    "HUES64_cis[\"index\"] = HUES64_cis.apply(fix_ctrl_id, axis=1)\n",
    "\n",
    "mESC_cis = pd.read_table(mESC_cis_f).reset_index()\n",
    "mESC_cis.columns = [\"index\", \"stat_cis_mESC\", \"pval_cis_mESC\", \"fdr_cis_mESC\", \"df.test_cis_mESC\", \n",
    "                    \"df.dna_cis_mESC\", \"df.rna.full_cis_mESC\", \"df.rna.red_cis_mESC\", \"logFC_cis_mESC\"]\n",
    "mESC_cis[\"index\"] = mESC_cis.apply(fix_ctrl_id, axis=1)"
   ]
  },
  {
   "cell_type": "code",
   "execution_count": 15,
   "metadata": {},
   "outputs": [],
   "source": [
    "human_trans = pd.read_table(human_trans_f).reset_index()\n",
    "human_trans.columns = [\"index\", \"stat_trans_human\", \"pval_trans_human\", \"fdr_trans_human\", \"df.test_trans_human\", \n",
    "                       \"df.dna_trans_human\", \"df.rna.full_trans_human\", \"df.rna.red_trans_human\", \"logFC_trans_human\"]\n",
    "human_trans[\"index\"] = human_trans.apply(fix_ctrl_id, axis=1)\n",
    "\n",
    "mouse_trans = pd.read_table(mouse_trans_f).reset_index()\n",
    "mouse_trans.columns = [\"index\", \"stat_trans_mouse\", \"pval_trans_mouse\", \"fdr_trans_mouse\", \"df.test_trans_mouse\", \n",
    "                       \"df.dna_trans_mouse\", \"df.rna.full_trans_mouse\", \"df.rna.red_trans_mouse\", \"logFC_trans_mouse\"]\n",
    "mouse_trans[\"index\"] = mouse_trans.apply(fix_ctrl_id, axis=1)"
   ]
  },
  {
   "cell_type": "code",
   "execution_count": 16,
   "metadata": {},
   "outputs": [],
   "source": [
    "cis_trans_int = pd.read_table(cis_trans_int_f).reset_index()\n",
    "cis_trans_int.columns = [\"index\", \"stat_int\", \"pval_int\", \"fdr_int\", \"df.test_int\", \n",
    "                         \"df.dna_int\", \"df.rna.full_int\", \"df.rna.red_int\", \"logFC_int\"]\n",
    "cis_trans_int[\"index\"] = cis_trans_int.apply(fix_ctrl_id, axis=1)"
   ]
  },
  {
   "cell_type": "code",
   "execution_count": 17,
   "metadata": {},
   "outputs": [
    {
     "data": {
      "text/html": [
       "<div>\n",
       "<style>\n",
       "    .dataframe thead tr:only-child th {\n",
       "        text-align: right;\n",
       "    }\n",
       "\n",
       "    .dataframe thead th {\n",
       "        text-align: left;\n",
       "    }\n",
       "\n",
       "    .dataframe tbody tr th {\n",
       "        vertical-align: top;\n",
       "    }\n",
       "</style>\n",
       "<table border=\"1\" class=\"dataframe\">\n",
       "  <thead>\n",
       "    <tr style=\"text-align: right;\">\n",
       "      <th></th>\n",
       "      <th>hg19_id</th>\n",
       "      <th>mm9_id</th>\n",
       "      <th>cage_id_hg19</th>\n",
       "      <th>cage_id_mm9</th>\n",
       "      <th>name_peak_hg19</th>\n",
       "      <th>name_peak_mm9</th>\n",
       "      <th>biotype_hg19</th>\n",
       "      <th>biotype_mm9</th>\n",
       "      <th>minimal_biotype_hg19</th>\n",
       "      <th>minimal_biotype_mm9</th>\n",
       "      <th>...</th>\n",
       "      <th>end_tss_mm9</th>\n",
       "      <th>strand_tss_mm9</th>\n",
       "      <th>avg_exp_hg19</th>\n",
       "      <th>avg_exp_mm9</th>\n",
       "      <th>stem_exp_hg19</th>\n",
       "      <th>stem_exp_mm9</th>\n",
       "      <th>max_cage_hg19</th>\n",
       "      <th>max_cage_mm9</th>\n",
       "      <th>orig_species</th>\n",
       "      <th>har</th>\n",
       "    </tr>\n",
       "  </thead>\n",
       "  <tbody>\n",
       "    <tr>\n",
       "      <th>0</th>\n",
       "      <td>h.0</td>\n",
       "      <td>m.0</td>\n",
       "      <td>chr1:2984976..2984989,-</td>\n",
       "      <td>chr4:154011655..154011673,+</td>\n",
       "      <td>ENSG00000177133.6</td>\n",
       "      <td>ENSMUSG00000085069.2</td>\n",
       "      <td>divergent</td>\n",
       "      <td>divergent</td>\n",
       "      <td>lncRNA</td>\n",
       "      <td>lncRNA</td>\n",
       "      <td>...</td>\n",
       "      <td>154011664</td>\n",
       "      <td>+</td>\n",
       "      <td>0.1</td>\n",
       "      <td>0.43</td>\n",
       "      <td>0.027777800000000002</td>\n",
       "      <td>0.0175</td>\n",
       "      <td>367.0</td>\n",
       "      <td>2286.0</td>\n",
       "      <td>human</td>\n",
       "      <td>False</td>\n",
       "    </tr>\n",
       "    <tr>\n",
       "      <th>1</th>\n",
       "      <td>h.1</td>\n",
       "      <td>m.0</td>\n",
       "      <td>chr1:2984997..2985037,-</td>\n",
       "      <td>chr4:154011655..154011673,+</td>\n",
       "      <td>ENSG00000177133.6</td>\n",
       "      <td>ENSMUSG00000085069.2</td>\n",
       "      <td>divergent</td>\n",
       "      <td>divergent</td>\n",
       "      <td>lncRNA</td>\n",
       "      <td>lncRNA</td>\n",
       "      <td>...</td>\n",
       "      <td>154011664</td>\n",
       "      <td>+</td>\n",
       "      <td>0.29</td>\n",
       "      <td>0.43</td>\n",
       "      <td>0.0311111</td>\n",
       "      <td>0.0175</td>\n",
       "      <td>367.0</td>\n",
       "      <td>2286.0</td>\n",
       "      <td>human</td>\n",
       "      <td>False</td>\n",
       "    </tr>\n",
       "    <tr>\n",
       "      <th>2</th>\n",
       "      <td>h.2</td>\n",
       "      <td>m.1</td>\n",
       "      <td>chr1:2985420..2985438,-</td>\n",
       "      <td>chr4:154011250..154011257,+</td>\n",
       "      <td>ENSG00000177133.6</td>\n",
       "      <td>ENSMUSG00000085069.2</td>\n",
       "      <td>divergent</td>\n",
       "      <td>divergent</td>\n",
       "      <td>lncRNA</td>\n",
       "      <td>lncRNA</td>\n",
       "      <td>...</td>\n",
       "      <td>154011253</td>\n",
       "      <td>+</td>\n",
       "      <td>2.54</td>\n",
       "      <td>0.85</td>\n",
       "      <td>0.07111110000000001</td>\n",
       "      <td>0.0</td>\n",
       "      <td>6966.0</td>\n",
       "      <td>1361.0</td>\n",
       "      <td>human</td>\n",
       "      <td>False</td>\n",
       "    </tr>\n",
       "    <tr>\n",
       "      <th>3</th>\n",
       "      <td>h.3</td>\n",
       "      <td>m.2</td>\n",
       "      <td>chr1:8086546..8086571,+</td>\n",
       "      <td>chr4:150229039..150229050,-</td>\n",
       "      <td>ENSG00000238290.1</td>\n",
       "      <td>ENSMUSG00000078492.3</td>\n",
       "      <td>divergent</td>\n",
       "      <td>antisense</td>\n",
       "      <td>lncRNA</td>\n",
       "      <td>lncRNA</td>\n",
       "      <td>...</td>\n",
       "      <td>150229045</td>\n",
       "      <td>-</td>\n",
       "      <td>0.3</td>\n",
       "      <td>0.14</td>\n",
       "      <td>0.10444400000000001</td>\n",
       "      <td>0.0</td>\n",
       "      <td>960.0</td>\n",
       "      <td>123.0</td>\n",
       "      <td>human</td>\n",
       "      <td>False</td>\n",
       "    </tr>\n",
       "    <tr>\n",
       "      <th>4</th>\n",
       "      <td>h.4</td>\n",
       "      <td>m.3</td>\n",
       "      <td>chr1:26498321..26498327,-</td>\n",
       "      <td>chr4:133799669..133799683,+</td>\n",
       "      <td>ENSG00000236782.1</td>\n",
       "      <td>ENSMUSG00000086322.7</td>\n",
       "      <td>antisense</td>\n",
       "      <td>protein_coding</td>\n",
       "      <td>other</td>\n",
       "      <td>mRNA</td>\n",
       "      <td>...</td>\n",
       "      <td>133799678</td>\n",
       "      <td>+</td>\n",
       "      <td>0.19</td>\n",
       "      <td>0.25</td>\n",
       "      <td>0.03</td>\n",
       "      <td>0.0</td>\n",
       "      <td>753.0</td>\n",
       "      <td>770.0</td>\n",
       "      <td>human</td>\n",
       "      <td>False</td>\n",
       "    </tr>\n",
       "  </tbody>\n",
       "</table>\n",
       "<p>5 rows × 26 columns</p>\n",
       "</div>"
      ],
      "text/plain": [
       "  hg19_id mm9_id               cage_id_hg19                  cage_id_mm9  \\\n",
       "0     h.0    m.0    chr1:2984976..2984989,-  chr4:154011655..154011673,+   \n",
       "1     h.1    m.0    chr1:2984997..2985037,-  chr4:154011655..154011673,+   \n",
       "2     h.2    m.1    chr1:2985420..2985438,-  chr4:154011250..154011257,+   \n",
       "3     h.3    m.2    chr1:8086546..8086571,+  chr4:150229039..150229050,-   \n",
       "4     h.4    m.3  chr1:26498321..26498327,-  chr4:133799669..133799683,+   \n",
       "\n",
       "      name_peak_hg19         name_peak_mm9 biotype_hg19     biotype_mm9  \\\n",
       "0  ENSG00000177133.6  ENSMUSG00000085069.2    divergent       divergent   \n",
       "1  ENSG00000177133.6  ENSMUSG00000085069.2    divergent       divergent   \n",
       "2  ENSG00000177133.6  ENSMUSG00000085069.2    divergent       divergent   \n",
       "3  ENSG00000238290.1  ENSMUSG00000078492.3    divergent       antisense   \n",
       "4  ENSG00000236782.1  ENSMUSG00000086322.7    antisense  protein_coding   \n",
       "\n",
       "  minimal_biotype_hg19 minimal_biotype_mm9  ...   end_tss_mm9  strand_tss_mm9  \\\n",
       "0               lncRNA              lncRNA  ...     154011664               +   \n",
       "1               lncRNA              lncRNA  ...     154011664               +   \n",
       "2               lncRNA              lncRNA  ...     154011253               +   \n",
       "3               lncRNA              lncRNA  ...     150229045               -   \n",
       "4                other                mRNA  ...     133799678               +   \n",
       "\n",
       "   avg_exp_hg19 avg_exp_mm9         stem_exp_hg19  stem_exp_mm9  \\\n",
       "0           0.1        0.43  0.027777800000000002        0.0175   \n",
       "1          0.29        0.43             0.0311111        0.0175   \n",
       "2          2.54        0.85   0.07111110000000001           0.0   \n",
       "3           0.3        0.14   0.10444400000000001           0.0   \n",
       "4          0.19        0.25                  0.03           0.0   \n",
       "\n",
       "   max_cage_hg19 max_cage_mm9 orig_species    har  \n",
       "0          367.0       2286.0        human  False  \n",
       "1          367.0       2286.0        human  False  \n",
       "2         6966.0       1361.0        human  False  \n",
       "3          960.0        123.0        human  False  \n",
       "4          753.0        770.0        human  False  \n",
       "\n",
       "[5 rows x 26 columns]"
      ]
     },
     "execution_count": 17,
     "metadata": {},
     "output_type": "execute_result"
    }
   ],
   "source": [
    "tss_map = pd.read_table(tss_map_f)\n",
    "tss_map.head()"
   ]
  },
  {
   "cell_type": "code",
   "execution_count": 18,
   "metadata": {},
   "outputs": [
    {
     "data": {
      "text/plain": [
       "lncRNA              1103\n",
       "mRNA                1088\n",
       "eRNA                 701\n",
       "other                484\n",
       "no CAGE activity     370\n",
       "Name: minimal_biotype_hg19, dtype: int64"
      ]
     },
     "execution_count": 18,
     "metadata": {},
     "output_type": "execute_result"
    }
   ],
   "source": [
    "tss_map.minimal_biotype_hg19.value_counts()"
   ]
  },
  {
   "cell_type": "code",
   "execution_count": 19,
   "metadata": {},
   "outputs": [],
   "source": [
    "# align = pd.read_table(align_f, sep=\",\", index_col=0)\n",
    "# align.head()"
   ]
  },
  {
   "cell_type": "code",
   "execution_count": 20,
   "metadata": {},
   "outputs": [],
   "source": [
    "# cage_data = pd.read_table(cage_data_f, sep=\"\\t\")\n",
    "# cage_data.drop([\"tissue_sp_3\", \"n_expr\"], axis=1, inplace=True)\n",
    "# cage_data.columns = [\"cage_id_hg19\", \"av_cage_exp_hg19\", \"cage_tissue_sp_hg19\", \"cage_tss_type_hg19\"]\n",
    "# cage_data.head()"
   ]
  },
  {
   "cell_type": "markdown",
   "metadata": {},
   "source": [
    "## 2. add biotype switch to TSS map"
   ]
  },
  {
   "cell_type": "code",
   "execution_count": 21,
   "metadata": {},
   "outputs": [
    {
     "data": {
      "text/html": [
       "<div>\n",
       "<style>\n",
       "    .dataframe thead tr:only-child th {\n",
       "        text-align: right;\n",
       "    }\n",
       "\n",
       "    .dataframe thead th {\n",
       "        text-align: left;\n",
       "    }\n",
       "\n",
       "    .dataframe tbody tr th {\n",
       "        vertical-align: top;\n",
       "    }\n",
       "</style>\n",
       "<table border=\"1\" class=\"dataframe\">\n",
       "  <thead>\n",
       "    <tr style=\"text-align: right;\">\n",
       "      <th></th>\n",
       "      <th>hg19_id</th>\n",
       "      <th>mm9_id</th>\n",
       "      <th>cage_id_hg19</th>\n",
       "      <th>cage_id_mm9</th>\n",
       "      <th>name_peak_hg19</th>\n",
       "      <th>name_peak_mm9</th>\n",
       "      <th>biotype_hg19</th>\n",
       "      <th>biotype_mm9</th>\n",
       "      <th>minimal_biotype_hg19</th>\n",
       "      <th>minimal_biotype_mm9</th>\n",
       "      <th>...</th>\n",
       "      <th>end_tss_mm9</th>\n",
       "      <th>strand_tss_mm9</th>\n",
       "      <th>avg_exp_hg19</th>\n",
       "      <th>avg_exp_mm9</th>\n",
       "      <th>stem_exp_hg19</th>\n",
       "      <th>stem_exp_mm9</th>\n",
       "      <th>max_cage_hg19</th>\n",
       "      <th>max_cage_mm9</th>\n",
       "      <th>orig_species</th>\n",
       "      <th>har</th>\n",
       "    </tr>\n",
       "  </thead>\n",
       "  <tbody>\n",
       "    <tr>\n",
       "      <th>14</th>\n",
       "      <td>h.14</td>\n",
       "      <td>m.10</td>\n",
       "      <td>chr1:145096480..145096513,+</td>\n",
       "      <td>chr3:97705122..97705173,+</td>\n",
       "      <td>ENSG00000223380.3</td>\n",
       "      <td>ENSMUSG00000027879.9</td>\n",
       "      <td>intergenic</td>\n",
       "      <td>protein_coding</td>\n",
       "      <td>mRNA</td>\n",
       "      <td>mRNA</td>\n",
       "      <td>...</td>\n",
       "      <td>97705150</td>\n",
       "      <td>+</td>\n",
       "      <td>9.09</td>\n",
       "      <td>49.04</td>\n",
       "      <td>5.615559999999999</td>\n",
       "      <td>25.7075</td>\n",
       "      <td>53131.0</td>\n",
       "      <td>44332.0</td>\n",
       "      <td>human</td>\n",
       "      <td>False</td>\n",
       "    </tr>\n",
       "  </tbody>\n",
       "</table>\n",
       "<p>1 rows × 26 columns</p>\n",
       "</div>"
      ],
      "text/plain": [
       "   hg19_id mm9_id                 cage_id_hg19                cage_id_mm9  \\\n",
       "14    h.14   m.10  chr1:145096480..145096513,+  chr3:97705122..97705173,+   \n",
       "\n",
       "       name_peak_hg19         name_peak_mm9 biotype_hg19     biotype_mm9  \\\n",
       "14  ENSG00000223380.3  ENSMUSG00000027879.9   intergenic  protein_coding   \n",
       "\n",
       "   minimal_biotype_hg19 minimal_biotype_mm9  ...   end_tss_mm9  \\\n",
       "14                 mRNA                mRNA  ...      97705150   \n",
       "\n",
       "    strand_tss_mm9  avg_exp_hg19 avg_exp_mm9      stem_exp_hg19  stem_exp_mm9  \\\n",
       "14               +          9.09       49.04  5.615559999999999       25.7075   \n",
       "\n",
       "    max_cage_hg19 max_cage_mm9 orig_species    har  \n",
       "14        53131.0      44332.0        human  False  \n",
       "\n",
       "[1 rows x 26 columns]"
      ]
     },
     "execution_count": 21,
     "metadata": {},
     "output_type": "execute_result"
    }
   ],
   "source": [
    "tss_map[tss_map[\"hg19_id\"] == \"h.14\"]"
   ]
  },
  {
   "cell_type": "code",
   "execution_count": 22,
   "metadata": {},
   "outputs": [
    {
     "data": {
      "text/plain": [
       "lncRNA              1103\n",
       "mRNA                1088\n",
       "eRNA                 701\n",
       "other                484\n",
       "no CAGE activity     370\n",
       "Name: minimal_biotype_hg19, dtype: int64"
      ]
     },
     "execution_count": 22,
     "metadata": {},
     "output_type": "execute_result"
    }
   ],
   "source": [
    "tss_map.minimal_biotype_hg19.value_counts()"
   ]
  },
  {
   "cell_type": "code",
   "execution_count": 23,
   "metadata": {},
   "outputs": [],
   "source": [
    "# tss_map[\"biotype_switch_clean\"] = tss_map.apply(biotype_switch_clean, axis=1)\n",
    "# tss_map.biotype_switch_clean.value_counts()"
   ]
  },
  {
   "cell_type": "code",
   "execution_count": 24,
   "metadata": {},
   "outputs": [
    {
     "data": {
      "text/plain": [
       "3789"
      ]
     },
     "execution_count": 24,
     "metadata": {},
     "output_type": "execute_result"
    }
   ],
   "source": [
    "len(tss_map)"
   ]
  },
  {
   "cell_type": "code",
   "execution_count": 25,
   "metadata": {},
   "outputs": [
    {
     "data": {
      "text/plain": [
       "43"
      ]
     },
     "execution_count": 25,
     "metadata": {},
     "output_type": "execute_result"
    }
   ],
   "source": [
    "# THIS SHOULD BE ZERO AFTER WINONA REDOES THE COUNTS AND I RERUN THE CLASSIFICATION SCRIPT\n",
    "len(tss_map[pd.isnull(tss_map[\"minimal_biotype_mm9\"])])"
   ]
  },
  {
   "cell_type": "code",
   "execution_count": 26,
   "metadata": {},
   "outputs": [
    {
     "data": {
      "text/plain": [
       "mRNA                      1006\n",
       "lncRNA                     657\n",
       "eRNA                       501\n",
       "biotype switch             390\n",
       "CAGE turnover - lncRNA     384\n",
       "CAGE turnover - eRNA       326\n",
       "other                      289\n",
       "CAGE turnover - other      101\n",
       "CAGE turnover - mRNA        92\n",
       "Name: biotype_switch_minimal, dtype: int64"
      ]
     },
     "execution_count": 26,
     "metadata": {},
     "output_type": "execute_result"
    }
   ],
   "source": [
    "tss_map[\"biotype_switch_minimal\"] = tss_map.apply(biotype_switch_minimal, axis=1)\n",
    "tss_map.biotype_switch_minimal.value_counts()"
   ]
  },
  {
   "cell_type": "markdown",
   "metadata": {},
   "source": [
    "## 3. merge alphas with TSS map"
   ]
  },
  {
   "cell_type": "markdown",
   "metadata": {},
   "source": [
    "split up into tile1 and tile2"
   ]
  },
  {
   "cell_type": "code",
   "execution_count": 27,
   "metadata": {},
   "outputs": [
    {
     "data": {
      "text/html": [
       "<div>\n",
       "<style>\n",
       "    .dataframe thead tr:only-child th {\n",
       "        text-align: right;\n",
       "    }\n",
       "\n",
       "    .dataframe thead th {\n",
       "        text-align: left;\n",
       "    }\n",
       "\n",
       "    .dataframe tbody tr th {\n",
       "        vertical-align: top;\n",
       "    }\n",
       "</style>\n",
       "<table border=\"1\" class=\"dataframe\">\n",
       "  <thead>\n",
       "    <tr style=\"text-align: right;\">\n",
       "      <th></th>\n",
       "      <th>mm9_element</th>\n",
       "      <th>mm9_id</th>\n",
       "      <th>mm9_tile_num</th>\n",
       "    </tr>\n",
       "  </thead>\n",
       "  <tbody>\n",
       "    <tr>\n",
       "      <th>3814</th>\n",
       "      <td>CGATCCTCTTGCGCAAGCGTAAATGTGTCCAAGAAGCGGGAACGGA...</td>\n",
       "      <td>m.108</td>\n",
       "      <td>tile2</td>\n",
       "    </tr>\n",
       "    <tr>\n",
       "      <th>2307</th>\n",
       "      <td>ATGTGTGAGCCTTAAGGATGCTTTTAATGTTCTCATGAGAATTTTT...</td>\n",
       "      <td>m.1954</td>\n",
       "      <td>tile2</td>\n",
       "    </tr>\n",
       "    <tr>\n",
       "      <th>4715</th>\n",
       "      <td>GAATATCATCCAATGCATACACGAGAAGGGAAAGAGGGACTCGAAT...</td>\n",
       "      <td>m.3431</td>\n",
       "      <td>tile1</td>\n",
       "    </tr>\n",
       "    <tr>\n",
       "      <th>4751</th>\n",
       "      <td>GAGCTGCCCAGCGACTGGACAGCCCGACGCAGCGGAGGGGCGAGCG...</td>\n",
       "      <td>m.133</td>\n",
       "      <td>tile1</td>\n",
       "    </tr>\n",
       "    <tr>\n",
       "      <th>4169</th>\n",
       "      <td>CTCCAGCCGGGCTCCTGTGGCGGCGAAATTCAGTACCATCCCTCAG...</td>\n",
       "      <td>m.2437</td>\n",
       "      <td>tile2</td>\n",
       "    </tr>\n",
       "  </tbody>\n",
       "</table>\n",
       "</div>"
      ],
      "text/plain": [
       "                                            mm9_element  mm9_id mm9_tile_num\n",
       "3814  CGATCCTCTTGCGCAAGCGTAAATGTGTCCAAGAAGCGGGAACGGA...   m.108        tile2\n",
       "2307  ATGTGTGAGCCTTAAGGATGCTTTTAATGTTCTCATGAGAATTTTT...  m.1954        tile2\n",
       "4715  GAATATCATCCAATGCATACACGAGAAGGGAAAGAGGGACTCGAAT...  m.3431        tile1\n",
       "4751  GAGCTGCCCAGCGACTGGACAGCCCGACGCAGCGGAGGGGCGAGCG...   m.133        tile1\n",
       "4169  CTCCAGCCGGGCTCCTGTGGCGGCGAAATTCAGTACCATCCCTCAG...  m.2437        tile2"
      ]
     },
     "execution_count": 27,
     "metadata": {},
     "output_type": "execute_result"
    }
   ],
   "source": [
    "human_vals_sub = human_vals[[\"element\", \"tss_id\", \"tss_tile_num\"]]\n",
    "human_vals_sub.columns = [\"hg19_element\", \"hg19_id\", \"hg19_tile_num\"]\n",
    "\n",
    "mouse_vals_sub = mouse_vals[[\"element\", \"tss_id\", \"tss_tile_num\"]]\n",
    "mouse_vals_sub.columns = [\"mm9_element\", \"mm9_id\", \"mm9_tile_num\"]\n",
    "mouse_vals_sub.sample(5)"
   ]
  },
  {
   "cell_type": "code",
   "execution_count": 28,
   "metadata": {},
   "outputs": [
    {
     "name": "stdout",
     "output_type": "stream",
     "text": [
      "2943\n",
      "3021\n",
      "2917\n",
      "2980\n"
     ]
    }
   ],
   "source": [
    "human_vals_tile1 = human_vals_sub[human_vals_sub[\"hg19_tile_num\"] == \"tile1\"].drop_duplicates()\n",
    "human_vals_tile2 = human_vals_sub[human_vals_sub[\"hg19_tile_num\"] == \"tile2\"].drop_duplicates()\n",
    "mouse_vals_tile1 = mouse_vals_sub[mouse_vals_sub[\"mm9_tile_num\"] == \"tile1\"].drop_duplicates()\n",
    "mouse_vals_tile2 = mouse_vals_sub[mouse_vals_sub[\"mm9_tile_num\"] == \"tile2\"].drop_duplicates()\n",
    "\n",
    "print(len(human_vals_tile1))\n",
    "print(len(human_vals_tile2))\n",
    "print(len(mouse_vals_tile1))\n",
    "print(len(mouse_vals_tile2))"
   ]
  },
  {
   "cell_type": "code",
   "execution_count": 29,
   "metadata": {},
   "outputs": [
    {
     "name": "stdout",
     "output_type": "stream",
     "text": [
      "2712\n"
     ]
    }
   ],
   "source": [
    "tss_map_tile1 = tss_map.merge(human_vals_tile1, on=\"hg19_id\").merge(mouse_vals_tile1, on=\"mm9_id\")\n",
    "print(len(tss_map_tile1))"
   ]
  },
  {
   "cell_type": "code",
   "execution_count": 30,
   "metadata": {},
   "outputs": [
    {
     "name": "stdout",
     "output_type": "stream",
     "text": [
      "2792\n"
     ]
    }
   ],
   "source": [
    "tss_map_tile2 = tss_map.merge(human_vals_tile2, on=\"hg19_id\").merge(mouse_vals_tile2, on=\"mm9_id\")\n",
    "print(len(tss_map_tile2))"
   ]
  },
  {
   "cell_type": "code",
   "execution_count": 31,
   "metadata": {},
   "outputs": [
    {
     "data": {
      "text/html": [
       "<div>\n",
       "<style>\n",
       "    .dataframe thead tr:only-child th {\n",
       "        text-align: right;\n",
       "    }\n",
       "\n",
       "    .dataframe thead th {\n",
       "        text-align: left;\n",
       "    }\n",
       "\n",
       "    .dataframe tbody tr th {\n",
       "        vertical-align: top;\n",
       "    }\n",
       "</style>\n",
       "<table border=\"1\" class=\"dataframe\">\n",
       "  <thead>\n",
       "    <tr style=\"text-align: right;\">\n",
       "      <th></th>\n",
       "      <th>hg19_id</th>\n",
       "      <th>mm9_id</th>\n",
       "      <th>cage_id_hg19</th>\n",
       "      <th>cage_id_mm9</th>\n",
       "      <th>name_peak_hg19</th>\n",
       "      <th>name_peak_mm9</th>\n",
       "      <th>biotype_hg19</th>\n",
       "      <th>biotype_mm9</th>\n",
       "      <th>minimal_biotype_hg19</th>\n",
       "      <th>minimal_biotype_mm9</th>\n",
       "      <th>...</th>\n",
       "      <th>HUES64_padj_hg19</th>\n",
       "      <th>mESC_padj_hg19</th>\n",
       "      <th>index_mm9</th>\n",
       "      <th>HUES64_mm9</th>\n",
       "      <th>mESC_mm9</th>\n",
       "      <th>HUES64_pval_mm9</th>\n",
       "      <th>mESC_pval_mm9</th>\n",
       "      <th>HUES64_padj_mm9</th>\n",
       "      <th>mESC_padj_mm9</th>\n",
       "      <th>tss_tile_num</th>\n",
       "    </tr>\n",
       "  </thead>\n",
       "  <tbody>\n",
       "    <tr>\n",
       "      <th>0</th>\n",
       "      <td>h.2</td>\n",
       "      <td>m.1</td>\n",
       "      <td>chr1:2985420..2985438,-</td>\n",
       "      <td>chr4:154011250..154011257,+</td>\n",
       "      <td>ENSG00000177133.6</td>\n",
       "      <td>ENSMUSG00000085069.2</td>\n",
       "      <td>divergent</td>\n",
       "      <td>divergent</td>\n",
       "      <td>lncRNA</td>\n",
       "      <td>lncRNA</td>\n",
       "      <td>...</td>\n",
       "      <td>1.812116e-03</td>\n",
       "      <td>6.958630e-01</td>\n",
       "      <td>CCCTTTTCAGCGCAGCTCGGAACTGGCCCTTTAAGAAAACATTCCT...</td>\n",
       "      <td>1.929367</td>\n",
       "      <td>1.179409</td>\n",
       "      <td>2.550782e-03</td>\n",
       "      <td>0.385808</td>\n",
       "      <td>8.819708e-03</td>\n",
       "      <td>0.692688</td>\n",
       "      <td>tile1</td>\n",
       "    </tr>\n",
       "    <tr>\n",
       "      <th>1</th>\n",
       "      <td>h.3</td>\n",
       "      <td>m.2</td>\n",
       "      <td>chr1:8086546..8086571,+</td>\n",
       "      <td>chr4:150229039..150229050,-</td>\n",
       "      <td>ENSG00000238290.1</td>\n",
       "      <td>ENSMUSG00000078492.3</td>\n",
       "      <td>divergent</td>\n",
       "      <td>antisense</td>\n",
       "      <td>lncRNA</td>\n",
       "      <td>lncRNA</td>\n",
       "      <td>...</td>\n",
       "      <td>4.883017e-01</td>\n",
       "      <td>6.945105e-01</td>\n",
       "      <td>TATTTATACGGTGAGCGACAACGTGACGTCAACGCCCGCAGCCCCG...</td>\n",
       "      <td>1.312270</td>\n",
       "      <td>1.914743</td>\n",
       "      <td>1.548958e-01</td>\n",
       "      <td>0.013920</td>\n",
       "      <td>3.497883e-01</td>\n",
       "      <td>0.055405</td>\n",
       "      <td>tile1</td>\n",
       "    </tr>\n",
       "    <tr>\n",
       "      <th>2</th>\n",
       "      <td>h.4</td>\n",
       "      <td>m.3</td>\n",
       "      <td>chr1:26498321..26498327,-</td>\n",
       "      <td>chr4:133799669..133799683,+</td>\n",
       "      <td>ENSG00000236782.1</td>\n",
       "      <td>ENSMUSG00000086322.7</td>\n",
       "      <td>antisense</td>\n",
       "      <td>protein_coding</td>\n",
       "      <td>other</td>\n",
       "      <td>mRNA</td>\n",
       "      <td>...</td>\n",
       "      <td>2.428031e-01</td>\n",
       "      <td>4.505074e-01</td>\n",
       "      <td>GATATTCAGGCCTGATGCTGATCCCTCCTGACAGCTGCTCCTAAGG...</td>\n",
       "      <td>1.653914</td>\n",
       "      <td>1.499628</td>\n",
       "      <td>2.254412e-02</td>\n",
       "      <td>0.130995</td>\n",
       "      <td>6.724474e-02</td>\n",
       "      <td>0.368915</td>\n",
       "      <td>tile1</td>\n",
       "    </tr>\n",
       "    <tr>\n",
       "      <th>3</th>\n",
       "      <td>h.5</td>\n",
       "      <td>m.4</td>\n",
       "      <td>chr1:65533390..65533443,-</td>\n",
       "      <td>chr4:101029310..101029334,-</td>\n",
       "      <td>ENSG00000231485.1</td>\n",
       "      <td>ENSMUSG00000086782.2</td>\n",
       "      <td>intergenic</td>\n",
       "      <td>intergenic</td>\n",
       "      <td>lncRNA</td>\n",
       "      <td>other</td>\n",
       "      <td>...</td>\n",
       "      <td>1.368040e-14</td>\n",
       "      <td>1.753169e-23</td>\n",
       "      <td>TGAGACCCGGAAGTTTTTTTTTTTTTTTTTTTTCCTTCAATCCTGT...</td>\n",
       "      <td>3.223137</td>\n",
       "      <td>2.285388</td>\n",
       "      <td>3.022069e-11</td>\n",
       "      <td>0.000784</td>\n",
       "      <td>1.727483e-10</td>\n",
       "      <td>0.003826</td>\n",
       "      <td>tile1</td>\n",
       "    </tr>\n",
       "    <tr>\n",
       "      <th>4</th>\n",
       "      <td>h.6</td>\n",
       "      <td>m.4</td>\n",
       "      <td>chr1:65533457..65533465,-</td>\n",
       "      <td>chr4:101029310..101029334,-</td>\n",
       "      <td>ENSG00000231485.1</td>\n",
       "      <td>ENSMUSG00000086782.2</td>\n",
       "      <td>intergenic</td>\n",
       "      <td>intergenic</td>\n",
       "      <td>lncRNA</td>\n",
       "      <td>other</td>\n",
       "      <td>...</td>\n",
       "      <td>3.003835e-10</td>\n",
       "      <td>2.655447e-09</td>\n",
       "      <td>TGAGACCCGGAAGTTTTTTTTTTTTTTTTTTTTCCTTCAATCCTGT...</td>\n",
       "      <td>3.223137</td>\n",
       "      <td>2.285388</td>\n",
       "      <td>3.022069e-11</td>\n",
       "      <td>0.000784</td>\n",
       "      <td>1.727483e-10</td>\n",
       "      <td>0.003826</td>\n",
       "      <td>tile1</td>\n",
       "    </tr>\n",
       "  </tbody>\n",
       "</table>\n",
       "<p>5 rows × 46 columns</p>\n",
       "</div>"
      ],
      "text/plain": [
       "  hg19_id mm9_id               cage_id_hg19                  cage_id_mm9  \\\n",
       "0     h.2    m.1    chr1:2985420..2985438,-  chr4:154011250..154011257,+   \n",
       "1     h.3    m.2    chr1:8086546..8086571,+  chr4:150229039..150229050,-   \n",
       "2     h.4    m.3  chr1:26498321..26498327,-  chr4:133799669..133799683,+   \n",
       "3     h.5    m.4  chr1:65533390..65533443,-  chr4:101029310..101029334,-   \n",
       "4     h.6    m.4  chr1:65533457..65533465,-  chr4:101029310..101029334,-   \n",
       "\n",
       "      name_peak_hg19         name_peak_mm9 biotype_hg19     biotype_mm9  \\\n",
       "0  ENSG00000177133.6  ENSMUSG00000085069.2    divergent       divergent   \n",
       "1  ENSG00000238290.1  ENSMUSG00000078492.3    divergent       antisense   \n",
       "2  ENSG00000236782.1  ENSMUSG00000086322.7    antisense  protein_coding   \n",
       "3  ENSG00000231485.1  ENSMUSG00000086782.2   intergenic      intergenic   \n",
       "4  ENSG00000231485.1  ENSMUSG00000086782.2   intergenic      intergenic   \n",
       "\n",
       "  minimal_biotype_hg19 minimal_biotype_mm9     ...      HUES64_padj_hg19  \\\n",
       "0               lncRNA              lncRNA     ...          1.812116e-03   \n",
       "1               lncRNA              lncRNA     ...          4.883017e-01   \n",
       "2                other                mRNA     ...          2.428031e-01   \n",
       "3               lncRNA               other     ...          1.368040e-14   \n",
       "4               lncRNA               other     ...          3.003835e-10   \n",
       "\n",
       "   mESC_padj_hg19                                          index_mm9  \\\n",
       "0    6.958630e-01  CCCTTTTCAGCGCAGCTCGGAACTGGCCCTTTAAGAAAACATTCCT...   \n",
       "1    6.945105e-01  TATTTATACGGTGAGCGACAACGTGACGTCAACGCCCGCAGCCCCG...   \n",
       "2    4.505074e-01  GATATTCAGGCCTGATGCTGATCCCTCCTGACAGCTGCTCCTAAGG...   \n",
       "3    1.753169e-23  TGAGACCCGGAAGTTTTTTTTTTTTTTTTTTTTCCTTCAATCCTGT...   \n",
       "4    2.655447e-09  TGAGACCCGGAAGTTTTTTTTTTTTTTTTTTTTCCTTCAATCCTGT...   \n",
       "\n",
       "  HUES64_mm9  mESC_mm9  HUES64_pval_mm9  mESC_pval_mm9 HUES64_padj_mm9  \\\n",
       "0   1.929367  1.179409     2.550782e-03       0.385808    8.819708e-03   \n",
       "1   1.312270  1.914743     1.548958e-01       0.013920    3.497883e-01   \n",
       "2   1.653914  1.499628     2.254412e-02       0.130995    6.724474e-02   \n",
       "3   3.223137  2.285388     3.022069e-11       0.000784    1.727483e-10   \n",
       "4   3.223137  2.285388     3.022069e-11       0.000784    1.727483e-10   \n",
       "\n",
       "  mESC_padj_mm9 tss_tile_num  \n",
       "0      0.692688        tile1  \n",
       "1      0.055405        tile1  \n",
       "2      0.368915        tile1  \n",
       "3      0.003826        tile1  \n",
       "4      0.003826        tile1  \n",
       "\n",
       "[5 rows x 46 columns]"
      ]
     },
     "execution_count": 31,
     "metadata": {},
     "output_type": "execute_result"
    }
   ],
   "source": [
    "tss_map_tile1 = tss_map_tile1.merge(alpha, \n",
    "                                    left_on=\"hg19_element\", \n",
    "                                    right_on=\"index\").merge(alpha,\n",
    "                                                            left_on=\"mm9_element\",\n",
    "                                                            right_on=\"index\",\n",
    "                                                            suffixes=(\"_hg19\", \"_mm9\"))\n",
    "tss_map_tile1[\"tss_tile_num\"] = \"tile1\"\n",
    "tss_map_tile1.head()"
   ]
  },
  {
   "cell_type": "code",
   "execution_count": 32,
   "metadata": {},
   "outputs": [
    {
     "data": {
      "text/html": [
       "<div>\n",
       "<style>\n",
       "    .dataframe thead tr:only-child th {\n",
       "        text-align: right;\n",
       "    }\n",
       "\n",
       "    .dataframe thead th {\n",
       "        text-align: left;\n",
       "    }\n",
       "\n",
       "    .dataframe tbody tr th {\n",
       "        vertical-align: top;\n",
       "    }\n",
       "</style>\n",
       "<table border=\"1\" class=\"dataframe\">\n",
       "  <thead>\n",
       "    <tr style=\"text-align: right;\">\n",
       "      <th></th>\n",
       "      <th>hg19_id</th>\n",
       "      <th>mm9_id</th>\n",
       "      <th>cage_id_hg19</th>\n",
       "      <th>cage_id_mm9</th>\n",
       "      <th>name_peak_hg19</th>\n",
       "      <th>name_peak_mm9</th>\n",
       "      <th>biotype_hg19</th>\n",
       "      <th>biotype_mm9</th>\n",
       "      <th>minimal_biotype_hg19</th>\n",
       "      <th>minimal_biotype_mm9</th>\n",
       "      <th>...</th>\n",
       "      <th>HUES64_padj_hg19</th>\n",
       "      <th>mESC_padj_hg19</th>\n",
       "      <th>index_mm9</th>\n",
       "      <th>HUES64_mm9</th>\n",
       "      <th>mESC_mm9</th>\n",
       "      <th>HUES64_pval_mm9</th>\n",
       "      <th>mESC_pval_mm9</th>\n",
       "      <th>HUES64_padj_mm9</th>\n",
       "      <th>mESC_padj_mm9</th>\n",
       "      <th>tss_tile_num</th>\n",
       "    </tr>\n",
       "  </thead>\n",
       "  <tbody>\n",
       "    <tr>\n",
       "      <th>0</th>\n",
       "      <td>h.2</td>\n",
       "      <td>m.1</td>\n",
       "      <td>chr1:2985420..2985438,-</td>\n",
       "      <td>chr4:154011250..154011257,+</td>\n",
       "      <td>ENSG00000177133.6</td>\n",
       "      <td>ENSMUSG00000085069.2</td>\n",
       "      <td>divergent</td>\n",
       "      <td>divergent</td>\n",
       "      <td>lncRNA</td>\n",
       "      <td>lncRNA</td>\n",
       "      <td>...</td>\n",
       "      <td>0.751141</td>\n",
       "      <td>0.765749</td>\n",
       "      <td>GTGTTCATCATCCTCTTCGTCGCGCCGCCGCCGCCGCCGCCTCGGC...</td>\n",
       "      <td>1.080031</td>\n",
       "      <td>1.014725</td>\n",
       "      <td>3.654486e-01</td>\n",
       "      <td>5.546171e-01</td>\n",
       "      <td>6.244843e-01</td>\n",
       "      <td>7.603340e-01</td>\n",
       "      <td>tile2</td>\n",
       "    </tr>\n",
       "    <tr>\n",
       "      <th>1</th>\n",
       "      <td>h.4</td>\n",
       "      <td>m.3</td>\n",
       "      <td>chr1:26498321..26498327,-</td>\n",
       "      <td>chr4:133799669..133799683,+</td>\n",
       "      <td>ENSG00000236782.1</td>\n",
       "      <td>ENSMUSG00000086322.7</td>\n",
       "      <td>antisense</td>\n",
       "      <td>protein_coding</td>\n",
       "      <td>other</td>\n",
       "      <td>mRNA</td>\n",
       "      <td>...</td>\n",
       "      <td>0.494085</td>\n",
       "      <td>0.337003</td>\n",
       "      <td>CAGGGCCGAGGGAGGCTGCCTAGTACCTGATGGATGCGGGGACTCC...</td>\n",
       "      <td>1.201008</td>\n",
       "      <td>1.281535</td>\n",
       "      <td>2.438893e-01</td>\n",
       "      <td>2.893006e-01</td>\n",
       "      <td>4.892946e-01</td>\n",
       "      <td>6.171539e-01</td>\n",
       "      <td>tile2</td>\n",
       "    </tr>\n",
       "    <tr>\n",
       "      <th>2</th>\n",
       "      <td>h.5</td>\n",
       "      <td>m.4</td>\n",
       "      <td>chr1:65533390..65533443,-</td>\n",
       "      <td>chr4:101029310..101029334,-</td>\n",
       "      <td>ENSG00000231485.1</td>\n",
       "      <td>ENSMUSG00000086782.2</td>\n",
       "      <td>intergenic</td>\n",
       "      <td>intergenic</td>\n",
       "      <td>lncRNA</td>\n",
       "      <td>other</td>\n",
       "      <td>...</td>\n",
       "      <td>0.018955</td>\n",
       "      <td>0.347638</td>\n",
       "      <td>CCCAGCCTCCGGCTCCTGGGCACGGAGAGACCGGCGCGCACGCGCG...</td>\n",
       "      <td>3.340951</td>\n",
       "      <td>5.184600</td>\n",
       "      <td>2.921851e-12</td>\n",
       "      <td>5.691976e-27</td>\n",
       "      <td>1.725633e-11</td>\n",
       "      <td>6.309819e-26</td>\n",
       "      <td>tile2</td>\n",
       "    </tr>\n",
       "    <tr>\n",
       "      <th>3</th>\n",
       "      <td>h.6</td>\n",
       "      <td>m.4</td>\n",
       "      <td>chr1:65533457..65533465,-</td>\n",
       "      <td>chr4:101029310..101029334,-</td>\n",
       "      <td>ENSG00000231485.1</td>\n",
       "      <td>ENSMUSG00000086782.2</td>\n",
       "      <td>intergenic</td>\n",
       "      <td>intergenic</td>\n",
       "      <td>lncRNA</td>\n",
       "      <td>other</td>\n",
       "      <td>...</td>\n",
       "      <td>0.009365</td>\n",
       "      <td>0.030918</td>\n",
       "      <td>CCCAGCCTCCGGCTCCTGGGCACGGAGAGACCGGCGCGCACGCGCG...</td>\n",
       "      <td>3.340951</td>\n",
       "      <td>5.184600</td>\n",
       "      <td>2.921851e-12</td>\n",
       "      <td>5.691976e-27</td>\n",
       "      <td>1.725633e-11</td>\n",
       "      <td>6.309819e-26</td>\n",
       "      <td>tile2</td>\n",
       "    </tr>\n",
       "    <tr>\n",
       "      <th>4</th>\n",
       "      <td>h.8</td>\n",
       "      <td>m.6</td>\n",
       "      <td>chr1:95975684..95975731,+</td>\n",
       "      <td>chr3:120589646..120589664,-</td>\n",
       "      <td>ENSG00000228971.2</td>\n",
       "      <td>ENSMUSG00000098097.7</td>\n",
       "      <td>intergenic</td>\n",
       "      <td>intergenic</td>\n",
       "      <td>other</td>\n",
       "      <td>lncRNA</td>\n",
       "      <td>...</td>\n",
       "      <td>0.801925</td>\n",
       "      <td>0.773335</td>\n",
       "      <td>AGTTAGATATCATCTATGTTCGCACTAAGTTTCCAGAAAGTCTTAT...</td>\n",
       "      <td>0.647859</td>\n",
       "      <td>1.015126</td>\n",
       "      <td>8.175529e-01</td>\n",
       "      <td>5.542059e-01</td>\n",
       "      <td>8.607159e-01</td>\n",
       "      <td>7.602509e-01</td>\n",
       "      <td>tile2</td>\n",
       "    </tr>\n",
       "  </tbody>\n",
       "</table>\n",
       "<p>5 rows × 46 columns</p>\n",
       "</div>"
      ],
      "text/plain": [
       "  hg19_id mm9_id               cage_id_hg19                  cage_id_mm9  \\\n",
       "0     h.2    m.1    chr1:2985420..2985438,-  chr4:154011250..154011257,+   \n",
       "1     h.4    m.3  chr1:26498321..26498327,-  chr4:133799669..133799683,+   \n",
       "2     h.5    m.4  chr1:65533390..65533443,-  chr4:101029310..101029334,-   \n",
       "3     h.6    m.4  chr1:65533457..65533465,-  chr4:101029310..101029334,-   \n",
       "4     h.8    m.6  chr1:95975684..95975731,+  chr3:120589646..120589664,-   \n",
       "\n",
       "      name_peak_hg19         name_peak_mm9 biotype_hg19     biotype_mm9  \\\n",
       "0  ENSG00000177133.6  ENSMUSG00000085069.2    divergent       divergent   \n",
       "1  ENSG00000236782.1  ENSMUSG00000086322.7    antisense  protein_coding   \n",
       "2  ENSG00000231485.1  ENSMUSG00000086782.2   intergenic      intergenic   \n",
       "3  ENSG00000231485.1  ENSMUSG00000086782.2   intergenic      intergenic   \n",
       "4  ENSG00000228971.2  ENSMUSG00000098097.7   intergenic      intergenic   \n",
       "\n",
       "  minimal_biotype_hg19 minimal_biotype_mm9     ...      HUES64_padj_hg19  \\\n",
       "0               lncRNA              lncRNA     ...              0.751141   \n",
       "1                other                mRNA     ...              0.494085   \n",
       "2               lncRNA               other     ...              0.018955   \n",
       "3               lncRNA               other     ...              0.009365   \n",
       "4                other              lncRNA     ...              0.801925   \n",
       "\n",
       "   mESC_padj_hg19                                          index_mm9  \\\n",
       "0        0.765749  GTGTTCATCATCCTCTTCGTCGCGCCGCCGCCGCCGCCGCCTCGGC...   \n",
       "1        0.337003  CAGGGCCGAGGGAGGCTGCCTAGTACCTGATGGATGCGGGGACTCC...   \n",
       "2        0.347638  CCCAGCCTCCGGCTCCTGGGCACGGAGAGACCGGCGCGCACGCGCG...   \n",
       "3        0.030918  CCCAGCCTCCGGCTCCTGGGCACGGAGAGACCGGCGCGCACGCGCG...   \n",
       "4        0.773335  AGTTAGATATCATCTATGTTCGCACTAAGTTTCCAGAAAGTCTTAT...   \n",
       "\n",
       "  HUES64_mm9  mESC_mm9  HUES64_pval_mm9  mESC_pval_mm9 HUES64_padj_mm9  \\\n",
       "0   1.080031  1.014725     3.654486e-01   5.546171e-01    6.244843e-01   \n",
       "1   1.201008  1.281535     2.438893e-01   2.893006e-01    4.892946e-01   \n",
       "2   3.340951  5.184600     2.921851e-12   5.691976e-27    1.725633e-11   \n",
       "3   3.340951  5.184600     2.921851e-12   5.691976e-27    1.725633e-11   \n",
       "4   0.647859  1.015126     8.175529e-01   5.542059e-01    8.607159e-01   \n",
       "\n",
       "  mESC_padj_mm9 tss_tile_num  \n",
       "0  7.603340e-01        tile2  \n",
       "1  6.171539e-01        tile2  \n",
       "2  6.309819e-26        tile2  \n",
       "3  6.309819e-26        tile2  \n",
       "4  7.602509e-01        tile2  \n",
       "\n",
       "[5 rows x 46 columns]"
      ]
     },
     "execution_count": 32,
     "metadata": {},
     "output_type": "execute_result"
    }
   ],
   "source": [
    "tss_map_tile2 = tss_map_tile2.merge(alpha, \n",
    "                                    left_on=\"hg19_element\", \n",
    "                                    right_on=\"index\").merge(alpha,\n",
    "                                                            left_on=\"mm9_element\",\n",
    "                                                            right_on=\"index\",\n",
    "                                                            suffixes=(\"_hg19\", \"_mm9\"))\n",
    "tss_map_tile2[\"tss_tile_num\"] = \"tile2\"\n",
    "tss_map_tile2.head()"
   ]
  },
  {
   "cell_type": "code",
   "execution_count": 33,
   "metadata": {},
   "outputs": [
    {
     "data": {
      "text/plain": [
       "no cage activity    1379\n",
       "protein_coding      1208\n",
       "enhancer            1079\n",
       "intergenic           821\n",
       "divergent            467\n",
       "antisense            456\n",
       "unassigned            89\n",
       "multi-mapped           5\n",
       "Name: biotype_hg19, dtype: int64"
      ]
     },
     "execution_count": 33,
     "metadata": {},
     "output_type": "execute_result"
    }
   ],
   "source": [
    "tss_map = tss_map_tile1.append(tss_map_tile2)\n",
    "tss_map.biotype_hg19.value_counts()"
   ]
  },
  {
   "cell_type": "code",
   "execution_count": 34,
   "metadata": {},
   "outputs": [
    {
     "data": {
      "text/html": [
       "<div>\n",
       "<style>\n",
       "    .dataframe thead tr:only-child th {\n",
       "        text-align: right;\n",
       "    }\n",
       "\n",
       "    .dataframe thead th {\n",
       "        text-align: left;\n",
       "    }\n",
       "\n",
       "    .dataframe tbody tr th {\n",
       "        vertical-align: top;\n",
       "    }\n",
       "</style>\n",
       "<table border=\"1\" class=\"dataframe\">\n",
       "  <thead>\n",
       "    <tr style=\"text-align: right;\">\n",
       "      <th></th>\n",
       "      <th>hg19_id</th>\n",
       "      <th>chr_tss_hg19</th>\n",
       "      <th>start_tss_hg19</th>\n",
       "      <th>biotype_hg19</th>\n",
       "      <th>minimal_biotype_hg19</th>\n",
       "      <th>cage_id_hg19</th>\n",
       "      <th>name_peak_hg19</th>\n",
       "      <th>stem_exp_hg19</th>\n",
       "      <th>max_cage_hg19</th>\n",
       "      <th>mm9_id</th>\n",
       "      <th>...</th>\n",
       "      <th>orig_species</th>\n",
       "      <th>biotype_switch_minimal</th>\n",
       "      <th>HUES64_hg19</th>\n",
       "      <th>mESC_hg19</th>\n",
       "      <th>HUES64_mm9</th>\n",
       "      <th>mESC_mm9</th>\n",
       "      <th>HUES64_padj_hg19</th>\n",
       "      <th>mESC_padj_hg19</th>\n",
       "      <th>HUES64_padj_mm9</th>\n",
       "      <th>mESC_padj_mm9</th>\n",
       "    </tr>\n",
       "  </thead>\n",
       "  <tbody>\n",
       "    <tr>\n",
       "      <th>1480</th>\n",
       "      <td>h.1952</td>\n",
       "      <td>chr17</td>\n",
       "      <td>43325300</td>\n",
       "      <td>intergenic</td>\n",
       "      <td>other</td>\n",
       "      <td>chr17:43325288..43325306,+</td>\n",
       "      <td>ENSG00000267278.1</td>\n",
       "      <td>0.791111</td>\n",
       "      <td>1360.0</td>\n",
       "      <td>m.1764</td>\n",
       "      <td>...</td>\n",
       "      <td>human</td>\n",
       "      <td>CAGE turnover - other</td>\n",
       "      <td>2.109465</td>\n",
       "      <td>1.229546</td>\n",
       "      <td>0.818407</td>\n",
       "      <td>0.935450</td>\n",
       "      <td>0.001686</td>\n",
       "      <td>0.659480</td>\n",
       "      <td>7.953814e-01</td>\n",
       "      <td>7.776471e-01</td>\n",
       "    </tr>\n",
       "    <tr>\n",
       "      <th>2674</th>\n",
       "      <td>h.3467</td>\n",
       "      <td>chr4</td>\n",
       "      <td>152159582</td>\n",
       "      <td>no cage activity</td>\n",
       "      <td>no CAGE activity</td>\n",
       "      <td>no cage activity</td>\n",
       "      <td>no cage activity</td>\n",
       "      <td>no cage activity</td>\n",
       "      <td>3.0</td>\n",
       "      <td>m.3277</td>\n",
       "      <td>...</td>\n",
       "      <td>mouse</td>\n",
       "      <td>CAGE turnover - eRNA</td>\n",
       "      <td>0.948212</td>\n",
       "      <td>0.821385</td>\n",
       "      <td>0.872951</td>\n",
       "      <td>1.158281</td>\n",
       "      <td>0.735525</td>\n",
       "      <td>0.813014</td>\n",
       "      <td>7.743275e-01</td>\n",
       "      <td>7.041345e-01</td>\n",
       "    </tr>\n",
       "    <tr>\n",
       "      <th>1581</th>\n",
       "      <td>h.2090</td>\n",
       "      <td>chr3</td>\n",
       "      <td>63988906</td>\n",
       "      <td>intergenic</td>\n",
       "      <td>lncRNA</td>\n",
       "      <td>chr3:63988904..63988908,+</td>\n",
       "      <td>ENSG00000239653.1</td>\n",
       "      <td>2.25667</td>\n",
       "      <td>11974.0</td>\n",
       "      <td>m.1902</td>\n",
       "      <td>...</td>\n",
       "      <td>human</td>\n",
       "      <td>lncRNA</td>\n",
       "      <td>0.892915</td>\n",
       "      <td>0.940384</td>\n",
       "      <td>0.780387</td>\n",
       "      <td>0.946330</td>\n",
       "      <td>0.766748</td>\n",
       "      <td>0.776341</td>\n",
       "      <td>8.070489e-01</td>\n",
       "      <td>7.739881e-01</td>\n",
       "    </tr>\n",
       "    <tr>\n",
       "      <th>2</th>\n",
       "      <td>h.5</td>\n",
       "      <td>chr1</td>\n",
       "      <td>65533428</td>\n",
       "      <td>intergenic</td>\n",
       "      <td>lncRNA</td>\n",
       "      <td>chr1:65533390..65533443,-</td>\n",
       "      <td>ENSG00000231485.1</td>\n",
       "      <td>0.841111</td>\n",
       "      <td>2032.0</td>\n",
       "      <td>m.4</td>\n",
       "      <td>...</td>\n",
       "      <td>human</td>\n",
       "      <td>biotype switch</td>\n",
       "      <td>1.834408</td>\n",
       "      <td>1.517628</td>\n",
       "      <td>3.340951</td>\n",
       "      <td>5.184600</td>\n",
       "      <td>0.018955</td>\n",
       "      <td>0.347638</td>\n",
       "      <td>1.725633e-11</td>\n",
       "      <td>6.309819e-26</td>\n",
       "    </tr>\n",
       "    <tr>\n",
       "      <th>2438</th>\n",
       "      <td>h.3275</td>\n",
       "      <td>chr9</td>\n",
       "      <td>17578727</td>\n",
       "      <td>no cage activity</td>\n",
       "      <td>mRNA</td>\n",
       "      <td>no cage activity</td>\n",
       "      <td>no cage activity</td>\n",
       "      <td>no cage activity</td>\n",
       "      <td>43.0</td>\n",
       "      <td>m.3085</td>\n",
       "      <td>...</td>\n",
       "      <td>mouse</td>\n",
       "      <td>mRNA</td>\n",
       "      <td>1.287904</td>\n",
       "      <td>0.931360</td>\n",
       "      <td>1.067413</td>\n",
       "      <td>1.124454</td>\n",
       "      <td>0.380237</td>\n",
       "      <td>0.778721</td>\n",
       "      <td>6.375409e-01</td>\n",
       "      <td>7.205459e-01</td>\n",
       "    </tr>\n",
       "  </tbody>\n",
       "</table>\n",
       "<p>5 rows × 29 columns</p>\n",
       "</div>"
      ],
      "text/plain": [
       "     hg19_id chr_tss_hg19  start_tss_hg19      biotype_hg19  \\\n",
       "1480  h.1952        chr17        43325300        intergenic   \n",
       "2674  h.3467         chr4       152159582  no cage activity   \n",
       "1581  h.2090         chr3        63988906        intergenic   \n",
       "2        h.5         chr1        65533428        intergenic   \n",
       "2438  h.3275         chr9        17578727  no cage activity   \n",
       "\n",
       "     minimal_biotype_hg19                cage_id_hg19     name_peak_hg19  \\\n",
       "1480                other  chr17:43325288..43325306,+  ENSG00000267278.1   \n",
       "2674     no CAGE activity            no cage activity   no cage activity   \n",
       "1581               lncRNA   chr3:63988904..63988908,+  ENSG00000239653.1   \n",
       "2                  lncRNA   chr1:65533390..65533443,-  ENSG00000231485.1   \n",
       "2438                 mRNA            no cage activity   no cage activity   \n",
       "\n",
       "         stem_exp_hg19  max_cage_hg19  mm9_id      ...      orig_species  \\\n",
       "1480          0.791111         1360.0  m.1764      ...             human   \n",
       "2674  no cage activity            3.0  m.3277      ...             mouse   \n",
       "1581           2.25667        11974.0  m.1902      ...             human   \n",
       "2             0.841111         2032.0     m.4      ...             human   \n",
       "2438  no cage activity           43.0  m.3085      ...             mouse   \n",
       "\n",
       "      biotype_switch_minimal HUES64_hg19 mESC_hg19 HUES64_mm9  mESC_mm9  \\\n",
       "1480   CAGE turnover - other    2.109465  1.229546   0.818407  0.935450   \n",
       "2674    CAGE turnover - eRNA    0.948212  0.821385   0.872951  1.158281   \n",
       "1581                  lncRNA    0.892915  0.940384   0.780387  0.946330   \n",
       "2             biotype switch    1.834408  1.517628   3.340951  5.184600   \n",
       "2438                    mRNA    1.287904  0.931360   1.067413  1.124454   \n",
       "\n",
       "     HUES64_padj_hg19  mESC_padj_hg19 HUES64_padj_mm9 mESC_padj_mm9  \n",
       "1480         0.001686        0.659480    7.953814e-01  7.776471e-01  \n",
       "2674         0.735525        0.813014    7.743275e-01  7.041345e-01  \n",
       "1581         0.766748        0.776341    8.070489e-01  7.739881e-01  \n",
       "2            0.018955        0.347638    1.725633e-11  6.309819e-26  \n",
       "2438         0.380237        0.778721    6.375409e-01  7.205459e-01  \n",
       "\n",
       "[5 rows x 29 columns]"
      ]
     },
     "execution_count": 34,
     "metadata": {},
     "output_type": "execute_result"
    }
   ],
   "source": [
    "data = tss_map[[\"hg19_id\", \"chr_tss_hg19\", \"start_tss_hg19\", \"biotype_hg19\", \n",
    "                \"minimal_biotype_hg19\", \"cage_id_hg19\", \"name_peak_hg19\", \"stem_exp_hg19\", \"max_cage_hg19\", \n",
    "                \"mm9_id\", \"chr_tss_mm9\", \n",
    "                \"start_tss_mm9\", \"biotype_mm9\", \"minimal_biotype_mm9\", \"cage_id_mm9\", \n",
    "                \"name_peak_mm9\", \"stem_exp_mm9\", \"max_cage_mm9\", \"tss_tile_num\", \"orig_species\", \n",
    "                \"biotype_switch_minimal\", \"HUES64_hg19\", \"mESC_hg19\", \"HUES64_mm9\", \"mESC_mm9\", \"HUES64_padj_hg19\", \n",
    "                \"mESC_padj_hg19\", \"HUES64_padj_mm9\", \"mESC_padj_mm9\"]].drop_duplicates()\n",
    "data.sample(5)"
   ]
  },
  {
   "cell_type": "code",
   "execution_count": 35,
   "metadata": {},
   "outputs": [
    {
     "data": {
      "text/plain": [
       "5504"
      ]
     },
     "execution_count": 35,
     "metadata": {},
     "output_type": "execute_result"
    }
   ],
   "source": [
    "len(data)"
   ]
  },
  {
   "cell_type": "markdown",
   "metadata": {},
   "source": [
    "## 4. find appropriate FDR cutoffs for each model\n",
    "choose FDR cutoff as the one that calls < 10% of controls as significant"
   ]
  },
  {
   "cell_type": "code",
   "execution_count": 36,
   "metadata": {},
   "outputs": [],
   "source": [
    "native_ctrls = native[native[\"index\"].str.contains(\"CONTROL\")]\n",
    "cis_HUES64_ctrls = HUES64_cis[HUES64_cis[\"index\"].str.contains(\"CONTROL\")]\n",
    "cis_mESC_ctrls = mESC_cis[mESC_cis[\"index\"].str.contains(\"CONTROL\")]\n",
    "trans_human_ctrls = human_trans[human_trans[\"index\"].str.contains(\"CONTROL\")]\n",
    "trans_mouse_ctrls = mouse_trans[mouse_trans[\"index\"].str.contains(\"CONTROL\")]\n",
    "cis_trans_int_ctrls = cis_trans_int[cis_trans_int[\"index\"].str.contains(\"CONTROL\")]"
   ]
  },
  {
   "cell_type": "code",
   "execution_count": 37,
   "metadata": {},
   "outputs": [
    {
     "name": "stdout",
     "output_type": "stream",
     "text": [
      "400\n",
      "400\n",
      "400\n",
      "400\n",
      "400\n",
      "400\n"
     ]
    }
   ],
   "source": [
    "print(len(native_ctrls))\n",
    "print(len(cis_HUES64_ctrls))\n",
    "print(len(cis_mESC_ctrls))\n",
    "print(len(trans_human_ctrls))\n",
    "print(len(trans_mouse_ctrls))\n",
    "print(len(cis_trans_int_ctrls))"
   ]
  },
  {
   "cell_type": "markdown",
   "metadata": {},
   "source": [
    "make plots to show different #s of controls called as \"significant\" at alpha < 0.05 in each model"
   ]
  },
  {
   "cell_type": "code",
   "execution_count": 38,
   "metadata": {},
   "outputs": [
    {
     "data": {
      "text/html": [
       "<div>\n",
       "<style>\n",
       "    .dataframe thead tr:only-child th {\n",
       "        text-align: right;\n",
       "    }\n",
       "\n",
       "    .dataframe thead th {\n",
       "        text-align: left;\n",
       "    }\n",
       "\n",
       "    .dataframe tbody tr th {\n",
       "        vertical-align: top;\n",
       "    }\n",
       "</style>\n",
       "<table border=\"1\" class=\"dataframe\">\n",
       "  <thead>\n",
       "    <tr style=\"text-align: right;\">\n",
       "      <th></th>\n",
       "      <th>model</th>\n",
       "      <th>n_sig</th>\n",
       "    </tr>\n",
       "  </thead>\n",
       "  <tbody>\n",
       "    <tr>\n",
       "      <th>0</th>\n",
       "      <td>native effects</td>\n",
       "      <td>164</td>\n",
       "    </tr>\n",
       "    <tr>\n",
       "      <th>1</th>\n",
       "      <td>HUES64 cis effects</td>\n",
       "      <td>138</td>\n",
       "    </tr>\n",
       "    <tr>\n",
       "      <th>2</th>\n",
       "      <td>mESC cis effects</td>\n",
       "      <td>110</td>\n",
       "    </tr>\n",
       "    <tr>\n",
       "      <th>3</th>\n",
       "      <td>human trans effects</td>\n",
       "      <td>78</td>\n",
       "    </tr>\n",
       "    <tr>\n",
       "      <th>4</th>\n",
       "      <td>mouse trans effects</td>\n",
       "      <td>71</td>\n",
       "    </tr>\n",
       "    <tr>\n",
       "      <th>5</th>\n",
       "      <td>cis/trans interaction effects</td>\n",
       "      <td>0</td>\n",
       "    </tr>\n",
       "  </tbody>\n",
       "</table>\n",
       "</div>"
      ],
      "text/plain": [
       "                           model  n_sig\n",
       "0                 native effects    164\n",
       "1             HUES64 cis effects    138\n",
       "2               mESC cis effects    110\n",
       "3            human trans effects     78\n",
       "4            mouse trans effects     71\n",
       "5  cis/trans interaction effects      0"
      ]
     },
     "execution_count": 38,
     "metadata": {},
     "output_type": "execute_result"
    }
   ],
   "source": [
    "n_sig_models = {}\n",
    "for model, df, fdr in zip([\"native effects\", \"HUES64 cis effects\", \"mESC cis effects\", \"human trans effects\",\n",
    "                           \"mouse trans effects\", \"cis/trans interaction effects\"],\n",
    "                          [native_ctrls, cis_HUES64_ctrls, cis_mESC_ctrls, trans_human_ctrls, trans_mouse_ctrls,\n",
    "                           cis_trans_int_ctrls],\n",
    "                          [\"fdr_native\", \"fdr_cis_HUES64\", \"fdr_cis_mESC\", \"fdr_trans_human\", \"fdr_trans_mouse\",\n",
    "                           \"fdr_int\"]):\n",
    "    n_sig = len(df[df[fdr] < 0.05])\n",
    "    n_sig_models[model] = [n_sig]\n",
    "n_sig_models = pd.DataFrame.from_dict(n_sig_models, orient=\"index\").reset_index()\n",
    "n_sig_models.columns = [\"model\", \"n_sig\"]\n",
    "n_sig_models"
   ]
  },
  {
   "cell_type": "code",
   "execution_count": 39,
   "metadata": {},
   "outputs": [
    {
     "data": {
      "image/png": "[encoded data removed]",
      "text/plain": [
       "<matplotlib.figure.Figure at 0x2b94dee295f8>"
      ]
     },
     "metadata": {},
     "output_type": "display_data"
    }
   ],
   "source": [
    "fig, ax = plt.subplots(figsize=(2.2, 1.5), nrows=1, ncols=1)\n",
    "\n",
    "sns.barplot(data=n_sig_models, x=\"model\", y=\"n_sig\", color=\"darkgray\", ax=ax)\n",
    "ax.set_xlabel(\"\")\n",
    "ax.set_ylabel(\"% controls significant\")\n",
    "_ = ax.set_xticklabels(n_sig_models[\"model\"], rotation=50, ha=\"right\", va=\"top\")\n",
    "\n",
    "ax.set_title(\"FDR < 0.05 cut-off\")\n",
    "fig.savefig(\"perc_ctrls_sig.05.pdf\", dpi=\"figure\", bbox_inches=\"tight\")"
   ]
  },
  {
   "cell_type": "markdown",
   "metadata": {},
   "source": [
    "now always cut off at the 10th percentile of FDRs of controls within a given model"
   ]
  },
  {
   "cell_type": "code",
   "execution_count": 40,
   "metadata": {},
   "outputs": [
    {
     "data": {
      "text/plain": [
       "4.785743473333633e-06"
      ]
     },
     "execution_count": 40,
     "metadata": {},
     "output_type": "execute_result"
    }
   ],
   "source": [
    "NATIVE_THRESH = np.percentile(native_ctrls[\"fdr_native\"], 5)\n",
    "NATIVE_THRESH"
   ]
  },
  {
   "cell_type": "code",
   "execution_count": 41,
   "metadata": {
    "scrolled": true
   },
   "outputs": [
    {
     "data": {
      "text/plain": [
       "1.1036823366939007e-05"
      ]
     },
     "execution_count": 41,
     "metadata": {},
     "output_type": "execute_result"
    }
   ],
   "source": [
    "CIS_HUES64_THRESH = np.percentile(cis_HUES64_ctrls[\"fdr_cis_HUES64\"], 5)\n",
    "CIS_HUES64_THRESH"
   ]
  },
  {
   "cell_type": "code",
   "execution_count": 42,
   "metadata": {},
   "outputs": [
    {
     "data": {
      "text/plain": [
       "0.00012795164004255174"
      ]
     },
     "execution_count": 42,
     "metadata": {},
     "output_type": "execute_result"
    }
   ],
   "source": [
    "CIS_MESC_THRESH = np.percentile(cis_mESC_ctrls[\"fdr_cis_mESC\"], 5)\n",
    "CIS_MESC_THRESH"
   ]
  },
  {
   "cell_type": "code",
   "execution_count": 43,
   "metadata": {},
   "outputs": [
    {
     "data": {
      "text/plain": [
       "0.0030214066230191106"
      ]
     },
     "execution_count": 43,
     "metadata": {},
     "output_type": "execute_result"
    }
   ],
   "source": [
    "TRANS_HUMAN_THRESH = np.percentile(trans_human_ctrls[\"fdr_trans_human\"], 5)\n",
    "TRANS_HUMAN_THRESH"
   ]
  },
  {
   "cell_type": "code",
   "execution_count": 44,
   "metadata": {},
   "outputs": [
    {
     "data": {
      "text/plain": [
       "0.0055831050920595038"
      ]
     },
     "execution_count": 44,
     "metadata": {},
     "output_type": "execute_result"
    }
   ],
   "source": [
    "TRANS_MOUSE_THRESH = np.percentile(trans_mouse_ctrls[\"fdr_trans_mouse\"], 5)\n",
    "TRANS_MOUSE_THRESH"
   ]
  },
  {
   "cell_type": "code",
   "execution_count": 45,
   "metadata": {},
   "outputs": [
    {
     "data": {
      "text/plain": [
       "0.83616147958108622"
      ]
     },
     "execution_count": 45,
     "metadata": {},
     "output_type": "execute_result"
    }
   ],
   "source": [
    "INT_THRESH = np.percentile(cis_trans_int_ctrls[\"fdr_int\"], 5)\n",
    "INT_THRESH"
   ]
  },
  {
   "cell_type": "markdown",
   "metadata": {},
   "source": [
    "now re-plot with threshold"
   ]
  },
  {
   "cell_type": "code",
   "execution_count": 46,
   "metadata": {},
   "outputs": [
    {
     "data": {
      "text/html": [
       "<div>\n",
       "<style>\n",
       "    .dataframe thead tr:only-child th {\n",
       "        text-align: right;\n",
       "    }\n",
       "\n",
       "    .dataframe thead th {\n",
       "        text-align: left;\n",
       "    }\n",
       "\n",
       "    .dataframe tbody tr th {\n",
       "        vertical-align: top;\n",
       "    }\n",
       "</style>\n",
       "<table border=\"1\" class=\"dataframe\">\n",
       "  <thead>\n",
       "    <tr style=\"text-align: right;\">\n",
       "      <th></th>\n",
       "      <th>model</th>\n",
       "      <th>n_sig</th>\n",
       "    </tr>\n",
       "  </thead>\n",
       "  <tbody>\n",
       "    <tr>\n",
       "      <th>0</th>\n",
       "      <td>native effects</td>\n",
       "      <td>20</td>\n",
       "    </tr>\n",
       "    <tr>\n",
       "      <th>1</th>\n",
       "      <td>HUES64 cis effects</td>\n",
       "      <td>20</td>\n",
       "    </tr>\n",
       "    <tr>\n",
       "      <th>2</th>\n",
       "      <td>mESC cis effects</td>\n",
       "      <td>20</td>\n",
       "    </tr>\n",
       "    <tr>\n",
       "      <th>3</th>\n",
       "      <td>human trans effects</td>\n",
       "      <td>20</td>\n",
       "    </tr>\n",
       "    <tr>\n",
       "      <th>4</th>\n",
       "      <td>mouse trans effects</td>\n",
       "      <td>20</td>\n",
       "    </tr>\n",
       "    <tr>\n",
       "      <th>5</th>\n",
       "      <td>cis/trans interaction effects</td>\n",
       "      <td>0</td>\n",
       "    </tr>\n",
       "  </tbody>\n",
       "</table>\n",
       "</div>"
      ],
      "text/plain": [
       "                           model  n_sig\n",
       "0                 native effects     20\n",
       "1             HUES64 cis effects     20\n",
       "2               mESC cis effects     20\n",
       "3            human trans effects     20\n",
       "4            mouse trans effects     20\n",
       "5  cis/trans interaction effects      0"
      ]
     },
     "execution_count": 46,
     "metadata": {},
     "output_type": "execute_result"
    }
   ],
   "source": [
    "n_sig_models = {}\n",
    "for model, df, fdr, thresh in zip([\"native effects\", \"HUES64 cis effects\", \"mESC cis effects\", \"human trans effects\",\n",
    "                                   \"mouse trans effects\", \"cis/trans interaction effects\"],\n",
    "                                  [native_ctrls, cis_HUES64_ctrls, cis_mESC_ctrls, trans_human_ctrls, \n",
    "                                   trans_mouse_ctrls, cis_trans_int_ctrls],\n",
    "                                  [\"fdr_native\", \"fdr_cis_HUES64\", \"fdr_cis_mESC\", \"fdr_trans_human\", \n",
    "                                   \"fdr_trans_mouse\", \"fdr_int\"],\n",
    "                                  [NATIVE_THRESH, CIS_HUES64_THRESH, CIS_MESC_THRESH, TRANS_HUMAN_THRESH,\n",
    "                                   TRANS_MOUSE_THRESH, 0.05]):\n",
    "    n_sig = len(df[df[fdr] < thresh])\n",
    "    n_sig_models[model] = [n_sig]\n",
    "n_sig_models = pd.DataFrame.from_dict(n_sig_models, orient=\"index\").reset_index()\n",
    "n_sig_models.columns = [\"model\", \"n_sig\"]\n",
    "n_sig_models"
   ]
  },
  {
   "cell_type": "code",
   "execution_count": 47,
   "metadata": {},
   "outputs": [
    {
     "data": {
      "image/png": "[encoded data removed]",
      "text/plain": [
       "<matplotlib.figure.Figure at 0x2b94df71fbe0>"
      ]
     },
     "metadata": {},
     "output_type": "display_data"
    }
   ],
   "source": [
    "fig, ax = plt.subplots(figsize=(2.2, 1.5), nrows=1, ncols=1)\n",
    "\n",
    "sns.barplot(data=n_sig_models, x=\"model\", y=\"n_sig\", color=\"darkgray\", ax=ax)\n",
    "ax.set_xlabel(\"\")\n",
    "ax.set_ylabel(\"% controls significant at threshold\")\n",
    "_ = ax.set_xticklabels(n_sig_models[\"model\"], rotation=50, ha=\"right\", va=\"top\")\n",
    "\n",
    "ax.set_title(\"FDR < 10th percentile cut-off\")\n",
    "fig.savefig(\"perc_ctrls_sig.thresh.pdf\", dpi=\"figure\", bbox_inches=\"tight\")"
   ]
  },
  {
   "cell_type": "markdown",
   "metadata": {},
   "source": [
    "## 5. plot controls vs. TSSs for each model"
   ]
  },
  {
   "cell_type": "markdown",
   "metadata": {},
   "source": [
    "control boxplots"
   ]
  },
  {
   "cell_type": "code",
   "execution_count": 48,
   "metadata": {
    "scrolled": true
   },
   "outputs": [
    {
     "name": "stdout",
     "output_type": "stream",
     "text": [
      "5.68524376294e-40\n"
     ]
    },
    {
     "data": {
      "image/png": "[encoded data removed]",
      "text/plain": [
       "<matplotlib.figure.Figure at 0x2b94ded9e908>"
      ]
     },
     "metadata": {},
     "output_type": "display_data"
    },
    {
     "name": "stdout",
     "output_type": "stream",
     "text": [
      "1.09333981908e-50\n"
     ]
    },
    {
     "data": {
      "image/png": "[encoded data removed]",
      "text/plain": [
       "<matplotlib.figure.Figure at 0x2b94ded9e898>"
      ]
     },
     "metadata": {},
     "output_type": "display_data"
    },
    {
     "name": "stdout",
     "output_type": "stream",
     "text": [
      "2.17909633261e-46\n"
     ]
    },
    {
     "data": {
      "image/png": "[encoded data removed]",
      "text/plain": [
       "<matplotlib.figure.Figure at 0x2b94dfce6208>"
      ]
     },
     "metadata": {},
     "output_type": "display_data"
    },
    {
     "name": "stdout",
     "output_type": "stream",
     "text": [
      "0.000663274721485\n"
     ]
    },
    {
     "data": {
      "image/png": "[encoded data removed]",
      "text/plain": [
       "<matplotlib.figure.Figure at 0x2b94ded9ee10>"
      ]
     },
     "metadata": {},
     "output_type": "display_data"
    },
    {
     "name": "stdout",
     "output_type": "stream",
     "text": [
      "0.00117913773291\n"
     ]
    },
    {
     "data": {
      "image/png": "[encoded data removed]",
      "text/plain": [
       "<matplotlib.figure.Figure at 0x2b94ded9e5f8>"
      ]
     },
     "metadata": {},
     "output_type": "display_data"
    },
    {
     "name": "stdout",
     "output_type": "stream",
     "text": [
      "3.94444071884e-85\n"
     ]
    },
    {
     "data": {
      "image/png": "[encoded data removed]",
      "text/plain": [
       "<matplotlib.figure.Figure at 0x2b94ded978d0>"
      ]
     },
     "metadata": {},
     "output_type": "display_data"
    }
   ],
   "source": [
    "order = [\"control\", \"TSS\"]\n",
    "pal = {\"control\": \"gray\", \"TSS\": \"black\"}\n",
    "\n",
    "models = [\"native\", \"HUES64 cis\", \"mESC cis\", \"human trans\", \"mouse trans\", \"cis/trans interaction\"]\n",
    "dfs = [native, HUES64_cis, mESC_cis, human_trans, mouse_trans, cis_trans_int]\n",
    "logFCs = [\"logFC_native\", \"logFC_cis_HUES64\", \"logFC_cis_mESC\", \"logFC_trans_human\", \"logFC_trans_mouse\", \"logFC_int\"]\n",
    "labels = [\"native\", \"cis_HUES64\", \"cis_mESC\", \"trans_human\", \"trans_mouse\", \"cis_trans_int\"]\n",
    "ylims = [(-0.8, 6), (-0.8, 6), (-0.8, 6), (-0.8, 2.2), (-0.8, 2.2), (-0.8, 2.5)]\n",
    "pxs = [(1.5, 1.4), (1.5, 1.4), (1.5, 1.4), (0.7, 0.7), (0.7, 0.7), (0.6, 0.5)]\n",
    "\n",
    "\n",
    "for model, df, logFC, label, ylim, px in zip(models, dfs, logFCs, labels, ylims, pxs):\n",
    "    df[\"is_ctrl\"] = df.apply(is_ctrl, axis=1)\n",
    "    df[\"abs_logFC\"] = np.abs(df[logFC])\n",
    "    \n",
    "    fig = plt.figure(figsize=(1, 1.75))\n",
    "    ax = sns.boxplot(data=df, x=\"is_ctrl\", y=\"abs_logFC\", flierprops = dict(marker='o', markersize=5), \n",
    "                     order=order, palette=pal)\n",
    "    mimic_r_boxplot(ax)\n",
    "\n",
    "    ax.set_xticklabels([\"negative\\ncontrols\", \"seqs\"], rotation=50, ha='right', va='top')\n",
    "    ax.set_xlabel(\"\")\n",
    "    ax.set_ylabel(r'$\\vert$ %s effect size $\\vert$' % model)\n",
    "\n",
    "    for i, l in enumerate(order):\n",
    "        n = len(df[df[\"is_ctrl\"] == l])\n",
    "        color = pal[l]\n",
    "        ax.annotate(str(n), xy=(i, -0.7), xycoords=\"data\", xytext=(0, 0), \n",
    "                    textcoords=\"offset pixels\", ha='center', va='bottom', \n",
    "                    color=color, size=fontsize)\n",
    "\n",
    "    ax.set_ylim(ylim)\n",
    "\n",
    "    # calc p-vals b/w dists\n",
    "    dist1 = np.asarray(df[df[\"is_ctrl\"] == \"control\"][\"abs_logFC\"])\n",
    "    dist2 = np.asarray(df[df[\"is_ctrl\"] != \"control\"][\"abs_logFC\"])\n",
    "\n",
    "    dist1 = dist1[~np.isnan(dist1)]\n",
    "    dist2 = dist2[~np.isnan(dist2)]\n",
    "\n",
    "    u, pval = stats.mannwhitneyu(dist1, dist2, alternative=\"two-sided\", use_continuity=False)\n",
    "    print(pval)\n",
    "\n",
    "    annotate_pval(ax, 0.2, 0.8, px[0], 0, px[1], pval, fontsize)\n",
    "    plt.show()\n",
    "    fig.savefig(\"%s_ctrl_effectsize_boxplot.pdf\" % label, dpi=\"figure\", bbox_inches=\"tight\")\n",
    "    plt.close()"
   ]
  },
  {
   "cell_type": "markdown",
   "metadata": {},
   "source": [
    "volcano plots"
   ]
  },
  {
   "cell_type": "code",
   "execution_count": 49,
   "metadata": {},
   "outputs": [
    {
     "data": {
      "image/png": "[encoded data removed]",
      "text/plain": [
       "<matplotlib.figure.Figure at 0x2b94e30b7dd8>"
      ]
     },
     "metadata": {},
     "output_type": "display_data"
    },
    {
     "data": {
      "image/png": "[encoded data removed]",
      "text/plain": [
       "<matplotlib.figure.Figure at 0x2b94df79add8>"
      ]
     },
     "metadata": {},
     "output_type": "display_data"
    },
    {
     "data": {
      "image/png": "[encoded data removed]",
      "text/plain": [
       "<matplotlib.figure.Figure at 0x2b94dedc3940>"
      ]
     },
     "metadata": {},
     "output_type": "display_data"
    },
    {
     "data": {
      "image/png": "[encoded data removed]",
      "text/plain": [
       "<matplotlib.figure.Figure at 0x2b94e321f240>"
      ]
     },
     "metadata": {},
     "output_type": "display_data"
    },
    {
     "data": {
      "image/png": "[encoded data removed]",
      "text/plain": [
       "<matplotlib.figure.Figure at 0x2b94e32440f0>"
      ]
     },
     "metadata": {},
     "output_type": "display_data"
    },
    {
     "data": {
      "image/png": "[encoded data removed]",
      "text/plain": [
       "<matplotlib.figure.Figure at 0x2b94df76a3c8>"
      ]
     },
     "metadata": {},
     "output_type": "display_data"
    }
   ],
   "source": [
    "threshs = [NATIVE_THRESH, CIS_HUES64_THRESH, CIS_MESC_THRESH, TRANS_HUMAN_THRESH, TRANS_MOUSE_THRESH, 0.05]\n",
    "fdrs = [\"fdr_native\", \"fdr_cis_HUES64\", \"fdr_cis_mESC\", \"fdr_trans_human\", \"fdr_trans_mouse\", \"fdr_int\"]\n",
    "\n",
    "for model, df, logFC, fdr, label, thresh in zip(models, dfs, logFCs, fdrs, labels, threshs):\n",
    "    df[\"is_ctrl\"] = df.apply(is_ctrl, axis=1)\n",
    "    \n",
    "    neg_ctrls = df[df[\"is_ctrl\"] == \"control\"]\n",
    "    tss = df[df[\"is_ctrl\"] != \"control\"]\n",
    "    \n",
    "    fig, ax = plt.subplots(figsize=(1.75, 1.75), nrows=1, ncols=1)\n",
    "\n",
    "    ax.scatter(tss[logFC], -np.log10(tss[fdr]), s=10, alpha=0.75, \n",
    "               color=\"black\", linewidths=0.5, edgecolors=\"white\")\n",
    "    ax.scatter(neg_ctrls[logFC], -np.log10(neg_ctrls[fdr]), s=8, alpha=0.5, \n",
    "               color=\"gray\", linewidths=0.5, edgecolors=\"white\")\n",
    "\n",
    "    plt.xlabel(\"%s effect size\" % model)\n",
    "    plt.ylabel(\"-log10(FDR)\")\n",
    "    ax.axhline(y=-np.log10(thresh), color=\"black\", linestyle=\"dashed\")\n",
    "\n",
    "    plt.show()\n",
    "    fig.savefig(\"%s_volcano.ctrls_highlighted.pdf\" % label, dpi=\"figure\", bbox_inches=\"tight\")\n",
    "    plt.close()"
   ]
  },
  {
   "cell_type": "code",
   "execution_count": 50,
   "metadata": {},
   "outputs": [
    {
     "name": "stdout",
     "output_type": "stream",
     "text": [
      "# controls > 0: 222, < 0: 178\n",
      "# TSSs > 0: 3373, < 0: 2077\n"
     ]
    },
    {
     "data": {
      "image/png": "[encoded data removed]",
      "text/plain": [
       "<matplotlib.figure.Figure at 0x2b94df8fa438>"
      ]
     },
     "metadata": {},
     "output_type": "display_data"
    },
    {
     "name": "stdout",
     "output_type": "stream",
     "text": [
      "# controls > 0: 202, < 0: 198\n",
      "# TSSs > 0: 2888, < 0: 2562\n"
     ]
    },
    {
     "data": {
      "image/png": "[encoded data removed]",
      "text/plain": [
       "<matplotlib.figure.Figure at 0x2b94ded9e908>"
      ]
     },
     "metadata": {},
     "output_type": "display_data"
    },
    {
     "name": "stdout",
     "output_type": "stream",
     "text": [
      "# controls > 0: 205, < 0: 195\n",
      "# TSSs > 0: 2846, < 0: 2604\n"
     ]
    },
    {
     "data": {
      "image/png": "[encoded data removed]",
      "text/plain": [
       "<matplotlib.figure.Figure at 0x2b94df9750f0>"
      ]
     },
     "metadata": {},
     "output_type": "display_data"
    },
    {
     "name": "stdout",
     "output_type": "stream",
     "text": [
      "# controls > 0: 297, < 0: 103\n",
      "# TSSs > 0: 4041, < 0: 1409\n"
     ]
    },
    {
     "data": {
      "image/png": "[encoded data removed]",
      "text/plain": [
       "<matplotlib.figure.Figure at 0x2b94df942be0>"
      ]
     },
     "metadata": {},
     "output_type": "display_data"
    },
    {
     "name": "stdout",
     "output_type": "stream",
     "text": [
      "# controls > 0: 282, < 0: 118\n",
      "# TSSs > 0: 4003, < 0: 1447\n"
     ]
    },
    {
     "data": {
      "image/png": "[encoded data removed]",
      "text/plain": [
       "<matplotlib.figure.Figure at 0x2b94df8fac18>"
      ]
     },
     "metadata": {},
     "output_type": "display_data"
    },
    {
     "name": "stdout",
     "output_type": "stream",
     "text": [
      "# controls > 0: 196, < 0: 204\n",
      "# TSSs > 0: 2752, < 0: 2698\n"
     ]
    },
    {
     "data": {
      "image/png": "[encoded data removed]",
      "text/plain": [
       "<matplotlib.figure.Figure at 0x2b94df9d8208>"
      ]
     },
     "metadata": {},
     "output_type": "display_data"
    }
   ],
   "source": [
    "for model, df, logFC, fdr, label, thresh in zip(models, dfs, logFCs, fdrs, labels, threshs):\n",
    "    df[\"is_ctrl\"] = df.apply(is_ctrl, axis=1)\n",
    "    \n",
    "    neg_ctrls = df[df[\"is_ctrl\"] == \"control\"]\n",
    "    tss = df[df[\"is_ctrl\"] != \"control\"]\n",
    "    \n",
    "    print(\"# controls > 0: %s, < 0: %s\" % (len(neg_ctrls[neg_ctrls[logFC] > 0]), len(neg_ctrls[neg_ctrls[logFC] < 0])))\n",
    "    print(\"# TSSs > 0: %s, < 0: %s\" % (len(tss[tss[logFC] > 0]), len(tss[tss[logFC] < 0])))\n",
    "    \n",
    "    fig, ax = plt.subplots(figsize=(2, 1), nrows=1, ncols=1)\n",
    "    \n",
    "    sns.distplot(neg_ctrls[logFC], color=\"gray\", label=\"negative controls (n=%s)\" % len(neg_ctrls), hist=False, ax=ax)\n",
    "    sns.distplot(tss[logFC], color=\"black\", label=\"TSSs (n=%s)\" % len(tss), hist=False, ax=ax) \n",
    "    \n",
    "    ax.set_xlabel(\"logFC\")\n",
    "    ax.set_ylabel(\"density\")\n",
    "    ax.set_title(model)\n",
    "    \n",
    "    plt.legend(loc=2, bbox_to_anchor=(1.1, 1))\n",
    "    \n",
    "    plt.show()\n",
    "    #fig.savefig(\"%s_ctrl_logFC.pdf\" % label, dpi=\"figure\", bbox_inches=\"tight\")\n",
    "    plt.close()"
   ]
  },
  {
   "cell_type": "markdown",
   "metadata": {},
   "source": [
    "## 6. split result file indeces"
   ]
  },
  {
   "cell_type": "code",
   "execution_count": 51,
   "metadata": {},
   "outputs": [],
   "source": [
    "native[\"hg19_id\"] = native[\"index\"].str.split(\"__\", expand=True)[0]\n",
    "native[\"biotype_hg19\"] = native[\"index\"].str.split(\"__\", expand=True)[1]\n",
    "native[\"mm9_id\"] = native[\"index\"].str.split(\"__\", expand=True)[2]\n",
    "native[\"biotype_mm9\"] = native[\"index\"].str.split(\"__\", expand=True)[3]\n",
    "native[\"tss_tile_num\"] = native[\"index\"].str.split(\"__\", expand=True)[4]"
   ]
  },
  {
   "cell_type": "code",
   "execution_count": 52,
   "metadata": {},
   "outputs": [],
   "source": [
    "HUES64_cis[\"hg19_id\"] = HUES64_cis[\"index\"].str.split(\"__\", expand=True)[0]\n",
    "HUES64_cis[\"biotype_hg19\"] = HUES64_cis[\"index\"].str.split(\"__\", expand=True)[1]\n",
    "HUES64_cis[\"mm9_id\"] = HUES64_cis[\"index\"].str.split(\"__\", expand=True)[2]\n",
    "HUES64_cis[\"biotype_mm9\"] = HUES64_cis[\"index\"].str.split(\"__\", expand=True)[3]\n",
    "HUES64_cis[\"tss_tile_num\"] = HUES64_cis[\"index\"].str.split(\"__\", expand=True)[4]"
   ]
  },
  {
   "cell_type": "code",
   "execution_count": 53,
   "metadata": {},
   "outputs": [],
   "source": [
    "mESC_cis[\"hg19_id\"] = mESC_cis[\"index\"].str.split(\"__\", expand=True)[0]\n",
    "mESC_cis[\"biotype_hg19\"] = mESC_cis[\"index\"].str.split(\"__\", expand=True)[1]\n",
    "mESC_cis[\"mm9_id\"] = mESC_cis[\"index\"].str.split(\"__\", expand=True)[2]\n",
    "mESC_cis[\"biotype_mm9\"] = mESC_cis[\"index\"].str.split(\"__\", expand=True)[3]\n",
    "mESC_cis[\"tss_tile_num\"] = mESC_cis[\"index\"].str.split(\"__\", expand=True)[4]"
   ]
  },
  {
   "cell_type": "code",
   "execution_count": 54,
   "metadata": {},
   "outputs": [],
   "source": [
    "human_trans[\"hg19_id\"] = human_trans[\"index\"].str.split(\"__\", expand=True)[0]\n",
    "human_trans[\"biotype_hg19\"] = human_trans[\"index\"].str.split(\"__\", expand=True)[1]\n",
    "human_trans[\"mm9_id\"] = human_trans[\"index\"].str.split(\"__\", expand=True)[2]\n",
    "human_trans[\"biotype_mm9\"] = human_trans[\"index\"].str.split(\"__\", expand=True)[3]\n",
    "human_trans[\"tss_tile_num\"] = human_trans[\"index\"].str.split(\"__\", expand=True)[4]"
   ]
  },
  {
   "cell_type": "code",
   "execution_count": 55,
   "metadata": {},
   "outputs": [],
   "source": [
    "mouse_trans[\"hg19_id\"] = mouse_trans[\"index\"].str.split(\"__\", expand=True)[0]\n",
    "mouse_trans[\"biotype_hg19\"] = mouse_trans[\"index\"].str.split(\"__\", expand=True)[1]\n",
    "mouse_trans[\"mm9_id\"] = mouse_trans[\"index\"].str.split(\"__\", expand=True)[2]\n",
    "mouse_trans[\"biotype_mm9\"] = mouse_trans[\"index\"].str.split(\"__\", expand=True)[3]\n",
    "mouse_trans[\"tss_tile_num\"] = mouse_trans[\"index\"].str.split(\"__\", expand=True)[4]"
   ]
  },
  {
   "cell_type": "code",
   "execution_count": 56,
   "metadata": {},
   "outputs": [],
   "source": [
    "cis_trans_int[\"hg19_id\"] = cis_trans_int[\"index\"].str.split(\"__\", expand=True)[0]\n",
    "cis_trans_int[\"biotype_hg19\"] = cis_trans_int[\"index\"].str.split(\"__\", expand=True)[1]\n",
    "cis_trans_int[\"mm9_id\"] = cis_trans_int[\"index\"].str.split(\"__\", expand=True)[2]\n",
    "cis_trans_int[\"biotype_mm9\"] = cis_trans_int[\"index\"].str.split(\"__\", expand=True)[3]\n",
    "cis_trans_int[\"tss_tile_num\"] = cis_trans_int[\"index\"].str.split(\"__\", expand=True)[4]"
   ]
  },
  {
   "cell_type": "markdown",
   "metadata": {},
   "source": [
    "## 7. merge result files w/ activity data"
   ]
  },
  {
   "cell_type": "code",
   "execution_count": 57,
   "metadata": {},
   "outputs": [
    {
     "data": {
      "text/plain": [
       "5504"
      ]
     },
     "execution_count": 57,
     "metadata": {},
     "output_type": "execute_result"
    }
   ],
   "source": [
    "len(data)"
   ]
  },
  {
   "cell_type": "code",
   "execution_count": 58,
   "metadata": {},
   "outputs": [
    {
     "data": {
      "text/plain": [
       "5882"
      ]
     },
     "execution_count": 58,
     "metadata": {},
     "output_type": "execute_result"
    }
   ],
   "source": [
    "tmp = data.merge(native[[\"hg19_id\", \"mm9_id\", \"tss_tile_num\", \"logFC_native\", \"fdr_native\"]], \n",
    "                 on=[\"hg19_id\", \"mm9_id\", \"tss_tile_num\"], how=\"right\")\n",
    "len(tmp)"
   ]
  },
  {
   "cell_type": "code",
   "execution_count": 59,
   "metadata": {},
   "outputs": [
    {
     "data": {
      "text/plain": [
       "5882"
      ]
     },
     "execution_count": 59,
     "metadata": {},
     "output_type": "execute_result"
    }
   ],
   "source": [
    "tmp = tmp.merge(HUES64_cis[[\"hg19_id\", \"mm9_id\", \"tss_tile_num\", \"logFC_cis_HUES64\", \"fdr_cis_HUES64\"]], \n",
    "                on=[\"hg19_id\", \"mm9_id\", \"tss_tile_num\"], how=\"right\")\n",
    "len(tmp)"
   ]
  },
  {
   "cell_type": "code",
   "execution_count": 60,
   "metadata": {},
   "outputs": [
    {
     "data": {
      "text/plain": [
       "5882"
      ]
     },
     "execution_count": 60,
     "metadata": {},
     "output_type": "execute_result"
    }
   ],
   "source": [
    "tmp = tmp.merge(mESC_cis[[\"hg19_id\", \"mm9_id\", \"tss_tile_num\", \"logFC_cis_mESC\", \"fdr_cis_mESC\"]], \n",
    "                on=[\"hg19_id\", \"mm9_id\", \"tss_tile_num\"], how=\"right\")\n",
    "len(tmp)"
   ]
  },
  {
   "cell_type": "code",
   "execution_count": 61,
   "metadata": {},
   "outputs": [
    {
     "data": {
      "text/plain": [
       "5882"
      ]
     },
     "execution_count": 61,
     "metadata": {},
     "output_type": "execute_result"
    }
   ],
   "source": [
    "tmp = tmp.merge(human_trans[[\"hg19_id\", \"mm9_id\", \"tss_tile_num\", \"logFC_trans_human\", \"fdr_trans_human\"]], \n",
    "                on=[\"hg19_id\", \"mm9_id\", \"tss_tile_num\"], how=\"right\")\n",
    "len(tmp)"
   ]
  },
  {
   "cell_type": "code",
   "execution_count": 62,
   "metadata": {},
   "outputs": [
    {
     "data": {
      "text/plain": [
       "5882"
      ]
     },
     "execution_count": 62,
     "metadata": {},
     "output_type": "execute_result"
    }
   ],
   "source": [
    "tmp = tmp.merge(mouse_trans[[\"hg19_id\", \"mm9_id\", \"tss_tile_num\", \"logFC_trans_mouse\", \"fdr_trans_mouse\"]], \n",
    "                on=[\"hg19_id\", \"mm9_id\", \"tss_tile_num\"], how=\"right\")\n",
    "len(tmp)"
   ]
  },
  {
   "cell_type": "code",
   "execution_count": 63,
   "metadata": {},
   "outputs": [
    {
     "name": "stdout",
     "output_type": "stream",
     "text": [
      "5882\n"
     ]
    },
    {
     "data": {
      "text/html": [
       "<div>\n",
       "<style>\n",
       "    .dataframe thead tr:only-child th {\n",
       "        text-align: right;\n",
       "    }\n",
       "\n",
       "    .dataframe thead th {\n",
       "        text-align: left;\n",
       "    }\n",
       "\n",
       "    .dataframe tbody tr th {\n",
       "        vertical-align: top;\n",
       "    }\n",
       "</style>\n",
       "<table border=\"1\" class=\"dataframe\">\n",
       "  <thead>\n",
       "    <tr style=\"text-align: right;\">\n",
       "      <th></th>\n",
       "      <th>hg19_id</th>\n",
       "      <th>chr_tss_hg19</th>\n",
       "      <th>start_tss_hg19</th>\n",
       "      <th>biotype_hg19</th>\n",
       "      <th>minimal_biotype_hg19</th>\n",
       "      <th>cage_id_hg19</th>\n",
       "      <th>name_peak_hg19</th>\n",
       "      <th>stem_exp_hg19</th>\n",
       "      <th>max_cage_hg19</th>\n",
       "      <th>mm9_id</th>\n",
       "      <th>...</th>\n",
       "      <th>logFC_cis_HUES64</th>\n",
       "      <th>fdr_cis_HUES64</th>\n",
       "      <th>logFC_cis_mESC</th>\n",
       "      <th>fdr_cis_mESC</th>\n",
       "      <th>logFC_trans_human</th>\n",
       "      <th>fdr_trans_human</th>\n",
       "      <th>logFC_trans_mouse</th>\n",
       "      <th>fdr_trans_mouse</th>\n",
       "      <th>logFC_int</th>\n",
       "      <th>fdr_int</th>\n",
       "    </tr>\n",
       "  </thead>\n",
       "  <tbody>\n",
       "    <tr>\n",
       "      <th>1167</th>\n",
       "      <td>h.1599</td>\n",
       "      <td>chr1</td>\n",
       "      <td>112282451.0</td>\n",
       "      <td>antisense</td>\n",
       "      <td>lncRNA</td>\n",
       "      <td>chr1:112282444..112282464,+</td>\n",
       "      <td>ENSG00000227811.2</td>\n",
       "      <td>0.734444</td>\n",
       "      <td>585.0</td>\n",
       "      <td>m.1411</td>\n",
       "      <td>...</td>\n",
       "      <td>-0.282199</td>\n",
       "      <td>2.820620e-01</td>\n",
       "      <td>-0.266316</td>\n",
       "      <td>0.325046</td>\n",
       "      <td>0.140264</td>\n",
       "      <td>0.625925</td>\n",
       "      <td>0.085199</td>\n",
       "      <td>0.732586</td>\n",
       "      <td>0.029444</td>\n",
       "      <td>0.988949</td>\n",
       "    </tr>\n",
       "    <tr>\n",
       "      <th>487</th>\n",
       "      <td>h.705</td>\n",
       "      <td>chr12</td>\n",
       "      <td>14956411.0</td>\n",
       "      <td>protein_coding</td>\n",
       "      <td>mRNA</td>\n",
       "      <td>chr12:14956396..14956444,-</td>\n",
       "      <td>ENSG00000084463.3</td>\n",
       "      <td>84.7156</td>\n",
       "      <td>79395.0</td>\n",
       "      <td>m.591</td>\n",
       "      <td>...</td>\n",
       "      <td>0.330606</td>\n",
       "      <td>2.398787e-01</td>\n",
       "      <td>1.377137</td>\n",
       "      <td>0.000002</td>\n",
       "      <td>-0.866500</td>\n",
       "      <td>0.000675</td>\n",
       "      <td>0.302320</td>\n",
       "      <td>0.203749</td>\n",
       "      <td>1.227548</td>\n",
       "      <td>0.010443</td>\n",
       "    </tr>\n",
       "    <tr>\n",
       "      <th>1604</th>\n",
       "      <td>h.2241</td>\n",
       "      <td>chr2</td>\n",
       "      <td>20425487.0</td>\n",
       "      <td>protein_coding</td>\n",
       "      <td>mRNA</td>\n",
       "      <td>chr2:20425480..20425493,-</td>\n",
       "      <td>ENSG00000115884.6</td>\n",
       "      <td>0.542222</td>\n",
       "      <td>1079.0</td>\n",
       "      <td>m.2053</td>\n",
       "      <td>...</td>\n",
       "      <td>-2.356319</td>\n",
       "      <td>5.615613e-08</td>\n",
       "      <td>-2.071661</td>\n",
       "      <td>0.000022</td>\n",
       "      <td>-0.226140</td>\n",
       "      <td>0.358811</td>\n",
       "      <td>-0.005939</td>\n",
       "      <td>0.994318</td>\n",
       "      <td>0.012079</td>\n",
       "      <td>0.995326</td>\n",
       "    </tr>\n",
       "    <tr>\n",
       "      <th>3370</th>\n",
       "      <td>h.903</td>\n",
       "      <td>chr1</td>\n",
       "      <td>201798252.0</td>\n",
       "      <td>protein_coding</td>\n",
       "      <td>mRNA</td>\n",
       "      <td>chr1:201798251..201798253,+</td>\n",
       "      <td>ENSG00000198700.5</td>\n",
       "      <td>0.0588889</td>\n",
       "      <td>9546.0</td>\n",
       "      <td>m.787</td>\n",
       "      <td>...</td>\n",
       "      <td>1.634373</td>\n",
       "      <td>4.748091e-07</td>\n",
       "      <td>0.899841</td>\n",
       "      <td>0.019565</td>\n",
       "      <td>0.308175</td>\n",
       "      <td>0.284456</td>\n",
       "      <td>-0.271905</td>\n",
       "      <td>0.254839</td>\n",
       "      <td>-0.562555</td>\n",
       "      <td>0.623201</td>\n",
       "    </tr>\n",
       "    <tr>\n",
       "      <th>2597</th>\n",
       "      <td>h.3493</td>\n",
       "      <td>chr19</td>\n",
       "      <td>35598597.0</td>\n",
       "      <td>no cage activity</td>\n",
       "      <td>no CAGE activity</td>\n",
       "      <td>no cage activity</td>\n",
       "      <td>no cage activity</td>\n",
       "      <td>no cage activity</td>\n",
       "      <td>4.0</td>\n",
       "      <td>m.3303</td>\n",
       "      <td>...</td>\n",
       "      <td>1.380068</td>\n",
       "      <td>1.642249e-08</td>\n",
       "      <td>0.996988</td>\n",
       "      <td>0.000008</td>\n",
       "      <td>0.873355</td>\n",
       "      <td>0.000126</td>\n",
       "      <td>0.560466</td>\n",
       "      <td>0.000749</td>\n",
       "      <td>-0.316158</td>\n",
       "      <td>0.788434</td>\n",
       "    </tr>\n",
       "  </tbody>\n",
       "</table>\n",
       "<p>5 rows × 41 columns</p>\n",
       "</div>"
      ],
      "text/plain": [
       "     hg19_id chr_tss_hg19  start_tss_hg19      biotype_hg19  \\\n",
       "1167  h.1599         chr1     112282451.0         antisense   \n",
       "487    h.705        chr12      14956411.0    protein_coding   \n",
       "1604  h.2241         chr2      20425487.0    protein_coding   \n",
       "3370   h.903         chr1     201798252.0    protein_coding   \n",
       "2597  h.3493        chr19      35598597.0  no cage activity   \n",
       "\n",
       "     minimal_biotype_hg19                 cage_id_hg19     name_peak_hg19  \\\n",
       "1167               lncRNA  chr1:112282444..112282464,+  ENSG00000227811.2   \n",
       "487                  mRNA   chr12:14956396..14956444,-  ENSG00000084463.3   \n",
       "1604                 mRNA    chr2:20425480..20425493,-  ENSG00000115884.6   \n",
       "3370                 mRNA  chr1:201798251..201798253,+  ENSG00000198700.5   \n",
       "2597     no CAGE activity             no cage activity   no cage activity   \n",
       "\n",
       "         stem_exp_hg19  max_cage_hg19  mm9_id    ...    logFC_cis_HUES64  \\\n",
       "1167          0.734444          585.0  m.1411    ...           -0.282199   \n",
       "487            84.7156        79395.0   m.591    ...            0.330606   \n",
       "1604          0.542222         1079.0  m.2053    ...           -2.356319   \n",
       "3370         0.0588889         9546.0   m.787    ...            1.634373   \n",
       "2597  no cage activity            4.0  m.3303    ...            1.380068   \n",
       "\n",
       "      fdr_cis_HUES64 logFC_cis_mESC fdr_cis_mESC logFC_trans_human  \\\n",
       "1167    2.820620e-01      -0.266316     0.325046          0.140264   \n",
       "487     2.398787e-01       1.377137     0.000002         -0.866500   \n",
       "1604    5.615613e-08      -2.071661     0.000022         -0.226140   \n",
       "3370    4.748091e-07       0.899841     0.019565          0.308175   \n",
       "2597    1.642249e-08       0.996988     0.000008          0.873355   \n",
       "\n",
       "     fdr_trans_human logFC_trans_mouse  fdr_trans_mouse logFC_int   fdr_int  \n",
       "1167        0.625925          0.085199         0.732586  0.029444  0.988949  \n",
       "487         0.000675          0.302320         0.203749  1.227548  0.010443  \n",
       "1604        0.358811         -0.005939         0.994318  0.012079  0.995326  \n",
       "3370        0.284456         -0.271905         0.254839 -0.562555  0.623201  \n",
       "2597        0.000126          0.560466         0.000749 -0.316158  0.788434  \n",
       "\n",
       "[5 rows x 41 columns]"
      ]
     },
     "execution_count": 63,
     "metadata": {},
     "output_type": "execute_result"
    }
   ],
   "source": [
    "tmp = tmp.merge(cis_trans_int[[\"hg19_id\", \"mm9_id\", \"tss_tile_num\", \"logFC_int\", \"fdr_int\"]], \n",
    "                on=[\"hg19_id\", \"mm9_id\", \"tss_tile_num\"], how=\"right\")\n",
    "print(len(tmp))\n",
    "tmp.sample(5)"
   ]
  },
  {
   "cell_type": "code",
   "execution_count": 64,
   "metadata": {},
   "outputs": [],
   "source": [
    "data = tmp.copy()"
   ]
  },
  {
   "cell_type": "code",
   "execution_count": 65,
   "metadata": {},
   "outputs": [
    {
     "data": {
      "text/plain": [
       "Index(['hg19_id', 'chr_tss_hg19', 'start_tss_hg19', 'biotype_hg19',\n",
       "       'minimal_biotype_hg19', 'cage_id_hg19', 'name_peak_hg19',\n",
       "       'stem_exp_hg19', 'max_cage_hg19', 'mm9_id', 'chr_tss_mm9',\n",
       "       'start_tss_mm9', 'biotype_mm9', 'minimal_biotype_mm9', 'cage_id_mm9',\n",
       "       'name_peak_mm9', 'stem_exp_mm9', 'max_cage_mm9', 'tss_tile_num',\n",
       "       'orig_species', 'biotype_switch_minimal', 'HUES64_hg19', 'mESC_hg19',\n",
       "       'HUES64_mm9', 'mESC_mm9', 'HUES64_padj_hg19', 'mESC_padj_hg19',\n",
       "       'HUES64_padj_mm9', 'mESC_padj_mm9', 'logFC_native', 'fdr_native',\n",
       "       'logFC_cis_HUES64', 'fdr_cis_HUES64', 'logFC_cis_mESC', 'fdr_cis_mESC',\n",
       "       'logFC_trans_human', 'fdr_trans_human', 'logFC_trans_mouse',\n",
       "       'fdr_trans_mouse', 'logFC_int', 'fdr_int'],\n",
       "      dtype='object')"
      ]
     },
     "execution_count": 65,
     "metadata": {},
     "output_type": "execute_result"
    }
   ],
   "source": [
    "data.columns"
   ]
  },
  {
   "cell_type": "markdown",
   "metadata": {},
   "source": [
    "## 8. classify comparison effects as sig vs. not sig"
   ]
  },
  {
   "cell_type": "code",
   "execution_count": 66,
   "metadata": {},
   "outputs": [],
   "source": [
    "data[\"native_status\"] = data.apply(comp_status, fdr_col=\"fdr_native\", thresh=NATIVE_THRESH, txt=\"native\", axis=1)\n",
    "data[\"cis_HUES64_status\"] = data.apply(comp_status, fdr_col=\"fdr_cis_HUES64\", thresh=CIS_HUES64_THRESH, \n",
    "                                       txt=\"cis\", axis=1)\n",
    "data[\"cis_mESC_status\"] = data.apply(comp_status, fdr_col=\"fdr_cis_mESC\", thresh=CIS_MESC_THRESH, txt=\"cis\", axis=1)\n",
    "data[\"trans_human_status\"] = data.apply(comp_status, fdr_col=\"fdr_trans_human\", thresh=TRANS_HUMAN_THRESH,\n",
    "                                        txt=\"trans\", axis=1)\n",
    "data[\"trans_mouse_status\"] = data.apply(comp_status, fdr_col=\"fdr_trans_mouse\", thresh=TRANS_MOUSE_THRESH,\n",
    "                                        txt=\"trans\", axis=1)\n",
    "data[\"cis_trans_int_status\"] = data.apply(comp_status, fdr_col=\"fdr_int\", thresh=0.05, txt=\"cis/trans int.\", axis=1)"
   ]
  },
  {
   "cell_type": "code",
   "execution_count": 67,
   "metadata": {},
   "outputs": [
    {
     "data": {
      "text/html": [
       "<div>\n",
       "<style>\n",
       "    .dataframe thead tr:only-child th {\n",
       "        text-align: right;\n",
       "    }\n",
       "\n",
       "    .dataframe thead th {\n",
       "        text-align: left;\n",
       "    }\n",
       "\n",
       "    .dataframe tbody tr th {\n",
       "        vertical-align: top;\n",
       "    }\n",
       "</style>\n",
       "<table border=\"1\" class=\"dataframe\">\n",
       "  <thead>\n",
       "    <tr style=\"text-align: right;\">\n",
       "      <th></th>\n",
       "      <th>hg19_id</th>\n",
       "      <th>chr_tss_hg19</th>\n",
       "      <th>start_tss_hg19</th>\n",
       "      <th>biotype_hg19</th>\n",
       "      <th>minimal_biotype_hg19</th>\n",
       "      <th>cage_id_hg19</th>\n",
       "      <th>name_peak_hg19</th>\n",
       "      <th>stem_exp_hg19</th>\n",
       "      <th>max_cage_hg19</th>\n",
       "      <th>mm9_id</th>\n",
       "      <th>...</th>\n",
       "      <th>logFC_trans_mouse</th>\n",
       "      <th>fdr_trans_mouse</th>\n",
       "      <th>logFC_int</th>\n",
       "      <th>fdr_int</th>\n",
       "      <th>native_status</th>\n",
       "      <th>cis_HUES64_status</th>\n",
       "      <th>cis_mESC_status</th>\n",
       "      <th>trans_human_status</th>\n",
       "      <th>trans_mouse_status</th>\n",
       "      <th>cis_trans_int_status</th>\n",
       "    </tr>\n",
       "  </thead>\n",
       "  <tbody>\n",
       "    <tr>\n",
       "      <th>2567</th>\n",
       "      <td>h.3461</td>\n",
       "      <td>chr2</td>\n",
       "      <td>112911472.0</td>\n",
       "      <td>no cage activity</td>\n",
       "      <td>no CAGE activity</td>\n",
       "      <td>no cage activity</td>\n",
       "      <td>no cage activity</td>\n",
       "      <td>no cage activity</td>\n",
       "      <td>1.0</td>\n",
       "      <td>m.3271</td>\n",
       "      <td>...</td>\n",
       "      <td>0.280212</td>\n",
       "      <td>0.260983</td>\n",
       "      <td>-0.183329</td>\n",
       "      <td>0.973383</td>\n",
       "      <td>significant native effect</td>\n",
       "      <td>significant cis effect</td>\n",
       "      <td>significant cis effect</td>\n",
       "      <td>no trans effect</td>\n",
       "      <td>no trans effect</td>\n",
       "      <td>no cis/trans int. effect</td>\n",
       "    </tr>\n",
       "    <tr>\n",
       "      <th>2975</th>\n",
       "      <td>h.408</td>\n",
       "      <td>chr17</td>\n",
       "      <td>41465692.0</td>\n",
       "      <td>intergenic</td>\n",
       "      <td>lncRNA</td>\n",
       "      <td>chr17:41465674..41465708,-</td>\n",
       "      <td>ENSG00000188825.9</td>\n",
       "      <td>0.158889</td>\n",
       "      <td>NaN</td>\n",
       "      <td>m.330</td>\n",
       "      <td>...</td>\n",
       "      <td>0.447084</td>\n",
       "      <td>0.181723</td>\n",
       "      <td>0.542492</td>\n",
       "      <td>0.619853</td>\n",
       "      <td>no native effect</td>\n",
       "      <td>significant cis effect</td>\n",
       "      <td>no cis effect</td>\n",
       "      <td>no trans effect</td>\n",
       "      <td>no trans effect</td>\n",
       "      <td>no cis/trans int. effect</td>\n",
       "    </tr>\n",
       "    <tr>\n",
       "      <th>777</th>\n",
       "      <td>h.1338</td>\n",
       "      <td>chr1</td>\n",
       "      <td>205267902.0</td>\n",
       "      <td>enhancer</td>\n",
       "      <td>eRNA</td>\n",
       "      <td>chr1:205267691-205267999</td>\n",
       "      <td>chr1:205267691-205267999__POSITIVE</td>\n",
       "      <td>0.11973099999999999</td>\n",
       "      <td>42.0</td>\n",
       "      <td>m.1020</td>\n",
       "      <td>...</td>\n",
       "      <td>0.025616</td>\n",
       "      <td>0.945021</td>\n",
       "      <td>0.499265</td>\n",
       "      <td>0.693538</td>\n",
       "      <td>no native effect</td>\n",
       "      <td>no cis effect</td>\n",
       "      <td>no cis effect</td>\n",
       "      <td>no trans effect</td>\n",
       "      <td>no trans effect</td>\n",
       "      <td>no cis/trans int. effect</td>\n",
       "    </tr>\n",
       "    <tr>\n",
       "      <th>1094</th>\n",
       "      <td>h.1500</td>\n",
       "      <td>chr13</td>\n",
       "      <td>110787445.0</td>\n",
       "      <td>enhancer</td>\n",
       "      <td>eRNA</td>\n",
       "      <td>chr13:110787215-110787446</td>\n",
       "      <td>chr13:110787215-110787446__POSITIVE</td>\n",
       "      <td>0.268505</td>\n",
       "      <td>7.0</td>\n",
       "      <td>m.1320</td>\n",
       "      <td>...</td>\n",
       "      <td>-1.413463</td>\n",
       "      <td>0.063324</td>\n",
       "      <td>-1.691840</td>\n",
       "      <td>0.032959</td>\n",
       "      <td>significant native effect</td>\n",
       "      <td>no cis effect</td>\n",
       "      <td>significant cis effect</td>\n",
       "      <td>no trans effect</td>\n",
       "      <td>no trans effect</td>\n",
       "      <td>significant cis/trans int. effect</td>\n",
       "    </tr>\n",
       "    <tr>\n",
       "      <th>338</th>\n",
       "      <td>h.464</td>\n",
       "      <td>chr3</td>\n",
       "      <td>45730000.0</td>\n",
       "      <td>divergent</td>\n",
       "      <td>other</td>\n",
       "      <td>chr3:45729982..45730002,-</td>\n",
       "      <td>ENSG00000230530.1</td>\n",
       "      <td>0.8911110000000001</td>\n",
       "      <td>178.0</td>\n",
       "      <td>m.342</td>\n",
       "      <td>...</td>\n",
       "      <td>0.371084</td>\n",
       "      <td>0.063442</td>\n",
       "      <td>0.055048</td>\n",
       "      <td>0.987564</td>\n",
       "      <td>no native effect</td>\n",
       "      <td>no cis effect</td>\n",
       "      <td>no cis effect</td>\n",
       "      <td>no trans effect</td>\n",
       "      <td>no trans effect</td>\n",
       "      <td>no cis/trans int. effect</td>\n",
       "    </tr>\n",
       "  </tbody>\n",
       "</table>\n",
       "<p>5 rows × 47 columns</p>\n",
       "</div>"
      ],
      "text/plain": [
       "     hg19_id chr_tss_hg19  start_tss_hg19      biotype_hg19  \\\n",
       "2567  h.3461         chr2     112911472.0  no cage activity   \n",
       "2975   h.408        chr17      41465692.0        intergenic   \n",
       "777   h.1338         chr1     205267902.0          enhancer   \n",
       "1094  h.1500        chr13     110787445.0          enhancer   \n",
       "338    h.464         chr3      45730000.0         divergent   \n",
       "\n",
       "     minimal_biotype_hg19                cage_id_hg19  \\\n",
       "2567     no CAGE activity            no cage activity   \n",
       "2975               lncRNA  chr17:41465674..41465708,-   \n",
       "777                  eRNA    chr1:205267691-205267999   \n",
       "1094                 eRNA   chr13:110787215-110787446   \n",
       "338                 other   chr3:45729982..45730002,-   \n",
       "\n",
       "                           name_peak_hg19        stem_exp_hg19  max_cage_hg19  \\\n",
       "2567                     no cage activity     no cage activity            1.0   \n",
       "2975                    ENSG00000188825.9             0.158889            NaN   \n",
       "777    chr1:205267691-205267999__POSITIVE  0.11973099999999999           42.0   \n",
       "1094  chr13:110787215-110787446__POSITIVE             0.268505            7.0   \n",
       "338                     ENSG00000230530.1   0.8911110000000001          178.0   \n",
       "\n",
       "      mm9_id                ...                 logFC_trans_mouse  \\\n",
       "2567  m.3271                ...                          0.280212   \n",
       "2975   m.330                ...                          0.447084   \n",
       "777   m.1020                ...                          0.025616   \n",
       "1094  m.1320                ...                         -1.413463   \n",
       "338    m.342                ...                          0.371084   \n",
       "\n",
       "      fdr_trans_mouse logFC_int   fdr_int              native_status  \\\n",
       "2567         0.260983 -0.183329  0.973383  significant native effect   \n",
       "2975         0.181723  0.542492  0.619853           no native effect   \n",
       "777          0.945021  0.499265  0.693538           no native effect   \n",
       "1094         0.063324 -1.691840  0.032959  significant native effect   \n",
       "338          0.063442  0.055048  0.987564           no native effect   \n",
       "\n",
       "           cis_HUES64_status         cis_mESC_status  trans_human_status  \\\n",
       "2567  significant cis effect  significant cis effect     no trans effect   \n",
       "2975  significant cis effect           no cis effect     no trans effect   \n",
       "777            no cis effect           no cis effect     no trans effect   \n",
       "1094           no cis effect  significant cis effect     no trans effect   \n",
       "338            no cis effect           no cis effect     no trans effect   \n",
       "\n",
       "     trans_mouse_status               cis_trans_int_status  \n",
       "2567    no trans effect           no cis/trans int. effect  \n",
       "2975    no trans effect           no cis/trans int. effect  \n",
       "777     no trans effect           no cis/trans int. effect  \n",
       "1094    no trans effect  significant cis/trans int. effect  \n",
       "338     no trans effect           no cis/trans int. effect  \n",
       "\n",
       "[5 rows x 47 columns]"
      ]
     },
     "execution_count": 67,
     "metadata": {},
     "output_type": "execute_result"
    }
   ],
   "source": [
    "data.sample(5)"
   ]
  },
  {
   "cell_type": "markdown",
   "metadata": {},
   "source": [
    "## 9. compare l2fcs for elements called significant for each biotype & re-classify"
   ]
  },
  {
   "cell_type": "code",
   "execution_count": 68,
   "metadata": {},
   "outputs": [],
   "source": [
    "min_order = [\"no CAGE activity\", \"eRNA\", \"lncRNA\", \"mRNA\", \"other\"]\n",
    "palette = sns.husl_palette(n_colors=len(min_order))"
   ]
  },
  {
   "cell_type": "code",
   "execution_count": 69,
   "metadata": {},
   "outputs": [
    {
     "name": "stdout",
     "output_type": "stream",
     "text": [
      "0.716255932823\n"
     ]
    },
    {
     "data": {
      "image/png": "[encoded data removed]",
      "text/plain": [
       "<matplotlib.figure.Figure at 0x2b94e3a83c50>"
      ]
     },
     "metadata": {},
     "output_type": "display_data"
    },
    {
     "name": "stdout",
     "output_type": "stream",
     "text": [
      "0.602908692744\n"
     ]
    },
    {
     "data": {
      "image/png": "[encoded data removed]",
      "text/plain": [
       "<matplotlib.figure.Figure at 0x2b94e39ac390>"
      ]
     },
     "metadata": {},
     "output_type": "display_data"
    },
    {
     "name": "stdout",
     "output_type": "stream",
     "text": [
      "0.62366287214\n"
     ]
    },
    {
     "data": {
      "image/png": "[encoded data removed]",
      "text/plain": [
       "<matplotlib.figure.Figure at 0x2b94e36a8048>"
      ]
     },
     "metadata": {},
     "output_type": "display_data"
    },
    {
     "name": "stdout",
     "output_type": "stream",
     "text": [
      "0.307736218191\n"
     ]
    },
    {
     "data": {
      "image/png": "[encoded data removed]",
      "text/plain": [
       "<matplotlib.figure.Figure at 0x2b94e3753358>"
      ]
     },
     "metadata": {},
     "output_type": "display_data"
    },
    {
     "name": "stdout",
     "output_type": "stream",
     "text": [
      "0.359630749904\n"
     ]
    },
    {
     "data": {
      "image/png": "[encoded data removed]",
      "text/plain": [
       "<matplotlib.figure.Figure at 0x2b94e37771d0>"
      ]
     },
     "metadata": {},
     "output_type": "display_data"
    },
    {
     "name": "stdout",
     "output_type": "stream",
     "text": [
      "nan\n"
     ]
    },
    {
     "data": {
      "image/png": "[encoded data removed]",
      "text/plain": [
       "<matplotlib.figure.Figure at 0x2b94e3848080>"
      ]
     },
     "metadata": {},
     "output_type": "display_data"
    }
   ],
   "source": [
    "l2fc_cols = [\"logFC_native\", \"logFC_cis_HUES64\", \"logFC_cis_mESC\", \"logFC_trans_human\", \"logFC_trans_mouse\", \n",
    "             \"logFC_int\"]\n",
    "sig_cols = [\"native_status\", \"cis_HUES64_status\", \"cis_mESC_status\", \"trans_human_status\", \"trans_mouse_status\",\n",
    "            \"cis_trans_int_status\"]\n",
    "xlabels = [\"native effect size\", \"cis effect size (HUES64)\", \"cis effect size (mESC)\", \"trans effect size (human)\",\n",
    "           \"trans effect size (mouse)\", \"cis/trans interaction effect size\"]\n",
    "xs = [1, 0.9, 0.8, 0.4, 0.4, 0]\n",
    "min_vals = []\n",
    "\n",
    "for l2fc_col, sig_col, xlabel, x in zip(l2fc_cols, sig_cols, xlabels, xs):\n",
    "    \n",
    "    fig, ax = plt.subplots(figsize=(2, 1.5), nrows=1, ncols=1)\n",
    "    filt = data[((data[\"HUES64_padj_hg19\"] < QUANT_ALPHA) | (data[\"mESC_padj_mm9\"] < QUANT_ALPHA))]\n",
    "    ctrls = np.abs(data[data[\"hg19_id\"].str.contains(\"ctrl.\")][l2fc_col])\n",
    "    \n",
    "    sig_ctrls = data[(data[\"hg19_id\"].str.contains(\"ctrl.\")) & (data[sig_col].str.contains(\"significant\"))][l2fc_col]\n",
    "    min_val = np.min(np.abs(sig_ctrls))\n",
    "    print(min_val)\n",
    "    min_vals.append(min_val)\n",
    "    \n",
    "    sns.distplot(ctrls, hist=False, color=\"gray\", label=\"neg. ctrls (n=%s)\" % len(ctrls), ax=ax)\n",
    "    \n",
    "    sub = filt[~filt[sig_col].str.contains(\"no \")]\n",
    "    for i, label in enumerate(min_order):\n",
    "        \n",
    "        vals = np.abs(sub[sub[\"minimal_biotype_hg19\"] == label][l2fc_col])\n",
    "        sns.distplot(vals, hist=False, color=palette[i], label=\"%s (n=%s)\" % (label, len(vals)), ax=ax)\n",
    "    \n",
    "    ax.set_xlabel(xlabel)\n",
    "    ax.set_ylabel(\"density\")\n",
    "    ax.axvline(x=x, linestyle=\"dashed\", color=\"black\")\n",
    "    plt.legend(loc=2, bbox_to_anchor=(1.05, 1))\n",
    "    plt.show()\n",
    "    plt.close()"
   ]
  },
  {
   "cell_type": "code",
   "execution_count": 70,
   "metadata": {},
   "outputs": [
    {
     "data": {
      "text/plain": [
       "no native effect             4781\n",
       "significant native effect    1101\n",
       "Name: native_status, dtype: int64"
      ]
     },
     "execution_count": 70,
     "metadata": {},
     "output_type": "execute_result"
    }
   ],
   "source": [
    "data.native_status.value_counts()"
   ]
  },
  {
   "cell_type": "code",
   "execution_count": 71,
   "metadata": {},
   "outputs": [],
   "source": [
    "data[\"native_status\"] = data.apply(comp_status_stringent, status_col=\"native_status\", \n",
    "                                   l2fc_col=\"logFC_native\", l2fc_thresh=min_vals[0], txt=\"native\", axis=1)\n",
    "data[\"cis_HUES64_status\"] = data.apply(comp_status_stringent, status_col=\"cis_HUES64_status\",  \n",
    "                                       l2fc_col=\"logFC_cis_HUES64\", l2fc_thresh=min_vals[1], txt=\"cis\", axis=1)\n",
    "data[\"cis_mESC_status\"] = data.apply(comp_status_stringent, status_col=\"cis_mESC_status\", \n",
    "                                     l2fc_col=\"logFC_cis_mESC\", l2fc_thresh=min_vals[2], txt=\"cis\", axis=1)\n",
    "data[\"trans_human_status\"] = data.apply(comp_status_stringent, status_col=\"trans_human_status\", \n",
    "                                        l2fc_col=\"logFC_trans_human\", l2fc_thresh=min_vals[3], txt=\"trans\", axis=1)\n",
    "data[\"trans_mouse_status\"] = data.apply(comp_status_stringent, status_col=\"trans_mouse_status\", \n",
    "                                        l2fc_col=\"logFC_trans_mouse\", l2fc_thresh=min_vals[4], txt=\"trans\", axis=1)\n",
    "data[\"cis_trans_int_status\"] = data.apply(comp_status_stringent, status_col=\"cis_trans_int_status\", \n",
    "                                          l2fc_col=\"logFC_int\", l2fc_thresh=0, txt=\"cis/trans int.\", axis=1)"
   ]
  },
  {
   "cell_type": "code",
   "execution_count": 72,
   "metadata": {},
   "outputs": [
    {
     "data": {
      "text/plain": [
       "no native effect             4784\n",
       "significant native effect    1098\n",
       "Name: native_status, dtype: int64"
      ]
     },
     "execution_count": 72,
     "metadata": {},
     "output_type": "execute_result"
    }
   ],
   "source": [
    "data.native_status.value_counts()"
   ]
  },
  {
   "cell_type": "markdown",
   "metadata": {},
   "source": [
    "## 9. classify effects as higher in mouse or human"
   ]
  },
  {
   "cell_type": "code",
   "execution_count": 73,
   "metadata": {},
   "outputs": [],
   "source": [
    "data[\"native_status_det\"] = data.apply(comp_status_detail, status_col=\"native_status\",\n",
    "                                       logFC_col=\"logFC_native\", txt=\"native\", axis=1)\n",
    "data[\"cis_HUES64_status_det\"] = data.apply(comp_status_detail, status_col=\"cis_HUES64_status\",\n",
    "                                           logFC_col=\"logFC_cis_HUES64\", txt=\"cis\", axis=1)\n",
    "data[\"cis_mESC_status_det\"] = data.apply(comp_status_detail, status_col=\"cis_mESC_status\",\n",
    "                                         logFC_col=\"logFC_cis_mESC\", txt=\"cis\", axis=1)\n",
    "data[\"trans_human_status_det\"] = data.apply(comp_status_detail, status_col=\"trans_human_status\",\n",
    "                                            logFC_col=\"logFC_trans_human\", txt=\"trans\", axis=1)\n",
    "data[\"trans_mouse_status_det\"] = data.apply(comp_status_detail, status_col=\"trans_mouse_status\",\n",
    "                                            logFC_col=\"logFC_trans_mouse\", txt=\"trans\", axis=1)\n",
    "data[\"cis_trans_int_status_det\"] = data.apply(comp_status_detail, status_col=\"cis_trans_int_status\", \n",
    "                                              logFC_col=\"logFC_int\", txt=\"cis/trans int.\", axis=1)"
   ]
  },
  {
   "cell_type": "code",
   "execution_count": 74,
   "metadata": {},
   "outputs": [
    {
     "data": {
      "text/html": [
       "<div>\n",
       "<style>\n",
       "    .dataframe thead tr:only-child th {\n",
       "        text-align: right;\n",
       "    }\n",
       "\n",
       "    .dataframe thead th {\n",
       "        text-align: left;\n",
       "    }\n",
       "\n",
       "    .dataframe tbody tr th {\n",
       "        vertical-align: top;\n",
       "    }\n",
       "</style>\n",
       "<table border=\"1\" class=\"dataframe\">\n",
       "  <thead>\n",
       "    <tr style=\"text-align: right;\">\n",
       "      <th></th>\n",
       "      <th>hg19_id</th>\n",
       "      <th>chr_tss_hg19</th>\n",
       "      <th>start_tss_hg19</th>\n",
       "      <th>biotype_hg19</th>\n",
       "      <th>minimal_biotype_hg19</th>\n",
       "      <th>cage_id_hg19</th>\n",
       "      <th>name_peak_hg19</th>\n",
       "      <th>stem_exp_hg19</th>\n",
       "      <th>max_cage_hg19</th>\n",
       "      <th>mm9_id</th>\n",
       "      <th>...</th>\n",
       "      <th>cis_mESC_status</th>\n",
       "      <th>trans_human_status</th>\n",
       "      <th>trans_mouse_status</th>\n",
       "      <th>cis_trans_int_status</th>\n",
       "      <th>native_status_det</th>\n",
       "      <th>cis_HUES64_status_det</th>\n",
       "      <th>cis_mESC_status_det</th>\n",
       "      <th>trans_human_status_det</th>\n",
       "      <th>trans_mouse_status_det</th>\n",
       "      <th>cis_trans_int_status_det</th>\n",
       "    </tr>\n",
       "  </thead>\n",
       "  <tbody>\n",
       "    <tr>\n",
       "      <th>2929</th>\n",
       "      <td>h.354</td>\n",
       "      <td>chr8</td>\n",
       "      <td>24814125.0</td>\n",
       "      <td>intergenic</td>\n",
       "      <td>mRNA</td>\n",
       "      <td>chr8:24814118..24814133,-</td>\n",
       "      <td>ENSG00000104725.9</td>\n",
       "      <td>7.6311100000000005</td>\n",
       "      <td>221260.0</td>\n",
       "      <td>m.227</td>\n",
       "      <td>...</td>\n",
       "      <td>no cis effect</td>\n",
       "      <td>no trans effect</td>\n",
       "      <td>no trans effect</td>\n",
       "      <td>no cis/trans int. effect</td>\n",
       "      <td>no native effect</td>\n",
       "      <td>no cis effect</td>\n",
       "      <td>no cis effect</td>\n",
       "      <td>no trans effect</td>\n",
       "      <td>no trans effect</td>\n",
       "      <td>no cis/trans int. effect</td>\n",
       "    </tr>\n",
       "    <tr>\n",
       "      <th>1308</th>\n",
       "      <td>h.1830</td>\n",
       "      <td>chr17</td>\n",
       "      <td>7589382.0</td>\n",
       "      <td>divergent</td>\n",
       "      <td>lncRNA</td>\n",
       "      <td>chr17:7589377..7589405,-</td>\n",
       "      <td>ENSG00000262251.1</td>\n",
       "      <td>0.426667</td>\n",
       "      <td>493.0</td>\n",
       "      <td>m.1642</td>\n",
       "      <td>...</td>\n",
       "      <td>no cis effect</td>\n",
       "      <td>no trans effect</td>\n",
       "      <td>significant trans effect</td>\n",
       "      <td>significant cis/trans int. effect</td>\n",
       "      <td>no native effect</td>\n",
       "      <td>no cis effect</td>\n",
       "      <td>no cis effect</td>\n",
       "      <td>no trans effect</td>\n",
       "      <td>trans effect\\n(higher in mouse)</td>\n",
       "      <td>cis/trans int. effect\\n(higher in mouse)</td>\n",
       "    </tr>\n",
       "    <tr>\n",
       "      <th>2860</th>\n",
       "      <td>h.235</td>\n",
       "      <td>chr20</td>\n",
       "      <td>57425932.0</td>\n",
       "      <td>antisense</td>\n",
       "      <td>other</td>\n",
       "      <td>chr20:57425916..57425979,-</td>\n",
       "      <td>ENSG00000235590.3</td>\n",
       "      <td>8.59333</td>\n",
       "      <td>699.0</td>\n",
       "      <td>m.151</td>\n",
       "      <td>...</td>\n",
       "      <td>no cis effect</td>\n",
       "      <td>no trans effect</td>\n",
       "      <td>significant trans effect</td>\n",
       "      <td>no cis/trans int. effect</td>\n",
       "      <td>no native effect</td>\n",
       "      <td>no cis effect</td>\n",
       "      <td>no cis effect</td>\n",
       "      <td>no trans effect</td>\n",
       "      <td>trans effect\\n(higher in human)</td>\n",
       "      <td>no cis/trans int. effect</td>\n",
       "    </tr>\n",
       "    <tr>\n",
       "      <th>3380</th>\n",
       "      <td>h.917</td>\n",
       "      <td>chr11</td>\n",
       "      <td>118401131.0</td>\n",
       "      <td>protein_coding</td>\n",
       "      <td>mRNA</td>\n",
       "      <td>chr11:118401126..118401137,+</td>\n",
       "      <td>ENSG00000149582.11</td>\n",
       "      <td>0.0</td>\n",
       "      <td>281.0</td>\n",
       "      <td>m.801</td>\n",
       "      <td>...</td>\n",
       "      <td>no cis effect</td>\n",
       "      <td>significant trans effect</td>\n",
       "      <td>no trans effect</td>\n",
       "      <td>no cis/trans int. effect</td>\n",
       "      <td>no native effect</td>\n",
       "      <td>no cis effect</td>\n",
       "      <td>no cis effect</td>\n",
       "      <td>trans effect\\n(higher in mouse)</td>\n",
       "      <td>no trans effect</td>\n",
       "      <td>no cis/trans int. effect</td>\n",
       "    </tr>\n",
       "    <tr>\n",
       "      <th>658</th>\n",
       "      <td>h.966</td>\n",
       "      <td>chr17</td>\n",
       "      <td>45973601.0</td>\n",
       "      <td>protein_coding</td>\n",
       "      <td>mRNA</td>\n",
       "      <td>chr17:45973586..45973618,+</td>\n",
       "      <td>ENSG00000167182.11</td>\n",
       "      <td>7.4833300000000005</td>\n",
       "      <td>39014.0</td>\n",
       "      <td>m.849</td>\n",
       "      <td>...</td>\n",
       "      <td>no cis effect</td>\n",
       "      <td>no trans effect</td>\n",
       "      <td>no trans effect</td>\n",
       "      <td>no cis/trans int. effect</td>\n",
       "      <td>no native effect</td>\n",
       "      <td>no cis effect</td>\n",
       "      <td>no cis effect</td>\n",
       "      <td>no trans effect</td>\n",
       "      <td>no trans effect</td>\n",
       "      <td>no cis/trans int. effect</td>\n",
       "    </tr>\n",
       "  </tbody>\n",
       "</table>\n",
       "<p>5 rows × 53 columns</p>\n",
       "</div>"
      ],
      "text/plain": [
       "     hg19_id chr_tss_hg19  start_tss_hg19    biotype_hg19  \\\n",
       "2929   h.354         chr8      24814125.0      intergenic   \n",
       "1308  h.1830        chr17       7589382.0       divergent   \n",
       "2860   h.235        chr20      57425932.0       antisense   \n",
       "3380   h.917        chr11     118401131.0  protein_coding   \n",
       "658    h.966        chr17      45973601.0  protein_coding   \n",
       "\n",
       "     minimal_biotype_hg19                  cage_id_hg19      name_peak_hg19  \\\n",
       "2929                 mRNA     chr8:24814118..24814133,-   ENSG00000104725.9   \n",
       "1308               lncRNA      chr17:7589377..7589405,-   ENSG00000262251.1   \n",
       "2860                other    chr20:57425916..57425979,-   ENSG00000235590.3   \n",
       "3380                 mRNA  chr11:118401126..118401137,+  ENSG00000149582.11   \n",
       "658                  mRNA    chr17:45973586..45973618,+  ENSG00000167182.11   \n",
       "\n",
       "           stem_exp_hg19  max_cage_hg19  mm9_id  \\\n",
       "2929  7.6311100000000005       221260.0   m.227   \n",
       "1308            0.426667          493.0  m.1642   \n",
       "2860             8.59333          699.0   m.151   \n",
       "3380                 0.0          281.0   m.801   \n",
       "658   7.4833300000000005        39014.0   m.849   \n",
       "\n",
       "                        ...                    cis_mESC_status  \\\n",
       "2929                    ...                      no cis effect   \n",
       "1308                    ...                      no cis effect   \n",
       "2860                    ...                      no cis effect   \n",
       "3380                    ...                      no cis effect   \n",
       "658                     ...                      no cis effect   \n",
       "\n",
       "            trans_human_status        trans_mouse_status  \\\n",
       "2929           no trans effect           no trans effect   \n",
       "1308           no trans effect  significant trans effect   \n",
       "2860           no trans effect  significant trans effect   \n",
       "3380  significant trans effect           no trans effect   \n",
       "658            no trans effect           no trans effect   \n",
       "\n",
       "                   cis_trans_int_status native_status_det  \\\n",
       "2929           no cis/trans int. effect  no native effect   \n",
       "1308  significant cis/trans int. effect  no native effect   \n",
       "2860           no cis/trans int. effect  no native effect   \n",
       "3380           no cis/trans int. effect  no native effect   \n",
       "658            no cis/trans int. effect  no native effect   \n",
       "\n",
       "     cis_HUES64_status_det cis_mESC_status_det  \\\n",
       "2929         no cis effect       no cis effect   \n",
       "1308         no cis effect       no cis effect   \n",
       "2860         no cis effect       no cis effect   \n",
       "3380         no cis effect       no cis effect   \n",
       "658          no cis effect       no cis effect   \n",
       "\n",
       "               trans_human_status_det           trans_mouse_status_det  \\\n",
       "2929                  no trans effect                  no trans effect   \n",
       "1308                  no trans effect  trans effect\\n(higher in mouse)   \n",
       "2860                  no trans effect  trans effect\\n(higher in human)   \n",
       "3380  trans effect\\n(higher in mouse)                  no trans effect   \n",
       "658                   no trans effect                  no trans effect   \n",
       "\n",
       "                      cis_trans_int_status_det  \n",
       "2929                  no cis/trans int. effect  \n",
       "1308  cis/trans int. effect\\n(higher in mouse)  \n",
       "2860                  no cis/trans int. effect  \n",
       "3380                  no cis/trans int. effect  \n",
       "658                   no cis/trans int. effect  \n",
       "\n",
       "[5 rows x 53 columns]"
      ]
     },
     "execution_count": 74,
     "metadata": {},
     "output_type": "execute_result"
    }
   ],
   "source": [
    "data.sample(5)"
   ]
  },
  {
   "cell_type": "markdown",
   "metadata": {},
   "source": [
    "## 10. classify cis & trans effects into one effect (since we measured in 2 contexts)"
   ]
  },
  {
   "cell_type": "code",
   "execution_count": 75,
   "metadata": {},
   "outputs": [],
   "source": [
    "data[\"cis_status_one\"] = data.apply(comp_status_one, status_col1=\"cis_HUES64_status\", \n",
    "                                    status_col2=\"cis_mESC_status\", txt=\"cis\", axis=1)\n",
    "data[\"trans_status_one\"] = data.apply(comp_status_one, status_col1=\"trans_human_status\", \n",
    "                                      status_col2=\"trans_mouse_status\", txt=\"trans\", axis=1)"
   ]
  },
  {
   "cell_type": "code",
   "execution_count": 76,
   "metadata": {},
   "outputs": [],
   "source": [
    "data[\"cis_status_det_one\"] = data.apply(comp_status_detail_one, status_col1=\"cis_HUES64_status\", \n",
    "                                        status_col2=\"cis_mESC_status\", logFC_col1=\"logFC_cis_HUES64\", \n",
    "                                        logFC_col2=\"logFC_cis_mESC\", txt=\"cis\", axis=1)\n",
    "data[\"trans_status_det_one\"] = data.apply(comp_status_detail_one, status_col1=\"trans_human_status\", \n",
    "                                          status_col2=\"trans_mouse_status\", logFC_col1=\"logFC_trans_human\", \n",
    "                                          logFC_col2=\"logFC_trans_mouse\", txt=\"trans\", axis=1)"
   ]
  },
  {
   "cell_type": "code",
   "execution_count": 77,
   "metadata": {},
   "outputs": [],
   "source": [
    "data[\"logFC_cis_one\"] = data.apply(comp_logFC_one, status_col1=\"cis_HUES64_status\", status_col2=\"cis_mESC_status\",\n",
    "                                   logFC_col1=\"logFC_cis_HUES64\", logFC_col2=\"logFC_cis_mESC\", axis=1)\n",
    "data[\"logFC_trans_one\"] = data.apply(comp_logFC_one, status_col1=\"trans_human_status\", status_col2=\"trans_mouse_status\",\n",
    "                                     logFC_col1=\"logFC_trans_human\", logFC_col2=\"logFC_trans_mouse\", axis=1)"
   ]
  },
  {
   "cell_type": "markdown",
   "metadata": {},
   "source": [
    "## 11. print numbers with each effect"
   ]
  },
  {
   "cell_type": "code",
   "execution_count": 78,
   "metadata": {},
   "outputs": [
    {
     "data": {
      "text/plain": [
       "5482"
      ]
     },
     "execution_count": 78,
     "metadata": {},
     "output_type": "execute_result"
    }
   ],
   "source": [
    "# remove ctrls\n",
    "data = data[~data[\"hg19_id\"].str.contains(\"ctrl\")]\n",
    "len(data)"
   ]
  },
  {
   "cell_type": "markdown",
   "metadata": {},
   "source": [
    "## native"
   ]
  },
  {
   "cell_type": "code",
   "execution_count": 79,
   "metadata": {},
   "outputs": [
    {
     "data": {
      "text/plain": [
       "no native effect             4403\n",
       "significant native effect    1079\n",
       "Name: native_status, dtype: int64"
      ]
     },
     "execution_count": 79,
     "metadata": {},
     "output_type": "execute_result"
    }
   ],
   "source": [
    "data.native_status.value_counts()"
   ]
  },
  {
   "cell_type": "markdown",
   "metadata": {},
   "source": [
    "## cis - HUES64"
   ]
  },
  {
   "cell_type": "code",
   "execution_count": 80,
   "metadata": {},
   "outputs": [
    {
     "data": {
      "text/plain": [
       "no cis effect             4301\n",
       "significant cis effect    1181\n",
       "Name: cis_HUES64_status, dtype: int64"
      ]
     },
     "execution_count": 80,
     "metadata": {},
     "output_type": "execute_result"
    }
   ],
   "source": [
    "data.cis_HUES64_status.value_counts()"
   ]
  },
  {
   "cell_type": "markdown",
   "metadata": {},
   "source": [
    "## cis - mESC"
   ]
  },
  {
   "cell_type": "code",
   "execution_count": 81,
   "metadata": {},
   "outputs": [
    {
     "data": {
      "text/plain": [
       "no cis effect             4347\n",
       "significant cis effect    1135\n",
       "Name: cis_mESC_status, dtype: int64"
      ]
     },
     "execution_count": 81,
     "metadata": {},
     "output_type": "execute_result"
    }
   ],
   "source": [
    "data.cis_mESC_status.value_counts()"
   ]
  },
  {
   "cell_type": "markdown",
   "metadata": {},
   "source": [
    "## trans - human"
   ]
  },
  {
   "cell_type": "code",
   "execution_count": 82,
   "metadata": {},
   "outputs": [
    {
     "data": {
      "text/plain": [
       "no trans effect             5246\n",
       "significant trans effect     236\n",
       "Name: trans_human_status, dtype: int64"
      ]
     },
     "execution_count": 82,
     "metadata": {},
     "output_type": "execute_result"
    }
   ],
   "source": [
    "data.trans_human_status.value_counts()"
   ]
  },
  {
   "cell_type": "markdown",
   "metadata": {},
   "source": [
    "## trans - mouse"
   ]
  },
  {
   "cell_type": "code",
   "execution_count": 83,
   "metadata": {},
   "outputs": [
    {
     "data": {
      "text/plain": [
       "no trans effect             5157\n",
       "significant trans effect     325\n",
       "Name: trans_mouse_status, dtype: int64"
      ]
     },
     "execution_count": 83,
     "metadata": {},
     "output_type": "execute_result"
    }
   ],
   "source": [
    "data.trans_mouse_status.value_counts()"
   ]
  },
  {
   "cell_type": "markdown",
   "metadata": {},
   "source": [
    "## cis/trans interactions"
   ]
  },
  {
   "cell_type": "code",
   "execution_count": 84,
   "metadata": {},
   "outputs": [
    {
     "data": {
      "text/plain": [
       "no cis/trans int. effect             5392\n",
       "significant cis/trans int. effect      90\n",
       "Name: cis_trans_int_status, dtype: int64"
      ]
     },
     "execution_count": 84,
     "metadata": {},
     "output_type": "execute_result"
    }
   ],
   "source": [
    "data.cis_trans_int_status.value_counts()"
   ]
  },
  {
   "cell_type": "code",
   "execution_count": 85,
   "metadata": {},
   "outputs": [
    {
     "data": {
      "text/plain": [
       "0.0055205927634228704"
      ]
     },
     "execution_count": 85,
     "metadata": {},
     "output_type": "execute_result"
    }
   ],
   "source": [
    "np.max(np.abs(data[data[\"trans_mouse_status\"].str.contains(\"significant\")][\"fdr_trans_mouse\"]))"
   ]
  },
  {
   "cell_type": "markdown",
   "metadata": {},
   "source": [
    "## 12. write files"
   ]
  },
  {
   "cell_type": "code",
   "execution_count": 86,
   "metadata": {},
   "outputs": [],
   "source": [
    "# rearrange columns for readability\n",
    "data = data[['hg19_id', 'chr_tss_hg19', 'start_tss_hg19', 'biotype_hg19', 'cage_id_hg19', 'name_peak_hg19', \n",
    "             'minimal_biotype_hg19', 'stem_exp_hg19', 'mm9_id', 'chr_tss_mm9', \n",
    "             'start_tss_mm9', 'biotype_mm9', 'cage_id_mm9', 'name_peak_mm9', \n",
    "             'minimal_biotype_mm9', 'stem_exp_mm9', 'tss_tile_num', 'orig_species',  \n",
    "             'biotype_switch_minimal', 'HUES64_hg19', 'mESC_hg19', 'HUES64_mm9', 'mESC_mm9', 'HUES64_padj_hg19', \n",
    "             'mESC_padj_hg19', 'HUES64_padj_mm9', 'mESC_padj_mm9', 'logFC_native', 'fdr_native', 'native_status', \n",
    "             'native_status_det', 'logFC_cis_HUES64', 'fdr_cis_HUES64', 'logFC_cis_mESC', 'fdr_cis_mESC',  \n",
    "             'cis_HUES64_status', 'cis_mESC_status', 'cis_HUES64_status_det', 'cis_mESC_status_det', 'cis_status_one', \n",
    "             'cis_status_det_one', 'logFC_cis_one', 'logFC_trans_human', 'fdr_trans_human', 'logFC_trans_mouse', \n",
    "             'fdr_trans_mouse', 'trans_human_status', 'trans_mouse_status', 'trans_human_status_det', \n",
    "             'trans_mouse_status_det',  'trans_status_one', 'trans_status_det_one', 'logFC_trans_one',  'logFC_int', \n",
    "             'fdr_int', 'cis_trans_int_status', 'cis_trans_int_status_det']]"
   ]
  },
  {
   "cell_type": "code",
   "execution_count": 87,
   "metadata": {},
   "outputs": [
    {
     "data": {
      "text/plain": [
       "5482"
      ]
     },
     "execution_count": 87,
     "metadata": {},
     "output_type": "execute_result"
    }
   ],
   "source": [
    "len(data)"
   ]
  },
  {
   "cell_type": "code",
   "execution_count": 88,
   "metadata": {},
   "outputs": [
    {
     "data": {
      "text/html": [
       "<div>\n",
       "<style>\n",
       "    .dataframe thead tr:only-child th {\n",
       "        text-align: right;\n",
       "    }\n",
       "\n",
       "    .dataframe thead th {\n",
       "        text-align: left;\n",
       "    }\n",
       "\n",
       "    .dataframe tbody tr th {\n",
       "        vertical-align: top;\n",
       "    }\n",
       "</style>\n",
       "<table border=\"1\" class=\"dataframe\">\n",
       "  <thead>\n",
       "    <tr style=\"text-align: right;\">\n",
       "      <th></th>\n",
       "      <th>hg19_id</th>\n",
       "      <th>chr_tss_hg19</th>\n",
       "      <th>start_tss_hg19</th>\n",
       "      <th>biotype_hg19</th>\n",
       "      <th>cage_id_hg19</th>\n",
       "      <th>name_peak_hg19</th>\n",
       "      <th>minimal_biotype_hg19</th>\n",
       "      <th>stem_exp_hg19</th>\n",
       "      <th>mm9_id</th>\n",
       "      <th>chr_tss_mm9</th>\n",
       "      <th>...</th>\n",
       "      <th>trans_mouse_status</th>\n",
       "      <th>trans_human_status_det</th>\n",
       "      <th>trans_mouse_status_det</th>\n",
       "      <th>trans_status_one</th>\n",
       "      <th>trans_status_det_one</th>\n",
       "      <th>logFC_trans_one</th>\n",
       "      <th>logFC_int</th>\n",
       "      <th>fdr_int</th>\n",
       "      <th>cis_trans_int_status</th>\n",
       "      <th>cis_trans_int_status_det</th>\n",
       "    </tr>\n",
       "  </thead>\n",
       "  <tbody>\n",
       "    <tr>\n",
       "      <th>0</th>\n",
       "      <td>h.2</td>\n",
       "      <td>chr1</td>\n",
       "      <td>2985430.0</td>\n",
       "      <td>divergent</td>\n",
       "      <td>chr1:2985420..2985438,-</td>\n",
       "      <td>ENSG00000177133.6</td>\n",
       "      <td>lncRNA</td>\n",
       "      <td>0.07111110000000001</td>\n",
       "      <td>m.1</td>\n",
       "      <td>chr4</td>\n",
       "      <td>...</td>\n",
       "      <td>no trans effect</td>\n",
       "      <td>no trans effect</td>\n",
       "      <td>no trans effect</td>\n",
       "      <td>no trans effect</td>\n",
       "      <td>no trans effect</td>\n",
       "      <td>-0.333118</td>\n",
       "      <td>-0.035380</td>\n",
       "      <td>0.988785</td>\n",
       "      <td>no cis/trans int. effect</td>\n",
       "      <td>no cis/trans int. effect</td>\n",
       "    </tr>\n",
       "    <tr>\n",
       "      <th>1</th>\n",
       "      <td>h.3</td>\n",
       "      <td>chr1</td>\n",
       "      <td>8086552.0</td>\n",
       "      <td>divergent</td>\n",
       "      <td>chr1:8086546..8086571,+</td>\n",
       "      <td>ENSG00000238290.1</td>\n",
       "      <td>lncRNA</td>\n",
       "      <td>0.10444400000000001</td>\n",
       "      <td>m.2</td>\n",
       "      <td>chr4</td>\n",
       "      <td>...</td>\n",
       "      <td>no trans effect</td>\n",
       "      <td>no trans effect</td>\n",
       "      <td>no trans effect</td>\n",
       "      <td>no trans effect</td>\n",
       "      <td>no trans effect</td>\n",
       "      <td>0.536610</td>\n",
       "      <td>-0.387857</td>\n",
       "      <td>0.921562</td>\n",
       "      <td>no cis/trans int. effect</td>\n",
       "      <td>no cis/trans int. effect</td>\n",
       "    </tr>\n",
       "    <tr>\n",
       "      <th>2</th>\n",
       "      <td>h.4</td>\n",
       "      <td>chr1</td>\n",
       "      <td>26498322.0</td>\n",
       "      <td>antisense</td>\n",
       "      <td>chr1:26498321..26498327,-</td>\n",
       "      <td>ENSG00000236782.1</td>\n",
       "      <td>other</td>\n",
       "      <td>0.03</td>\n",
       "      <td>m.3</td>\n",
       "      <td>chr4</td>\n",
       "      <td>...</td>\n",
       "      <td>no trans effect</td>\n",
       "      <td>no trans effect</td>\n",
       "      <td>no trans effect</td>\n",
       "      <td>no trans effect</td>\n",
       "      <td>no trans effect</td>\n",
       "      <td>0.260673</td>\n",
       "      <td>-0.192854</td>\n",
       "      <td>0.959265</td>\n",
       "      <td>no cis/trans int. effect</td>\n",
       "      <td>no cis/trans int. effect</td>\n",
       "    </tr>\n",
       "    <tr>\n",
       "      <th>3</th>\n",
       "      <td>h.5</td>\n",
       "      <td>chr1</td>\n",
       "      <td>65533428.0</td>\n",
       "      <td>intergenic</td>\n",
       "      <td>chr1:65533390..65533443,-</td>\n",
       "      <td>ENSG00000231485.1</td>\n",
       "      <td>lncRNA</td>\n",
       "      <td>0.841111</td>\n",
       "      <td>m.4</td>\n",
       "      <td>chr4</td>\n",
       "      <td>...</td>\n",
       "      <td>no trans effect</td>\n",
       "      <td>no trans effect</td>\n",
       "      <td>no trans effect</td>\n",
       "      <td>no trans effect</td>\n",
       "      <td>no trans effect</td>\n",
       "      <td>0.439975</td>\n",
       "      <td>-0.723633</td>\n",
       "      <td>0.197618</td>\n",
       "      <td>no cis/trans int. effect</td>\n",
       "      <td>no cis/trans int. effect</td>\n",
       "    </tr>\n",
       "    <tr>\n",
       "      <th>4</th>\n",
       "      <td>h.6</td>\n",
       "      <td>chr1</td>\n",
       "      <td>65533462.0</td>\n",
       "      <td>intergenic</td>\n",
       "      <td>chr1:65533457..65533465,-</td>\n",
       "      <td>ENSG00000231485.1</td>\n",
       "      <td>lncRNA</td>\n",
       "      <td>0.116667</td>\n",
       "      <td>m.4</td>\n",
       "      <td>chr4</td>\n",
       "      <td>...</td>\n",
       "      <td>no trans effect</td>\n",
       "      <td>no trans effect</td>\n",
       "      <td>no trans effect</td>\n",
       "      <td>no trans effect</td>\n",
       "      <td>no trans effect</td>\n",
       "      <td>-0.267503</td>\n",
       "      <td>-0.511763</td>\n",
       "      <td>0.453490</td>\n",
       "      <td>no cis/trans int. effect</td>\n",
       "      <td>no cis/trans int. effect</td>\n",
       "    </tr>\n",
       "  </tbody>\n",
       "</table>\n",
       "<p>5 rows × 57 columns</p>\n",
       "</div>"
      ],
      "text/plain": [
       "  hg19_id chr_tss_hg19  start_tss_hg19 biotype_hg19  \\\n",
       "0     h.2         chr1       2985430.0    divergent   \n",
       "1     h.3         chr1       8086552.0    divergent   \n",
       "2     h.4         chr1      26498322.0    antisense   \n",
       "3     h.5         chr1      65533428.0   intergenic   \n",
       "4     h.6         chr1      65533462.0   intergenic   \n",
       "\n",
       "                cage_id_hg19     name_peak_hg19 minimal_biotype_hg19  \\\n",
       "0    chr1:2985420..2985438,-  ENSG00000177133.6               lncRNA   \n",
       "1    chr1:8086546..8086571,+  ENSG00000238290.1               lncRNA   \n",
       "2  chr1:26498321..26498327,-  ENSG00000236782.1                other   \n",
       "3  chr1:65533390..65533443,-  ENSG00000231485.1               lncRNA   \n",
       "4  chr1:65533457..65533465,-  ENSG00000231485.1               lncRNA   \n",
       "\n",
       "         stem_exp_hg19 mm9_id chr_tss_mm9            ...             \\\n",
       "0  0.07111110000000001    m.1        chr4            ...              \n",
       "1  0.10444400000000001    m.2        chr4            ...              \n",
       "2                 0.03    m.3        chr4            ...              \n",
       "3             0.841111    m.4        chr4            ...              \n",
       "4             0.116667    m.4        chr4            ...              \n",
       "\n",
       "   trans_mouse_status trans_human_status_det trans_mouse_status_det  \\\n",
       "0     no trans effect        no trans effect        no trans effect   \n",
       "1     no trans effect        no trans effect        no trans effect   \n",
       "2     no trans effect        no trans effect        no trans effect   \n",
       "3     no trans effect        no trans effect        no trans effect   \n",
       "4     no trans effect        no trans effect        no trans effect   \n",
       "\n",
       "  trans_status_one trans_status_det_one logFC_trans_one logFC_int   fdr_int  \\\n",
       "0  no trans effect      no trans effect       -0.333118 -0.035380  0.988785   \n",
       "1  no trans effect      no trans effect        0.536610 -0.387857  0.921562   \n",
       "2  no trans effect      no trans effect        0.260673 -0.192854  0.959265   \n",
       "3  no trans effect      no trans effect        0.439975 -0.723633  0.197618   \n",
       "4  no trans effect      no trans effect       -0.267503 -0.511763  0.453490   \n",
       "\n",
       "       cis_trans_int_status  cis_trans_int_status_det  \n",
       "0  no cis/trans int. effect  no cis/trans int. effect  \n",
       "1  no cis/trans int. effect  no cis/trans int. effect  \n",
       "2  no cis/trans int. effect  no cis/trans int. effect  \n",
       "3  no cis/trans int. effect  no cis/trans int. effect  \n",
       "4  no cis/trans int. effect  no cis/trans int. effect  \n",
       "\n",
       "[5 rows x 57 columns]"
      ]
     },
     "execution_count": 88,
     "metadata": {},
     "output_type": "execute_result"
    }
   ],
   "source": [
    "data.head()"
   ]
  },
  {
   "cell_type": "code",
   "execution_count": 89,
   "metadata": {},
   "outputs": [],
   "source": [
    "data.to_csv(\"../../../data/02__mpra/03__results/all_processed_results.txt\", sep=\"\\t\", index=False)"
   ]
  },
  {
   "cell_type": "code",
   "execution_count": null,
   "metadata": {},
   "outputs": [],
   "source": []
  },
  {
   "cell_type": "code",
   "execution_count": null,
   "metadata": {},
   "outputs": [],
   "source": []
  }
 ],
 "metadata": {
  "kernelspec": {
   "display_name": "Python [conda env:py3]",
   "language": "python",
   "name": "conda-env-py3-py"
  },
  "language_info": {
   "codemirror_mode": {
    "name": "ipython",
    "version": 3
   },
   "file_extension": ".py",
   "mimetype": "text/x-python",
   "name": "python",
   "nbconvert_exporter": "python",
   "pygments_lexer": "ipython3",
   "version": "3.6.3"
  }
 },
 "nbformat": 4,
 "nbformat_minor": 2
}
