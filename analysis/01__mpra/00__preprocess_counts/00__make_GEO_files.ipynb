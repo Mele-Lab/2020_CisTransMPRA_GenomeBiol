{
 "cells": [
  {
   "cell_type": "code",
   "execution_count": 1,
   "metadata": {},
   "outputs": [],
   "source": [
    "import pandas as pd\n",
    "import numpy as np"
   ]
  },
  {
   "cell_type": "code",
   "execution_count": 2,
   "metadata": {},
   "outputs": [],
   "source": [
    "HUES64_rep1_tfxn1_fs = [\"../../../data/02__mpra/01__counts/07__HUES64_rep6_lib1_BARCODES.txt\",\n",
    "                        \"../../../data/02__mpra/01__counts/07__HUES64_rep6_lib2_BARCODES.txt\"]\n",
    "HUES64_rep1_tfxn2_fs = [\"../../../data/02__mpra/01__counts/08__HUES64_rep7_lib1_BARCODES.txt\",\n",
    "                        \"../../../data/02__mpra/01__counts/08__HUES64_rep7_lib2_BARCODES.txt\"]\n",
    "HUES64_rep1_tfxn3_fs = [\"../../../data/02__mpra/01__counts/09__HUES64_rep8_lib1_BARCODES.txt\",\n",
    "                        \"../../../data/02__mpra/01__counts/09__HUES64_rep8_lib2_BARCODES.txt\"]"
   ]
  },
  {
   "cell_type": "code",
   "execution_count": 3,
   "metadata": {},
   "outputs": [],
   "source": [
    "HUES64_rep2_tfxn1_fs = [\"../../../data/02__mpra/01__counts/10__HUES64_rep9_lib1_BARCODES.txt\",\n",
    "                        \"../../../data/02__mpra/01__counts/10__HUES64_rep9_lib2_BARCODES.txt\"]\n",
    "HUES64_rep2_tfxn2_fs = [\"../../../data/02__mpra/01__counts/11__HUES64_rep10_lib1_BARCODES.txt\",\n",
    "                        \"../../../data/02__mpra/01__counts/11__HUES64_rep10_lib2_BARCODES.txt\"]\n",
    "HUES64_rep2_tfxn3_fs = [\"../../../data/02__mpra/01__counts/12__HUES64_rep11_lib1_BARCODES.txt\",\n",
    "                        \"../../../data/02__mpra/01__counts/12__HUES64_rep11_lib2_BARCODES.txt\"]"
   ]
  },
  {
   "cell_type": "code",
   "execution_count": 4,
   "metadata": {},
   "outputs": [],
   "source": [
    "HUES64_rep3_tfxn1_fs = [\"../../../data/02__mpra/01__counts/16__HUES64_rep12_lib1_BARCODES.txt\",\n",
    "                        \"../../../data/02__mpra/01__counts/16__HUES64_rep12_lib2_BARCODES.txt\"]\n",
    "HUES64_rep3_tfxn2_fs = [\"../../../data/02__mpra/01__counts/17__HUES64_rep13_lib1_BARCODES.txt\",\n",
    "                        \"../../../data/02__mpra/01__counts/17__HUES64_rep13_lib2_BARCODES.txt\"]\n",
    "HUES64_rep3_tfxn3_fs = [\"../../../data/02__mpra/01__counts/18__HUES64_rep14_lib1_BARCODES.txt\",\n",
    "                        \"../../../data/02__mpra/01__counts/18__HUES64_rep14_lib2_BARCODES.txt\"]"
   ]
  },
  {
   "cell_type": "code",
   "execution_count": 5,
   "metadata": {},
   "outputs": [],
   "source": [
    "mESC_rep1_tfxn1_fs = [\"../../../data/02__mpra/01__counts/15__mESC_rep3_lib1_BARCODES.txt\",\n",
    "                      \"../../../data/02__mpra/01__counts/15__mESC_rep3_lib2_BARCODES.txt\"]"
   ]
  },
  {
   "cell_type": "code",
   "execution_count": 6,
   "metadata": {},
   "outputs": [],
   "source": [
    "mESC_rep2_tfxn1_fs = [\"../../../data/02__mpra/01__counts/19__mESC_rep4_lib1_BARCODES.txt\",\n",
    "                      \"../../../data/02__mpra/01__counts/19__mESC_rep4_lib2_BARCODES.txt\",\n",
    "                      \"../../../data/02__mpra/01__counts/19__mESC_rep4_lib3_BARCODES.txt\"]"
   ]
  },
  {
   "cell_type": "code",
   "execution_count": 7,
   "metadata": {},
   "outputs": [],
   "source": [
    "mESC_rep3_tfxn1_fs = [\"../../../data/02__mpra/01__counts/20__mESC_rep5_lib1_BARCODES.txt\",\n",
    "                      \"../../../data/02__mpra/01__counts/20__mESC_rep5_lib2_BARCODES.txt\",\n",
    "                      \"../../../data/02__mpra/01__counts/20__mESC_rep5_lib3_BARCODES.txt\"]"
   ]
  },
  {
   "cell_type": "markdown",
   "metadata": {},
   "source": [
    "## 1. import, merge, sum"
   ]
  },
  {
   "cell_type": "markdown",
   "metadata": {},
   "source": [
    "### HUES64 rep 1"
   ]
  },
  {
   "cell_type": "code",
   "execution_count": 8,
   "metadata": {},
   "outputs": [
    {
     "name": "stdout",
     "output_type": "stream",
     "text": [
      "239653\n",
      "239653\n"
     ]
    },
    {
     "data": {
      "text/html": [
       "<div>\n",
       "<style>\n",
       "    .dataframe thead tr:only-child th {\n",
       "        text-align: right;\n",
       "    }\n",
       "\n",
       "    .dataframe thead th {\n",
       "        text-align: left;\n",
       "    }\n",
       "\n",
       "    .dataframe tbody tr th {\n",
       "        vertical-align: top;\n",
       "    }\n",
       "</style>\n",
       "<table border=\"1\" class=\"dataframe\">\n",
       "  <thead>\n",
       "    <tr style=\"text-align: right;\">\n",
       "      <th></th>\n",
       "      <th>barcode</th>\n",
       "      <th>count</th>\n",
       "    </tr>\n",
       "  </thead>\n",
       "  <tbody>\n",
       "    <tr>\n",
       "      <th>0</th>\n",
       "      <td>GCCATCGAATC</td>\n",
       "      <td>528</td>\n",
       "    </tr>\n",
       "    <tr>\n",
       "      <th>1</th>\n",
       "      <td>TAGCGCTGAAC</td>\n",
       "      <td>29</td>\n",
       "    </tr>\n",
       "    <tr>\n",
       "      <th>2</th>\n",
       "      <td>GGGAGTACATG</td>\n",
       "      <td>2</td>\n",
       "    </tr>\n",
       "    <tr>\n",
       "      <th>3</th>\n",
       "      <td>CATTGGCTTGT</td>\n",
       "      <td>1</td>\n",
       "    </tr>\n",
       "    <tr>\n",
       "      <th>4</th>\n",
       "      <td>GGTCGTCCGAC</td>\n",
       "      <td>0</td>\n",
       "    </tr>\n",
       "  </tbody>\n",
       "</table>\n",
       "</div>"
      ],
      "text/plain": [
       "       barcode  count\n",
       "0  GCCATCGAATC    528\n",
       "1  TAGCGCTGAAC     29\n",
       "2  GGGAGTACATG      2\n",
       "3  CATTGGCTTGT      1\n",
       "4  GGTCGTCCGAC      0"
      ]
     },
     "execution_count": 8,
     "metadata": {},
     "output_type": "execute_result"
    }
   ],
   "source": [
    "for i, f in enumerate(HUES64_rep1_tfxn1_fs):\n",
    "    if i == 0:\n",
    "        HUES64_rep1_tfxn1 = pd.read_table(f, sep=\"\\t\")\n",
    "        print(len(HUES64_rep1_tfxn1))\n",
    "    else:\n",
    "        tmp = pd.read_table(f, sep=\"\\t\")\n",
    "        print(len(tmp))\n",
    "        HUES64_rep1_tfxn1 = HUES64_rep1_tfxn1.merge(tmp, on=\"barcode\")\n",
    "HUES64_rep1_tfxn1[\"count\"] = HUES64_rep1_tfxn1[[\"count_x\", \"count_y\"]].sum(axis=1)\n",
    "HUES64_rep1_tfxn1.drop([\"count_x\", \"count_y\"], axis=1, inplace=True)\n",
    "HUES64_rep1_tfxn1.head()"
   ]
  },
  {
   "cell_type": "code",
   "execution_count": 9,
   "metadata": {},
   "outputs": [
    {
     "name": "stdout",
     "output_type": "stream",
     "text": [
      "239653\n",
      "239653\n"
     ]
    },
    {
     "data": {
      "text/html": [
       "<div>\n",
       "<style>\n",
       "    .dataframe thead tr:only-child th {\n",
       "        text-align: right;\n",
       "    }\n",
       "\n",
       "    .dataframe thead th {\n",
       "        text-align: left;\n",
       "    }\n",
       "\n",
       "    .dataframe tbody tr th {\n",
       "        vertical-align: top;\n",
       "    }\n",
       "</style>\n",
       "<table border=\"1\" class=\"dataframe\">\n",
       "  <thead>\n",
       "    <tr style=\"text-align: right;\">\n",
       "      <th></th>\n",
       "      <th>barcode</th>\n",
       "      <th>count</th>\n",
       "    </tr>\n",
       "  </thead>\n",
       "  <tbody>\n",
       "    <tr>\n",
       "      <th>0</th>\n",
       "      <td>TATAACAAAAG</td>\n",
       "      <td>551</td>\n",
       "    </tr>\n",
       "    <tr>\n",
       "      <th>1</th>\n",
       "      <td>AGCCCGTGAAT</td>\n",
       "      <td>507</td>\n",
       "    </tr>\n",
       "    <tr>\n",
       "      <th>2</th>\n",
       "      <td>GGCGTACGAAA</td>\n",
       "      <td>190</td>\n",
       "    </tr>\n",
       "    <tr>\n",
       "      <th>3</th>\n",
       "      <td>GGTCGAGCGGG</td>\n",
       "      <td>1223</td>\n",
       "    </tr>\n",
       "    <tr>\n",
       "      <th>4</th>\n",
       "      <td>TTGTTTGCGAT</td>\n",
       "      <td>1940</td>\n",
       "    </tr>\n",
       "  </tbody>\n",
       "</table>\n",
       "</div>"
      ],
      "text/plain": [
       "       barcode  count\n",
       "0  TATAACAAAAG    551\n",
       "1  AGCCCGTGAAT    507\n",
       "2  GGCGTACGAAA    190\n",
       "3  GGTCGAGCGGG   1223\n",
       "4  TTGTTTGCGAT   1940"
      ]
     },
     "execution_count": 9,
     "metadata": {},
     "output_type": "execute_result"
    }
   ],
   "source": [
    "for i, f in enumerate(HUES64_rep1_tfxn2_fs):\n",
    "    if i == 0:\n",
    "        HUES64_rep1_tfxn2 = pd.read_table(f, sep=\"\\t\")\n",
    "        print(len(HUES64_rep1_tfxn2))\n",
    "    else:\n",
    "        tmp = pd.read_table(f, sep=\"\\t\")\n",
    "        print(len(tmp))\n",
    "        HUES64_rep1_tfxn2 = HUES64_rep1_tfxn2.merge(tmp, on=\"barcode\")\n",
    "HUES64_rep1_tfxn2[\"count\"] = HUES64_rep1_tfxn2[[\"count_x\", \"count_y\"]].sum(axis=1)\n",
    "HUES64_rep1_tfxn2.drop([\"count_x\", \"count_y\"], axis=1, inplace=True)\n",
    "HUES64_rep1_tfxn2.head()"
   ]
  },
  {
   "cell_type": "code",
   "execution_count": 10,
   "metadata": {},
   "outputs": [
    {
     "name": "stdout",
     "output_type": "stream",
     "text": [
      "239653\n",
      "239653\n"
     ]
    },
    {
     "data": {
      "text/html": [
       "<div>\n",
       "<style>\n",
       "    .dataframe thead tr:only-child th {\n",
       "        text-align: right;\n",
       "    }\n",
       "\n",
       "    .dataframe thead th {\n",
       "        text-align: left;\n",
       "    }\n",
       "\n",
       "    .dataframe tbody tr th {\n",
       "        vertical-align: top;\n",
       "    }\n",
       "</style>\n",
       "<table border=\"1\" class=\"dataframe\">\n",
       "  <thead>\n",
       "    <tr style=\"text-align: right;\">\n",
       "      <th></th>\n",
       "      <th>barcode</th>\n",
       "      <th>count</th>\n",
       "    </tr>\n",
       "  </thead>\n",
       "  <tbody>\n",
       "    <tr>\n",
       "      <th>0</th>\n",
       "      <td>CCGTTACACGC</td>\n",
       "      <td>32</td>\n",
       "    </tr>\n",
       "    <tr>\n",
       "      <th>1</th>\n",
       "      <td>GATTGACGAAC</td>\n",
       "      <td>1</td>\n",
       "    </tr>\n",
       "    <tr>\n",
       "      <th>2</th>\n",
       "      <td>AGCCGATATGC</td>\n",
       "      <td>5</td>\n",
       "    </tr>\n",
       "    <tr>\n",
       "      <th>3</th>\n",
       "      <td>ATCGGGTGTAG</td>\n",
       "      <td>35</td>\n",
       "    </tr>\n",
       "    <tr>\n",
       "      <th>4</th>\n",
       "      <td>TGCGGGTGTAG</td>\n",
       "      <td>0</td>\n",
       "    </tr>\n",
       "  </tbody>\n",
       "</table>\n",
       "</div>"
      ],
      "text/plain": [
       "       barcode  count\n",
       "0  CCGTTACACGC     32\n",
       "1  GATTGACGAAC      1\n",
       "2  AGCCGATATGC      5\n",
       "3  ATCGGGTGTAG     35\n",
       "4  TGCGGGTGTAG      0"
      ]
     },
     "execution_count": 10,
     "metadata": {},
     "output_type": "execute_result"
    }
   ],
   "source": [
    "for i, f in enumerate(HUES64_rep1_tfxn3_fs):\n",
    "    if i == 0:\n",
    "        HUES64_rep1_tfxn3 = pd.read_table(f, sep=\"\\t\")\n",
    "        print(len(HUES64_rep1_tfxn3))\n",
    "    else:\n",
    "        tmp = pd.read_table(f, sep=\"\\t\")\n",
    "        print(len(tmp))\n",
    "        HUES64_rep1_tfxn3 = HUES64_rep1_tfxn3.merge(tmp, on=\"barcode\")\n",
    "HUES64_rep1_tfxn3[\"count\"] = HUES64_rep1_tfxn3[[\"count_x\", \"count_y\"]].sum(axis=1)\n",
    "HUES64_rep1_tfxn3.drop([\"count_x\", \"count_y\"], axis=1, inplace=True)\n",
    "HUES64_rep1_tfxn3.head()"
   ]
  },
  {
   "cell_type": "markdown",
   "metadata": {},
   "source": [
    "### HUES64 rep 2"
   ]
  },
  {
   "cell_type": "code",
   "execution_count": 11,
   "metadata": {},
   "outputs": [
    {
     "name": "stdout",
     "output_type": "stream",
     "text": [
      "239653\n",
      "239653\n"
     ]
    },
    {
     "data": {
      "text/html": [
       "<div>\n",
       "<style>\n",
       "    .dataframe thead tr:only-child th {\n",
       "        text-align: right;\n",
       "    }\n",
       "\n",
       "    .dataframe thead th {\n",
       "        text-align: left;\n",
       "    }\n",
       "\n",
       "    .dataframe tbody tr th {\n",
       "        vertical-align: top;\n",
       "    }\n",
       "</style>\n",
       "<table border=\"1\" class=\"dataframe\">\n",
       "  <thead>\n",
       "    <tr style=\"text-align: right;\">\n",
       "      <th></th>\n",
       "      <th>barcode</th>\n",
       "      <th>count</th>\n",
       "    </tr>\n",
       "  </thead>\n",
       "  <tbody>\n",
       "    <tr>\n",
       "      <th>0</th>\n",
       "      <td>TATATCATGTT</td>\n",
       "      <td>950</td>\n",
       "    </tr>\n",
       "    <tr>\n",
       "      <th>1</th>\n",
       "      <td>CTAATCTTGAC</td>\n",
       "      <td>3</td>\n",
       "    </tr>\n",
       "    <tr>\n",
       "      <th>2</th>\n",
       "      <td>GATAAACTTAT</td>\n",
       "      <td>0</td>\n",
       "    </tr>\n",
       "    <tr>\n",
       "      <th>3</th>\n",
       "      <td>ATCACGGTAGA</td>\n",
       "      <td>2</td>\n",
       "    </tr>\n",
       "    <tr>\n",
       "      <th>4</th>\n",
       "      <td>GCGATCGTATG</td>\n",
       "      <td>33</td>\n",
       "    </tr>\n",
       "  </tbody>\n",
       "</table>\n",
       "</div>"
      ],
      "text/plain": [
       "       barcode  count\n",
       "0  TATATCATGTT    950\n",
       "1  CTAATCTTGAC      3\n",
       "2  GATAAACTTAT      0\n",
       "3  ATCACGGTAGA      2\n",
       "4  GCGATCGTATG     33"
      ]
     },
     "execution_count": 11,
     "metadata": {},
     "output_type": "execute_result"
    }
   ],
   "source": [
    "for i, f in enumerate(HUES64_rep2_tfxn1_fs):\n",
    "    if i == 0:\n",
    "        HUES64_rep2_tfxn1 = pd.read_table(f, sep=\"\\t\")\n",
    "        print(len(HUES64_rep2_tfxn1))\n",
    "    else:\n",
    "        tmp = pd.read_table(f, sep=\"\\t\")\n",
    "        print(len(tmp))\n",
    "        HUES64_rep2_tfxn1 = HUES64_rep2_tfxn1.merge(tmp, on=\"barcode\")\n",
    "HUES64_rep2_tfxn1[\"count\"] = HUES64_rep2_tfxn1[[\"count_x\", \"count_y\"]].sum(axis=1)\n",
    "HUES64_rep2_tfxn1.drop([\"count_x\", \"count_y\"], axis=1, inplace=True)\n",
    "HUES64_rep2_tfxn1.head()"
   ]
  },
  {
   "cell_type": "code",
   "execution_count": 12,
   "metadata": {},
   "outputs": [
    {
     "name": "stdout",
     "output_type": "stream",
     "text": [
      "239653\n",
      "239653\n"
     ]
    },
    {
     "data": {
      "text/html": [
       "<div>\n",
       "<style>\n",
       "    .dataframe thead tr:only-child th {\n",
       "        text-align: right;\n",
       "    }\n",
       "\n",
       "    .dataframe thead th {\n",
       "        text-align: left;\n",
       "    }\n",
       "\n",
       "    .dataframe tbody tr th {\n",
       "        vertical-align: top;\n",
       "    }\n",
       "</style>\n",
       "<table border=\"1\" class=\"dataframe\">\n",
       "  <thead>\n",
       "    <tr style=\"text-align: right;\">\n",
       "      <th></th>\n",
       "      <th>barcode</th>\n",
       "      <th>count</th>\n",
       "    </tr>\n",
       "  </thead>\n",
       "  <tbody>\n",
       "    <tr>\n",
       "      <th>0</th>\n",
       "      <td>GGCTCTCGTAG</td>\n",
       "      <td>74</td>\n",
       "    </tr>\n",
       "    <tr>\n",
       "      <th>1</th>\n",
       "      <td>CGAATTCCTAG</td>\n",
       "      <td>21</td>\n",
       "    </tr>\n",
       "    <tr>\n",
       "      <th>2</th>\n",
       "      <td>CGGTCCGACGT</td>\n",
       "      <td>0</td>\n",
       "    </tr>\n",
       "    <tr>\n",
       "      <th>3</th>\n",
       "      <td>CGCGCTAAAGG</td>\n",
       "      <td>151</td>\n",
       "    </tr>\n",
       "    <tr>\n",
       "      <th>4</th>\n",
       "      <td>TGGATCGGTTA</td>\n",
       "      <td>794</td>\n",
       "    </tr>\n",
       "  </tbody>\n",
       "</table>\n",
       "</div>"
      ],
      "text/plain": [
       "       barcode  count\n",
       "0  GGCTCTCGTAG     74\n",
       "1  CGAATTCCTAG     21\n",
       "2  CGGTCCGACGT      0\n",
       "3  CGCGCTAAAGG    151\n",
       "4  TGGATCGGTTA    794"
      ]
     },
     "execution_count": 12,
     "metadata": {},
     "output_type": "execute_result"
    }
   ],
   "source": [
    "for i, f in enumerate(HUES64_rep2_tfxn2_fs):\n",
    "    if i == 0:\n",
    "        HUES64_rep2_tfxn2 = pd.read_table(f, sep=\"\\t\")\n",
    "        print(len(HUES64_rep2_tfxn2))\n",
    "    else:\n",
    "        tmp = pd.read_table(f, sep=\"\\t\")\n",
    "        print(len(tmp))\n",
    "        HUES64_rep2_tfxn2 = HUES64_rep2_tfxn2.merge(tmp, on=\"barcode\")\n",
    "HUES64_rep2_tfxn2[\"count\"] = HUES64_rep2_tfxn2[[\"count_x\", \"count_y\"]].sum(axis=1)\n",
    "HUES64_rep2_tfxn2.drop([\"count_x\", \"count_y\"], axis=1, inplace=True)\n",
    "HUES64_rep2_tfxn2.head()"
   ]
  },
  {
   "cell_type": "code",
   "execution_count": 13,
   "metadata": {},
   "outputs": [
    {
     "name": "stdout",
     "output_type": "stream",
     "text": [
      "239653\n",
      "239653\n"
     ]
    },
    {
     "data": {
      "text/html": [
       "<div>\n",
       "<style>\n",
       "    .dataframe thead tr:only-child th {\n",
       "        text-align: right;\n",
       "    }\n",
       "\n",
       "    .dataframe thead th {\n",
       "        text-align: left;\n",
       "    }\n",
       "\n",
       "    .dataframe tbody tr th {\n",
       "        vertical-align: top;\n",
       "    }\n",
       "</style>\n",
       "<table border=\"1\" class=\"dataframe\">\n",
       "  <thead>\n",
       "    <tr style=\"text-align: right;\">\n",
       "      <th></th>\n",
       "      <th>barcode</th>\n",
       "      <th>count</th>\n",
       "    </tr>\n",
       "  </thead>\n",
       "  <tbody>\n",
       "    <tr>\n",
       "      <th>0</th>\n",
       "      <td>GTTACGAATTA</td>\n",
       "      <td>97</td>\n",
       "    </tr>\n",
       "    <tr>\n",
       "      <th>1</th>\n",
       "      <td>GATGGCGGTAG</td>\n",
       "      <td>97</td>\n",
       "    </tr>\n",
       "    <tr>\n",
       "      <th>2</th>\n",
       "      <td>GCCAACAAATA</td>\n",
       "      <td>884</td>\n",
       "    </tr>\n",
       "    <tr>\n",
       "      <th>3</th>\n",
       "      <td>GACCGTTAGAT</td>\n",
       "      <td>238</td>\n",
       "    </tr>\n",
       "    <tr>\n",
       "      <th>4</th>\n",
       "      <td>AAGTCAACGTA</td>\n",
       "      <td>1</td>\n",
       "    </tr>\n",
       "  </tbody>\n",
       "</table>\n",
       "</div>"
      ],
      "text/plain": [
       "       barcode  count\n",
       "0  GTTACGAATTA     97\n",
       "1  GATGGCGGTAG     97\n",
       "2  GCCAACAAATA    884\n",
       "3  GACCGTTAGAT    238\n",
       "4  AAGTCAACGTA      1"
      ]
     },
     "execution_count": 13,
     "metadata": {},
     "output_type": "execute_result"
    }
   ],
   "source": [
    "for i, f in enumerate(HUES64_rep2_tfxn3_fs):\n",
    "    if i == 0:\n",
    "        HUES64_rep2_tfxn3 = pd.read_table(f, sep=\"\\t\")\n",
    "        print(len(HUES64_rep2_tfxn3))\n",
    "    else:\n",
    "        tmp = pd.read_table(f, sep=\"\\t\")\n",
    "        print(len(tmp))\n",
    "        HUES64_rep2_tfxn3 = HUES64_rep2_tfxn3.merge(tmp, on=\"barcode\")\n",
    "HUES64_rep2_tfxn3[\"count\"] = HUES64_rep2_tfxn3[[\"count_x\", \"count_y\"]].sum(axis=1)\n",
    "HUES64_rep2_tfxn3.drop([\"count_x\", \"count_y\"], axis=1, inplace=True)\n",
    "HUES64_rep2_tfxn3.head()"
   ]
  },
  {
   "cell_type": "markdown",
   "metadata": {},
   "source": [
    "### HUES64 rep 3"
   ]
  },
  {
   "cell_type": "code",
   "execution_count": 14,
   "metadata": {},
   "outputs": [
    {
     "name": "stdout",
     "output_type": "stream",
     "text": [
      "239653\n",
      "239653\n"
     ]
    },
    {
     "data": {
      "text/html": [
       "<div>\n",
       "<style>\n",
       "    .dataframe thead tr:only-child th {\n",
       "        text-align: right;\n",
       "    }\n",
       "\n",
       "    .dataframe thead th {\n",
       "        text-align: left;\n",
       "    }\n",
       "\n",
       "    .dataframe tbody tr th {\n",
       "        vertical-align: top;\n",
       "    }\n",
       "</style>\n",
       "<table border=\"1\" class=\"dataframe\">\n",
       "  <thead>\n",
       "    <tr style=\"text-align: right;\">\n",
       "      <th></th>\n",
       "      <th>barcode</th>\n",
       "      <th>count</th>\n",
       "    </tr>\n",
       "  </thead>\n",
       "  <tbody>\n",
       "    <tr>\n",
       "      <th>0</th>\n",
       "      <td>CGGTATGGTGT</td>\n",
       "      <td>420</td>\n",
       "    </tr>\n",
       "    <tr>\n",
       "      <th>1</th>\n",
       "      <td>GATTCGTTAAT</td>\n",
       "      <td>0</td>\n",
       "    </tr>\n",
       "    <tr>\n",
       "      <th>2</th>\n",
       "      <td>TATCGACGAGC</td>\n",
       "      <td>35</td>\n",
       "    </tr>\n",
       "    <tr>\n",
       "      <th>3</th>\n",
       "      <td>CTAACTTAATG</td>\n",
       "      <td>176</td>\n",
       "    </tr>\n",
       "    <tr>\n",
       "      <th>4</th>\n",
       "      <td>CGAATGCGCTA</td>\n",
       "      <td>75</td>\n",
       "    </tr>\n",
       "  </tbody>\n",
       "</table>\n",
       "</div>"
      ],
      "text/plain": [
       "       barcode  count\n",
       "0  CGGTATGGTGT    420\n",
       "1  GATTCGTTAAT      0\n",
       "2  TATCGACGAGC     35\n",
       "3  CTAACTTAATG    176\n",
       "4  CGAATGCGCTA     75"
      ]
     },
     "execution_count": 14,
     "metadata": {},
     "output_type": "execute_result"
    }
   ],
   "source": [
    "for i, f in enumerate(HUES64_rep3_tfxn1_fs):\n",
    "    if i == 0:\n",
    "        HUES64_rep3_tfxn1 = pd.read_table(f, sep=\"\\t\")\n",
    "        print(len(HUES64_rep3_tfxn1))\n",
    "    else:\n",
    "        tmp = pd.read_table(f, sep=\"\\t\")\n",
    "        print(len(tmp))\n",
    "        HUES64_rep3_tfxn1 = HUES64_rep3_tfxn1.merge(tmp, on=\"barcode\")\n",
    "HUES64_rep3_tfxn1[\"count\"] = HUES64_rep3_tfxn1[[\"count_x\", \"count_y\"]].sum(axis=1)\n",
    "HUES64_rep3_tfxn1.drop([\"count_x\", \"count_y\"], axis=1, inplace=True)\n",
    "HUES64_rep3_tfxn1.head()"
   ]
  },
  {
   "cell_type": "code",
   "execution_count": 15,
   "metadata": {},
   "outputs": [
    {
     "name": "stdout",
     "output_type": "stream",
     "text": [
      "239653\n",
      "239653\n"
     ]
    },
    {
     "data": {
      "text/html": [
       "<div>\n",
       "<style>\n",
       "    .dataframe thead tr:only-child th {\n",
       "        text-align: right;\n",
       "    }\n",
       "\n",
       "    .dataframe thead th {\n",
       "        text-align: left;\n",
       "    }\n",
       "\n",
       "    .dataframe tbody tr th {\n",
       "        vertical-align: top;\n",
       "    }\n",
       "</style>\n",
       "<table border=\"1\" class=\"dataframe\">\n",
       "  <thead>\n",
       "    <tr style=\"text-align: right;\">\n",
       "      <th></th>\n",
       "      <th>barcode</th>\n",
       "      <th>count</th>\n",
       "    </tr>\n",
       "  </thead>\n",
       "  <tbody>\n",
       "    <tr>\n",
       "      <th>0</th>\n",
       "      <td>GCGGACGCTTA</td>\n",
       "      <td>483</td>\n",
       "    </tr>\n",
       "    <tr>\n",
       "      <th>1</th>\n",
       "      <td>GTCTCTTAGTG</td>\n",
       "      <td>101</td>\n",
       "    </tr>\n",
       "    <tr>\n",
       "      <th>2</th>\n",
       "      <td>ACTCCGTGATC</td>\n",
       "      <td>249</td>\n",
       "    </tr>\n",
       "    <tr>\n",
       "      <th>3</th>\n",
       "      <td>TTTAGCGAACA</td>\n",
       "      <td>0</td>\n",
       "    </tr>\n",
       "    <tr>\n",
       "      <th>4</th>\n",
       "      <td>TTCGTAAGTAC</td>\n",
       "      <td>631</td>\n",
       "    </tr>\n",
       "  </tbody>\n",
       "</table>\n",
       "</div>"
      ],
      "text/plain": [
       "       barcode  count\n",
       "0  GCGGACGCTTA    483\n",
       "1  GTCTCTTAGTG    101\n",
       "2  ACTCCGTGATC    249\n",
       "3  TTTAGCGAACA      0\n",
       "4  TTCGTAAGTAC    631"
      ]
     },
     "execution_count": 15,
     "metadata": {},
     "output_type": "execute_result"
    }
   ],
   "source": [
    "for i, f in enumerate(HUES64_rep3_tfxn2_fs):\n",
    "    if i == 0:\n",
    "        HUES64_rep3_tfxn2 = pd.read_table(f, sep=\"\\t\")\n",
    "        print(len(HUES64_rep3_tfxn2))\n",
    "    else:\n",
    "        tmp = pd.read_table(f, sep=\"\\t\")\n",
    "        print(len(tmp))\n",
    "        HUES64_rep3_tfxn2 = HUES64_rep3_tfxn2.merge(tmp, on=\"barcode\")\n",
    "HUES64_rep3_tfxn2[\"count\"] = HUES64_rep3_tfxn2[[\"count_x\", \"count_y\"]].sum(axis=1)\n",
    "HUES64_rep3_tfxn2.drop([\"count_x\", \"count_y\"], axis=1, inplace=True)\n",
    "HUES64_rep3_tfxn2.head()"
   ]
  },
  {
   "cell_type": "code",
   "execution_count": 16,
   "metadata": {},
   "outputs": [
    {
     "name": "stdout",
     "output_type": "stream",
     "text": [
      "239653\n",
      "239653\n"
     ]
    },
    {
     "data": {
      "text/html": [
       "<div>\n",
       "<style>\n",
       "    .dataframe thead tr:only-child th {\n",
       "        text-align: right;\n",
       "    }\n",
       "\n",
       "    .dataframe thead th {\n",
       "        text-align: left;\n",
       "    }\n",
       "\n",
       "    .dataframe tbody tr th {\n",
       "        vertical-align: top;\n",
       "    }\n",
       "</style>\n",
       "<table border=\"1\" class=\"dataframe\">\n",
       "  <thead>\n",
       "    <tr style=\"text-align: right;\">\n",
       "      <th></th>\n",
       "      <th>barcode</th>\n",
       "      <th>count</th>\n",
       "    </tr>\n",
       "  </thead>\n",
       "  <tbody>\n",
       "    <tr>\n",
       "      <th>0</th>\n",
       "      <td>TGTTGGTCAAG</td>\n",
       "      <td>88</td>\n",
       "    </tr>\n",
       "    <tr>\n",
       "      <th>1</th>\n",
       "      <td>CGCTTGTCGAT</td>\n",
       "      <td>270</td>\n",
       "    </tr>\n",
       "    <tr>\n",
       "      <th>2</th>\n",
       "      <td>AGCGATTTAAA</td>\n",
       "      <td>7</td>\n",
       "    </tr>\n",
       "    <tr>\n",
       "      <th>3</th>\n",
       "      <td>AGAAAAACGAT</td>\n",
       "      <td>281</td>\n",
       "    </tr>\n",
       "    <tr>\n",
       "      <th>4</th>\n",
       "      <td>CTTTTCATCGG</td>\n",
       "      <td>644</td>\n",
       "    </tr>\n",
       "  </tbody>\n",
       "</table>\n",
       "</div>"
      ],
      "text/plain": [
       "       barcode  count\n",
       "0  TGTTGGTCAAG     88\n",
       "1  CGCTTGTCGAT    270\n",
       "2  AGCGATTTAAA      7\n",
       "3  AGAAAAACGAT    281\n",
       "4  CTTTTCATCGG    644"
      ]
     },
     "execution_count": 16,
     "metadata": {},
     "output_type": "execute_result"
    }
   ],
   "source": [
    "for i, f in enumerate(HUES64_rep3_tfxn3_fs):\n",
    "    if i == 0:\n",
    "        HUES64_rep3_tfxn3 = pd.read_table(f, sep=\"\\t\")\n",
    "        print(len(HUES64_rep3_tfxn3))\n",
    "    else:\n",
    "        tmp = pd.read_table(f, sep=\"\\t\")\n",
    "        print(len(tmp))\n",
    "        HUES64_rep3_tfxn3 = HUES64_rep3_tfxn3.merge(tmp, on=\"barcode\")\n",
    "HUES64_rep3_tfxn3[\"count\"] = HUES64_rep3_tfxn3[[\"count_x\", \"count_y\"]].sum(axis=1)\n",
    "HUES64_rep3_tfxn3.drop([\"count_x\", \"count_y\"], axis=1, inplace=True)\n",
    "HUES64_rep3_tfxn3.head()"
   ]
  },
  {
   "cell_type": "markdown",
   "metadata": {},
   "source": [
    "## mESC rep 1"
   ]
  },
  {
   "cell_type": "code",
   "execution_count": 17,
   "metadata": {},
   "outputs": [
    {
     "name": "stdout",
     "output_type": "stream",
     "text": [
      "239653\n",
      "239653\n"
     ]
    },
    {
     "data": {
      "text/html": [
       "<div>\n",
       "<style>\n",
       "    .dataframe thead tr:only-child th {\n",
       "        text-align: right;\n",
       "    }\n",
       "\n",
       "    .dataframe thead th {\n",
       "        text-align: left;\n",
       "    }\n",
       "\n",
       "    .dataframe tbody tr th {\n",
       "        vertical-align: top;\n",
       "    }\n",
       "</style>\n",
       "<table border=\"1\" class=\"dataframe\">\n",
       "  <thead>\n",
       "    <tr style=\"text-align: right;\">\n",
       "      <th></th>\n",
       "      <th>barcode</th>\n",
       "      <th>count</th>\n",
       "    </tr>\n",
       "  </thead>\n",
       "  <tbody>\n",
       "    <tr>\n",
       "      <th>0</th>\n",
       "      <td>TTCAATGCGGA</td>\n",
       "      <td>2065</td>\n",
       "    </tr>\n",
       "    <tr>\n",
       "      <th>1</th>\n",
       "      <td>ATCAACGACAC</td>\n",
       "      <td>86</td>\n",
       "    </tr>\n",
       "    <tr>\n",
       "      <th>2</th>\n",
       "      <td>ACCGACCATGG</td>\n",
       "      <td>234</td>\n",
       "    </tr>\n",
       "    <tr>\n",
       "      <th>3</th>\n",
       "      <td>TAGTCGTCTTG</td>\n",
       "      <td>2</td>\n",
       "    </tr>\n",
       "    <tr>\n",
       "      <th>4</th>\n",
       "      <td>TGACTACCGGC</td>\n",
       "      <td>163</td>\n",
       "    </tr>\n",
       "  </tbody>\n",
       "</table>\n",
       "</div>"
      ],
      "text/plain": [
       "       barcode  count\n",
       "0  TTCAATGCGGA   2065\n",
       "1  ATCAACGACAC     86\n",
       "2  ACCGACCATGG    234\n",
       "3  TAGTCGTCTTG      2\n",
       "4  TGACTACCGGC    163"
      ]
     },
     "execution_count": 17,
     "metadata": {},
     "output_type": "execute_result"
    }
   ],
   "source": [
    "for i, f in enumerate(mESC_rep1_tfxn1_fs):\n",
    "    if i == 0:\n",
    "        mESC_rep1_tfxn1 = pd.read_table(f, sep=\"\\t\")\n",
    "        print(len(mESC_rep1_tfxn1))\n",
    "    else:\n",
    "        tmp = pd.read_table(f, sep=\"\\t\")\n",
    "        print(len(tmp))\n",
    "        mESC_rep1_tfxn1 = mESC_rep1_tfxn1.merge(tmp, on=\"barcode\")\n",
    "mESC_rep1_tfxn1[\"count\"] = mESC_rep1_tfxn1[[\"count_x\", \"count_y\"]].sum(axis=1)\n",
    "mESC_rep1_tfxn1.drop([\"count_x\", \"count_y\"], axis=1, inplace=True)\n",
    "mESC_rep1_tfxn1.head()"
   ]
  },
  {
   "cell_type": "markdown",
   "metadata": {},
   "source": [
    "## mESC rep 2"
   ]
  },
  {
   "cell_type": "code",
   "execution_count": 18,
   "metadata": {},
   "outputs": [
    {
     "name": "stdout",
     "output_type": "stream",
     "text": [
      "239653\n",
      "239653\n",
      "239653\n"
     ]
    },
    {
     "data": {
      "text/html": [
       "<div>\n",
       "<style>\n",
       "    .dataframe thead tr:only-child th {\n",
       "        text-align: right;\n",
       "    }\n",
       "\n",
       "    .dataframe thead th {\n",
       "        text-align: left;\n",
       "    }\n",
       "\n",
       "    .dataframe tbody tr th {\n",
       "        vertical-align: top;\n",
       "    }\n",
       "</style>\n",
       "<table border=\"1\" class=\"dataframe\">\n",
       "  <thead>\n",
       "    <tr style=\"text-align: right;\">\n",
       "      <th></th>\n",
       "      <th>barcode</th>\n",
       "      <th>count</th>\n",
       "    </tr>\n",
       "  </thead>\n",
       "  <tbody>\n",
       "    <tr>\n",
       "      <th>0</th>\n",
       "      <td>GTACGTATCTG</td>\n",
       "      <td>106</td>\n",
       "    </tr>\n",
       "    <tr>\n",
       "      <th>1</th>\n",
       "      <td>AGATTCTGGGC</td>\n",
       "      <td>26</td>\n",
       "    </tr>\n",
       "    <tr>\n",
       "      <th>2</th>\n",
       "      <td>TTTAACGACAG</td>\n",
       "      <td>202</td>\n",
       "    </tr>\n",
       "    <tr>\n",
       "      <th>3</th>\n",
       "      <td>GTGGACGATCA</td>\n",
       "      <td>193</td>\n",
       "    </tr>\n",
       "    <tr>\n",
       "      <th>4</th>\n",
       "      <td>ATTGCGTGGCG</td>\n",
       "      <td>0</td>\n",
       "    </tr>\n",
       "  </tbody>\n",
       "</table>\n",
       "</div>"
      ],
      "text/plain": [
       "       barcode  count\n",
       "0  GTACGTATCTG    106\n",
       "1  AGATTCTGGGC     26\n",
       "2  TTTAACGACAG    202\n",
       "3  GTGGACGATCA    193\n",
       "4  ATTGCGTGGCG      0"
      ]
     },
     "execution_count": 18,
     "metadata": {},
     "output_type": "execute_result"
    }
   ],
   "source": [
    "for i, f in enumerate(mESC_rep2_tfxn1_fs):\n",
    "    if i == 0:\n",
    "        mESC_rep2_tfxn1 = pd.read_table(f, sep=\"\\t\")\n",
    "        print(len(mESC_rep2_tfxn1))\n",
    "    else:\n",
    "        tmp = pd.read_table(f, sep=\"\\t\")\n",
    "        print(len(tmp))\n",
    "        mESC_rep2_tfxn1 = mESC_rep2_tfxn1.merge(tmp, on=\"barcode\")\n",
    "mESC_rep2_tfxn1[\"count\"] = mESC_rep2_tfxn1[[\"count_x\", \"count_y\", \"count\"]].sum(axis=1)\n",
    "mESC_rep2_tfxn1.drop([\"count_x\", \"count_y\"], axis=1, inplace=True)\n",
    "mESC_rep2_tfxn1.head()"
   ]
  },
  {
   "cell_type": "markdown",
   "metadata": {},
   "source": [
    "## mESC rep 3"
   ]
  },
  {
   "cell_type": "code",
   "execution_count": 19,
   "metadata": {},
   "outputs": [
    {
     "name": "stdout",
     "output_type": "stream",
     "text": [
      "239653\n",
      "239653\n",
      "239653\n"
     ]
    },
    {
     "data": {
      "text/html": [
       "<div>\n",
       "<style>\n",
       "    .dataframe thead tr:only-child th {\n",
       "        text-align: right;\n",
       "    }\n",
       "\n",
       "    .dataframe thead th {\n",
       "        text-align: left;\n",
       "    }\n",
       "\n",
       "    .dataframe tbody tr th {\n",
       "        vertical-align: top;\n",
       "    }\n",
       "</style>\n",
       "<table border=\"1\" class=\"dataframe\">\n",
       "  <thead>\n",
       "    <tr style=\"text-align: right;\">\n",
       "      <th></th>\n",
       "      <th>barcode</th>\n",
       "      <th>count</th>\n",
       "    </tr>\n",
       "  </thead>\n",
       "  <tbody>\n",
       "    <tr>\n",
       "      <th>0</th>\n",
       "      <td>TGTACTTAGGA</td>\n",
       "      <td>4352</td>\n",
       "    </tr>\n",
       "    <tr>\n",
       "      <th>1</th>\n",
       "      <td>ATCGTGAATAA</td>\n",
       "      <td>379</td>\n",
       "    </tr>\n",
       "    <tr>\n",
       "      <th>2</th>\n",
       "      <td>ATTGCGTAGAG</td>\n",
       "      <td>32</td>\n",
       "    </tr>\n",
       "    <tr>\n",
       "      <th>3</th>\n",
       "      <td>GCGATCGGATG</td>\n",
       "      <td>208</td>\n",
       "    </tr>\n",
       "    <tr>\n",
       "      <th>4</th>\n",
       "      <td>CATTAAGGTGA</td>\n",
       "      <td>205</td>\n",
       "    </tr>\n",
       "  </tbody>\n",
       "</table>\n",
       "</div>"
      ],
      "text/plain": [
       "       barcode  count\n",
       "0  TGTACTTAGGA   4352\n",
       "1  ATCGTGAATAA    379\n",
       "2  ATTGCGTAGAG     32\n",
       "3  GCGATCGGATG    208\n",
       "4  CATTAAGGTGA    205"
      ]
     },
     "execution_count": 19,
     "metadata": {},
     "output_type": "execute_result"
    }
   ],
   "source": [
    "for i, f in enumerate(mESC_rep3_tfxn1_fs):\n",
    "    if i == 0:\n",
    "        mESC_rep3_tfxn1 = pd.read_table(f, sep=\"\\t\")\n",
    "        print(len(mESC_rep3_tfxn1))\n",
    "    else:\n",
    "        tmp = pd.read_table(f, sep=\"\\t\")\n",
    "        print(len(tmp))\n",
    "        mESC_rep3_tfxn1 = mESC_rep3_tfxn1.merge(tmp, on=\"barcode\")\n",
    "mESC_rep3_tfxn1[\"count\"] = mESC_rep3_tfxn1[[\"count_x\", \"count_y\", \"count\"]].sum(axis=1)\n",
    "mESC_rep3_tfxn1.drop([\"count_x\", \"count_y\"], axis=1, inplace=True)\n",
    "mESC_rep3_tfxn1.head()"
   ]
  },
  {
   "cell_type": "markdown",
   "metadata": {},
   "source": [
    "## 2. write files"
   ]
  },
  {
   "cell_type": "code",
   "execution_count": 20,
   "metadata": {},
   "outputs": [],
   "source": [
    "HUES64_rep1_tfxn1.to_csv(\"../../../GEO_submission/MPRA__HUES64__rep1__tfxn1.BARCODES.txt\", sep=\"\\t\", index=False)\n",
    "HUES64_rep1_tfxn2.to_csv(\"../../../GEO_submission/MPRA__HUES64__rep1__tfxn2.BARCODES.txt\", sep=\"\\t\", index=False)\n",
    "HUES64_rep1_tfxn3.to_csv(\"../../../GEO_submission/MPRA__HUES64__rep1__tfxn3.BARCODES.txt\", sep=\"\\t\", index=False)"
   ]
  },
  {
   "cell_type": "code",
   "execution_count": 21,
   "metadata": {},
   "outputs": [],
   "source": [
    "HUES64_rep2_tfxn1.to_csv(\"../../../GEO_submission/MPRA__HUES64__rep2__tfxn1.BARCODES.txt\", sep=\"\\t\", index=False)\n",
    "HUES64_rep2_tfxn2.to_csv(\"../../../GEO_submission/MPRA__HUES64__rep2__tfxn2.BARCODES.txt\", sep=\"\\t\", index=False)\n",
    "HUES64_rep2_tfxn3.to_csv(\"../../../GEO_submission/MPRA__HUES64__rep2__tfxn3.BARCODES.txt\", sep=\"\\t\", index=False)"
   ]
  },
  {
   "cell_type": "code",
   "execution_count": 22,
   "metadata": {},
   "outputs": [],
   "source": [
    "HUES64_rep3_tfxn1.to_csv(\"../../../GEO_submission/MPRA__HUES64__rep3__tfxn1.BARCODES.txt\", sep=\"\\t\", index=False)\n",
    "HUES64_rep3_tfxn2.to_csv(\"../../../GEO_submission/MPRA__HUES64__rep3__tfxn2.BARCODES.txt\", sep=\"\\t\", index=False)\n",
    "HUES64_rep3_tfxn3.to_csv(\"../../../GEO_submission/MPRA__HUES64__rep3__tfxn3.BARCODES.txt\", sep=\"\\t\", index=False)"
   ]
  },
  {
   "cell_type": "code",
   "execution_count": 23,
   "metadata": {},
   "outputs": [],
   "source": [
    "mESC_rep1_tfxn1.to_csv(\"../../../GEO_submission/MPRA__mESC__rep1__tfxn1.BARCODES.txt\", sep=\"\\t\", index=False)"
   ]
  },
  {
   "cell_type": "code",
   "execution_count": 24,
   "metadata": {},
   "outputs": [],
   "source": [
    "mESC_rep2_tfxn1.to_csv(\"../../../GEO_submission/MPRA__mESC__rep2__tfxn1.BARCODES.txt\", sep=\"\\t\", index=False)"
   ]
  },
  {
   "cell_type": "code",
   "execution_count": 25,
   "metadata": {},
   "outputs": [],
   "source": [
    "mESC_rep3_tfxn1.to_csv(\"../../../GEO_submission/MPRA__mESC__rep3__tfxn1.BARCODES.txt\", sep=\"\\t\", index=False)"
   ]
  },
  {
   "cell_type": "code",
   "execution_count": null,
   "metadata": {},
   "outputs": [],
   "source": []
  }
 ],
 "metadata": {
  "kernelspec": {
   "display_name": "Python [conda env:py3]",
   "language": "python",
   "name": "conda-env-py3-py"
  },
  "language_info": {
   "codemirror_mode": {
    "name": "ipython",
    "version": 3
   },
   "file_extension": ".py",
   "mimetype": "text/x-python",
   "name": "python",
   "nbconvert_exporter": "python",
   "pygments_lexer": "ipython3",
   "version": "3.6.3"
  }
 },
 "nbformat": 4,
 "nbformat_minor": 2
}
