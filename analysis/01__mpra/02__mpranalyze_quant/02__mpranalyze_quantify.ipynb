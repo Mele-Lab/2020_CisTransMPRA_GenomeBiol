{
 "cells": [
  {
   "cell_type": "markdown",
   "metadata": {},
   "source": [
    "# 02__mpranalyze_quantify\n",
    "\n",
    "in this notebook, i run the R package MPRAnalyze on the set of TSSs in order to quantify TSS activities. i first have MPRAnalyze estimate the library depth correction factors based on the full set of elements (though HUES64 is downsampled). then i have it run in quantify mode, using the RANDOM sequences as negative controls."
   ]
  },
  {
   "cell_type": "code",
   "execution_count": 1,
   "metadata": {},
   "outputs": [],
   "source": [
    "# # install MPRAnalyze\n",
    "# if (!requireNamespace(\"BiocManager\", quietly = TRUE))\n",
    "#   install.packages(\"BiocManager\")\n",
    "# BiocManager::install(\"MPRAnalyze\", version = \"3.8\")"
   ]
  },
  {
   "cell_type": "code",
   "execution_count": 2,
   "metadata": {},
   "outputs": [],
   "source": [
    "# # install RCurl -- not installing separately was causing errors\n",
    "# install.packages(\"RCurl\")"
   ]
  },
  {
   "cell_type": "code",
   "execution_count": 3,
   "metadata": {},
   "outputs": [],
   "source": [
    "# # install biocparallel\n",
    "# if (!requireNamespace(\"BiocManager\", quietly = TRUE))\n",
    "#     install.packages(\"BiocManager\")\n",
    "# BiocManager::install(\"BiocParallel\")"
   ]
  },
  {
   "cell_type": "code",
   "execution_count": 4,
   "metadata": {},
   "outputs": [],
   "source": [
    "# load the mpranalyze package\n",
    "library(MPRAnalyze)"
   ]
  },
  {
   "cell_type": "code",
   "execution_count": 5,
   "metadata": {},
   "outputs": [],
   "source": [
    "library(BiocParallel)"
   ]
  },
  {
   "cell_type": "code",
   "execution_count": 6,
   "metadata": {},
   "outputs": [],
   "source": [
    "options(MulticoreParam=quote(MulticoreParam(workers=8)))"
   ]
  },
  {
   "cell_type": "code",
   "execution_count": 7,
   "metadata": {},
   "outputs": [],
   "source": [
    "par.backend <- bpparam()"
   ]
  },
  {
   "cell_type": "code",
   "execution_count": 8,
   "metadata": {},
   "outputs": [
    {
     "data": {
      "text/plain": [
       "MulticoreParam(workers = 8)"
      ]
     },
     "metadata": {},
     "output_type": "display_data"
    }
   ],
   "source": [
    "par.backend"
   ]
  },
  {
   "cell_type": "markdown",
   "metadata": {},
   "source": [
    "## 1. load data\n",
    "\n",
    "### first the data for library depth correction"
   ]
  },
  {
   "cell_type": "code",
   "execution_count": 9,
   "metadata": {},
   "outputs": [],
   "source": [
    "dna_counts_depth <- read.table(\"../../../data/02__mpra/01__counts/mpranalyze_files/dna_counts.for_depth_estimation.mpranalyze.txt\", sep=\"\\t\", header=TRUE)\n",
    "\n",
    "# since we only have 1 dna replicate -- add another so code doesn't crash (expects matrix)\n",
    "dna_counts_depth[\"dna_2\"] <- dna_counts_depth[\"dna_1\"]\n",
    "\n",
    "row.names(dna_counts_depth) <- dna_counts_depth$element\n",
    "dna_counts_depth <- dna_counts_depth[ , !(names(dna_counts_depth) %in% c(\"element\")), drop=FALSE]\n",
    "dna_counts_depth <- as.matrix(dna_counts_depth)"
   ]
  },
  {
   "cell_type": "code",
   "execution_count": 10,
   "metadata": {},
   "outputs": [],
   "source": [
    "rna_counts_depth <- read.table(\"../../../data/02__mpra/01__counts/mpranalyze_files/rna_counts.for_depth_estimation.mpranalyze.txt\", sep=\"\\t\", header=TRUE)\n",
    "row.names(rna_counts_depth) <- rna_counts_depth$element\n",
    "rna_counts_depth <- rna_counts_depth[ , !(names(rna_counts_depth) %in% c(\"element\")), drop=FALSE]\n",
    "rna_counts_depth <- as.matrix(rna_counts_depth)"
   ]
  },
  {
   "cell_type": "code",
   "execution_count": 11,
   "metadata": {},
   "outputs": [
    {
     "data": {
      "text/html": [
       "<table>\n",
       "<caption>A data.frame: 2 × 3</caption>\n",
       "<thead>\n",
       "\t<tr><th></th><th scope=col>id</th><th scope=col>condition</th><th scope=col>sample</th></tr>\n",
       "\t<tr><th></th><th scope=col>&lt;fct&gt;</th><th scope=col>&lt;fct&gt;</th><th scope=col>&lt;chr&gt;</th></tr>\n",
       "</thead>\n",
       "<tbody>\n",
       "\t<tr><th scope=row>dna_1</th><td>dna_1</td><td>dna</td><td>1</td></tr>\n",
       "\t<tr><th scope=row>dna_2</th><td>dna_2</td><td>dna</td><td>2</td></tr>\n",
       "</tbody>\n",
       "</table>\n"
      ],
      "text/latex": [
       "A data.frame: 2 × 3\n",
       "\\begin{tabular}{r|lll}\n",
       "  & id & condition & sample\\\\\n",
       "  & <fct> & <fct> & <chr>\\\\\n",
       "\\hline\n",
       "\tdna\\_1 & dna\\_1 & dna & 1\\\\\n",
       "\tdna\\_2 & dna\\_2 & dna & 2\\\\\n",
       "\\end{tabular}\n"
      ],
      "text/markdown": [
       "\n",
       "A data.frame: 2 × 3\n",
       "\n",
       "| <!--/--> | id &lt;fct&gt; | condition &lt;fct&gt; | sample &lt;chr&gt; |\n",
       "|---|---|---|---|\n",
       "| dna_1 | dna_1 | dna | 1 |\n",
       "| dna_2 | dna_2 | dna | 2 |\n",
       "\n"
      ],
      "text/plain": [
       "      id    condition sample\n",
       "dna_1 dna_1 dna       1     \n",
       "dna_2 dna_2 dna       2     "
      ]
     },
     "metadata": {},
     "output_type": "display_data"
    }
   ],
   "source": [
    "dna_cols_depth <- read.table(\"../../../data/02__mpra/01__counts/mpranalyze_files/dna_col_ann.for_depth_estimation.mpranalyze.txt\", sep=\"\\t\", header=TRUE)\n",
    "names(dna_cols_depth) <- c(\"id\", \"condition\", \"sample\")\n",
    "\n",
    "# add second row to dna_cols_depth\n",
    "row2 <- data.frame(id=\"dna_2\", condition=\"dna\", sample=\"2\")\n",
    "dna_cols_depth <- rbind(dna_cols_depth, row2)\n",
    "row.names(dna_cols_depth) <- dna_cols_depth$id\n",
    "\n",
    "rna_cols_depth <- read.table(\"../../../data/02__mpra/01__counts/mpranalyze_files/rna_col_ann.for_depth_estimation.mpranalyze.txt\", sep=\"\\t\", header=TRUE)\n",
    "names(rna_cols_depth) <- c(\"id\", \"condition\", \"sample\")\n",
    "row.names(rna_cols_depth) <- rna_cols_depth$id\n",
    "dna_cols_depth"
   ]
  },
  {
   "cell_type": "code",
   "execution_count": 12,
   "metadata": {},
   "outputs": [
    {
     "data": {
      "text/html": [
       "<table>\n",
       "<caption>A data.frame: 6 × 3</caption>\n",
       "<thead>\n",
       "\t<tr><th></th><th scope=col>id</th><th scope=col>condition</th><th scope=col>sample</th></tr>\n",
       "\t<tr><th></th><th scope=col>&lt;fct&gt;</th><th scope=col>&lt;fct&gt;</th><th scope=col>&lt;int&gt;</th></tr>\n",
       "</thead>\n",
       "<tbody>\n",
       "\t<tr><th scope=row>HUES64_rep1</th><td>HUES64_rep1</td><td>HUES64</td><td>1</td></tr>\n",
       "\t<tr><th scope=row>HUES64_rep2</th><td>HUES64_rep2</td><td>HUES64</td><td>2</td></tr>\n",
       "\t<tr><th scope=row>HUES64_rep3</th><td>HUES64_rep3</td><td>HUES64</td><td>3</td></tr>\n",
       "\t<tr><th scope=row>mESC_rep1</th><td>mESC_rep1  </td><td>mESC  </td><td>1</td></tr>\n",
       "\t<tr><th scope=row>mESC_rep2</th><td>mESC_rep2  </td><td>mESC  </td><td>2</td></tr>\n",
       "\t<tr><th scope=row>mESC_rep3</th><td>mESC_rep3  </td><td>mESC  </td><td>3</td></tr>\n",
       "</tbody>\n",
       "</table>\n"
      ],
      "text/latex": [
       "A data.frame: 6 × 3\n",
       "\\begin{tabular}{r|lll}\n",
       "  & id & condition & sample\\\\\n",
       "  & <fct> & <fct> & <int>\\\\\n",
       "\\hline\n",
       "\tHUES64\\_rep1 & HUES64\\_rep1 & HUES64 & 1\\\\\n",
       "\tHUES64\\_rep2 & HUES64\\_rep2 & HUES64 & 2\\\\\n",
       "\tHUES64\\_rep3 & HUES64\\_rep3 & HUES64 & 3\\\\\n",
       "\tmESC\\_rep1 & mESC\\_rep1   & mESC   & 1\\\\\n",
       "\tmESC\\_rep2 & mESC\\_rep2   & mESC   & 2\\\\\n",
       "\tmESC\\_rep3 & mESC\\_rep3   & mESC   & 3\\\\\n",
       "\\end{tabular}\n"
      ],
      "text/markdown": [
       "\n",
       "A data.frame: 6 × 3\n",
       "\n",
       "| <!--/--> | id &lt;fct&gt; | condition &lt;fct&gt; | sample &lt;int&gt; |\n",
       "|---|---|---|---|\n",
       "| HUES64_rep1 | HUES64_rep1 | HUES64 | 1 |\n",
       "| HUES64_rep2 | HUES64_rep2 | HUES64 | 2 |\n",
       "| HUES64_rep3 | HUES64_rep3 | HUES64 | 3 |\n",
       "| mESC_rep1 | mESC_rep1   | mESC   | 1 |\n",
       "| mESC_rep2 | mESC_rep2   | mESC   | 2 |\n",
       "| mESC_rep3 | mESC_rep3   | mESC   | 3 |\n",
       "\n"
      ],
      "text/plain": [
       "            id          condition sample\n",
       "HUES64_rep1 HUES64_rep1 HUES64    1     \n",
       "HUES64_rep2 HUES64_rep2 HUES64    2     \n",
       "HUES64_rep3 HUES64_rep3 HUES64    3     \n",
       "mESC_rep1   mESC_rep1   mESC      1     \n",
       "mESC_rep2   mESC_rep2   mESC      2     \n",
       "mESC_rep3   mESC_rep3   mESC      3     "
      ]
     },
     "metadata": {},
     "output_type": "display_data"
    }
   ],
   "source": [
    "rna_cols_depth"
   ]
  },
  {
   "cell_type": "code",
   "execution_count": 13,
   "metadata": {},
   "outputs": [],
   "source": [
    "# make sure everything is a factor\n",
    "dna_cols_depth$condition <- as.factor(dna_cols_depth$condition)\n",
    "rna_cols_depth$condition <- as.factor(rna_cols_depth$condition)\n",
    "rna_cols_depth$sample <- as.factor(rna_cols_depth$sample)"
   ]
  },
  {
   "cell_type": "code",
   "execution_count": 14,
   "metadata": {},
   "outputs": [
    {
     "data": {
      "text/html": [
       "<table>\n",
       "<caption>A data.frame: 6 × 3</caption>\n",
       "<thead>\n",
       "\t<tr><th></th><th scope=col>id</th><th scope=col>condition</th><th scope=col>sample</th></tr>\n",
       "\t<tr><th></th><th scope=col>&lt;fct&gt;</th><th scope=col>&lt;fct&gt;</th><th scope=col>&lt;fct&gt;</th></tr>\n",
       "</thead>\n",
       "<tbody>\n",
       "\t<tr><th scope=row>HUES64_rep1</th><td>HUES64_rep1</td><td>HUES64</td><td>1</td></tr>\n",
       "\t<tr><th scope=row>HUES64_rep2</th><td>HUES64_rep2</td><td>HUES64</td><td>2</td></tr>\n",
       "\t<tr><th scope=row>HUES64_rep3</th><td>HUES64_rep3</td><td>HUES64</td><td>3</td></tr>\n",
       "\t<tr><th scope=row>mESC_rep1</th><td>mESC_rep1  </td><td>mESC  </td><td>1</td></tr>\n",
       "\t<tr><th scope=row>mESC_rep2</th><td>mESC_rep2  </td><td>mESC  </td><td>2</td></tr>\n",
       "\t<tr><th scope=row>mESC_rep3</th><td>mESC_rep3  </td><td>mESC  </td><td>3</td></tr>\n",
       "</tbody>\n",
       "</table>\n"
      ],
      "text/latex": [
       "A data.frame: 6 × 3\n",
       "\\begin{tabular}{r|lll}\n",
       "  & id & condition & sample\\\\\n",
       "  & <fct> & <fct> & <fct>\\\\\n",
       "\\hline\n",
       "\tHUES64\\_rep1 & HUES64\\_rep1 & HUES64 & 1\\\\\n",
       "\tHUES64\\_rep2 & HUES64\\_rep2 & HUES64 & 2\\\\\n",
       "\tHUES64\\_rep3 & HUES64\\_rep3 & HUES64 & 3\\\\\n",
       "\tmESC\\_rep1 & mESC\\_rep1   & mESC   & 1\\\\\n",
       "\tmESC\\_rep2 & mESC\\_rep2   & mESC   & 2\\\\\n",
       "\tmESC\\_rep3 & mESC\\_rep3   & mESC   & 3\\\\\n",
       "\\end{tabular}\n"
      ],
      "text/markdown": [
       "\n",
       "A data.frame: 6 × 3\n",
       "\n",
       "| <!--/--> | id &lt;fct&gt; | condition &lt;fct&gt; | sample &lt;fct&gt; |\n",
       "|---|---|---|---|\n",
       "| HUES64_rep1 | HUES64_rep1 | HUES64 | 1 |\n",
       "| HUES64_rep2 | HUES64_rep2 | HUES64 | 2 |\n",
       "| HUES64_rep3 | HUES64_rep3 | HUES64 | 3 |\n",
       "| mESC_rep1 | mESC_rep1   | mESC   | 1 |\n",
       "| mESC_rep2 | mESC_rep2   | mESC   | 2 |\n",
       "| mESC_rep3 | mESC_rep3   | mESC   | 3 |\n",
       "\n"
      ],
      "text/plain": [
       "            id          condition sample\n",
       "HUES64_rep1 HUES64_rep1 HUES64    1     \n",
       "HUES64_rep2 HUES64_rep2 HUES64    2     \n",
       "HUES64_rep3 HUES64_rep3 HUES64    3     \n",
       "mESC_rep1   mESC_rep1   mESC      1     \n",
       "mESC_rep2   mESC_rep2   mESC      2     \n",
       "mESC_rep3   mESC_rep3   mESC      3     "
      ]
     },
     "metadata": {},
     "output_type": "display_data"
    }
   ],
   "source": [
    "rna_cols_depth"
   ]
  },
  {
   "cell_type": "markdown",
   "metadata": {},
   "source": [
    "### then the data to model"
   ]
  },
  {
   "cell_type": "code",
   "execution_count": 15,
   "metadata": {},
   "outputs": [],
   "source": [
    "dna_counts <- read.table(\"../../../data/02__mpra/01__counts/mpranalyze_files/dna_counts.mpranalyze.for_quantification.txt\", sep=\"\\t\", header=TRUE)\n",
    "row.names(dna_counts) <- dna_counts$element\n",
    "dna_counts <- dna_counts[ , !(names(dna_counts) %in% c(\"element\"))]\n",
    "dna_counts <- as.matrix(dna_counts)"
   ]
  },
  {
   "cell_type": "code",
   "execution_count": 16,
   "metadata": {},
   "outputs": [],
   "source": [
    "rna_counts <- read.table(\"../../../data/02__mpra/01__counts/mpranalyze_files/rna_counts.mpranalyze.for_quantification.txt\", sep=\"\\t\", header=TRUE)\n",
    "row.names(rna_counts) <- rna_counts$element\n",
    "rna_counts <- rna_counts[ , !(names(rna_counts) %in% c(\"element\"))]\n",
    "rna_counts <- as.matrix(rna_counts)"
   ]
  },
  {
   "cell_type": "code",
   "execution_count": 17,
   "metadata": {},
   "outputs": [],
   "source": [
    "dna_cols <- read.table(\"../../../data/02__mpra/01__counts/mpranalyze_files/dna_col_ann.mpranalyze.for_quantification.txt\", sep=\"\\t\", header=TRUE)\n",
    "row.names(dna_cols) <- dna_cols$X\n",
    "rna_cols <- read.table(\"../../../data/02__mpra/01__counts/mpranalyze_files/rna_col_ann.mpranalyze.for_quantification.txt\", sep=\"\\t\", header=TRUE)\n",
    "row.names(rna_cols) <- rna_cols$X"
   ]
  },
  {
   "cell_type": "code",
   "execution_count": 18,
   "metadata": {},
   "outputs": [],
   "source": [
    "# make sure everything is a factor\n",
    "dna_cols$barcode <- as.factor(dna_cols$barcode)\n",
    "rna_cols$barcode <- as.factor(rna_cols$barcode)\n",
    "dna_cols$sample <- as.factor(dna_cols$sample)\n",
    "dna_cols$condition <- as.factor(dna_cols$condition)\n",
    "rna_cols$condition <- as.factor(rna_cols$condition)"
   ]
  },
  {
   "cell_type": "code",
   "execution_count": 19,
   "metadata": {},
   "outputs": [],
   "source": [
    "ctrls <- read.table(\"../../../data/02__mpra/01__counts/mpranalyze_files/ctrl_status.mpranalyze.for_quantification.txt\", sep=\"\\t\", header=TRUE)\n",
    "ctrls <- as.logical(ctrls$ctrl_status)"
   ]
  },
  {
   "cell_type": "code",
   "execution_count": 20,
   "metadata": {},
   "outputs": [
    {
     "data": {
      "text/html": [
       "<table>\n",
       "<caption>A data.frame: 6 × 4</caption>\n",
       "<thead>\n",
       "\t<tr><th></th><th scope=col>X</th><th scope=col>sample</th><th scope=col>condition</th><th scope=col>barcode</th></tr>\n",
       "\t<tr><th></th><th scope=col>&lt;fct&gt;</th><th scope=col>&lt;fct&gt;</th><th scope=col>&lt;fct&gt;</th><th scope=col>&lt;fct&gt;</th></tr>\n",
       "</thead>\n",
       "<tbody>\n",
       "\t<tr><th scope=row>samp:HUES64_rep1__barc:1</th><td>samp:HUES64_rep1__barc:1 </td><td>rep1</td><td>HUES64</td><td>1 </td></tr>\n",
       "\t<tr><th scope=row>samp:HUES64_rep1__barc:10</th><td>samp:HUES64_rep1__barc:10</td><td>rep1</td><td>HUES64</td><td>10</td></tr>\n",
       "\t<tr><th scope=row>samp:HUES64_rep1__barc:11</th><td>samp:HUES64_rep1__barc:11</td><td>rep1</td><td>HUES64</td><td>11</td></tr>\n",
       "\t<tr><th scope=row>samp:HUES64_rep1__barc:12</th><td>samp:HUES64_rep1__barc:12</td><td>rep1</td><td>HUES64</td><td>12</td></tr>\n",
       "\t<tr><th scope=row>samp:HUES64_rep1__barc:13</th><td>samp:HUES64_rep1__barc:13</td><td>rep1</td><td>HUES64</td><td>13</td></tr>\n",
       "\t<tr><th scope=row>samp:HUES64_rep1__barc:2</th><td>samp:HUES64_rep1__barc:2 </td><td>rep1</td><td>HUES64</td><td>2 </td></tr>\n",
       "</tbody>\n",
       "</table>\n"
      ],
      "text/latex": [
       "A data.frame: 6 × 4\n",
       "\\begin{tabular}{r|llll}\n",
       "  & X & sample & condition & barcode\\\\\n",
       "  & <fct> & <fct> & <fct> & <fct>\\\\\n",
       "\\hline\n",
       "\tsamp:HUES64\\_rep1\\_\\_barc:1 & samp:HUES64\\_rep1\\_\\_barc:1  & rep1 & HUES64 & 1 \\\\\n",
       "\tsamp:HUES64\\_rep1\\_\\_barc:10 & samp:HUES64\\_rep1\\_\\_barc:10 & rep1 & HUES64 & 10\\\\\n",
       "\tsamp:HUES64\\_rep1\\_\\_barc:11 & samp:HUES64\\_rep1\\_\\_barc:11 & rep1 & HUES64 & 11\\\\\n",
       "\tsamp:HUES64\\_rep1\\_\\_barc:12 & samp:HUES64\\_rep1\\_\\_barc:12 & rep1 & HUES64 & 12\\\\\n",
       "\tsamp:HUES64\\_rep1\\_\\_barc:13 & samp:HUES64\\_rep1\\_\\_barc:13 & rep1 & HUES64 & 13\\\\\n",
       "\tsamp:HUES64\\_rep1\\_\\_barc:2 & samp:HUES64\\_rep1\\_\\_barc:2  & rep1 & HUES64 & 2 \\\\\n",
       "\\end{tabular}\n"
      ],
      "text/markdown": [
       "\n",
       "A data.frame: 6 × 4\n",
       "\n",
       "| <!--/--> | X &lt;fct&gt; | sample &lt;fct&gt; | condition &lt;fct&gt; | barcode &lt;fct&gt; |\n",
       "|---|---|---|---|---|\n",
       "| samp:HUES64_rep1__barc:1 | samp:HUES64_rep1__barc:1  | rep1 | HUES64 | 1  |\n",
       "| samp:HUES64_rep1__barc:10 | samp:HUES64_rep1__barc:10 | rep1 | HUES64 | 10 |\n",
       "| samp:HUES64_rep1__barc:11 | samp:HUES64_rep1__barc:11 | rep1 | HUES64 | 11 |\n",
       "| samp:HUES64_rep1__barc:12 | samp:HUES64_rep1__barc:12 | rep1 | HUES64 | 12 |\n",
       "| samp:HUES64_rep1__barc:13 | samp:HUES64_rep1__barc:13 | rep1 | HUES64 | 13 |\n",
       "| samp:HUES64_rep1__barc:2 | samp:HUES64_rep1__barc:2  | rep1 | HUES64 | 2  |\n",
       "\n"
      ],
      "text/plain": [
       "                          X                         sample condition barcode\n",
       "samp:HUES64_rep1__barc:1  samp:HUES64_rep1__barc:1  rep1   HUES64    1      \n",
       "samp:HUES64_rep1__barc:10 samp:HUES64_rep1__barc:10 rep1   HUES64    10     \n",
       "samp:HUES64_rep1__barc:11 samp:HUES64_rep1__barc:11 rep1   HUES64    11     \n",
       "samp:HUES64_rep1__barc:12 samp:HUES64_rep1__barc:12 rep1   HUES64    12     \n",
       "samp:HUES64_rep1__barc:13 samp:HUES64_rep1__barc:13 rep1   HUES64    13     \n",
       "samp:HUES64_rep1__barc:2  samp:HUES64_rep1__barc:2  rep1   HUES64    2      "
      ]
     },
     "metadata": {},
     "output_type": "display_data"
    }
   ],
   "source": [
    "head(rna_cols)"
   ]
  },
  {
   "cell_type": "markdown",
   "metadata": {},
   "source": [
    "## 2. estimate library depth for sample/condition pair\n",
    "\n",
    "since our library has many more sequences than just the TSSs we want to model, estimate the library depth based on the full seq output (or downsampled counts, in HUES64 case), then manually provide this estimation to the model"
   ]
  },
  {
   "cell_type": "code",
   "execution_count": 21,
   "metadata": {},
   "outputs": [],
   "source": [
    "# create MPRA object\n",
    "depth_obj <- MpraObject(dnaCounts = dna_counts_depth, rnaCounts = rna_counts_depth, \n",
    "                        dnaAnnot = dna_cols_depth, rnaAnnot = rna_cols_depth)"
   ]
  },
  {
   "cell_type": "code",
   "execution_count": 22,
   "metadata": {},
   "outputs": [],
   "source": [
    "# estimate depth factors using uq -- here, a sample/condition pair == 1 library\n",
    "depth_obj <- estimateDepthFactors(depth_obj, lib.factor = c(\"sample\", \"condition\"),  depth.estimator='uq',\n",
    "                                  which.lib = \"dna\")\n",
    "depth_obj <- estimateDepthFactors(depth_obj, lib.factor = c(\"id\"),  \n",
    "                                  depth.estimator='uq', which.lib = \"rna\")"
   ]
  },
  {
   "cell_type": "code",
   "execution_count": 23,
   "metadata": {},
   "outputs": [
    {
     "data": {
      "text/html": [
       "<ol class=list-inline>\n",
       "\t<li>1</li>\n",
       "\t<li>0.675193155528395</li>\n",
       "\t<li>0.772011000043651</li>\n",
       "\t<li>0.307586538041818</li>\n",
       "\t<li>0.385307084551923</li>\n",
       "\t<li>0.366057008162731</li>\n",
       "</ol>\n"
      ],
      "text/latex": [
       "\\begin{enumerate*}\n",
       "\\item 1\n",
       "\\item 0.675193155528395\n",
       "\\item 0.772011000043651\n",
       "\\item 0.307586538041818\n",
       "\\item 0.385307084551923\n",
       "\\item 0.366057008162731\n",
       "\\end{enumerate*}\n"
      ],
      "text/markdown": [
       "1. 1\n",
       "2. 0.675193155528395\n",
       "3. 0.772011000043651\n",
       "4. 0.307586538041818\n",
       "5. 0.385307084551923\n",
       "6. 0.366057008162731\n",
       "\n",
       "\n"
      ],
      "text/plain": [
       "[1] 1.0000000 0.6751932 0.7720110 0.3075865 0.3853071 0.3660570"
      ]
     },
     "metadata": {},
     "output_type": "display_data"
    }
   ],
   "source": [
    "rna_depths <- rnaDepth(depth_obj)\n",
    "rna_depths"
   ]
  },
  {
   "cell_type": "code",
   "execution_count": 24,
   "metadata": {},
   "outputs": [
    {
     "data": {
      "text/html": [
       "<table>\n",
       "<caption>A data.frame: 6 × 3</caption>\n",
       "<thead>\n",
       "\t<tr><th></th><th scope=col>id</th><th scope=col>condition</th><th scope=col>sample</th></tr>\n",
       "\t<tr><th></th><th scope=col>&lt;fct&gt;</th><th scope=col>&lt;fct&gt;</th><th scope=col>&lt;fct&gt;</th></tr>\n",
       "</thead>\n",
       "<tbody>\n",
       "\t<tr><th scope=row>HUES64_rep1</th><td>HUES64_rep1</td><td>HUES64</td><td>1</td></tr>\n",
       "\t<tr><th scope=row>HUES64_rep2</th><td>HUES64_rep2</td><td>HUES64</td><td>2</td></tr>\n",
       "\t<tr><th scope=row>HUES64_rep3</th><td>HUES64_rep3</td><td>HUES64</td><td>3</td></tr>\n",
       "\t<tr><th scope=row>mESC_rep1</th><td>mESC_rep1  </td><td>mESC  </td><td>1</td></tr>\n",
       "\t<tr><th scope=row>mESC_rep2</th><td>mESC_rep2  </td><td>mESC  </td><td>2</td></tr>\n",
       "\t<tr><th scope=row>mESC_rep3</th><td>mESC_rep3  </td><td>mESC  </td><td>3</td></tr>\n",
       "</tbody>\n",
       "</table>\n"
      ],
      "text/latex": [
       "A data.frame: 6 × 3\n",
       "\\begin{tabular}{r|lll}\n",
       "  & id & condition & sample\\\\\n",
       "  & <fct> & <fct> & <fct>\\\\\n",
       "\\hline\n",
       "\tHUES64\\_rep1 & HUES64\\_rep1 & HUES64 & 1\\\\\n",
       "\tHUES64\\_rep2 & HUES64\\_rep2 & HUES64 & 2\\\\\n",
       "\tHUES64\\_rep3 & HUES64\\_rep3 & HUES64 & 3\\\\\n",
       "\tmESC\\_rep1 & mESC\\_rep1   & mESC   & 1\\\\\n",
       "\tmESC\\_rep2 & mESC\\_rep2   & mESC   & 2\\\\\n",
       "\tmESC\\_rep3 & mESC\\_rep3   & mESC   & 3\\\\\n",
       "\\end{tabular}\n"
      ],
      "text/markdown": [
       "\n",
       "A data.frame: 6 × 3\n",
       "\n",
       "| <!--/--> | id &lt;fct&gt; | condition &lt;fct&gt; | sample &lt;fct&gt; |\n",
       "|---|---|---|---|\n",
       "| HUES64_rep1 | HUES64_rep1 | HUES64 | 1 |\n",
       "| HUES64_rep2 | HUES64_rep2 | HUES64 | 2 |\n",
       "| HUES64_rep3 | HUES64_rep3 | HUES64 | 3 |\n",
       "| mESC_rep1 | mESC_rep1   | mESC   | 1 |\n",
       "| mESC_rep2 | mESC_rep2   | mESC   | 2 |\n",
       "| mESC_rep3 | mESC_rep3   | mESC   | 3 |\n",
       "\n"
      ],
      "text/plain": [
       "            id          condition sample\n",
       "HUES64_rep1 HUES64_rep1 HUES64    1     \n",
       "HUES64_rep2 HUES64_rep2 HUES64    2     \n",
       "HUES64_rep3 HUES64_rep3 HUES64    3     \n",
       "mESC_rep1   mESC_rep1   mESC      1     \n",
       "mESC_rep2   mESC_rep2   mESC      2     \n",
       "mESC_rep3   mESC_rep3   mESC      3     "
      ]
     },
     "metadata": {},
     "output_type": "display_data"
    }
   ],
   "source": [
    "rna_cols_depth"
   ]
  },
  {
   "cell_type": "markdown",
   "metadata": {},
   "source": [
    "## 3. run MPRAnalyze quantification to get alpha per element\n",
    "using the random sequences as negative controls (but positive controls are in here and will also be quantified)"
   ]
  },
  {
   "cell_type": "code",
   "execution_count": 25,
   "metadata": {},
   "outputs": [],
   "source": [
    "# first need to set the dnadepths and rnadepths manually\n",
    "dna_cols$depth <- rep(1, nrow(dna_cols))"
   ]
  },
  {
   "cell_type": "code",
   "execution_count": 26,
   "metadata": {},
   "outputs": [],
   "source": [
    "# note 13 will change depending how many barcodes there are per element\n",
    "rna_cols$depth <- rep(rna_depths, each=13)"
   ]
  },
  {
   "cell_type": "code",
   "execution_count": 27,
   "metadata": {},
   "outputs": [],
   "source": [
    "# create MPRA object\n",
    "obj <- MpraObject(dnaCounts = dna_counts, rnaCounts = rna_counts, \n",
    "                  dnaAnnot = dna_cols, rnaAnnot = rna_cols, \n",
    "                  controls = ctrls, BPPARAM = SnowParam(workers=16,type=\"SOCK\"))"
   ]
  },
  {
   "cell_type": "code",
   "execution_count": 28,
   "metadata": {},
   "outputs": [],
   "source": [
    "# set depth factors manually\n",
    "obj <- setDepthFactors(obj, dnaDepth = dna_cols$depth, rnaDepth = rna_cols$depth)"
   ]
  },
  {
   "cell_type": "code",
   "execution_count": 29,
   "metadata": {},
   "outputs": [
    {
     "name": "stderr",
     "output_type": "stream",
     "text": [
      "Fitting model...\n",
      "Analysis done!\n"
     ]
    }
   ],
   "source": [
    "# analyze quantification in unpaired DNA library\n",
    "obj <- analyzeQuantification(obj = obj, \n",
    "                             dnaDesign = ~ barcode,\n",
    "                             rnaDesign = ~ condition)"
   ]
  },
  {
   "cell_type": "code",
   "execution_count": 30,
   "metadata": {},
   "outputs": [
    {
     "data": {
      "text/html": [
       "<table>\n",
       "<caption>A data.frame: 6 × 2</caption>\n",
       "<thead>\n",
       "\t<tr><th></th><th scope=col>HUES64</th><th scope=col>mESC</th></tr>\n",
       "\t<tr><th></th><th scope=col>&lt;dbl&gt;</th><th scope=col>&lt;dbl&gt;</th></tr>\n",
       "</thead>\n",
       "<tbody>\n",
       "\t<tr><th scope=row>AAAAAAAAAAAAAAAAACCCTGCAGAGAGCCTGCAAAGTCACTGCCGGAAGTCCCTCCGCGGTGACGAGCACGGCGGAAGTGGGTTCAATGCAGCTCCCCGAAGAACTGTCTCACTCCCGCTCGCCTGACTTCTGGATGGGAGG</th><td>7.2952385</td><td>6.3159106</td></tr>\n",
       "\t<tr><th scope=row>AAAAAAAAAAAAAAAGAAAAGAAAAGAAAAAAAAGAAAGGATTGAGGGGAAGTTTCAAAGGGTGTGCCGGGGACCGGGGAAGAGTCTCATTCTCATGAGTCAGCGGATCCGGCCCAGTGTGACTTCACTGCTTCCCCAGAAGAG</th><td>1.3267957</td><td>1.3488240</td></tr>\n",
       "\t<tr><th scope=row>AAAAAAAAAAAAGAGGAGAAATAGATTGTTACCTTATATTATTTAAACTTTCAAATGTGCTAGGGTTCCTGGAATTTGGAGAGGGAACCGAAAGGGTTTTATGGTTCTTGGGAGACAGCAGAGCACAAAGAGCCAGGGGGTGGA</th><td>0.9771642</td><td>1.5489158</td></tr>\n",
       "\t<tr><th scope=row>AAAAAAAAAACCGGCAAAATGTCCTTTTCCTTGTTTTGAAAAGACTGGAAAATTCATCCCTGCAACCTTCCCTCCCATTTCACTGGTCAGAGTAAAAATTGGAAGTAGGAAAATTAGTACCACCACATCCTTTGAGTCAGAGAC</th><td>0.9761269</td><td>0.8181706</td></tr>\n",
       "\t<tr><th scope=row>AAAAAAAAAGGCCACGCTCAAAACCCCAGACTAGTTTTCCTCACCAGATTCTGATGGGACGATGTCTCAGTAGCACCGCCAATGTGTGTGTAATTGACTGATCCAGTCAGTAGGGGGCCTGACTCCACAACGTTCAAGAGAATC</th><td>1.3239991</td><td>1.4571282</td></tr>\n",
       "\t<tr><th scope=row>AAAAAAAAATGAGAAGTGTTTAAGACAGCGCAACATTACAATAGAATATTGCCTTGTTTTCTTTCTGGTTCTTCTGTCTCACAGAAATTTCTGTAAGTTCACTCCCTCAGAGGGGAAAAGGCAAGGACACAAGCAAGAGAATGA</th><td>1.1364331</td><td>1.0491923</td></tr>\n",
       "</tbody>\n",
       "</table>\n"
      ],
      "text/latex": [
       "A data.frame: 6 × 2\n",
       "\\begin{tabular}{r|ll}\n",
       "  & HUES64 & mESC\\\\\n",
       "  & <dbl> & <dbl>\\\\\n",
       "\\hline\n",
       "\tAAAAAAAAAAAAAAAAACCCTGCAGAGAGCCTGCAAAGTCACTGCCGGAAGTCCCTCCGCGGTGACGAGCACGGCGGAAGTGGGTTCAATGCAGCTCCCCGAAGAACTGTCTCACTCCCGCTCGCCTGACTTCTGGATGGGAGG & 7.2952385 & 6.3159106\\\\\n",
       "\tAAAAAAAAAAAAAAAGAAAAGAAAAGAAAAAAAAGAAAGGATTGAGGGGAAGTTTCAAAGGGTGTGCCGGGGACCGGGGAAGAGTCTCATTCTCATGAGTCAGCGGATCCGGCCCAGTGTGACTTCACTGCTTCCCCAGAAGAG & 1.3267957 & 1.3488240\\\\\n",
       "\tAAAAAAAAAAAAGAGGAGAAATAGATTGTTACCTTATATTATTTAAACTTTCAAATGTGCTAGGGTTCCTGGAATTTGGAGAGGGAACCGAAAGGGTTTTATGGTTCTTGGGAGACAGCAGAGCACAAAGAGCCAGGGGGTGGA & 0.9771642 & 1.5489158\\\\\n",
       "\tAAAAAAAAAACCGGCAAAATGTCCTTTTCCTTGTTTTGAAAAGACTGGAAAATTCATCCCTGCAACCTTCCCTCCCATTTCACTGGTCAGAGTAAAAATTGGAAGTAGGAAAATTAGTACCACCACATCCTTTGAGTCAGAGAC & 0.9761269 & 0.8181706\\\\\n",
       "\tAAAAAAAAAGGCCACGCTCAAAACCCCAGACTAGTTTTCCTCACCAGATTCTGATGGGACGATGTCTCAGTAGCACCGCCAATGTGTGTGTAATTGACTGATCCAGTCAGTAGGGGGCCTGACTCCACAACGTTCAAGAGAATC & 1.3239991 & 1.4571282\\\\\n",
       "\tAAAAAAAAATGAGAAGTGTTTAAGACAGCGCAACATTACAATAGAATATTGCCTTGTTTTCTTTCTGGTTCTTCTGTCTCACAGAAATTTCTGTAAGTTCACTCCCTCAGAGGGGAAAAGGCAAGGACACAAGCAAGAGAATGA & 1.1364331 & 1.0491923\\\\\n",
       "\\end{tabular}\n"
      ],
      "text/markdown": [
       "\n",
       "A data.frame: 6 × 2\n",
       "\n",
       "| <!--/--> | HUES64 &lt;dbl&gt; | mESC &lt;dbl&gt; |\n",
       "|---|---|---|\n",
       "| AAAAAAAAAAAAAAAAACCCTGCAGAGAGCCTGCAAAGTCACTGCCGGAAGTCCCTCCGCGGTGACGAGCACGGCGGAAGTGGGTTCAATGCAGCTCCCCGAAGAACTGTCTCACTCCCGCTCGCCTGACTTCTGGATGGGAGG | 7.2952385 | 6.3159106 |\n",
       "| AAAAAAAAAAAAAAAGAAAAGAAAAGAAAAAAAAGAAAGGATTGAGGGGAAGTTTCAAAGGGTGTGCCGGGGACCGGGGAAGAGTCTCATTCTCATGAGTCAGCGGATCCGGCCCAGTGTGACTTCACTGCTTCCCCAGAAGAG | 1.3267957 | 1.3488240 |\n",
       "| AAAAAAAAAAAAGAGGAGAAATAGATTGTTACCTTATATTATTTAAACTTTCAAATGTGCTAGGGTTCCTGGAATTTGGAGAGGGAACCGAAAGGGTTTTATGGTTCTTGGGAGACAGCAGAGCACAAAGAGCCAGGGGGTGGA | 0.9771642 | 1.5489158 |\n",
       "| AAAAAAAAAACCGGCAAAATGTCCTTTTCCTTGTTTTGAAAAGACTGGAAAATTCATCCCTGCAACCTTCCCTCCCATTTCACTGGTCAGAGTAAAAATTGGAAGTAGGAAAATTAGTACCACCACATCCTTTGAGTCAGAGAC | 0.9761269 | 0.8181706 |\n",
       "| AAAAAAAAAGGCCACGCTCAAAACCCCAGACTAGTTTTCCTCACCAGATTCTGATGGGACGATGTCTCAGTAGCACCGCCAATGTGTGTGTAATTGACTGATCCAGTCAGTAGGGGGCCTGACTCCACAACGTTCAAGAGAATC | 1.3239991 | 1.4571282 |\n",
       "| AAAAAAAAATGAGAAGTGTTTAAGACAGCGCAACATTACAATAGAATATTGCCTTGTTTTCTTTCTGGTTCTTCTGTCTCACAGAAATTTCTGTAAGTTCACTCCCTCAGAGGGGAAAAGGCAAGGACACAAGCAAGAGAATGA | 1.1364331 | 1.0491923 |\n",
       "\n"
      ],
      "text/plain": [
       "                                                                                                                                                 HUES64   \n",
       "AAAAAAAAAAAAAAAAACCCTGCAGAGAGCCTGCAAAGTCACTGCCGGAAGTCCCTCCGCGGTGACGAGCACGGCGGAAGTGGGTTCAATGCAGCTCCCCGAAGAACTGTCTCACTCCCGCTCGCCTGACTTCTGGATGGGAGG 7.2952385\n",
       "AAAAAAAAAAAAAAAGAAAAGAAAAGAAAAAAAAGAAAGGATTGAGGGGAAGTTTCAAAGGGTGTGCCGGGGACCGGGGAAGAGTCTCATTCTCATGAGTCAGCGGATCCGGCCCAGTGTGACTTCACTGCTTCCCCAGAAGAG 1.3267957\n",
       "AAAAAAAAAAAAGAGGAGAAATAGATTGTTACCTTATATTATTTAAACTTTCAAATGTGCTAGGGTTCCTGGAATTTGGAGAGGGAACCGAAAGGGTTTTATGGTTCTTGGGAGACAGCAGAGCACAAAGAGCCAGGGGGTGGA 0.9771642\n",
       "AAAAAAAAAACCGGCAAAATGTCCTTTTCCTTGTTTTGAAAAGACTGGAAAATTCATCCCTGCAACCTTCCCTCCCATTTCACTGGTCAGAGTAAAAATTGGAAGTAGGAAAATTAGTACCACCACATCCTTTGAGTCAGAGAC 0.9761269\n",
       "AAAAAAAAAGGCCACGCTCAAAACCCCAGACTAGTTTTCCTCACCAGATTCTGATGGGACGATGTCTCAGTAGCACCGCCAATGTGTGTGTAATTGACTGATCCAGTCAGTAGGGGGCCTGACTCCACAACGTTCAAGAGAATC 1.3239991\n",
       "AAAAAAAAATGAGAAGTGTTTAAGACAGCGCAACATTACAATAGAATATTGCCTTGTTTTCTTTCTGGTTCTTCTGTCTCACAGAAATTTCTGTAAGTTCACTCCCTCAGAGGGGAAAAGGCAAGGACACAAGCAAGAGAATGA 1.1364331\n",
       "                                                                                                                                                 mESC     \n",
       "AAAAAAAAAAAAAAAAACCCTGCAGAGAGCCTGCAAAGTCACTGCCGGAAGTCCCTCCGCGGTGACGAGCACGGCGGAAGTGGGTTCAATGCAGCTCCCCGAAGAACTGTCTCACTCCCGCTCGCCTGACTTCTGGATGGGAGG 6.3159106\n",
       "AAAAAAAAAAAAAAAGAAAAGAAAAGAAAAAAAAGAAAGGATTGAGGGGAAGTTTCAAAGGGTGTGCCGGGGACCGGGGAAGAGTCTCATTCTCATGAGTCAGCGGATCCGGCCCAGTGTGACTTCACTGCTTCCCCAGAAGAG 1.3488240\n",
       "AAAAAAAAAAAAGAGGAGAAATAGATTGTTACCTTATATTATTTAAACTTTCAAATGTGCTAGGGTTCCTGGAATTTGGAGAGGGAACCGAAAGGGTTTTATGGTTCTTGGGAGACAGCAGAGCACAAAGAGCCAGGGGGTGGA 1.5489158\n",
       "AAAAAAAAAACCGGCAAAATGTCCTTTTCCTTGTTTTGAAAAGACTGGAAAATTCATCCCTGCAACCTTCCCTCCCATTTCACTGGTCAGAGTAAAAATTGGAAGTAGGAAAATTAGTACCACCACATCCTTTGAGTCAGAGAC 0.8181706\n",
       "AAAAAAAAAGGCCACGCTCAAAACCCCAGACTAGTTTTCCTCACCAGATTCTGATGGGACGATGTCTCAGTAGCACCGCCAATGTGTGTGTAATTGACTGATCCAGTCAGTAGGGGGCCTGACTCCACAACGTTCAAGAGAATC 1.4571282\n",
       "AAAAAAAAATGAGAAGTGTTTAAGACAGCGCAACATTACAATAGAATATTGCCTTGTTTTCTTTCTGGTTCTTCTGTCTCACAGAAATTTCTGTAAGTTCACTCCCTCAGAGGGGAAAAGGCAAGGACACAAGCAAGAGAATGA 1.0491923"
      ]
     },
     "metadata": {},
     "output_type": "display_data"
    }
   ],
   "source": [
    "# extract alphas\n",
    "alpha <- getAlpha(obj, by.factor = \"condition\")\n",
    "head(alpha)"
   ]
  },
  {
   "cell_type": "code",
   "execution_count": 31,
   "metadata": {},
   "outputs": [
    {
     "data": {
      "text/html": [
       "<table>\n",
       "<caption>A data.frame: 6 × 2</caption>\n",
       "<thead>\n",
       "\t<tr><th></th><th scope=col>HUES64</th><th scope=col>mESC</th></tr>\n",
       "\t<tr><th></th><th scope=col>&lt;dbl&gt;</th><th scope=col>&lt;dbl&gt;</th></tr>\n",
       "</thead>\n",
       "<tbody>\n",
       "\t<tr><th scope=row>AAAACAGAAGGCTGATCAGTCACATTACATACAACTTTCTCGTGTTATGGTAGATCGTCGAGCTATTGTGATCTGTTTGCTAGAAGGCAAGATGCTAGGATGAGTGATCTGAACCTTCGGAAAAAGTGCTTGCGATCATGCAAA</th><td>0.1828084</td><td>0.3220027</td></tr>\n",
       "\t<tr><th scope=row>AAAACAGGGTTTGTACGTGATGAGCCATTCGTTGAAGCCCATACGGATGGATTTCGTTAGATTGCTCCACGAGAAAACCTTCGAAAGGAAACCAGCGGATTCGTGCCGCTACGCGCTGCCGGTGCGATTAGCTTCTGGAATTTG</th><td>0.7612463</td><td>1.2452591</td></tr>\n",
       "\t<tr><th scope=row>AAAACCGAGGTCTAGTGTTTTCGTTTGCGGGCATCAGGACATACTCGCAGATGGTCCGAGAGGTGCCGGATACTTTAGGGGTCTCGCCACTTTGTAGACCAACACCTAGCGCAAGTAAGATAGCACCTTGGACGCACCCAGCTC</th><td>0.5720732</td><td>0.7098311</td></tr>\n",
       "\t<tr><th scope=row>AAAACGGTTAAGCGACGGTCGAGCGCGTCAACTAGATGGGGTCACTGATTATCGCAAGGGCAGAAGCGTCGTCTCGGACACCTGCAACCCATAGCAACCCTTTCTCCATCCATTATTCGAGCCGTACCTTCAAGGTTGTCGGTC</th><td>0.9245057</td><td>1.2107485</td></tr>\n",
       "\t<tr><th scope=row>AAAACGTCTCCCATCCTCGGGTCGGGTGAGTGTAAGAGGTGAGGCGCATGTGCCCGGACGCCGCTTAACGCCGAACCCCAGTGCTACCACTGACTTGTAGTAACGGGATATACGAACCGGACTTCTTCCGGTTTTTCAGTTACG</th><td>2.9941084</td><td>2.2863200</td></tr>\n",
       "\t<tr><th scope=row>AAAACTTGGTTAGAACTTACGGTGATGTCAATAGTAAGGACATAAATAGCAAGTCTCCACATAACTCCTAACTAGTGGATATCCACCGATGATGTGACATACTGATCCGGGCGCATTGGCGTTTTAGTGATAAACCCGACTTAT</th><td>0.8921831</td><td>0.4681576</td></tr>\n",
       "</tbody>\n",
       "</table>\n"
      ],
      "text/latex": [
       "A data.frame: 6 × 2\n",
       "\\begin{tabular}{r|ll}\n",
       "  & HUES64 & mESC\\\\\n",
       "  & <dbl> & <dbl>\\\\\n",
       "\\hline\n",
       "\tAAAACAGAAGGCTGATCAGTCACATTACATACAACTTTCTCGTGTTATGGTAGATCGTCGAGCTATTGTGATCTGTTTGCTAGAAGGCAAGATGCTAGGATGAGTGATCTGAACCTTCGGAAAAAGTGCTTGCGATCATGCAAA & 0.1828084 & 0.3220027\\\\\n",
       "\tAAAACAGGGTTTGTACGTGATGAGCCATTCGTTGAAGCCCATACGGATGGATTTCGTTAGATTGCTCCACGAGAAAACCTTCGAAAGGAAACCAGCGGATTCGTGCCGCTACGCGCTGCCGGTGCGATTAGCTTCTGGAATTTG & 0.7612463 & 1.2452591\\\\\n",
       "\tAAAACCGAGGTCTAGTGTTTTCGTTTGCGGGCATCAGGACATACTCGCAGATGGTCCGAGAGGTGCCGGATACTTTAGGGGTCTCGCCACTTTGTAGACCAACACCTAGCGCAAGTAAGATAGCACCTTGGACGCACCCAGCTC & 0.5720732 & 0.7098311\\\\\n",
       "\tAAAACGGTTAAGCGACGGTCGAGCGCGTCAACTAGATGGGGTCACTGATTATCGCAAGGGCAGAAGCGTCGTCTCGGACACCTGCAACCCATAGCAACCCTTTCTCCATCCATTATTCGAGCCGTACCTTCAAGGTTGTCGGTC & 0.9245057 & 1.2107485\\\\\n",
       "\tAAAACGTCTCCCATCCTCGGGTCGGGTGAGTGTAAGAGGTGAGGCGCATGTGCCCGGACGCCGCTTAACGCCGAACCCCAGTGCTACCACTGACTTGTAGTAACGGGATATACGAACCGGACTTCTTCCGGTTTTTCAGTTACG & 2.9941084 & 2.2863200\\\\\n",
       "\tAAAACTTGGTTAGAACTTACGGTGATGTCAATAGTAAGGACATAAATAGCAAGTCTCCACATAACTCCTAACTAGTGGATATCCACCGATGATGTGACATACTGATCCGGGCGCATTGGCGTTTTAGTGATAAACCCGACTTAT & 0.8921831 & 0.4681576\\\\\n",
       "\\end{tabular}\n"
      ],
      "text/markdown": [
       "\n",
       "A data.frame: 6 × 2\n",
       "\n",
       "| <!--/--> | HUES64 &lt;dbl&gt; | mESC &lt;dbl&gt; |\n",
       "|---|---|---|\n",
       "| AAAACAGAAGGCTGATCAGTCACATTACATACAACTTTCTCGTGTTATGGTAGATCGTCGAGCTATTGTGATCTGTTTGCTAGAAGGCAAGATGCTAGGATGAGTGATCTGAACCTTCGGAAAAAGTGCTTGCGATCATGCAAA | 0.1828084 | 0.3220027 |\n",
       "| AAAACAGGGTTTGTACGTGATGAGCCATTCGTTGAAGCCCATACGGATGGATTTCGTTAGATTGCTCCACGAGAAAACCTTCGAAAGGAAACCAGCGGATTCGTGCCGCTACGCGCTGCCGGTGCGATTAGCTTCTGGAATTTG | 0.7612463 | 1.2452591 |\n",
       "| AAAACCGAGGTCTAGTGTTTTCGTTTGCGGGCATCAGGACATACTCGCAGATGGTCCGAGAGGTGCCGGATACTTTAGGGGTCTCGCCACTTTGTAGACCAACACCTAGCGCAAGTAAGATAGCACCTTGGACGCACCCAGCTC | 0.5720732 | 0.7098311 |\n",
       "| AAAACGGTTAAGCGACGGTCGAGCGCGTCAACTAGATGGGGTCACTGATTATCGCAAGGGCAGAAGCGTCGTCTCGGACACCTGCAACCCATAGCAACCCTTTCTCCATCCATTATTCGAGCCGTACCTTCAAGGTTGTCGGTC | 0.9245057 | 1.2107485 |\n",
       "| AAAACGTCTCCCATCCTCGGGTCGGGTGAGTGTAAGAGGTGAGGCGCATGTGCCCGGACGCCGCTTAACGCCGAACCCCAGTGCTACCACTGACTTGTAGTAACGGGATATACGAACCGGACTTCTTCCGGTTTTTCAGTTACG | 2.9941084 | 2.2863200 |\n",
       "| AAAACTTGGTTAGAACTTACGGTGATGTCAATAGTAAGGACATAAATAGCAAGTCTCCACATAACTCCTAACTAGTGGATATCCACCGATGATGTGACATACTGATCCGGGCGCATTGGCGTTTTAGTGATAAACCCGACTTAT | 0.8921831 | 0.4681576 |\n",
       "\n"
      ],
      "text/plain": [
       "                                                                                                                                                 HUES64   \n",
       "AAAACAGAAGGCTGATCAGTCACATTACATACAACTTTCTCGTGTTATGGTAGATCGTCGAGCTATTGTGATCTGTTTGCTAGAAGGCAAGATGCTAGGATGAGTGATCTGAACCTTCGGAAAAAGTGCTTGCGATCATGCAAA 0.1828084\n",
       "AAAACAGGGTTTGTACGTGATGAGCCATTCGTTGAAGCCCATACGGATGGATTTCGTTAGATTGCTCCACGAGAAAACCTTCGAAAGGAAACCAGCGGATTCGTGCCGCTACGCGCTGCCGGTGCGATTAGCTTCTGGAATTTG 0.7612463\n",
       "AAAACCGAGGTCTAGTGTTTTCGTTTGCGGGCATCAGGACATACTCGCAGATGGTCCGAGAGGTGCCGGATACTTTAGGGGTCTCGCCACTTTGTAGACCAACACCTAGCGCAAGTAAGATAGCACCTTGGACGCACCCAGCTC 0.5720732\n",
       "AAAACGGTTAAGCGACGGTCGAGCGCGTCAACTAGATGGGGTCACTGATTATCGCAAGGGCAGAAGCGTCGTCTCGGACACCTGCAACCCATAGCAACCCTTTCTCCATCCATTATTCGAGCCGTACCTTCAAGGTTGTCGGTC 0.9245057\n",
       "AAAACGTCTCCCATCCTCGGGTCGGGTGAGTGTAAGAGGTGAGGCGCATGTGCCCGGACGCCGCTTAACGCCGAACCCCAGTGCTACCACTGACTTGTAGTAACGGGATATACGAACCGGACTTCTTCCGGTTTTTCAGTTACG 2.9941084\n",
       "AAAACTTGGTTAGAACTTACGGTGATGTCAATAGTAAGGACATAAATAGCAAGTCTCCACATAACTCCTAACTAGTGGATATCCACCGATGATGTGACATACTGATCCGGGCGCATTGGCGTTTTAGTGATAAACCCGACTTAT 0.8921831\n",
       "                                                                                                                                                 mESC     \n",
       "AAAACAGAAGGCTGATCAGTCACATTACATACAACTTTCTCGTGTTATGGTAGATCGTCGAGCTATTGTGATCTGTTTGCTAGAAGGCAAGATGCTAGGATGAGTGATCTGAACCTTCGGAAAAAGTGCTTGCGATCATGCAAA 0.3220027\n",
       "AAAACAGGGTTTGTACGTGATGAGCCATTCGTTGAAGCCCATACGGATGGATTTCGTTAGATTGCTCCACGAGAAAACCTTCGAAAGGAAACCAGCGGATTCGTGCCGCTACGCGCTGCCGGTGCGATTAGCTTCTGGAATTTG 1.2452591\n",
       "AAAACCGAGGTCTAGTGTTTTCGTTTGCGGGCATCAGGACATACTCGCAGATGGTCCGAGAGGTGCCGGATACTTTAGGGGTCTCGCCACTTTGTAGACCAACACCTAGCGCAAGTAAGATAGCACCTTGGACGCACCCAGCTC 0.7098311\n",
       "AAAACGGTTAAGCGACGGTCGAGCGCGTCAACTAGATGGGGTCACTGATTATCGCAAGGGCAGAAGCGTCGTCTCGGACACCTGCAACCCATAGCAACCCTTTCTCCATCCATTATTCGAGCCGTACCTTCAAGGTTGTCGGTC 1.2107485\n",
       "AAAACGTCTCCCATCCTCGGGTCGGGTGAGTGTAAGAGGTGAGGCGCATGTGCCCGGACGCCGCTTAACGCCGAACCCCAGTGCTACCACTGACTTGTAGTAACGGGATATACGAACCGGACTTCTTCCGGTTTTTCAGTTACG 2.2863200\n",
       "AAAACTTGGTTAGAACTTACGGTGATGTCAATAGTAAGGACATAAATAGCAAGTCTCCACATAACTCCTAACTAGTGGATATCCACCGATGATGTGACATACTGATCCGGGCGCATTGGCGTTTTAGTGATAAACCCGACTTAT 0.4681576"
      ]
     },
     "metadata": {},
     "output_type": "display_data"
    }
   ],
   "source": [
    "head(alpha[ctrls,])"
   ]
  },
  {
   "cell_type": "markdown",
   "metadata": {},
   "source": [
    "## 4. find TSSs with significant activities by comparing them to negative controls"
   ]
  },
  {
   "cell_type": "code",
   "execution_count": 32,
   "metadata": {},
   "outputs": [
    {
     "data": {
      "text/plain": [
       "   statistic         control            zscore          mad.score       \n",
       " Min.   : 0.08164   Mode :logical   Min.   :-1.2758   Min.   : -2.5438  \n",
       " 1st Qu.: 0.89724   FALSE:12261     1st Qu.:-0.2433   1st Qu.: -0.1848  \n",
       " Median : 1.19822   TRUE :1618      Median : 0.1377   Median :  0.6858  \n",
       " Mean   : 2.33543                   Mean   : 1.5774   Mean   :  3.9750  \n",
       " 3rd Qu.: 2.24040                   3rd Qu.: 1.4570   3rd Qu.:  3.7002  \n",
       " Max.   :51.24243                   Max.   :63.4894   Max.   :145.4334  \n",
       "    pval.mad          pval.zscore      pval.empirical   \n",
       " Min.   :0.0000000   Min.   :0.00000   Min.   :0.00000  \n",
       " 1st Qu.:0.0001077   1st Qu.:0.07255   1st Qu.:0.03399  \n",
       " Median :0.2464234   Median :0.44522   Median :0.27688  \n",
       " Mean   :0.3061390   Mean   :0.37219   Mean   :0.32859  \n",
       " 3rd Qu.:0.5732965   3rd Qu.:0.59610   3rd Qu.:0.56860  \n",
       " Max.   :0.9945177   Max.   :0.89898   Max.   :0.99938  "
      ]
     },
     "metadata": {},
     "output_type": "display_data"
    }
   ],
   "source": [
    "# test against negative controls\n",
    "res.human <- testEmpirical(obj = obj, statistic = alpha$HUES64)\n",
    "summary(res.human)"
   ]
  },
  {
   "cell_type": "code",
   "execution_count": 33,
   "metadata": {},
   "outputs": [
    {
     "data": {
      "text/plain": [
       "   statistic        control            zscore          mad.score      \n",
       " Min.   : 0.1180   Mode :logical   Min.   :-1.8430   Min.   :-2.4657  \n",
       " 1st Qu.: 0.9969   FALSE:12261     1st Qu.:-0.3057   1st Qu.:-0.1836  \n",
       " Median : 1.2428   TRUE :1618      Median : 0.1243   Median : 0.4547  \n",
       " Mean   : 2.2967                   Mean   : 1.9676   Mean   : 3.1912  \n",
       " 3rd Qu.: 1.9223                   3rd Qu.: 1.3127   3rd Qu.: 2.2190  \n",
       " Max.   :39.2011                   Max.   :66.5147   Max.   :99.0123  \n",
       "    pval.mad        pval.zscore      pval.empirical   \n",
       " Min.   :0.00000   Min.   :0.00000   Min.   :0.00000  \n",
       " 1st Qu.:0.01324   1st Qu.:0.09464   1st Qu.:0.07447  \n",
       " Median :0.32465   Median :0.45056   Median :0.34611  \n",
       " Mean   :0.33207   Mean   :0.39142   Mean   :0.35409  \n",
       " 3rd Qu.:0.57282   3rd Qu.:0.62009   3rd Qu.:0.57478  \n",
       " Max.   :0.99316   Max.   :0.96734   Max.   :0.99938  "
      ]
     },
     "metadata": {},
     "output_type": "display_data"
    }
   ],
   "source": [
    "# test against negative controls\n",
    "res.mouse <- testEmpirical(obj = obj, statistic = alpha$mESC)\n",
    "summary(res.mouse)"
   ]
  },
  {
   "cell_type": "code",
   "execution_count": 34,
   "metadata": {},
   "outputs": [
    {
     "data": {
      "text/html": [
       "<table>\n",
       "<caption>A data.frame: 6 × 4</caption>\n",
       "<thead>\n",
       "\t<tr><th></th><th scope=col>HUES64</th><th scope=col>mESC</th><th scope=col>HUES64_pval</th><th scope=col>mESC_pval</th></tr>\n",
       "\t<tr><th></th><th scope=col>&lt;dbl&gt;</th><th scope=col>&lt;dbl&gt;</th><th scope=col>&lt;dbl&gt;</th><th scope=col>&lt;dbl&gt;</th></tr>\n",
       "</thead>\n",
       "<tbody>\n",
       "\t<tr><th scope=row>AAAAAAAAAAAAAAAAACCCTGCAGAGAGCCTGCAAAGTCACTGCCGGAAGTCCCTCCGCGGTGACGAGCACGGCGGAAGTGGGTTCAATGCAGCTCCCCGAAGAACTGTCTCACTCCCGCTCGCCTGACTTCTGGATGGGAGG</th><td>7.2952385</td><td>6.3159106</td><td>2.825214e-75</td><td>1.383066e-42</td></tr>\n",
       "\t<tr><th scope=row>AAAAAAAAAAAAAAAGAAAAGAAAAGAAAAAAAAGAAAGGATTGAGGGGAAGTTTCAAAGGGTGTGCCGGGGACCGGGGAAGAGTCTCATTCTCATGAGTCAGCGGATCCGGCCCAGTGTGACTTCACTGCTTCCCCAGAAGAG</th><td>1.3267957</td><td>1.3488240</td><td>1.451021e-01</td><td>2.326515e-01</td></tr>\n",
       "\t<tr><th scope=row>AAAAAAAAAAAAGAGGAGAAATAGATTGTTACCTTATATTATTTAAACTTTCAAATGTGCTAGGGTTCCTGGAATTTGGAGAGGGAACCGAAAGGGTTTTATGGTTCTTGGGAGACAGCAGAGCACAAAGAGCCAGGGGGTGGA</th><td>0.9771642</td><td>1.5489158</td><td>4.814953e-01</td><td>1.057092e-01</td></tr>\n",
       "\t<tr><th scope=row>AAAAAAAAAACCGGCAAAATGTCCTTTTCCTTGTTTTGAAAAGACTGGAAAATTCATCCCTGCAACCTTCCCTCCCATTTCACTGGTCAGAGTAAAAATTGGAAGTAGGAAAATTAGTACCACCACATCCTTTGAGTCAGAGAC</th><td>0.9761269</td><td>0.8181706</td><td>4.826910e-01</td><td>7.414048e-01</td></tr>\n",
       "\t<tr><th scope=row>AAAAAAAAAGGCCACGCTCAAAACCCCAGACTAGTTTTCCTCACCAGATTCTGATGGGACGATGTCTCAGTAGCACCGCCAATGTGTGTGTAATTGACTGATCCAGTCAGTAGGGGGCCTGACTCCACAACGTTCAAGAGAATC</th><td>1.3239991</td><td>1.4571282</td><td>1.469545e-01</td><td>1.559242e-01</td></tr>\n",
       "\t<tr><th scope=row>AAAAAAAAATGAGAAGTGTTTAAGACAGCGCAACATTACAATAGAATATTGCCTTGTTTTCTTTCTGGTTCTTCTGTCTCACAGAAATTTCTGTAAGTTCACTCCCTCAGAGGGGAAAAGGCAAGGACACAAGCAAGAGAATGA</th><td>1.1364331</td><td>1.0491923</td><td>3.060530e-01</td><td>5.190788e-01</td></tr>\n",
       "</tbody>\n",
       "</table>\n"
      ],
      "text/latex": [
       "A data.frame: 6 × 4\n",
       "\\begin{tabular}{r|llll}\n",
       "  & HUES64 & mESC & HUES64\\_pval & mESC\\_pval\\\\\n",
       "  & <dbl> & <dbl> & <dbl> & <dbl>\\\\\n",
       "\\hline\n",
       "\tAAAAAAAAAAAAAAAAACCCTGCAGAGAGCCTGCAAAGTCACTGCCGGAAGTCCCTCCGCGGTGACGAGCACGGCGGAAGTGGGTTCAATGCAGCTCCCCGAAGAACTGTCTCACTCCCGCTCGCCTGACTTCTGGATGGGAGG & 7.2952385 & 6.3159106 & 2.825214e-75 & 1.383066e-42\\\\\n",
       "\tAAAAAAAAAAAAAAAGAAAAGAAAAGAAAAAAAAGAAAGGATTGAGGGGAAGTTTCAAAGGGTGTGCCGGGGACCGGGGAAGAGTCTCATTCTCATGAGTCAGCGGATCCGGCCCAGTGTGACTTCACTGCTTCCCCAGAAGAG & 1.3267957 & 1.3488240 & 1.451021e-01 & 2.326515e-01\\\\\n",
       "\tAAAAAAAAAAAAGAGGAGAAATAGATTGTTACCTTATATTATTTAAACTTTCAAATGTGCTAGGGTTCCTGGAATTTGGAGAGGGAACCGAAAGGGTTTTATGGTTCTTGGGAGACAGCAGAGCACAAAGAGCCAGGGGGTGGA & 0.9771642 & 1.5489158 & 4.814953e-01 & 1.057092e-01\\\\\n",
       "\tAAAAAAAAAACCGGCAAAATGTCCTTTTCCTTGTTTTGAAAAGACTGGAAAATTCATCCCTGCAACCTTCCCTCCCATTTCACTGGTCAGAGTAAAAATTGGAAGTAGGAAAATTAGTACCACCACATCCTTTGAGTCAGAGAC & 0.9761269 & 0.8181706 & 4.826910e-01 & 7.414048e-01\\\\\n",
       "\tAAAAAAAAAGGCCACGCTCAAAACCCCAGACTAGTTTTCCTCACCAGATTCTGATGGGACGATGTCTCAGTAGCACCGCCAATGTGTGTGTAATTGACTGATCCAGTCAGTAGGGGGCCTGACTCCACAACGTTCAAGAGAATC & 1.3239991 & 1.4571282 & 1.469545e-01 & 1.559242e-01\\\\\n",
       "\tAAAAAAAAATGAGAAGTGTTTAAGACAGCGCAACATTACAATAGAATATTGCCTTGTTTTCTTTCTGGTTCTTCTGTCTCACAGAAATTTCTGTAAGTTCACTCCCTCAGAGGGGAAAAGGCAAGGACACAAGCAAGAGAATGA & 1.1364331 & 1.0491923 & 3.060530e-01 & 5.190788e-01\\\\\n",
       "\\end{tabular}\n"
      ],
      "text/markdown": [
       "\n",
       "A data.frame: 6 × 4\n",
       "\n",
       "| <!--/--> | HUES64 &lt;dbl&gt; | mESC &lt;dbl&gt; | HUES64_pval &lt;dbl&gt; | mESC_pval &lt;dbl&gt; |\n",
       "|---|---|---|---|---|\n",
       "| AAAAAAAAAAAAAAAAACCCTGCAGAGAGCCTGCAAAGTCACTGCCGGAAGTCCCTCCGCGGTGACGAGCACGGCGGAAGTGGGTTCAATGCAGCTCCCCGAAGAACTGTCTCACTCCCGCTCGCCTGACTTCTGGATGGGAGG | 7.2952385 | 6.3159106 | 2.825214e-75 | 1.383066e-42 |\n",
       "| AAAAAAAAAAAAAAAGAAAAGAAAAGAAAAAAAAGAAAGGATTGAGGGGAAGTTTCAAAGGGTGTGCCGGGGACCGGGGAAGAGTCTCATTCTCATGAGTCAGCGGATCCGGCCCAGTGTGACTTCACTGCTTCCCCAGAAGAG | 1.3267957 | 1.3488240 | 1.451021e-01 | 2.326515e-01 |\n",
       "| AAAAAAAAAAAAGAGGAGAAATAGATTGTTACCTTATATTATTTAAACTTTCAAATGTGCTAGGGTTCCTGGAATTTGGAGAGGGAACCGAAAGGGTTTTATGGTTCTTGGGAGACAGCAGAGCACAAAGAGCCAGGGGGTGGA | 0.9771642 | 1.5489158 | 4.814953e-01 | 1.057092e-01 |\n",
       "| AAAAAAAAAACCGGCAAAATGTCCTTTTCCTTGTTTTGAAAAGACTGGAAAATTCATCCCTGCAACCTTCCCTCCCATTTCACTGGTCAGAGTAAAAATTGGAAGTAGGAAAATTAGTACCACCACATCCTTTGAGTCAGAGAC | 0.9761269 | 0.8181706 | 4.826910e-01 | 7.414048e-01 |\n",
       "| AAAAAAAAAGGCCACGCTCAAAACCCCAGACTAGTTTTCCTCACCAGATTCTGATGGGACGATGTCTCAGTAGCACCGCCAATGTGTGTGTAATTGACTGATCCAGTCAGTAGGGGGCCTGACTCCACAACGTTCAAGAGAATC | 1.3239991 | 1.4571282 | 1.469545e-01 | 1.559242e-01 |\n",
       "| AAAAAAAAATGAGAAGTGTTTAAGACAGCGCAACATTACAATAGAATATTGCCTTGTTTTCTTTCTGGTTCTTCTGTCTCACAGAAATTTCTGTAAGTTCACTCCCTCAGAGGGGAAAAGGCAAGGACACAAGCAAGAGAATGA | 1.1364331 | 1.0491923 | 3.060530e-01 | 5.190788e-01 |\n",
       "\n"
      ],
      "text/plain": [
       "                                                                                                                                                 HUES64   \n",
       "AAAAAAAAAAAAAAAAACCCTGCAGAGAGCCTGCAAAGTCACTGCCGGAAGTCCCTCCGCGGTGACGAGCACGGCGGAAGTGGGTTCAATGCAGCTCCCCGAAGAACTGTCTCACTCCCGCTCGCCTGACTTCTGGATGGGAGG 7.2952385\n",
       "AAAAAAAAAAAAAAAGAAAAGAAAAGAAAAAAAAGAAAGGATTGAGGGGAAGTTTCAAAGGGTGTGCCGGGGACCGGGGAAGAGTCTCATTCTCATGAGTCAGCGGATCCGGCCCAGTGTGACTTCACTGCTTCCCCAGAAGAG 1.3267957\n",
       "AAAAAAAAAAAAGAGGAGAAATAGATTGTTACCTTATATTATTTAAACTTTCAAATGTGCTAGGGTTCCTGGAATTTGGAGAGGGAACCGAAAGGGTTTTATGGTTCTTGGGAGACAGCAGAGCACAAAGAGCCAGGGGGTGGA 0.9771642\n",
       "AAAAAAAAAACCGGCAAAATGTCCTTTTCCTTGTTTTGAAAAGACTGGAAAATTCATCCCTGCAACCTTCCCTCCCATTTCACTGGTCAGAGTAAAAATTGGAAGTAGGAAAATTAGTACCACCACATCCTTTGAGTCAGAGAC 0.9761269\n",
       "AAAAAAAAAGGCCACGCTCAAAACCCCAGACTAGTTTTCCTCACCAGATTCTGATGGGACGATGTCTCAGTAGCACCGCCAATGTGTGTGTAATTGACTGATCCAGTCAGTAGGGGGCCTGACTCCACAACGTTCAAGAGAATC 1.3239991\n",
       "AAAAAAAAATGAGAAGTGTTTAAGACAGCGCAACATTACAATAGAATATTGCCTTGTTTTCTTTCTGGTTCTTCTGTCTCACAGAAATTTCTGTAAGTTCACTCCCTCAGAGGGGAAAAGGCAAGGACACAAGCAAGAGAATGA 1.1364331\n",
       "                                                                                                                                                 mESC     \n",
       "AAAAAAAAAAAAAAAAACCCTGCAGAGAGCCTGCAAAGTCACTGCCGGAAGTCCCTCCGCGGTGACGAGCACGGCGGAAGTGGGTTCAATGCAGCTCCCCGAAGAACTGTCTCACTCCCGCTCGCCTGACTTCTGGATGGGAGG 6.3159106\n",
       "AAAAAAAAAAAAAAAGAAAAGAAAAGAAAAAAAAGAAAGGATTGAGGGGAAGTTTCAAAGGGTGTGCCGGGGACCGGGGAAGAGTCTCATTCTCATGAGTCAGCGGATCCGGCCCAGTGTGACTTCACTGCTTCCCCAGAAGAG 1.3488240\n",
       "AAAAAAAAAAAAGAGGAGAAATAGATTGTTACCTTATATTATTTAAACTTTCAAATGTGCTAGGGTTCCTGGAATTTGGAGAGGGAACCGAAAGGGTTTTATGGTTCTTGGGAGACAGCAGAGCACAAAGAGCCAGGGGGTGGA 1.5489158\n",
       "AAAAAAAAAACCGGCAAAATGTCCTTTTCCTTGTTTTGAAAAGACTGGAAAATTCATCCCTGCAACCTTCCCTCCCATTTCACTGGTCAGAGTAAAAATTGGAAGTAGGAAAATTAGTACCACCACATCCTTTGAGTCAGAGAC 0.8181706\n",
       "AAAAAAAAAGGCCACGCTCAAAACCCCAGACTAGTTTTCCTCACCAGATTCTGATGGGACGATGTCTCAGTAGCACCGCCAATGTGTGTGTAATTGACTGATCCAGTCAGTAGGGGGCCTGACTCCACAACGTTCAAGAGAATC 1.4571282\n",
       "AAAAAAAAATGAGAAGTGTTTAAGACAGCGCAACATTACAATAGAATATTGCCTTGTTTTCTTTCTGGTTCTTCTGTCTCACAGAAATTTCTGTAAGTTCACTCCCTCAGAGGGGAAAAGGCAAGGACACAAGCAAGAGAATGA 1.0491923\n",
       "                                                                                                                                                 HUES64_pval \n",
       "AAAAAAAAAAAAAAAAACCCTGCAGAGAGCCTGCAAAGTCACTGCCGGAAGTCCCTCCGCGGTGACGAGCACGGCGGAAGTGGGTTCAATGCAGCTCCCCGAAGAACTGTCTCACTCCCGCTCGCCTGACTTCTGGATGGGAGG 2.825214e-75\n",
       "AAAAAAAAAAAAAAAGAAAAGAAAAGAAAAAAAAGAAAGGATTGAGGGGAAGTTTCAAAGGGTGTGCCGGGGACCGGGGAAGAGTCTCATTCTCATGAGTCAGCGGATCCGGCCCAGTGTGACTTCACTGCTTCCCCAGAAGAG 1.451021e-01\n",
       "AAAAAAAAAAAAGAGGAGAAATAGATTGTTACCTTATATTATTTAAACTTTCAAATGTGCTAGGGTTCCTGGAATTTGGAGAGGGAACCGAAAGGGTTTTATGGTTCTTGGGAGACAGCAGAGCACAAAGAGCCAGGGGGTGGA 4.814953e-01\n",
       "AAAAAAAAAACCGGCAAAATGTCCTTTTCCTTGTTTTGAAAAGACTGGAAAATTCATCCCTGCAACCTTCCCTCCCATTTCACTGGTCAGAGTAAAAATTGGAAGTAGGAAAATTAGTACCACCACATCCTTTGAGTCAGAGAC 4.826910e-01\n",
       "AAAAAAAAAGGCCACGCTCAAAACCCCAGACTAGTTTTCCTCACCAGATTCTGATGGGACGATGTCTCAGTAGCACCGCCAATGTGTGTGTAATTGACTGATCCAGTCAGTAGGGGGCCTGACTCCACAACGTTCAAGAGAATC 1.469545e-01\n",
       "AAAAAAAAATGAGAAGTGTTTAAGACAGCGCAACATTACAATAGAATATTGCCTTGTTTTCTTTCTGGTTCTTCTGTCTCACAGAAATTTCTGTAAGTTCACTCCCTCAGAGGGGAAAAGGCAAGGACACAAGCAAGAGAATGA 3.060530e-01\n",
       "                                                                                                                                                 mESC_pval   \n",
       "AAAAAAAAAAAAAAAAACCCTGCAGAGAGCCTGCAAAGTCACTGCCGGAAGTCCCTCCGCGGTGACGAGCACGGCGGAAGTGGGTTCAATGCAGCTCCCCGAAGAACTGTCTCACTCCCGCTCGCCTGACTTCTGGATGGGAGG 1.383066e-42\n",
       "AAAAAAAAAAAAAAAGAAAAGAAAAGAAAAAAAAGAAAGGATTGAGGGGAAGTTTCAAAGGGTGTGCCGGGGACCGGGGAAGAGTCTCATTCTCATGAGTCAGCGGATCCGGCCCAGTGTGACTTCACTGCTTCCCCAGAAGAG 2.326515e-01\n",
       "AAAAAAAAAAAAGAGGAGAAATAGATTGTTACCTTATATTATTTAAACTTTCAAATGTGCTAGGGTTCCTGGAATTTGGAGAGGGAACCGAAAGGGTTTTATGGTTCTTGGGAGACAGCAGAGCACAAAGAGCCAGGGGGTGGA 1.057092e-01\n",
       "AAAAAAAAAACCGGCAAAATGTCCTTTTCCTTGTTTTGAAAAGACTGGAAAATTCATCCCTGCAACCTTCCCTCCCATTTCACTGGTCAGAGTAAAAATTGGAAGTAGGAAAATTAGTACCACCACATCCTTTGAGTCAGAGAC 7.414048e-01\n",
       "AAAAAAAAAGGCCACGCTCAAAACCCCAGACTAGTTTTCCTCACCAGATTCTGATGGGACGATGTCTCAGTAGCACCGCCAATGTGTGTGTAATTGACTGATCCAGTCAGTAGGGGGCCTGACTCCACAACGTTCAAGAGAATC 1.559242e-01\n",
       "AAAAAAAAATGAGAAGTGTTTAAGACAGCGCAACATTACAATAGAATATTGCCTTGTTTTCTTTCTGGTTCTTCTGTCTCACAGAAATTTCTGTAAGTTCACTCCCTCAGAGGGGAAAAGGCAAGGACACAAGCAAGAGAATGA 5.190788e-01"
      ]
     },
     "metadata": {},
     "output_type": "display_data"
    }
   ],
   "source": [
    "alpha$HUES64_pval <- res.human$pval.mad\n",
    "alpha$mESC_pval <- res.mouse$pval.mad\n",
    "head(alpha)"
   ]
  },
  {
   "cell_type": "code",
   "execution_count": 35,
   "metadata": {},
   "outputs": [
    {
     "data": {
      "image/png": "[encoded data removed]",
      "text/plain": [
       "Plot with title “Histogram of alpha[ctrls, ]$HUES64_pval”"
      ]
     },
     "metadata": {},
     "output_type": "display_data"
    }
   ],
   "source": [
    "# histogram for negative controls\n",
    "hist(alpha[ctrls,]$HUES64_pval)"
   ]
  },
  {
   "cell_type": "code",
   "execution_count": 36,
   "metadata": {},
   "outputs": [
    {
     "data": {
      "image/png": "[encoded data removed]",
      "text/plain": [
       "Plot with title “Histogram of alpha[ctrls, ]$mESC_pval”"
      ]
     },
     "metadata": {},
     "output_type": "display_data"
    }
   ],
   "source": [
    "# histogram for negative controls\n",
    "hist(alpha[ctrls,]$mESC_pval)"
   ]
  },
  {
   "cell_type": "code",
   "execution_count": 37,
   "metadata": {},
   "outputs": [
    {
     "data": {
      "image/png": "[encoded data removed]",
      "text/plain": [
       "Plot with title “Histogram of alpha[!ctrls, ]$HUES64_pval”"
      ]
     },
     "metadata": {},
     "output_type": "display_data"
    }
   ],
   "source": [
    "# histogram for TSSs\n",
    "hist(alpha[!ctrls,]$HUES64_pval)"
   ]
  },
  {
   "cell_type": "code",
   "execution_count": 38,
   "metadata": {},
   "outputs": [
    {
     "data": {
      "image/png": "[encoded data removed]",
      "text/plain": [
       "Plot with title “Histogram of alpha[!ctrls, ]$mESC_pval”"
      ]
     },
     "metadata": {},
     "output_type": "display_data"
    }
   ],
   "source": [
    "# histogram for TSSs\n",
    "hist(alpha[!ctrls,]$mESC_pval)"
   ]
  },
  {
   "cell_type": "code",
   "execution_count": 39,
   "metadata": {},
   "outputs": [
    {
     "data": {
      "text/html": [
       "<table>\n",
       "<caption>A data.frame: 6 × 6</caption>\n",
       "<thead>\n",
       "\t<tr><th></th><th scope=col>HUES64</th><th scope=col>mESC</th><th scope=col>HUES64_pval</th><th scope=col>mESC_pval</th><th scope=col>HUES64_padj</th><th scope=col>mESC_padj</th></tr>\n",
       "\t<tr><th></th><th scope=col>&lt;dbl&gt;</th><th scope=col>&lt;dbl&gt;</th><th scope=col>&lt;dbl&gt;</th><th scope=col>&lt;dbl&gt;</th><th scope=col>&lt;dbl&gt;</th><th scope=col>&lt;dbl&gt;</th></tr>\n",
       "</thead>\n",
       "<tbody>\n",
       "\t<tr><th scope=row>AAAAAAAAAAAAAAAAACCCTGCAGAGAGCCTGCAAAGTCACTGCCGGAAGTCCCTCCGCGGTGACGAGCACGGCGGAAGTGGGTTCAATGCAGCTCCCCGAAGAACTGTCTCACTCCCGCTCGCCTGACTTCTGGATGGGAGG</th><td>7.2952385</td><td>6.3159106</td><td>2.825214e-75</td><td>1.383066e-42</td><td>4.596852e-74</td><td>1.878236e-41</td></tr>\n",
       "\t<tr><th scope=row>AAAAAAAAAAAAAAAGAAAAGAAAAGAAAAAAAAGAAAGGATTGAGGGGAAGTTTCAAAGGGTGTGCCGGGGACCGGGGAAGAGTCTCATTCTCATGAGTCAGCGGATCCGGCCCAGTGTGACTTCACTGCTTCCCCAGAAGAG</th><td>1.3267957</td><td>1.3488240</td><td>1.451021e-01</td><td>2.326515e-01</td><td>3.319934e-01</td><td>5.455262e-01</td></tr>\n",
       "\t<tr><th scope=row>AAAAAAAAAAAAGAGGAGAAATAGATTGTTACCTTATATTATTTAAACTTTCAAATGTGCTAGGGTTCCTGGAATTTGGAGAGGGAACCGAAAGGGTTTTATGGTTCTTGGGAGACAGCAGAGCACAAAGAGCCAGGGGGTGGA</th><td>0.9771642</td><td>1.5489158</td><td>4.814953e-01</td><td>1.057092e-01</td><td>7.164347e-01</td><td>3.127558e-01</td></tr>\n",
       "\t<tr><th scope=row>AAAAAAAAAACCGGCAAAATGTCCTTTTCCTTGTTTTGAAAAGACTGGAAAATTCATCCCTGCAACCTTCCCTCCCATTTCACTGGTCAGAGTAAAAATTGGAAGTAGGAAAATTAGTACCACCACATCCTTTGAGTCAGAGAC</th><td>0.9761269</td><td>0.8181706</td><td>4.826910e-01</td><td>7.414048e-01</td><td>7.167637e-01</td><td>8.145300e-01</td></tr>\n",
       "\t<tr><th scope=row>AAAAAAAAAGGCCACGCTCAAAACCCCAGACTAGTTTTCCTCACCAGATTCTGATGGGACGATGTCTCAGTAGCACCGCCAATGTGTGTGTAATTGACTGATCCAGTCAGTAGGGGGCCTGACTCCACAACGTTCAAGAGAATC</th><td>1.3239991</td><td>1.4571282</td><td>1.469545e-01</td><td>1.559242e-01</td><td>3.356231e-01</td><td>4.172106e-01</td></tr>\n",
       "\t<tr><th scope=row>AAAAAAAAATGAGAAGTGTTTAAGACAGCGCAACATTACAATAGAATATTGCCTTGTTTTCTTTCTGGTTCTTCTGTCTCACAGAAATTTCTGTAAGTTCACTCCCTCAGAGGGGAAAAGGCAAGGACACAAGCAAGAGAATGA</th><td>1.1364331</td><td>1.0491923</td><td>3.060530e-01</td><td>5.190788e-01</td><td>5.653348e-01</td><td>7.528672e-01</td></tr>\n",
       "</tbody>\n",
       "</table>\n"
      ],
      "text/latex": [
       "A data.frame: 6 × 6\n",
       "\\begin{tabular}{r|llllll}\n",
       "  & HUES64 & mESC & HUES64\\_pval & mESC\\_pval & HUES64\\_padj & mESC\\_padj\\\\\n",
       "  & <dbl> & <dbl> & <dbl> & <dbl> & <dbl> & <dbl>\\\\\n",
       "\\hline\n",
       "\tAAAAAAAAAAAAAAAAACCCTGCAGAGAGCCTGCAAAGTCACTGCCGGAAGTCCCTCCGCGGTGACGAGCACGGCGGAAGTGGGTTCAATGCAGCTCCCCGAAGAACTGTCTCACTCCCGCTCGCCTGACTTCTGGATGGGAGG & 7.2952385 & 6.3159106 & 2.825214e-75 & 1.383066e-42 & 4.596852e-74 & 1.878236e-41\\\\\n",
       "\tAAAAAAAAAAAAAAAGAAAAGAAAAGAAAAAAAAGAAAGGATTGAGGGGAAGTTTCAAAGGGTGTGCCGGGGACCGGGGAAGAGTCTCATTCTCATGAGTCAGCGGATCCGGCCCAGTGTGACTTCACTGCTTCCCCAGAAGAG & 1.3267957 & 1.3488240 & 1.451021e-01 & 2.326515e-01 & 3.319934e-01 & 5.455262e-01\\\\\n",
       "\tAAAAAAAAAAAAGAGGAGAAATAGATTGTTACCTTATATTATTTAAACTTTCAAATGTGCTAGGGTTCCTGGAATTTGGAGAGGGAACCGAAAGGGTTTTATGGTTCTTGGGAGACAGCAGAGCACAAAGAGCCAGGGGGTGGA & 0.9771642 & 1.5489158 & 4.814953e-01 & 1.057092e-01 & 7.164347e-01 & 3.127558e-01\\\\\n",
       "\tAAAAAAAAAACCGGCAAAATGTCCTTTTCCTTGTTTTGAAAAGACTGGAAAATTCATCCCTGCAACCTTCCCTCCCATTTCACTGGTCAGAGTAAAAATTGGAAGTAGGAAAATTAGTACCACCACATCCTTTGAGTCAGAGAC & 0.9761269 & 0.8181706 & 4.826910e-01 & 7.414048e-01 & 7.167637e-01 & 8.145300e-01\\\\\n",
       "\tAAAAAAAAAGGCCACGCTCAAAACCCCAGACTAGTTTTCCTCACCAGATTCTGATGGGACGATGTCTCAGTAGCACCGCCAATGTGTGTGTAATTGACTGATCCAGTCAGTAGGGGGCCTGACTCCACAACGTTCAAGAGAATC & 1.3239991 & 1.4571282 & 1.469545e-01 & 1.559242e-01 & 3.356231e-01 & 4.172106e-01\\\\\n",
       "\tAAAAAAAAATGAGAAGTGTTTAAGACAGCGCAACATTACAATAGAATATTGCCTTGTTTTCTTTCTGGTTCTTCTGTCTCACAGAAATTTCTGTAAGTTCACTCCCTCAGAGGGGAAAAGGCAAGGACACAAGCAAGAGAATGA & 1.1364331 & 1.0491923 & 3.060530e-01 & 5.190788e-01 & 5.653348e-01 & 7.528672e-01\\\\\n",
       "\\end{tabular}\n"
      ],
      "text/markdown": [
       "\n",
       "A data.frame: 6 × 6\n",
       "\n",
       "| <!--/--> | HUES64 &lt;dbl&gt; | mESC &lt;dbl&gt; | HUES64_pval &lt;dbl&gt; | mESC_pval &lt;dbl&gt; | HUES64_padj &lt;dbl&gt; | mESC_padj &lt;dbl&gt; |\n",
       "|---|---|---|---|---|---|---|\n",
       "| AAAAAAAAAAAAAAAAACCCTGCAGAGAGCCTGCAAAGTCACTGCCGGAAGTCCCTCCGCGGTGACGAGCACGGCGGAAGTGGGTTCAATGCAGCTCCCCGAAGAACTGTCTCACTCCCGCTCGCCTGACTTCTGGATGGGAGG | 7.2952385 | 6.3159106 | 2.825214e-75 | 1.383066e-42 | 4.596852e-74 | 1.878236e-41 |\n",
       "| AAAAAAAAAAAAAAAGAAAAGAAAAGAAAAAAAAGAAAGGATTGAGGGGAAGTTTCAAAGGGTGTGCCGGGGACCGGGGAAGAGTCTCATTCTCATGAGTCAGCGGATCCGGCCCAGTGTGACTTCACTGCTTCCCCAGAAGAG | 1.3267957 | 1.3488240 | 1.451021e-01 | 2.326515e-01 | 3.319934e-01 | 5.455262e-01 |\n",
       "| AAAAAAAAAAAAGAGGAGAAATAGATTGTTACCTTATATTATTTAAACTTTCAAATGTGCTAGGGTTCCTGGAATTTGGAGAGGGAACCGAAAGGGTTTTATGGTTCTTGGGAGACAGCAGAGCACAAAGAGCCAGGGGGTGGA | 0.9771642 | 1.5489158 | 4.814953e-01 | 1.057092e-01 | 7.164347e-01 | 3.127558e-01 |\n",
       "| AAAAAAAAAACCGGCAAAATGTCCTTTTCCTTGTTTTGAAAAGACTGGAAAATTCATCCCTGCAACCTTCCCTCCCATTTCACTGGTCAGAGTAAAAATTGGAAGTAGGAAAATTAGTACCACCACATCCTTTGAGTCAGAGAC | 0.9761269 | 0.8181706 | 4.826910e-01 | 7.414048e-01 | 7.167637e-01 | 8.145300e-01 |\n",
       "| AAAAAAAAAGGCCACGCTCAAAACCCCAGACTAGTTTTCCTCACCAGATTCTGATGGGACGATGTCTCAGTAGCACCGCCAATGTGTGTGTAATTGACTGATCCAGTCAGTAGGGGGCCTGACTCCACAACGTTCAAGAGAATC | 1.3239991 | 1.4571282 | 1.469545e-01 | 1.559242e-01 | 3.356231e-01 | 4.172106e-01 |\n",
       "| AAAAAAAAATGAGAAGTGTTTAAGACAGCGCAACATTACAATAGAATATTGCCTTGTTTTCTTTCTGGTTCTTCTGTCTCACAGAAATTTCTGTAAGTTCACTCCCTCAGAGGGGAAAAGGCAAGGACACAAGCAAGAGAATGA | 1.1364331 | 1.0491923 | 3.060530e-01 | 5.190788e-01 | 5.653348e-01 | 7.528672e-01 |\n",
       "\n"
      ],
      "text/plain": [
       "                                                                                                                                                 HUES64   \n",
       "AAAAAAAAAAAAAAAAACCCTGCAGAGAGCCTGCAAAGTCACTGCCGGAAGTCCCTCCGCGGTGACGAGCACGGCGGAAGTGGGTTCAATGCAGCTCCCCGAAGAACTGTCTCACTCCCGCTCGCCTGACTTCTGGATGGGAGG 7.2952385\n",
       "AAAAAAAAAAAAAAAGAAAAGAAAAGAAAAAAAAGAAAGGATTGAGGGGAAGTTTCAAAGGGTGTGCCGGGGACCGGGGAAGAGTCTCATTCTCATGAGTCAGCGGATCCGGCCCAGTGTGACTTCACTGCTTCCCCAGAAGAG 1.3267957\n",
       "AAAAAAAAAAAAGAGGAGAAATAGATTGTTACCTTATATTATTTAAACTTTCAAATGTGCTAGGGTTCCTGGAATTTGGAGAGGGAACCGAAAGGGTTTTATGGTTCTTGGGAGACAGCAGAGCACAAAGAGCCAGGGGGTGGA 0.9771642\n",
       "AAAAAAAAAACCGGCAAAATGTCCTTTTCCTTGTTTTGAAAAGACTGGAAAATTCATCCCTGCAACCTTCCCTCCCATTTCACTGGTCAGAGTAAAAATTGGAAGTAGGAAAATTAGTACCACCACATCCTTTGAGTCAGAGAC 0.9761269\n",
       "AAAAAAAAAGGCCACGCTCAAAACCCCAGACTAGTTTTCCTCACCAGATTCTGATGGGACGATGTCTCAGTAGCACCGCCAATGTGTGTGTAATTGACTGATCCAGTCAGTAGGGGGCCTGACTCCACAACGTTCAAGAGAATC 1.3239991\n",
       "AAAAAAAAATGAGAAGTGTTTAAGACAGCGCAACATTACAATAGAATATTGCCTTGTTTTCTTTCTGGTTCTTCTGTCTCACAGAAATTTCTGTAAGTTCACTCCCTCAGAGGGGAAAAGGCAAGGACACAAGCAAGAGAATGA 1.1364331\n",
       "                                                                                                                                                 mESC     \n",
       "AAAAAAAAAAAAAAAAACCCTGCAGAGAGCCTGCAAAGTCACTGCCGGAAGTCCCTCCGCGGTGACGAGCACGGCGGAAGTGGGTTCAATGCAGCTCCCCGAAGAACTGTCTCACTCCCGCTCGCCTGACTTCTGGATGGGAGG 6.3159106\n",
       "AAAAAAAAAAAAAAAGAAAAGAAAAGAAAAAAAAGAAAGGATTGAGGGGAAGTTTCAAAGGGTGTGCCGGGGACCGGGGAAGAGTCTCATTCTCATGAGTCAGCGGATCCGGCCCAGTGTGACTTCACTGCTTCCCCAGAAGAG 1.3488240\n",
       "AAAAAAAAAAAAGAGGAGAAATAGATTGTTACCTTATATTATTTAAACTTTCAAATGTGCTAGGGTTCCTGGAATTTGGAGAGGGAACCGAAAGGGTTTTATGGTTCTTGGGAGACAGCAGAGCACAAAGAGCCAGGGGGTGGA 1.5489158\n",
       "AAAAAAAAAACCGGCAAAATGTCCTTTTCCTTGTTTTGAAAAGACTGGAAAATTCATCCCTGCAACCTTCCCTCCCATTTCACTGGTCAGAGTAAAAATTGGAAGTAGGAAAATTAGTACCACCACATCCTTTGAGTCAGAGAC 0.8181706\n",
       "AAAAAAAAAGGCCACGCTCAAAACCCCAGACTAGTTTTCCTCACCAGATTCTGATGGGACGATGTCTCAGTAGCACCGCCAATGTGTGTGTAATTGACTGATCCAGTCAGTAGGGGGCCTGACTCCACAACGTTCAAGAGAATC 1.4571282\n",
       "AAAAAAAAATGAGAAGTGTTTAAGACAGCGCAACATTACAATAGAATATTGCCTTGTTTTCTTTCTGGTTCTTCTGTCTCACAGAAATTTCTGTAAGTTCACTCCCTCAGAGGGGAAAAGGCAAGGACACAAGCAAGAGAATGA 1.0491923\n",
       "                                                                                                                                                 HUES64_pval \n",
       "AAAAAAAAAAAAAAAAACCCTGCAGAGAGCCTGCAAAGTCACTGCCGGAAGTCCCTCCGCGGTGACGAGCACGGCGGAAGTGGGTTCAATGCAGCTCCCCGAAGAACTGTCTCACTCCCGCTCGCCTGACTTCTGGATGGGAGG 2.825214e-75\n",
       "AAAAAAAAAAAAAAAGAAAAGAAAAGAAAAAAAAGAAAGGATTGAGGGGAAGTTTCAAAGGGTGTGCCGGGGACCGGGGAAGAGTCTCATTCTCATGAGTCAGCGGATCCGGCCCAGTGTGACTTCACTGCTTCCCCAGAAGAG 1.451021e-01\n",
       "AAAAAAAAAAAAGAGGAGAAATAGATTGTTACCTTATATTATTTAAACTTTCAAATGTGCTAGGGTTCCTGGAATTTGGAGAGGGAACCGAAAGGGTTTTATGGTTCTTGGGAGACAGCAGAGCACAAAGAGCCAGGGGGTGGA 4.814953e-01\n",
       "AAAAAAAAAACCGGCAAAATGTCCTTTTCCTTGTTTTGAAAAGACTGGAAAATTCATCCCTGCAACCTTCCCTCCCATTTCACTGGTCAGAGTAAAAATTGGAAGTAGGAAAATTAGTACCACCACATCCTTTGAGTCAGAGAC 4.826910e-01\n",
       "AAAAAAAAAGGCCACGCTCAAAACCCCAGACTAGTTTTCCTCACCAGATTCTGATGGGACGATGTCTCAGTAGCACCGCCAATGTGTGTGTAATTGACTGATCCAGTCAGTAGGGGGCCTGACTCCACAACGTTCAAGAGAATC 1.469545e-01\n",
       "AAAAAAAAATGAGAAGTGTTTAAGACAGCGCAACATTACAATAGAATATTGCCTTGTTTTCTTTCTGGTTCTTCTGTCTCACAGAAATTTCTGTAAGTTCACTCCCTCAGAGGGGAAAAGGCAAGGACACAAGCAAGAGAATGA 3.060530e-01\n",
       "                                                                                                                                                 mESC_pval   \n",
       "AAAAAAAAAAAAAAAAACCCTGCAGAGAGCCTGCAAAGTCACTGCCGGAAGTCCCTCCGCGGTGACGAGCACGGCGGAAGTGGGTTCAATGCAGCTCCCCGAAGAACTGTCTCACTCCCGCTCGCCTGACTTCTGGATGGGAGG 1.383066e-42\n",
       "AAAAAAAAAAAAAAAGAAAAGAAAAGAAAAAAAAGAAAGGATTGAGGGGAAGTTTCAAAGGGTGTGCCGGGGACCGGGGAAGAGTCTCATTCTCATGAGTCAGCGGATCCGGCCCAGTGTGACTTCACTGCTTCCCCAGAAGAG 2.326515e-01\n",
       "AAAAAAAAAAAAGAGGAGAAATAGATTGTTACCTTATATTATTTAAACTTTCAAATGTGCTAGGGTTCCTGGAATTTGGAGAGGGAACCGAAAGGGTTTTATGGTTCTTGGGAGACAGCAGAGCACAAAGAGCCAGGGGGTGGA 1.057092e-01\n",
       "AAAAAAAAAACCGGCAAAATGTCCTTTTCCTTGTTTTGAAAAGACTGGAAAATTCATCCCTGCAACCTTCCCTCCCATTTCACTGGTCAGAGTAAAAATTGGAAGTAGGAAAATTAGTACCACCACATCCTTTGAGTCAGAGAC 7.414048e-01\n",
       "AAAAAAAAAGGCCACGCTCAAAACCCCAGACTAGTTTTCCTCACCAGATTCTGATGGGACGATGTCTCAGTAGCACCGCCAATGTGTGTGTAATTGACTGATCCAGTCAGTAGGGGGCCTGACTCCACAACGTTCAAGAGAATC 1.559242e-01\n",
       "AAAAAAAAATGAGAAGTGTTTAAGACAGCGCAACATTACAATAGAATATTGCCTTGTTTTCTTTCTGGTTCTTCTGTCTCACAGAAATTTCTGTAAGTTCACTCCCTCAGAGGGGAAAAGGCAAGGACACAAGCAAGAGAATGA 5.190788e-01\n",
       "                                                                                                                                                 HUES64_padj \n",
       "AAAAAAAAAAAAAAAAACCCTGCAGAGAGCCTGCAAAGTCACTGCCGGAAGTCCCTCCGCGGTGACGAGCACGGCGGAAGTGGGTTCAATGCAGCTCCCCGAAGAACTGTCTCACTCCCGCTCGCCTGACTTCTGGATGGGAGG 4.596852e-74\n",
       "AAAAAAAAAAAAAAAGAAAAGAAAAGAAAAAAAAGAAAGGATTGAGGGGAAGTTTCAAAGGGTGTGCCGGGGACCGGGGAAGAGTCTCATTCTCATGAGTCAGCGGATCCGGCCCAGTGTGACTTCACTGCTTCCCCAGAAGAG 3.319934e-01\n",
       "AAAAAAAAAAAAGAGGAGAAATAGATTGTTACCTTATATTATTTAAACTTTCAAATGTGCTAGGGTTCCTGGAATTTGGAGAGGGAACCGAAAGGGTTTTATGGTTCTTGGGAGACAGCAGAGCACAAAGAGCCAGGGGGTGGA 7.164347e-01\n",
       "AAAAAAAAAACCGGCAAAATGTCCTTTTCCTTGTTTTGAAAAGACTGGAAAATTCATCCCTGCAACCTTCCCTCCCATTTCACTGGTCAGAGTAAAAATTGGAAGTAGGAAAATTAGTACCACCACATCCTTTGAGTCAGAGAC 7.167637e-01\n",
       "AAAAAAAAAGGCCACGCTCAAAACCCCAGACTAGTTTTCCTCACCAGATTCTGATGGGACGATGTCTCAGTAGCACCGCCAATGTGTGTGTAATTGACTGATCCAGTCAGTAGGGGGCCTGACTCCACAACGTTCAAGAGAATC 3.356231e-01\n",
       "AAAAAAAAATGAGAAGTGTTTAAGACAGCGCAACATTACAATAGAATATTGCCTTGTTTTCTTTCTGGTTCTTCTGTCTCACAGAAATTTCTGTAAGTTCACTCCCTCAGAGGGGAAAAGGCAAGGACACAAGCAAGAGAATGA 5.653348e-01\n",
       "                                                                                                                                                 mESC_padj   \n",
       "AAAAAAAAAAAAAAAAACCCTGCAGAGAGCCTGCAAAGTCACTGCCGGAAGTCCCTCCGCGGTGACGAGCACGGCGGAAGTGGGTTCAATGCAGCTCCCCGAAGAACTGTCTCACTCCCGCTCGCCTGACTTCTGGATGGGAGG 1.878236e-41\n",
       "AAAAAAAAAAAAAAAGAAAAGAAAAGAAAAAAAAGAAAGGATTGAGGGGAAGTTTCAAAGGGTGTGCCGGGGACCGGGGAAGAGTCTCATTCTCATGAGTCAGCGGATCCGGCCCAGTGTGACTTCACTGCTTCCCCAGAAGAG 5.455262e-01\n",
       "AAAAAAAAAAAAGAGGAGAAATAGATTGTTACCTTATATTATTTAAACTTTCAAATGTGCTAGGGTTCCTGGAATTTGGAGAGGGAACCGAAAGGGTTTTATGGTTCTTGGGAGACAGCAGAGCACAAAGAGCCAGGGGGTGGA 3.127558e-01\n",
       "AAAAAAAAAACCGGCAAAATGTCCTTTTCCTTGTTTTGAAAAGACTGGAAAATTCATCCCTGCAACCTTCCCTCCCATTTCACTGGTCAGAGTAAAAATTGGAAGTAGGAAAATTAGTACCACCACATCCTTTGAGTCAGAGAC 8.145300e-01\n",
       "AAAAAAAAAGGCCACGCTCAAAACCCCAGACTAGTTTTCCTCACCAGATTCTGATGGGACGATGTCTCAGTAGCACCGCCAATGTGTGTGTAATTGACTGATCCAGTCAGTAGGGGGCCTGACTCCACAACGTTCAAGAGAATC 4.172106e-01\n",
       "AAAAAAAAATGAGAAGTGTTTAAGACAGCGCAACATTACAATAGAATATTGCCTTGTTTTCTTTCTGGTTCTTCTGTCTCACAGAAATTTCTGTAAGTTCACTCCCTCAGAGGGGAAAAGGCAAGGACACAAGCAAGAGAATGA 7.528672e-01"
      ]
     },
     "metadata": {},
     "output_type": "display_data"
    }
   ],
   "source": [
    "# correct for multiple testing\n",
    "alpha$HUES64_padj <- p.adjust(alpha$HUES64_pval, method = \"fdr\")\n",
    "alpha$mESC_padj <- p.adjust(alpha$mESC_pval, method = \"fdr\")\n",
    "head(alpha)"
   ]
  },
  {
   "cell_type": "code",
   "execution_count": 40,
   "metadata": {},
   "outputs": [
    {
     "data": {
      "image/png": "[encoded data removed]",
      "text/plain": [
       "Plot with title “Histogram of alpha[ctrls, ]$HUES64”"
      ]
     },
     "metadata": {},
     "output_type": "display_data"
    }
   ],
   "source": [
    "hist(alpha[ctrls,]$HUES64)"
   ]
  },
  {
   "cell_type": "code",
   "execution_count": 41,
   "metadata": {},
   "outputs": [
    {
     "data": {
      "image/png": "[encoded data removed]",
      "text/plain": [
       "Plot with title “Histogram of alpha[ctrls, ]$mESC”"
      ]
     },
     "metadata": {},
     "output_type": "display_data"
    }
   ],
   "source": [
    "hist(alpha[ctrls,]$mESC)"
   ]
  },
  {
   "cell_type": "markdown",
   "metadata": {},
   "source": [
    "## 5. write alphas to file"
   ]
  },
  {
   "cell_type": "code",
   "execution_count": 42,
   "metadata": {},
   "outputs": [],
   "source": [
    "write.table(alpha, file = \"../../../data/02__mpra/02__activs/alpha_per_elem.quantification.txt\", sep = \"\\t\",\n",
    "            quote = FALSE)"
   ]
  },
  {
   "cell_type": "code",
   "execution_count": null,
   "metadata": {},
   "outputs": [],
   "source": []
  }
 ],
 "metadata": {
  "kernelspec": {
   "display_name": "R [conda env:r-env]",
   "language": "R",
   "name": "conda-env-r-env-r"
  },
  "language_info": {
   "codemirror_mode": "r",
   "file_extension": ".r",
   "mimetype": "text/x-r-source",
   "name": "R",
   "pygments_lexer": "r",
   "version": "3.5.1"
  }
 },
 "nbformat": 4,
 "nbformat_minor": 2
}
