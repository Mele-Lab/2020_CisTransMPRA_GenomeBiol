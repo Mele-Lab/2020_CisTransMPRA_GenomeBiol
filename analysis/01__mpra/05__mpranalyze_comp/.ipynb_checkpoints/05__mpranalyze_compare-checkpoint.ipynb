{
 "cells": [
  {
   "cell_type": "markdown",
   "metadata": {},
   "source": [
    "# 05__mpranalyze_compare\n",
    "\n",
    "in this notebook, i run MPRAnalyze in 'compare' mode to get log2 foldchanges and p-values between (a) sequence orthologs and (b) cell types."
   ]
  },
  {
   "cell_type": "code",
   "execution_count": 1,
   "metadata": {},
   "outputs": [],
   "source": [
    "# # install MPRAnalyze\n",
    "# if (!requireNamespace(\"BiocManager\", quietly = TRUE))\n",
    "#   install.packages(\"BiocManager\")\n",
    "# BiocManager::install(\"MPRAnalyze\", version = \"3.8\")"
   ]
  },
  {
   "cell_type": "code",
   "execution_count": 2,
   "metadata": {},
   "outputs": [],
   "source": [
    "# # install RCurl\n",
    "# install.packages(\"RCurl\")"
   ]
  },
  {
   "cell_type": "code",
   "execution_count": 3,
   "metadata": {},
   "outputs": [],
   "source": [
    "# # install biocparallel\n",
    "# if (!requireNamespace(\"BiocManager\", quietly = TRUE))\n",
    "#     install.packages(\"BiocManager\")\n",
    "# BiocManager::install(\"BiocParallel\")"
   ]
  },
  {
   "cell_type": "code",
   "execution_count": 4,
   "metadata": {},
   "outputs": [],
   "source": [
    "# load the package\n",
    "library(MPRAnalyze)\n",
    "library(tidyr)"
   ]
  },
  {
   "cell_type": "code",
   "execution_count": 5,
   "metadata": {},
   "outputs": [],
   "source": [
    "library(BiocParallel)"
   ]
  },
  {
   "cell_type": "markdown",
   "metadata": {},
   "source": [
    "## 1. load data\n",
    "\n",
    "### first load data for library depth correction"
   ]
  },
  {
   "cell_type": "code",
   "execution_count": 6,
   "metadata": {},
   "outputs": [],
   "source": [
    "dna_counts_depth <- read.table(\"../../../data/02__mpra/01__counts/mpranalyze_files/dna_counts.for_depth_estimation.mpranalyze.txt\", sep=\"\\t\", header=TRUE)\n",
    "\n",
    "# since we only have 1 dna replicate -- add another so code doesn't crash (expects matrix)\n",
    "dna_counts_depth[\"dna_2\"] <- dna_counts_depth[\"dna_1\"]\n",
    "\n",
    "row.names(dna_counts_depth) <- dna_counts_depth$element\n",
    "dna_counts_depth <- dna_counts_depth[ , !(names(dna_counts_depth) %in% c(\"element\")), drop=FALSE]\n",
    "dna_counts_depth <- as.matrix(dna_counts_depth)"
   ]
  },
  {
   "cell_type": "code",
   "execution_count": 7,
   "metadata": {},
   "outputs": [],
   "source": [
    "rna_counts_depth <- read.table(\"../../../data/02__mpra/01__counts/mpranalyze_files/rna_counts.for_depth_estimation.mpranalyze.txt\", sep=\"\\t\", header=TRUE)\n",
    "row.names(rna_counts_depth) <- rna_counts_depth$element\n",
    "rna_counts_depth <- rna_counts_depth[ , !(names(rna_counts_depth) %in% c(\"element\")), drop=FALSE]\n",
    "rna_counts_depth <- as.matrix(rna_counts_depth)"
   ]
  },
  {
   "cell_type": "code",
   "execution_count": 8,
   "metadata": {},
   "outputs": [
    {
     "data": {
      "text/html": [
       "<table>\n",
       "<caption>A data.frame: 6 × 3</caption>\n",
       "<thead>\n",
       "\t<tr><th></th><th scope=col>id</th><th scope=col>condition</th><th scope=col>sample</th></tr>\n",
       "\t<tr><th></th><th scope=col>&lt;fct&gt;</th><th scope=col>&lt;fct&gt;</th><th scope=col>&lt;int&gt;</th></tr>\n",
       "</thead>\n",
       "<tbody>\n",
       "\t<tr><th scope=row>HUES64_rep1</th><td>HUES64_rep1</td><td>HUES64</td><td>1</td></tr>\n",
       "\t<tr><th scope=row>HUES64_rep2</th><td>HUES64_rep2</td><td>HUES64</td><td>2</td></tr>\n",
       "\t<tr><th scope=row>HUES64_rep3</th><td>HUES64_rep3</td><td>HUES64</td><td>3</td></tr>\n",
       "\t<tr><th scope=row>mESC_rep1</th><td>mESC_rep1  </td><td>mESC  </td><td>1</td></tr>\n",
       "\t<tr><th scope=row>mESC_rep2</th><td>mESC_rep2  </td><td>mESC  </td><td>2</td></tr>\n",
       "\t<tr><th scope=row>mESC_rep3</th><td>mESC_rep3  </td><td>mESC  </td><td>3</td></tr>\n",
       "</tbody>\n",
       "</table>\n"
      ],
      "text/latex": [
       "A data.frame: 6 × 3\n",
       "\\begin{tabular}{r|lll}\n",
       "  & id & condition & sample\\\\\n",
       "  & <fct> & <fct> & <int>\\\\\n",
       "\\hline\n",
       "\tHUES64\\_rep1 & HUES64\\_rep1 & HUES64 & 1\\\\\n",
       "\tHUES64\\_rep2 & HUES64\\_rep2 & HUES64 & 2\\\\\n",
       "\tHUES64\\_rep3 & HUES64\\_rep3 & HUES64 & 3\\\\\n",
       "\tmESC\\_rep1 & mESC\\_rep1   & mESC   & 1\\\\\n",
       "\tmESC\\_rep2 & mESC\\_rep2   & mESC   & 2\\\\\n",
       "\tmESC\\_rep3 & mESC\\_rep3   & mESC   & 3\\\\\n",
       "\\end{tabular}\n"
      ],
      "text/markdown": [
       "\n",
       "A data.frame: 6 × 3\n",
       "\n",
       "| <!--/--> | id &lt;fct&gt; | condition &lt;fct&gt; | sample &lt;int&gt; |\n",
       "|---|---|---|---|\n",
       "| HUES64_rep1 | HUES64_rep1 | HUES64 | 1 |\n",
       "| HUES64_rep2 | HUES64_rep2 | HUES64 | 2 |\n",
       "| HUES64_rep3 | HUES64_rep3 | HUES64 | 3 |\n",
       "| mESC_rep1 | mESC_rep1   | mESC   | 1 |\n",
       "| mESC_rep2 | mESC_rep2   | mESC   | 2 |\n",
       "| mESC_rep3 | mESC_rep3   | mESC   | 3 |\n",
       "\n"
      ],
      "text/plain": [
       "            id          condition sample\n",
       "HUES64_rep1 HUES64_rep1 HUES64    1     \n",
       "HUES64_rep2 HUES64_rep2 HUES64    2     \n",
       "HUES64_rep3 HUES64_rep3 HUES64    3     \n",
       "mESC_rep1   mESC_rep1   mESC      1     \n",
       "mESC_rep2   mESC_rep2   mESC      2     \n",
       "mESC_rep3   mESC_rep3   mESC      3     "
      ]
     },
     "metadata": {},
     "output_type": "display_data"
    }
   ],
   "source": [
    "dna_cols_depth <- read.table(\"../../../data/02__mpra/01__counts/mpranalyze_files/dna_col_ann.for_depth_estimation.mpranalyze.txt\", sep=\"\\t\", header=TRUE)\n",
    "names(dna_cols_depth) <- c(\"id\", \"condition\", \"sample\")\n",
    "\n",
    "# add second row to dna_cols_depth\n",
    "row2 <- data.frame(id=\"dna_2\", condition=\"dna\", sample=\"2\")\n",
    "dna_cols_depth <- rbind(dna_cols_depth, row2)\n",
    "row.names(dna_cols_depth) <- dna_cols_depth$id\n",
    "\n",
    "rna_cols_depth <- read.table(\"../../../data/02__mpra/01__counts/mpranalyze_files/rna_col_ann.for_depth_estimation.mpranalyze.txt\", sep=\"\\t\", header=TRUE)\n",
    "names(rna_cols_depth) <- c(\"id\", \"condition\", \"sample\")\n",
    "row.names(rna_cols_depth) <- rna_cols_depth$id\n",
    "rna_cols_depth"
   ]
  },
  {
   "cell_type": "code",
   "execution_count": 9,
   "metadata": {},
   "outputs": [
    {
     "data": {
      "text/html": [
       "<table>\n",
       "<caption>A data.frame: 6 × 3</caption>\n",
       "<thead>\n",
       "\t<tr><th></th><th scope=col>id</th><th scope=col>condition</th><th scope=col>sample</th></tr>\n",
       "\t<tr><th></th><th scope=col>&lt;fct&gt;</th><th scope=col>&lt;fct&gt;</th><th scope=col>&lt;fct&gt;</th></tr>\n",
       "</thead>\n",
       "<tbody>\n",
       "\t<tr><th scope=row>HUES64_rep1</th><td>HUES64_rep1</td><td>HUES64</td><td>1</td></tr>\n",
       "\t<tr><th scope=row>HUES64_rep2</th><td>HUES64_rep2</td><td>HUES64</td><td>2</td></tr>\n",
       "\t<tr><th scope=row>HUES64_rep3</th><td>HUES64_rep3</td><td>HUES64</td><td>3</td></tr>\n",
       "\t<tr><th scope=row>mESC_rep1</th><td>mESC_rep1  </td><td>mESC  </td><td>1</td></tr>\n",
       "\t<tr><th scope=row>mESC_rep2</th><td>mESC_rep2  </td><td>mESC  </td><td>2</td></tr>\n",
       "\t<tr><th scope=row>mESC_rep3</th><td>mESC_rep3  </td><td>mESC  </td><td>3</td></tr>\n",
       "</tbody>\n",
       "</table>\n"
      ],
      "text/latex": [
       "A data.frame: 6 × 3\n",
       "\\begin{tabular}{r|lll}\n",
       "  & id & condition & sample\\\\\n",
       "  & <fct> & <fct> & <fct>\\\\\n",
       "\\hline\n",
       "\tHUES64\\_rep1 & HUES64\\_rep1 & HUES64 & 1\\\\\n",
       "\tHUES64\\_rep2 & HUES64\\_rep2 & HUES64 & 2\\\\\n",
       "\tHUES64\\_rep3 & HUES64\\_rep3 & HUES64 & 3\\\\\n",
       "\tmESC\\_rep1 & mESC\\_rep1   & mESC   & 1\\\\\n",
       "\tmESC\\_rep2 & mESC\\_rep2   & mESC   & 2\\\\\n",
       "\tmESC\\_rep3 & mESC\\_rep3   & mESC   & 3\\\\\n",
       "\\end{tabular}\n"
      ],
      "text/markdown": [
       "\n",
       "A data.frame: 6 × 3\n",
       "\n",
       "| <!--/--> | id &lt;fct&gt; | condition &lt;fct&gt; | sample &lt;fct&gt; |\n",
       "|---|---|---|---|\n",
       "| HUES64_rep1 | HUES64_rep1 | HUES64 | 1 |\n",
       "| HUES64_rep2 | HUES64_rep2 | HUES64 | 2 |\n",
       "| HUES64_rep3 | HUES64_rep3 | HUES64 | 3 |\n",
       "| mESC_rep1 | mESC_rep1   | mESC   | 1 |\n",
       "| mESC_rep2 | mESC_rep2   | mESC   | 2 |\n",
       "| mESC_rep3 | mESC_rep3   | mESC   | 3 |\n",
       "\n"
      ],
      "text/plain": [
       "            id          condition sample\n",
       "HUES64_rep1 HUES64_rep1 HUES64    1     \n",
       "HUES64_rep2 HUES64_rep2 HUES64    2     \n",
       "HUES64_rep3 HUES64_rep3 HUES64    3     \n",
       "mESC_rep1   mESC_rep1   mESC      1     \n",
       "mESC_rep2   mESC_rep2   mESC      2     \n",
       "mESC_rep3   mESC_rep3   mESC      3     "
      ]
     },
     "metadata": {},
     "output_type": "display_data"
    }
   ],
   "source": [
    "# make sure everything is a factor\n",
    "dna_cols_depth$condition <- as.factor(dna_cols_depth$condition)\n",
    "rna_cols_depth$condition <- as.factor(rna_cols_depth$condition)\n",
    "rna_cols_depth$sample <- as.factor(rna_cols_depth$sample)\n",
    "rna_cols_depth"
   ]
  },
  {
   "cell_type": "markdown",
   "metadata": {},
   "source": [
    "### then data to model: first, DNA (same for all models)"
   ]
  },
  {
   "cell_type": "code",
   "execution_count": 10,
   "metadata": {},
   "outputs": [],
   "source": [
    "all_comp_dna_counts <- read.table(\"../../../data/02__mpra/01__counts/mpranalyze_files/dna_counts.all_comp.mpranalyze.txt\", sep=\"\\t\", header=TRUE)\n",
    "row.names(all_comp_dna_counts) <- all_comp_dna_counts$comp_id\n",
    "all_comp_dna_counts <- all_comp_dna_counts[ , !(names(all_comp_dna_counts) %in% c(\"comp_id\"))]\n",
    "all_comp_dna_counts <- as.matrix(all_comp_dna_counts)"
   ]
  },
  {
   "cell_type": "code",
   "execution_count": 11,
   "metadata": {},
   "outputs": [
    {
     "data": {
      "text/html": [
       "<table>\n",
       "<caption>A data.frame: 6 × 4</caption>\n",
       "<thead>\n",
       "\t<tr><th></th><th scope=col>X</th><th scope=col>condition</th><th scope=col>barcode</th><th scope=col>seq</th></tr>\n",
       "\t<tr><th></th><th scope=col>&lt;fct&gt;</th><th scope=col>&lt;fct&gt;</th><th scope=col>&lt;int&gt;</th><th scope=col>&lt;fct&gt;</th></tr>\n",
       "</thead>\n",
       "<tbody>\n",
       "\t<tr><th scope=row>samp:dna_1__barc:10___seq:human</th><td>samp:dna_1__barc:10___seq:human</td><td>dna</td><td>10</td><td>human</td></tr>\n",
       "\t<tr><th scope=row>samp:dna_1__barc:10___seq:mouse</th><td>samp:dna_1__barc:10___seq:mouse</td><td>dna</td><td>10</td><td>mouse</td></tr>\n",
       "\t<tr><th scope=row>samp:dna_1__barc:11___seq:human</th><td>samp:dna_1__barc:11___seq:human</td><td>dna</td><td>11</td><td>human</td></tr>\n",
       "\t<tr><th scope=row>samp:dna_1__barc:11___seq:mouse</th><td>samp:dna_1__barc:11___seq:mouse</td><td>dna</td><td>11</td><td>mouse</td></tr>\n",
       "\t<tr><th scope=row>samp:dna_1__barc:12___seq:human</th><td>samp:dna_1__barc:12___seq:human</td><td>dna</td><td>12</td><td>human</td></tr>\n",
       "\t<tr><th scope=row>samp:dna_1__barc:12___seq:mouse</th><td>samp:dna_1__barc:12___seq:mouse</td><td>dna</td><td>12</td><td>mouse</td></tr>\n",
       "</tbody>\n",
       "</table>\n"
      ],
      "text/latex": [
       "A data.frame: 6 × 4\n",
       "\\begin{tabular}{r|llll}\n",
       "  & X & condition & barcode & seq\\\\\n",
       "  & <fct> & <fct> & <int> & <fct>\\\\\n",
       "\\hline\n",
       "\tsamp:dna\\_1\\_\\_barc:10\\_\\_\\_seq:human & samp:dna\\_1\\_\\_barc:10\\_\\_\\_seq:human & dna & 10 & human\\\\\n",
       "\tsamp:dna\\_1\\_\\_barc:10\\_\\_\\_seq:mouse & samp:dna\\_1\\_\\_barc:10\\_\\_\\_seq:mouse & dna & 10 & mouse\\\\\n",
       "\tsamp:dna\\_1\\_\\_barc:11\\_\\_\\_seq:human & samp:dna\\_1\\_\\_barc:11\\_\\_\\_seq:human & dna & 11 & human\\\\\n",
       "\tsamp:dna\\_1\\_\\_barc:11\\_\\_\\_seq:mouse & samp:dna\\_1\\_\\_barc:11\\_\\_\\_seq:mouse & dna & 11 & mouse\\\\\n",
       "\tsamp:dna\\_1\\_\\_barc:12\\_\\_\\_seq:human & samp:dna\\_1\\_\\_barc:12\\_\\_\\_seq:human & dna & 12 & human\\\\\n",
       "\tsamp:dna\\_1\\_\\_barc:12\\_\\_\\_seq:mouse & samp:dna\\_1\\_\\_barc:12\\_\\_\\_seq:mouse & dna & 12 & mouse\\\\\n",
       "\\end{tabular}\n"
      ],
      "text/markdown": [
       "\n",
       "A data.frame: 6 × 4\n",
       "\n",
       "| <!--/--> | X &lt;fct&gt; | condition &lt;fct&gt; | barcode &lt;int&gt; | seq &lt;fct&gt; |\n",
       "|---|---|---|---|---|\n",
       "| samp:dna_1__barc:10___seq:human | samp:dna_1__barc:10___seq:human | dna | 10 | human |\n",
       "| samp:dna_1__barc:10___seq:mouse | samp:dna_1__barc:10___seq:mouse | dna | 10 | mouse |\n",
       "| samp:dna_1__barc:11___seq:human | samp:dna_1__barc:11___seq:human | dna | 11 | human |\n",
       "| samp:dna_1__barc:11___seq:mouse | samp:dna_1__barc:11___seq:mouse | dna | 11 | mouse |\n",
       "| samp:dna_1__barc:12___seq:human | samp:dna_1__barc:12___seq:human | dna | 12 | human |\n",
       "| samp:dna_1__barc:12___seq:mouse | samp:dna_1__barc:12___seq:mouse | dna | 12 | mouse |\n",
       "\n"
      ],
      "text/plain": [
       "                                X                               condition\n",
       "samp:dna_1__barc:10___seq:human samp:dna_1__barc:10___seq:human dna      \n",
       "samp:dna_1__barc:10___seq:mouse samp:dna_1__barc:10___seq:mouse dna      \n",
       "samp:dna_1__barc:11___seq:human samp:dna_1__barc:11___seq:human dna      \n",
       "samp:dna_1__barc:11___seq:mouse samp:dna_1__barc:11___seq:mouse dna      \n",
       "samp:dna_1__barc:12___seq:human samp:dna_1__barc:12___seq:human dna      \n",
       "samp:dna_1__barc:12___seq:mouse samp:dna_1__barc:12___seq:mouse dna      \n",
       "                                barcode seq  \n",
       "samp:dna_1__barc:10___seq:human 10      human\n",
       "samp:dna_1__barc:10___seq:mouse 10      mouse\n",
       "samp:dna_1__barc:11___seq:human 11      human\n",
       "samp:dna_1__barc:11___seq:mouse 11      mouse\n",
       "samp:dna_1__barc:12___seq:human 12      human\n",
       "samp:dna_1__barc:12___seq:mouse 12      mouse"
      ]
     },
     "metadata": {},
     "output_type": "display_data"
    }
   ],
   "source": [
    "all_comp_dna_cols <- read.table(\"../../../data/02__mpra/01__counts/mpranalyze_files/dna_col_ann.all_comp.mpranalyze.txt\", sep=\"\\t\", header=TRUE)\n",
    "row.names(all_comp_dna_cols) <- all_comp_dna_cols$X\n",
    "head(all_comp_dna_cols)"
   ]
  },
  {
   "cell_type": "code",
   "execution_count": 12,
   "metadata": {},
   "outputs": [
    {
     "data": {
      "text/html": [
       "<table>\n",
       "<caption>A data.frame: 26 × 4</caption>\n",
       "<thead>\n",
       "\t<tr><th></th><th scope=col>X</th><th scope=col>condition</th><th scope=col>barcode</th><th scope=col>seq</th></tr>\n",
       "\t<tr><th></th><th scope=col>&lt;fct&gt;</th><th scope=col>&lt;fct&gt;</th><th scope=col>&lt;fct&gt;</th><th scope=col>&lt;fct&gt;</th></tr>\n",
       "</thead>\n",
       "<tbody>\n",
       "\t<tr><th scope=row>samp:dna_1__barc:10___seq:human</th><td>samp:dna_1__barc:10___seq:human</td><td>dna</td><td>10</td><td>human</td></tr>\n",
       "\t<tr><th scope=row>samp:dna_1__barc:10___seq:mouse</th><td>samp:dna_1__barc:10___seq:mouse</td><td>dna</td><td>10</td><td>mouse</td></tr>\n",
       "\t<tr><th scope=row>samp:dna_1__barc:11___seq:human</th><td>samp:dna_1__barc:11___seq:human</td><td>dna</td><td>11</td><td>human</td></tr>\n",
       "\t<tr><th scope=row>samp:dna_1__barc:11___seq:mouse</th><td>samp:dna_1__barc:11___seq:mouse</td><td>dna</td><td>11</td><td>mouse</td></tr>\n",
       "\t<tr><th scope=row>samp:dna_1__barc:12___seq:human</th><td>samp:dna_1__barc:12___seq:human</td><td>dna</td><td>12</td><td>human</td></tr>\n",
       "\t<tr><th scope=row>samp:dna_1__barc:12___seq:mouse</th><td>samp:dna_1__barc:12___seq:mouse</td><td>dna</td><td>12</td><td>mouse</td></tr>\n",
       "\t<tr><th scope=row>samp:dna_1__barc:13___seq:human</th><td>samp:dna_1__barc:13___seq:human</td><td>dna</td><td>13</td><td>human</td></tr>\n",
       "\t<tr><th scope=row>samp:dna_1__barc:13___seq:mouse</th><td>samp:dna_1__barc:13___seq:mouse</td><td>dna</td><td>13</td><td>mouse</td></tr>\n",
       "\t<tr><th scope=row>samp:dna_1__barc:1___seq:human</th><td>samp:dna_1__barc:1___seq:human </td><td>dna</td><td>1 </td><td>human</td></tr>\n",
       "\t<tr><th scope=row>samp:dna_1__barc:1___seq:mouse</th><td>samp:dna_1__barc:1___seq:mouse </td><td>dna</td><td>1 </td><td>mouse</td></tr>\n",
       "\t<tr><th scope=row>samp:dna_1__barc:2___seq:human</th><td>samp:dna_1__barc:2___seq:human </td><td>dna</td><td>2 </td><td>human</td></tr>\n",
       "\t<tr><th scope=row>samp:dna_1__barc:2___seq:mouse</th><td>samp:dna_1__barc:2___seq:mouse </td><td>dna</td><td>2 </td><td>mouse</td></tr>\n",
       "\t<tr><th scope=row>samp:dna_1__barc:3___seq:human</th><td>samp:dna_1__barc:3___seq:human </td><td>dna</td><td>3 </td><td>human</td></tr>\n",
       "\t<tr><th scope=row>samp:dna_1__barc:3___seq:mouse</th><td>samp:dna_1__barc:3___seq:mouse </td><td>dna</td><td>3 </td><td>mouse</td></tr>\n",
       "\t<tr><th scope=row>samp:dna_1__barc:4___seq:human</th><td>samp:dna_1__barc:4___seq:human </td><td>dna</td><td>4 </td><td>human</td></tr>\n",
       "\t<tr><th scope=row>samp:dna_1__barc:4___seq:mouse</th><td>samp:dna_1__barc:4___seq:mouse </td><td>dna</td><td>4 </td><td>mouse</td></tr>\n",
       "\t<tr><th scope=row>samp:dna_1__barc:5___seq:human</th><td>samp:dna_1__barc:5___seq:human </td><td>dna</td><td>5 </td><td>human</td></tr>\n",
       "\t<tr><th scope=row>samp:dna_1__barc:5___seq:mouse</th><td>samp:dna_1__barc:5___seq:mouse </td><td>dna</td><td>5 </td><td>mouse</td></tr>\n",
       "\t<tr><th scope=row>samp:dna_1__barc:6___seq:human</th><td>samp:dna_1__barc:6___seq:human </td><td>dna</td><td>6 </td><td>human</td></tr>\n",
       "\t<tr><th scope=row>samp:dna_1__barc:6___seq:mouse</th><td>samp:dna_1__barc:6___seq:mouse </td><td>dna</td><td>6 </td><td>mouse</td></tr>\n",
       "\t<tr><th scope=row>samp:dna_1__barc:7___seq:human</th><td>samp:dna_1__barc:7___seq:human </td><td>dna</td><td>7 </td><td>human</td></tr>\n",
       "\t<tr><th scope=row>samp:dna_1__barc:7___seq:mouse</th><td>samp:dna_1__barc:7___seq:mouse </td><td>dna</td><td>7 </td><td>mouse</td></tr>\n",
       "\t<tr><th scope=row>samp:dna_1__barc:8___seq:human</th><td>samp:dna_1__barc:8___seq:human </td><td>dna</td><td>8 </td><td>human</td></tr>\n",
       "\t<tr><th scope=row>samp:dna_1__barc:8___seq:mouse</th><td>samp:dna_1__barc:8___seq:mouse </td><td>dna</td><td>8 </td><td>mouse</td></tr>\n",
       "\t<tr><th scope=row>samp:dna_1__barc:9___seq:human</th><td>samp:dna_1__barc:9___seq:human </td><td>dna</td><td>9 </td><td>human</td></tr>\n",
       "\t<tr><th scope=row>samp:dna_1__barc:9___seq:mouse</th><td>samp:dna_1__barc:9___seq:mouse </td><td>dna</td><td>9 </td><td>mouse</td></tr>\n",
       "</tbody>\n",
       "</table>\n"
      ],
      "text/latex": [
       "A data.frame: 26 × 4\n",
       "\\begin{tabular}{r|llll}\n",
       "  & X & condition & barcode & seq\\\\\n",
       "  & <fct> & <fct> & <fct> & <fct>\\\\\n",
       "\\hline\n",
       "\tsamp:dna\\_1\\_\\_barc:10\\_\\_\\_seq:human & samp:dna\\_1\\_\\_barc:10\\_\\_\\_seq:human & dna & 10 & human\\\\\n",
       "\tsamp:dna\\_1\\_\\_barc:10\\_\\_\\_seq:mouse & samp:dna\\_1\\_\\_barc:10\\_\\_\\_seq:mouse & dna & 10 & mouse\\\\\n",
       "\tsamp:dna\\_1\\_\\_barc:11\\_\\_\\_seq:human & samp:dna\\_1\\_\\_barc:11\\_\\_\\_seq:human & dna & 11 & human\\\\\n",
       "\tsamp:dna\\_1\\_\\_barc:11\\_\\_\\_seq:mouse & samp:dna\\_1\\_\\_barc:11\\_\\_\\_seq:mouse & dna & 11 & mouse\\\\\n",
       "\tsamp:dna\\_1\\_\\_barc:12\\_\\_\\_seq:human & samp:dna\\_1\\_\\_barc:12\\_\\_\\_seq:human & dna & 12 & human\\\\\n",
       "\tsamp:dna\\_1\\_\\_barc:12\\_\\_\\_seq:mouse & samp:dna\\_1\\_\\_barc:12\\_\\_\\_seq:mouse & dna & 12 & mouse\\\\\n",
       "\tsamp:dna\\_1\\_\\_barc:13\\_\\_\\_seq:human & samp:dna\\_1\\_\\_barc:13\\_\\_\\_seq:human & dna & 13 & human\\\\\n",
       "\tsamp:dna\\_1\\_\\_barc:13\\_\\_\\_seq:mouse & samp:dna\\_1\\_\\_barc:13\\_\\_\\_seq:mouse & dna & 13 & mouse\\\\\n",
       "\tsamp:dna\\_1\\_\\_barc:1\\_\\_\\_seq:human & samp:dna\\_1\\_\\_barc:1\\_\\_\\_seq:human  & dna & 1  & human\\\\\n",
       "\tsamp:dna\\_1\\_\\_barc:1\\_\\_\\_seq:mouse & samp:dna\\_1\\_\\_barc:1\\_\\_\\_seq:mouse  & dna & 1  & mouse\\\\\n",
       "\tsamp:dna\\_1\\_\\_barc:2\\_\\_\\_seq:human & samp:dna\\_1\\_\\_barc:2\\_\\_\\_seq:human  & dna & 2  & human\\\\\n",
       "\tsamp:dna\\_1\\_\\_barc:2\\_\\_\\_seq:mouse & samp:dna\\_1\\_\\_barc:2\\_\\_\\_seq:mouse  & dna & 2  & mouse\\\\\n",
       "\tsamp:dna\\_1\\_\\_barc:3\\_\\_\\_seq:human & samp:dna\\_1\\_\\_barc:3\\_\\_\\_seq:human  & dna & 3  & human\\\\\n",
       "\tsamp:dna\\_1\\_\\_barc:3\\_\\_\\_seq:mouse & samp:dna\\_1\\_\\_barc:3\\_\\_\\_seq:mouse  & dna & 3  & mouse\\\\\n",
       "\tsamp:dna\\_1\\_\\_barc:4\\_\\_\\_seq:human & samp:dna\\_1\\_\\_barc:4\\_\\_\\_seq:human  & dna & 4  & human\\\\\n",
       "\tsamp:dna\\_1\\_\\_barc:4\\_\\_\\_seq:mouse & samp:dna\\_1\\_\\_barc:4\\_\\_\\_seq:mouse  & dna & 4  & mouse\\\\\n",
       "\tsamp:dna\\_1\\_\\_barc:5\\_\\_\\_seq:human & samp:dna\\_1\\_\\_barc:5\\_\\_\\_seq:human  & dna & 5  & human\\\\\n",
       "\tsamp:dna\\_1\\_\\_barc:5\\_\\_\\_seq:mouse & samp:dna\\_1\\_\\_barc:5\\_\\_\\_seq:mouse  & dna & 5  & mouse\\\\\n",
       "\tsamp:dna\\_1\\_\\_barc:6\\_\\_\\_seq:human & samp:dna\\_1\\_\\_barc:6\\_\\_\\_seq:human  & dna & 6  & human\\\\\n",
       "\tsamp:dna\\_1\\_\\_barc:6\\_\\_\\_seq:mouse & samp:dna\\_1\\_\\_barc:6\\_\\_\\_seq:mouse  & dna & 6  & mouse\\\\\n",
       "\tsamp:dna\\_1\\_\\_barc:7\\_\\_\\_seq:human & samp:dna\\_1\\_\\_barc:7\\_\\_\\_seq:human  & dna & 7  & human\\\\\n",
       "\tsamp:dna\\_1\\_\\_barc:7\\_\\_\\_seq:mouse & samp:dna\\_1\\_\\_barc:7\\_\\_\\_seq:mouse  & dna & 7  & mouse\\\\\n",
       "\tsamp:dna\\_1\\_\\_barc:8\\_\\_\\_seq:human & samp:dna\\_1\\_\\_barc:8\\_\\_\\_seq:human  & dna & 8  & human\\\\\n",
       "\tsamp:dna\\_1\\_\\_barc:8\\_\\_\\_seq:mouse & samp:dna\\_1\\_\\_barc:8\\_\\_\\_seq:mouse  & dna & 8  & mouse\\\\\n",
       "\tsamp:dna\\_1\\_\\_barc:9\\_\\_\\_seq:human & samp:dna\\_1\\_\\_barc:9\\_\\_\\_seq:human  & dna & 9  & human\\\\\n",
       "\tsamp:dna\\_1\\_\\_barc:9\\_\\_\\_seq:mouse & samp:dna\\_1\\_\\_barc:9\\_\\_\\_seq:mouse  & dna & 9  & mouse\\\\\n",
       "\\end{tabular}\n"
      ],
      "text/markdown": [
       "\n",
       "A data.frame: 26 × 4\n",
       "\n",
       "| <!--/--> | X &lt;fct&gt; | condition &lt;fct&gt; | barcode &lt;fct&gt; | seq &lt;fct&gt; |\n",
       "|---|---|---|---|---|\n",
       "| samp:dna_1__barc:10___seq:human | samp:dna_1__barc:10___seq:human | dna | 10 | human |\n",
       "| samp:dna_1__barc:10___seq:mouse | samp:dna_1__barc:10___seq:mouse | dna | 10 | mouse |\n",
       "| samp:dna_1__barc:11___seq:human | samp:dna_1__barc:11___seq:human | dna | 11 | human |\n",
       "| samp:dna_1__barc:11___seq:mouse | samp:dna_1__barc:11___seq:mouse | dna | 11 | mouse |\n",
       "| samp:dna_1__barc:12___seq:human | samp:dna_1__barc:12___seq:human | dna | 12 | human |\n",
       "| samp:dna_1__barc:12___seq:mouse | samp:dna_1__barc:12___seq:mouse | dna | 12 | mouse |\n",
       "| samp:dna_1__barc:13___seq:human | samp:dna_1__barc:13___seq:human | dna | 13 | human |\n",
       "| samp:dna_1__barc:13___seq:mouse | samp:dna_1__barc:13___seq:mouse | dna | 13 | mouse |\n",
       "| samp:dna_1__barc:1___seq:human | samp:dna_1__barc:1___seq:human  | dna | 1  | human |\n",
       "| samp:dna_1__barc:1___seq:mouse | samp:dna_1__barc:1___seq:mouse  | dna | 1  | mouse |\n",
       "| samp:dna_1__barc:2___seq:human | samp:dna_1__barc:2___seq:human  | dna | 2  | human |\n",
       "| samp:dna_1__barc:2___seq:mouse | samp:dna_1__barc:2___seq:mouse  | dna | 2  | mouse |\n",
       "| samp:dna_1__barc:3___seq:human | samp:dna_1__barc:3___seq:human  | dna | 3  | human |\n",
       "| samp:dna_1__barc:3___seq:mouse | samp:dna_1__barc:3___seq:mouse  | dna | 3  | mouse |\n",
       "| samp:dna_1__barc:4___seq:human | samp:dna_1__barc:4___seq:human  | dna | 4  | human |\n",
       "| samp:dna_1__barc:4___seq:mouse | samp:dna_1__barc:4___seq:mouse  | dna | 4  | mouse |\n",
       "| samp:dna_1__barc:5___seq:human | samp:dna_1__barc:5___seq:human  | dna | 5  | human |\n",
       "| samp:dna_1__barc:5___seq:mouse | samp:dna_1__barc:5___seq:mouse  | dna | 5  | mouse |\n",
       "| samp:dna_1__barc:6___seq:human | samp:dna_1__barc:6___seq:human  | dna | 6  | human |\n",
       "| samp:dna_1__barc:6___seq:mouse | samp:dna_1__barc:6___seq:mouse  | dna | 6  | mouse |\n",
       "| samp:dna_1__barc:7___seq:human | samp:dna_1__barc:7___seq:human  | dna | 7  | human |\n",
       "| samp:dna_1__barc:7___seq:mouse | samp:dna_1__barc:7___seq:mouse  | dna | 7  | mouse |\n",
       "| samp:dna_1__barc:8___seq:human | samp:dna_1__barc:8___seq:human  | dna | 8  | human |\n",
       "| samp:dna_1__barc:8___seq:mouse | samp:dna_1__barc:8___seq:mouse  | dna | 8  | mouse |\n",
       "| samp:dna_1__barc:9___seq:human | samp:dna_1__barc:9___seq:human  | dna | 9  | human |\n",
       "| samp:dna_1__barc:9___seq:mouse | samp:dna_1__barc:9___seq:mouse  | dna | 9  | mouse |\n",
       "\n"
      ],
      "text/plain": [
       "                                X                               condition\n",
       "samp:dna_1__barc:10___seq:human samp:dna_1__barc:10___seq:human dna      \n",
       "samp:dna_1__barc:10___seq:mouse samp:dna_1__barc:10___seq:mouse dna      \n",
       "samp:dna_1__barc:11___seq:human samp:dna_1__barc:11___seq:human dna      \n",
       "samp:dna_1__barc:11___seq:mouse samp:dna_1__barc:11___seq:mouse dna      \n",
       "samp:dna_1__barc:12___seq:human samp:dna_1__barc:12___seq:human dna      \n",
       "samp:dna_1__barc:12___seq:mouse samp:dna_1__barc:12___seq:mouse dna      \n",
       "samp:dna_1__barc:13___seq:human samp:dna_1__barc:13___seq:human dna      \n",
       "samp:dna_1__barc:13___seq:mouse samp:dna_1__barc:13___seq:mouse dna      \n",
       "samp:dna_1__barc:1___seq:human  samp:dna_1__barc:1___seq:human  dna      \n",
       "samp:dna_1__barc:1___seq:mouse  samp:dna_1__barc:1___seq:mouse  dna      \n",
       "samp:dna_1__barc:2___seq:human  samp:dna_1__barc:2___seq:human  dna      \n",
       "samp:dna_1__barc:2___seq:mouse  samp:dna_1__barc:2___seq:mouse  dna      \n",
       "samp:dna_1__barc:3___seq:human  samp:dna_1__barc:3___seq:human  dna      \n",
       "samp:dna_1__barc:3___seq:mouse  samp:dna_1__barc:3___seq:mouse  dna      \n",
       "samp:dna_1__barc:4___seq:human  samp:dna_1__barc:4___seq:human  dna      \n",
       "samp:dna_1__barc:4___seq:mouse  samp:dna_1__barc:4___seq:mouse  dna      \n",
       "samp:dna_1__barc:5___seq:human  samp:dna_1__barc:5___seq:human  dna      \n",
       "samp:dna_1__barc:5___seq:mouse  samp:dna_1__barc:5___seq:mouse  dna      \n",
       "samp:dna_1__barc:6___seq:human  samp:dna_1__barc:6___seq:human  dna      \n",
       "samp:dna_1__barc:6___seq:mouse  samp:dna_1__barc:6___seq:mouse  dna      \n",
       "samp:dna_1__barc:7___seq:human  samp:dna_1__barc:7___seq:human  dna      \n",
       "samp:dna_1__barc:7___seq:mouse  samp:dna_1__barc:7___seq:mouse  dna      \n",
       "samp:dna_1__barc:8___seq:human  samp:dna_1__barc:8___seq:human  dna      \n",
       "samp:dna_1__barc:8___seq:mouse  samp:dna_1__barc:8___seq:mouse  dna      \n",
       "samp:dna_1__barc:9___seq:human  samp:dna_1__barc:9___seq:human  dna      \n",
       "samp:dna_1__barc:9___seq:mouse  samp:dna_1__barc:9___seq:mouse  dna      \n",
       "                                barcode seq  \n",
       "samp:dna_1__barc:10___seq:human 10      human\n",
       "samp:dna_1__barc:10___seq:mouse 10      mouse\n",
       "samp:dna_1__barc:11___seq:human 11      human\n",
       "samp:dna_1__barc:11___seq:mouse 11      mouse\n",
       "samp:dna_1__barc:12___seq:human 12      human\n",
       "samp:dna_1__barc:12___seq:mouse 12      mouse\n",
       "samp:dna_1__barc:13___seq:human 13      human\n",
       "samp:dna_1__barc:13___seq:mouse 13      mouse\n",
       "samp:dna_1__barc:1___seq:human  1       human\n",
       "samp:dna_1__barc:1___seq:mouse  1       mouse\n",
       "samp:dna_1__barc:2___seq:human  2       human\n",
       "samp:dna_1__barc:2___seq:mouse  2       mouse\n",
       "samp:dna_1__barc:3___seq:human  3       human\n",
       "samp:dna_1__barc:3___seq:mouse  3       mouse\n",
       "samp:dna_1__barc:4___seq:human  4       human\n",
       "samp:dna_1__barc:4___seq:mouse  4       mouse\n",
       "samp:dna_1__barc:5___seq:human  5       human\n",
       "samp:dna_1__barc:5___seq:mouse  5       mouse\n",
       "samp:dna_1__barc:6___seq:human  6       human\n",
       "samp:dna_1__barc:6___seq:mouse  6       mouse\n",
       "samp:dna_1__barc:7___seq:human  7       human\n",
       "samp:dna_1__barc:7___seq:mouse  7       mouse\n",
       "samp:dna_1__barc:8___seq:human  8       human\n",
       "samp:dna_1__barc:8___seq:mouse  8       mouse\n",
       "samp:dna_1__barc:9___seq:human  9       human\n",
       "samp:dna_1__barc:9___seq:mouse  9       mouse"
      ]
     },
     "metadata": {},
     "output_type": "display_data"
    }
   ],
   "source": [
    "all_comp_dna_cols$barcode <- as.factor(all_comp_dna_cols$barcode)\n",
    "all_comp_dna_cols$seq <- as.factor(all_comp_dna_cols$seq)\n",
    "all_comp_dna_cols$condition <- as.factor(all_comp_dna_cols$condition)\n",
    "all_comp_dna_cols"
   ]
  },
  {
   "cell_type": "markdown",
   "metadata": {},
   "source": [
    "### then controls (same for all models)"
   ]
  },
  {
   "cell_type": "code",
   "execution_count": 13,
   "metadata": {},
   "outputs": [
    {
     "data": {
      "text/html": [
       "<ol class=list-inline>\n",
       "\t<li>FALSE</li>\n",
       "\t<li>FALSE</li>\n",
       "\t<li>FALSE</li>\n",
       "\t<li>FALSE</li>\n",
       "\t<li>FALSE</li>\n",
       "\t<li>FALSE</li>\n",
       "</ol>\n"
      ],
      "text/latex": [
       "\\begin{enumerate*}\n",
       "\\item FALSE\n",
       "\\item FALSE\n",
       "\\item FALSE\n",
       "\\item FALSE\n",
       "\\item FALSE\n",
       "\\item FALSE\n",
       "\\end{enumerate*}\n"
      ],
      "text/markdown": [
       "1. FALSE\n",
       "2. FALSE\n",
       "3. FALSE\n",
       "4. FALSE\n",
       "5. FALSE\n",
       "6. FALSE\n",
       "\n",
       "\n"
      ],
      "text/plain": [
       "[1] FALSE FALSE FALSE FALSE FALSE FALSE"
      ]
     },
     "metadata": {},
     "output_type": "display_data"
    }
   ],
   "source": [
    "all_comp_ctrls <- read.table(\"../../../data/02__mpra/01__counts/mpranalyze_files/ctrl_status.all_comp.mpranalyze.txt\", sep=\"\\t\", header=TRUE)\n",
    "all_comp_ctrls <- as.logical(all_comp_ctrls$ctrl_status)\n",
    "head(all_comp_ctrls)"
   ]
  },
  {
   "cell_type": "code",
   "execution_count": 14,
   "metadata": {},
   "outputs": [
    {
     "data": {
      "text/html": [
       "2695"
      ],
      "text/latex": [
       "2695"
      ],
      "text/markdown": [
       "2695"
      ],
      "text/plain": [
       "[1] 2695"
      ]
     },
     "metadata": {},
     "output_type": "display_data"
    }
   ],
   "source": [
    "length(all_comp_ctrls)"
   ]
  },
  {
   "cell_type": "markdown",
   "metadata": {},
   "source": [
    "### then data to model: native effects"
   ]
  },
  {
   "cell_type": "code",
   "execution_count": 15,
   "metadata": {},
   "outputs": [],
   "source": [
    "native_rna_counts <- read.table(\"../../../data/02__mpra/01__counts/mpranalyze_files/native_rna_counts.seq_comp.mpranalyze.txt\", sep=\"\\t\", header=TRUE)\n",
    "row.names(native_rna_counts) <- native_rna_counts$comp_id\n",
    "native_rna_counts <- native_rna_counts[ , !(names(native_rna_counts) %in% c(\"comp_id\"))]\n",
    "native_rna_counts <- as.matrix(native_rna_counts)"
   ]
  },
  {
   "cell_type": "code",
   "execution_count": 16,
   "metadata": {},
   "outputs": [
    {
     "data": {
      "text/html": [
       "<table>\n",
       "<caption>A data.frame: 6 × 5</caption>\n",
       "<thead>\n",
       "\t<tr><th></th><th scope=col>X</th><th scope=col>index</th><th scope=col>condition</th><th scope=col>barcode</th><th scope=col>seq</th></tr>\n",
       "\t<tr><th></th><th scope=col>&lt;fct&gt;</th><th scope=col>&lt;fct&gt;</th><th scope=col>&lt;fct&gt;</th><th scope=col>&lt;int&gt;</th><th scope=col>&lt;fct&gt;</th></tr>\n",
       "</thead>\n",
       "<tbody>\n",
       "\t<tr><th scope=row>samp:HUES64_rep1__barc:10___seq:human</th><td>samp:HUES64_rep1__barc:10___seq:human</td><td>samp:HUES64_rep1__barc:10___seq:human</td><td>HUES64</td><td>10</td><td>human</td></tr>\n",
       "\t<tr><th scope=row>samp:HUES64_rep1__barc:11___seq:human</th><td>samp:HUES64_rep1__barc:11___seq:human</td><td>samp:HUES64_rep1__barc:11___seq:human</td><td>HUES64</td><td>11</td><td>human</td></tr>\n",
       "\t<tr><th scope=row>samp:HUES64_rep1__barc:12___seq:human</th><td>samp:HUES64_rep1__barc:12___seq:human</td><td>samp:HUES64_rep1__barc:12___seq:human</td><td>HUES64</td><td>12</td><td>human</td></tr>\n",
       "\t<tr><th scope=row>samp:HUES64_rep1__barc:13___seq:human</th><td>samp:HUES64_rep1__barc:13___seq:human</td><td>samp:HUES64_rep1__barc:13___seq:human</td><td>HUES64</td><td>13</td><td>human</td></tr>\n",
       "\t<tr><th scope=row>samp:HUES64_rep1__barc:1___seq:human</th><td>samp:HUES64_rep1__barc:1___seq:human </td><td>samp:HUES64_rep1__barc:1___seq:human </td><td>HUES64</td><td> 1</td><td>human</td></tr>\n",
       "\t<tr><th scope=row>samp:HUES64_rep1__barc:2___seq:human</th><td>samp:HUES64_rep1__barc:2___seq:human </td><td>samp:HUES64_rep1__barc:2___seq:human </td><td>HUES64</td><td> 2</td><td>human</td></tr>\n",
       "</tbody>\n",
       "</table>\n"
      ],
      "text/latex": [
       "A data.frame: 6 × 5\n",
       "\\begin{tabular}{r|lllll}\n",
       "  & X & index & condition & barcode & seq\\\\\n",
       "  & <fct> & <fct> & <fct> & <int> & <fct>\\\\\n",
       "\\hline\n",
       "\tsamp:HUES64\\_rep1\\_\\_barc:10\\_\\_\\_seq:human & samp:HUES64\\_rep1\\_\\_barc:10\\_\\_\\_seq:human & samp:HUES64\\_rep1\\_\\_barc:10\\_\\_\\_seq:human & HUES64 & 10 & human\\\\\n",
       "\tsamp:HUES64\\_rep1\\_\\_barc:11\\_\\_\\_seq:human & samp:HUES64\\_rep1\\_\\_barc:11\\_\\_\\_seq:human & samp:HUES64\\_rep1\\_\\_barc:11\\_\\_\\_seq:human & HUES64 & 11 & human\\\\\n",
       "\tsamp:HUES64\\_rep1\\_\\_barc:12\\_\\_\\_seq:human & samp:HUES64\\_rep1\\_\\_barc:12\\_\\_\\_seq:human & samp:HUES64\\_rep1\\_\\_barc:12\\_\\_\\_seq:human & HUES64 & 12 & human\\\\\n",
       "\tsamp:HUES64\\_rep1\\_\\_barc:13\\_\\_\\_seq:human & samp:HUES64\\_rep1\\_\\_barc:13\\_\\_\\_seq:human & samp:HUES64\\_rep1\\_\\_barc:13\\_\\_\\_seq:human & HUES64 & 13 & human\\\\\n",
       "\tsamp:HUES64\\_rep1\\_\\_barc:1\\_\\_\\_seq:human & samp:HUES64\\_rep1\\_\\_barc:1\\_\\_\\_seq:human  & samp:HUES64\\_rep1\\_\\_barc:1\\_\\_\\_seq:human  & HUES64 &  1 & human\\\\\n",
       "\tsamp:HUES64\\_rep1\\_\\_barc:2\\_\\_\\_seq:human & samp:HUES64\\_rep1\\_\\_barc:2\\_\\_\\_seq:human  & samp:HUES64\\_rep1\\_\\_barc:2\\_\\_\\_seq:human  & HUES64 &  2 & human\\\\\n",
       "\\end{tabular}\n"
      ],
      "text/markdown": [
       "\n",
       "A data.frame: 6 × 5\n",
       "\n",
       "| <!--/--> | X &lt;fct&gt; | index &lt;fct&gt; | condition &lt;fct&gt; | barcode &lt;int&gt; | seq &lt;fct&gt; |\n",
       "|---|---|---|---|---|---|\n",
       "| samp:HUES64_rep1__barc:10___seq:human | samp:HUES64_rep1__barc:10___seq:human | samp:HUES64_rep1__barc:10___seq:human | HUES64 | 10 | human |\n",
       "| samp:HUES64_rep1__barc:11___seq:human | samp:HUES64_rep1__barc:11___seq:human | samp:HUES64_rep1__barc:11___seq:human | HUES64 | 11 | human |\n",
       "| samp:HUES64_rep1__barc:12___seq:human | samp:HUES64_rep1__barc:12___seq:human | samp:HUES64_rep1__barc:12___seq:human | HUES64 | 12 | human |\n",
       "| samp:HUES64_rep1__barc:13___seq:human | samp:HUES64_rep1__barc:13___seq:human | samp:HUES64_rep1__barc:13___seq:human | HUES64 | 13 | human |\n",
       "| samp:HUES64_rep1__barc:1___seq:human | samp:HUES64_rep1__barc:1___seq:human  | samp:HUES64_rep1__barc:1___seq:human  | HUES64 |  1 | human |\n",
       "| samp:HUES64_rep1__barc:2___seq:human | samp:HUES64_rep1__barc:2___seq:human  | samp:HUES64_rep1__barc:2___seq:human  | HUES64 |  2 | human |\n",
       "\n"
      ],
      "text/plain": [
       "                                      X                                    \n",
       "samp:HUES64_rep1__barc:10___seq:human samp:HUES64_rep1__barc:10___seq:human\n",
       "samp:HUES64_rep1__barc:11___seq:human samp:HUES64_rep1__barc:11___seq:human\n",
       "samp:HUES64_rep1__barc:12___seq:human samp:HUES64_rep1__barc:12___seq:human\n",
       "samp:HUES64_rep1__barc:13___seq:human samp:HUES64_rep1__barc:13___seq:human\n",
       "samp:HUES64_rep1__barc:1___seq:human  samp:HUES64_rep1__barc:1___seq:human \n",
       "samp:HUES64_rep1__barc:2___seq:human  samp:HUES64_rep1__barc:2___seq:human \n",
       "                                      index                                \n",
       "samp:HUES64_rep1__barc:10___seq:human samp:HUES64_rep1__barc:10___seq:human\n",
       "samp:HUES64_rep1__barc:11___seq:human samp:HUES64_rep1__barc:11___seq:human\n",
       "samp:HUES64_rep1__barc:12___seq:human samp:HUES64_rep1__barc:12___seq:human\n",
       "samp:HUES64_rep1__barc:13___seq:human samp:HUES64_rep1__barc:13___seq:human\n",
       "samp:HUES64_rep1__barc:1___seq:human  samp:HUES64_rep1__barc:1___seq:human \n",
       "samp:HUES64_rep1__barc:2___seq:human  samp:HUES64_rep1__barc:2___seq:human \n",
       "                                      condition barcode seq  \n",
       "samp:HUES64_rep1__barc:10___seq:human HUES64    10      human\n",
       "samp:HUES64_rep1__barc:11___seq:human HUES64    11      human\n",
       "samp:HUES64_rep1__barc:12___seq:human HUES64    12      human\n",
       "samp:HUES64_rep1__barc:13___seq:human HUES64    13      human\n",
       "samp:HUES64_rep1__barc:1___seq:human  HUES64     1      human\n",
       "samp:HUES64_rep1__barc:2___seq:human  HUES64     2      human"
      ]
     },
     "metadata": {},
     "output_type": "display_data"
    }
   ],
   "source": [
    "native_rna_cols <- read.table(\"../../../data/02__mpra/01__counts/mpranalyze_files/native_col_ann.seq_comp.mpranalyze.txt\", sep=\"\\t\", header=TRUE)\n",
    "row.names(native_rna_cols) <- native_rna_cols$X\n",
    "head(native_rna_cols)"
   ]
  },
  {
   "cell_type": "code",
   "execution_count": 17,
   "metadata": {},
   "outputs": [
    {
     "data": {
      "text/html": [
       "<table>\n",
       "<caption>A data.frame: 6 × 5</caption>\n",
       "<thead>\n",
       "\t<tr><th></th><th scope=col>X</th><th scope=col>index</th><th scope=col>condition</th><th scope=col>barcode</th><th scope=col>seq</th></tr>\n",
       "\t<tr><th></th><th scope=col>&lt;fct&gt;</th><th scope=col>&lt;fct&gt;</th><th scope=col>&lt;fct&gt;</th><th scope=col>&lt;fct&gt;</th><th scope=col>&lt;fct&gt;</th></tr>\n",
       "</thead>\n",
       "<tbody>\n",
       "\t<tr><th scope=row>samp:HUES64_rep1__barc:10___seq:human</th><td>samp:HUES64_rep1__barc:10___seq:human</td><td>samp:HUES64_rep1__barc:10___seq:human</td><td>HUES64</td><td>10</td><td>human</td></tr>\n",
       "\t<tr><th scope=row>samp:HUES64_rep1__barc:11___seq:human</th><td>samp:HUES64_rep1__barc:11___seq:human</td><td>samp:HUES64_rep1__barc:11___seq:human</td><td>HUES64</td><td>11</td><td>human</td></tr>\n",
       "\t<tr><th scope=row>samp:HUES64_rep1__barc:12___seq:human</th><td>samp:HUES64_rep1__barc:12___seq:human</td><td>samp:HUES64_rep1__barc:12___seq:human</td><td>HUES64</td><td>12</td><td>human</td></tr>\n",
       "\t<tr><th scope=row>samp:HUES64_rep1__barc:13___seq:human</th><td>samp:HUES64_rep1__barc:13___seq:human</td><td>samp:HUES64_rep1__barc:13___seq:human</td><td>HUES64</td><td>13</td><td>human</td></tr>\n",
       "\t<tr><th scope=row>samp:HUES64_rep1__barc:1___seq:human</th><td>samp:HUES64_rep1__barc:1___seq:human </td><td>samp:HUES64_rep1__barc:1___seq:human </td><td>HUES64</td><td>1 </td><td>human</td></tr>\n",
       "\t<tr><th scope=row>samp:HUES64_rep1__barc:2___seq:human</th><td>samp:HUES64_rep1__barc:2___seq:human </td><td>samp:HUES64_rep1__barc:2___seq:human </td><td>HUES64</td><td>2 </td><td>human</td></tr>\n",
       "</tbody>\n",
       "</table>\n"
      ],
      "text/latex": [
       "A data.frame: 6 × 5\n",
       "\\begin{tabular}{r|lllll}\n",
       "  & X & index & condition & barcode & seq\\\\\n",
       "  & <fct> & <fct> & <fct> & <fct> & <fct>\\\\\n",
       "\\hline\n",
       "\tsamp:HUES64\\_rep1\\_\\_barc:10\\_\\_\\_seq:human & samp:HUES64\\_rep1\\_\\_barc:10\\_\\_\\_seq:human & samp:HUES64\\_rep1\\_\\_barc:10\\_\\_\\_seq:human & HUES64 & 10 & human\\\\\n",
       "\tsamp:HUES64\\_rep1\\_\\_barc:11\\_\\_\\_seq:human & samp:HUES64\\_rep1\\_\\_barc:11\\_\\_\\_seq:human & samp:HUES64\\_rep1\\_\\_barc:11\\_\\_\\_seq:human & HUES64 & 11 & human\\\\\n",
       "\tsamp:HUES64\\_rep1\\_\\_barc:12\\_\\_\\_seq:human & samp:HUES64\\_rep1\\_\\_barc:12\\_\\_\\_seq:human & samp:HUES64\\_rep1\\_\\_barc:12\\_\\_\\_seq:human & HUES64 & 12 & human\\\\\n",
       "\tsamp:HUES64\\_rep1\\_\\_barc:13\\_\\_\\_seq:human & samp:HUES64\\_rep1\\_\\_barc:13\\_\\_\\_seq:human & samp:HUES64\\_rep1\\_\\_barc:13\\_\\_\\_seq:human & HUES64 & 13 & human\\\\\n",
       "\tsamp:HUES64\\_rep1\\_\\_barc:1\\_\\_\\_seq:human & samp:HUES64\\_rep1\\_\\_barc:1\\_\\_\\_seq:human  & samp:HUES64\\_rep1\\_\\_barc:1\\_\\_\\_seq:human  & HUES64 & 1  & human\\\\\n",
       "\tsamp:HUES64\\_rep1\\_\\_barc:2\\_\\_\\_seq:human & samp:HUES64\\_rep1\\_\\_barc:2\\_\\_\\_seq:human  & samp:HUES64\\_rep1\\_\\_barc:2\\_\\_\\_seq:human  & HUES64 & 2  & human\\\\\n",
       "\\end{tabular}\n"
      ],
      "text/markdown": [
       "\n",
       "A data.frame: 6 × 5\n",
       "\n",
       "| <!--/--> | X &lt;fct&gt; | index &lt;fct&gt; | condition &lt;fct&gt; | barcode &lt;fct&gt; | seq &lt;fct&gt; |\n",
       "|---|---|---|---|---|---|\n",
       "| samp:HUES64_rep1__barc:10___seq:human | samp:HUES64_rep1__barc:10___seq:human | samp:HUES64_rep1__barc:10___seq:human | HUES64 | 10 | human |\n",
       "| samp:HUES64_rep1__barc:11___seq:human | samp:HUES64_rep1__barc:11___seq:human | samp:HUES64_rep1__barc:11___seq:human | HUES64 | 11 | human |\n",
       "| samp:HUES64_rep1__barc:12___seq:human | samp:HUES64_rep1__barc:12___seq:human | samp:HUES64_rep1__barc:12___seq:human | HUES64 | 12 | human |\n",
       "| samp:HUES64_rep1__barc:13___seq:human | samp:HUES64_rep1__barc:13___seq:human | samp:HUES64_rep1__barc:13___seq:human | HUES64 | 13 | human |\n",
       "| samp:HUES64_rep1__barc:1___seq:human | samp:HUES64_rep1__barc:1___seq:human  | samp:HUES64_rep1__barc:1___seq:human  | HUES64 | 1  | human |\n",
       "| samp:HUES64_rep1__barc:2___seq:human | samp:HUES64_rep1__barc:2___seq:human  | samp:HUES64_rep1__barc:2___seq:human  | HUES64 | 2  | human |\n",
       "\n"
      ],
      "text/plain": [
       "                                      X                                    \n",
       "samp:HUES64_rep1__barc:10___seq:human samp:HUES64_rep1__barc:10___seq:human\n",
       "samp:HUES64_rep1__barc:11___seq:human samp:HUES64_rep1__barc:11___seq:human\n",
       "samp:HUES64_rep1__barc:12___seq:human samp:HUES64_rep1__barc:12___seq:human\n",
       "samp:HUES64_rep1__barc:13___seq:human samp:HUES64_rep1__barc:13___seq:human\n",
       "samp:HUES64_rep1__barc:1___seq:human  samp:HUES64_rep1__barc:1___seq:human \n",
       "samp:HUES64_rep1__barc:2___seq:human  samp:HUES64_rep1__barc:2___seq:human \n",
       "                                      index                                \n",
       "samp:HUES64_rep1__barc:10___seq:human samp:HUES64_rep1__barc:10___seq:human\n",
       "samp:HUES64_rep1__barc:11___seq:human samp:HUES64_rep1__barc:11___seq:human\n",
       "samp:HUES64_rep1__barc:12___seq:human samp:HUES64_rep1__barc:12___seq:human\n",
       "samp:HUES64_rep1__barc:13___seq:human samp:HUES64_rep1__barc:13___seq:human\n",
       "samp:HUES64_rep1__barc:1___seq:human  samp:HUES64_rep1__barc:1___seq:human \n",
       "samp:HUES64_rep1__barc:2___seq:human  samp:HUES64_rep1__barc:2___seq:human \n",
       "                                      condition barcode seq  \n",
       "samp:HUES64_rep1__barc:10___seq:human HUES64    10      human\n",
       "samp:HUES64_rep1__barc:11___seq:human HUES64    11      human\n",
       "samp:HUES64_rep1__barc:12___seq:human HUES64    12      human\n",
       "samp:HUES64_rep1__barc:13___seq:human HUES64    13      human\n",
       "samp:HUES64_rep1__barc:1___seq:human  HUES64    1       human\n",
       "samp:HUES64_rep1__barc:2___seq:human  HUES64    2       human"
      ]
     },
     "metadata": {},
     "output_type": "display_data"
    }
   ],
   "source": [
    "# make sure everything is a factor\n",
    "native_rna_cols$barcode <- as.factor(native_rna_cols$barcode)\n",
    "native_rna_cols$seq <- as.factor(native_rna_cols$seq)\n",
    "native_rna_cols$condition <- as.factor(native_rna_cols$condition)\n",
    "head(native_rna_cols)"
   ]
  },
  {
   "cell_type": "markdown",
   "metadata": {},
   "source": [
    "### cis+ trans interactions"
   ]
  },
  {
   "cell_type": "code",
   "execution_count": 18,
   "metadata": {},
   "outputs": [],
   "source": [
    "all_rna_counts <- read.table(\"../../../data/02__mpra/01__counts/mpranalyze_files/all_rna_counts.seq_comp.mpranalyze.txt\", sep=\"\\t\", header=TRUE)\n",
    "row.names(all_rna_counts) <- all_rna_counts$comp_id\n",
    "all_rna_counts <- all_rna_counts[ , !(names(all_rna_counts) %in% c(\"comp_id\"))]\n",
    "all_rna_counts <- as.matrix(all_rna_counts)"
   ]
  },
  {
   "cell_type": "code",
   "execution_count": 19,
   "metadata": {},
   "outputs": [],
   "source": [
    "all_rna_cols <- read.table(\"../../../data/02__mpra/01__counts/mpranalyze_files/all_col_ann.seq_comp.mpranalyze.txt\", sep=\"\\t\", header=TRUE)\n",
    "row.names(all_rna_cols) <- all_rna_cols$X"
   ]
  },
  {
   "cell_type": "code",
   "execution_count": 20,
   "metadata": {},
   "outputs": [
    {
     "data": {
      "text/html": [
       "<table>\n",
       "<caption>A data.frame: 6 × 5</caption>\n",
       "<thead>\n",
       "\t<tr><th></th><th scope=col>X</th><th scope=col>index</th><th scope=col>condition</th><th scope=col>barcode</th><th scope=col>seq</th></tr>\n",
       "\t<tr><th></th><th scope=col>&lt;fct&gt;</th><th scope=col>&lt;fct&gt;</th><th scope=col>&lt;fct&gt;</th><th scope=col>&lt;fct&gt;</th><th scope=col>&lt;fct&gt;</th></tr>\n",
       "</thead>\n",
       "<tbody>\n",
       "\t<tr><th scope=row>samp:HUES64_rep1__barc:10___seq:human</th><td>samp:HUES64_rep1__barc:10___seq:human</td><td>samp:HUES64_rep1__barc:10___seq:human</td><td>HUES64</td><td>10</td><td>human</td></tr>\n",
       "\t<tr><th scope=row>samp:HUES64_rep1__barc:10___seq:mouse</th><td>samp:HUES64_rep1__barc:10___seq:mouse</td><td>samp:HUES64_rep1__barc:10___seq:mouse</td><td>HUES64</td><td>10</td><td>mouse</td></tr>\n",
       "\t<tr><th scope=row>samp:HUES64_rep1__barc:11___seq:human</th><td>samp:HUES64_rep1__barc:11___seq:human</td><td>samp:HUES64_rep1__barc:11___seq:human</td><td>HUES64</td><td>11</td><td>human</td></tr>\n",
       "\t<tr><th scope=row>samp:HUES64_rep1__barc:11___seq:mouse</th><td>samp:HUES64_rep1__barc:11___seq:mouse</td><td>samp:HUES64_rep1__barc:11___seq:mouse</td><td>HUES64</td><td>11</td><td>mouse</td></tr>\n",
       "\t<tr><th scope=row>samp:HUES64_rep1__barc:12___seq:human</th><td>samp:HUES64_rep1__barc:12___seq:human</td><td>samp:HUES64_rep1__barc:12___seq:human</td><td>HUES64</td><td>12</td><td>human</td></tr>\n",
       "\t<tr><th scope=row>samp:HUES64_rep1__barc:12___seq:mouse</th><td>samp:HUES64_rep1__barc:12___seq:mouse</td><td>samp:HUES64_rep1__barc:12___seq:mouse</td><td>HUES64</td><td>12</td><td>mouse</td></tr>\n",
       "</tbody>\n",
       "</table>\n"
      ],
      "text/latex": [
       "A data.frame: 6 × 5\n",
       "\\begin{tabular}{r|lllll}\n",
       "  & X & index & condition & barcode & seq\\\\\n",
       "  & <fct> & <fct> & <fct> & <fct> & <fct>\\\\\n",
       "\\hline\n",
       "\tsamp:HUES64\\_rep1\\_\\_barc:10\\_\\_\\_seq:human & samp:HUES64\\_rep1\\_\\_barc:10\\_\\_\\_seq:human & samp:HUES64\\_rep1\\_\\_barc:10\\_\\_\\_seq:human & HUES64 & 10 & human\\\\\n",
       "\tsamp:HUES64\\_rep1\\_\\_barc:10\\_\\_\\_seq:mouse & samp:HUES64\\_rep1\\_\\_barc:10\\_\\_\\_seq:mouse & samp:HUES64\\_rep1\\_\\_barc:10\\_\\_\\_seq:mouse & HUES64 & 10 & mouse\\\\\n",
       "\tsamp:HUES64\\_rep1\\_\\_barc:11\\_\\_\\_seq:human & samp:HUES64\\_rep1\\_\\_barc:11\\_\\_\\_seq:human & samp:HUES64\\_rep1\\_\\_barc:11\\_\\_\\_seq:human & HUES64 & 11 & human\\\\\n",
       "\tsamp:HUES64\\_rep1\\_\\_barc:11\\_\\_\\_seq:mouse & samp:HUES64\\_rep1\\_\\_barc:11\\_\\_\\_seq:mouse & samp:HUES64\\_rep1\\_\\_barc:11\\_\\_\\_seq:mouse & HUES64 & 11 & mouse\\\\\n",
       "\tsamp:HUES64\\_rep1\\_\\_barc:12\\_\\_\\_seq:human & samp:HUES64\\_rep1\\_\\_barc:12\\_\\_\\_seq:human & samp:HUES64\\_rep1\\_\\_barc:12\\_\\_\\_seq:human & HUES64 & 12 & human\\\\\n",
       "\tsamp:HUES64\\_rep1\\_\\_barc:12\\_\\_\\_seq:mouse & samp:HUES64\\_rep1\\_\\_barc:12\\_\\_\\_seq:mouse & samp:HUES64\\_rep1\\_\\_barc:12\\_\\_\\_seq:mouse & HUES64 & 12 & mouse\\\\\n",
       "\\end{tabular}\n"
      ],
      "text/markdown": [
       "\n",
       "A data.frame: 6 × 5\n",
       "\n",
       "| <!--/--> | X &lt;fct&gt; | index &lt;fct&gt; | condition &lt;fct&gt; | barcode &lt;fct&gt; | seq &lt;fct&gt; |\n",
       "|---|---|---|---|---|---|\n",
       "| samp:HUES64_rep1__barc:10___seq:human | samp:HUES64_rep1__barc:10___seq:human | samp:HUES64_rep1__barc:10___seq:human | HUES64 | 10 | human |\n",
       "| samp:HUES64_rep1__barc:10___seq:mouse | samp:HUES64_rep1__barc:10___seq:mouse | samp:HUES64_rep1__barc:10___seq:mouse | HUES64 | 10 | mouse |\n",
       "| samp:HUES64_rep1__barc:11___seq:human | samp:HUES64_rep1__barc:11___seq:human | samp:HUES64_rep1__barc:11___seq:human | HUES64 | 11 | human |\n",
       "| samp:HUES64_rep1__barc:11___seq:mouse | samp:HUES64_rep1__barc:11___seq:mouse | samp:HUES64_rep1__barc:11___seq:mouse | HUES64 | 11 | mouse |\n",
       "| samp:HUES64_rep1__barc:12___seq:human | samp:HUES64_rep1__barc:12___seq:human | samp:HUES64_rep1__barc:12___seq:human | HUES64 | 12 | human |\n",
       "| samp:HUES64_rep1__barc:12___seq:mouse | samp:HUES64_rep1__barc:12___seq:mouse | samp:HUES64_rep1__barc:12___seq:mouse | HUES64 | 12 | mouse |\n",
       "\n"
      ],
      "text/plain": [
       "                                      X                                    \n",
       "samp:HUES64_rep1__barc:10___seq:human samp:HUES64_rep1__barc:10___seq:human\n",
       "samp:HUES64_rep1__barc:10___seq:mouse samp:HUES64_rep1__barc:10___seq:mouse\n",
       "samp:HUES64_rep1__barc:11___seq:human samp:HUES64_rep1__barc:11___seq:human\n",
       "samp:HUES64_rep1__barc:11___seq:mouse samp:HUES64_rep1__barc:11___seq:mouse\n",
       "samp:HUES64_rep1__barc:12___seq:human samp:HUES64_rep1__barc:12___seq:human\n",
       "samp:HUES64_rep1__barc:12___seq:mouse samp:HUES64_rep1__barc:12___seq:mouse\n",
       "                                      index                                \n",
       "samp:HUES64_rep1__barc:10___seq:human samp:HUES64_rep1__barc:10___seq:human\n",
       "samp:HUES64_rep1__barc:10___seq:mouse samp:HUES64_rep1__barc:10___seq:mouse\n",
       "samp:HUES64_rep1__barc:11___seq:human samp:HUES64_rep1__barc:11___seq:human\n",
       "samp:HUES64_rep1__barc:11___seq:mouse samp:HUES64_rep1__barc:11___seq:mouse\n",
       "samp:HUES64_rep1__barc:12___seq:human samp:HUES64_rep1__barc:12___seq:human\n",
       "samp:HUES64_rep1__barc:12___seq:mouse samp:HUES64_rep1__barc:12___seq:mouse\n",
       "                                      condition barcode seq  \n",
       "samp:HUES64_rep1__barc:10___seq:human HUES64    10      human\n",
       "samp:HUES64_rep1__barc:10___seq:mouse HUES64    10      mouse\n",
       "samp:HUES64_rep1__barc:11___seq:human HUES64    11      human\n",
       "samp:HUES64_rep1__barc:11___seq:mouse HUES64    11      mouse\n",
       "samp:HUES64_rep1__barc:12___seq:human HUES64    12      human\n",
       "samp:HUES64_rep1__barc:12___seq:mouse HUES64    12      mouse"
      ]
     },
     "metadata": {},
     "output_type": "display_data"
    }
   ],
   "source": [
    "# make sure everything is a factor\n",
    "all_rna_cols$barcode <- as.factor(all_rna_cols$barcode)\n",
    "all_rna_cols$seq <- as.factor(all_rna_cols$seq)\n",
    "all_rna_cols$condition <- as.factor(all_rna_cols$condition)\n",
    "head(all_rna_cols)"
   ]
  },
  {
   "cell_type": "markdown",
   "metadata": {},
   "source": [
    "### human/mouse data for cis effects in each cell line"
   ]
  },
  {
   "cell_type": "code",
   "execution_count": 21,
   "metadata": {},
   "outputs": [],
   "source": [
    "# for seq comparisons, load each cell line data separately\n",
    "hues64_rna_counts <- read.table(\"../../../data/02__mpra/01__counts/mpranalyze_files/HUES64_rna_counts.seq_comp.mpranalyze.txt\", sep=\"\\t\", header=TRUE)\n",
    "row.names(hues64_rna_counts) <- hues64_rna_counts$comp_id\n",
    "hues64_rna_counts <- hues64_rna_counts[ , !(names(hues64_rna_counts) %in% c(\"comp_id\"))]\n",
    "hues64_rna_counts <- as.matrix(hues64_rna_counts)\n",
    "\n",
    "mesc_rna_counts <- read.table(\"../../../data/02__mpra/01__counts/mpranalyze_files/mESC_rna_counts.seq_comp.mpranalyze.txt\", sep=\"\\t\", header=TRUE)\n",
    "row.names(mesc_rna_counts) <- mesc_rna_counts$comp_id\n",
    "mesc_rna_counts <- mesc_rna_counts[ , !(names(mesc_rna_counts) %in% c(\"comp_id\"))]\n",
    "mesc_rna_counts <- as.matrix(mesc_rna_counts)"
   ]
  },
  {
   "cell_type": "code",
   "execution_count": 22,
   "metadata": {},
   "outputs": [],
   "source": [
    "hues64_rna_cols <- read.table(\"../../../data/02__mpra/01__counts/mpranalyze_files/HUES64_col_ann.seq_comp.mpranalyze.txt\", sep=\"\\t\", header=TRUE)\n",
    "row.names(hues64_rna_cols) <- hues64_rna_cols$X\n",
    "\n",
    "mesc_rna_cols <- read.table(\"../../../data/02__mpra/01__counts/mpranalyze_files/mESC_col_ann.seq_comp.mpranalyze.txt\", sep=\"\\t\", header=TRUE)\n",
    "row.names(mesc_rna_cols) <- mesc_rna_cols$X"
   ]
  },
  {
   "cell_type": "code",
   "execution_count": 23,
   "metadata": {},
   "outputs": [
    {
     "data": {
      "text/html": [
       "<table>\n",
       "<caption>A data.frame: 6 × 5</caption>\n",
       "<thead>\n",
       "\t<tr><th></th><th scope=col>X</th><th scope=col>index</th><th scope=col>condition</th><th scope=col>barcode</th><th scope=col>seq</th></tr>\n",
       "\t<tr><th></th><th scope=col>&lt;fct&gt;</th><th scope=col>&lt;fct&gt;</th><th scope=col>&lt;fct&gt;</th><th scope=col>&lt;fct&gt;</th><th scope=col>&lt;fct&gt;</th></tr>\n",
       "</thead>\n",
       "<tbody>\n",
       "\t<tr><th scope=row>samp:HUES64_rep1__barc:10___seq:human</th><td>samp:HUES64_rep1__barc:10___seq:human</td><td>samp:HUES64_rep1__barc:10___seq:human</td><td>HUES64</td><td>10</td><td>human</td></tr>\n",
       "\t<tr><th scope=row>samp:HUES64_rep1__barc:10___seq:mouse</th><td>samp:HUES64_rep1__barc:10___seq:mouse</td><td>samp:HUES64_rep1__barc:10___seq:mouse</td><td>HUES64</td><td>10</td><td>mouse</td></tr>\n",
       "\t<tr><th scope=row>samp:HUES64_rep1__barc:11___seq:human</th><td>samp:HUES64_rep1__barc:11___seq:human</td><td>samp:HUES64_rep1__barc:11___seq:human</td><td>HUES64</td><td>11</td><td>human</td></tr>\n",
       "\t<tr><th scope=row>samp:HUES64_rep1__barc:11___seq:mouse</th><td>samp:HUES64_rep1__barc:11___seq:mouse</td><td>samp:HUES64_rep1__barc:11___seq:mouse</td><td>HUES64</td><td>11</td><td>mouse</td></tr>\n",
       "\t<tr><th scope=row>samp:HUES64_rep1__barc:12___seq:human</th><td>samp:HUES64_rep1__barc:12___seq:human</td><td>samp:HUES64_rep1__barc:12___seq:human</td><td>HUES64</td><td>12</td><td>human</td></tr>\n",
       "\t<tr><th scope=row>samp:HUES64_rep1__barc:12___seq:mouse</th><td>samp:HUES64_rep1__barc:12___seq:mouse</td><td>samp:HUES64_rep1__barc:12___seq:mouse</td><td>HUES64</td><td>12</td><td>mouse</td></tr>\n",
       "</tbody>\n",
       "</table>\n"
      ],
      "text/latex": [
       "A data.frame: 6 × 5\n",
       "\\begin{tabular}{r|lllll}\n",
       "  & X & index & condition & barcode & seq\\\\\n",
       "  & <fct> & <fct> & <fct> & <fct> & <fct>\\\\\n",
       "\\hline\n",
       "\tsamp:HUES64\\_rep1\\_\\_barc:10\\_\\_\\_seq:human & samp:HUES64\\_rep1\\_\\_barc:10\\_\\_\\_seq:human & samp:HUES64\\_rep1\\_\\_barc:10\\_\\_\\_seq:human & HUES64 & 10 & human\\\\\n",
       "\tsamp:HUES64\\_rep1\\_\\_barc:10\\_\\_\\_seq:mouse & samp:HUES64\\_rep1\\_\\_barc:10\\_\\_\\_seq:mouse & samp:HUES64\\_rep1\\_\\_barc:10\\_\\_\\_seq:mouse & HUES64 & 10 & mouse\\\\\n",
       "\tsamp:HUES64\\_rep1\\_\\_barc:11\\_\\_\\_seq:human & samp:HUES64\\_rep1\\_\\_barc:11\\_\\_\\_seq:human & samp:HUES64\\_rep1\\_\\_barc:11\\_\\_\\_seq:human & HUES64 & 11 & human\\\\\n",
       "\tsamp:HUES64\\_rep1\\_\\_barc:11\\_\\_\\_seq:mouse & samp:HUES64\\_rep1\\_\\_barc:11\\_\\_\\_seq:mouse & samp:HUES64\\_rep1\\_\\_barc:11\\_\\_\\_seq:mouse & HUES64 & 11 & mouse\\\\\n",
       "\tsamp:HUES64\\_rep1\\_\\_barc:12\\_\\_\\_seq:human & samp:HUES64\\_rep1\\_\\_barc:12\\_\\_\\_seq:human & samp:HUES64\\_rep1\\_\\_barc:12\\_\\_\\_seq:human & HUES64 & 12 & human\\\\\n",
       "\tsamp:HUES64\\_rep1\\_\\_barc:12\\_\\_\\_seq:mouse & samp:HUES64\\_rep1\\_\\_barc:12\\_\\_\\_seq:mouse & samp:HUES64\\_rep1\\_\\_barc:12\\_\\_\\_seq:mouse & HUES64 & 12 & mouse\\\\\n",
       "\\end{tabular}\n"
      ],
      "text/markdown": [
       "\n",
       "A data.frame: 6 × 5\n",
       "\n",
       "| <!--/--> | X &lt;fct&gt; | index &lt;fct&gt; | condition &lt;fct&gt; | barcode &lt;fct&gt; | seq &lt;fct&gt; |\n",
       "|---|---|---|---|---|---|\n",
       "| samp:HUES64_rep1__barc:10___seq:human | samp:HUES64_rep1__barc:10___seq:human | samp:HUES64_rep1__barc:10___seq:human | HUES64 | 10 | human |\n",
       "| samp:HUES64_rep1__barc:10___seq:mouse | samp:HUES64_rep1__barc:10___seq:mouse | samp:HUES64_rep1__barc:10___seq:mouse | HUES64 | 10 | mouse |\n",
       "| samp:HUES64_rep1__barc:11___seq:human | samp:HUES64_rep1__barc:11___seq:human | samp:HUES64_rep1__barc:11___seq:human | HUES64 | 11 | human |\n",
       "| samp:HUES64_rep1__barc:11___seq:mouse | samp:HUES64_rep1__barc:11___seq:mouse | samp:HUES64_rep1__barc:11___seq:mouse | HUES64 | 11 | mouse |\n",
       "| samp:HUES64_rep1__barc:12___seq:human | samp:HUES64_rep1__barc:12___seq:human | samp:HUES64_rep1__barc:12___seq:human | HUES64 | 12 | human |\n",
       "| samp:HUES64_rep1__barc:12___seq:mouse | samp:HUES64_rep1__barc:12___seq:mouse | samp:HUES64_rep1__barc:12___seq:mouse | HUES64 | 12 | mouse |\n",
       "\n"
      ],
      "text/plain": [
       "                                      X                                    \n",
       "samp:HUES64_rep1__barc:10___seq:human samp:HUES64_rep1__barc:10___seq:human\n",
       "samp:HUES64_rep1__barc:10___seq:mouse samp:HUES64_rep1__barc:10___seq:mouse\n",
       "samp:HUES64_rep1__barc:11___seq:human samp:HUES64_rep1__barc:11___seq:human\n",
       "samp:HUES64_rep1__barc:11___seq:mouse samp:HUES64_rep1__barc:11___seq:mouse\n",
       "samp:HUES64_rep1__barc:12___seq:human samp:HUES64_rep1__barc:12___seq:human\n",
       "samp:HUES64_rep1__barc:12___seq:mouse samp:HUES64_rep1__barc:12___seq:mouse\n",
       "                                      index                                \n",
       "samp:HUES64_rep1__barc:10___seq:human samp:HUES64_rep1__barc:10___seq:human\n",
       "samp:HUES64_rep1__barc:10___seq:mouse samp:HUES64_rep1__barc:10___seq:mouse\n",
       "samp:HUES64_rep1__barc:11___seq:human samp:HUES64_rep1__barc:11___seq:human\n",
       "samp:HUES64_rep1__barc:11___seq:mouse samp:HUES64_rep1__barc:11___seq:mouse\n",
       "samp:HUES64_rep1__barc:12___seq:human samp:HUES64_rep1__barc:12___seq:human\n",
       "samp:HUES64_rep1__barc:12___seq:mouse samp:HUES64_rep1__barc:12___seq:mouse\n",
       "                                      condition barcode seq  \n",
       "samp:HUES64_rep1__barc:10___seq:human HUES64    10      human\n",
       "samp:HUES64_rep1__barc:10___seq:mouse HUES64    10      mouse\n",
       "samp:HUES64_rep1__barc:11___seq:human HUES64    11      human\n",
       "samp:HUES64_rep1__barc:11___seq:mouse HUES64    11      mouse\n",
       "samp:HUES64_rep1__barc:12___seq:human HUES64    12      human\n",
       "samp:HUES64_rep1__barc:12___seq:mouse HUES64    12      mouse"
      ]
     },
     "metadata": {},
     "output_type": "display_data"
    }
   ],
   "source": [
    "# make sure everything is a factor\n",
    "hues64_rna_cols$barcode <- as.factor(hues64_rna_cols$barcode)\n",
    "mesc_rna_cols$barcode <- as.factor(mesc_rna_cols$barcode)\n",
    "\n",
    "hues64_rna_cols$seq <- as.factor(hues64_rna_cols$seq)\n",
    "mesc_rna_cols$seq <- as.factor(mesc_rna_cols$seq)\n",
    "\n",
    "hues64_rna_cols$condition <- as.factor(hues64_rna_cols$condition)\n",
    "mesc_rna_cols$condition <- as.factor(mesc_rna_cols$condition)\n",
    "\n",
    "head(hues64_rna_cols)"
   ]
  },
  {
   "cell_type": "markdown",
   "metadata": {},
   "source": [
    "### human/mouse data for trans effects of each sequence"
   ]
  },
  {
   "cell_type": "code",
   "execution_count": 24,
   "metadata": {},
   "outputs": [],
   "source": [
    "# for cell comparisons, load each cell line data separately\n",
    "human_rna_counts <- read.table(\"../../../data/02__mpra/01__counts/mpranalyze_files/human_rna_counts.cell_comp.mpranalyze.txt\", sep=\"\\t\", header=TRUE)\n",
    "row.names(human_rna_counts) <- human_rna_counts$comp_id\n",
    "human_rna_counts <- human_rna_counts[ , !(names(human_rna_counts) %in% c(\"comp_id\"))]\n",
    "human_rna_counts <- as.matrix(human_rna_counts)\n",
    "\n",
    "mouse_rna_counts <- read.table(\"../../../data/02__mpra/01__counts/mpranalyze_files/mouse_rna_counts.cell_comp.mpranalyze.txt\", sep=\"\\t\", header=TRUE)\n",
    "row.names(mouse_rna_counts) <- mouse_rna_counts$comp_id\n",
    "mouse_rna_counts <- mouse_rna_counts[ , !(names(mouse_rna_counts) %in% c(\"comp_id\"))]\n",
    "mouse_rna_counts <- as.matrix(mouse_rna_counts)"
   ]
  },
  {
   "cell_type": "code",
   "execution_count": 25,
   "metadata": {},
   "outputs": [],
   "source": [
    "human_rna_cols <- read.table(\"../../../data/02__mpra/01__counts/mpranalyze_files/human_col_ann.cell_comp.mpranalyze.txt\", sep=\"\\t\", header=TRUE)\n",
    "row.names(human_rna_cols) <- human_rna_cols$X\n",
    "\n",
    "mouse_rna_cols <- read.table(\"../../../data/02__mpra/01__counts/mpranalyze_files/mouse_col_ann.cell_comp.mpranalyze.txt\", sep=\"\\t\", header=TRUE)\n",
    "row.names(mouse_rna_cols) <- mouse_rna_cols$X"
   ]
  },
  {
   "cell_type": "code",
   "execution_count": 26,
   "metadata": {},
   "outputs": [
    {
     "data": {
      "text/html": [
       "<table>\n",
       "<caption>A data.frame: 6 × 4</caption>\n",
       "<thead>\n",
       "\t<tr><th></th><th scope=col>X</th><th scope=col>condition</th><th scope=col>barcode</th><th scope=col>seq</th></tr>\n",
       "\t<tr><th></th><th scope=col>&lt;fct&gt;</th><th scope=col>&lt;fct&gt;</th><th scope=col>&lt;fct&gt;</th><th scope=col>&lt;fct&gt;</th></tr>\n",
       "</thead>\n",
       "<tbody>\n",
       "\t<tr><th scope=row>samp:HUES64_rep1__barc:10___seq:human</th><td>samp:HUES64_rep1__barc:10___seq:human</td><td>HUES64</td><td>10</td><td>human</td></tr>\n",
       "\t<tr><th scope=row>samp:HUES64_rep1__barc:11___seq:human</th><td>samp:HUES64_rep1__barc:11___seq:human</td><td>HUES64</td><td>11</td><td>human</td></tr>\n",
       "\t<tr><th scope=row>samp:HUES64_rep1__barc:12___seq:human</th><td>samp:HUES64_rep1__barc:12___seq:human</td><td>HUES64</td><td>12</td><td>human</td></tr>\n",
       "\t<tr><th scope=row>samp:HUES64_rep1__barc:13___seq:human</th><td>samp:HUES64_rep1__barc:13___seq:human</td><td>HUES64</td><td>13</td><td>human</td></tr>\n",
       "\t<tr><th scope=row>samp:HUES64_rep1__barc:1___seq:human</th><td>samp:HUES64_rep1__barc:1___seq:human </td><td>HUES64</td><td>1 </td><td>human</td></tr>\n",
       "\t<tr><th scope=row>samp:HUES64_rep1__barc:2___seq:human</th><td>samp:HUES64_rep1__barc:2___seq:human </td><td>HUES64</td><td>2 </td><td>human</td></tr>\n",
       "</tbody>\n",
       "</table>\n"
      ],
      "text/latex": [
       "A data.frame: 6 × 4\n",
       "\\begin{tabular}{r|llll}\n",
       "  & X & condition & barcode & seq\\\\\n",
       "  & <fct> & <fct> & <fct> & <fct>\\\\\n",
       "\\hline\n",
       "\tsamp:HUES64\\_rep1\\_\\_barc:10\\_\\_\\_seq:human & samp:HUES64\\_rep1\\_\\_barc:10\\_\\_\\_seq:human & HUES64 & 10 & human\\\\\n",
       "\tsamp:HUES64\\_rep1\\_\\_barc:11\\_\\_\\_seq:human & samp:HUES64\\_rep1\\_\\_barc:11\\_\\_\\_seq:human & HUES64 & 11 & human\\\\\n",
       "\tsamp:HUES64\\_rep1\\_\\_barc:12\\_\\_\\_seq:human & samp:HUES64\\_rep1\\_\\_barc:12\\_\\_\\_seq:human & HUES64 & 12 & human\\\\\n",
       "\tsamp:HUES64\\_rep1\\_\\_barc:13\\_\\_\\_seq:human & samp:HUES64\\_rep1\\_\\_barc:13\\_\\_\\_seq:human & HUES64 & 13 & human\\\\\n",
       "\tsamp:HUES64\\_rep1\\_\\_barc:1\\_\\_\\_seq:human & samp:HUES64\\_rep1\\_\\_barc:1\\_\\_\\_seq:human  & HUES64 & 1  & human\\\\\n",
       "\tsamp:HUES64\\_rep1\\_\\_barc:2\\_\\_\\_seq:human & samp:HUES64\\_rep1\\_\\_barc:2\\_\\_\\_seq:human  & HUES64 & 2  & human\\\\\n",
       "\\end{tabular}\n"
      ],
      "text/markdown": [
       "\n",
       "A data.frame: 6 × 4\n",
       "\n",
       "| <!--/--> | X &lt;fct&gt; | condition &lt;fct&gt; | barcode &lt;fct&gt; | seq &lt;fct&gt; |\n",
       "|---|---|---|---|---|\n",
       "| samp:HUES64_rep1__barc:10___seq:human | samp:HUES64_rep1__barc:10___seq:human | HUES64 | 10 | human |\n",
       "| samp:HUES64_rep1__barc:11___seq:human | samp:HUES64_rep1__barc:11___seq:human | HUES64 | 11 | human |\n",
       "| samp:HUES64_rep1__barc:12___seq:human | samp:HUES64_rep1__barc:12___seq:human | HUES64 | 12 | human |\n",
       "| samp:HUES64_rep1__barc:13___seq:human | samp:HUES64_rep1__barc:13___seq:human | HUES64 | 13 | human |\n",
       "| samp:HUES64_rep1__barc:1___seq:human | samp:HUES64_rep1__barc:1___seq:human  | HUES64 | 1  | human |\n",
       "| samp:HUES64_rep1__barc:2___seq:human | samp:HUES64_rep1__barc:2___seq:human  | HUES64 | 2  | human |\n",
       "\n"
      ],
      "text/plain": [
       "                                      X                                    \n",
       "samp:HUES64_rep1__barc:10___seq:human samp:HUES64_rep1__barc:10___seq:human\n",
       "samp:HUES64_rep1__barc:11___seq:human samp:HUES64_rep1__barc:11___seq:human\n",
       "samp:HUES64_rep1__barc:12___seq:human samp:HUES64_rep1__barc:12___seq:human\n",
       "samp:HUES64_rep1__barc:13___seq:human samp:HUES64_rep1__barc:13___seq:human\n",
       "samp:HUES64_rep1__barc:1___seq:human  samp:HUES64_rep1__barc:1___seq:human \n",
       "samp:HUES64_rep1__barc:2___seq:human  samp:HUES64_rep1__barc:2___seq:human \n",
       "                                      condition barcode seq  \n",
       "samp:HUES64_rep1__barc:10___seq:human HUES64    10      human\n",
       "samp:HUES64_rep1__barc:11___seq:human HUES64    11      human\n",
       "samp:HUES64_rep1__barc:12___seq:human HUES64    12      human\n",
       "samp:HUES64_rep1__barc:13___seq:human HUES64    13      human\n",
       "samp:HUES64_rep1__barc:1___seq:human  HUES64    1       human\n",
       "samp:HUES64_rep1__barc:2___seq:human  HUES64    2       human"
      ]
     },
     "metadata": {},
     "output_type": "display_data"
    }
   ],
   "source": [
    "# make sure everything is a factor\n",
    "human_rna_cols$barcode <- as.factor(human_rna_cols$barcode)\n",
    "mouse_rna_cols$barcode <- as.factor(mouse_rna_cols$barcode)\n",
    "\n",
    "human_rna_cols$seq <- as.factor(human_rna_cols$seq)\n",
    "mouse_rna_cols$seq <- as.factor(mouse_rna_cols$seq)\n",
    "\n",
    "human_rna_cols$condition <- as.factor(human_rna_cols$condition)\n",
    "mouse_rna_cols$condition <- as.factor(mouse_rna_cols$condition)\n",
    "\n",
    "head(human_rna_cols)"
   ]
  },
  {
   "cell_type": "markdown",
   "metadata": {},
   "source": [
    "## 2. estimate library depth for sample/condition pair\n",
    "\n",
    "since our library has many more sequences than just the TSSs we want to model, estimate the library depth based on the full seq output (or downsampled counts, in HUES64 case), then manually provide this estimation to the model"
   ]
  },
  {
   "cell_type": "code",
   "execution_count": 27,
   "metadata": {},
   "outputs": [],
   "source": [
    "# create MPRA object\n",
    "depth_obj <- MpraObject(dnaCounts = dna_counts_depth, rnaCounts = rna_counts_depth, \n",
    "                        dnaAnnot = dna_cols_depth, rnaAnnot = rna_cols_depth)"
   ]
  },
  {
   "cell_type": "code",
   "execution_count": 28,
   "metadata": {},
   "outputs": [],
   "source": [
    "# estimate depth factors using uq -- here, a sample/condition pair == 1 library\n",
    "depth_obj <- estimateDepthFactors(depth_obj, lib.factor = c(\"sample\", \"condition\"),  depth.estimator='uq',\n",
    "                                  which.lib = \"dna\")\n",
    "depth_obj <- estimateDepthFactors(depth_obj, lib.factor = c(\"id\"),  \n",
    "                                  depth.estimator='uq', which.lib = \"rna\")"
   ]
  },
  {
   "cell_type": "code",
   "execution_count": 29,
   "metadata": {},
   "outputs": [
    {
     "data": {
      "text/html": [
       "<ol class=list-inline>\n",
       "\t<li>1</li>\n",
       "\t<li>0.675193155528395</li>\n",
       "\t<li>0.772011000043651</li>\n",
       "\t<li>0.307586538041818</li>\n",
       "\t<li>0.385307084551923</li>\n",
       "\t<li>0.366057008162731</li>\n",
       "</ol>\n"
      ],
      "text/latex": [
       "\\begin{enumerate*}\n",
       "\\item 1\n",
       "\\item 0.675193155528395\n",
       "\\item 0.772011000043651\n",
       "\\item 0.307586538041818\n",
       "\\item 0.385307084551923\n",
       "\\item 0.366057008162731\n",
       "\\end{enumerate*}\n"
      ],
      "text/markdown": [
       "1. 1\n",
       "2. 0.675193155528395\n",
       "3. 0.772011000043651\n",
       "4. 0.307586538041818\n",
       "5. 0.385307084551923\n",
       "6. 0.366057008162731\n",
       "\n",
       "\n"
      ],
      "text/plain": [
       "[1] 1.0000000 0.6751932 0.7720110 0.3075865 0.3853071 0.3660570"
      ]
     },
     "metadata": {},
     "output_type": "display_data"
    }
   ],
   "source": [
    "rna_depths <- rnaDepth(depth_obj)\n",
    "rna_depths"
   ]
  },
  {
   "cell_type": "code",
   "execution_count": 30,
   "metadata": {},
   "outputs": [
    {
     "data": {
      "text/html": [
       "<table>\n",
       "<caption>A data.frame: 6 × 4</caption>\n",
       "<thead>\n",
       "\t<tr><th></th><th scope=col>id</th><th scope=col>condition</th><th scope=col>sample</th><th scope=col>depth</th></tr>\n",
       "\t<tr><th></th><th scope=col>&lt;fct&gt;</th><th scope=col>&lt;fct&gt;</th><th scope=col>&lt;fct&gt;</th><th scope=col>&lt;dbl&gt;</th></tr>\n",
       "</thead>\n",
       "<tbody>\n",
       "\t<tr><th scope=row>HUES64_rep1</th><td>HUES64_rep1</td><td>HUES64</td><td>1</td><td>1.0000000</td></tr>\n",
       "\t<tr><th scope=row>HUES64_rep2</th><td>HUES64_rep2</td><td>HUES64</td><td>2</td><td>0.6751932</td></tr>\n",
       "\t<tr><th scope=row>HUES64_rep3</th><td>HUES64_rep3</td><td>HUES64</td><td>3</td><td>0.7720110</td></tr>\n",
       "\t<tr><th scope=row>mESC_rep1</th><td>mESC_rep1  </td><td>mESC  </td><td>1</td><td>0.3075865</td></tr>\n",
       "\t<tr><th scope=row>mESC_rep2</th><td>mESC_rep2  </td><td>mESC  </td><td>2</td><td>0.3853071</td></tr>\n",
       "\t<tr><th scope=row>mESC_rep3</th><td>mESC_rep3  </td><td>mESC  </td><td>3</td><td>0.3660570</td></tr>\n",
       "</tbody>\n",
       "</table>\n"
      ],
      "text/latex": [
       "A data.frame: 6 × 4\n",
       "\\begin{tabular}{r|llll}\n",
       "  & id & condition & sample & depth\\\\\n",
       "  & <fct> & <fct> & <fct> & <dbl>\\\\\n",
       "\\hline\n",
       "\tHUES64\\_rep1 & HUES64\\_rep1 & HUES64 & 1 & 1.0000000\\\\\n",
       "\tHUES64\\_rep2 & HUES64\\_rep2 & HUES64 & 2 & 0.6751932\\\\\n",
       "\tHUES64\\_rep3 & HUES64\\_rep3 & HUES64 & 3 & 0.7720110\\\\\n",
       "\tmESC\\_rep1 & mESC\\_rep1   & mESC   & 1 & 0.3075865\\\\\n",
       "\tmESC\\_rep2 & mESC\\_rep2   & mESC   & 2 & 0.3853071\\\\\n",
       "\tmESC\\_rep3 & mESC\\_rep3   & mESC   & 3 & 0.3660570\\\\\n",
       "\\end{tabular}\n"
      ],
      "text/markdown": [
       "\n",
       "A data.frame: 6 × 4\n",
       "\n",
       "| <!--/--> | id &lt;fct&gt; | condition &lt;fct&gt; | sample &lt;fct&gt; | depth &lt;dbl&gt; |\n",
       "|---|---|---|---|---|\n",
       "| HUES64_rep1 | HUES64_rep1 | HUES64 | 1 | 1.0000000 |\n",
       "| HUES64_rep2 | HUES64_rep2 | HUES64 | 2 | 0.6751932 |\n",
       "| HUES64_rep3 | HUES64_rep3 | HUES64 | 3 | 0.7720110 |\n",
       "| mESC_rep1 | mESC_rep1   | mESC   | 1 | 0.3075865 |\n",
       "| mESC_rep2 | mESC_rep2   | mESC   | 2 | 0.3853071 |\n",
       "| mESC_rep3 | mESC_rep3   | mESC   | 3 | 0.3660570 |\n",
       "\n"
      ],
      "text/plain": [
       "            id          condition sample depth    \n",
       "HUES64_rep1 HUES64_rep1 HUES64    1      1.0000000\n",
       "HUES64_rep2 HUES64_rep2 HUES64    2      0.6751932\n",
       "HUES64_rep3 HUES64_rep3 HUES64    3      0.7720110\n",
       "mESC_rep1   mESC_rep1   mESC      1      0.3075865\n",
       "mESC_rep2   mESC_rep2   mESC      2      0.3853071\n",
       "mESC_rep3   mESC_rep3   mESC      3      0.3660570"
      ]
     },
     "metadata": {},
     "output_type": "display_data"
    }
   ],
   "source": [
    "rna_cols_depth$depth <- rna_depths\n",
    "rna_cols_depth"
   ]
  },
  {
   "cell_type": "markdown",
   "metadata": {},
   "source": [
    "## 3. run model to compare native effects"
   ]
  },
  {
   "cell_type": "code",
   "execution_count": 31,
   "metadata": {},
   "outputs": [
    {
     "data": {
      "text/html": [
       "6"
      ],
      "text/latex": [
       "6"
      ],
      "text/markdown": [
       "6"
      ],
      "text/plain": [
       "[1] 6"
      ]
     },
     "metadata": {},
     "output_type": "display_data"
    }
   ],
   "source": [
    "nrow(rna_cols_depth)"
   ]
  },
  {
   "cell_type": "code",
   "execution_count": 32,
   "metadata": {},
   "outputs": [
    {
     "data": {
      "text/html": [
       "78"
      ],
      "text/latex": [
       "78"
      ],
      "text/markdown": [
       "78"
      ],
      "text/plain": [
       "[1] 78"
      ]
     },
     "metadata": {},
     "output_type": "display_data"
    }
   ],
   "source": [
    "nrow(native_rna_cols)"
   ]
  },
  {
   "cell_type": "code",
   "execution_count": 33,
   "metadata": {},
   "outputs": [
    {
     "data": {
      "text/html": [
       "<table>\n",
       "<caption>A data.frame: 6 × 5</caption>\n",
       "<thead>\n",
       "\t<tr><th></th><th scope=col>X</th><th scope=col>index</th><th scope=col>condition</th><th scope=col>barcode</th><th scope=col>seq</th></tr>\n",
       "\t<tr><th></th><th scope=col>&lt;fct&gt;</th><th scope=col>&lt;fct&gt;</th><th scope=col>&lt;fct&gt;</th><th scope=col>&lt;fct&gt;</th><th scope=col>&lt;fct&gt;</th></tr>\n",
       "</thead>\n",
       "<tbody>\n",
       "\t<tr><th scope=row>samp:HUES64_rep1__barc:10___seq:human</th><td>samp:HUES64_rep1__barc:10___seq:human</td><td>samp:HUES64_rep1__barc:10___seq:human</td><td>HUES64</td><td>10</td><td>human</td></tr>\n",
       "\t<tr><th scope=row>samp:HUES64_rep1__barc:11___seq:human</th><td>samp:HUES64_rep1__barc:11___seq:human</td><td>samp:HUES64_rep1__barc:11___seq:human</td><td>HUES64</td><td>11</td><td>human</td></tr>\n",
       "\t<tr><th scope=row>samp:HUES64_rep1__barc:12___seq:human</th><td>samp:HUES64_rep1__barc:12___seq:human</td><td>samp:HUES64_rep1__barc:12___seq:human</td><td>HUES64</td><td>12</td><td>human</td></tr>\n",
       "\t<tr><th scope=row>samp:HUES64_rep1__barc:13___seq:human</th><td>samp:HUES64_rep1__barc:13___seq:human</td><td>samp:HUES64_rep1__barc:13___seq:human</td><td>HUES64</td><td>13</td><td>human</td></tr>\n",
       "\t<tr><th scope=row>samp:HUES64_rep1__barc:1___seq:human</th><td>samp:HUES64_rep1__barc:1___seq:human </td><td>samp:HUES64_rep1__barc:1___seq:human </td><td>HUES64</td><td>1 </td><td>human</td></tr>\n",
       "\t<tr><th scope=row>samp:HUES64_rep1__barc:2___seq:human</th><td>samp:HUES64_rep1__barc:2___seq:human </td><td>samp:HUES64_rep1__barc:2___seq:human </td><td>HUES64</td><td>2 </td><td>human</td></tr>\n",
       "</tbody>\n",
       "</table>\n"
      ],
      "text/latex": [
       "A data.frame: 6 × 5\n",
       "\\begin{tabular}{r|lllll}\n",
       "  & X & index & condition & barcode & seq\\\\\n",
       "  & <fct> & <fct> & <fct> & <fct> & <fct>\\\\\n",
       "\\hline\n",
       "\tsamp:HUES64\\_rep1\\_\\_barc:10\\_\\_\\_seq:human & samp:HUES64\\_rep1\\_\\_barc:10\\_\\_\\_seq:human & samp:HUES64\\_rep1\\_\\_barc:10\\_\\_\\_seq:human & HUES64 & 10 & human\\\\\n",
       "\tsamp:HUES64\\_rep1\\_\\_barc:11\\_\\_\\_seq:human & samp:HUES64\\_rep1\\_\\_barc:11\\_\\_\\_seq:human & samp:HUES64\\_rep1\\_\\_barc:11\\_\\_\\_seq:human & HUES64 & 11 & human\\\\\n",
       "\tsamp:HUES64\\_rep1\\_\\_barc:12\\_\\_\\_seq:human & samp:HUES64\\_rep1\\_\\_barc:12\\_\\_\\_seq:human & samp:HUES64\\_rep1\\_\\_barc:12\\_\\_\\_seq:human & HUES64 & 12 & human\\\\\n",
       "\tsamp:HUES64\\_rep1\\_\\_barc:13\\_\\_\\_seq:human & samp:HUES64\\_rep1\\_\\_barc:13\\_\\_\\_seq:human & samp:HUES64\\_rep1\\_\\_barc:13\\_\\_\\_seq:human & HUES64 & 13 & human\\\\\n",
       "\tsamp:HUES64\\_rep1\\_\\_barc:1\\_\\_\\_seq:human & samp:HUES64\\_rep1\\_\\_barc:1\\_\\_\\_seq:human  & samp:HUES64\\_rep1\\_\\_barc:1\\_\\_\\_seq:human  & HUES64 & 1  & human\\\\\n",
       "\tsamp:HUES64\\_rep1\\_\\_barc:2\\_\\_\\_seq:human & samp:HUES64\\_rep1\\_\\_barc:2\\_\\_\\_seq:human  & samp:HUES64\\_rep1\\_\\_barc:2\\_\\_\\_seq:human  & HUES64 & 2  & human\\\\\n",
       "\\end{tabular}\n"
      ],
      "text/markdown": [
       "\n",
       "A data.frame: 6 × 5\n",
       "\n",
       "| <!--/--> | X &lt;fct&gt; | index &lt;fct&gt; | condition &lt;fct&gt; | barcode &lt;fct&gt; | seq &lt;fct&gt; |\n",
       "|---|---|---|---|---|---|\n",
       "| samp:HUES64_rep1__barc:10___seq:human | samp:HUES64_rep1__barc:10___seq:human | samp:HUES64_rep1__barc:10___seq:human | HUES64 | 10 | human |\n",
       "| samp:HUES64_rep1__barc:11___seq:human | samp:HUES64_rep1__barc:11___seq:human | samp:HUES64_rep1__barc:11___seq:human | HUES64 | 11 | human |\n",
       "| samp:HUES64_rep1__barc:12___seq:human | samp:HUES64_rep1__barc:12___seq:human | samp:HUES64_rep1__barc:12___seq:human | HUES64 | 12 | human |\n",
       "| samp:HUES64_rep1__barc:13___seq:human | samp:HUES64_rep1__barc:13___seq:human | samp:HUES64_rep1__barc:13___seq:human | HUES64 | 13 | human |\n",
       "| samp:HUES64_rep1__barc:1___seq:human | samp:HUES64_rep1__barc:1___seq:human  | samp:HUES64_rep1__barc:1___seq:human  | HUES64 | 1  | human |\n",
       "| samp:HUES64_rep1__barc:2___seq:human | samp:HUES64_rep1__barc:2___seq:human  | samp:HUES64_rep1__barc:2___seq:human  | HUES64 | 2  | human |\n",
       "\n"
      ],
      "text/plain": [
       "                                      X                                    \n",
       "samp:HUES64_rep1__barc:10___seq:human samp:HUES64_rep1__barc:10___seq:human\n",
       "samp:HUES64_rep1__barc:11___seq:human samp:HUES64_rep1__barc:11___seq:human\n",
       "samp:HUES64_rep1__barc:12___seq:human samp:HUES64_rep1__barc:12___seq:human\n",
       "samp:HUES64_rep1__barc:13___seq:human samp:HUES64_rep1__barc:13___seq:human\n",
       "samp:HUES64_rep1__barc:1___seq:human  samp:HUES64_rep1__barc:1___seq:human \n",
       "samp:HUES64_rep1__barc:2___seq:human  samp:HUES64_rep1__barc:2___seq:human \n",
       "                                      index                                \n",
       "samp:HUES64_rep1__barc:10___seq:human samp:HUES64_rep1__barc:10___seq:human\n",
       "samp:HUES64_rep1__barc:11___seq:human samp:HUES64_rep1__barc:11___seq:human\n",
       "samp:HUES64_rep1__barc:12___seq:human samp:HUES64_rep1__barc:12___seq:human\n",
       "samp:HUES64_rep1__barc:13___seq:human samp:HUES64_rep1__barc:13___seq:human\n",
       "samp:HUES64_rep1__barc:1___seq:human  samp:HUES64_rep1__barc:1___seq:human \n",
       "samp:HUES64_rep1__barc:2___seq:human  samp:HUES64_rep1__barc:2___seq:human \n",
       "                                      condition barcode seq  \n",
       "samp:HUES64_rep1__barc:10___seq:human HUES64    10      human\n",
       "samp:HUES64_rep1__barc:11___seq:human HUES64    11      human\n",
       "samp:HUES64_rep1__barc:12___seq:human HUES64    12      human\n",
       "samp:HUES64_rep1__barc:13___seq:human HUES64    13      human\n",
       "samp:HUES64_rep1__barc:1___seq:human  HUES64    1       human\n",
       "samp:HUES64_rep1__barc:2___seq:human  HUES64    2       human"
      ]
     },
     "metadata": {},
     "output_type": "display_data"
    }
   ],
   "source": [
    "head(native_rna_cols)"
   ]
  },
  {
   "cell_type": "code",
   "execution_count": 34,
   "metadata": {},
   "outputs": [],
   "source": [
    "# first need to set the dnadepths and rnadepths manually\n",
    "all_comp_dna_cols$depth <- rep(1, nrow(all_comp_dna_cols))\n",
    "\n",
    "# note 13 will change depending how many barcodes there are per element\n",
    "native_rna_cols$depth <- rep(rna_depths, each=13)"
   ]
  },
  {
   "cell_type": "code",
   "execution_count": 35,
   "metadata": {},
   "outputs": [],
   "source": [
    "# create MPRA object\n",
    "obj <- MpraObject(dnaCounts = all_comp_dna_counts, rnaCounts = native_rna_counts, \n",
    "                  dnaAnnot = all_comp_dna_cols, rnaAnnot = native_rna_cols, controls = all_comp_ctrls,\n",
    "                  BPPARAM = SnowParam(workers=32,type=\"SOCK\"))"
   ]
  },
  {
   "cell_type": "code",
   "execution_count": 36,
   "metadata": {},
   "outputs": [],
   "source": [
    "obj <- setDepthFactors(obj, dnaDepth = all_comp_dna_cols$depth, rnaDepth = native_rna_cols$depth)"
   ]
  },
  {
   "cell_type": "code",
   "execution_count": null,
   "metadata": {},
   "outputs": [
    {
     "name": "stderr",
     "output_type": "stream",
     "text": [
      "Fitting controls-based background model...\n"
     ]
    }
   ],
   "source": [
    "obj <- analyzeComparative(obj = obj, \n",
    "                          dnaDesign = ~ barcode, \n",
    "                          rnaDesign = ~ seq, \n",
    "                          reducedDesign = ~ 1) "
   ]
  },
  {
   "cell_type": "code",
   "execution_count": null,
   "metadata": {},
   "outputs": [],
   "source": [
    "native_res <- testLrt(obj)\n",
    "head(native_res)"
   ]
  },
  {
   "cell_type": "code",
   "execution_count": null,
   "metadata": {},
   "outputs": [],
   "source": [
    "hist(native_res[all_comp_ctrls,]$pval)"
   ]
  },
  {
   "cell_type": "code",
   "execution_count": null,
   "metadata": {},
   "outputs": [],
   "source": [
    "hist(native_res[!all_comp_ctrls,]$pval)"
   ]
  },
  {
   "cell_type": "code",
   "execution_count": null,
   "metadata": {},
   "outputs": [],
   "source": [
    "write.table(native_res, file = \"../../../data/02__mpra/02__activs/native_results.txt\", sep = \"\\t\",\n",
    "            quote = FALSE)"
   ]
  },
  {
   "cell_type": "markdown",
   "metadata": {},
   "source": [
    "## 4. run model to compare seq / condition interactions"
   ]
  },
  {
   "cell_type": "code",
   "execution_count": null,
   "metadata": {},
   "outputs": [],
   "source": [
    "# note 13 will change depending how many barcodes there are per element\n",
    "all_rna_cols$depth <- rep(rna_depths, each=26)"
   ]
  },
  {
   "cell_type": "code",
   "execution_count": null,
   "metadata": {},
   "outputs": [],
   "source": [
    "# create MPRA object\n",
    "obj1 <- MpraObject(dnaCounts = all_comp_dna_counts, rnaCounts = all_rna_counts, \n",
    "                   dnaAnnot = all_comp_dna_cols, rnaAnnot = all_rna_cols, controls = all_comp_ctrls,\n",
    "                   BPPARAM = SnowParam(workers=32,type=\"SOCK\"))"
   ]
  },
  {
   "cell_type": "code",
   "execution_count": null,
   "metadata": {},
   "outputs": [],
   "source": [
    "obj1 <- setDepthFactors(obj1, dnaDepth = all_comp_dna_cols$depth, rnaDepth = all_rna_cols$depth)"
   ]
  },
  {
   "cell_type": "code",
   "execution_count": null,
   "metadata": {},
   "outputs": [],
   "source": [
    "head(all_rna_cols)"
   ]
  },
  {
   "cell_type": "code",
   "execution_count": null,
   "metadata": {},
   "outputs": [],
   "source": [
    "obj1 <- analyzeComparative(obj = obj1, \n",
    "                           dnaDesign = ~ barcode, \n",
    "                           rnaDesign = ~ seq + condition+ seq:condition, \n",
    "                           reducedDesign = ~ seq + condition) "
   ]
  },
  {
   "cell_type": "code",
   "execution_count": null,
   "metadata": {},
   "outputs": [],
   "source": [
    "int_res <- testLrt(obj1)\n",
    "head(int_res)"
   ]
  },
  {
   "cell_type": "code",
   "execution_count": null,
   "metadata": {},
   "outputs": [],
   "source": [
    "hist(int_res[all_comp_ctrls,]$pval)"
   ]
  },
  {
   "cell_type": "code",
   "execution_count": null,
   "metadata": {},
   "outputs": [],
   "source": [
    "hist(int_res[!all_comp_ctrls,]$pval)"
   ]
  },
  {
   "cell_type": "code",
   "execution_count": null,
   "metadata": {},
   "outputs": [],
   "source": [
    "write.table(int_res, file = \"../../../data/02__mpra/02__activs/cis_trans_interaction_results.txt\", sep = \"\\t\",\n",
    "            quote = FALSE)"
   ]
  },
  {
   "cell_type": "markdown",
   "metadata": {},
   "source": [
    "## 5. run model to compare seqs in HUES64"
   ]
  },
  {
   "cell_type": "code",
   "execution_count": null,
   "metadata": {},
   "outputs": [],
   "source": [
    "rna_cols_depth"
   ]
  },
  {
   "cell_type": "code",
   "execution_count": null,
   "metadata": {},
   "outputs": [],
   "source": [
    "hues64_depths <- rna_depths[1:3]\n",
    "hues64_depths"
   ]
  },
  {
   "cell_type": "code",
   "execution_count": null,
   "metadata": {},
   "outputs": [],
   "source": [
    "# note 13 will change depending how many barcodes there are per element\n",
    "hues64_rna_cols$depth <- rep(hues64_depths, each=26)"
   ]
  },
  {
   "cell_type": "code",
   "execution_count": null,
   "metadata": {},
   "outputs": [],
   "source": [
    "# create MPRA object\n",
    "obj2 <- MpraObject(dnaCounts = all_comp_dna_counts, rnaCounts = hues64_rna_counts, \n",
    "                   dnaAnnot = all_comp_dna_cols, rnaAnnot = hues64_rna_cols, controls = all_comp_ctrls,\n",
    "                   BPPARAM = SnowParam(workers=32,type=\"SOCK\"))"
   ]
  },
  {
   "cell_type": "code",
   "execution_count": null,
   "metadata": {},
   "outputs": [],
   "source": [
    "obj2 <- setDepthFactors(obj2, dnaDepth = all_comp_dna_cols$depth, rnaDepth = hues64_rna_cols$depth)"
   ]
  },
  {
   "cell_type": "code",
   "execution_count": null,
   "metadata": {},
   "outputs": [],
   "source": [
    "obj2 <- analyzeComparative(obj = obj2, \n",
    "                           dnaDesign = ~ barcode, \n",
    "                           rnaDesign = ~ seq, \n",
    "                           reducedDesign = ~ 1) "
   ]
  },
  {
   "cell_type": "code",
   "execution_count": null,
   "metadata": {},
   "outputs": [],
   "source": [
    "hues64_res <- testLrt(obj2)\n",
    "head(hues64_res)"
   ]
  },
  {
   "cell_type": "code",
   "execution_count": null,
   "metadata": {},
   "outputs": [],
   "source": [
    "hist(hues64_res[all_comp_ctrls,]$pval)"
   ]
  },
  {
   "cell_type": "code",
   "execution_count": null,
   "metadata": {},
   "outputs": [],
   "source": [
    "hist(hues64_res[!all_comp_ctrls,]$pval)"
   ]
  },
  {
   "cell_type": "code",
   "execution_count": null,
   "metadata": {},
   "outputs": [],
   "source": [
    "write.table(hues64_res, file = \"../../../data/02__mpra/02__activs/HUES64_cis_results.txt\", sep = \"\\t\",\n",
    "            quote = FALSE)"
   ]
  },
  {
   "cell_type": "markdown",
   "metadata": {},
   "source": [
    "## 6. run model to compare seqs in mESC"
   ]
  },
  {
   "cell_type": "code",
   "execution_count": null,
   "metadata": {},
   "outputs": [],
   "source": [
    "# note 13 will change depending how many barcodes there are per element\n",
    "mesc_depths <- rna_depths[4:6]\n",
    "mesc_rna_cols$depth <- rep(mesc_depths, each=26)"
   ]
  },
  {
   "cell_type": "code",
   "execution_count": null,
   "metadata": {},
   "outputs": [],
   "source": [
    "# create MPRA object\n",
    "obj3 <- MpraObject(dnaCounts = all_comp_dna_counts, rnaCounts = mesc_rna_counts, \n",
    "                   dnaAnnot = all_comp_dna_cols, rnaAnnot = mesc_rna_cols, controls = all_comp_ctrls,\n",
    "                   BPPARAM = SnowParam(workers=32,type=\"SOCK\"))"
   ]
  },
  {
   "cell_type": "code",
   "execution_count": null,
   "metadata": {},
   "outputs": [],
   "source": [
    "obj3 <- setDepthFactors(obj3, dnaDepth = all_comp_dna_cols$depth, rnaDepth = mesc_rna_cols$depth)"
   ]
  },
  {
   "cell_type": "code",
   "execution_count": null,
   "metadata": {},
   "outputs": [],
   "source": [
    "obj3 <- analyzeComparative(obj = obj3, \n",
    "                           dnaDesign = ~ barcode, \n",
    "                           rnaDesign = ~ seq, \n",
    "                           reducedDesign = ~ 1) "
   ]
  },
  {
   "cell_type": "code",
   "execution_count": null,
   "metadata": {},
   "outputs": [],
   "source": [
    "mesc_res <- testLrt(obj3)\n",
    "head(mesc_res)"
   ]
  },
  {
   "cell_type": "code",
   "execution_count": null,
   "metadata": {},
   "outputs": [],
   "source": [
    "hist(mesc_res[all_comp_ctrls,]$pval)"
   ]
  },
  {
   "cell_type": "code",
   "execution_count": null,
   "metadata": {},
   "outputs": [],
   "source": [
    "hist(mesc_res[!all_comp_ctrls,]$pval)"
   ]
  },
  {
   "cell_type": "code",
   "execution_count": null,
   "metadata": {},
   "outputs": [],
   "source": [
    "write.table(mesc_res, file = \"../../../data/02__mpra/02__activs/mESC_cis_results.txt\", sep = \"\\t\",\n",
    "            quote = FALSE)"
   ]
  },
  {
   "cell_type": "markdown",
   "metadata": {},
   "source": [
    "## 7. run model to compare cells for human seq"
   ]
  },
  {
   "cell_type": "code",
   "execution_count": null,
   "metadata": {},
   "outputs": [],
   "source": [
    "# note 13 will change depending how many barcodes there are per element\n",
    "human_rna_cols$depth <- rep(rna_depths, each=13)"
   ]
  },
  {
   "cell_type": "code",
   "execution_count": null,
   "metadata": {},
   "outputs": [],
   "source": [
    "# create MPRA object\n",
    "obj4 <- MpraObject(dnaCounts = all_comp_dna_counts, rnaCounts = human_rna_counts, \n",
    "                   dnaAnnot = all_comp_dna_cols, rnaAnnot = human_rna_cols, controls = all_comp_ctrls,\n",
    "                   BPPARAM = SnowParam(workers=32,type=\"SOCK\"))"
   ]
  },
  {
   "cell_type": "code",
   "execution_count": null,
   "metadata": {},
   "outputs": [],
   "source": [
    "obj4 <- setDepthFactors(obj4, dnaDepth = all_comp_dna_cols$depth, rnaDepth = human_rna_cols$depth)"
   ]
  },
  {
   "cell_type": "code",
   "execution_count": null,
   "metadata": {},
   "outputs": [],
   "source": [
    "obj4 <- analyzeComparative(obj = obj4, \n",
    "                           dnaDesign = ~ barcode, \n",
    "                           rnaDesign = ~ condition, \n",
    "                           reducedDesign = ~ 1) "
   ]
  },
  {
   "cell_type": "code",
   "execution_count": null,
   "metadata": {},
   "outputs": [],
   "source": [
    "human_trans_res <- testLrt(obj4)\n",
    "head(human_trans_res)"
   ]
  },
  {
   "cell_type": "code",
   "execution_count": null,
   "metadata": {},
   "outputs": [],
   "source": [
    "hist(human_trans_res[all_comp_ctrls,]$pval)"
   ]
  },
  {
   "cell_type": "code",
   "execution_count": null,
   "metadata": {
    "scrolled": true
   },
   "outputs": [],
   "source": [
    "hist(human_trans_res[!all_comp_ctrls,]$pval)"
   ]
  },
  {
   "cell_type": "code",
   "execution_count": null,
   "metadata": {},
   "outputs": [],
   "source": [
    "write.table(human_trans_res, file = \"../../../data/02__mpra/02__activs/human_trans_results.txt\", sep = \"\\t\",\n",
    "            quote = FALSE)"
   ]
  },
  {
   "cell_type": "markdown",
   "metadata": {},
   "source": [
    "## 8. run model to compare cells for mouse seq"
   ]
  },
  {
   "cell_type": "code",
   "execution_count": null,
   "metadata": {},
   "outputs": [],
   "source": [
    "# note 13 will change depending how many barcodes there are per element\n",
    "mouse_rna_cols$depth <- rep(rna_depths, each=13)"
   ]
  },
  {
   "cell_type": "code",
   "execution_count": null,
   "metadata": {},
   "outputs": [],
   "source": [
    "# create MPRA object\n",
    "obj5 <- MpraObject(dnaCounts = all_comp_dna_counts, rnaCounts = mouse_rna_counts, \n",
    "                   dnaAnnot = all_comp_dna_cols, rnaAnnot = mouse_rna_cols, controls = all_comp_ctrls,\n",
    "                   BPPARAM = SnowParam(workers=32,type=\"SOCK\"))"
   ]
  },
  {
   "cell_type": "code",
   "execution_count": null,
   "metadata": {},
   "outputs": [],
   "source": [
    "obj5 <- setDepthFactors(obj5, dnaDepth = all_comp_dna_cols$depth, rnaDepth = mouse_rna_cols$depth)"
   ]
  },
  {
   "cell_type": "code",
   "execution_count": null,
   "metadata": {},
   "outputs": [],
   "source": [
    "obj5 <- analyzeComparative(obj = obj5, \n",
    "                           dnaDesign = ~ barcode, \n",
    "                           rnaDesign = ~ condition, \n",
    "                           reducedDesign = ~ 1) "
   ]
  },
  {
   "cell_type": "code",
   "execution_count": null,
   "metadata": {},
   "outputs": [],
   "source": [
    "mouse_trans_res <- testLrt(obj5)\n",
    "head(mouse_trans_res)"
   ]
  },
  {
   "cell_type": "code",
   "execution_count": null,
   "metadata": {},
   "outputs": [],
   "source": [
    "hist(mouse_trans_res[all_comp_ctrls,]$pval)"
   ]
  },
  {
   "cell_type": "code",
   "execution_count": null,
   "metadata": {},
   "outputs": [],
   "source": [
    "hist(mouse_trans_res[!all_comp_ctrls,]$pval)"
   ]
  },
  {
   "cell_type": "code",
   "execution_count": null,
   "metadata": {},
   "outputs": [],
   "source": [
    "write.table(mouse_trans_res, file = \"../../../data/02__mpra/02__activs/mouse_trans_results.txt\", sep = \"\\t\",\n",
    "            quote = FALSE)"
   ]
  },
  {
   "cell_type": "code",
   "execution_count": null,
   "metadata": {},
   "outputs": [],
   "source": []
  },
  {
   "cell_type": "code",
   "execution_count": null,
   "metadata": {},
   "outputs": [],
   "source": []
  }
 ],
 "metadata": {
  "kernelspec": {
   "display_name": "R [conda env:r-env]",
   "language": "R",
   "name": "conda-env-r-env-r"
  },
  "language_info": {
   "codemirror_mode": "r",
   "file_extension": ".r",
   "mimetype": "text/x-r-source",
   "name": "R",
   "pygments_lexer": "r",
   "version": "3.5.1"
  }
 },
 "nbformat": 4,
 "nbformat_minor": 2
}
